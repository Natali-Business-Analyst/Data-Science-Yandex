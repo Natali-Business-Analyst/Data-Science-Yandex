{
 "cells": [
  {
   "cell_type": "markdown",
   "metadata": {
    "toc": true
   },
   "source": [
    "\n",
    "# Оглавление\n",
    "\n",
    "— [Подготовка](#Подготовка)\n",
    "\n",
    "— [Анализ](#Анализ)\n",
    "\n",
    "— [Обучение](#Обучение)\n",
    "\n",
    "— [Тестирование](#Тестирование)\n",
    "\n",
    "— [Общий-вывод](#Общий-вывод)\n",
    "\n",
    "— [Чек-лист-проверки](#Чек-лист-проверки)\n"
   ]
  },
  {
   "cell_type": "markdown",
   "metadata": {},
   "source": [
    "#  Прогнозирование заказов такси"
   ]
  },
  {
   "cell_type": "markdown",
   "metadata": {},
   "source": [
    "Компания «Чётенькое такси» собрала исторические данные о заказах такси в аэропортах. Чтобы привлекать больше водителей в период пиковой нагрузки, нужно спрогнозировать количество заказов такси на следующий час. Постройте модель для такого предсказания.\n",
    "\n",
    "Значение метрики *RMSE* на тестовой выборке должно быть не больше 48.\n",
    "\n",
    "Вам нужно:\n",
    "\n",
    "1. Загрузить данные и выполнить их ресемплирование по одному часу.\n",
    "2. Проанализировать данные.\n",
    "3. Обучить разные модели с различными гиперпараметрами. Сделать тестовую выборку размером 10% от исходных данных.\n",
    "4. Проверить данные на тестовой выборке и сделать выводы.\n",
    "\n",
    "\n",
    "Данные лежат в файле `taxi.csv`. Количество заказов находится в столбце `num_orders` (от англ. *number of orders*, «число заказов»)."
   ]
  },
  {
   "cell_type": "markdown",
   "metadata": {},
   "source": [
    "## Подготовка"
   ]
  },
  {
   "cell_type": "code",
   "execution_count": 2,
   "metadata": {},
   "outputs": [],
   "source": [
    "import matplotlib.pyplot as plt\n",
    "import numpy as np\n",
    "import pandas as pd\n",
    "\n",
    "from catboost import CatBoostRegressor\n",
    "from sklearn.ensemble import RandomForestRegressor\n",
    "from sklearn.metrics import mean_squared_error\n",
    "from sklearn.model_selection import train_test_split\n",
    "from sklearn.linear_model import ElasticNetCV\n",
    "from sklearn.linear_model import LinearRegression\n",
    "from statsmodels.tsa.seasonal import seasonal_decompose"
   ]
  },
  {
   "cell_type": "code",
   "execution_count": 3,
   "metadata": {},
   "outputs": [],
   "source": [
    "data = pd.read_csv('/datasets/taxi.csv', index_col=[0], parse_dates=[0])"
   ]
  },
  {
   "cell_type": "code",
   "execution_count": 4,
   "metadata": {},
   "outputs": [],
   "source": [
    "data.sort_index(inplace=True)"
   ]
  },
  {
   "cell_type": "code",
   "execution_count": 5,
   "metadata": {},
   "outputs": [],
   "source": [
    "data = data.resample('1H').sum()"
   ]
  },
  {
   "cell_type": "code",
   "execution_count": 6,
   "metadata": {},
   "outputs": [
    {
     "data": {
      "text/html": [
       "<div>\n",
       "<style scoped>\n",
       "    .dataframe tbody tr th:only-of-type {\n",
       "        vertical-align: middle;\n",
       "    }\n",
       "\n",
       "    .dataframe tbody tr th {\n",
       "        vertical-align: top;\n",
       "    }\n",
       "\n",
       "    .dataframe thead th {\n",
       "        text-align: right;\n",
       "    }\n",
       "</style>\n",
       "<table border=\"1\" class=\"dataframe\">\n",
       "  <thead>\n",
       "    <tr style=\"text-align: right;\">\n",
       "      <th></th>\n",
       "      <th>num_orders</th>\n",
       "    </tr>\n",
       "    <tr>\n",
       "      <th>datetime</th>\n",
       "      <th></th>\n",
       "    </tr>\n",
       "  </thead>\n",
       "  <tbody>\n",
       "    <tr>\n",
       "      <th>2018-03-01 00:00:00</th>\n",
       "      <td>124</td>\n",
       "    </tr>\n",
       "    <tr>\n",
       "      <th>2018-03-01 01:00:00</th>\n",
       "      <td>85</td>\n",
       "    </tr>\n",
       "    <tr>\n",
       "      <th>2018-03-01 02:00:00</th>\n",
       "      <td>71</td>\n",
       "    </tr>\n",
       "    <tr>\n",
       "      <th>2018-03-01 03:00:00</th>\n",
       "      <td>66</td>\n",
       "    </tr>\n",
       "    <tr>\n",
       "      <th>2018-03-01 04:00:00</th>\n",
       "      <td>43</td>\n",
       "    </tr>\n",
       "    <tr>\n",
       "      <th>2018-03-01 05:00:00</th>\n",
       "      <td>6</td>\n",
       "    </tr>\n",
       "    <tr>\n",
       "      <th>2018-03-01 06:00:00</th>\n",
       "      <td>12</td>\n",
       "    </tr>\n",
       "    <tr>\n",
       "      <th>2018-03-01 07:00:00</th>\n",
       "      <td>15</td>\n",
       "    </tr>\n",
       "    <tr>\n",
       "      <th>2018-03-01 08:00:00</th>\n",
       "      <td>34</td>\n",
       "    </tr>\n",
       "    <tr>\n",
       "      <th>2018-03-01 09:00:00</th>\n",
       "      <td>69</td>\n",
       "    </tr>\n",
       "  </tbody>\n",
       "</table>\n",
       "</div>"
      ],
      "text/plain": [
       "                     num_orders\n",
       "datetime                       \n",
       "2018-03-01 00:00:00         124\n",
       "2018-03-01 01:00:00          85\n",
       "2018-03-01 02:00:00          71\n",
       "2018-03-01 03:00:00          66\n",
       "2018-03-01 04:00:00          43\n",
       "2018-03-01 05:00:00           6\n",
       "2018-03-01 06:00:00          12\n",
       "2018-03-01 07:00:00          15\n",
       "2018-03-01 08:00:00          34\n",
       "2018-03-01 09:00:00          69"
      ]
     },
     "execution_count": 6,
     "metadata": {},
     "output_type": "execute_result"
    }
   ],
   "source": [
    "data.head(10)"
   ]
  },
  {
   "cell_type": "markdown",
   "metadata": {},
   "source": [
    "## Анализ"
   ]
  },
  {
   "cell_type": "code",
   "execution_count": 7,
   "metadata": {},
   "outputs": [
    {
     "name": "stdout",
     "output_type": "stream",
     "text": [
      "<class 'pandas.core.frame.DataFrame'>\n",
      "DatetimeIndex: 4416 entries, 2018-03-01 00:00:00 to 2018-08-31 23:00:00\n",
      "Freq: H\n",
      "Data columns (total 1 columns):\n",
      " #   Column      Non-Null Count  Dtype\n",
      "---  ------      --------------  -----\n",
      " 0   num_orders  4416 non-null   int64\n",
      "dtypes: int64(1)\n",
      "memory usage: 69.0 KB\n"
     ]
    }
   ],
   "source": [
    "data.info()"
   ]
  },
  {
   "cell_type": "code",
   "execution_count": 8,
   "metadata": {},
   "outputs": [
    {
     "data": {
      "text/html": [
       "<div>\n",
       "<style scoped>\n",
       "    .dataframe tbody tr th:only-of-type {\n",
       "        vertical-align: middle;\n",
       "    }\n",
       "\n",
       "    .dataframe tbody tr th {\n",
       "        vertical-align: top;\n",
       "    }\n",
       "\n",
       "    .dataframe thead th {\n",
       "        text-align: right;\n",
       "    }\n",
       "</style>\n",
       "<table border=\"1\" class=\"dataframe\">\n",
       "  <thead>\n",
       "    <tr style=\"text-align: right;\">\n",
       "      <th></th>\n",
       "      <th>num_orders</th>\n",
       "    </tr>\n",
       "  </thead>\n",
       "  <tbody>\n",
       "    <tr>\n",
       "      <th>count</th>\n",
       "      <td>4416.000000</td>\n",
       "    </tr>\n",
       "    <tr>\n",
       "      <th>mean</th>\n",
       "      <td>84.422781</td>\n",
       "    </tr>\n",
       "    <tr>\n",
       "      <th>std</th>\n",
       "      <td>45.023853</td>\n",
       "    </tr>\n",
       "    <tr>\n",
       "      <th>min</th>\n",
       "      <td>0.000000</td>\n",
       "    </tr>\n",
       "    <tr>\n",
       "      <th>25%</th>\n",
       "      <td>54.000000</td>\n",
       "    </tr>\n",
       "    <tr>\n",
       "      <th>50%</th>\n",
       "      <td>78.000000</td>\n",
       "    </tr>\n",
       "    <tr>\n",
       "      <th>75%</th>\n",
       "      <td>107.000000</td>\n",
       "    </tr>\n",
       "    <tr>\n",
       "      <th>max</th>\n",
       "      <td>462.000000</td>\n",
       "    </tr>\n",
       "  </tbody>\n",
       "</table>\n",
       "</div>"
      ],
      "text/plain": [
       "        num_orders\n",
       "count  4416.000000\n",
       "mean     84.422781\n",
       "std      45.023853\n",
       "min       0.000000\n",
       "25%      54.000000\n",
       "50%      78.000000\n",
       "75%     107.000000\n",
       "max     462.000000"
      ]
     },
     "execution_count": 8,
     "metadata": {},
     "output_type": "execute_result"
    }
   ],
   "source": [
    "data.describe()"
   ]
  },
  {
   "cell_type": "markdown",
   "metadata": {},
   "source": [
    "Данные без пропусков и выбросов"
   ]
  },
  {
   "cell_type": "code",
   "execution_count": 9,
   "metadata": {},
   "outputs": [],
   "source": [
    "# Визуализируем исходные данные (с ресемплированием за день) и проверим на стационарность\n",
    "\n",
    "data_by_day = data.resample('1D').sum()"
   ]
  },
  {
   "cell_type": "code",
   "execution_count": 10,
   "metadata": {},
   "outputs": [
    {
     "data": {
      "image/png": "[encoded data removed]",
      "text/plain": [
       "<Figure size 432x288 with 1 Axes>"
      ]
     },
     "metadata": {
      "needs_background": "light"
     },
     "output_type": "display_data"
    }
   ],
   "source": [
    "data_by_day.plot(grid=True, legend=True)\n",
    "plt.title('Визуализация исходного ряда с ресемплированием за день')\n",
    "plt.xlabel('Временной интревал')\n",
    "plt.ylabel('Количество заказов')\n",
    "plt.show()"
   ]
  },
  {
   "cell_type": "markdown",
   "metadata": {},
   "source": [
    "График не стационарный, так как его значение среднего все время растет"
   ]
  },
  {
   "cell_type": "code",
   "execution_count": 11,
   "metadata": {},
   "outputs": [
    {
     "data": {
      "image/png": "[encoded data removed]",
      "text/plain": [
       "<Figure size 1080x720 with 3 Axes>"
      ]
     },
     "metadata": {
      "needs_background": "light"
     },
     "output_type": "display_data"
    }
   ],
   "source": [
    "decomposed = seasonal_decompose(data)\n",
    "\n",
    "plt.figure(figsize=(15, 10));\n",
    "plt.subplot(311)\n",
    "decomposed.seasonal.plot(ax=plt.gca()) \n",
    "plt.title('Сезонность')\n",
    "plt.xlabel('Временной интревал')\n",
    "plt.ylabel('Количество заказов')\n",
    "plt.subplot(312)\n",
    "decomposed.trend.plot(ax=plt.gca())\n",
    "plt.title('Тренд')\n",
    "plt.xlabel('Временной интревал')\n",
    "plt.ylabel('Количество заказов')\n",
    "plt.subplot(313)\n",
    "decomposed.resid.plot(ax=plt.gca()) \n",
    "plt.title('Остатки')\n",
    "plt.xlabel('Временной интревал')\n",
    "plt.ylabel('Количество заказов')\n",
    "plt.tight_layout()"
   ]
  },
  {
   "cell_type": "markdown",
   "metadata": {},
   "source": [
    "Тренд растет с каждым месяцем"
   ]
  },
  {
   "cell_type": "code",
   "execution_count": 12,
   "metadata": {
    "scrolled": false
   },
   "outputs": [
    {
     "data": {
      "image/png": "[encoded data removed]",
      "text/plain": [
       "<Figure size 720x576 with 1 Axes>"
      ]
     },
     "metadata": {
      "needs_background": "light"
     },
     "output_type": "display_data"
    }
   ],
   "source": [
    "# посмотрим график сезонной составляющей за первые 15 дней марта\n",
    "\n",
    "plt.figure(figsize=(10, 8))\n",
    "decomposed.seasonal['2018-03-01' : '2018-03-15'].plot(ax=plt.gca())\n",
    "plt.title('Сезонность за первые 15 дней марта')\n",
    "plt.xlabel(\"Дни\")\n",
    "plt.ylabel('Количество заказов')\n",
    "plt.grid(True)\n",
    "plt.show()"
   ]
  },
  {
   "cell_type": "code",
   "execution_count": 13,
   "metadata": {},
   "outputs": [
    {
     "data": {
      "image/png": "[encoded data removed]",
      "text/plain": [
       "<Figure size 720x576 with 1 Axes>"
      ]
     },
     "metadata": {
      "needs_background": "light"
     },
     "output_type": "display_data"
    }
   ],
   "source": [
    "# график сезонной составляющей за сутки\n",
    "\n",
    "plt.figure(figsize=(10, 8))\n",
    "\n",
    "decomposed.seasonal['2018-03-01' : '2018-03-01'].plot(ax=plt.gca())\n",
    "\n",
    "plt.title('Сезонность за сутки')\n",
    "plt.xlabel(\"Часы\")\n",
    "plt.ylabel('Количество заказов')\n",
    "plt.grid(True)\n",
    "plt.show()"
   ]
  },
  {
   "cell_type": "markdown",
   "metadata": {},
   "source": [
    "Пики активности: 00.00, 2.00, 10.00, 16.00"
   ]
  },
  {
   "cell_type": "code",
   "execution_count": 38,
   "metadata": {},
   "outputs": [
    {
     "data": {
      "image/png": "[encoded data removed]",
      "text/plain": [
       "<Figure size 864x432 with 1 Axes>"
      ]
     },
     "metadata": {
      "needs_background": "light"
     },
     "output_type": "display_data"
    }
   ],
   "source": [
    "#code review\n",
    "plt.figure(figsize=(12, 6))\n",
    "\n",
    "s = decomposed.seasonal['2018-03-01' : '2018-03-01']\n",
    "s.plot(ax=plt.gca())\n",
    "\n",
    "plt.title('Сезонность за сутки')\n",
    "plt.xlabel(\"Часы\")\n",
    "plt.ylabel('Количество заказов')\n",
    "\n",
    "# Получаем текущие отметки и подписи по оси Х\n",
    "locs, labels = plt.xticks()\n",
    "\n",
    "# формируем новые подписи\n",
    "plt.xticks(np.linspace(locs[0], locs[1], len(s)), [d.strftime('%H:00') for d in s.index], rotation=45, fontsize=12)\n",
    "\n",
    "plt.grid(True)\n",
    "plt.show()"
   ]
  },
  {
   "cell_type": "markdown",
   "metadata": {},
   "source": [
    "### Вывод\n",
    "\n",
    "- Данные без пропусков и аномалий\n",
    "- Исходные данные визуализированы. График стремится вверх, делаю вывод, что он не стационарный, так как его среднее значение все время растет.\n",
    "- Реализована сезонная декомпозиция: Тренд у нас связан с каждым месяцем, сезонность сложно оценить, так как рост спроса на такси только растет и данных слишком мало. Спрос растет по вторникам и пятницам.\n",
    "- Визуализирована декомпозиция за сутки. Пики активности: 00.00, 2.00, 10.00, 16.00"
   ]
  },
  {
   "cell_type": "markdown",
   "metadata": {},
   "source": [
    "## Обучение"
   ]
  },
  {
   "cell_type": "code",
   "execution_count": 21,
   "metadata": {},
   "outputs": [],
   "source": [
    "# Создадим признаки для горизонта прогнозирования\n",
    "\n",
    "def make_features(data, max_lag, rolling_mean_size):\n",
    "    data['hour'] = data.index.hour\n",
    "    data['day'] = data.index.day\n",
    "    data['dayofweek'] = data.index.dayofweek\n",
    "    \n",
    "    for lag in range(1, max_lag + 1):\n",
    "        data['lag_{}'.format(lag)] = data['num_orders'].shift(lag)\n",
    "\n",
    "    data['rolling_mean'] = data['num_orders'].shift().rolling(rolling_mean_size).mean()\n",
    "    "
   ]
  },
  {
   "cell_type": "code",
   "execution_count": 22,
   "metadata": {},
   "outputs": [],
   "source": [
    "make_features(data, 20, 20)"
   ]
  },
  {
   "cell_type": "code",
   "execution_count": 23,
   "metadata": {},
   "outputs": [
    {
     "data": {
      "text/html": [
       "<div>\n",
       "<style scoped>\n",
       "    .dataframe tbody tr th:only-of-type {\n",
       "        vertical-align: middle;\n",
       "    }\n",
       "\n",
       "    .dataframe tbody tr th {\n",
       "        vertical-align: top;\n",
       "    }\n",
       "\n",
       "    .dataframe thead th {\n",
       "        text-align: right;\n",
       "    }\n",
       "</style>\n",
       "<table border=\"1\" class=\"dataframe\">\n",
       "  <thead>\n",
       "    <tr style=\"text-align: right;\">\n",
       "      <th></th>\n",
       "      <th>num_orders</th>\n",
       "      <th>hour</th>\n",
       "      <th>day</th>\n",
       "      <th>dayofweek</th>\n",
       "      <th>lag_1</th>\n",
       "      <th>lag_2</th>\n",
       "      <th>lag_3</th>\n",
       "      <th>lag_4</th>\n",
       "      <th>lag_5</th>\n",
       "      <th>lag_6</th>\n",
       "      <th>...</th>\n",
       "      <th>lag_12</th>\n",
       "      <th>lag_13</th>\n",
       "      <th>lag_14</th>\n",
       "      <th>lag_15</th>\n",
       "      <th>lag_16</th>\n",
       "      <th>lag_17</th>\n",
       "      <th>lag_18</th>\n",
       "      <th>lag_19</th>\n",
       "      <th>lag_20</th>\n",
       "      <th>rolling_mean</th>\n",
       "    </tr>\n",
       "    <tr>\n",
       "      <th>datetime</th>\n",
       "      <th></th>\n",
       "      <th></th>\n",
       "      <th></th>\n",
       "      <th></th>\n",
       "      <th></th>\n",
       "      <th></th>\n",
       "      <th></th>\n",
       "      <th></th>\n",
       "      <th></th>\n",
       "      <th></th>\n",
       "      <th></th>\n",
       "      <th></th>\n",
       "      <th></th>\n",
       "      <th></th>\n",
       "      <th></th>\n",
       "      <th></th>\n",
       "      <th></th>\n",
       "      <th></th>\n",
       "      <th></th>\n",
       "      <th></th>\n",
       "      <th></th>\n",
       "    </tr>\n",
       "  </thead>\n",
       "  <tbody>\n",
       "    <tr>\n",
       "      <th>2018-03-01 00:00:00</th>\n",
       "      <td>124</td>\n",
       "      <td>0</td>\n",
       "      <td>1</td>\n",
       "      <td>3</td>\n",
       "      <td>NaN</td>\n",
       "      <td>NaN</td>\n",
       "      <td>NaN</td>\n",
       "      <td>NaN</td>\n",
       "      <td>NaN</td>\n",
       "      <td>NaN</td>\n",
       "      <td>...</td>\n",
       "      <td>NaN</td>\n",
       "      <td>NaN</td>\n",
       "      <td>NaN</td>\n",
       "      <td>NaN</td>\n",
       "      <td>NaN</td>\n",
       "      <td>NaN</td>\n",
       "      <td>NaN</td>\n",
       "      <td>NaN</td>\n",
       "      <td>NaN</td>\n",
       "      <td>NaN</td>\n",
       "    </tr>\n",
       "    <tr>\n",
       "      <th>2018-03-01 01:00:00</th>\n",
       "      <td>85</td>\n",
       "      <td>1</td>\n",
       "      <td>1</td>\n",
       "      <td>3</td>\n",
       "      <td>124.0</td>\n",
       "      <td>NaN</td>\n",
       "      <td>NaN</td>\n",
       "      <td>NaN</td>\n",
       "      <td>NaN</td>\n",
       "      <td>NaN</td>\n",
       "      <td>...</td>\n",
       "      <td>NaN</td>\n",
       "      <td>NaN</td>\n",
       "      <td>NaN</td>\n",
       "      <td>NaN</td>\n",
       "      <td>NaN</td>\n",
       "      <td>NaN</td>\n",
       "      <td>NaN</td>\n",
       "      <td>NaN</td>\n",
       "      <td>NaN</td>\n",
       "      <td>NaN</td>\n",
       "    </tr>\n",
       "    <tr>\n",
       "      <th>2018-03-01 02:00:00</th>\n",
       "      <td>71</td>\n",
       "      <td>2</td>\n",
       "      <td>1</td>\n",
       "      <td>3</td>\n",
       "      <td>85.0</td>\n",
       "      <td>124.0</td>\n",
       "      <td>NaN</td>\n",
       "      <td>NaN</td>\n",
       "      <td>NaN</td>\n",
       "      <td>NaN</td>\n",
       "      <td>...</td>\n",
       "      <td>NaN</td>\n",
       "      <td>NaN</td>\n",
       "      <td>NaN</td>\n",
       "      <td>NaN</td>\n",
       "      <td>NaN</td>\n",
       "      <td>NaN</td>\n",
       "      <td>NaN</td>\n",
       "      <td>NaN</td>\n",
       "      <td>NaN</td>\n",
       "      <td>NaN</td>\n",
       "    </tr>\n",
       "    <tr>\n",
       "      <th>2018-03-01 03:00:00</th>\n",
       "      <td>66</td>\n",
       "      <td>3</td>\n",
       "      <td>1</td>\n",
       "      <td>3</td>\n",
       "      <td>71.0</td>\n",
       "      <td>85.0</td>\n",
       "      <td>124.0</td>\n",
       "      <td>NaN</td>\n",
       "      <td>NaN</td>\n",
       "      <td>NaN</td>\n",
       "      <td>...</td>\n",
       "      <td>NaN</td>\n",
       "      <td>NaN</td>\n",
       "      <td>NaN</td>\n",
       "      <td>NaN</td>\n",
       "      <td>NaN</td>\n",
       "      <td>NaN</td>\n",
       "      <td>NaN</td>\n",
       "      <td>NaN</td>\n",
       "      <td>NaN</td>\n",
       "      <td>NaN</td>\n",
       "    </tr>\n",
       "    <tr>\n",
       "      <th>2018-03-01 04:00:00</th>\n",
       "      <td>43</td>\n",
       "      <td>4</td>\n",
       "      <td>1</td>\n",
       "      <td>3</td>\n",
       "      <td>66.0</td>\n",
       "      <td>71.0</td>\n",
       "      <td>85.0</td>\n",
       "      <td>124.0</td>\n",
       "      <td>NaN</td>\n",
       "      <td>NaN</td>\n",
       "      <td>...</td>\n",
       "      <td>NaN</td>\n",
       "      <td>NaN</td>\n",
       "      <td>NaN</td>\n",
       "      <td>NaN</td>\n",
       "      <td>NaN</td>\n",
       "      <td>NaN</td>\n",
       "      <td>NaN</td>\n",
       "      <td>NaN</td>\n",
       "      <td>NaN</td>\n",
       "      <td>NaN</td>\n",
       "    </tr>\n",
       "    <tr>\n",
       "      <th>2018-03-01 05:00:00</th>\n",
       "      <td>6</td>\n",
       "      <td>5</td>\n",
       "      <td>1</td>\n",
       "      <td>3</td>\n",
       "      <td>43.0</td>\n",
       "      <td>66.0</td>\n",
       "      <td>71.0</td>\n",
       "      <td>85.0</td>\n",
       "      <td>124.0</td>\n",
       "      <td>NaN</td>\n",
       "      <td>...</td>\n",
       "      <td>NaN</td>\n",
       "      <td>NaN</td>\n",
       "      <td>NaN</td>\n",
       "      <td>NaN</td>\n",
       "      <td>NaN</td>\n",
       "      <td>NaN</td>\n",
       "      <td>NaN</td>\n",
       "      <td>NaN</td>\n",
       "      <td>NaN</td>\n",
       "      <td>NaN</td>\n",
       "    </tr>\n",
       "    <tr>\n",
       "      <th>2018-03-01 06:00:00</th>\n",
       "      <td>12</td>\n",
       "      <td>6</td>\n",
       "      <td>1</td>\n",
       "      <td>3</td>\n",
       "      <td>6.0</td>\n",
       "      <td>43.0</td>\n",
       "      <td>66.0</td>\n",
       "      <td>71.0</td>\n",
       "      <td>85.0</td>\n",
       "      <td>124.0</td>\n",
       "      <td>...</td>\n",
       "      <td>NaN</td>\n",
       "      <td>NaN</td>\n",
       "      <td>NaN</td>\n",
       "      <td>NaN</td>\n",
       "      <td>NaN</td>\n",
       "      <td>NaN</td>\n",
       "      <td>NaN</td>\n",
       "      <td>NaN</td>\n",
       "      <td>NaN</td>\n",
       "      <td>NaN</td>\n",
       "    </tr>\n",
       "    <tr>\n",
       "      <th>2018-03-01 07:00:00</th>\n",
       "      <td>15</td>\n",
       "      <td>7</td>\n",
       "      <td>1</td>\n",
       "      <td>3</td>\n",
       "      <td>12.0</td>\n",
       "      <td>6.0</td>\n",
       "      <td>43.0</td>\n",
       "      <td>66.0</td>\n",
       "      <td>71.0</td>\n",
       "      <td>85.0</td>\n",
       "      <td>...</td>\n",
       "      <td>NaN</td>\n",
       "      <td>NaN</td>\n",
       "      <td>NaN</td>\n",
       "      <td>NaN</td>\n",
       "      <td>NaN</td>\n",
       "      <td>NaN</td>\n",
       "      <td>NaN</td>\n",
       "      <td>NaN</td>\n",
       "      <td>NaN</td>\n",
       "      <td>NaN</td>\n",
       "    </tr>\n",
       "    <tr>\n",
       "      <th>2018-03-01 08:00:00</th>\n",
       "      <td>34</td>\n",
       "      <td>8</td>\n",
       "      <td>1</td>\n",
       "      <td>3</td>\n",
       "      <td>15.0</td>\n",
       "      <td>12.0</td>\n",
       "      <td>6.0</td>\n",
       "      <td>43.0</td>\n",
       "      <td>66.0</td>\n",
       "      <td>71.0</td>\n",
       "      <td>...</td>\n",
       "      <td>NaN</td>\n",
       "      <td>NaN</td>\n",
       "      <td>NaN</td>\n",
       "      <td>NaN</td>\n",
       "      <td>NaN</td>\n",
       "      <td>NaN</td>\n",
       "      <td>NaN</td>\n",
       "      <td>NaN</td>\n",
       "      <td>NaN</td>\n",
       "      <td>NaN</td>\n",
       "    </tr>\n",
       "    <tr>\n",
       "      <th>2018-03-01 09:00:00</th>\n",
       "      <td>69</td>\n",
       "      <td>9</td>\n",
       "      <td>1</td>\n",
       "      <td>3</td>\n",
       "      <td>34.0</td>\n",
       "      <td>15.0</td>\n",
       "      <td>12.0</td>\n",
       "      <td>6.0</td>\n",
       "      <td>43.0</td>\n",
       "      <td>66.0</td>\n",
       "      <td>...</td>\n",
       "      <td>NaN</td>\n",
       "      <td>NaN</td>\n",
       "      <td>NaN</td>\n",
       "      <td>NaN</td>\n",
       "      <td>NaN</td>\n",
       "      <td>NaN</td>\n",
       "      <td>NaN</td>\n",
       "      <td>NaN</td>\n",
       "      <td>NaN</td>\n",
       "      <td>NaN</td>\n",
       "    </tr>\n",
       "  </tbody>\n",
       "</table>\n",
       "<p>10 rows × 25 columns</p>\n",
       "</div>"
      ],
      "text/plain": [
       "                     num_orders  hour  day  dayofweek  lag_1  lag_2  lag_3  \\\n",
       "datetime                                                                     \n",
       "2018-03-01 00:00:00         124     0    1          3    NaN    NaN    NaN   \n",
       "2018-03-01 01:00:00          85     1    1          3  124.0    NaN    NaN   \n",
       "2018-03-01 02:00:00          71     2    1          3   85.0  124.0    NaN   \n",
       "2018-03-01 03:00:00          66     3    1          3   71.0   85.0  124.0   \n",
       "2018-03-01 04:00:00          43     4    1          3   66.0   71.0   85.0   \n",
       "2018-03-01 05:00:00           6     5    1          3   43.0   66.0   71.0   \n",
       "2018-03-01 06:00:00          12     6    1          3    6.0   43.0   66.0   \n",
       "2018-03-01 07:00:00          15     7    1          3   12.0    6.0   43.0   \n",
       "2018-03-01 08:00:00          34     8    1          3   15.0   12.0    6.0   \n",
       "2018-03-01 09:00:00          69     9    1          3   34.0   15.0   12.0   \n",
       "\n",
       "                     lag_4  lag_5  lag_6  ...  lag_12  lag_13  lag_14  lag_15  \\\n",
       "datetime                                  ...                                   \n",
       "2018-03-01 00:00:00    NaN    NaN    NaN  ...     NaN     NaN     NaN     NaN   \n",
       "2018-03-01 01:00:00    NaN    NaN    NaN  ...     NaN     NaN     NaN     NaN   \n",
       "2018-03-01 02:00:00    NaN    NaN    NaN  ...     NaN     NaN     NaN     NaN   \n",
       "2018-03-01 03:00:00    NaN    NaN    NaN  ...     NaN     NaN     NaN     NaN   \n",
       "2018-03-01 04:00:00  124.0    NaN    NaN  ...     NaN     NaN     NaN     NaN   \n",
       "2018-03-01 05:00:00   85.0  124.0    NaN  ...     NaN     NaN     NaN     NaN   \n",
       "2018-03-01 06:00:00   71.0   85.0  124.0  ...     NaN     NaN     NaN     NaN   \n",
       "2018-03-01 07:00:00   66.0   71.0   85.0  ...     NaN     NaN     NaN     NaN   \n",
       "2018-03-01 08:00:00   43.0   66.0   71.0  ...     NaN     NaN     NaN     NaN   \n",
       "2018-03-01 09:00:00    6.0   43.0   66.0  ...     NaN     NaN     NaN     NaN   \n",
       "\n",
       "                     lag_16  lag_17  lag_18  lag_19  lag_20  rolling_mean  \n",
       "datetime                                                                   \n",
       "2018-03-01 00:00:00     NaN     NaN     NaN     NaN     NaN           NaN  \n",
       "2018-03-01 01:00:00     NaN     NaN     NaN     NaN     NaN           NaN  \n",
       "2018-03-01 02:00:00     NaN     NaN     NaN     NaN     NaN           NaN  \n",
       "2018-03-01 03:00:00     NaN     NaN     NaN     NaN     NaN           NaN  \n",
       "2018-03-01 04:00:00     NaN     NaN     NaN     NaN     NaN           NaN  \n",
       "2018-03-01 05:00:00     NaN     NaN     NaN     NaN     NaN           NaN  \n",
       "2018-03-01 06:00:00     NaN     NaN     NaN     NaN     NaN           NaN  \n",
       "2018-03-01 07:00:00     NaN     NaN     NaN     NaN     NaN           NaN  \n",
       "2018-03-01 08:00:00     NaN     NaN     NaN     NaN     NaN           NaN  \n",
       "2018-03-01 09:00:00     NaN     NaN     NaN     NaN     NaN           NaN  \n",
       "\n",
       "[10 rows x 25 columns]"
      ]
     },
     "execution_count": 23,
     "metadata": {},
     "output_type": "execute_result"
    }
   ],
   "source": [
    "data.head(10)"
   ]
  },
  {
   "cell_type": "markdown",
   "metadata": {},
   "source": [
    "###  Делим на выборки\n"
   ]
  },
  {
   "cell_type": "code",
   "execution_count": 24,
   "metadata": {},
   "outputs": [],
   "source": [
    "train, test = train_test_split(data, shuffle=False, test_size=0.2)\n",
    "valid, test = train_test_split(test, shuffle=False, test_size=0.5)\n",
    "train = train.dropna()\n",
    "\n",
    "features_train = train.drop(['num_orders'] , axis=1)\n",
    "features_valid = valid.drop(['num_orders'] , axis=1)\n",
    "features_test = test.drop(['num_orders'] , axis=1)\n",
    "\n",
    "target_train = train['num_orders']\n",
    "target_valid = valid['num_orders']\n",
    "target_test = test['num_orders']"
   ]
  },
  {
   "cell_type": "code",
   "execution_count": 25,
   "metadata": {},
   "outputs": [
    {
     "data": {
      "text/plain": [
       "(3512, 25)"
      ]
     },
     "execution_count": 25,
     "metadata": {},
     "output_type": "execute_result"
    }
   ],
   "source": [
    "train.shape"
   ]
  },
  {
   "cell_type": "code",
   "execution_count": 26,
   "metadata": {},
   "outputs": [
    {
     "data": {
      "text/plain": [
       "(442, 25)"
      ]
     },
     "execution_count": 26,
     "metadata": {},
     "output_type": "execute_result"
    }
   ],
   "source": [
    "valid.shape"
   ]
  },
  {
   "cell_type": "code",
   "execution_count": 27,
   "metadata": {},
   "outputs": [
    {
     "data": {
      "text/plain": [
       "(442, 25)"
      ]
     },
     "execution_count": 27,
     "metadata": {},
     "output_type": "execute_result"
    }
   ],
   "source": [
    "test.shape"
   ]
  },
  {
   "cell_type": "code",
   "execution_count": 28,
   "metadata": {},
   "outputs": [],
   "source": [
    "# функция подбора гиперпараметров моделей\n",
    "\n",
    "def select_best_params_for_models(model_container, features_train, target_train, features_valid, target_valid, **kwargs):\n",
    "    rmse, max_num  = [], []\n",
    "\n",
    "    for num in range(10, 201, 10):\n",
    "        model = model_container(num)\n",
    "        model.fit(features_train, target_train, **kwargs)\n",
    "        target_predict = model.predict(features_valid)\n",
    "\n",
    "        max_num.append(num)\n",
    "        rmse.append(mean_squared_error(target_valid, target_predict)**0.5)\n",
    "\n",
    "        print(\"max_quantity =\", num, \": \", rmse[-1])\n",
    "    return rmse, max_num"
   ]
  },
  {
   "cell_type": "markdown",
   "metadata": {},
   "source": [
    "###  ElasticNet "
   ]
  },
  {
   "cell_type": "code",
   "execution_count": 29,
   "metadata": {},
   "outputs": [],
   "source": [
    "elastic_model = ElasticNetCV(l1_ratio=[0.1, 0.5, 0.7, 0.9, 0.95, 0.99, 1],cv=5, max_iter=100000)"
   ]
  },
  {
   "cell_type": "code",
   "execution_count": 30,
   "metadata": {},
   "outputs": [
    {
     "data": {
      "text/plain": [
       "ElasticNetCV(cv=5, l1_ratio=[0.1, 0.5, 0.7, 0.9, 0.95, 0.99, 1],\n",
       "             max_iter=100000)"
      ]
     },
     "execution_count": 30,
     "metadata": {},
     "output_type": "execute_result"
    }
   ],
   "source": [
    "elastic_model.fit(features_train, target_train)"
   ]
  },
  {
   "cell_type": "code",
   "execution_count": 31,
   "metadata": {},
   "outputs": [],
   "source": [
    "y_pred_elastic = elastic_model.predict(features_valid)"
   ]
  },
  {
   "cell_type": "code",
   "execution_count": 32,
   "metadata": {},
   "outputs": [],
   "source": [
    "rmse_elastic = mean_squared_error(target_valid, y_pred_elastic)**0.5"
   ]
  },
  {
   "cell_type": "code",
   "execution_count": 33,
   "metadata": {},
   "outputs": [
    {
     "data": {
      "text/plain": [
       "40.52214346426268"
      ]
     },
     "execution_count": 33,
     "metadata": {},
     "output_type": "execute_result"
    }
   ],
   "source": [
    "rmse_elastic"
   ]
  },
  {
   "cell_type": "markdown",
   "metadata": {},
   "source": [
    "###  Случайный лес"
   ]
  },
  {
   "cell_type": "code",
   "execution_count": 34,
   "metadata": {},
   "outputs": [
    {
     "name": "stdout",
     "output_type": "stream",
     "text": [
      "max_quantity = 10 :  33.183999238034346\n",
      "max_quantity = 20 :  32.67020571757942\n",
      "max_quantity = 30 :  32.194900784142106\n",
      "max_quantity = 40 :  31.847186805265896\n",
      "max_quantity = 50 :  31.656652135600016\n",
      "max_quantity = 60 :  31.698030114222743\n",
      "max_quantity = 70 :  31.60707239811151\n",
      "max_quantity = 80 :  31.54971684035291\n",
      "max_quantity = 90 :  31.61678532777928\n",
      "max_quantity = 100 :  31.61067844661363\n",
      "max_quantity = 110 :  31.654698589379873\n",
      "max_quantity = 120 :  31.58479184689706\n",
      "max_quantity = 130 :  31.541179437277222\n",
      "max_quantity = 140 :  31.57893037659445\n",
      "max_quantity = 150 :  31.527710599503628\n",
      "max_quantity = 160 :  31.580632835342048\n",
      "max_quantity = 170 :  31.550408806969422\n",
      "max_quantity = 180 :  31.52372985488907\n",
      "max_quantity = 190 :  31.57312657217722\n",
      "max_quantity = 200 :  31.564820696458064\n"
     ]
    }
   ],
   "source": [
    "select_best_params_for_models(\n",
    "    lambda num: RandomForestRegressor(\n",
    "        n_estimators=num,\n",
    "        max_depth=None, \n",
    "        random_state=12345\n",
    "    ),\n",
    "    features_train, \n",
    "    target_train, \n",
    "    features_valid, \n",
    "    target_valid\n",
    ");"
   ]
  },
  {
   "cell_type": "code",
   "execution_count": 35,
   "metadata": {},
   "outputs": [
    {
     "data": {
      "text/plain": [
       "RandomForestRegressor(n_estimators=150, random_state=12345)"
      ]
     },
     "execution_count": 35,
     "metadata": {},
     "output_type": "execute_result"
    }
   ],
   "source": [
    "random_forest = RandomForestRegressor(\n",
    "        n_estimators=150,\n",
    "        max_depth=None, \n",
    "        random_state=12345\n",
    "    )\n",
    "random_forest.fit(features_train, target_train)"
   ]
  },
  {
   "cell_type": "code",
   "execution_count": 36,
   "metadata": {},
   "outputs": [],
   "source": [
    "target_predict = random_forest.predict(features_valid)"
   ]
  },
  {
   "cell_type": "code",
   "execution_count": 37,
   "metadata": {},
   "outputs": [],
   "source": [
    "rmse_random_forest = mean_squared_error(target_valid, target_predict)**0.5"
   ]
  },
  {
   "cell_type": "code",
   "execution_count": 38,
   "metadata": {},
   "outputs": [
    {
     "data": {
      "text/plain": [
       "31.527710599503628"
      ]
     },
     "execution_count": 38,
     "metadata": {},
     "output_type": "execute_result"
    }
   ],
   "source": [
    "rmse_random_forest"
   ]
  },
  {
   "cell_type": "markdown",
   "metadata": {},
   "source": [
    "###  Cat Boost"
   ]
  },
  {
   "cell_type": "code",
   "execution_count": 39,
   "metadata": {},
   "outputs": [
    {
     "name": "stdout",
     "output_type": "stream",
     "text": [
      "max_quantity = 10 :  34.21450646689077\n",
      "max_quantity = 20 :  32.868799540318825\n",
      "max_quantity = 30 :  32.672682345304324\n",
      "max_quantity = 40 :  32.19292714656223\n",
      "max_quantity = 50 :  32.768510874109715\n",
      "max_quantity = 60 :  32.408446334372265\n",
      "max_quantity = 70 :  31.97806232071821\n",
      "max_quantity = 80 :  32.561048962161095\n",
      "max_quantity = 90 :  32.61772372847971\n",
      "max_quantity = 100 :  32.12963051780795\n",
      "max_quantity = 110 :  32.97317550076661\n",
      "max_quantity = 120 :  31.50820074213783\n",
      "max_quantity = 130 :  31.50471193244499\n",
      "max_quantity = 140 :  31.966993338690582\n",
      "max_quantity = 150 :  31.334054443302264\n",
      "max_quantity = 160 :  30.40593161992231\n",
      "max_quantity = 170 :  30.936610500647127\n",
      "max_quantity = 180 :  31.42958313169012\n",
      "max_quantity = 190 :  31.577211706928857\n",
      "max_quantity = 200 :  31.32493545562685\n"
     ]
    }
   ],
   "source": [
    "select_best_params_for_models(\n",
    "    lambda num: CatBoostRegressor(loss_function=\"RMSE\", iterations=num),\n",
    "    features_train, \n",
    "    target_train, \n",
    "    features_valid, \n",
    "    target_valid,\n",
    "    verbose=False\n",
    ");"
   ]
  },
  {
   "cell_type": "code",
   "execution_count": 40,
   "metadata": {
    "scrolled": true
   },
   "outputs": [
    {
     "data": {
      "text/plain": [
       "<catboost.core.CatBoostRegressor at 0x7f06ac4341f0>"
      ]
     },
     "execution_count": 40,
     "metadata": {},
     "output_type": "execute_result"
    }
   ],
   "source": [
    "cat = CatBoostRegressor(loss_function=\"RMSE\", iterations=160, verbose=0)\n",
    "cat.fit(features_train, target_train)"
   ]
  },
  {
   "cell_type": "code",
   "execution_count": 41,
   "metadata": {},
   "outputs": [],
   "source": [
    "target_predict = cat.predict(features_valid)"
   ]
  },
  {
   "cell_type": "code",
   "execution_count": 42,
   "metadata": {},
   "outputs": [],
   "source": [
    "rmse_cat = mean_squared_error(target_valid, target_predict)**0.5"
   ]
  },
  {
   "cell_type": "code",
   "execution_count": 43,
   "metadata": {},
   "outputs": [
    {
     "data": {
      "text/plain": [
       "30.40593161992231"
      ]
     },
     "execution_count": 43,
     "metadata": {},
     "output_type": "execute_result"
    }
   ],
   "source": [
    "rmse_cat"
   ]
  },
  {
   "cell_type": "markdown",
   "metadata": {},
   "source": [
    "### Вывод\n",
    "\n",
    "Все модели получили значение rmse меньше 48"
   ]
  },
  {
   "cell_type": "markdown",
   "metadata": {},
   "source": [
    "## Тестирование"
   ]
  },
  {
   "cell_type": "markdown",
   "metadata": {},
   "source": [
    "###  Cat Boost"
   ]
  },
  {
   "cell_type": "code",
   "execution_count": 44,
   "metadata": {},
   "outputs": [],
   "source": [
    "features_trainvalid = pd.concat([features_train, features_valid])\n",
    "target_trainvalid = pd.concat([target_train, target_valid])"
   ]
  },
  {
   "cell_type": "code",
   "execution_count": 45,
   "metadata": {
    "scrolled": true
   },
   "outputs": [
    {
     "data": {
      "text/plain": [
       "<catboost.core.CatBoostRegressor at 0x7f06ac440fa0>"
      ]
     },
     "execution_count": 45,
     "metadata": {},
     "output_type": "execute_result"
    }
   ],
   "source": [
    "cat = CatBoostRegressor(loss_function=\"RMSE\", iterations=160, verbose=0)\n",
    "cat.fit(features_trainvalid, target_trainvalid)"
   ]
  },
  {
   "cell_type": "code",
   "execution_count": 46,
   "metadata": {},
   "outputs": [],
   "source": [
    "target_predict = cat.predict(features_test)"
   ]
  },
  {
   "cell_type": "code",
   "execution_count": 47,
   "metadata": {},
   "outputs": [],
   "source": [
    "rmse_cat = mean_squared_error(target_test, target_predict)**0.5"
   ]
  },
  {
   "cell_type": "code",
   "execution_count": 48,
   "metadata": {},
   "outputs": [
    {
     "data": {
      "text/plain": [
       "45.29891024048083"
      ]
     },
     "execution_count": 48,
     "metadata": {},
     "output_type": "execute_result"
    }
   ],
   "source": [
    "rmse_cat"
   ]
  },
  {
   "cell_type": "code",
   "execution_count": 49,
   "metadata": {
    "scrolled": false
   },
   "outputs": [
    {
     "data": {
      "image/png": "[encoded data removed]",
      "text/plain": [
       "<Figure size 1152x360 with 1 Axes>"
      ]
     },
     "metadata": {
      "needs_background": "light"
     },
     "output_type": "display_data"
    }
   ],
   "source": [
    "# визуализируем прогноз лучшей модели на тестовой выборке - график прогноз-факт\n",
    "\n",
    "predictions_plot = pd.Series(data = target_predict, name = 'прогноз', index = features_test.index)\n",
    "\n",
    "target_test.plot(figsize=(16,5), grid=True, legend=True)\n",
    "predictions_plot.plot(grid=True, legend=True)\n",
    "plt.title('Сравнение прогноза с реальными данными')\n",
    "plt.xlabel('Временной интревал')\n",
    "plt.ylabel('Количество заказов')\n",
    "plt.show()"
   ]
  },
  {
   "cell_type": "markdown",
   "metadata": {},
   "source": [
    "### Вывод\n",
    "\n",
    "- Cat Boost показала результат - 45.2.\n",
    "- Прогноз не особо отстает от реальных данных"
   ]
  },
  {
   "cell_type": "markdown",
   "metadata": {},
   "source": [
    "## Общий вывод\n",
    "\n",
    "- Данные подготовлены и проанализиованы. Пропусков и выбросов не оказалось.\n",
    "\n",
    "- Выбраны и обучены 3 модели: ElasticNet, Случайный лес и Cat Boost. На валидационной выборке все модели показали результат в пределах 48. Cat Boost показала лучший резульат.\n",
    "\n",
    "- Протестирована лучшая модель Cat Boost. Результат на тесте 45.2\n",
    "\n",
    "- Построен график прогноз-факт, где прогноз не особо отстает от реальных данных"
   ]
  },
  {
   "cell_type": "markdown",
   "metadata": {},
   "source": [
    "## Чек-лист проверки"
   ]
  },
  {
   "cell_type": "markdown",
   "metadata": {},
   "source": [
    "- [x]  Jupyter Notebook открыт\n",
    "- [x]  Весь код выполняется без ошибок\n",
    "- [x]  Ячейки с кодом расположены в порядке исполнения\n",
    "- [x]  Данные загружены и подготовлены\n",
    "- [x]  Данные проанализированы\n",
    "- [x]  Модель обучена, гиперпараметры подобраны\n",
    "- [x]  Качество моделей проверено, выводы сделаны\n",
    "- [x]  Значение *RMSE* на тестовой выборке не больше 48"
   ]
  }
 ],
 "metadata": {
  "ExecuteTimeLog": [
   {
    "duration": 1091,
    "start_time": "2023-03-07T20:00:21.806Z"
   },
   {
    "duration": 112,
    "start_time": "2023-03-07T20:00:22.899Z"
   },
   {
    "duration": 3,
    "start_time": "2023-03-07T20:04:54.055Z"
   },
   {
    "duration": 8,
    "start_time": "2023-03-07T20:04:54.386Z"
   },
   {
    "duration": 6,
    "start_time": "2023-03-07T20:05:07.428Z"
   },
   {
    "duration": 11,
    "start_time": "2023-03-07T20:05:35.004Z"
   },
   {
    "duration": 13,
    "start_time": "2023-03-07T20:05:51.455Z"
   },
   {
    "duration": 4,
    "start_time": "2023-03-07T20:07:03.788Z"
   },
   {
    "duration": 7,
    "start_time": "2023-03-07T20:07:17.726Z"
   },
   {
    "duration": 4,
    "start_time": "2023-03-07T20:07:48.093Z"
   },
   {
    "duration": 1244,
    "start_time": "2023-03-07T20:07:48.379Z"
   },
   {
    "duration": 0,
    "start_time": "2023-03-07T20:07:49.624Z"
   },
   {
    "duration": 7,
    "start_time": "2023-03-07T20:08:09.944Z"
   },
   {
    "duration": 11,
    "start_time": "2023-03-07T20:08:10.485Z"
   },
   {
    "duration": 18,
    "start_time": "2023-03-07T20:08:13.090Z"
   },
   {
    "duration": 11,
    "start_time": "2023-03-07T20:12:37.392Z"
   },
   {
    "duration": 4,
    "start_time": "2023-03-07T20:13:06.389Z"
   },
   {
    "duration": 4,
    "start_time": "2023-03-07T20:13:17.457Z"
   },
   {
    "duration": 12,
    "start_time": "2023-03-07T20:14:16.758Z"
   },
   {
    "duration": 57,
    "start_time": "2023-03-07T20:14:26.840Z"
   },
   {
    "duration": 11,
    "start_time": "2023-03-07T20:17:14.645Z"
   },
   {
    "duration": 8,
    "start_time": "2023-03-07T20:17:28.150Z"
   },
   {
    "duration": 8,
    "start_time": "2023-03-07T20:17:54.287Z"
   },
   {
    "duration": 4,
    "start_time": "2023-03-07T20:18:15.676Z"
   },
   {
    "duration": 4,
    "start_time": "2023-03-07T20:18:17.018Z"
   },
   {
    "duration": 4,
    "start_time": "2023-03-07T20:18:17.728Z"
   },
   {
    "duration": 17,
    "start_time": "2023-03-07T20:18:50.722Z"
   },
   {
    "duration": 5,
    "start_time": "2023-03-07T20:19:33.979Z"
   },
   {
    "duration": 15,
    "start_time": "2023-03-07T20:19:37.254Z"
   },
   {
    "duration": 10,
    "start_time": "2023-03-07T20:20:08.502Z"
   },
   {
    "duration": 15,
    "start_time": "2023-03-07T20:20:11.246Z"
   },
   {
    "duration": 11,
    "start_time": "2023-03-07T20:21:53.811Z"
   },
   {
    "duration": 3,
    "start_time": "2023-03-07T20:22:06.917Z"
   },
   {
    "duration": 4,
    "start_time": "2023-03-07T20:22:24.383Z"
   },
   {
    "duration": 4,
    "start_time": "2023-03-07T20:22:24.548Z"
   },
   {
    "duration": 9,
    "start_time": "2023-03-07T20:22:27.120Z"
   },
   {
    "duration": 9,
    "start_time": "2023-03-07T20:26:08.866Z"
   },
   {
    "duration": 2,
    "start_time": "2023-03-07T20:26:30.123Z"
   },
   {
    "duration": 9,
    "start_time": "2023-03-07T20:26:37.627Z"
   },
   {
    "duration": 9,
    "start_time": "2023-03-07T20:27:22.014Z"
   },
   {
    "duration": 13,
    "start_time": "2023-03-07T20:27:22.350Z"
   },
   {
    "duration": 10,
    "start_time": "2023-03-07T20:28:11.679Z"
   },
   {
    "duration": 127,
    "start_time": "2023-03-07T20:28:15.668Z"
   },
   {
    "duration": 13,
    "start_time": "2023-03-07T20:28:15.980Z"
   },
   {
    "duration": 1085,
    "start_time": "2023-03-07T20:28:34.579Z"
   },
   {
    "duration": 49,
    "start_time": "2023-03-07T20:28:35.666Z"
   },
   {
    "duration": 3,
    "start_time": "2023-03-07T20:28:35.717Z"
   },
   {
    "duration": 16,
    "start_time": "2023-03-07T20:28:35.721Z"
   },
   {
    "duration": 20,
    "start_time": "2023-03-07T20:28:35.739Z"
   },
   {
    "duration": 26,
    "start_time": "2023-03-07T20:28:35.760Z"
   },
   {
    "duration": 52,
    "start_time": "2023-03-07T20:28:35.787Z"
   },
   {
    "duration": 28,
    "start_time": "2023-03-07T20:28:35.841Z"
   },
   {
    "duration": 17,
    "start_time": "2023-03-07T20:28:35.870Z"
   },
   {
    "duration": 13,
    "start_time": "2023-03-07T20:28:35.888Z"
   },
   {
    "duration": 3,
    "start_time": "2023-03-07T20:28:35.902Z"
   },
   {
    "duration": 8,
    "start_time": "2023-03-07T20:28:35.907Z"
   },
   {
    "duration": 14,
    "start_time": "2023-03-07T20:28:35.917Z"
   },
   {
    "duration": 60,
    "start_time": "2023-03-07T20:28:35.933Z"
   },
   {
    "duration": 203,
    "start_time": "2023-03-07T20:28:35.995Z"
   },
   {
    "duration": 6,
    "start_time": "2023-03-07T20:29:55.015Z"
   },
   {
    "duration": 9,
    "start_time": "2023-03-07T20:29:55.349Z"
   },
   {
    "duration": 12,
    "start_time": "2023-03-07T20:29:57.735Z"
   },
   {
    "duration": 4,
    "start_time": "2023-03-07T20:30:15.718Z"
   },
   {
    "duration": 6,
    "start_time": "2023-03-07T20:31:14.785Z"
   },
   {
    "duration": 3,
    "start_time": "2023-03-07T20:31:14.991Z"
   },
   {
    "duration": 5,
    "start_time": "2023-03-07T20:31:29.772Z"
   },
   {
    "duration": 3,
    "start_time": "2023-03-07T20:31:30.059Z"
   },
   {
    "duration": 7,
    "start_time": "2023-03-07T20:31:46.486Z"
   },
   {
    "duration": 12,
    "start_time": "2023-03-07T20:31:46.714Z"
   },
   {
    "duration": 4,
    "start_time": "2023-03-07T20:32:28.059Z"
   },
   {
    "duration": 3,
    "start_time": "2023-03-07T20:32:43.778Z"
   },
   {
    "duration": 4,
    "start_time": "2023-03-07T20:32:56.039Z"
   },
   {
    "duration": 12,
    "start_time": "2023-03-07T20:33:15.551Z"
   },
   {
    "duration": 4,
    "start_time": "2023-03-07T20:33:19.919Z"
   },
   {
    "duration": 4,
    "start_time": "2023-03-07T20:33:20.323Z"
   },
   {
    "duration": 4,
    "start_time": "2023-03-07T20:33:20.815Z"
   },
   {
    "duration": 7,
    "start_time": "2023-03-07T20:33:25.157Z"
   },
   {
    "duration": 4,
    "start_time": "2023-03-07T20:33:25.446Z"
   },
   {
    "duration": 4,
    "start_time": "2023-03-07T20:33:25.707Z"
   },
   {
    "duration": 4,
    "start_time": "2023-03-07T20:33:32.754Z"
   },
   {
    "duration": 4,
    "start_time": "2023-03-07T20:39:04.504Z"
   },
   {
    "duration": 29,
    "start_time": "2023-03-07T20:39:47.572Z"
   },
   {
    "duration": 3566,
    "start_time": "2023-03-07T20:39:52.218Z"
   },
   {
    "duration": 49,
    "start_time": "2023-03-07T20:41:09.281Z"
   },
   {
    "duration": 6115,
    "start_time": "2023-03-07T20:41:12.737Z"
   },
   {
    "duration": 566,
    "start_time": "2023-03-07T20:43:18.841Z"
   },
   {
    "duration": 4,
    "start_time": "2023-03-07T20:43:22.615Z"
   },
   {
    "duration": 3,
    "start_time": "2023-03-07T20:43:22.803Z"
   },
   {
    "duration": 4,
    "start_time": "2023-03-07T20:43:31.165Z"
   },
   {
    "duration": 131,
    "start_time": "2023-03-07T20:45:11.648Z"
   },
   {
    "duration": 8,
    "start_time": "2023-03-07T20:45:24.406Z"
   },
   {
    "duration": 4,
    "start_time": "2023-03-07T20:45:35.653Z"
   },
   {
    "duration": 3,
    "start_time": "2023-03-07T20:45:42.398Z"
   },
   {
    "duration": 4,
    "start_time": "2023-03-07T20:47:11.622Z"
   },
   {
    "duration": 3,
    "start_time": "2023-03-07T20:47:12.289Z"
   },
   {
    "duration": 4,
    "start_time": "2023-03-07T20:47:20.053Z"
   },
   {
    "duration": 7,
    "start_time": "2023-03-07T20:47:45.439Z"
   },
   {
    "duration": 5,
    "start_time": "2023-03-07T20:47:45.999Z"
   },
   {
    "duration": 4,
    "start_time": "2023-03-07T20:47:46.510Z"
   },
   {
    "duration": 4,
    "start_time": "2023-03-07T20:47:46.965Z"
   },
   {
    "duration": 617,
    "start_time": "2023-03-07T20:48:54.794Z"
   },
   {
    "duration": 4,
    "start_time": "2023-03-07T20:48:55.412Z"
   },
   {
    "duration": 4,
    "start_time": "2023-03-07T20:48:55.649Z"
   },
   {
    "duration": 8,
    "start_time": "2023-03-07T20:49:04.451Z"
   },
   {
    "duration": 122,
    "start_time": "2023-03-07T20:51:38.800Z"
   },
   {
    "duration": 7,
    "start_time": "2023-03-07T20:51:40.292Z"
   },
   {
    "duration": 3,
    "start_time": "2023-03-07T20:51:40.876Z"
   },
   {
    "duration": 4,
    "start_time": "2023-03-07T20:51:41.241Z"
   },
   {
    "duration": 715,
    "start_time": "2023-03-07T20:52:26.807Z"
   },
   {
    "duration": 625,
    "start_time": "2023-03-07T20:52:48.069Z"
   },
   {
    "duration": 3,
    "start_time": "2023-03-07T20:52:58.261Z"
   },
   {
    "duration": 4,
    "start_time": "2023-03-07T20:52:59.515Z"
   },
   {
    "duration": 3,
    "start_time": "2023-03-07T20:53:00.397Z"
   },
   {
    "duration": 7,
    "start_time": "2023-03-07T20:53:36.284Z"
   },
   {
    "duration": 6,
    "start_time": "2023-03-07T20:53:36.726Z"
   },
   {
    "duration": 5,
    "start_time": "2023-03-07T20:53:37.320Z"
   },
   {
    "duration": 4,
    "start_time": "2023-03-07T20:53:37.756Z"
   },
   {
    "duration": 4,
    "start_time": "2023-03-07T20:53:38.443Z"
   },
   {
    "duration": 12,
    "start_time": "2023-03-07T20:54:05.368Z"
   },
   {
    "duration": 6,
    "start_time": "2023-03-07T20:54:14.073Z"
   },
   {
    "duration": 5,
    "start_time": "2023-03-07T20:54:14.409Z"
   },
   {
    "duration": 4,
    "start_time": "2023-03-07T20:54:14.764Z"
   },
   {
    "duration": 4,
    "start_time": "2023-03-07T20:54:15.033Z"
   },
   {
    "duration": 1173,
    "start_time": "2023-03-07T20:54:25.986Z"
   },
   {
    "duration": 48,
    "start_time": "2023-03-07T20:54:27.161Z"
   },
   {
    "duration": 3,
    "start_time": "2023-03-07T20:54:27.210Z"
   },
   {
    "duration": 12,
    "start_time": "2023-03-07T20:54:27.215Z"
   },
   {
    "duration": 10,
    "start_time": "2023-03-07T20:54:27.229Z"
   },
   {
    "duration": 21,
    "start_time": "2023-03-07T20:54:27.241Z"
   },
   {
    "duration": 5,
    "start_time": "2023-03-07T20:54:27.264Z"
   },
   {
    "duration": 23,
    "start_time": "2023-03-07T20:54:27.270Z"
   },
   {
    "duration": 18,
    "start_time": "2023-03-07T20:54:27.295Z"
   },
   {
    "duration": 13,
    "start_time": "2023-03-07T20:54:27.316Z"
   },
   {
    "duration": 4,
    "start_time": "2023-03-07T20:54:27.331Z"
   },
   {
    "duration": 11,
    "start_time": "2023-03-07T20:54:27.336Z"
   },
   {
    "duration": 10,
    "start_time": "2023-03-07T20:54:27.348Z"
   },
   {
    "duration": 16,
    "start_time": "2023-03-07T20:54:27.359Z"
   },
   {
    "duration": 16,
    "start_time": "2023-03-07T20:54:27.376Z"
   },
   {
    "duration": 6,
    "start_time": "2023-03-07T20:54:27.393Z"
   },
   {
    "duration": 5,
    "start_time": "2023-03-07T20:54:27.401Z"
   },
   {
    "duration": 12,
    "start_time": "2023-03-07T20:54:27.408Z"
   },
   {
    "duration": 9,
    "start_time": "2023-03-07T20:54:27.422Z"
   },
   {
    "duration": 57,
    "start_time": "2023-03-07T20:54:27.433Z"
   },
   {
    "duration": 6,
    "start_time": "2023-03-07T20:54:27.493Z"
   },
   {
    "duration": 4263,
    "start_time": "2023-03-07T20:54:27.501Z"
   },
   {
    "duration": 158,
    "start_time": "2023-03-07T20:54:31.767Z"
   },
   {
    "duration": 7,
    "start_time": "2023-03-07T20:54:31.927Z"
   },
   {
    "duration": 22,
    "start_time": "2023-03-07T20:54:31.935Z"
   },
   {
    "duration": 15,
    "start_time": "2023-03-07T20:54:31.959Z"
   },
   {
    "duration": 6631,
    "start_time": "2023-03-07T20:54:31.975Z"
   },
   {
    "duration": 601,
    "start_time": "2023-03-07T20:54:38.609Z"
   },
   {
    "duration": 4,
    "start_time": "2023-03-07T20:54:39.211Z"
   },
   {
    "duration": 6,
    "start_time": "2023-03-07T20:54:39.216Z"
   },
   {
    "duration": 6,
    "start_time": "2023-03-07T20:54:39.223Z"
   },
   {
    "duration": 6,
    "start_time": "2023-03-07T20:54:39.231Z"
   },
   {
    "duration": 8,
    "start_time": "2023-03-07T20:54:39.239Z"
   },
   {
    "duration": 7,
    "start_time": "2023-03-07T20:54:39.249Z"
   },
   {
    "duration": 33,
    "start_time": "2023-03-07T20:54:39.257Z"
   },
   {
    "duration": 3,
    "start_time": "2023-03-07T20:54:39.291Z"
   },
   {
    "duration": 659,
    "start_time": "2023-03-07T20:54:39.296Z"
   },
   {
    "duration": 3,
    "start_time": "2023-03-07T20:54:39.957Z"
   },
   {
    "duration": 6,
    "start_time": "2023-03-07T20:54:39.962Z"
   },
   {
    "duration": 58,
    "start_time": "2023-03-07T20:54:39.969Z"
   },
   {
    "duration": 154,
    "start_time": "2023-03-07T20:54:40.028Z"
   },
   {
    "duration": 9,
    "start_time": "2023-03-07T20:54:40.184Z"
   },
   {
    "duration": 4,
    "start_time": "2023-03-07T20:54:40.195Z"
   },
   {
    "duration": 14,
    "start_time": "2023-03-07T20:54:40.201Z"
   },
   {
    "duration": 1112,
    "start_time": "2023-03-07T20:55:12.431Z"
   },
   {
    "duration": 49,
    "start_time": "2023-03-07T20:55:13.545Z"
   },
   {
    "duration": 3,
    "start_time": "2023-03-07T20:55:13.596Z"
   },
   {
    "duration": 11,
    "start_time": "2023-03-07T20:55:13.600Z"
   },
   {
    "duration": 9,
    "start_time": "2023-03-07T20:55:13.613Z"
   },
   {
    "duration": 14,
    "start_time": "2023-03-07T20:55:13.624Z"
   },
   {
    "duration": 4,
    "start_time": "2023-03-07T20:55:13.639Z"
   },
   {
    "duration": 17,
    "start_time": "2023-03-07T20:55:13.645Z"
   },
   {
    "duration": 41,
    "start_time": "2023-03-07T20:55:13.664Z"
   },
   {
    "duration": 12,
    "start_time": "2023-03-07T20:55:13.707Z"
   },
   {
    "duration": 4,
    "start_time": "2023-03-07T20:55:13.721Z"
   },
   {
    "duration": 6,
    "start_time": "2023-03-07T20:55:13.726Z"
   },
   {
    "duration": 6,
    "start_time": "2023-03-07T20:55:13.733Z"
   },
   {
    "duration": 4,
    "start_time": "2023-03-07T20:55:13.742Z"
   },
   {
    "duration": 6,
    "start_time": "2023-03-07T20:55:13.747Z"
   },
   {
    "duration": 37,
    "start_time": "2023-03-07T20:55:13.755Z"
   },
   {
    "duration": 5,
    "start_time": "2023-03-07T20:55:13.794Z"
   },
   {
    "duration": 10,
    "start_time": "2023-03-07T20:55:13.800Z"
   },
   {
    "duration": 8,
    "start_time": "2023-03-07T20:55:13.812Z"
   },
   {
    "duration": 69,
    "start_time": "2023-03-07T20:55:13.821Z"
   },
   {
    "duration": 10,
    "start_time": "2023-03-07T20:55:13.892Z"
   },
   {
    "duration": 5342,
    "start_time": "2023-03-07T20:55:13.904Z"
   },
   {
    "duration": 205,
    "start_time": "2023-03-07T20:55:19.247Z"
   },
   {
    "duration": 8,
    "start_time": "2023-03-07T20:55:19.454Z"
   },
   {
    "duration": 8,
    "start_time": "2023-03-07T20:55:19.464Z"
   },
   {
    "duration": 17,
    "start_time": "2023-03-07T20:55:19.474Z"
   },
   {
    "duration": 6635,
    "start_time": "2023-03-07T20:55:19.492Z"
   },
   {
    "duration": 906,
    "start_time": "2023-03-07T20:55:26.129Z"
   },
   {
    "duration": 3,
    "start_time": "2023-03-07T20:55:27.037Z"
   },
   {
    "duration": 22,
    "start_time": "2023-03-07T20:55:27.041Z"
   },
   {
    "duration": 10,
    "start_time": "2023-03-07T20:55:27.064Z"
   },
   {
    "duration": 43,
    "start_time": "2023-03-07T20:55:27.075Z"
   },
   {
    "duration": 30,
    "start_time": "2023-03-07T20:55:27.120Z"
   },
   {
    "duration": 39,
    "start_time": "2023-03-07T20:55:27.152Z"
   },
   {
    "duration": 16,
    "start_time": "2023-03-07T20:55:27.193Z"
   },
   {
    "duration": 81,
    "start_time": "2023-03-07T20:55:27.211Z"
   },
   {
    "duration": 665,
    "start_time": "2023-03-07T20:55:27.293Z"
   },
   {
    "duration": 3,
    "start_time": "2023-03-07T20:55:27.960Z"
   },
   {
    "duration": 6,
    "start_time": "2023-03-07T20:55:27.965Z"
   },
   {
    "duration": 9,
    "start_time": "2023-03-07T20:55:27.972Z"
   },
   {
    "duration": 203,
    "start_time": "2023-03-07T20:55:27.984Z"
   },
   {
    "duration": 7,
    "start_time": "2023-03-07T20:55:28.189Z"
   },
   {
    "duration": 6,
    "start_time": "2023-03-07T20:55:28.197Z"
   },
   {
    "duration": 13,
    "start_time": "2023-03-07T20:55:28.204Z"
   },
   {
    "duration": 1242,
    "start_time": "2023-03-07T20:55:51.907Z"
   },
   {
    "duration": 49,
    "start_time": "2023-03-07T20:55:53.151Z"
   },
   {
    "duration": 3,
    "start_time": "2023-03-07T20:55:53.202Z"
   },
   {
    "duration": 13,
    "start_time": "2023-03-07T20:55:53.207Z"
   },
   {
    "duration": 10,
    "start_time": "2023-03-07T20:55:53.222Z"
   },
   {
    "duration": 18,
    "start_time": "2023-03-07T20:55:53.233Z"
   },
   {
    "duration": 3,
    "start_time": "2023-03-07T20:55:53.253Z"
   },
   {
    "duration": 16,
    "start_time": "2023-03-07T20:55:53.258Z"
   },
   {
    "duration": 33,
    "start_time": "2023-03-07T20:55:53.275Z"
   },
   {
    "duration": 15,
    "start_time": "2023-03-07T20:55:53.309Z"
   },
   {
    "duration": 4,
    "start_time": "2023-03-07T20:55:53.325Z"
   },
   {
    "duration": 5,
    "start_time": "2023-03-07T20:55:53.331Z"
   },
   {
    "duration": 9,
    "start_time": "2023-03-07T20:55:53.337Z"
   },
   {
    "duration": 4,
    "start_time": "2023-03-07T20:55:53.349Z"
   },
   {
    "duration": 8,
    "start_time": "2023-03-07T20:55:53.354Z"
   },
   {
    "duration": 3,
    "start_time": "2023-03-07T20:55:53.390Z"
   },
   {
    "duration": 6,
    "start_time": "2023-03-07T20:55:53.395Z"
   },
   {
    "duration": 11,
    "start_time": "2023-03-07T20:55:53.403Z"
   },
   {
    "duration": 7,
    "start_time": "2023-03-07T20:55:53.416Z"
   },
   {
    "duration": 4,
    "start_time": "2023-03-07T20:55:53.425Z"
   },
   {
    "duration": 62,
    "start_time": "2023-03-07T20:55:53.431Z"
   },
   {
    "duration": 4626,
    "start_time": "2023-03-07T20:55:53.495Z"
   },
   {
    "duration": 176,
    "start_time": "2023-03-07T20:55:58.123Z"
   },
   {
    "duration": 7,
    "start_time": "2023-03-07T20:55:58.300Z"
   },
   {
    "duration": 7,
    "start_time": "2023-03-07T20:55:58.309Z"
   },
   {
    "duration": 11,
    "start_time": "2023-03-07T20:55:58.318Z"
   },
   {
    "duration": 7321,
    "start_time": "2023-03-07T20:55:58.331Z"
   },
   {
    "duration": 619,
    "start_time": "2023-03-07T20:56:05.653Z"
   },
   {
    "duration": 4,
    "start_time": "2023-03-07T20:56:06.274Z"
   },
   {
    "duration": 12,
    "start_time": "2023-03-07T20:56:06.280Z"
   },
   {
    "duration": 13,
    "start_time": "2023-03-07T20:56:06.294Z"
   },
   {
    "duration": 10,
    "start_time": "2023-03-07T20:56:06.309Z"
   },
   {
    "duration": 14,
    "start_time": "2023-03-07T20:56:06.320Z"
   },
   {
    "duration": 10,
    "start_time": "2023-03-07T20:56:06.336Z"
   },
   {
    "duration": 44,
    "start_time": "2023-03-07T20:56:06.348Z"
   },
   {
    "duration": 16,
    "start_time": "2023-03-07T20:56:06.395Z"
   },
   {
    "duration": 638,
    "start_time": "2023-03-07T20:56:06.414Z"
   },
   {
    "duration": 4,
    "start_time": "2023-03-07T20:56:07.053Z"
   },
   {
    "duration": 8,
    "start_time": "2023-03-07T20:56:07.059Z"
   },
   {
    "duration": 6,
    "start_time": "2023-03-07T20:56:07.068Z"
   },
   {
    "duration": 167,
    "start_time": "2023-03-07T20:56:07.077Z"
   },
   {
    "duration": 8,
    "start_time": "2023-03-07T20:56:07.246Z"
   },
   {
    "duration": 3,
    "start_time": "2023-03-07T20:56:07.255Z"
   },
   {
    "duration": 8,
    "start_time": "2023-03-07T20:56:07.260Z"
   },
   {
    "duration": 1105,
    "start_time": "2023-03-07T20:56:27.949Z"
   },
   {
    "duration": 52,
    "start_time": "2023-03-07T20:56:29.056Z"
   },
   {
    "duration": 3,
    "start_time": "2023-03-07T20:56:29.109Z"
   },
   {
    "duration": 19,
    "start_time": "2023-03-07T20:56:29.114Z"
   },
   {
    "duration": 10,
    "start_time": "2023-03-07T20:56:29.135Z"
   },
   {
    "duration": 16,
    "start_time": "2023-03-07T20:56:29.146Z"
   },
   {
    "duration": 4,
    "start_time": "2023-03-07T20:56:29.163Z"
   },
   {
    "duration": 29,
    "start_time": "2023-03-07T20:56:29.168Z"
   },
   {
    "duration": 26,
    "start_time": "2023-03-07T20:56:29.198Z"
   },
   {
    "duration": 12,
    "start_time": "2023-03-07T20:56:29.226Z"
   },
   {
    "duration": 3,
    "start_time": "2023-03-07T20:56:29.240Z"
   },
   {
    "duration": 5,
    "start_time": "2023-03-07T20:56:29.244Z"
   },
   {
    "duration": 6,
    "start_time": "2023-03-07T20:56:29.250Z"
   },
   {
    "duration": 32,
    "start_time": "2023-03-07T20:56:29.258Z"
   },
   {
    "duration": 9,
    "start_time": "2023-03-07T20:56:29.291Z"
   },
   {
    "duration": 5,
    "start_time": "2023-03-07T20:56:29.302Z"
   },
   {
    "duration": 5,
    "start_time": "2023-03-07T20:56:29.308Z"
   },
   {
    "duration": 14,
    "start_time": "2023-03-07T20:56:29.314Z"
   },
   {
    "duration": 6,
    "start_time": "2023-03-07T20:56:29.330Z"
   },
   {
    "duration": 4,
    "start_time": "2023-03-07T20:56:29.391Z"
   },
   {
    "duration": 92,
    "start_time": "2023-03-07T20:56:29.398Z"
   },
   {
    "duration": 6434,
    "start_time": "2023-03-07T20:56:29.492Z"
   },
   {
    "duration": 282,
    "start_time": "2023-03-07T20:56:35.927Z"
   },
   {
    "duration": 7,
    "start_time": "2023-03-07T20:56:36.211Z"
   },
   {
    "duration": 5,
    "start_time": "2023-03-07T20:56:36.219Z"
   },
   {
    "duration": 11,
    "start_time": "2023-03-07T20:56:36.225Z"
   },
   {
    "duration": 7267,
    "start_time": "2023-03-07T20:56:36.238Z"
   },
   {
    "duration": 627,
    "start_time": "2023-03-07T20:56:43.508Z"
   },
   {
    "duration": 4,
    "start_time": "2023-03-07T20:56:44.137Z"
   },
   {
    "duration": 8,
    "start_time": "2023-03-07T20:56:44.143Z"
   },
   {
    "duration": 7,
    "start_time": "2023-03-07T20:56:44.152Z"
   },
   {
    "duration": 18,
    "start_time": "2023-03-07T20:56:44.161Z"
   },
   {
    "duration": 12,
    "start_time": "2023-03-07T20:56:44.180Z"
   },
   {
    "duration": 8,
    "start_time": "2023-03-07T20:56:44.194Z"
   },
   {
    "duration": 87,
    "start_time": "2023-03-07T20:56:44.203Z"
   },
   {
    "duration": 16,
    "start_time": "2023-03-07T20:56:44.292Z"
   },
   {
    "duration": 685,
    "start_time": "2023-03-07T20:56:44.309Z"
   },
   {
    "duration": 62,
    "start_time": "2023-03-07T20:56:44.996Z"
   },
   {
    "duration": 8,
    "start_time": "2023-03-07T20:56:45.060Z"
   },
   {
    "duration": 9,
    "start_time": "2023-03-07T20:56:45.069Z"
   },
   {
    "duration": 246,
    "start_time": "2023-03-07T20:56:45.090Z"
   },
   {
    "duration": 7,
    "start_time": "2023-03-07T20:56:45.338Z"
   },
   {
    "duration": 5,
    "start_time": "2023-03-07T20:56:45.346Z"
   },
   {
    "duration": 5,
    "start_time": "2023-03-07T20:56:45.353Z"
   },
   {
    "duration": 1138,
    "start_time": "2023-03-07T20:57:17.812Z"
   },
   {
    "duration": 48,
    "start_time": "2023-03-07T20:57:18.952Z"
   },
   {
    "duration": 3,
    "start_time": "2023-03-07T20:57:19.002Z"
   },
   {
    "duration": 19,
    "start_time": "2023-03-07T20:57:19.006Z"
   },
   {
    "duration": 10,
    "start_time": "2023-03-07T20:57:19.027Z"
   },
   {
    "duration": 12,
    "start_time": "2023-03-07T20:57:19.038Z"
   },
   {
    "duration": 4,
    "start_time": "2023-03-07T20:57:19.051Z"
   },
   {
    "duration": 36,
    "start_time": "2023-03-07T20:57:19.057Z"
   },
   {
    "duration": 24,
    "start_time": "2023-03-07T20:57:19.095Z"
   },
   {
    "duration": 13,
    "start_time": "2023-03-07T20:57:19.121Z"
   },
   {
    "duration": 6,
    "start_time": "2023-03-07T20:57:19.135Z"
   },
   {
    "duration": 6,
    "start_time": "2023-03-07T20:57:19.142Z"
   },
   {
    "duration": 9,
    "start_time": "2023-03-07T20:57:19.150Z"
   },
   {
    "duration": 29,
    "start_time": "2023-03-07T20:57:19.161Z"
   },
   {
    "duration": 3,
    "start_time": "2023-03-07T20:57:19.192Z"
   },
   {
    "duration": 6,
    "start_time": "2023-03-07T20:57:19.197Z"
   },
   {
    "duration": 6,
    "start_time": "2023-03-07T20:57:19.204Z"
   },
   {
    "duration": 13,
    "start_time": "2023-03-07T20:57:19.211Z"
   },
   {
    "duration": 164,
    "start_time": "2023-03-07T20:57:19.226Z"
   },
   {
    "duration": 99,
    "start_time": "2023-03-07T20:57:19.393Z"
   },
   {
    "duration": 11,
    "start_time": "2023-03-07T20:57:19.493Z"
   },
   {
    "duration": 8376,
    "start_time": "2023-03-07T20:57:19.505Z"
   },
   {
    "duration": 273,
    "start_time": "2023-03-07T20:57:27.882Z"
   },
   {
    "duration": 7,
    "start_time": "2023-03-07T20:57:28.156Z"
   },
   {
    "duration": 10,
    "start_time": "2023-03-07T20:57:28.165Z"
   },
   {
    "duration": 16,
    "start_time": "2023-03-07T20:57:28.177Z"
   },
   {
    "duration": 8329,
    "start_time": "2023-03-07T20:57:28.195Z"
   },
   {
    "duration": 654,
    "start_time": "2023-03-07T20:57:36.527Z"
   },
   {
    "duration": 4,
    "start_time": "2023-03-07T20:57:37.183Z"
   },
   {
    "duration": 14,
    "start_time": "2023-03-07T20:57:37.188Z"
   },
   {
    "duration": 14,
    "start_time": "2023-03-07T20:57:37.203Z"
   },
   {
    "duration": 9,
    "start_time": "2023-03-07T20:57:37.219Z"
   },
   {
    "duration": 8,
    "start_time": "2023-03-07T20:57:37.230Z"
   },
   {
    "duration": 191,
    "start_time": "2023-03-07T20:57:37.240Z"
   },
   {
    "duration": 101,
    "start_time": "2023-03-07T20:57:37.490Z"
   },
   {
    "duration": 6,
    "start_time": "2023-03-07T20:57:37.594Z"
   },
   {
    "duration": 675,
    "start_time": "2023-03-07T20:57:37.602Z"
   },
   {
    "duration": 4,
    "start_time": "2023-03-07T20:57:38.279Z"
   },
   {
    "duration": 6,
    "start_time": "2023-03-07T20:57:38.285Z"
   },
   {
    "duration": 7,
    "start_time": "2023-03-07T20:57:38.292Z"
   },
   {
    "duration": 277,
    "start_time": "2023-03-07T20:57:38.302Z"
   },
   {
    "duration": 12,
    "start_time": "2023-03-07T20:57:38.580Z"
   },
   {
    "duration": 4,
    "start_time": "2023-03-07T20:57:38.593Z"
   },
   {
    "duration": 6,
    "start_time": "2023-03-07T20:57:38.598Z"
   },
   {
    "duration": 931,
    "start_time": "2023-03-07T20:57:59.216Z"
   },
   {
    "duration": 3,
    "start_time": "2023-03-07T20:58:01.824Z"
   },
   {
    "duration": 3,
    "start_time": "2023-03-07T20:58:02.011Z"
   },
   {
    "duration": 3,
    "start_time": "2023-03-07T20:58:02.239Z"
   },
   {
    "duration": 934,
    "start_time": "2023-03-07T20:58:08.515Z"
   },
   {
    "duration": 4,
    "start_time": "2023-03-07T20:58:13.710Z"
   },
   {
    "duration": 3,
    "start_time": "2023-03-07T20:58:14.206Z"
   },
   {
    "duration": 4,
    "start_time": "2023-03-07T20:58:14.958Z"
   },
   {
    "duration": 1091,
    "start_time": "2023-03-07T20:59:01.040Z"
   },
   {
    "duration": 49,
    "start_time": "2023-03-07T20:59:02.133Z"
   },
   {
    "duration": 3,
    "start_time": "2023-03-07T20:59:02.184Z"
   },
   {
    "duration": 28,
    "start_time": "2023-03-07T20:59:02.188Z"
   },
   {
    "duration": 31,
    "start_time": "2023-03-07T20:59:02.218Z"
   },
   {
    "duration": 42,
    "start_time": "2023-03-07T20:59:02.250Z"
   },
   {
    "duration": 5,
    "start_time": "2023-03-07T20:59:02.294Z"
   },
   {
    "duration": 37,
    "start_time": "2023-03-07T20:59:02.301Z"
   },
   {
    "duration": 30,
    "start_time": "2023-03-07T20:59:02.340Z"
   },
   {
    "duration": 20,
    "start_time": "2023-03-07T20:59:02.372Z"
   },
   {
    "duration": 5,
    "start_time": "2023-03-07T20:59:02.393Z"
   },
   {
    "duration": 10,
    "start_time": "2023-03-07T20:59:02.399Z"
   },
   {
    "duration": 11,
    "start_time": "2023-03-07T20:59:02.410Z"
   },
   {
    "duration": 14,
    "start_time": "2023-03-07T20:59:02.425Z"
   },
   {
    "duration": 21,
    "start_time": "2023-03-07T20:59:02.440Z"
   },
   {
    "duration": 19,
    "start_time": "2023-03-07T20:59:02.463Z"
   },
   {
    "duration": 11,
    "start_time": "2023-03-07T20:59:02.484Z"
   },
   {
    "duration": 22,
    "start_time": "2023-03-07T20:59:02.497Z"
   },
   {
    "duration": 8,
    "start_time": "2023-03-07T20:59:02.521Z"
   },
   {
    "duration": 59,
    "start_time": "2023-03-07T20:59:02.531Z"
   },
   {
    "duration": 9,
    "start_time": "2023-03-07T20:59:02.593Z"
   },
   {
    "duration": 6035,
    "start_time": "2023-03-07T20:59:02.604Z"
   },
   {
    "duration": 217,
    "start_time": "2023-03-07T20:59:08.641Z"
   },
   {
    "duration": 7,
    "start_time": "2023-03-07T20:59:08.859Z"
   },
   {
    "duration": 5,
    "start_time": "2023-03-07T20:59:08.868Z"
   },
   {
    "duration": 16,
    "start_time": "2023-03-07T20:59:08.874Z"
   },
   {
    "duration": 6948,
    "start_time": "2023-03-07T20:59:08.892Z"
   },
   {
    "duration": 817,
    "start_time": "2023-03-07T20:59:15.842Z"
   },
   {
    "duration": 3,
    "start_time": "2023-03-07T20:59:16.661Z"
   },
   {
    "duration": 7,
    "start_time": "2023-03-07T20:59:16.666Z"
   },
   {
    "duration": 8,
    "start_time": "2023-03-07T20:59:16.675Z"
   },
   {
    "duration": 9,
    "start_time": "2023-03-07T20:59:16.685Z"
   },
   {
    "duration": 16,
    "start_time": "2023-03-07T20:59:16.696Z"
   },
   {
    "duration": 5,
    "start_time": "2023-03-07T20:59:16.714Z"
   },
   {
    "duration": 70,
    "start_time": "2023-03-07T20:59:16.720Z"
   },
   {
    "duration": 4,
    "start_time": "2023-03-07T20:59:16.792Z"
   },
   {
    "duration": 966,
    "start_time": "2023-03-07T20:59:16.798Z"
   },
   {
    "duration": 4,
    "start_time": "2023-03-07T20:59:17.766Z"
   },
   {
    "duration": 10,
    "start_time": "2023-03-07T20:59:17.772Z"
   },
   {
    "duration": 16,
    "start_time": "2023-03-07T20:59:17.784Z"
   },
   {
    "duration": 217,
    "start_time": "2023-03-07T20:59:17.803Z"
   },
   {
    "duration": 7,
    "start_time": "2023-03-07T20:59:18.022Z"
   },
   {
    "duration": 9,
    "start_time": "2023-03-07T20:59:18.030Z"
   },
   {
    "duration": 21,
    "start_time": "2023-03-07T20:59:18.040Z"
   },
   {
    "duration": 1158,
    "start_time": "2023-03-07T20:59:41.308Z"
   },
   {
    "duration": 49,
    "start_time": "2023-03-07T20:59:42.468Z"
   },
   {
    "duration": 3,
    "start_time": "2023-03-07T20:59:42.519Z"
   },
   {
    "duration": 30,
    "start_time": "2023-03-07T20:59:42.524Z"
   },
   {
    "duration": 12,
    "start_time": "2023-03-07T20:59:42.557Z"
   },
   {
    "duration": 17,
    "start_time": "2023-03-07T20:59:42.571Z"
   },
   {
    "duration": 22,
    "start_time": "2023-03-07T20:59:42.589Z"
   },
   {
    "duration": 31,
    "start_time": "2023-03-07T20:59:42.613Z"
   },
   {
    "duration": 34,
    "start_time": "2023-03-07T20:59:42.646Z"
   },
   {
    "duration": 27,
    "start_time": "2023-03-07T20:59:42.681Z"
   },
   {
    "duration": 15,
    "start_time": "2023-03-07T20:59:42.709Z"
   },
   {
    "duration": 11,
    "start_time": "2023-03-07T20:59:42.725Z"
   },
   {
    "duration": 23,
    "start_time": "2023-03-07T20:59:42.737Z"
   },
   {
    "duration": 8,
    "start_time": "2023-03-07T20:59:42.763Z"
   },
   {
    "duration": 13,
    "start_time": "2023-03-07T20:59:42.773Z"
   },
   {
    "duration": 18,
    "start_time": "2023-03-07T20:59:42.787Z"
   },
   {
    "duration": 27,
    "start_time": "2023-03-07T20:59:42.806Z"
   },
   {
    "duration": 32,
    "start_time": "2023-03-07T20:59:42.835Z"
   },
   {
    "duration": 21,
    "start_time": "2023-03-07T20:59:42.869Z"
   },
   {
    "duration": 98,
    "start_time": "2023-03-07T20:59:42.892Z"
   },
   {
    "duration": 15,
    "start_time": "2023-03-07T20:59:42.992Z"
   },
   {
    "duration": 7098,
    "start_time": "2023-03-07T20:59:43.008Z"
   },
   {
    "duration": 233,
    "start_time": "2023-03-07T20:59:50.107Z"
   },
   {
    "duration": 7,
    "start_time": "2023-03-07T20:59:50.341Z"
   },
   {
    "duration": 8,
    "start_time": "2023-03-07T20:59:50.350Z"
   },
   {
    "duration": 7,
    "start_time": "2023-03-07T20:59:50.359Z"
   },
   {
    "duration": 7528,
    "start_time": "2023-03-07T20:59:50.368Z"
   },
   {
    "duration": 902,
    "start_time": "2023-03-07T20:59:57.898Z"
   },
   {
    "duration": 4,
    "start_time": "2023-03-07T20:59:58.802Z"
   },
   {
    "duration": 19,
    "start_time": "2023-03-07T20:59:58.808Z"
   },
   {
    "duration": 29,
    "start_time": "2023-03-07T20:59:58.829Z"
   },
   {
    "duration": 21,
    "start_time": "2023-03-07T20:59:58.859Z"
   },
   {
    "duration": 24,
    "start_time": "2023-03-07T20:59:58.881Z"
   },
   {
    "duration": 83,
    "start_time": "2023-03-07T20:59:58.908Z"
   },
   {
    "duration": 99,
    "start_time": "2023-03-07T20:59:58.993Z"
   },
   {
    "duration": 20,
    "start_time": "2023-03-07T20:59:59.093Z"
   },
   {
    "duration": 933,
    "start_time": "2023-03-07T20:59:59.115Z"
   },
   {
    "duration": 5,
    "start_time": "2023-03-07T21:00:00.049Z"
   },
   {
    "duration": 61,
    "start_time": "2023-03-07T21:00:00.055Z"
   },
   {
    "duration": 56,
    "start_time": "2023-03-07T21:00:00.118Z"
   },
   {
    "duration": 267,
    "start_time": "2023-03-07T21:00:00.177Z"
   },
   {
    "duration": 9,
    "start_time": "2023-03-07T21:00:00.446Z"
   },
   {
    "duration": 40,
    "start_time": "2023-03-07T21:00:00.456Z"
   },
   {
    "duration": 59,
    "start_time": "2023-03-07T21:00:00.498Z"
   },
   {
    "duration": 1137,
    "start_time": "2023-03-07T21:00:26.531Z"
   },
   {
    "duration": 49,
    "start_time": "2023-03-07T21:00:27.670Z"
   },
   {
    "duration": 3,
    "start_time": "2023-03-07T21:00:27.721Z"
   },
   {
    "duration": 22,
    "start_time": "2023-03-07T21:00:27.726Z"
   },
   {
    "duration": 11,
    "start_time": "2023-03-07T21:00:27.749Z"
   },
   {
    "duration": 13,
    "start_time": "2023-03-07T21:00:27.761Z"
   },
   {
    "duration": 3,
    "start_time": "2023-03-07T21:00:27.776Z"
   },
   {
    "duration": 27,
    "start_time": "2023-03-07T21:00:27.781Z"
   },
   {
    "duration": 25,
    "start_time": "2023-03-07T21:00:27.809Z"
   },
   {
    "duration": 12,
    "start_time": "2023-03-07T21:00:27.837Z"
   },
   {
    "duration": 7,
    "start_time": "2023-03-07T21:00:27.850Z"
   },
   {
    "duration": 17,
    "start_time": "2023-03-07T21:00:27.858Z"
   },
   {
    "duration": 13,
    "start_time": "2023-03-07T21:00:27.877Z"
   },
   {
    "duration": 3,
    "start_time": "2023-03-07T21:00:27.892Z"
   },
   {
    "duration": 6,
    "start_time": "2023-03-07T21:00:27.896Z"
   },
   {
    "duration": 7,
    "start_time": "2023-03-07T21:00:27.903Z"
   },
   {
    "duration": 5,
    "start_time": "2023-03-07T21:00:27.912Z"
   },
   {
    "duration": 26,
    "start_time": "2023-03-07T21:00:27.918Z"
   },
   {
    "duration": 49,
    "start_time": "2023-03-07T21:00:27.946Z"
   },
   {
    "duration": 102,
    "start_time": "2023-03-07T21:00:27.997Z"
   },
   {
    "duration": 91,
    "start_time": "2023-03-07T21:00:28.101Z"
   },
   {
    "duration": 7804,
    "start_time": "2023-03-07T21:00:28.194Z"
   },
   {
    "duration": 271,
    "start_time": "2023-03-07T21:00:36.000Z"
   },
   {
    "duration": 14,
    "start_time": "2023-03-07T21:00:36.276Z"
   },
   {
    "duration": 6,
    "start_time": "2023-03-07T21:00:36.292Z"
   },
   {
    "duration": 10,
    "start_time": "2023-03-07T21:00:36.300Z"
   },
   {
    "duration": 7336,
    "start_time": "2023-03-07T21:00:36.312Z"
   },
   {
    "duration": 961,
    "start_time": "2023-03-07T21:00:43.651Z"
   },
   {
    "duration": 3,
    "start_time": "2023-03-07T21:00:44.613Z"
   },
   {
    "duration": 6,
    "start_time": "2023-03-07T21:00:44.618Z"
   },
   {
    "duration": 7,
    "start_time": "2023-03-07T21:00:44.626Z"
   },
   {
    "duration": 9,
    "start_time": "2023-03-07T21:00:44.635Z"
   },
   {
    "duration": 11,
    "start_time": "2023-03-07T21:00:44.645Z"
   },
   {
    "duration": 33,
    "start_time": "2023-03-07T21:00:44.658Z"
   },
   {
    "duration": 203,
    "start_time": "2023-03-07T21:00:44.692Z"
   },
   {
    "duration": 9,
    "start_time": "2023-03-07T21:00:44.896Z"
   },
   {
    "duration": 926,
    "start_time": "2023-03-07T21:00:44.907Z"
   },
   {
    "duration": 58,
    "start_time": "2023-03-07T21:00:45.836Z"
   },
   {
    "duration": 6,
    "start_time": "2023-03-07T21:00:45.896Z"
   },
   {
    "duration": 6,
    "start_time": "2023-03-07T21:00:45.904Z"
   },
   {
    "duration": 254,
    "start_time": "2023-03-07T21:00:45.912Z"
   },
   {
    "duration": 7,
    "start_time": "2023-03-07T21:00:46.168Z"
   },
   {
    "duration": 14,
    "start_time": "2023-03-07T21:00:46.176Z"
   },
   {
    "duration": 15,
    "start_time": "2023-03-07T21:00:46.191Z"
   },
   {
    "duration": 1132,
    "start_time": "2023-03-07T21:01:20.111Z"
   },
   {
    "duration": 49,
    "start_time": "2023-03-07T21:01:21.245Z"
   },
   {
    "duration": 2,
    "start_time": "2023-03-07T21:01:21.296Z"
   },
   {
    "duration": 20,
    "start_time": "2023-03-07T21:01:21.300Z"
   },
   {
    "duration": 9,
    "start_time": "2023-03-07T21:01:21.323Z"
   },
   {
    "duration": 19,
    "start_time": "2023-03-07T21:01:21.333Z"
   },
   {
    "duration": 3,
    "start_time": "2023-03-07T21:01:21.354Z"
   },
   {
    "duration": 28,
    "start_time": "2023-03-07T21:01:21.359Z"
   },
   {
    "duration": 25,
    "start_time": "2023-03-07T21:01:21.389Z"
   },
   {
    "duration": 14,
    "start_time": "2023-03-07T21:01:21.416Z"
   },
   {
    "duration": 4,
    "start_time": "2023-03-07T21:01:21.431Z"
   },
   {
    "duration": 16,
    "start_time": "2023-03-07T21:01:21.437Z"
   },
   {
    "duration": 7,
    "start_time": "2023-03-07T21:01:21.455Z"
   },
   {
    "duration": 25,
    "start_time": "2023-03-07T21:01:21.465Z"
   },
   {
    "duration": 5,
    "start_time": "2023-03-07T21:01:21.491Z"
   },
   {
    "duration": 6,
    "start_time": "2023-03-07T21:01:21.497Z"
   },
   {
    "duration": 10,
    "start_time": "2023-03-07T21:01:21.504Z"
   },
   {
    "duration": 12,
    "start_time": "2023-03-07T21:01:21.516Z"
   },
   {
    "duration": 105,
    "start_time": "2023-03-07T21:01:21.589Z"
   },
   {
    "duration": 100,
    "start_time": "2023-03-07T21:01:21.696Z"
   },
   {
    "duration": 7,
    "start_time": "2023-03-07T21:01:21.798Z"
   },
   {
    "duration": 8442,
    "start_time": "2023-03-07T21:01:21.807Z"
   },
   {
    "duration": 313,
    "start_time": "2023-03-07T21:01:30.250Z"
   },
   {
    "duration": 7,
    "start_time": "2023-03-07T21:01:30.565Z"
   },
   {
    "duration": 22,
    "start_time": "2023-03-07T21:01:30.574Z"
   },
   {
    "duration": 32,
    "start_time": "2023-03-07T21:01:30.597Z"
   },
   {
    "duration": 8502,
    "start_time": "2023-03-07T21:01:30.630Z"
   },
   {
    "duration": 937,
    "start_time": "2023-03-07T21:01:39.134Z"
   },
   {
    "duration": 4,
    "start_time": "2023-03-07T21:01:40.072Z"
   },
   {
    "duration": 11,
    "start_time": "2023-03-07T21:01:40.077Z"
   },
   {
    "duration": 7,
    "start_time": "2023-03-07T21:01:40.089Z"
   },
   {
    "duration": 60,
    "start_time": "2023-03-07T21:01:40.098Z"
   },
   {
    "duration": 31,
    "start_time": "2023-03-07T21:01:40.160Z"
   },
   {
    "duration": 101,
    "start_time": "2023-03-07T21:01:40.193Z"
   },
   {
    "duration": 107,
    "start_time": "2023-03-07T21:01:40.295Z"
   },
   {
    "duration": 6,
    "start_time": "2023-03-07T21:01:40.404Z"
   },
   {
    "duration": 1014,
    "start_time": "2023-03-07T21:01:40.412Z"
   },
   {
    "duration": 5,
    "start_time": "2023-03-07T21:01:41.428Z"
   },
   {
    "duration": 14,
    "start_time": "2023-03-07T21:01:41.435Z"
   },
   {
    "duration": 27,
    "start_time": "2023-03-07T21:01:41.450Z"
   },
   {
    "duration": 321,
    "start_time": "2023-03-07T21:01:41.482Z"
   },
   {
    "duration": 8,
    "start_time": "2023-03-07T21:01:41.805Z"
   },
   {
    "duration": 29,
    "start_time": "2023-03-07T21:01:41.815Z"
   },
   {
    "duration": 39,
    "start_time": "2023-03-07T21:01:41.846Z"
   },
   {
    "duration": 1243,
    "start_time": "2023-03-07T21:02:05.278Z"
   },
   {
    "duration": 49,
    "start_time": "2023-03-07T21:02:06.524Z"
   },
   {
    "duration": 2,
    "start_time": "2023-03-07T21:02:06.575Z"
   },
   {
    "duration": 12,
    "start_time": "2023-03-07T21:02:06.579Z"
   },
   {
    "duration": 10,
    "start_time": "2023-03-07T21:02:06.593Z"
   },
   {
    "duration": 16,
    "start_time": "2023-03-07T21:02:06.604Z"
   },
   {
    "duration": 5,
    "start_time": "2023-03-07T21:02:06.621Z"
   },
   {
    "duration": 29,
    "start_time": "2023-03-07T21:02:06.627Z"
   },
   {
    "duration": 45,
    "start_time": "2023-03-07T21:02:06.658Z"
   },
   {
    "duration": 15,
    "start_time": "2023-03-07T21:02:06.705Z"
   },
   {
    "duration": 13,
    "start_time": "2023-03-07T21:02:06.721Z"
   },
   {
    "duration": 17,
    "start_time": "2023-03-07T21:02:06.735Z"
   },
   {
    "duration": 6,
    "start_time": "2023-03-07T21:02:06.754Z"
   },
   {
    "duration": 4,
    "start_time": "2023-03-07T21:02:06.764Z"
   },
   {
    "duration": 6,
    "start_time": "2023-03-07T21:02:06.770Z"
   },
   {
    "duration": 3,
    "start_time": "2023-03-07T21:02:06.790Z"
   },
   {
    "duration": 7,
    "start_time": "2023-03-07T21:02:06.795Z"
   },
   {
    "duration": 16,
    "start_time": "2023-03-07T21:02:06.803Z"
   },
   {
    "duration": 170,
    "start_time": "2023-03-07T21:02:06.821Z"
   },
   {
    "duration": 101,
    "start_time": "2023-03-07T21:02:06.993Z"
   },
   {
    "duration": 8,
    "start_time": "2023-03-07T21:02:07.096Z"
   },
   {
    "duration": 9793,
    "start_time": "2023-03-07T21:02:07.106Z"
   },
   {
    "duration": 365,
    "start_time": "2023-03-07T21:02:16.900Z"
   },
   {
    "duration": 8,
    "start_time": "2023-03-07T21:02:17.267Z"
   },
   {
    "duration": 14,
    "start_time": "2023-03-07T21:02:17.276Z"
   },
   {
    "duration": 4,
    "start_time": "2023-03-07T21:02:17.291Z"
   },
   {
    "duration": 8757,
    "start_time": "2023-03-07T21:02:17.297Z"
   },
   {
    "duration": 1033,
    "start_time": "2023-03-07T21:02:26.056Z"
   },
   {
    "duration": 4,
    "start_time": "2023-03-07T21:02:27.091Z"
   },
   {
    "duration": 13,
    "start_time": "2023-03-07T21:02:27.096Z"
   },
   {
    "duration": 59,
    "start_time": "2023-03-07T21:02:27.111Z"
   },
   {
    "duration": 18,
    "start_time": "2023-03-07T21:02:27.172Z"
   },
   {
    "duration": 9,
    "start_time": "2023-03-07T21:02:27.191Z"
   },
   {
    "duration": 88,
    "start_time": "2023-03-07T21:02:27.203Z"
   },
   {
    "duration": 4,
    "start_time": "2023-03-07T21:02:27.293Z"
   },
   {
    "duration": 99,
    "start_time": "2023-03-07T21:02:27.299Z"
   },
   {
    "duration": 1147,
    "start_time": "2023-03-07T21:02:27.400Z"
   },
   {
    "duration": 5,
    "start_time": "2023-03-07T21:02:28.548Z"
   },
   {
    "duration": 7,
    "start_time": "2023-03-07T21:02:28.555Z"
   },
   {
    "duration": 8,
    "start_time": "2023-03-07T21:02:28.564Z"
   },
   {
    "duration": 377,
    "start_time": "2023-03-07T21:02:28.576Z"
   },
   {
    "duration": 8,
    "start_time": "2023-03-07T21:02:28.955Z"
   },
   {
    "duration": 16,
    "start_time": "2023-03-07T21:02:28.965Z"
   },
   {
    "duration": 20,
    "start_time": "2023-03-07T21:02:28.982Z"
   },
   {
    "duration": 1669,
    "start_time": "2023-03-07T21:08:57.568Z"
   },
   {
    "duration": 16,
    "start_time": "2023-03-07T21:09:00.934Z"
   },
   {
    "duration": 4,
    "start_time": "2023-03-07T21:09:01.572Z"
   },
   {
    "duration": 4,
    "start_time": "2023-03-07T21:09:01.933Z"
   },
   {
    "duration": 1168,
    "start_time": "2023-03-07T21:09:14.215Z"
   },
   {
    "duration": 3,
    "start_time": "2023-03-07T21:09:18.462Z"
   },
   {
    "duration": 3,
    "start_time": "2023-03-07T21:09:18.898Z"
   },
   {
    "duration": 4,
    "start_time": "2023-03-07T21:09:19.186Z"
   },
   {
    "duration": 1330,
    "start_time": "2023-03-07T21:09:49.073Z"
   },
   {
    "duration": 5,
    "start_time": "2023-03-07T21:09:53.611Z"
   },
   {
    "duration": 3,
    "start_time": "2023-03-07T21:09:53.934Z"
   },
   {
    "duration": 4,
    "start_time": "2023-03-07T21:09:54.207Z"
   },
   {
    "duration": 1669,
    "start_time": "2023-03-07T21:09:54.906Z"
   },
   {
    "duration": 23,
    "start_time": "2023-03-07T21:09:56.577Z"
   },
   {
    "duration": 4,
    "start_time": "2023-03-07T21:09:56.603Z"
   },
   {
    "duration": 14,
    "start_time": "2023-03-07T21:09:56.610Z"
   },
   {
    "duration": 4,
    "start_time": "2023-03-07T21:12:27.135Z"
   },
   {
    "duration": 99,
    "start_time": "2023-03-07T21:12:54.648Z"
   },
   {
    "duration": 1261,
    "start_time": "2023-03-07T21:13:26.677Z"
   },
   {
    "duration": 50,
    "start_time": "2023-03-07T21:13:27.941Z"
   },
   {
    "duration": 3,
    "start_time": "2023-03-07T21:13:27.993Z"
   },
   {
    "duration": 12,
    "start_time": "2023-03-07T21:13:27.998Z"
   },
   {
    "duration": 10,
    "start_time": "2023-03-07T21:13:28.011Z"
   },
   {
    "duration": 14,
    "start_time": "2023-03-07T21:13:28.023Z"
   },
   {
    "duration": 13,
    "start_time": "2023-03-07T21:13:28.039Z"
   },
   {
    "duration": 37,
    "start_time": "2023-03-07T21:13:28.054Z"
   },
   {
    "duration": 4,
    "start_time": "2023-03-07T21:13:28.092Z"
   },
   {
    "duration": 26,
    "start_time": "2023-03-07T21:13:28.099Z"
   },
   {
    "duration": 26,
    "start_time": "2023-03-07T21:13:28.127Z"
   },
   {
    "duration": 41,
    "start_time": "2023-03-07T21:13:28.154Z"
   },
   {
    "duration": 5,
    "start_time": "2023-03-07T21:13:28.196Z"
   },
   {
    "duration": 7,
    "start_time": "2023-03-07T21:13:28.202Z"
   },
   {
    "duration": 6,
    "start_time": "2023-03-07T21:13:28.211Z"
   },
   {
    "duration": 5,
    "start_time": "2023-03-07T21:13:28.218Z"
   },
   {
    "duration": 9,
    "start_time": "2023-03-07T21:13:28.224Z"
   },
   {
    "duration": 6,
    "start_time": "2023-03-07T21:13:28.235Z"
   },
   {
    "duration": 6,
    "start_time": "2023-03-07T21:13:28.242Z"
   },
   {
    "duration": 240,
    "start_time": "2023-03-07T21:13:28.250Z"
   },
   {
    "duration": 106,
    "start_time": "2023-03-07T21:13:28.495Z"
   },
   {
    "duration": 197,
    "start_time": "2023-03-07T21:13:28.602Z"
   },
   {
    "duration": 7,
    "start_time": "2023-03-07T21:13:28.801Z"
   },
   {
    "duration": 10985,
    "start_time": "2023-03-07T21:13:28.810Z"
   },
   {
    "duration": 1552,
    "start_time": "2023-03-07T21:13:39.797Z"
   },
   {
    "duration": 13,
    "start_time": "2023-03-07T21:13:41.351Z"
   },
   {
    "duration": 3,
    "start_time": "2023-03-07T21:13:41.366Z"
   },
   {
    "duration": 11,
    "start_time": "2023-03-07T21:13:41.393Z"
   },
   {
    "duration": 9094,
    "start_time": "2023-03-07T21:13:41.406Z"
   },
   {
    "duration": 1321,
    "start_time": "2023-03-07T21:13:50.502Z"
   },
   {
    "duration": 4,
    "start_time": "2023-03-07T21:13:51.824Z"
   },
   {
    "duration": 6,
    "start_time": "2023-03-07T21:13:51.830Z"
   },
   {
    "duration": 13,
    "start_time": "2023-03-07T21:13:51.837Z"
   },
   {
    "duration": 12,
    "start_time": "2023-03-07T21:13:51.851Z"
   },
   {
    "duration": 28,
    "start_time": "2023-03-07T21:13:51.865Z"
   },
   {
    "duration": 246,
    "start_time": "2023-03-07T21:13:51.895Z"
   },
   {
    "duration": 150,
    "start_time": "2023-03-07T21:13:52.143Z"
   },
   {
    "duration": 13,
    "start_time": "2023-03-07T21:13:52.295Z"
   },
   {
    "duration": 1258,
    "start_time": "2023-03-07T21:13:52.311Z"
   },
   {
    "duration": 6,
    "start_time": "2023-03-07T21:13:53.570Z"
   },
   {
    "duration": 10,
    "start_time": "2023-03-07T21:13:53.577Z"
   },
   {
    "duration": 8,
    "start_time": "2023-03-07T21:13:53.588Z"
   },
   {
    "duration": 1630,
    "start_time": "2023-03-07T21:13:53.597Z"
   },
   {
    "duration": 13,
    "start_time": "2023-03-07T21:13:55.229Z"
   },
   {
    "duration": 3,
    "start_time": "2023-03-07T21:13:55.244Z"
   },
   {
    "duration": 7,
    "start_time": "2023-03-07T21:13:55.249Z"
   },
   {
    "duration": 4,
    "start_time": "2023-03-07T21:16:34.695Z"
   },
   {
    "duration": 1881,
    "start_time": "2023-03-07T21:20:36.240Z"
   },
   {
    "duration": 14,
    "start_time": "2023-03-07T21:20:38.123Z"
   },
   {
    "duration": 11,
    "start_time": "2023-03-07T21:20:38.139Z"
   },
   {
    "duration": 11,
    "start_time": "2023-03-07T21:20:38.151Z"
   },
   {
    "duration": 1206,
    "start_time": "2023-03-07T21:26:31.363Z"
   },
   {
    "duration": 55,
    "start_time": "2023-03-07T21:26:32.571Z"
   },
   {
    "duration": 3,
    "start_time": "2023-03-07T21:26:32.628Z"
   },
   {
    "duration": 16,
    "start_time": "2023-03-07T21:26:32.633Z"
   },
   {
    "duration": 12,
    "start_time": "2023-03-07T21:26:32.651Z"
   },
   {
    "duration": 21,
    "start_time": "2023-03-07T21:26:32.665Z"
   },
   {
    "duration": 13,
    "start_time": "2023-03-07T21:26:32.690Z"
   },
   {
    "duration": 5,
    "start_time": "2023-03-07T21:26:32.705Z"
   },
   {
    "duration": 32,
    "start_time": "2023-03-07T21:26:32.712Z"
   },
   {
    "duration": 46,
    "start_time": "2023-03-07T21:26:32.746Z"
   },
   {
    "duration": 14,
    "start_time": "2023-03-07T21:26:32.794Z"
   },
   {
    "duration": 15,
    "start_time": "2023-03-07T21:26:32.810Z"
   },
   {
    "duration": 15,
    "start_time": "2023-03-07T21:26:32.827Z"
   },
   {
    "duration": 6,
    "start_time": "2023-03-07T21:26:32.846Z"
   },
   {
    "duration": 9,
    "start_time": "2023-03-07T21:26:32.854Z"
   },
   {
    "duration": 125,
    "start_time": "2023-03-07T21:26:32.864Z"
   },
   {
    "duration": 106,
    "start_time": "2023-03-07T21:26:32.992Z"
   },
   {
    "duration": 197,
    "start_time": "2023-03-07T21:26:33.100Z"
   },
   {
    "duration": 6,
    "start_time": "2023-03-07T21:26:33.299Z"
   },
   {
    "duration": 12451,
    "start_time": "2023-03-07T21:26:33.306Z"
   },
   {
    "duration": 1782,
    "start_time": "2023-03-07T21:26:45.759Z"
   },
   {
    "duration": 18,
    "start_time": "2023-03-07T21:26:47.543Z"
   },
   {
    "duration": 3,
    "start_time": "2023-03-07T21:26:47.564Z"
   },
   {
    "duration": 21,
    "start_time": "2023-03-07T21:26:47.569Z"
   },
   {
    "duration": 8874,
    "start_time": "2023-03-07T21:26:47.592Z"
   },
   {
    "duration": 1276,
    "start_time": "2023-03-07T21:26:56.468Z"
   },
   {
    "duration": 4,
    "start_time": "2023-03-07T21:26:57.745Z"
   },
   {
    "duration": 10,
    "start_time": "2023-03-07T21:26:57.750Z"
   },
   {
    "duration": 11,
    "start_time": "2023-03-07T21:26:57.762Z"
   },
   {
    "duration": 8,
    "start_time": "2023-03-07T21:26:57.774Z"
   },
   {
    "duration": 22,
    "start_time": "2023-03-07T21:26:57.783Z"
   },
   {
    "duration": 190,
    "start_time": "2023-03-07T21:26:57.807Z"
   },
   {
    "duration": 14,
    "start_time": "2023-03-07T21:26:58.091Z"
   },
   {
    "duration": 17,
    "start_time": "2023-03-07T21:26:58.107Z"
   },
   {
    "duration": 1230,
    "start_time": "2023-03-07T21:26:58.126Z"
   },
   {
    "duration": 5,
    "start_time": "2023-03-07T21:26:59.357Z"
   },
   {
    "duration": 7,
    "start_time": "2023-03-07T21:26:59.365Z"
   },
   {
    "duration": 7,
    "start_time": "2023-03-07T21:26:59.374Z"
   },
   {
    "duration": 1940,
    "start_time": "2023-03-07T21:26:59.383Z"
   },
   {
    "duration": 22,
    "start_time": "2023-03-07T21:27:01.326Z"
   },
   {
    "duration": 46,
    "start_time": "2023-03-07T21:27:01.353Z"
   },
   {
    "duration": 42,
    "start_time": "2023-03-07T21:27:01.401Z"
   },
   {
    "duration": 1138,
    "start_time": "2023-03-07T21:28:47.729Z"
   },
   {
    "duration": 48,
    "start_time": "2023-03-07T21:28:48.869Z"
   },
   {
    "duration": 3,
    "start_time": "2023-03-07T21:28:48.919Z"
   },
   {
    "duration": 12,
    "start_time": "2023-03-07T21:28:48.923Z"
   },
   {
    "duration": 10,
    "start_time": "2023-03-07T21:28:48.937Z"
   },
   {
    "duration": 14,
    "start_time": "2023-03-07T21:28:48.949Z"
   },
   {
    "duration": 26,
    "start_time": "2023-03-07T21:28:48.964Z"
   },
   {
    "duration": 4,
    "start_time": "2023-03-07T21:28:48.992Z"
   },
   {
    "duration": 29,
    "start_time": "2023-03-07T21:28:48.997Z"
   },
   {
    "duration": 26,
    "start_time": "2023-03-07T21:28:49.028Z"
   },
   {
    "duration": 42,
    "start_time": "2023-03-07T21:28:49.055Z"
   },
   {
    "duration": 4,
    "start_time": "2023-03-07T21:28:49.098Z"
   },
   {
    "duration": 9,
    "start_time": "2023-03-07T21:28:49.104Z"
   },
   {
    "duration": 6,
    "start_time": "2023-03-07T21:28:49.116Z"
   },
   {
    "duration": 7,
    "start_time": "2023-03-07T21:28:49.123Z"
   },
   {
    "duration": 70,
    "start_time": "2023-03-07T21:28:49.132Z"
   },
   {
    "duration": 188,
    "start_time": "2023-03-07T21:28:49.204Z"
   },
   {
    "duration": 6,
    "start_time": "2023-03-07T21:28:49.394Z"
   },
   {
    "duration": 97,
    "start_time": "2023-03-07T21:28:49.402Z"
   },
   {
    "duration": 10311,
    "start_time": "2023-03-07T21:28:49.501Z"
   },
   {
    "duration": 1661,
    "start_time": "2023-03-07T21:28:59.814Z"
   },
   {
    "duration": 14,
    "start_time": "2023-03-07T21:29:01.477Z"
   },
   {
    "duration": 44,
    "start_time": "2023-03-07T21:29:01.493Z"
   },
   {
    "duration": 47,
    "start_time": "2023-03-07T21:29:01.539Z"
   },
   {
    "duration": 8784,
    "start_time": "2023-03-07T21:29:01.588Z"
   },
   {
    "duration": 1422,
    "start_time": "2023-03-07T21:29:10.374Z"
   },
   {
    "duration": 4,
    "start_time": "2023-03-07T21:29:11.798Z"
   },
   {
    "duration": 7,
    "start_time": "2023-03-07T21:29:11.804Z"
   },
   {
    "duration": 6,
    "start_time": "2023-03-07T21:29:11.813Z"
   },
   {
    "duration": 7,
    "start_time": "2023-03-07T21:29:11.821Z"
   },
   {
    "duration": 63,
    "start_time": "2023-03-07T21:29:11.830Z"
   },
   {
    "duration": 117,
    "start_time": "2023-03-07T21:29:11.895Z"
   },
   {
    "duration": 100,
    "start_time": "2023-03-07T21:29:12.092Z"
   },
   {
    "duration": 11,
    "start_time": "2023-03-07T21:29:12.194Z"
   },
   {
    "duration": 1284,
    "start_time": "2023-03-07T21:29:12.207Z"
   },
   {
    "duration": 5,
    "start_time": "2023-03-07T21:29:13.493Z"
   },
   {
    "duration": 6,
    "start_time": "2023-03-07T21:29:13.500Z"
   },
   {
    "duration": 7,
    "start_time": "2023-03-07T21:29:13.507Z"
   },
   {
    "duration": 2862,
    "start_time": "2023-03-07T21:29:13.516Z"
   },
   {
    "duration": 25,
    "start_time": "2023-03-07T21:29:16.380Z"
   },
   {
    "duration": 13,
    "start_time": "2023-03-07T21:29:16.409Z"
   },
   {
    "duration": 35,
    "start_time": "2023-03-07T21:29:16.425Z"
   },
   {
    "duration": 1156,
    "start_time": "2023-03-07T21:29:37.689Z"
   },
   {
    "duration": 50,
    "start_time": "2023-03-07T21:29:38.847Z"
   },
   {
    "duration": 4,
    "start_time": "2023-03-07T21:29:38.898Z"
   },
   {
    "duration": 26,
    "start_time": "2023-03-07T21:29:38.903Z"
   },
   {
    "duration": 10,
    "start_time": "2023-03-07T21:29:38.931Z"
   },
   {
    "duration": 13,
    "start_time": "2023-03-07T21:29:38.942Z"
   },
   {
    "duration": 13,
    "start_time": "2023-03-07T21:29:38.956Z"
   },
   {
    "duration": 4,
    "start_time": "2023-03-07T21:29:38.971Z"
   },
   {
    "duration": 23,
    "start_time": "2023-03-07T21:29:38.990Z"
   },
   {
    "duration": 24,
    "start_time": "2023-03-07T21:29:39.015Z"
   },
   {
    "duration": 14,
    "start_time": "2023-03-07T21:29:39.041Z"
   },
   {
    "duration": 4,
    "start_time": "2023-03-07T21:29:39.056Z"
   },
   {
    "duration": 4,
    "start_time": "2023-03-07T21:29:39.090Z"
   },
   {
    "duration": 5,
    "start_time": "2023-03-07T21:29:39.097Z"
   },
   {
    "duration": 6,
    "start_time": "2023-03-07T21:29:39.104Z"
   },
   {
    "duration": 13,
    "start_time": "2023-03-07T21:29:39.111Z"
   },
   {
    "duration": 99,
    "start_time": "2023-03-07T21:29:39.192Z"
   },
   {
    "duration": 8,
    "start_time": "2023-03-07T21:29:39.293Z"
   },
   {
    "duration": 94,
    "start_time": "2023-03-07T21:29:39.303Z"
   },
   {
    "duration": 9983,
    "start_time": "2023-03-07T21:29:39.400Z"
   },
   {
    "duration": 1641,
    "start_time": "2023-03-07T21:29:49.385Z"
   },
   {
    "duration": 14,
    "start_time": "2023-03-07T21:29:51.028Z"
   },
   {
    "duration": 7,
    "start_time": "2023-03-07T21:29:51.043Z"
   },
   {
    "duration": 13,
    "start_time": "2023-03-07T21:29:51.051Z"
   },
   {
    "duration": 9011,
    "start_time": "2023-03-07T21:29:51.065Z"
   },
   {
    "duration": 1221,
    "start_time": "2023-03-07T21:30:00.078Z"
   },
   {
    "duration": 3,
    "start_time": "2023-03-07T21:30:01.301Z"
   },
   {
    "duration": 32,
    "start_time": "2023-03-07T21:30:01.305Z"
   },
   {
    "duration": 31,
    "start_time": "2023-03-07T21:30:01.339Z"
   },
   {
    "duration": 36,
    "start_time": "2023-03-07T21:30:01.371Z"
   },
   {
    "duration": 35,
    "start_time": "2023-03-07T21:30:01.408Z"
   },
   {
    "duration": 183,
    "start_time": "2023-03-07T21:30:01.446Z"
   },
   {
    "duration": 147,
    "start_time": "2023-03-07T21:30:01.691Z"
   },
   {
    "duration": 104,
    "start_time": "2023-03-07T21:30:01.840Z"
   },
   {
    "duration": 1996,
    "start_time": "2023-03-07T21:30:01.945Z"
   },
   {
    "duration": 4,
    "start_time": "2023-03-07T21:30:03.943Z"
   },
   {
    "duration": 13,
    "start_time": "2023-03-07T21:30:03.949Z"
   },
   {
    "duration": 11,
    "start_time": "2023-03-07T21:30:03.963Z"
   },
   {
    "duration": 1857,
    "start_time": "2023-03-07T21:30:03.975Z"
   },
   {
    "duration": 13,
    "start_time": "2023-03-07T21:30:05.834Z"
   },
   {
    "duration": 3,
    "start_time": "2023-03-07T21:30:05.851Z"
   },
   {
    "duration": 14,
    "start_time": "2023-03-07T21:30:05.856Z"
   },
   {
    "duration": 983,
    "start_time": "2023-03-08T10:15:08.817Z"
   },
   {
    "duration": 47,
    "start_time": "2023-03-08T10:15:09.802Z"
   },
   {
    "duration": 3,
    "start_time": "2023-03-08T10:15:09.850Z"
   },
   {
    "duration": 9,
    "start_time": "2023-03-08T10:15:09.855Z"
   },
   {
    "duration": 11,
    "start_time": "2023-03-08T10:15:09.866Z"
   },
   {
    "duration": 13,
    "start_time": "2023-03-08T10:15:09.879Z"
   },
   {
    "duration": 16,
    "start_time": "2023-03-08T10:15:09.894Z"
   },
   {
    "duration": 30,
    "start_time": "2023-03-08T10:15:09.912Z"
   },
   {
    "duration": 24,
    "start_time": "2023-03-08T10:15:09.943Z"
   },
   {
    "duration": 25,
    "start_time": "2023-03-08T10:15:09.970Z"
   },
   {
    "duration": 14,
    "start_time": "2023-03-08T10:15:09.997Z"
   },
   {
    "duration": 3,
    "start_time": "2023-03-08T10:15:10.013Z"
   },
   {
    "duration": 7,
    "start_time": "2023-03-08T10:15:10.042Z"
   },
   {
    "duration": 4,
    "start_time": "2023-03-08T10:15:10.051Z"
   },
   {
    "duration": 6,
    "start_time": "2023-03-08T10:15:10.057Z"
   },
   {
    "duration": 15,
    "start_time": "2023-03-08T10:15:10.064Z"
   },
   {
    "duration": 67,
    "start_time": "2023-03-08T10:15:10.081Z"
   },
   {
    "duration": 191,
    "start_time": "2023-03-08T10:15:10.150Z"
   },
   {
    "duration": 5,
    "start_time": "2023-03-08T10:15:10.343Z"
   },
   {
    "duration": 9906,
    "start_time": "2023-03-08T10:15:10.350Z"
   },
   {
    "duration": 1665,
    "start_time": "2023-03-08T10:15:20.258Z"
   },
   {
    "duration": 23,
    "start_time": "2023-03-08T10:15:21.924Z"
   },
   {
    "duration": 3,
    "start_time": "2023-03-08T10:15:21.949Z"
   },
   {
    "duration": 17,
    "start_time": "2023-03-08T10:15:21.954Z"
   },
   {
    "duration": 6951,
    "start_time": "2023-03-08T10:15:21.973Z"
   },
   {
    "duration": 967,
    "start_time": "2023-03-08T10:15:28.925Z"
   },
   {
    "duration": 3,
    "start_time": "2023-03-08T10:15:29.893Z"
   },
   {
    "duration": 32,
    "start_time": "2023-03-08T10:15:29.899Z"
   },
   {
    "duration": 13,
    "start_time": "2023-03-08T10:15:29.933Z"
   },
   {
    "duration": 41,
    "start_time": "2023-03-08T10:15:29.947Z"
   },
   {
    "duration": 50,
    "start_time": "2023-03-08T10:15:29.990Z"
   },
   {
    "duration": 197,
    "start_time": "2023-03-08T10:15:30.048Z"
   },
   {
    "duration": 214,
    "start_time": "2023-03-08T10:15:30.251Z"
   },
   {
    "duration": 85,
    "start_time": "2023-03-08T10:15:30.467Z"
   },
   {
    "duration": 1541,
    "start_time": "2023-03-08T10:15:30.554Z"
   },
   {
    "duration": 5,
    "start_time": "2023-03-08T10:15:32.096Z"
   },
   {
    "duration": 81,
    "start_time": "2023-03-08T10:15:32.103Z"
   },
   {
    "duration": 72,
    "start_time": "2023-03-08T10:15:32.186Z"
   },
   {
    "duration": 1811,
    "start_time": "2023-03-08T10:15:32.260Z"
   },
   {
    "duration": 14,
    "start_time": "2023-03-08T10:15:34.073Z"
   },
   {
    "duration": 37,
    "start_time": "2023-03-08T10:15:34.089Z"
   },
   {
    "duration": 14,
    "start_time": "2023-03-08T10:15:34.128Z"
   },
   {
    "duration": 46,
    "start_time": "2023-03-09T11:03:54.202Z"
   },
   {
    "duration": 1096,
    "start_time": "2023-03-09T11:04:32.727Z"
   },
   {
    "duration": 196,
    "start_time": "2023-03-09T11:04:33.825Z"
   },
   {
    "duration": 3,
    "start_time": "2023-03-09T11:04:36.000Z"
   },
   {
    "duration": 9,
    "start_time": "2023-03-09T11:04:36.309Z"
   },
   {
    "duration": 12,
    "start_time": "2023-03-09T11:04:36.625Z"
   },
   {
    "duration": 6,
    "start_time": "2023-03-09T11:04:43.613Z"
   },
   {
    "duration": 11,
    "start_time": "2023-03-09T11:04:55.099Z"
   },
   {
    "duration": 6,
    "start_time": "2023-03-09T11:04:55.413Z"
   },
   {
    "duration": 10,
    "start_time": "2023-03-09T11:04:57.652Z"
   },
   {
    "duration": 4,
    "start_time": "2023-03-09T11:05:17.912Z"
   },
   {
    "duration": 608,
    "start_time": "2023-03-09T11:05:48.445Z"
   },
   {
    "duration": 9,
    "start_time": "2023-03-09T11:10:21.851Z"
   },
   {
    "duration": 195,
    "start_time": "2023-03-09T11:10:22.032Z"
   },
   {
    "duration": 91,
    "start_time": "2023-03-09T11:15:18.235Z"
   },
   {
    "duration": 36,
    "start_time": "2023-03-09T11:15:49.165Z"
   },
   {
    "duration": 786,
    "start_time": "2023-03-09T11:15:55.964Z"
   },
   {
    "duration": 703,
    "start_time": "2023-03-09T11:17:53.606Z"
   },
   {
    "duration": 152,
    "start_time": "2023-03-09T11:20:11.009Z"
   },
   {
    "duration": 16,
    "start_time": "2023-03-09T11:21:05.502Z"
   },
   {
    "duration": 9,
    "start_time": "2023-03-09T11:21:17.529Z"
   },
   {
    "duration": 10,
    "start_time": "2023-03-09T11:21:39.906Z"
   },
   {
    "duration": 9,
    "start_time": "2023-03-09T11:21:57.429Z"
   },
   {
    "duration": 9,
    "start_time": "2023-03-09T11:22:06.407Z"
   },
   {
    "duration": 4,
    "start_time": "2023-03-09T11:22:14.136Z"
   },
   {
    "duration": 11,
    "start_time": "2023-03-09T11:22:33.228Z"
   },
   {
    "duration": 10,
    "start_time": "2023-03-09T11:22:52.520Z"
   },
   {
    "duration": 669,
    "start_time": "2023-03-09T11:22:58.902Z"
   },
   {
    "duration": 149,
    "start_time": "2023-03-09T11:23:05.219Z"
   },
   {
    "duration": 11,
    "start_time": "2023-03-09T11:23:10.907Z"
   },
   {
    "duration": 10,
    "start_time": "2023-03-09T11:23:25.359Z"
   },
   {
    "duration": 10,
    "start_time": "2023-03-09T11:23:53.012Z"
   },
   {
    "duration": 1301,
    "start_time": "2023-03-09T11:24:18.436Z"
   },
   {
    "duration": 50,
    "start_time": "2023-03-09T11:24:19.739Z"
   },
   {
    "duration": 3,
    "start_time": "2023-03-09T11:24:19.790Z"
   },
   {
    "duration": 21,
    "start_time": "2023-03-09T11:24:19.796Z"
   },
   {
    "duration": 18,
    "start_time": "2023-03-09T11:24:19.818Z"
   },
   {
    "duration": 32,
    "start_time": "2023-03-09T11:24:19.838Z"
   },
   {
    "duration": 34,
    "start_time": "2023-03-09T11:24:19.872Z"
   },
   {
    "duration": 15,
    "start_time": "2023-03-09T11:24:19.908Z"
   },
   {
    "duration": 14,
    "start_time": "2023-03-09T11:24:19.925Z"
   },
   {
    "duration": 201,
    "start_time": "2023-03-09T11:24:19.941Z"
   },
   {
    "duration": 746,
    "start_time": "2023-03-09T11:24:21.445Z"
   },
   {
    "duration": 197,
    "start_time": "2023-03-09T11:24:25.224Z"
   },
   {
    "duration": 132,
    "start_time": "2023-03-09T11:24:27.495Z"
   },
   {
    "duration": 72,
    "start_time": "2023-03-09T11:27:11.599Z"
   },
   {
    "duration": 10,
    "start_time": "2023-03-09T11:28:23.201Z"
   },
   {
    "duration": 637,
    "start_time": "2023-03-09T11:28:36.932Z"
   },
   {
    "duration": 140,
    "start_time": "2023-03-09T11:28:41.531Z"
   },
   {
    "duration": 9,
    "start_time": "2023-03-09T11:36:27.293Z"
   },
   {
    "duration": 619,
    "start_time": "2023-03-09T11:36:34.901Z"
   },
   {
    "duration": 138,
    "start_time": "2023-03-09T11:36:39.791Z"
   },
   {
    "duration": 107,
    "start_time": "2023-03-09T11:36:56.433Z"
   },
   {
    "duration": 93,
    "start_time": "2023-03-09T11:37:33.127Z"
   },
   {
    "duration": 16,
    "start_time": "2023-03-09T11:38:08.135Z"
   },
   {
    "duration": 733,
    "start_time": "2023-03-09T11:38:12.026Z"
   },
   {
    "duration": 6,
    "start_time": "2023-03-09T11:38:27.965Z"
   },
   {
    "duration": 172,
    "start_time": "2023-03-09T11:38:28.461Z"
   },
   {
    "duration": 620,
    "start_time": "2023-03-09T11:38:32.853Z"
   },
   {
    "duration": 101,
    "start_time": "2023-03-09T11:38:38.077Z"
   },
   {
    "duration": 9,
    "start_time": "2023-03-09T11:39:06.050Z"
   },
   {
    "duration": 9,
    "start_time": "2023-03-09T11:39:06.491Z"
   },
   {
    "duration": 124,
    "start_time": "2023-03-09T11:39:31.541Z"
   },
   {
    "duration": 164,
    "start_time": "2023-03-09T11:40:28.450Z"
   },
   {
    "duration": 8,
    "start_time": "2023-03-09T11:40:39.925Z"
   },
   {
    "duration": 261,
    "start_time": "2023-03-09T11:40:40.335Z"
   },
   {
    "duration": 601,
    "start_time": "2023-03-09T11:40:41.692Z"
   },
   {
    "duration": 156,
    "start_time": "2023-03-09T11:40:43.475Z"
   },
   {
    "duration": 7,
    "start_time": "2023-03-09T11:41:48.934Z"
   },
   {
    "duration": 123,
    "start_time": "2023-03-09T11:41:49.820Z"
   },
   {
    "duration": 139,
    "start_time": "2023-03-09T11:42:35.354Z"
   },
   {
    "duration": 129,
    "start_time": "2023-03-09T11:42:42.948Z"
   },
   {
    "duration": 129,
    "start_time": "2023-03-09T11:57:49.131Z"
   },
   {
    "duration": 4,
    "start_time": "2023-03-09T12:05:25.472Z"
   },
   {
    "duration": 20,
    "start_time": "2023-03-09T12:05:27.778Z"
   },
   {
    "duration": 23,
    "start_time": "2023-03-09T12:05:32.957Z"
   },
   {
    "duration": 11,
    "start_time": "2023-03-09T12:05:38.402Z"
   },
   {
    "duration": 4,
    "start_time": "2023-03-09T12:05:38.617Z"
   },
   {
    "duration": 4,
    "start_time": "2023-03-09T12:05:38.827Z"
   },
   {
    "duration": 4,
    "start_time": "2023-03-09T12:05:39.306Z"
   },
   {
    "duration": 4,
    "start_time": "2023-03-09T12:05:40.353Z"
   },
   {
    "duration": 7,
    "start_time": "2023-03-09T12:05:41.698Z"
   },
   {
    "duration": 5,
    "start_time": "2023-03-09T12:05:41.940Z"
   },
   {
    "duration": 3,
    "start_time": "2023-03-09T12:05:42.159Z"
   },
   {
    "duration": 4,
    "start_time": "2023-03-09T12:05:42.684Z"
   },
   {
    "duration": 4,
    "start_time": "2023-03-09T12:05:57.669Z"
   },
   {
    "duration": 7,
    "start_time": "2023-03-09T12:05:58.037Z"
   },
   {
    "duration": 22,
    "start_time": "2023-03-09T12:05:58.906Z"
   },
   {
    "duration": 1459,
    "start_time": "2023-03-09T12:06:20.147Z"
   },
   {
    "duration": 46,
    "start_time": "2023-03-09T12:06:21.607Z"
   },
   {
    "duration": 3,
    "start_time": "2023-03-09T12:06:21.654Z"
   },
   {
    "duration": 24,
    "start_time": "2023-03-09T12:06:21.658Z"
   },
   {
    "duration": 14,
    "start_time": "2023-03-09T12:06:21.684Z"
   },
   {
    "duration": 10,
    "start_time": "2023-03-09T12:06:21.699Z"
   },
   {
    "duration": 11,
    "start_time": "2023-03-09T12:06:21.710Z"
   },
   {
    "duration": 12,
    "start_time": "2023-03-09T12:06:21.722Z"
   },
   {
    "duration": 8,
    "start_time": "2023-03-09T12:06:21.736Z"
   },
   {
    "duration": 206,
    "start_time": "2023-03-09T12:06:21.746Z"
   },
   {
    "duration": 717,
    "start_time": "2023-03-09T12:06:21.953Z"
   },
   {
    "duration": 151,
    "start_time": "2023-03-09T12:06:22.673Z"
   },
   {
    "duration": 8,
    "start_time": "2023-03-09T12:06:22.826Z"
   },
   {
    "duration": 155,
    "start_time": "2023-03-09T12:06:22.836Z"
   },
   {
    "duration": 132,
    "start_time": "2023-03-09T12:06:22.993Z"
   },
   {
    "duration": 3,
    "start_time": "2023-03-09T12:06:23.127Z"
   },
   {
    "duration": 18,
    "start_time": "2023-03-09T12:06:23.132Z"
   },
   {
    "duration": 17,
    "start_time": "2023-03-09T12:06:24.858Z"
   },
   {
    "duration": 11,
    "start_time": "2023-03-09T12:06:26.648Z"
   },
   {
    "duration": 4,
    "start_time": "2023-03-09T12:06:26.990Z"
   },
   {
    "duration": 3,
    "start_time": "2023-03-09T12:06:27.210Z"
   },
   {
    "duration": 4,
    "start_time": "2023-03-09T12:06:27.403Z"
   },
   {
    "duration": 3,
    "start_time": "2023-03-09T12:06:27.650Z"
   },
   {
    "duration": 5,
    "start_time": "2023-03-09T12:06:28.330Z"
   },
   {
    "duration": 5,
    "start_time": "2023-03-09T12:06:28.499Z"
   },
   {
    "duration": 3,
    "start_time": "2023-03-09T12:06:28.654Z"
   },
   {
    "duration": 4,
    "start_time": "2023-03-09T12:06:28.815Z"
   },
   {
    "duration": 1526,
    "start_time": "2023-03-09T12:06:53.591Z"
   },
   {
    "duration": 49,
    "start_time": "2023-03-09T12:06:55.120Z"
   },
   {
    "duration": 3,
    "start_time": "2023-03-09T12:06:55.171Z"
   },
   {
    "duration": 10,
    "start_time": "2023-03-09T12:06:55.176Z"
   },
   {
    "duration": 12,
    "start_time": "2023-03-09T12:06:55.187Z"
   },
   {
    "duration": 19,
    "start_time": "2023-03-09T12:06:55.201Z"
   },
   {
    "duration": 12,
    "start_time": "2023-03-09T12:06:55.222Z"
   },
   {
    "duration": 12,
    "start_time": "2023-03-09T12:06:55.236Z"
   },
   {
    "duration": 7,
    "start_time": "2023-03-09T12:06:55.249Z"
   },
   {
    "duration": 211,
    "start_time": "2023-03-09T12:06:55.619Z"
   },
   {
    "duration": 806,
    "start_time": "2023-03-09T12:06:55.832Z"
   },
   {
    "duration": 161,
    "start_time": "2023-03-09T12:06:56.640Z"
   },
   {
    "duration": 8,
    "start_time": "2023-03-09T12:06:56.803Z"
   },
   {
    "duration": 159,
    "start_time": "2023-03-09T12:06:56.814Z"
   },
   {
    "duration": 148,
    "start_time": "2023-03-09T12:06:56.979Z"
   },
   {
    "duration": 4,
    "start_time": "2023-03-09T12:06:57.129Z"
   },
   {
    "duration": 25,
    "start_time": "2023-03-09T12:06:57.134Z"
   },
   {
    "duration": 39,
    "start_time": "2023-03-09T12:06:57.161Z"
   },
   {
    "duration": 15,
    "start_time": "2023-03-09T12:06:57.202Z"
   },
   {
    "duration": 4,
    "start_time": "2023-03-09T12:06:57.219Z"
   },
   {
    "duration": 4,
    "start_time": "2023-03-09T12:06:57.281Z"
   },
   {
    "duration": 4,
    "start_time": "2023-03-09T12:06:57.363Z"
   },
   {
    "duration": 4,
    "start_time": "2023-03-09T12:06:58.714Z"
   },
   {
    "duration": 19,
    "start_time": "2023-03-09T12:06:59.442Z"
   },
   {
    "duration": 9,
    "start_time": "2023-03-09T12:06:59.607Z"
   },
   {
    "duration": 4,
    "start_time": "2023-03-09T12:06:59.794Z"
   },
   {
    "duration": 6,
    "start_time": "2023-03-09T12:06:59.971Z"
   },
   {
    "duration": 1753,
    "start_time": "2023-03-09T17:30:47.890Z"
   },
   {
    "duration": 5,
    "start_time": "2023-03-09T17:31:23.809Z"
   },
   {
    "duration": 141,
    "start_time": "2023-03-09T17:31:24.211Z"
   },
   {
    "duration": 10,
    "start_time": "2023-03-09T17:31:24.575Z"
   },
   {
    "duration": 4,
    "start_time": "2023-03-09T17:31:34.432Z"
   },
   {
    "duration": 193,
    "start_time": "2023-03-09T17:31:34.941Z"
   },
   {
    "duration": 3,
    "start_time": "2023-03-09T17:31:35.136Z"
   },
   {
    "duration": 29,
    "start_time": "2023-03-09T17:31:35.142Z"
   },
   {
    "duration": 15,
    "start_time": "2023-03-09T17:31:35.176Z"
   },
   {
    "duration": 13,
    "start_time": "2023-03-09T17:31:35.429Z"
   },
   {
    "duration": 10,
    "start_time": "2023-03-09T17:31:35.513Z"
   },
   {
    "duration": 20,
    "start_time": "2023-03-09T17:31:35.597Z"
   },
   {
    "duration": 9,
    "start_time": "2023-03-09T17:31:35.763Z"
   },
   {
    "duration": 231,
    "start_time": "2023-03-09T17:31:35.847Z"
   },
   {
    "duration": 872,
    "start_time": "2023-03-09T17:31:36.080Z"
   },
   {
    "duration": 195,
    "start_time": "2023-03-09T17:31:36.954Z"
   },
   {
    "duration": 12,
    "start_time": "2023-03-09T17:31:37.151Z"
   },
   {
    "duration": 195,
    "start_time": "2023-03-09T17:31:37.165Z"
   },
   {
    "duration": 165,
    "start_time": "2023-03-09T17:31:37.362Z"
   },
   {
    "duration": 5,
    "start_time": "2023-03-09T17:31:37.529Z"
   },
   {
    "duration": 46,
    "start_time": "2023-03-09T17:31:37.536Z"
   },
   {
    "duration": 38,
    "start_time": "2023-03-09T17:31:37.584Z"
   },
   {
    "duration": 34,
    "start_time": "2023-03-09T17:31:37.624Z"
   },
   {
    "duration": 4,
    "start_time": "2023-03-09T17:31:37.661Z"
   },
   {
    "duration": 6,
    "start_time": "2023-03-09T17:31:37.667Z"
   },
   {
    "duration": 6,
    "start_time": "2023-03-09T17:31:37.675Z"
   },
   {
    "duration": 4,
    "start_time": "2023-03-09T17:31:37.686Z"
   },
   {
    "duration": 17,
    "start_time": "2023-03-09T17:31:37.868Z"
   },
   {
    "duration": 107,
    "start_time": "2023-03-09T17:31:37.958Z"
   },
   {
    "duration": 196,
    "start_time": "2023-03-09T17:31:38.068Z"
   },
   {
    "duration": 6,
    "start_time": "2023-03-09T17:31:38.267Z"
   },
   {
    "duration": 5,
    "start_time": "2023-03-09T17:31:38.274Z"
   },
   {
    "duration": 5085,
    "start_time": "2023-03-09T17:31:38.281Z"
   },
   {
    "duration": 191,
    "start_time": "2023-03-09T17:31:43.368Z"
   },
   {
    "duration": 3,
    "start_time": "2023-03-09T17:32:23.539Z"
   },
   {
    "duration": 4,
    "start_time": "2023-03-09T17:32:50.408Z"
   },
   {
    "duration": 5,
    "start_time": "2023-03-09T17:32:51.007Z"
   },
   {
    "duration": 4,
    "start_time": "2023-03-09T17:34:24.148Z"
   },
   {
    "duration": 4208,
    "start_time": "2023-03-09T17:34:24.649Z"
   },
   {
    "duration": 96,
    "start_time": "2023-03-09T17:34:28.862Z"
   },
   {
    "duration": 112,
    "start_time": "2023-03-09T17:34:28.961Z"
   },
   {
    "duration": 7,
    "start_time": "2023-03-09T17:34:29.076Z"
   },
   {
    "duration": 1092,
    "start_time": "2023-03-09T17:34:32.003Z"
   },
   {
    "duration": 31,
    "start_time": "2023-03-09T17:35:10.341Z"
   },
   {
    "duration": 2213,
    "start_time": "2023-03-09T17:35:45.023Z"
   },
   {
    "duration": 1133,
    "start_time": "2023-03-09T17:36:00.395Z"
   },
   {
    "duration": 2082,
    "start_time": "2023-03-09T17:36:37.785Z"
   },
   {
    "duration": 1162,
    "start_time": "2023-03-09T17:37:09.747Z"
   },
   {
    "duration": 52,
    "start_time": "2023-03-09T17:37:33.057Z"
   },
   {
    "duration": 8,
    "start_time": "2023-03-09T17:37:35.514Z"
   },
   {
    "duration": 4,
    "start_time": "2023-03-09T17:37:35.743Z"
   },
   {
    "duration": 4,
    "start_time": "2023-03-09T17:37:35.943Z"
   },
   {
    "duration": 9537,
    "start_time": "2023-03-09T17:37:50.969Z"
   },
   {
    "duration": 1314,
    "start_time": "2023-03-09T17:38:00.508Z"
   },
   {
    "duration": 5,
    "start_time": "2023-03-09T17:38:01.824Z"
   },
   {
    "duration": 51,
    "start_time": "2023-03-09T17:38:01.831Z"
   },
   {
    "duration": 32,
    "start_time": "2023-03-09T17:38:01.885Z"
   },
   {
    "duration": 1572,
    "start_time": "2023-03-09T17:38:33.621Z"
   },
   {
    "duration": 49,
    "start_time": "2023-03-09T17:38:35.195Z"
   },
   {
    "duration": 4,
    "start_time": "2023-03-09T17:38:35.246Z"
   },
   {
    "duration": 45,
    "start_time": "2023-03-09T17:38:35.252Z"
   },
   {
    "duration": 14,
    "start_time": "2023-03-09T17:38:35.299Z"
   },
   {
    "duration": 20,
    "start_time": "2023-03-09T17:38:35.315Z"
   },
   {
    "duration": 9,
    "start_time": "2023-03-09T17:38:35.337Z"
   },
   {
    "duration": 19,
    "start_time": "2023-03-09T17:38:35.348Z"
   },
   {
    "duration": 10,
    "start_time": "2023-03-09T17:38:35.369Z"
   },
   {
    "duration": 303,
    "start_time": "2023-03-09T17:38:35.381Z"
   },
   {
    "duration": 888,
    "start_time": "2023-03-09T17:38:35.688Z"
   },
   {
    "duration": 177,
    "start_time": "2023-03-09T17:38:36.578Z"
   },
   {
    "duration": 8,
    "start_time": "2023-03-09T17:38:36.756Z"
   },
   {
    "duration": 158,
    "start_time": "2023-03-09T17:38:36.767Z"
   },
   {
    "duration": 163,
    "start_time": "2023-03-09T17:38:36.926Z"
   },
   {
    "duration": 5,
    "start_time": "2023-03-09T17:38:37.090Z"
   },
   {
    "duration": 18,
    "start_time": "2023-03-09T17:38:37.096Z"
   },
   {
    "duration": 22,
    "start_time": "2023-03-09T17:38:37.116Z"
   },
   {
    "duration": 15,
    "start_time": "2023-03-09T17:38:37.158Z"
   },
   {
    "duration": 5,
    "start_time": "2023-03-09T17:38:37.175Z"
   },
   {
    "duration": 10,
    "start_time": "2023-03-09T17:38:37.182Z"
   },
   {
    "duration": 8,
    "start_time": "2023-03-09T17:38:37.193Z"
   },
   {
    "duration": 6,
    "start_time": "2023-03-09T17:38:37.203Z"
   },
   {
    "duration": 11,
    "start_time": "2023-03-09T17:38:37.210Z"
   },
   {
    "duration": 5850,
    "start_time": "2023-03-09T17:38:37.223Z"
   },
   {
    "duration": 6,
    "start_time": "2023-03-09T17:38:43.158Z"
   },
   {
    "duration": 115,
    "start_time": "2023-03-09T17:38:43.166Z"
   },
   {
    "duration": 16,
    "start_time": "2023-03-09T17:38:43.283Z"
   },
   {
    "duration": 2019,
    "start_time": "2023-03-09T17:38:43.300Z"
   },
   {
    "duration": 69,
    "start_time": "2023-03-09T17:38:45.321Z"
   },
   {
    "duration": 8,
    "start_time": "2023-03-09T17:38:45.393Z"
   },
   {
    "duration": 6,
    "start_time": "2023-03-09T17:38:45.403Z"
   },
   {
    "duration": 7,
    "start_time": "2023-03-09T17:38:45.410Z"
   },
   {
    "duration": 7423,
    "start_time": "2023-03-09T17:38:45.419Z"
   },
   {
    "duration": 988,
    "start_time": "2023-03-09T17:38:52.845Z"
   },
   {
    "duration": 3,
    "start_time": "2023-03-09T17:38:53.835Z"
   },
   {
    "duration": 14,
    "start_time": "2023-03-09T17:38:53.840Z"
   },
   {
    "duration": 15,
    "start_time": "2023-03-09T17:38:53.856Z"
   },
   {
    "duration": 30,
    "start_time": "2023-03-09T17:38:53.874Z"
   },
   {
    "duration": 28,
    "start_time": "2023-03-09T17:38:53.906Z"
   },
   {
    "duration": 21,
    "start_time": "2023-03-09T17:38:53.940Z"
   },
   {
    "duration": 94,
    "start_time": "2023-03-09T17:38:53.966Z"
   },
   {
    "duration": 15,
    "start_time": "2023-03-09T17:38:54.062Z"
   },
   {
    "duration": 1540,
    "start_time": "2023-03-09T17:38:54.079Z"
   },
   {
    "duration": 5,
    "start_time": "2023-03-09T17:38:55.621Z"
   },
   {
    "duration": 54,
    "start_time": "2023-03-09T17:38:55.629Z"
   },
   {
    "duration": 127,
    "start_time": "2023-03-09T17:38:55.685Z"
   },
   {
    "duration": 386,
    "start_time": "2023-03-09T17:38:55.813Z"
   },
   {
    "duration": 63,
    "start_time": "2023-03-09T17:38:56.201Z"
   },
   {
    "duration": 18,
    "start_time": "2023-03-09T17:38:56.267Z"
   },
   {
    "duration": 26,
    "start_time": "2023-03-09T17:38:56.287Z"
   },
   {
    "duration": 1508,
    "start_time": "2023-03-09T17:39:18.776Z"
   },
   {
    "duration": 49,
    "start_time": "2023-03-09T17:39:20.285Z"
   },
   {
    "duration": 3,
    "start_time": "2023-03-09T17:39:20.335Z"
   },
   {
    "duration": 10,
    "start_time": "2023-03-09T17:39:20.340Z"
   },
   {
    "duration": 12,
    "start_time": "2023-03-09T17:39:20.352Z"
   },
   {
    "duration": 24,
    "start_time": "2023-03-09T17:39:20.366Z"
   },
   {
    "duration": 9,
    "start_time": "2023-03-09T17:39:20.391Z"
   },
   {
    "duration": 13,
    "start_time": "2023-03-09T17:39:20.402Z"
   },
   {
    "duration": 8,
    "start_time": "2023-03-09T17:39:20.417Z"
   },
   {
    "duration": 275,
    "start_time": "2023-03-09T17:39:20.427Z"
   },
   {
    "duration": 867,
    "start_time": "2023-03-09T17:39:20.704Z"
   },
   {
    "duration": 185,
    "start_time": "2023-03-09T17:39:21.574Z"
   },
   {
    "duration": 15,
    "start_time": "2023-03-09T17:39:21.762Z"
   },
   {
    "duration": 165,
    "start_time": "2023-03-09T17:39:21.780Z"
   },
   {
    "duration": 169,
    "start_time": "2023-03-09T17:39:21.947Z"
   },
   {
    "duration": 3,
    "start_time": "2023-03-09T17:39:22.118Z"
   },
   {
    "duration": 61,
    "start_time": "2023-03-09T17:39:22.124Z"
   },
   {
    "duration": 26,
    "start_time": "2023-03-09T17:39:22.187Z"
   },
   {
    "duration": 18,
    "start_time": "2023-03-09T17:39:22.215Z"
   },
   {
    "duration": 4,
    "start_time": "2023-03-09T17:39:22.235Z"
   },
   {
    "duration": 8,
    "start_time": "2023-03-09T17:39:22.258Z"
   },
   {
    "duration": 12,
    "start_time": "2023-03-09T17:39:22.268Z"
   },
   {
    "duration": 5,
    "start_time": "2023-03-09T17:39:22.282Z"
   },
   {
    "duration": 9,
    "start_time": "2023-03-09T17:39:22.289Z"
   },
   {
    "duration": 5658,
    "start_time": "2023-03-09T17:39:22.299Z"
   },
   {
    "duration": 119,
    "start_time": "2023-03-09T17:39:27.960Z"
   },
   {
    "duration": 4,
    "start_time": "2023-03-09T17:39:28.082Z"
   },
   {
    "duration": 8,
    "start_time": "2023-03-09T17:39:28.159Z"
   },
   {
    "duration": 1604,
    "start_time": "2023-03-09T17:39:34.737Z"
   },
   {
    "duration": 2598,
    "start_time": "2023-03-09T17:39:58.632Z"
   },
   {
    "duration": 1439,
    "start_time": "2023-03-09T17:40:19.675Z"
   },
   {
    "duration": 134,
    "start_time": "2023-03-09T17:40:37.454Z"
   },
   {
    "duration": 9,
    "start_time": "2023-03-09T17:40:37.880Z"
   },
   {
    "duration": 4,
    "start_time": "2023-03-09T17:40:38.372Z"
   },
   {
    "duration": 4,
    "start_time": "2023-03-09T17:40:38.574Z"
   },
   {
    "duration": 1458,
    "start_time": "2023-03-09T17:41:10.074Z"
   },
   {
    "duration": 175,
    "start_time": "2023-03-09T17:41:35.620Z"
   },
   {
    "duration": 13,
    "start_time": "2023-03-09T17:41:36.248Z"
   },
   {
    "duration": 3,
    "start_time": "2023-03-09T17:41:36.572Z"
   },
   {
    "duration": 4,
    "start_time": "2023-03-09T17:41:36.770Z"
   },
   {
    "duration": 9968,
    "start_time": "2023-03-09T17:41:44.135Z"
   },
   {
    "duration": 1752,
    "start_time": "2023-03-09T17:42:20.688Z"
   },
   {
    "duration": 4,
    "start_time": "2023-03-09T17:42:22.442Z"
   },
   {
    "duration": 8,
    "start_time": "2023-03-09T17:42:22.448Z"
   },
   {
    "duration": 9,
    "start_time": "2023-03-09T17:42:22.458Z"
   },
   {
    "duration": 5,
    "start_time": "2023-03-09T17:44:08.492Z"
   },
   {
    "duration": 5849,
    "start_time": "2023-03-09T17:44:09.019Z"
   },
   {
    "duration": 73,
    "start_time": "2023-03-09T17:44:17.584Z"
   },
   {
    "duration": 130,
    "start_time": "2023-03-09T17:44:21.093Z"
   },
   {
    "duration": 3,
    "start_time": "2023-03-09T17:44:37.983Z"
   },
   {
    "duration": 4,
    "start_time": "2023-03-09T17:44:40.103Z"
   },
   {
    "duration": 1610,
    "start_time": "2023-03-09T17:45:06.644Z"
   },
   {
    "duration": 53,
    "start_time": "2023-03-09T17:45:08.256Z"
   },
   {
    "duration": 4,
    "start_time": "2023-03-09T17:45:08.311Z"
   },
   {
    "duration": 14,
    "start_time": "2023-03-09T17:45:08.317Z"
   },
   {
    "duration": 24,
    "start_time": "2023-03-09T17:45:08.333Z"
   },
   {
    "duration": 39,
    "start_time": "2023-03-09T17:45:08.359Z"
   },
   {
    "duration": 10,
    "start_time": "2023-03-09T17:45:08.400Z"
   },
   {
    "duration": 21,
    "start_time": "2023-03-09T17:45:08.412Z"
   },
   {
    "duration": 9,
    "start_time": "2023-03-09T17:45:08.435Z"
   },
   {
    "duration": 246,
    "start_time": "2023-03-09T17:45:08.447Z"
   },
   {
    "duration": 896,
    "start_time": "2023-03-09T17:45:08.695Z"
   },
   {
    "duration": 186,
    "start_time": "2023-03-09T17:45:09.593Z"
   },
   {
    "duration": 9,
    "start_time": "2023-03-09T17:45:09.781Z"
   },
   {
    "duration": 192,
    "start_time": "2023-03-09T17:45:09.792Z"
   },
   {
    "duration": 181,
    "start_time": "2023-03-09T17:45:09.985Z"
   },
   {
    "duration": 7,
    "start_time": "2023-03-09T17:45:10.171Z"
   },
   {
    "duration": 52,
    "start_time": "2023-03-09T17:45:10.180Z"
   },
   {
    "duration": 46,
    "start_time": "2023-03-09T17:45:10.234Z"
   },
   {
    "duration": 20,
    "start_time": "2023-03-09T17:45:10.282Z"
   },
   {
    "duration": 4,
    "start_time": "2023-03-09T17:45:10.304Z"
   },
   {
    "duration": 5,
    "start_time": "2023-03-09T17:45:10.311Z"
   },
   {
    "duration": 17,
    "start_time": "2023-03-09T17:45:10.317Z"
   },
   {
    "duration": 24,
    "start_time": "2023-03-09T17:45:10.336Z"
   },
   {
    "duration": 13,
    "start_time": "2023-03-09T17:45:10.362Z"
   },
   {
    "duration": 5385,
    "start_time": "2023-03-09T17:45:10.377Z"
   },
   {
    "duration": 96,
    "start_time": "2023-03-09T17:45:15.764Z"
   },
   {
    "duration": 99,
    "start_time": "2023-03-09T17:45:15.865Z"
   },
   {
    "duration": 90,
    "start_time": "2023-03-09T17:45:15.967Z"
   },
   {
    "duration": 1554,
    "start_time": "2023-03-09T17:45:22.674Z"
   },
   {
    "duration": 1499,
    "start_time": "2023-03-09T17:45:42.084Z"
   },
   {
    "duration": 48,
    "start_time": "2023-03-09T17:45:43.586Z"
   },
   {
    "duration": 4,
    "start_time": "2023-03-09T17:45:43.635Z"
   },
   {
    "duration": 12,
    "start_time": "2023-03-09T17:45:43.642Z"
   },
   {
    "duration": 11,
    "start_time": "2023-03-09T17:45:43.657Z"
   },
   {
    "duration": 21,
    "start_time": "2023-03-09T17:45:43.670Z"
   },
   {
    "duration": 8,
    "start_time": "2023-03-09T17:45:43.692Z"
   },
   {
    "duration": 13,
    "start_time": "2023-03-09T17:45:43.702Z"
   },
   {
    "duration": 8,
    "start_time": "2023-03-09T17:45:43.717Z"
   },
   {
    "duration": 265,
    "start_time": "2023-03-09T17:45:43.727Z"
   },
   {
    "duration": 882,
    "start_time": "2023-03-09T17:45:43.994Z"
   },
   {
    "duration": 186,
    "start_time": "2023-03-09T17:45:44.878Z"
   },
   {
    "duration": 10,
    "start_time": "2023-03-09T17:45:45.066Z"
   },
   {
    "duration": 223,
    "start_time": "2023-03-09T17:45:45.078Z"
   },
   {
    "duration": 233,
    "start_time": "2023-03-09T17:45:45.303Z"
   },
   {
    "duration": 10,
    "start_time": "2023-03-09T17:45:45.539Z"
   },
   {
    "duration": 82,
    "start_time": "2023-03-09T17:45:45.558Z"
   },
   {
    "duration": 36,
    "start_time": "2023-03-09T17:45:45.641Z"
   },
   {
    "duration": 23,
    "start_time": "2023-03-09T17:45:45.679Z"
   },
   {
    "duration": 5,
    "start_time": "2023-03-09T17:45:45.703Z"
   },
   {
    "duration": 13,
    "start_time": "2023-03-09T17:45:45.709Z"
   },
   {
    "duration": 14,
    "start_time": "2023-03-09T17:45:45.725Z"
   },
   {
    "duration": 36,
    "start_time": "2023-03-09T17:45:45.741Z"
   },
   {
    "duration": 14,
    "start_time": "2023-03-09T17:45:45.779Z"
   },
   {
    "duration": 6578,
    "start_time": "2023-03-09T17:45:45.795Z"
   },
   {
    "duration": 182,
    "start_time": "2023-03-09T17:45:52.380Z"
   },
   {
    "duration": 93,
    "start_time": "2023-03-09T17:45:52.567Z"
   },
   {
    "duration": 16,
    "start_time": "2023-03-09T17:45:52.666Z"
   },
   {
    "duration": 1679,
    "start_time": "2023-03-09T17:45:56.441Z"
   },
   {
    "duration": 1741,
    "start_time": "2023-03-09T17:46:32.495Z"
   },
   {
    "duration": 63,
    "start_time": "2023-03-09T17:46:34.239Z"
   },
   {
    "duration": 5,
    "start_time": "2023-03-09T17:46:34.304Z"
   },
   {
    "duration": 14,
    "start_time": "2023-03-09T17:46:34.313Z"
   },
   {
    "duration": 17,
    "start_time": "2023-03-09T17:46:34.329Z"
   },
   {
    "duration": 18,
    "start_time": "2023-03-09T17:46:34.348Z"
   },
   {
    "duration": 20,
    "start_time": "2023-03-09T17:46:34.368Z"
   },
   {
    "duration": 13,
    "start_time": "2023-03-09T17:46:34.390Z"
   },
   {
    "duration": 12,
    "start_time": "2023-03-09T17:46:34.405Z"
   },
   {
    "duration": 240,
    "start_time": "2023-03-09T17:46:34.420Z"
   },
   {
    "duration": 929,
    "start_time": "2023-03-09T17:46:34.663Z"
   },
   {
    "duration": 208,
    "start_time": "2023-03-09T17:46:35.594Z"
   },
   {
    "duration": 9,
    "start_time": "2023-03-09T17:46:35.804Z"
   },
   {
    "duration": 182,
    "start_time": "2023-03-09T17:46:35.815Z"
   },
   {
    "duration": 172,
    "start_time": "2023-03-09T17:46:35.999Z"
   },
   {
    "duration": 7,
    "start_time": "2023-03-09T17:46:36.174Z"
   },
   {
    "duration": 53,
    "start_time": "2023-03-09T17:46:36.183Z"
   },
   {
    "duration": 28,
    "start_time": "2023-03-09T17:46:36.979Z"
   },
   {
    "duration": 24,
    "start_time": "2023-03-09T17:46:37.146Z"
   },
   {
    "duration": 5,
    "start_time": "2023-03-09T17:46:37.220Z"
   },
   {
    "duration": 4,
    "start_time": "2023-03-09T17:46:37.300Z"
   },
   {
    "duration": 4,
    "start_time": "2023-03-09T17:46:37.386Z"
   },
   {
    "duration": 5,
    "start_time": "2023-03-09T17:46:37.474Z"
   },
   {
    "duration": 4,
    "start_time": "2023-03-09T17:46:40.267Z"
   },
   {
    "duration": 5845,
    "start_time": "2023-03-09T17:46:40.348Z"
   },
   {
    "duration": 61,
    "start_time": "2023-03-09T17:46:46.196Z"
   },
   {
    "duration": 108,
    "start_time": "2023-03-09T17:46:46.259Z"
   },
   {
    "duration": 16,
    "start_time": "2023-03-09T17:46:46.369Z"
   },
   {
    "duration": 4,
    "start_time": "2023-03-09T17:46:51.273Z"
   },
   {
    "duration": 1666,
    "start_time": "2023-03-09T17:46:53.132Z"
   },
   {
    "duration": 1511,
    "start_time": "2023-03-09T17:47:40.002Z"
   },
   {
    "duration": 53,
    "start_time": "2023-03-09T17:47:41.515Z"
   },
   {
    "duration": 5,
    "start_time": "2023-03-09T17:47:41.570Z"
   },
   {
    "duration": 11,
    "start_time": "2023-03-09T17:47:41.578Z"
   },
   {
    "duration": 11,
    "start_time": "2023-03-09T17:47:41.591Z"
   },
   {
    "duration": 11,
    "start_time": "2023-03-09T17:47:41.603Z"
   },
   {
    "duration": 7,
    "start_time": "2023-03-09T17:47:41.615Z"
   },
   {
    "duration": 47,
    "start_time": "2023-03-09T17:47:41.624Z"
   },
   {
    "duration": 9,
    "start_time": "2023-03-09T17:47:41.674Z"
   },
   {
    "duration": 255,
    "start_time": "2023-03-09T17:47:41.686Z"
   },
   {
    "duration": 937,
    "start_time": "2023-03-09T17:47:41.943Z"
   },
   {
    "duration": 187,
    "start_time": "2023-03-09T17:47:42.882Z"
   },
   {
    "duration": 8,
    "start_time": "2023-03-09T17:47:43.071Z"
   },
   {
    "duration": 172,
    "start_time": "2023-03-09T17:47:43.081Z"
   },
   {
    "duration": 201,
    "start_time": "2023-03-09T17:47:43.258Z"
   },
   {
    "duration": 5,
    "start_time": "2023-03-09T17:47:43.461Z"
   },
   {
    "duration": 69,
    "start_time": "2023-03-09T17:47:43.469Z"
   },
   {
    "duration": 37,
    "start_time": "2023-03-09T17:47:43.540Z"
   },
   {
    "duration": 20,
    "start_time": "2023-03-09T17:47:43.578Z"
   },
   {
    "duration": 5,
    "start_time": "2023-03-09T17:47:43.600Z"
   },
   {
    "duration": 22,
    "start_time": "2023-03-09T17:47:43.606Z"
   },
   {
    "duration": 6,
    "start_time": "2023-03-09T17:47:44.355Z"
   },
   {
    "duration": 4,
    "start_time": "2023-03-09T17:47:44.844Z"
   },
   {
    "duration": 3,
    "start_time": "2023-03-09T17:47:45.010Z"
   },
   {
    "duration": 6971,
    "start_time": "2023-03-09T17:47:45.088Z"
   },
   {
    "duration": 14,
    "start_time": "2023-03-09T17:47:52.061Z"
   },
   {
    "duration": 189,
    "start_time": "2023-03-09T17:47:52.082Z"
   },
   {
    "duration": 6,
    "start_time": "2023-03-09T17:47:52.274Z"
   },
   {
    "duration": 1570,
    "start_time": "2023-03-09T17:47:56.752Z"
   },
   {
    "duration": 1521,
    "start_time": "2023-03-09T17:48:17.350Z"
   },
   {
    "duration": 52,
    "start_time": "2023-03-09T17:48:18.873Z"
   },
   {
    "duration": 4,
    "start_time": "2023-03-09T17:48:18.927Z"
   },
   {
    "duration": 22,
    "start_time": "2023-03-09T17:48:18.933Z"
   },
   {
    "duration": 24,
    "start_time": "2023-03-09T17:48:18.957Z"
   },
   {
    "duration": 12,
    "start_time": "2023-03-09T17:48:18.982Z"
   },
   {
    "duration": 13,
    "start_time": "2023-03-09T17:48:18.996Z"
   },
   {
    "duration": 15,
    "start_time": "2023-03-09T17:48:19.010Z"
   },
   {
    "duration": 9,
    "start_time": "2023-03-09T17:48:19.027Z"
   },
   {
    "duration": 252,
    "start_time": "2023-03-09T17:48:19.038Z"
   },
   {
    "duration": 860,
    "start_time": "2023-03-09T17:48:19.292Z"
   },
   {
    "duration": 191,
    "start_time": "2023-03-09T17:48:20.154Z"
   },
   {
    "duration": 14,
    "start_time": "2023-03-09T17:48:20.347Z"
   },
   {
    "duration": 177,
    "start_time": "2023-03-09T17:48:20.364Z"
   },
   {
    "duration": 184,
    "start_time": "2023-03-09T17:48:20.542Z"
   },
   {
    "duration": 5,
    "start_time": "2023-03-09T17:48:20.727Z"
   },
   {
    "duration": 124,
    "start_time": "2023-03-09T17:48:20.733Z"
   },
   {
    "duration": 35,
    "start_time": "2023-03-09T17:48:20.859Z"
   },
   {
    "duration": 69,
    "start_time": "2023-03-09T17:48:20.896Z"
   },
   {
    "duration": 5,
    "start_time": "2023-03-09T17:48:20.967Z"
   },
   {
    "duration": 14,
    "start_time": "2023-03-09T17:48:20.974Z"
   },
   {
    "duration": 5,
    "start_time": "2023-03-09T17:48:20.990Z"
   },
   {
    "duration": 6,
    "start_time": "2023-03-09T17:48:20.997Z"
   },
   {
    "duration": 71,
    "start_time": "2023-03-09T17:48:21.005Z"
   },
   {
    "duration": 6584,
    "start_time": "2023-03-09T17:48:21.078Z"
   },
   {
    "duration": 96,
    "start_time": "2023-03-09T17:48:27.665Z"
   },
   {
    "duration": 97,
    "start_time": "2023-03-09T17:48:27.763Z"
   },
   {
    "duration": 95,
    "start_time": "2023-03-09T17:48:27.862Z"
   },
   {
    "duration": 2548,
    "start_time": "2023-03-09T17:48:27.960Z"
   },
   {
    "duration": 160,
    "start_time": "2023-03-09T17:48:30.510Z"
   },
   {
    "duration": 11,
    "start_time": "2023-03-09T17:48:30.672Z"
   },
   {
    "duration": 23,
    "start_time": "2023-03-09T17:48:30.684Z"
   },
   {
    "duration": 50,
    "start_time": "2023-03-09T17:48:30.709Z"
   },
   {
    "duration": 11915,
    "start_time": "2023-03-09T17:48:30.761Z"
   },
   {
    "duration": 1726,
    "start_time": "2023-03-09T17:48:42.677Z"
   },
   {
    "duration": 5,
    "start_time": "2023-03-09T17:48:44.405Z"
   },
   {
    "duration": 7,
    "start_time": "2023-03-09T17:48:44.411Z"
   },
   {
    "duration": 11,
    "start_time": "2023-03-09T17:48:44.420Z"
   },
   {
    "duration": 9,
    "start_time": "2023-03-09T17:48:44.432Z"
   },
   {
    "duration": 5226,
    "start_time": "2023-03-09T17:48:44.443Z"
   },
   {
    "duration": 182,
    "start_time": "2023-03-09T17:48:49.677Z"
   },
   {
    "duration": 103,
    "start_time": "2023-03-09T17:48:49.862Z"
   },
   {
    "duration": 32,
    "start_time": "2023-03-09T17:48:49.968Z"
   },
   {
    "duration": 2317,
    "start_time": "2023-03-09T17:48:50.003Z"
   },
   {
    "duration": 7,
    "start_time": "2023-03-09T17:48:52.322Z"
   },
   {
    "duration": 6,
    "start_time": "2023-03-09T17:48:52.330Z"
   },
   {
    "duration": 6,
    "start_time": "2023-03-09T17:48:52.338Z"
   },
   {
    "duration": 245,
    "start_time": "2023-03-09T17:48:52.345Z"
   },
   {
    "duration": 12,
    "start_time": "2023-03-09T17:48:52.592Z"
   },
   {
    "duration": 4,
    "start_time": "2023-03-09T17:48:52.605Z"
   },
   {
    "duration": 8,
    "start_time": "2023-03-09T17:48:52.610Z"
   },
   {
    "duration": 1587,
    "start_time": "2023-03-09T17:48:59.827Z"
   },
   {
    "duration": 68,
    "start_time": "2023-03-09T17:49:01.416Z"
   },
   {
    "duration": 2,
    "start_time": "2023-03-09T17:49:01.486Z"
   },
   {
    "duration": 25,
    "start_time": "2023-03-09T17:49:01.490Z"
   },
   {
    "duration": 33,
    "start_time": "2023-03-09T17:49:01.518Z"
   },
   {
    "duration": 34,
    "start_time": "2023-03-09T17:49:01.552Z"
   },
   {
    "duration": 33,
    "start_time": "2023-03-09T17:49:01.589Z"
   },
   {
    "duration": 58,
    "start_time": "2023-03-09T17:49:01.624Z"
   },
   {
    "duration": 22,
    "start_time": "2023-03-09T17:49:01.684Z"
   },
   {
    "duration": 271,
    "start_time": "2023-03-09T17:49:01.708Z"
   },
   {
    "duration": 867,
    "start_time": "2023-03-09T17:49:01.981Z"
   },
   {
    "duration": 186,
    "start_time": "2023-03-09T17:49:02.850Z"
   },
   {
    "duration": 18,
    "start_time": "2023-03-09T17:49:03.039Z"
   },
   {
    "duration": 180,
    "start_time": "2023-03-09T17:49:03.062Z"
   },
   {
    "duration": 182,
    "start_time": "2023-03-09T17:49:03.243Z"
   },
   {
    "duration": 4,
    "start_time": "2023-03-09T17:49:03.427Z"
   },
   {
    "duration": 97,
    "start_time": "2023-03-09T17:49:03.433Z"
   },
   {
    "duration": 29,
    "start_time": "2023-03-09T17:49:03.532Z"
   },
   {
    "duration": 26,
    "start_time": "2023-03-09T17:49:03.563Z"
   },
   {
    "duration": 4,
    "start_time": "2023-03-09T17:49:03.591Z"
   },
   {
    "duration": 9,
    "start_time": "2023-03-09T17:49:03.596Z"
   },
   {
    "duration": 6,
    "start_time": "2023-03-09T17:49:03.607Z"
   },
   {
    "duration": 8,
    "start_time": "2023-03-09T17:49:03.615Z"
   },
   {
    "duration": 6,
    "start_time": "2023-03-09T17:49:03.624Z"
   },
   {
    "duration": 6643,
    "start_time": "2023-03-09T17:49:03.632Z"
   },
   {
    "duration": 84,
    "start_time": "2023-03-09T17:49:10.280Z"
   },
   {
    "duration": 113,
    "start_time": "2023-03-09T17:49:10.366Z"
   },
   {
    "duration": 8,
    "start_time": "2023-03-09T17:49:10.481Z"
   },
   {
    "duration": 1706,
    "start_time": "2023-03-09T17:49:10.491Z"
   },
   {
    "duration": 186,
    "start_time": "2023-03-09T17:49:12.198Z"
   },
   {
    "duration": 11,
    "start_time": "2023-03-09T17:49:12.387Z"
   },
   {
    "duration": 4,
    "start_time": "2023-03-09T17:49:12.400Z"
   },
   {
    "duration": 14,
    "start_time": "2023-03-09T17:49:12.406Z"
   },
   {
    "duration": 13890,
    "start_time": "2023-03-09T17:49:12.422Z"
   },
   {
    "duration": 1809,
    "start_time": "2023-03-09T17:49:26.314Z"
   },
   {
    "duration": 4,
    "start_time": "2023-03-09T17:49:28.125Z"
   },
   {
    "duration": 7,
    "start_time": "2023-03-09T17:49:28.131Z"
   },
   {
    "duration": 8,
    "start_time": "2023-03-09T17:49:28.139Z"
   },
   {
    "duration": 10,
    "start_time": "2023-03-09T17:49:28.148Z"
   },
   {
    "duration": 1531,
    "start_time": "2023-03-09T17:49:36.179Z"
   },
   {
    "duration": 49,
    "start_time": "2023-03-09T17:49:37.712Z"
   },
   {
    "duration": 6,
    "start_time": "2023-03-09T17:49:37.763Z"
   },
   {
    "duration": 18,
    "start_time": "2023-03-09T17:49:37.771Z"
   },
   {
    "duration": 11,
    "start_time": "2023-03-09T17:49:37.791Z"
   },
   {
    "duration": 10,
    "start_time": "2023-03-09T17:49:37.804Z"
   },
   {
    "duration": 11,
    "start_time": "2023-03-09T17:49:37.816Z"
   },
   {
    "duration": 31,
    "start_time": "2023-03-09T17:49:37.829Z"
   },
   {
    "duration": 17,
    "start_time": "2023-03-09T17:49:37.862Z"
   },
   {
    "duration": 236,
    "start_time": "2023-03-09T17:49:37.880Z"
   },
   {
    "duration": 830,
    "start_time": "2023-03-09T17:49:38.118Z"
   },
   {
    "duration": 185,
    "start_time": "2023-03-09T17:49:38.950Z"
   },
   {
    "duration": 9,
    "start_time": "2023-03-09T17:49:39.137Z"
   },
   {
    "duration": 177,
    "start_time": "2023-03-09T17:49:39.158Z"
   },
   {
    "duration": 182,
    "start_time": "2023-03-09T17:49:39.338Z"
   },
   {
    "duration": 4,
    "start_time": "2023-03-09T17:49:39.522Z"
   },
   {
    "duration": 65,
    "start_time": "2023-03-09T17:49:39.528Z"
   },
   {
    "duration": 27,
    "start_time": "2023-03-09T17:49:39.595Z"
   },
   {
    "duration": 38,
    "start_time": "2023-03-09T17:49:39.624Z"
   },
   {
    "duration": 5,
    "start_time": "2023-03-09T17:49:39.664Z"
   },
   {
    "duration": 14,
    "start_time": "2023-03-09T17:49:39.670Z"
   },
   {
    "duration": 17,
    "start_time": "2023-03-09T17:49:39.685Z"
   },
   {
    "duration": 6,
    "start_time": "2023-03-09T17:49:39.703Z"
   },
   {
    "duration": 9,
    "start_time": "2023-03-09T17:49:39.711Z"
   },
   {
    "duration": 6660,
    "start_time": "2023-03-09T17:49:39.721Z"
   },
   {
    "duration": 180,
    "start_time": "2023-03-09T17:49:46.383Z"
   },
   {
    "duration": 120,
    "start_time": "2023-03-09T17:49:46.565Z"
   },
   {
    "duration": 6,
    "start_time": "2023-03-09T17:49:46.687Z"
   },
   {
    "duration": 2409,
    "start_time": "2023-03-09T17:49:46.694Z"
   },
   {
    "duration": 181,
    "start_time": "2023-03-09T17:49:49.105Z"
   },
   {
    "duration": 11,
    "start_time": "2023-03-09T17:49:49.287Z"
   },
   {
    "duration": 4,
    "start_time": "2023-03-09T17:49:49.299Z"
   },
   {
    "duration": 10,
    "start_time": "2023-03-09T17:49:49.305Z"
   },
   {
    "duration": 12728,
    "start_time": "2023-03-09T17:49:49.317Z"
   },
   {
    "duration": 2914,
    "start_time": "2023-03-09T17:50:02.048Z"
   },
   {
    "duration": 10,
    "start_time": "2023-03-09T17:50:04.964Z"
   },
   {
    "duration": 13,
    "start_time": "2023-03-09T17:50:04.976Z"
   },
   {
    "duration": 7,
    "start_time": "2023-03-09T17:50:04.990Z"
   },
   {
    "duration": 10,
    "start_time": "2023-03-09T17:50:04.999Z"
   },
   {
    "duration": 6450,
    "start_time": "2023-03-09T17:50:05.012Z"
   },
   {
    "duration": 191,
    "start_time": "2023-03-09T17:50:11.470Z"
   },
   {
    "duration": 21,
    "start_time": "2023-03-09T17:50:11.664Z"
   },
   {
    "duration": 100,
    "start_time": "2023-03-09T17:50:11.688Z"
   },
   {
    "duration": 1973,
    "start_time": "2023-03-09T17:50:11.790Z"
   },
   {
    "duration": 10,
    "start_time": "2023-03-09T17:50:13.770Z"
   },
   {
    "duration": 7,
    "start_time": "2023-03-09T17:50:13.781Z"
   },
   {
    "duration": 7,
    "start_time": "2023-03-09T17:50:13.789Z"
   },
   {
    "duration": 256,
    "start_time": "2023-03-09T17:50:13.798Z"
   },
   {
    "duration": 18,
    "start_time": "2023-03-09T17:50:14.055Z"
   },
   {
    "duration": 7,
    "start_time": "2023-03-09T17:50:14.074Z"
   },
   {
    "duration": 7,
    "start_time": "2023-03-09T17:50:14.083Z"
   },
   {
    "duration": 1548,
    "start_time": "2023-03-09T17:50:32.075Z"
   },
   {
    "duration": 55,
    "start_time": "2023-03-09T17:50:33.625Z"
   },
   {
    "duration": 3,
    "start_time": "2023-03-09T17:50:33.681Z"
   },
   {
    "duration": 12,
    "start_time": "2023-03-09T17:50:33.686Z"
   },
   {
    "duration": 10,
    "start_time": "2023-03-09T17:50:33.700Z"
   },
   {
    "duration": 10,
    "start_time": "2023-03-09T17:50:33.711Z"
   },
   {
    "duration": 9,
    "start_time": "2023-03-09T17:50:33.722Z"
   },
   {
    "duration": 34,
    "start_time": "2023-03-09T17:50:33.732Z"
   },
   {
    "duration": 19,
    "start_time": "2023-03-09T17:50:33.768Z"
   },
   {
    "duration": 232,
    "start_time": "2023-03-09T17:50:33.789Z"
   },
   {
    "duration": 873,
    "start_time": "2023-03-09T17:50:34.023Z"
   },
   {
    "duration": 393,
    "start_time": "2023-03-09T17:50:34.897Z"
   },
   {
    "duration": 8,
    "start_time": "2023-03-09T17:50:35.292Z"
   },
   {
    "duration": 481,
    "start_time": "2023-03-09T17:50:35.303Z"
   },
   {
    "duration": 402,
    "start_time": "2023-03-09T17:50:35.786Z"
   },
   {
    "duration": 5,
    "start_time": "2023-03-09T17:50:36.189Z"
   },
   {
    "duration": 184,
    "start_time": "2023-03-09T17:50:36.195Z"
   },
   {
    "duration": 89,
    "start_time": "2023-03-09T17:50:36.381Z"
   },
   {
    "duration": 27,
    "start_time": "2023-03-09T17:50:36.472Z"
   },
   {
    "duration": 58,
    "start_time": "2023-03-09T17:50:36.501Z"
   },
   {
    "duration": 21,
    "start_time": "2023-03-09T17:50:36.561Z"
   },
   {
    "duration": 10,
    "start_time": "2023-03-09T17:50:36.584Z"
   },
   {
    "duration": 13,
    "start_time": "2023-03-09T17:50:36.596Z"
   },
   {
    "duration": 5,
    "start_time": "2023-03-09T17:50:36.611Z"
   },
   {
    "duration": 7009,
    "start_time": "2023-03-09T17:50:36.657Z"
   },
   {
    "duration": 92,
    "start_time": "2023-03-09T17:50:43.669Z"
   },
   {
    "duration": 101,
    "start_time": "2023-03-09T17:50:43.764Z"
   },
   {
    "duration": 92,
    "start_time": "2023-03-09T17:50:43.867Z"
   },
   {
    "duration": 1852,
    "start_time": "2023-03-09T17:50:43.961Z"
   },
   {
    "duration": 196,
    "start_time": "2023-03-09T17:50:45.815Z"
   },
   {
    "duration": 12,
    "start_time": "2023-03-09T17:50:46.014Z"
   },
   {
    "duration": 4,
    "start_time": "2023-03-09T17:50:46.028Z"
   },
   {
    "duration": 27,
    "start_time": "2023-03-09T17:50:46.034Z"
   },
   {
    "duration": 13646,
    "start_time": "2023-03-09T17:50:46.063Z"
   },
   {
    "duration": 2163,
    "start_time": "2023-03-09T17:50:59.710Z"
   },
   {
    "duration": 5,
    "start_time": "2023-03-09T17:51:01.875Z"
   },
   {
    "duration": 35,
    "start_time": "2023-03-09T17:51:01.882Z"
   },
   {
    "duration": 31,
    "start_time": "2023-03-09T17:51:01.919Z"
   },
   {
    "duration": 41,
    "start_time": "2023-03-09T17:51:01.952Z"
   },
   {
    "duration": 6888,
    "start_time": "2023-03-09T17:51:01.995Z"
   },
   {
    "duration": 90,
    "start_time": "2023-03-09T17:51:08.889Z"
   },
   {
    "duration": 102,
    "start_time": "2023-03-09T17:51:08.984Z"
   },
   {
    "duration": 20,
    "start_time": "2023-03-09T17:51:09.159Z"
   },
   {
    "duration": 2337,
    "start_time": "2023-03-09T17:51:09.180Z"
   },
   {
    "duration": 8,
    "start_time": "2023-03-09T17:51:11.519Z"
   },
   {
    "duration": 10,
    "start_time": "2023-03-09T17:51:11.529Z"
   },
   {
    "duration": 14,
    "start_time": "2023-03-09T17:51:11.541Z"
   },
   {
    "duration": 293,
    "start_time": "2023-03-09T17:51:11.557Z"
   },
   {
    "duration": 19,
    "start_time": "2023-03-09T17:51:11.852Z"
   },
   {
    "duration": 12,
    "start_time": "2023-03-09T17:51:11.873Z"
   },
   {
    "duration": 10,
    "start_time": "2023-03-09T17:51:11.887Z"
   },
   {
    "duration": 1620,
    "start_time": "2023-03-09T17:51:24.223Z"
   },
   {
    "duration": 63,
    "start_time": "2023-03-09T17:51:25.845Z"
   },
   {
    "duration": 3,
    "start_time": "2023-03-09T17:51:25.910Z"
   },
   {
    "duration": 12,
    "start_time": "2023-03-09T17:51:25.915Z"
   },
   {
    "duration": 12,
    "start_time": "2023-03-09T17:51:25.929Z"
   },
   {
    "duration": 11,
    "start_time": "2023-03-09T17:51:25.942Z"
   },
   {
    "duration": 25,
    "start_time": "2023-03-09T17:51:25.955Z"
   },
   {
    "duration": 13,
    "start_time": "2023-03-09T17:51:25.982Z"
   },
   {
    "duration": 9,
    "start_time": "2023-03-09T17:51:25.996Z"
   },
   {
    "duration": 242,
    "start_time": "2023-03-09T17:51:26.007Z"
   },
   {
    "duration": 886,
    "start_time": "2023-03-09T17:51:26.250Z"
   },
   {
    "duration": 196,
    "start_time": "2023-03-09T17:51:27.137Z"
   },
   {
    "duration": 8,
    "start_time": "2023-03-09T17:51:27.335Z"
   },
   {
    "duration": 173,
    "start_time": "2023-03-09T17:51:27.358Z"
   },
   {
    "duration": 169,
    "start_time": "2023-03-09T17:51:27.533Z"
   },
   {
    "duration": 4,
    "start_time": "2023-03-09T17:51:27.704Z"
   },
   {
    "duration": 79,
    "start_time": "2023-03-09T17:51:27.710Z"
   },
   {
    "duration": 26,
    "start_time": "2023-03-09T17:51:27.791Z"
   },
   {
    "duration": 21,
    "start_time": "2023-03-09T17:51:27.819Z"
   },
   {
    "duration": 18,
    "start_time": "2023-03-09T17:51:27.842Z"
   },
   {
    "duration": 19,
    "start_time": "2023-03-09T17:51:27.862Z"
   },
   {
    "duration": 6,
    "start_time": "2023-03-09T17:51:27.884Z"
   },
   {
    "duration": 5,
    "start_time": "2023-03-09T17:51:27.892Z"
   },
   {
    "duration": 5,
    "start_time": "2023-03-09T17:51:27.899Z"
   },
   {
    "duration": 6676,
    "start_time": "2023-03-09T17:51:27.905Z"
   },
   {
    "duration": 175,
    "start_time": "2023-03-09T17:51:34.583Z"
   },
   {
    "duration": 100,
    "start_time": "2023-03-09T17:51:34.760Z"
   },
   {
    "duration": 20,
    "start_time": "2023-03-09T17:51:34.863Z"
   },
   {
    "duration": 3897,
    "start_time": "2023-03-09T17:51:34.885Z"
   },
   {
    "duration": 373,
    "start_time": "2023-03-09T17:51:38.784Z"
   },
   {
    "duration": 16,
    "start_time": "2023-03-09T17:51:39.160Z"
   },
   {
    "duration": 5,
    "start_time": "2023-03-09T17:51:39.179Z"
   },
   {
    "duration": 7,
    "start_time": "2023-03-09T17:51:39.185Z"
   },
   {
    "duration": 13121,
    "start_time": "2023-03-09T17:51:39.194Z"
   },
   {
    "duration": 3396,
    "start_time": "2023-03-09T17:51:52.321Z"
   },
   {
    "duration": 5,
    "start_time": "2023-03-09T17:51:55.719Z"
   },
   {
    "duration": 18,
    "start_time": "2023-03-09T17:51:55.726Z"
   },
   {
    "duration": 39,
    "start_time": "2023-03-09T17:51:55.746Z"
   },
   {
    "duration": 16,
    "start_time": "2023-03-09T17:51:55.787Z"
   },
   {
    "duration": 6272,
    "start_time": "2023-03-09T17:51:55.806Z"
   },
   {
    "duration": 115,
    "start_time": "2023-03-09T17:52:02.156Z"
   },
   {
    "duration": 189,
    "start_time": "2023-03-09T17:52:02.273Z"
   },
   {
    "duration": 22,
    "start_time": "2023-03-09T17:52:02.464Z"
   },
   {
    "duration": 2539,
    "start_time": "2023-03-09T17:52:02.488Z"
   },
   {
    "duration": 10,
    "start_time": "2023-03-09T17:52:05.029Z"
   },
   {
    "duration": 13,
    "start_time": "2023-03-09T17:52:05.041Z"
   },
   {
    "duration": 28,
    "start_time": "2023-03-09T17:52:05.056Z"
   },
   {
    "duration": 296,
    "start_time": "2023-03-09T17:52:05.087Z"
   },
   {
    "duration": 16,
    "start_time": "2023-03-09T17:52:05.385Z"
   },
   {
    "duration": 5,
    "start_time": "2023-03-09T17:52:05.403Z"
   },
   {
    "duration": 14,
    "start_time": "2023-03-09T17:52:05.410Z"
   },
   {
    "duration": 1592,
    "start_time": "2023-03-09T17:52:10.735Z"
   },
   {
    "duration": 61,
    "start_time": "2023-03-09T17:52:12.330Z"
   },
   {
    "duration": 4,
    "start_time": "2023-03-09T17:52:12.393Z"
   },
   {
    "duration": 12,
    "start_time": "2023-03-09T17:52:12.400Z"
   },
   {
    "duration": 11,
    "start_time": "2023-03-09T17:52:12.414Z"
   },
   {
    "duration": 23,
    "start_time": "2023-03-09T17:52:12.427Z"
   },
   {
    "duration": 13,
    "start_time": "2023-03-09T17:52:12.464Z"
   },
   {
    "duration": 18,
    "start_time": "2023-03-09T17:52:12.480Z"
   },
   {
    "duration": 9,
    "start_time": "2023-03-09T17:52:12.500Z"
   },
   {
    "duration": 256,
    "start_time": "2023-03-09T17:52:12.510Z"
   },
   {
    "duration": 852,
    "start_time": "2023-03-09T17:52:12.768Z"
   },
   {
    "duration": 180,
    "start_time": "2023-03-09T17:52:13.622Z"
   },
   {
    "duration": 9,
    "start_time": "2023-03-09T17:52:13.803Z"
   },
   {
    "duration": 179,
    "start_time": "2023-03-09T17:52:13.815Z"
   },
   {
    "duration": 166,
    "start_time": "2023-03-09T17:52:13.996Z"
   },
   {
    "duration": 12,
    "start_time": "2023-03-09T17:52:14.164Z"
   },
   {
    "duration": 58,
    "start_time": "2023-03-09T17:52:14.178Z"
   },
   {
    "duration": 47,
    "start_time": "2023-03-09T17:52:14.238Z"
   },
   {
    "duration": 26,
    "start_time": "2023-03-09T17:52:14.287Z"
   },
   {
    "duration": 5,
    "start_time": "2023-03-09T17:52:14.315Z"
   },
   {
    "duration": 6,
    "start_time": "2023-03-09T17:52:14.322Z"
   },
   {
    "duration": 32,
    "start_time": "2023-03-09T17:52:14.329Z"
   },
   {
    "duration": 15,
    "start_time": "2023-03-09T17:52:14.363Z"
   },
   {
    "duration": 8,
    "start_time": "2023-03-09T17:52:14.379Z"
   },
   {
    "duration": 6191,
    "start_time": "2023-03-09T17:52:14.389Z"
   },
   {
    "duration": 106,
    "start_time": "2023-03-09T17:52:20.673Z"
   },
   {
    "duration": 179,
    "start_time": "2023-03-09T17:52:20.782Z"
   },
   {
    "duration": 21,
    "start_time": "2023-03-09T17:52:20.963Z"
   },
   {
    "duration": 2528,
    "start_time": "2023-03-09T17:52:20.986Z"
   },
   {
    "duration": 186,
    "start_time": "2023-03-09T17:52:23.515Z"
   },
   {
    "duration": 11,
    "start_time": "2023-03-09T17:52:23.703Z"
   },
   {
    "duration": 5,
    "start_time": "2023-03-09T17:52:23.716Z"
   },
   {
    "duration": 9,
    "start_time": "2023-03-09T17:52:23.723Z"
   },
   {
    "duration": 13308,
    "start_time": "2023-03-09T17:52:23.734Z"
   },
   {
    "duration": 1710,
    "start_time": "2023-03-09T17:52:37.044Z"
   },
   {
    "duration": 6,
    "start_time": "2023-03-09T17:52:38.756Z"
   },
   {
    "duration": 18,
    "start_time": "2023-03-09T17:52:38.764Z"
   },
   {
    "duration": 8,
    "start_time": "2023-03-09T17:52:38.783Z"
   },
   {
    "duration": 11,
    "start_time": "2023-03-09T17:52:38.793Z"
   },
   {
    "duration": 1414,
    "start_time": "2023-03-09T17:52:41.356Z"
   },
   {
    "duration": 49,
    "start_time": "2023-03-09T17:52:42.773Z"
   },
   {
    "duration": 4,
    "start_time": "2023-03-09T17:52:42.823Z"
   },
   {
    "duration": 15,
    "start_time": "2023-03-09T17:52:42.829Z"
   },
   {
    "duration": 12,
    "start_time": "2023-03-09T17:52:42.847Z"
   },
   {
    "duration": 11,
    "start_time": "2023-03-09T17:52:42.861Z"
   },
   {
    "duration": 9,
    "start_time": "2023-03-09T17:52:42.873Z"
   },
   {
    "duration": 13,
    "start_time": "2023-03-09T17:52:42.884Z"
   },
   {
    "duration": 8,
    "start_time": "2023-03-09T17:52:42.899Z"
   },
   {
    "duration": 239,
    "start_time": "2023-03-09T17:52:42.908Z"
   },
   {
    "duration": 847,
    "start_time": "2023-03-09T17:52:43.149Z"
   },
   {
    "duration": 173,
    "start_time": "2023-03-09T17:52:43.998Z"
   },
   {
    "duration": 8,
    "start_time": "2023-03-09T17:52:44.174Z"
   },
   {
    "duration": 199,
    "start_time": "2023-03-09T17:52:44.186Z"
   },
   {
    "duration": 185,
    "start_time": "2023-03-09T17:52:44.387Z"
   },
   {
    "duration": 4,
    "start_time": "2023-03-09T17:52:44.574Z"
   },
   {
    "duration": 53,
    "start_time": "2023-03-09T17:52:44.579Z"
   },
   {
    "duration": 53,
    "start_time": "2023-03-09T17:52:44.634Z"
   },
   {
    "duration": 77,
    "start_time": "2023-03-09T17:52:44.690Z"
   },
   {
    "duration": 5,
    "start_time": "2023-03-09T17:52:44.769Z"
   },
   {
    "duration": 6,
    "start_time": "2023-03-09T17:52:44.776Z"
   },
   {
    "duration": 6,
    "start_time": "2023-03-09T17:52:44.784Z"
   },
   {
    "duration": 6,
    "start_time": "2023-03-09T17:52:44.791Z"
   },
   {
    "duration": 60,
    "start_time": "2023-03-09T17:52:44.799Z"
   },
   {
    "duration": 6610,
    "start_time": "2023-03-09T17:52:44.861Z"
   },
   {
    "duration": 204,
    "start_time": "2023-03-09T17:52:51.476Z"
   },
   {
    "duration": 83,
    "start_time": "2023-03-09T17:52:51.685Z"
   },
   {
    "duration": 104,
    "start_time": "2023-03-09T17:52:51.771Z"
   },
   {
    "duration": 1687,
    "start_time": "2023-03-09T17:52:51.878Z"
   },
   {
    "duration": 206,
    "start_time": "2023-03-09T17:52:53.567Z"
   },
   {
    "duration": 14,
    "start_time": "2023-03-09T17:52:53.775Z"
   },
   {
    "duration": 5,
    "start_time": "2023-03-09T17:52:53.791Z"
   },
   {
    "duration": 8,
    "start_time": "2023-03-09T17:52:53.797Z"
   },
   {
    "duration": 11923,
    "start_time": "2023-03-09T17:52:53.807Z"
   },
   {
    "duration": 1717,
    "start_time": "2023-03-09T17:53:05.733Z"
   },
   {
    "duration": 4,
    "start_time": "2023-03-09T17:53:07.452Z"
   },
   {
    "duration": 28,
    "start_time": "2023-03-09T17:53:07.458Z"
   },
   {
    "duration": 6,
    "start_time": "2023-03-09T17:53:07.488Z"
   },
   {
    "duration": 11,
    "start_time": "2023-03-09T17:53:07.496Z"
   },
   {
    "duration": 6554,
    "start_time": "2023-03-09T17:53:07.509Z"
   },
   {
    "duration": 100,
    "start_time": "2023-03-09T17:53:14.156Z"
   },
   {
    "duration": 4,
    "start_time": "2023-03-09T17:53:14.259Z"
   },
   {
    "duration": 100,
    "start_time": "2023-03-09T17:53:14.265Z"
   },
   {
    "duration": 2162,
    "start_time": "2023-03-09T17:53:14.367Z"
   },
   {
    "duration": 7,
    "start_time": "2023-03-09T17:53:16.531Z"
   },
   {
    "duration": 6,
    "start_time": "2023-03-09T17:53:16.539Z"
   },
   {
    "duration": 13,
    "start_time": "2023-03-09T17:53:16.546Z"
   },
   {
    "duration": 242,
    "start_time": "2023-03-09T17:53:16.560Z"
   },
   {
    "duration": 13,
    "start_time": "2023-03-09T17:53:16.804Z"
   },
   {
    "duration": 5,
    "start_time": "2023-03-09T17:53:16.819Z"
   },
   {
    "duration": 9,
    "start_time": "2023-03-09T17:53:16.826Z"
   },
   {
    "duration": 1537,
    "start_time": "2023-03-09T17:53:50.417Z"
   },
   {
    "duration": 53,
    "start_time": "2023-03-09T17:53:51.957Z"
   },
   {
    "duration": 3,
    "start_time": "2023-03-09T17:53:52.011Z"
   },
   {
    "duration": 14,
    "start_time": "2023-03-09T17:53:52.016Z"
   },
   {
    "duration": 11,
    "start_time": "2023-03-09T17:53:52.032Z"
   },
   {
    "duration": 24,
    "start_time": "2023-03-09T17:53:52.044Z"
   },
   {
    "duration": 24,
    "start_time": "2023-03-09T17:53:52.070Z"
   },
   {
    "duration": 14,
    "start_time": "2023-03-09T17:53:52.096Z"
   },
   {
    "duration": 8,
    "start_time": "2023-03-09T17:53:52.111Z"
   },
   {
    "duration": 241,
    "start_time": "2023-03-09T17:53:52.121Z"
   },
   {
    "duration": 867,
    "start_time": "2023-03-09T17:53:52.365Z"
   },
   {
    "duration": 187,
    "start_time": "2023-03-09T17:53:53.234Z"
   },
   {
    "duration": 8,
    "start_time": "2023-03-09T17:53:53.423Z"
   },
   {
    "duration": 184,
    "start_time": "2023-03-09T17:53:53.432Z"
   },
   {
    "duration": 183,
    "start_time": "2023-03-09T17:53:53.618Z"
   },
   {
    "duration": 3,
    "start_time": "2023-03-09T17:53:53.803Z"
   },
   {
    "duration": 49,
    "start_time": "2023-03-09T17:53:53.808Z"
   },
   {
    "duration": 32,
    "start_time": "2023-03-09T17:53:53.860Z"
   },
   {
    "duration": 19,
    "start_time": "2023-03-09T17:53:53.894Z"
   },
   {
    "duration": 4,
    "start_time": "2023-03-09T17:53:53.915Z"
   },
   {
    "duration": 9,
    "start_time": "2023-03-09T17:53:53.920Z"
   },
   {
    "duration": 38,
    "start_time": "2023-03-09T17:53:53.931Z"
   },
   {
    "duration": 6,
    "start_time": "2023-03-09T17:53:53.972Z"
   },
   {
    "duration": 35,
    "start_time": "2023-03-09T17:53:53.980Z"
   },
   {
    "duration": 5566,
    "start_time": "2023-03-09T17:53:54.016Z"
   },
   {
    "duration": 103,
    "start_time": "2023-03-09T17:53:59.657Z"
   },
   {
    "duration": 113,
    "start_time": "2023-03-09T17:53:59.764Z"
   },
   {
    "duration": 6,
    "start_time": "2023-03-09T17:53:59.881Z"
   },
   {
    "duration": 2226,
    "start_time": "2023-03-09T17:53:59.889Z"
   },
   {
    "duration": 173,
    "start_time": "2023-03-09T17:54:02.117Z"
   },
   {
    "duration": 11,
    "start_time": "2023-03-09T17:54:02.292Z"
   },
   {
    "duration": 11,
    "start_time": "2023-03-09T17:54:02.305Z"
   },
   {
    "duration": 13,
    "start_time": "2023-03-09T17:54:02.318Z"
   },
   {
    "duration": 11143,
    "start_time": "2023-03-09T17:54:02.333Z"
   },
   {
    "duration": 1479,
    "start_time": "2023-03-09T17:54:13.478Z"
   },
   {
    "duration": 5,
    "start_time": "2023-03-09T17:54:14.958Z"
   },
   {
    "duration": 8,
    "start_time": "2023-03-09T17:54:14.964Z"
   },
   {
    "duration": 7,
    "start_time": "2023-03-09T17:54:14.974Z"
   },
   {
    "duration": 10,
    "start_time": "2023-03-09T17:54:14.982Z"
   },
   {
    "duration": 5277,
    "start_time": "2023-03-09T17:54:14.993Z"
   },
   {
    "duration": 186,
    "start_time": "2023-03-09T17:54:20.272Z"
   },
   {
    "duration": 10,
    "start_time": "2023-03-09T17:54:20.461Z"
   },
   {
    "duration": 87,
    "start_time": "2023-03-09T17:54:20.474Z"
   },
   {
    "duration": 1600,
    "start_time": "2023-03-09T17:54:20.564Z"
   },
   {
    "duration": 6,
    "start_time": "2023-03-09T17:54:22.166Z"
   },
   {
    "duration": 7,
    "start_time": "2023-03-09T17:54:22.173Z"
   },
   {
    "duration": 11,
    "start_time": "2023-03-09T17:54:22.182Z"
   },
   {
    "duration": 224,
    "start_time": "2023-03-09T17:54:22.194Z"
   },
   {
    "duration": 14,
    "start_time": "2023-03-09T17:54:22.420Z"
   },
   {
    "duration": 3,
    "start_time": "2023-03-09T17:54:22.436Z"
   },
   {
    "duration": 17,
    "start_time": "2023-03-09T17:54:22.441Z"
   },
   {
    "duration": 1453,
    "start_time": "2023-03-09T17:54:25.878Z"
   },
   {
    "duration": 54,
    "start_time": "2023-03-09T17:54:27.335Z"
   },
   {
    "duration": 4,
    "start_time": "2023-03-09T17:54:27.391Z"
   },
   {
    "duration": 12,
    "start_time": "2023-03-09T17:54:27.396Z"
   },
   {
    "duration": 10,
    "start_time": "2023-03-09T17:54:27.411Z"
   },
   {
    "duration": 12,
    "start_time": "2023-03-09T17:54:27.422Z"
   },
   {
    "duration": 29,
    "start_time": "2023-03-09T17:54:27.436Z"
   },
   {
    "duration": 22,
    "start_time": "2023-03-09T17:54:27.467Z"
   },
   {
    "duration": 10,
    "start_time": "2023-03-09T17:54:27.491Z"
   },
   {
    "duration": 260,
    "start_time": "2023-03-09T17:54:27.503Z"
   },
   {
    "duration": 827,
    "start_time": "2023-03-09T17:54:27.765Z"
   },
   {
    "duration": 166,
    "start_time": "2023-03-09T17:54:28.594Z"
   },
   {
    "duration": 9,
    "start_time": "2023-03-09T17:54:28.761Z"
   },
   {
    "duration": 161,
    "start_time": "2023-03-09T17:54:28.773Z"
   },
   {
    "duration": 161,
    "start_time": "2023-03-09T17:54:28.936Z"
   },
   {
    "duration": 4,
    "start_time": "2023-03-09T17:54:29.099Z"
   },
   {
    "duration": 95,
    "start_time": "2023-03-09T17:54:29.104Z"
   },
   {
    "duration": 25,
    "start_time": "2023-03-09T17:54:29.201Z"
   },
   {
    "duration": 33,
    "start_time": "2023-03-09T17:54:29.228Z"
   },
   {
    "duration": 4,
    "start_time": "2023-03-09T17:54:29.263Z"
   },
   {
    "duration": 8,
    "start_time": "2023-03-09T17:54:29.269Z"
   },
   {
    "duration": 5,
    "start_time": "2023-03-09T17:54:29.279Z"
   },
   {
    "duration": 6,
    "start_time": "2023-03-09T17:54:29.285Z"
   },
   {
    "duration": 41,
    "start_time": "2023-03-09T17:54:29.293Z"
   },
   {
    "duration": 17437,
    "start_time": "2023-03-09T17:54:29.337Z"
   },
   {
    "duration": 183,
    "start_time": "2023-03-09T17:54:46.776Z"
   },
   {
    "duration": 12,
    "start_time": "2023-03-09T17:54:46.961Z"
   },
   {
    "duration": 84,
    "start_time": "2023-03-09T17:54:46.975Z"
   },
   {
    "duration": 1811,
    "start_time": "2023-03-09T17:54:47.061Z"
   },
   {
    "duration": 192,
    "start_time": "2023-03-09T17:54:48.874Z"
   },
   {
    "duration": 10,
    "start_time": "2023-03-09T17:54:49.068Z"
   },
   {
    "duration": 6,
    "start_time": "2023-03-09T17:54:49.080Z"
   },
   {
    "duration": 6,
    "start_time": "2023-03-09T17:54:49.087Z"
   },
   {
    "duration": 13755,
    "start_time": "2023-03-09T17:54:49.095Z"
   },
   {
    "duration": 2403,
    "start_time": "2023-03-09T17:55:02.852Z"
   },
   {
    "duration": 6,
    "start_time": "2023-03-09T17:55:05.258Z"
   },
   {
    "duration": 17,
    "start_time": "2023-03-09T17:55:05.266Z"
   },
   {
    "duration": 15,
    "start_time": "2023-03-09T17:55:05.285Z"
   },
   {
    "duration": 11,
    "start_time": "2023-03-09T17:55:05.302Z"
   },
   {
    "duration": 11969,
    "start_time": "2023-03-09T17:55:05.315Z"
   },
   {
    "duration": 78,
    "start_time": "2023-03-09T17:55:17.288Z"
   },
   {
    "duration": 189,
    "start_time": "2023-03-09T17:55:17.369Z"
   },
   {
    "duration": 5,
    "start_time": "2023-03-09T17:55:17.560Z"
   },
   {
    "duration": 2281,
    "start_time": "2023-03-09T17:55:17.567Z"
   },
   {
    "duration": 9,
    "start_time": "2023-03-09T17:55:19.852Z"
   },
   {
    "duration": 12,
    "start_time": "2023-03-09T17:55:19.862Z"
   },
   {
    "duration": 21,
    "start_time": "2023-03-09T17:55:19.875Z"
   },
   {
    "duration": 284,
    "start_time": "2023-03-09T17:55:19.897Z"
   },
   {
    "duration": 13,
    "start_time": "2023-03-09T17:55:20.183Z"
   },
   {
    "duration": 4,
    "start_time": "2023-03-09T17:55:20.197Z"
   },
   {
    "duration": 8,
    "start_time": "2023-03-09T17:55:20.203Z"
   },
   {
    "duration": 4,
    "start_time": "2023-03-09T18:01:13.616Z"
   },
   {
    "duration": 30457,
    "start_time": "2023-03-09T18:01:14.314Z"
   },
   {
    "duration": 93,
    "start_time": "2023-03-09T18:01:44.773Z"
   },
   {
    "duration": 110,
    "start_time": "2023-03-09T18:01:44.869Z"
   },
   {
    "duration": 10,
    "start_time": "2023-03-09T18:01:45.058Z"
   },
   {
    "duration": 3,
    "start_time": "2023-03-09T18:01:51.096Z"
   },
   {
    "duration": 15170,
    "start_time": "2023-03-09T18:01:51.407Z"
   },
   {
    "duration": 179,
    "start_time": "2023-03-09T18:02:06.580Z"
   },
   {
    "duration": 12,
    "start_time": "2023-03-09T18:02:06.761Z"
   },
   {
    "duration": 5,
    "start_time": "2023-03-09T18:02:06.857Z"
   },
   {
    "duration": 1427,
    "start_time": "2023-03-09T18:02:40.098Z"
   },
   {
    "duration": 50,
    "start_time": "2023-03-09T18:02:41.527Z"
   },
   {
    "duration": 3,
    "start_time": "2023-03-09T18:02:41.579Z"
   },
   {
    "duration": 14,
    "start_time": "2023-03-09T18:02:41.584Z"
   },
   {
    "duration": 10,
    "start_time": "2023-03-09T18:02:41.600Z"
   },
   {
    "duration": 16,
    "start_time": "2023-03-09T18:02:41.612Z"
   },
   {
    "duration": 16,
    "start_time": "2023-03-09T18:02:41.629Z"
   },
   {
    "duration": 23,
    "start_time": "2023-03-09T18:02:41.647Z"
   },
   {
    "duration": 23,
    "start_time": "2023-03-09T18:02:41.671Z"
   },
   {
    "duration": 229,
    "start_time": "2023-03-09T18:02:41.697Z"
   },
   {
    "duration": 852,
    "start_time": "2023-03-09T18:02:41.928Z"
   },
   {
    "duration": 175,
    "start_time": "2023-03-09T18:02:42.782Z"
   },
   {
    "duration": 8,
    "start_time": "2023-03-09T18:02:42.959Z"
   },
   {
    "duration": 171,
    "start_time": "2023-03-09T18:02:42.969Z"
   },
   {
    "duration": 173,
    "start_time": "2023-03-09T18:02:43.142Z"
   },
   {
    "duration": 5,
    "start_time": "2023-03-09T18:02:43.317Z"
   },
   {
    "duration": 100,
    "start_time": "2023-03-09T18:02:43.325Z"
   },
   {
    "duration": 45,
    "start_time": "2023-03-09T18:02:43.427Z"
   },
   {
    "duration": 26,
    "start_time": "2023-03-09T18:02:44.788Z"
   },
   {
    "duration": 5,
    "start_time": "2023-03-09T18:02:45.018Z"
   },
   {
    "duration": 5,
    "start_time": "2023-03-09T18:02:45.343Z"
   },
   {
    "duration": 5,
    "start_time": "2023-03-09T18:02:46.181Z"
   },
   {
    "duration": 5,
    "start_time": "2023-03-09T18:02:46.420Z"
   },
   {
    "duration": 4,
    "start_time": "2023-03-09T18:02:47.119Z"
   },
   {
    "duration": 29451,
    "start_time": "2023-03-09T18:02:47.244Z"
   },
   {
    "duration": 63,
    "start_time": "2023-03-09T18:03:16.698Z"
   },
   {
    "duration": 97,
    "start_time": "2023-03-09T18:03:16.764Z"
   },
   {
    "duration": 107,
    "start_time": "2023-03-09T18:03:16.864Z"
   },
   {
    "duration": 1449,
    "start_time": "2023-03-09T18:04:21.391Z"
   },
   {
    "duration": 56,
    "start_time": "2023-03-09T18:04:22.844Z"
   },
   {
    "duration": 3,
    "start_time": "2023-03-09T18:04:22.901Z"
   },
   {
    "duration": 15,
    "start_time": "2023-03-09T18:04:22.906Z"
   },
   {
    "duration": 11,
    "start_time": "2023-03-09T18:04:23.749Z"
   },
   {
    "duration": 10,
    "start_time": "2023-03-09T18:04:24.420Z"
   },
   {
    "duration": 7,
    "start_time": "2023-03-09T18:04:24.492Z"
   },
   {
    "duration": 13,
    "start_time": "2023-03-09T18:04:24.580Z"
   },
   {
    "duration": 9,
    "start_time": "2023-03-09T18:04:24.745Z"
   },
   {
    "duration": 220,
    "start_time": "2023-03-09T18:04:24.853Z"
   },
   {
    "duration": 889,
    "start_time": "2023-03-09T18:04:25.075Z"
   },
   {
    "duration": 173,
    "start_time": "2023-03-09T18:04:25.966Z"
   },
   {
    "duration": 17,
    "start_time": "2023-03-09T18:04:26.141Z"
   },
   {
    "duration": 153,
    "start_time": "2023-03-09T18:04:26.160Z"
   },
   {
    "duration": 159,
    "start_time": "2023-03-09T18:04:26.315Z"
   },
   {
    "duration": 5,
    "start_time": "2023-03-09T18:04:26.476Z"
   },
   {
    "duration": 88,
    "start_time": "2023-03-09T18:04:28.071Z"
   },
   {
    "duration": 29,
    "start_time": "2023-03-09T18:04:28.647Z"
   },
   {
    "duration": 24,
    "start_time": "2023-03-09T18:04:28.804Z"
   },
   {
    "duration": 4,
    "start_time": "2023-03-09T18:04:28.898Z"
   },
   {
    "duration": 5,
    "start_time": "2023-03-09T18:04:30.186Z"
   },
   {
    "duration": 4,
    "start_time": "2023-03-09T18:04:30.422Z"
   },
   {
    "duration": 4,
    "start_time": "2023-03-09T18:04:31.090Z"
   },
   {
    "duration": 3,
    "start_time": "2023-03-09T18:04:32.166Z"
   },
   {
    "duration": 24018,
    "start_time": "2023-03-09T18:04:32.369Z"
   },
   {
    "duration": 70,
    "start_time": "2023-03-09T18:04:56.389Z"
   },
   {
    "duration": 198,
    "start_time": "2023-03-09T18:04:56.461Z"
   },
   {
    "duration": 7,
    "start_time": "2023-03-09T18:04:56.662Z"
   },
   {
    "duration": 1468,
    "start_time": "2023-03-09T18:05:28.244Z"
   },
   {
    "duration": 50,
    "start_time": "2023-03-09T18:05:29.714Z"
   },
   {
    "duration": 4,
    "start_time": "2023-03-09T18:05:29.765Z"
   },
   {
    "duration": 19,
    "start_time": "2023-03-09T18:05:29.772Z"
   },
   {
    "duration": 10,
    "start_time": "2023-03-09T18:05:29.792Z"
   },
   {
    "duration": 15,
    "start_time": "2023-03-09T18:05:29.804Z"
   },
   {
    "duration": 8,
    "start_time": "2023-03-09T18:05:29.821Z"
   },
   {
    "duration": 29,
    "start_time": "2023-03-09T18:05:29.831Z"
   },
   {
    "duration": 9,
    "start_time": "2023-03-09T18:05:29.861Z"
   },
   {
    "duration": 226,
    "start_time": "2023-03-09T18:05:29.873Z"
   },
   {
    "duration": 811,
    "start_time": "2023-03-09T18:05:30.101Z"
   },
   {
    "duration": 185,
    "start_time": "2023-03-09T18:05:30.915Z"
   },
   {
    "duration": 11,
    "start_time": "2023-03-09T18:05:31.101Z"
   },
   {
    "duration": 201,
    "start_time": "2023-03-09T18:05:31.113Z"
   },
   {
    "duration": 163,
    "start_time": "2023-03-09T18:05:31.316Z"
   },
   {
    "duration": 4,
    "start_time": "2023-03-09T18:05:31.481Z"
   },
   {
    "duration": 117,
    "start_time": "2023-03-09T18:05:31.487Z"
   },
   {
    "duration": 26,
    "start_time": "2023-03-09T18:05:31.605Z"
   },
   {
    "duration": 35,
    "start_time": "2023-03-09T18:05:31.633Z"
   },
   {
    "duration": 4,
    "start_time": "2023-03-09T18:05:31.669Z"
   },
   {
    "duration": 17,
    "start_time": "2023-03-09T18:05:31.675Z"
   },
   {
    "duration": 11,
    "start_time": "2023-03-09T18:05:31.694Z"
   },
   {
    "duration": 17,
    "start_time": "2023-03-09T18:05:31.706Z"
   },
   {
    "duration": 26,
    "start_time": "2023-03-09T18:05:31.724Z"
   },
   {
    "duration": 16106,
    "start_time": "2023-03-09T18:05:31.752Z"
   },
   {
    "duration": 98,
    "start_time": "2023-03-09T18:05:47.860Z"
   },
   {
    "duration": 98,
    "start_time": "2023-03-09T18:05:47.960Z"
   },
   {
    "duration": 98,
    "start_time": "2023-03-09T18:05:48.063Z"
   },
   {
    "duration": 1978,
    "start_time": "2023-03-09T18:05:48.163Z"
   },
   {
    "duration": 261,
    "start_time": "2023-03-09T18:05:50.143Z"
   },
   {
    "duration": 13,
    "start_time": "2023-03-09T18:05:50.405Z"
   },
   {
    "duration": 4,
    "start_time": "2023-03-09T18:05:50.419Z"
   },
   {
    "duration": 13,
    "start_time": "2023-03-09T18:05:50.425Z"
   },
   {
    "duration": 15263,
    "start_time": "2023-03-09T18:05:50.440Z"
   },
   {
    "duration": 2191,
    "start_time": "2023-03-09T18:06:05.705Z"
   },
   {
    "duration": 5,
    "start_time": "2023-03-09T18:06:07.898Z"
   },
   {
    "duration": 7,
    "start_time": "2023-03-09T18:06:07.905Z"
   },
   {
    "duration": 7,
    "start_time": "2023-03-09T18:06:07.914Z"
   },
   {
    "duration": 12,
    "start_time": "2023-03-09T18:06:07.923Z"
   },
   {
    "duration": 1413,
    "start_time": "2023-03-09T18:06:25.436Z"
   },
   {
    "duration": 49,
    "start_time": "2023-03-09T18:06:26.851Z"
   },
   {
    "duration": 3,
    "start_time": "2023-03-09T18:06:26.902Z"
   },
   {
    "duration": 13,
    "start_time": "2023-03-09T18:06:26.907Z"
   },
   {
    "duration": 11,
    "start_time": "2023-03-09T18:06:26.923Z"
   },
   {
    "duration": 9,
    "start_time": "2023-03-09T18:06:26.936Z"
   },
   {
    "duration": 15,
    "start_time": "2023-03-09T18:06:26.947Z"
   },
   {
    "duration": 14,
    "start_time": "2023-03-09T18:06:26.964Z"
   },
   {
    "duration": 9,
    "start_time": "2023-03-09T18:06:26.979Z"
   },
   {
    "duration": 238,
    "start_time": "2023-03-09T18:06:26.989Z"
   },
   {
    "duration": 976,
    "start_time": "2023-03-09T18:06:27.228Z"
   },
   {
    "duration": 554,
    "start_time": "2023-03-09T18:06:28.206Z"
   },
   {
    "duration": 9,
    "start_time": "2023-03-09T18:06:28.761Z"
   },
   {
    "duration": 322,
    "start_time": "2023-03-09T18:06:28.773Z"
   },
   {
    "duration": 395,
    "start_time": "2023-03-09T18:06:29.096Z"
   },
   {
    "duration": 5,
    "start_time": "2023-03-09T18:06:29.493Z"
   },
   {
    "duration": 265,
    "start_time": "2023-03-09T18:06:29.500Z"
   },
   {
    "duration": 38,
    "start_time": "2023-03-09T18:06:29.767Z"
   },
   {
    "duration": 33,
    "start_time": "2023-03-09T18:06:29.858Z"
   },
   {
    "duration": 6,
    "start_time": "2023-03-09T18:06:29.893Z"
   },
   {
    "duration": 61,
    "start_time": "2023-03-09T18:06:29.901Z"
   },
   {
    "duration": 6,
    "start_time": "2023-03-09T18:06:29.964Z"
   },
   {
    "duration": 7,
    "start_time": "2023-03-09T18:06:29.971Z"
   },
   {
    "duration": 5,
    "start_time": "2023-03-09T18:06:29.980Z"
   },
   {
    "duration": 23870,
    "start_time": "2023-03-09T18:06:29.987Z"
   },
   {
    "duration": 98,
    "start_time": "2023-03-09T18:06:53.860Z"
   },
   {
    "duration": 7,
    "start_time": "2023-03-09T18:06:53.961Z"
   },
   {
    "duration": 90,
    "start_time": "2023-03-09T18:06:53.971Z"
   },
   {
    "duration": 2220,
    "start_time": "2023-03-09T18:06:54.063Z"
   },
   {
    "duration": 226,
    "start_time": "2023-03-09T18:06:56.285Z"
   },
   {
    "duration": 12,
    "start_time": "2023-03-09T18:06:56.513Z"
   },
   {
    "duration": 4,
    "start_time": "2023-03-09T18:06:56.527Z"
   },
   {
    "duration": 25,
    "start_time": "2023-03-09T18:06:56.533Z"
   },
   {
    "duration": 16305,
    "start_time": "2023-03-09T18:06:56.561Z"
   },
   {
    "duration": 2573,
    "start_time": "2023-03-09T18:07:12.867Z"
   },
   {
    "duration": 6,
    "start_time": "2023-03-09T18:07:15.443Z"
   },
   {
    "duration": 9,
    "start_time": "2023-03-09T18:07:15.452Z"
   },
   {
    "duration": 16,
    "start_time": "2023-03-09T18:07:15.463Z"
   },
   {
    "duration": 13,
    "start_time": "2023-03-09T18:07:15.481Z"
   },
   {
    "duration": 37160,
    "start_time": "2023-03-09T18:07:15.497Z"
   },
   {
    "duration": 91,
    "start_time": "2023-03-09T18:07:52.667Z"
   },
   {
    "duration": 9,
    "start_time": "2023-03-09T18:07:52.760Z"
   },
   {
    "duration": 7,
    "start_time": "2023-03-09T18:07:52.771Z"
   },
   {
    "duration": 2904,
    "start_time": "2023-03-09T18:07:52.858Z"
   },
   {
    "duration": 9,
    "start_time": "2023-03-09T18:07:55.763Z"
   },
   {
    "duration": 8,
    "start_time": "2023-03-09T18:07:55.774Z"
   },
   {
    "duration": 9,
    "start_time": "2023-03-09T18:07:55.783Z"
   },
   {
    "duration": 332,
    "start_time": "2023-03-09T18:07:55.793Z"
   },
   {
    "duration": 13,
    "start_time": "2023-03-09T18:07:56.127Z"
   },
   {
    "duration": 16,
    "start_time": "2023-03-09T18:07:56.142Z"
   },
   {
    "duration": 7,
    "start_time": "2023-03-09T18:07:56.160Z"
   },
   {
    "duration": 1739,
    "start_time": "2023-03-09T18:08:35.229Z"
   },
   {
    "duration": 47,
    "start_time": "2023-03-09T18:08:36.970Z"
   },
   {
    "duration": 3,
    "start_time": "2023-03-09T18:08:37.019Z"
   },
   {
    "duration": 12,
    "start_time": "2023-03-09T18:08:37.024Z"
   },
   {
    "duration": 9,
    "start_time": "2023-03-09T18:08:37.038Z"
   },
   {
    "duration": 10,
    "start_time": "2023-03-09T18:08:37.049Z"
   },
   {
    "duration": 10,
    "start_time": "2023-03-09T18:08:37.060Z"
   },
   {
    "duration": 16,
    "start_time": "2023-03-09T18:08:37.072Z"
   },
   {
    "duration": 8,
    "start_time": "2023-03-09T18:08:37.089Z"
   },
   {
    "duration": 237,
    "start_time": "2023-03-09T18:08:37.099Z"
   },
   {
    "duration": 919,
    "start_time": "2023-03-09T18:08:37.337Z"
   },
   {
    "duration": 287,
    "start_time": "2023-03-09T18:08:38.259Z"
   },
   {
    "duration": 17,
    "start_time": "2023-03-09T18:08:38.548Z"
   },
   {
    "duration": 174,
    "start_time": "2023-03-09T18:08:38.568Z"
   },
   {
    "duration": 184,
    "start_time": "2023-03-09T18:08:38.744Z"
   },
   {
    "duration": 4,
    "start_time": "2023-03-09T18:08:38.929Z"
   },
   {
    "duration": 39,
    "start_time": "2023-03-09T18:08:38.935Z"
   },
   {
    "duration": 39,
    "start_time": "2023-03-09T18:08:38.976Z"
   },
   {
    "duration": 14,
    "start_time": "2023-03-09T18:08:39.017Z"
   },
   {
    "duration": 4,
    "start_time": "2023-03-09T18:08:39.032Z"
   },
   {
    "duration": 21,
    "start_time": "2023-03-09T18:08:39.038Z"
   },
   {
    "duration": 24,
    "start_time": "2023-03-09T18:08:39.061Z"
   },
   {
    "duration": 6,
    "start_time": "2023-03-09T18:08:39.087Z"
   },
   {
    "duration": 7,
    "start_time": "2023-03-09T18:08:39.095Z"
   },
   {
    "duration": 6254,
    "start_time": "2023-03-09T18:08:39.104Z"
   },
   {
    "duration": 7,
    "start_time": "2023-03-09T18:08:45.360Z"
   },
   {
    "duration": 108,
    "start_time": "2023-03-09T18:08:45.369Z"
   },
   {
    "duration": 8,
    "start_time": "2023-03-09T18:08:45.482Z"
   },
   {
    "duration": 1729,
    "start_time": "2023-03-09T18:08:45.492Z"
   },
   {
    "duration": 152,
    "start_time": "2023-03-09T18:08:47.223Z"
   },
   {
    "duration": 12,
    "start_time": "2023-03-09T18:08:47.377Z"
   },
   {
    "duration": 5,
    "start_time": "2023-03-09T18:08:47.391Z"
   },
   {
    "duration": 7,
    "start_time": "2023-03-09T18:08:47.397Z"
   },
   {
    "duration": 7328,
    "start_time": "2023-03-09T18:08:47.406Z"
   },
   {
    "duration": 1032,
    "start_time": "2023-03-09T18:08:54.735Z"
   },
   {
    "duration": 4,
    "start_time": "2023-03-09T18:08:55.769Z"
   },
   {
    "duration": 5,
    "start_time": "2023-03-09T18:08:55.775Z"
   },
   {
    "duration": 10,
    "start_time": "2023-03-09T18:08:55.782Z"
   },
   {
    "duration": 9,
    "start_time": "2023-03-09T18:08:55.793Z"
   },
   {
    "duration": 5855,
    "start_time": "2023-03-09T18:08:55.803Z"
   },
   {
    "duration": 6,
    "start_time": "2023-03-09T18:09:01.661Z"
   },
   {
    "duration": 23,
    "start_time": "2023-03-09T18:09:01.758Z"
   },
   {
    "duration": 43,
    "start_time": "2023-03-09T18:09:01.782Z"
   },
   {
    "duration": 1048,
    "start_time": "2023-03-09T18:09:01.827Z"
   },
   {
    "duration": 4,
    "start_time": "2023-03-09T18:09:02.877Z"
   },
   {
    "duration": 6,
    "start_time": "2023-03-09T18:09:02.883Z"
   },
   {
    "duration": 31,
    "start_time": "2023-03-09T18:09:02.891Z"
   },
   {
    "duration": 164,
    "start_time": "2023-03-09T18:09:02.924Z"
   },
   {
    "duration": 12,
    "start_time": "2023-03-09T18:09:03.090Z"
   },
   {
    "duration": 4,
    "start_time": "2023-03-09T18:09:03.104Z"
   },
   {
    "duration": 20,
    "start_time": "2023-03-09T18:09:03.110Z"
   },
   {
    "duration": 1514,
    "start_time": "2023-03-09T18:09:05.241Z"
   },
   {
    "duration": 48,
    "start_time": "2023-03-09T18:09:06.756Z"
   },
   {
    "duration": 3,
    "start_time": "2023-03-09T18:09:06.806Z"
   },
   {
    "duration": 11,
    "start_time": "2023-03-09T18:09:06.810Z"
   },
   {
    "duration": 11,
    "start_time": "2023-03-09T18:09:06.823Z"
   },
   {
    "duration": 11,
    "start_time": "2023-03-09T18:09:06.836Z"
   },
   {
    "duration": 11,
    "start_time": "2023-03-09T18:09:06.849Z"
   },
   {
    "duration": 12,
    "start_time": "2023-03-09T18:09:06.862Z"
   },
   {
    "duration": 7,
    "start_time": "2023-03-09T18:09:06.876Z"
   },
   {
    "duration": 243,
    "start_time": "2023-03-09T18:09:06.885Z"
   },
   {
    "duration": 867,
    "start_time": "2023-03-09T18:09:07.129Z"
   },
   {
    "duration": 460,
    "start_time": "2023-03-09T18:09:07.999Z"
   },
   {
    "duration": 7,
    "start_time": "2023-03-09T18:09:08.461Z"
   },
   {
    "duration": 314,
    "start_time": "2023-03-09T18:09:08.471Z"
   },
   {
    "duration": 307,
    "start_time": "2023-03-09T18:09:08.786Z"
   },
   {
    "duration": 5,
    "start_time": "2023-03-09T18:09:09.095Z"
   },
   {
    "duration": 93,
    "start_time": "2023-03-09T18:09:09.101Z"
   },
   {
    "duration": 83,
    "start_time": "2023-03-09T18:09:09.197Z"
   },
   {
    "duration": 20,
    "start_time": "2023-03-09T18:09:09.282Z"
   },
   {
    "duration": 4,
    "start_time": "2023-03-09T18:09:09.358Z"
   },
   {
    "duration": 6,
    "start_time": "2023-03-09T18:09:09.364Z"
   },
   {
    "duration": 8,
    "start_time": "2023-03-09T18:09:09.371Z"
   },
   {
    "duration": 5,
    "start_time": "2023-03-09T18:09:09.381Z"
   },
   {
    "duration": 4,
    "start_time": "2023-03-09T18:09:09.388Z"
   },
   {
    "duration": 5666,
    "start_time": "2023-03-09T18:09:09.393Z"
   },
   {
    "duration": 7,
    "start_time": "2023-03-09T18:09:15.061Z"
   },
   {
    "duration": 138,
    "start_time": "2023-03-09T18:09:15.157Z"
   },
   {
    "duration": 8,
    "start_time": "2023-03-09T18:09:15.298Z"
   },
   {
    "duration": 2988,
    "start_time": "2023-03-09T18:09:15.308Z"
   },
   {
    "duration": 360,
    "start_time": "2023-03-09T18:09:18.298Z"
   },
   {
    "duration": 10,
    "start_time": "2023-03-09T18:09:18.661Z"
   },
   {
    "duration": 20,
    "start_time": "2023-03-09T18:09:18.673Z"
   },
   {
    "duration": 19,
    "start_time": "2023-03-09T18:09:18.696Z"
   },
   {
    "duration": 10197,
    "start_time": "2023-03-09T18:09:18.758Z"
   },
   {
    "duration": 1384,
    "start_time": "2023-03-09T18:09:28.957Z"
   },
   {
    "duration": 4,
    "start_time": "2023-03-09T18:09:30.343Z"
   },
   {
    "duration": 11,
    "start_time": "2023-03-09T18:09:30.349Z"
   },
   {
    "duration": 11,
    "start_time": "2023-03-09T18:09:30.362Z"
   },
   {
    "duration": 23,
    "start_time": "2023-03-09T18:09:30.375Z"
   },
   {
    "duration": 5262,
    "start_time": "2023-03-09T18:09:30.400Z"
   },
   {
    "duration": 106,
    "start_time": "2023-03-09T18:09:35.667Z"
   },
   {
    "duration": 11,
    "start_time": "2023-03-09T18:09:35.858Z"
   },
   {
    "duration": 10,
    "start_time": "2023-03-09T18:09:35.871Z"
   },
   {
    "duration": 1408,
    "start_time": "2023-03-09T18:09:35.884Z"
   },
   {
    "duration": 7,
    "start_time": "2023-03-09T18:09:37.294Z"
   },
   {
    "duration": 5,
    "start_time": "2023-03-09T18:09:37.303Z"
   },
   {
    "duration": 7,
    "start_time": "2023-03-09T18:09:37.310Z"
   },
   {
    "duration": 206,
    "start_time": "2023-03-09T18:09:37.319Z"
   },
   {
    "duration": 13,
    "start_time": "2023-03-09T18:09:37.526Z"
   },
   {
    "duration": 17,
    "start_time": "2023-03-09T18:09:37.540Z"
   },
   {
    "duration": 6,
    "start_time": "2023-03-09T18:09:37.559Z"
   },
   {
    "duration": 122,
    "start_time": "2023-03-09T18:13:09.391Z"
   },
   {
    "duration": 14,
    "start_time": "2023-03-09T18:13:21.674Z"
   },
   {
    "duration": 1469,
    "start_time": "2023-03-09T18:13:31.880Z"
   },
   {
    "duration": 58,
    "start_time": "2023-03-09T18:13:33.352Z"
   },
   {
    "duration": 4,
    "start_time": "2023-03-09T18:13:33.411Z"
   },
   {
    "duration": 16,
    "start_time": "2023-03-09T18:13:33.417Z"
   },
   {
    "duration": 12,
    "start_time": "2023-03-09T18:13:33.435Z"
   },
   {
    "duration": 10,
    "start_time": "2023-03-09T18:13:33.449Z"
   },
   {
    "duration": 8,
    "start_time": "2023-03-09T18:13:33.460Z"
   },
   {
    "duration": 16,
    "start_time": "2023-03-09T18:13:33.470Z"
   },
   {
    "duration": 8,
    "start_time": "2023-03-09T18:13:33.489Z"
   },
   {
    "duration": 230,
    "start_time": "2023-03-09T18:13:33.517Z"
   },
   {
    "duration": 859,
    "start_time": "2023-03-09T18:13:33.749Z"
   },
   {
    "duration": 170,
    "start_time": "2023-03-09T18:13:34.610Z"
   },
   {
    "duration": 126,
    "start_time": "2023-03-09T18:13:42.998Z"
   },
   {
    "duration": 176,
    "start_time": "2023-03-09T18:14:30.009Z"
   },
   {
    "duration": 109,
    "start_time": "2023-03-09T18:14:56.188Z"
   },
   {
    "duration": 8,
    "start_time": "2023-03-09T18:14:59.938Z"
   },
   {
    "duration": 157,
    "start_time": "2023-03-09T18:15:00.186Z"
   },
   {
    "duration": 9,
    "start_time": "2023-03-09T18:15:07.239Z"
   },
   {
    "duration": 165,
    "start_time": "2023-03-09T18:15:07.453Z"
   },
   {
    "duration": 160,
    "start_time": "2023-03-09T18:15:52.155Z"
   },
   {
    "duration": 4,
    "start_time": "2023-03-09T18:17:10.979Z"
   },
   {
    "duration": 38,
    "start_time": "2023-03-09T18:17:13.132Z"
   },
   {
    "duration": 28,
    "start_time": "2023-03-09T18:17:14.776Z"
   },
   {
    "duration": 22,
    "start_time": "2023-03-09T18:17:15.351Z"
   },
   {
    "duration": 6,
    "start_time": "2023-03-09T18:17:15.432Z"
   },
   {
    "duration": 6,
    "start_time": "2023-03-09T18:17:15.513Z"
   },
   {
    "duration": 5,
    "start_time": "2023-03-09T18:17:15.604Z"
   },
   {
    "duration": 5,
    "start_time": "2023-03-09T18:17:15.684Z"
   },
   {
    "duration": 3,
    "start_time": "2023-03-09T18:17:17.219Z"
   },
   {
    "duration": 5692,
    "start_time": "2023-03-09T18:17:17.482Z"
   },
   {
    "duration": 182,
    "start_time": "2023-03-09T18:17:23.177Z"
   },
   {
    "duration": 113,
    "start_time": "2023-03-09T18:17:23.363Z"
   },
   {
    "duration": 97,
    "start_time": "2023-03-09T18:17:23.479Z"
   },
   {
    "duration": 28,
    "start_time": "2023-03-09T18:18:33.710Z"
   },
   {
    "duration": 1406,
    "start_time": "2023-03-09T18:18:53.362Z"
   },
   {
    "duration": 48,
    "start_time": "2023-03-09T18:18:54.770Z"
   },
   {
    "duration": 4,
    "start_time": "2023-03-09T18:18:54.820Z"
   },
   {
    "duration": 11,
    "start_time": "2023-03-09T18:18:54.826Z"
   },
   {
    "duration": 10,
    "start_time": "2023-03-09T18:18:54.839Z"
   },
   {
    "duration": 14,
    "start_time": "2023-03-09T18:18:54.851Z"
   },
   {
    "duration": 11,
    "start_time": "2023-03-09T18:18:54.867Z"
   },
   {
    "duration": 12,
    "start_time": "2023-03-09T18:18:55.126Z"
   },
   {
    "duration": 8,
    "start_time": "2023-03-09T18:18:55.894Z"
   },
   {
    "duration": 222,
    "start_time": "2023-03-09T18:18:56.059Z"
   },
   {
    "duration": 810,
    "start_time": "2023-03-09T18:18:56.538Z"
   },
   {
    "duration": 189,
    "start_time": "2023-03-09T18:18:57.351Z"
   },
   {
    "duration": 9,
    "start_time": "2023-03-09T18:18:57.663Z"
   },
   {
    "duration": 152,
    "start_time": "2023-03-09T18:18:57.841Z"
   },
   {
    "duration": 225,
    "start_time": "2023-03-09T18:18:58.367Z"
   },
   {
    "duration": 4,
    "start_time": "2023-03-09T18:19:01.220Z"
   },
   {
    "duration": 18,
    "start_time": "2023-03-09T18:19:02.358Z"
   },
   {
    "duration": 39,
    "start_time": "2023-03-09T18:19:03.314Z"
   },
   {
    "duration": 35,
    "start_time": "2023-03-09T18:19:04.095Z"
   },
   {
    "duration": 12,
    "start_time": "2023-03-09T18:19:09.107Z"
   },
   {
    "duration": 4,
    "start_time": "2023-03-09T18:19:09.594Z"
   },
   {
    "duration": 4,
    "start_time": "2023-03-09T18:19:10.131Z"
   },
   {
    "duration": 3,
    "start_time": "2023-03-09T18:19:10.325Z"
   },
   {
    "duration": 4,
    "start_time": "2023-03-09T18:19:10.478Z"
   },
   {
    "duration": 3,
    "start_time": "2023-03-09T18:19:12.379Z"
   },
   {
    "duration": 10625,
    "start_time": "2023-03-09T18:19:12.542Z"
   },
   {
    "duration": 190,
    "start_time": "2023-03-09T18:19:23.170Z"
   },
   {
    "duration": 96,
    "start_time": "2023-03-09T18:19:23.362Z"
   },
   {
    "duration": 30,
    "start_time": "2023-03-09T18:19:23.460Z"
   },
   {
    "duration": 1132,
    "start_time": "2023-03-09T18:22:01.244Z"
   },
   {
    "duration": 1554,
    "start_time": "2023-03-09T18:22:19.144Z"
   },
   {
    "duration": 49,
    "start_time": "2023-03-09T18:22:20.700Z"
   },
   {
    "duration": 3,
    "start_time": "2023-03-09T18:22:20.751Z"
   },
   {
    "duration": 28,
    "start_time": "2023-03-09T18:22:20.757Z"
   },
   {
    "duration": 11,
    "start_time": "2023-03-09T18:22:20.786Z"
   },
   {
    "duration": 11,
    "start_time": "2023-03-09T18:22:20.799Z"
   },
   {
    "duration": 20,
    "start_time": "2023-03-09T18:22:20.812Z"
   },
   {
    "duration": 49,
    "start_time": "2023-03-09T18:22:20.833Z"
   },
   {
    "duration": 23,
    "start_time": "2023-03-09T18:22:20.884Z"
   },
   {
    "duration": 255,
    "start_time": "2023-03-09T18:22:20.909Z"
   },
   {
    "duration": 890,
    "start_time": "2023-03-09T18:22:21.166Z"
   },
   {
    "duration": 212,
    "start_time": "2023-03-09T18:22:22.059Z"
   },
   {
    "duration": 10,
    "start_time": "2023-03-09T18:22:22.274Z"
   },
   {
    "duration": 184,
    "start_time": "2023-03-09T18:22:22.285Z"
   },
   {
    "duration": 167,
    "start_time": "2023-03-09T18:22:22.471Z"
   },
   {
    "duration": 5,
    "start_time": "2023-03-09T18:22:22.640Z"
   },
   {
    "duration": 34,
    "start_time": "2023-03-09T18:22:22.646Z"
   },
   {
    "duration": 31,
    "start_time": "2023-03-09T18:22:22.682Z"
   },
   {
    "duration": 58,
    "start_time": "2023-03-09T18:22:22.715Z"
   },
   {
    "duration": 13,
    "start_time": "2023-03-09T18:22:22.775Z"
   },
   {
    "duration": 5,
    "start_time": "2023-03-09T18:22:22.791Z"
   },
   {
    "duration": 8,
    "start_time": "2023-03-09T18:22:22.797Z"
   },
   {
    "duration": 8,
    "start_time": "2023-03-09T18:22:22.807Z"
   },
   {
    "duration": 10,
    "start_time": "2023-03-09T18:22:22.817Z"
   },
   {
    "duration": 8,
    "start_time": "2023-03-09T18:22:22.828Z"
   },
   {
    "duration": 13031,
    "start_time": "2023-03-09T18:22:23.639Z"
   },
   {
    "duration": 192,
    "start_time": "2023-03-09T18:22:36.674Z"
   },
   {
    "duration": 15,
    "start_time": "2023-03-09T18:22:36.870Z"
   },
   {
    "duration": 7,
    "start_time": "2023-03-09T18:22:36.887Z"
   },
   {
    "duration": 1549,
    "start_time": "2023-03-09T18:22:55.474Z"
   },
   {
    "duration": 57,
    "start_time": "2023-03-09T18:22:57.024Z"
   },
   {
    "duration": 2,
    "start_time": "2023-03-09T18:22:57.083Z"
   },
   {
    "duration": 11,
    "start_time": "2023-03-09T18:22:57.087Z"
   },
   {
    "duration": 10,
    "start_time": "2023-03-09T18:22:57.100Z"
   },
   {
    "duration": 11,
    "start_time": "2023-03-09T18:22:57.111Z"
   },
   {
    "duration": 38,
    "start_time": "2023-03-09T18:22:57.123Z"
   },
   {
    "duration": 19,
    "start_time": "2023-03-09T18:22:57.173Z"
   },
   {
    "duration": 10,
    "start_time": "2023-03-09T18:22:57.194Z"
   },
   {
    "duration": 289,
    "start_time": "2023-03-09T18:22:57.207Z"
   },
   {
    "duration": 882,
    "start_time": "2023-03-09T18:22:57.498Z"
   },
   {
    "duration": 191,
    "start_time": "2023-03-09T18:22:58.382Z"
   },
   {
    "duration": 9,
    "start_time": "2023-03-09T18:22:58.575Z"
   },
   {
    "duration": 175,
    "start_time": "2023-03-09T18:22:58.586Z"
   },
   {
    "duration": 174,
    "start_time": "2023-03-09T18:22:58.763Z"
   },
   {
    "duration": 4,
    "start_time": "2023-03-09T18:22:58.939Z"
   },
   {
    "duration": 46,
    "start_time": "2023-03-09T18:22:58.945Z"
   },
   {
    "duration": 27,
    "start_time": "2023-03-09T18:22:58.993Z"
   },
   {
    "duration": 14,
    "start_time": "2023-03-09T18:22:59.021Z"
   },
   {
    "duration": 4,
    "start_time": "2023-03-09T18:22:59.036Z"
   },
   {
    "duration": 21,
    "start_time": "2023-03-09T18:22:59.042Z"
   },
   {
    "duration": 20,
    "start_time": "2023-03-09T18:22:59.065Z"
   },
   {
    "duration": 5,
    "start_time": "2023-03-09T18:22:59.087Z"
   },
   {
    "duration": 3,
    "start_time": "2023-03-09T18:23:00.421Z"
   },
   {
    "duration": 12697,
    "start_time": "2023-03-09T18:23:00.571Z"
   },
   {
    "duration": 208,
    "start_time": "2023-03-09T18:23:13.271Z"
   },
   {
    "duration": 7,
    "start_time": "2023-03-09T18:23:13.481Z"
   },
   {
    "duration": 94,
    "start_time": "2023-03-09T18:23:13.490Z"
   },
   {
    "duration": 1629,
    "start_time": "2023-03-09T18:24:22.345Z"
   },
   {
    "duration": 99,
    "start_time": "2023-03-09T18:24:23.976Z"
   },
   {
    "duration": 3,
    "start_time": "2023-03-09T18:24:24.078Z"
   },
   {
    "duration": 12,
    "start_time": "2023-03-09T18:24:24.083Z"
   },
   {
    "duration": 63,
    "start_time": "2023-03-09T18:24:24.096Z"
   },
   {
    "duration": 15,
    "start_time": "2023-03-09T18:24:24.161Z"
   },
   {
    "duration": 11,
    "start_time": "2023-03-09T18:24:24.178Z"
   },
   {
    "duration": 67,
    "start_time": "2023-03-09T18:24:24.191Z"
   },
   {
    "duration": 24,
    "start_time": "2023-03-09T18:24:24.261Z"
   },
   {
    "duration": 516,
    "start_time": "2023-03-09T18:24:24.288Z"
   },
   {
    "duration": 1603,
    "start_time": "2023-03-09T18:24:24.805Z"
   },
   {
    "duration": 189,
    "start_time": "2023-03-09T18:24:26.410Z"
   },
   {
    "duration": 8,
    "start_time": "2023-03-09T18:24:26.600Z"
   },
   {
    "duration": 365,
    "start_time": "2023-03-09T18:24:26.611Z"
   },
   {
    "duration": 384,
    "start_time": "2023-03-09T18:24:26.978Z"
   },
   {
    "duration": 6,
    "start_time": "2023-03-09T18:24:27.364Z"
   },
   {
    "duration": 84,
    "start_time": "2023-03-09T18:24:27.375Z"
   },
   {
    "duration": 35,
    "start_time": "2023-03-09T18:24:27.463Z"
   },
   {
    "duration": 75,
    "start_time": "2023-03-09T18:24:27.500Z"
   },
   {
    "duration": 4,
    "start_time": "2023-03-09T18:24:27.577Z"
   },
   {
    "duration": 6,
    "start_time": "2023-03-09T18:24:27.583Z"
   },
   {
    "duration": 90,
    "start_time": "2023-03-09T18:24:27.591Z"
   },
   {
    "duration": 5,
    "start_time": "2023-03-09T18:24:27.683Z"
   },
   {
    "duration": 9,
    "start_time": "2023-03-09T18:24:27.689Z"
   },
   {
    "duration": 4971,
    "start_time": "2023-03-09T18:24:27.700Z"
   },
   {
    "duration": 9,
    "start_time": "2023-03-09T18:24:32.675Z"
   },
   {
    "duration": 130,
    "start_time": "2023-03-09T18:24:32.758Z"
   },
   {
    "duration": 10,
    "start_time": "2023-03-09T18:24:32.889Z"
   },
   {
    "duration": 1545,
    "start_time": "2023-03-09T18:24:32.901Z"
   },
   {
    "duration": 153,
    "start_time": "2023-03-09T18:24:34.448Z"
   },
   {
    "duration": 10,
    "start_time": "2023-03-09T18:24:34.603Z"
   },
   {
    "duration": 3,
    "start_time": "2023-03-09T18:24:34.615Z"
   },
   {
    "duration": 8,
    "start_time": "2023-03-09T18:24:34.620Z"
   },
   {
    "duration": 11120,
    "start_time": "2023-03-09T18:24:34.629Z"
   },
   {
    "duration": 1348,
    "start_time": "2023-03-09T18:24:45.751Z"
   },
   {
    "duration": 4,
    "start_time": "2023-03-09T18:24:47.101Z"
   },
   {
    "duration": 6,
    "start_time": "2023-03-09T18:24:47.106Z"
   },
   {
    "duration": 9,
    "start_time": "2023-03-09T18:24:47.113Z"
   },
   {
    "duration": 7,
    "start_time": "2023-03-09T18:24:47.124Z"
   },
   {
    "duration": 5035,
    "start_time": "2023-03-09T18:24:47.132Z"
   },
   {
    "duration": 93,
    "start_time": "2023-03-09T18:24:52.173Z"
   },
   {
    "duration": 102,
    "start_time": "2023-03-09T18:24:52.269Z"
   },
   {
    "duration": 97,
    "start_time": "2023-03-09T18:24:52.373Z"
   },
   {
    "duration": 1241,
    "start_time": "2023-03-09T18:24:52.474Z"
   },
   {
    "duration": 6,
    "start_time": "2023-03-09T18:24:53.716Z"
   },
   {
    "duration": 8,
    "start_time": "2023-03-09T18:24:53.724Z"
   },
   {
    "duration": 6,
    "start_time": "2023-03-09T18:24:53.734Z"
   },
   {
    "duration": 202,
    "start_time": "2023-03-09T18:24:53.742Z"
   },
   {
    "duration": 14,
    "start_time": "2023-03-09T18:24:53.946Z"
   },
   {
    "duration": 4,
    "start_time": "2023-03-09T18:24:53.961Z"
   },
   {
    "duration": 19,
    "start_time": "2023-03-09T18:24:53.967Z"
   },
   {
    "duration": 1440,
    "start_time": "2023-03-09T18:25:06.581Z"
   },
   {
    "duration": 50,
    "start_time": "2023-03-09T18:25:08.024Z"
   },
   {
    "duration": 3,
    "start_time": "2023-03-09T18:25:08.076Z"
   },
   {
    "duration": 12,
    "start_time": "2023-03-09T18:25:08.081Z"
   },
   {
    "duration": 10,
    "start_time": "2023-03-09T18:25:08.096Z"
   },
   {
    "duration": 11,
    "start_time": "2023-03-09T18:25:08.108Z"
   },
   {
    "duration": 38,
    "start_time": "2023-03-09T18:25:08.121Z"
   },
   {
    "duration": 16,
    "start_time": "2023-03-09T18:25:08.160Z"
   },
   {
    "duration": 11,
    "start_time": "2023-03-09T18:25:08.178Z"
   },
   {
    "duration": 244,
    "start_time": "2023-03-09T18:25:08.191Z"
   },
   {
    "duration": 847,
    "start_time": "2023-03-09T18:25:08.437Z"
   },
   {
    "duration": 175,
    "start_time": "2023-03-09T18:25:09.286Z"
   },
   {
    "duration": 8,
    "start_time": "2023-03-09T18:25:09.463Z"
   },
   {
    "duration": 167,
    "start_time": "2023-03-09T18:25:09.474Z"
   },
   {
    "duration": 155,
    "start_time": "2023-03-09T18:25:09.642Z"
   },
   {
    "duration": 4,
    "start_time": "2023-03-09T18:25:09.799Z"
   },
   {
    "duration": 42,
    "start_time": "2023-03-09T18:25:09.805Z"
   },
   {
    "duration": 32,
    "start_time": "2023-03-09T18:25:09.849Z"
   },
   {
    "duration": 15,
    "start_time": "2023-03-09T18:25:09.883Z"
   },
   {
    "duration": 4,
    "start_time": "2023-03-09T18:25:09.900Z"
   },
   {
    "duration": 9,
    "start_time": "2023-03-09T18:25:09.905Z"
   },
   {
    "duration": 9,
    "start_time": "2023-03-09T18:25:09.915Z"
   },
   {
    "duration": 10,
    "start_time": "2023-03-09T18:25:09.925Z"
   },
   {
    "duration": 22,
    "start_time": "2023-03-09T18:25:09.937Z"
   },
   {
    "duration": 4911,
    "start_time": "2023-03-09T18:25:09.960Z"
   },
   {
    "duration": 186,
    "start_time": "2023-03-09T18:25:14.873Z"
   },
   {
    "duration": 97,
    "start_time": "2023-03-09T18:25:15.062Z"
   },
   {
    "duration": 15,
    "start_time": "2023-03-09T18:25:15.161Z"
   },
   {
    "duration": 6615,
    "start_time": "2023-03-09T18:25:15.178Z"
   },
   {
    "duration": 141,
    "start_time": "2023-03-09T18:25:21.794Z"
   },
   {
    "duration": 11,
    "start_time": "2023-03-09T18:25:21.936Z"
   },
   {
    "duration": 4,
    "start_time": "2023-03-09T18:25:21.956Z"
   },
   {
    "duration": 6,
    "start_time": "2023-03-09T18:25:21.961Z"
   },
   {
    "duration": 23363,
    "start_time": "2023-03-09T18:25:21.968Z"
   },
   {
    "duration": 1171,
    "start_time": "2023-03-09T18:25:45.334Z"
   },
   {
    "duration": 4,
    "start_time": "2023-03-09T18:25:46.507Z"
   },
   {
    "duration": 6,
    "start_time": "2023-03-09T18:25:46.512Z"
   },
   {
    "duration": 14,
    "start_time": "2023-03-09T18:25:46.520Z"
   },
   {
    "duration": 7,
    "start_time": "2023-03-09T18:25:46.535Z"
   },
   {
    "duration": 5213,
    "start_time": "2023-03-09T18:25:46.544Z"
   },
   {
    "duration": 100,
    "start_time": "2023-03-09T18:25:51.763Z"
   },
   {
    "duration": 108,
    "start_time": "2023-03-09T18:25:51.866Z"
   },
   {
    "duration": 25,
    "start_time": "2023-03-09T18:25:51.976Z"
   },
   {
    "duration": 1263,
    "start_time": "2023-03-09T18:25:52.003Z"
   },
   {
    "duration": 7,
    "start_time": "2023-03-09T18:25:53.268Z"
   },
   {
    "duration": 15,
    "start_time": "2023-03-09T18:25:53.276Z"
   },
   {
    "duration": 12,
    "start_time": "2023-03-09T18:25:53.293Z"
   },
   {
    "duration": 200,
    "start_time": "2023-03-09T18:25:53.307Z"
   },
   {
    "duration": 14,
    "start_time": "2023-03-09T18:25:53.508Z"
   },
   {
    "duration": 3,
    "start_time": "2023-03-09T18:25:53.524Z"
   },
   {
    "duration": 7,
    "start_time": "2023-03-09T18:25:53.529Z"
   },
   {
    "duration": 9,
    "start_time": "2023-03-09T18:44:01.419Z"
   },
   {
    "duration": 10,
    "start_time": "2023-03-09T18:44:04.723Z"
   },
   {
    "duration": 8,
    "start_time": "2023-03-09T18:44:09.521Z"
   },
   {
    "duration": 25,
    "start_time": "2023-03-09T18:44:25.331Z"
   },
   {
    "duration": 19,
    "start_time": "2023-03-09T18:45:11.111Z"
   },
   {
    "duration": 31,
    "start_time": "2023-03-09T18:45:53.760Z"
   },
   {
    "duration": 47,
    "start_time": "2023-03-09T18:47:06.764Z"
   },
   {
    "duration": 3,
    "start_time": "2023-03-09T18:47:07.372Z"
   },
   {
    "duration": 8,
    "start_time": "2023-03-09T18:47:08.374Z"
   },
   {
    "duration": 8,
    "start_time": "2023-03-09T18:47:09.702Z"
   },
   {
    "duration": 49,
    "start_time": "2023-03-09T18:47:44.514Z"
   },
   {
    "duration": 3,
    "start_time": "2023-03-09T18:47:45.097Z"
   },
   {
    "duration": 7,
    "start_time": "2023-03-09T18:47:46.893Z"
   },
   {
    "duration": 8,
    "start_time": "2023-03-09T18:47:51.375Z"
   },
   {
    "duration": 13,
    "start_time": "2023-03-09T18:48:06.274Z"
   },
   {
    "duration": 10,
    "start_time": "2023-03-09T18:48:12.239Z"
   },
   {
    "duration": 12,
    "start_time": "2023-03-09T18:48:17.399Z"
   },
   {
    "duration": 8,
    "start_time": "2023-03-09T18:50:56.488Z"
   },
   {
    "duration": 278,
    "start_time": "2023-03-09T18:50:57.075Z"
   },
   {
    "duration": 9,
    "start_time": "2023-03-09T18:51:08.209Z"
   },
   {
    "duration": 231,
    "start_time": "2023-03-09T18:51:20.887Z"
   },
   {
    "duration": 6,
    "start_time": "2023-03-09T18:52:07.773Z"
   },
   {
    "duration": 219,
    "start_time": "2023-03-09T18:52:08.021Z"
   },
   {
    "duration": 4,
    "start_time": "2023-03-09T18:52:11.870Z"
   },
   {
    "duration": 69,
    "start_time": "2023-03-09T18:52:12.337Z"
   },
   {
    "duration": 3,
    "start_time": "2023-03-09T18:52:12.697Z"
   },
   {
    "duration": 7,
    "start_time": "2023-03-09T18:52:13.075Z"
   },
   {
    "duration": 7,
    "start_time": "2023-03-09T18:52:13.834Z"
   },
   {
    "duration": 10,
    "start_time": "2023-03-09T18:52:18.047Z"
   },
   {
    "duration": 7,
    "start_time": "2023-03-09T18:52:19.109Z"
   },
   {
    "duration": 9,
    "start_time": "2023-03-09T18:52:33.940Z"
   },
   {
    "duration": 6,
    "start_time": "2023-03-09T18:52:56.797Z"
   },
   {
    "duration": 245,
    "start_time": "2023-03-09T18:52:57.018Z"
   },
   {
    "duration": 938,
    "start_time": "2023-03-09T18:53:00.292Z"
   },
   {
    "duration": 706,
    "start_time": "2023-03-09T18:54:04.103Z"
   },
   {
    "duration": 177,
    "start_time": "2023-03-09T18:54:19.912Z"
   },
   {
    "duration": 141,
    "start_time": "2023-03-09T18:54:52.930Z"
   },
   {
    "duration": 180,
    "start_time": "2023-03-09T18:54:58.375Z"
   },
   {
    "duration": 142,
    "start_time": "2023-03-09T18:55:06.891Z"
   },
   {
    "duration": 4,
    "start_time": "2023-03-09T18:55:44.773Z"
   },
   {
    "duration": 44,
    "start_time": "2023-03-09T18:55:45.606Z"
   },
   {
    "duration": 26,
    "start_time": "2023-03-09T18:55:46.571Z"
   },
   {
    "duration": 18,
    "start_time": "2023-03-09T18:55:47.775Z"
   },
   {
    "duration": 4,
    "start_time": "2023-03-09T18:55:49.826Z"
   },
   {
    "duration": 5,
    "start_time": "2023-03-09T18:55:50.175Z"
   },
   {
    "duration": 4,
    "start_time": "2023-03-09T18:55:50.598Z"
   },
   {
    "duration": 4,
    "start_time": "2023-03-09T18:55:50.923Z"
   },
   {
    "duration": 3,
    "start_time": "2023-03-09T18:55:51.674Z"
   },
   {
    "duration": 4875,
    "start_time": "2023-03-09T18:55:51.992Z"
   },
   {
    "duration": 92,
    "start_time": "2023-03-09T18:55:56.869Z"
   },
   {
    "duration": 99,
    "start_time": "2023-03-09T18:55:56.963Z"
   },
   {
    "duration": 25,
    "start_time": "2023-03-09T18:55:57.065Z"
   },
   {
    "duration": 160903,
    "start_time": "2023-03-09T18:55:57.092Z"
   },
   {
    "duration": 4445,
    "start_time": "2023-03-09T18:58:37.997Z"
   },
   {
    "duration": 29,
    "start_time": "2023-03-09T18:58:42.444Z"
   },
   {
    "duration": 5,
    "start_time": "2023-03-09T18:58:42.475Z"
   },
   {
    "duration": 6,
    "start_time": "2023-03-09T18:58:42.482Z"
   },
   {
    "duration": 32624,
    "start_time": "2023-03-09T18:58:42.490Z"
   },
   {
    "duration": 1439,
    "start_time": "2023-03-09T18:59:15.115Z"
   },
   {
    "duration": 3,
    "start_time": "2023-03-09T18:59:16.556Z"
   },
   {
    "duration": 8,
    "start_time": "2023-03-09T18:59:16.561Z"
   },
   {
    "duration": 4,
    "start_time": "2023-03-09T18:59:16.572Z"
   },
   {
    "duration": 7,
    "start_time": "2023-03-09T18:59:16.578Z"
   },
   {
    "duration": 5579,
    "start_time": "2023-03-09T18:59:16.586Z"
   },
   {
    "duration": 191,
    "start_time": "2023-03-09T18:59:22.170Z"
   },
   {
    "duration": 92,
    "start_time": "2023-03-09T18:59:22.366Z"
   },
   {
    "duration": 9,
    "start_time": "2023-03-09T18:59:22.460Z"
   },
   {
    "duration": 1641,
    "start_time": "2023-03-09T18:59:22.471Z"
   },
   {
    "duration": 5,
    "start_time": "2023-03-09T18:59:24.114Z"
   },
   {
    "duration": 12,
    "start_time": "2023-03-09T18:59:24.120Z"
   },
   {
    "duration": 8,
    "start_time": "2023-03-09T18:59:24.133Z"
   },
   {
    "duration": 2801,
    "start_time": "2023-03-09T18:59:24.143Z"
   },
   {
    "duration": 16,
    "start_time": "2023-03-09T18:59:26.946Z"
   },
   {
    "duration": 3,
    "start_time": "2023-03-09T18:59:26.964Z"
   },
   {
    "duration": 7,
    "start_time": "2023-03-09T18:59:26.969Z"
   },
   {
    "duration": 1516,
    "start_time": "2023-03-09T19:00:33.249Z"
   },
   {
    "duration": 51,
    "start_time": "2023-03-09T19:00:34.766Z"
   },
   {
    "duration": 4,
    "start_time": "2023-03-09T19:00:34.818Z"
   },
   {
    "duration": 11,
    "start_time": "2023-03-09T19:00:34.824Z"
   },
   {
    "duration": 11,
    "start_time": "2023-03-09T19:00:34.836Z"
   },
   {
    "duration": 12,
    "start_time": "2023-03-09T19:00:34.848Z"
   },
   {
    "duration": 13,
    "start_time": "2023-03-09T19:00:34.861Z"
   },
   {
    "duration": 5,
    "start_time": "2023-03-09T19:00:34.876Z"
   },
   {
    "duration": 230,
    "start_time": "2023-03-09T19:00:34.883Z"
   },
   {
    "duration": 916,
    "start_time": "2023-03-09T19:00:35.116Z"
   },
   {
    "duration": 178,
    "start_time": "2023-03-09T19:00:36.034Z"
   },
   {
    "duration": 159,
    "start_time": "2023-03-09T19:00:36.214Z"
   },
   {
    "duration": 157,
    "start_time": "2023-03-09T19:00:36.374Z"
   },
   {
    "duration": 7,
    "start_time": "2023-03-09T19:00:36.533Z"
   },
   {
    "duration": 34,
    "start_time": "2023-03-09T19:00:36.541Z"
   },
   {
    "duration": 27,
    "start_time": "2023-03-09T19:00:36.577Z"
   },
   {
    "duration": 17,
    "start_time": "2023-03-09T19:00:36.606Z"
   },
   {
    "duration": 5,
    "start_time": "2023-03-09T19:00:36.625Z"
   },
   {
    "duration": 4,
    "start_time": "2023-03-09T19:00:36.658Z"
   },
   {
    "duration": 10,
    "start_time": "2023-03-09T19:00:36.664Z"
   },
   {
    "duration": 7,
    "start_time": "2023-03-09T19:00:36.675Z"
   },
   {
    "duration": 8,
    "start_time": "2023-03-09T19:00:36.684Z"
   },
   {
    "duration": 5073,
    "start_time": "2023-03-09T19:00:36.694Z"
   },
   {
    "duration": 192,
    "start_time": "2023-03-09T19:00:41.769Z"
   },
   {
    "duration": 93,
    "start_time": "2023-03-09T19:00:41.967Z"
   },
   {
    "duration": 7,
    "start_time": "2023-03-09T19:00:42.062Z"
   },
   {
    "duration": 86835,
    "start_time": "2023-03-09T19:00:42.071Z"
   },
   {
    "duration": 2435,
    "start_time": "2023-03-09T19:02:08.909Z"
   },
   {
    "duration": 23,
    "start_time": "2023-03-09T19:02:11.345Z"
   },
   {
    "duration": 5,
    "start_time": "2023-03-09T19:02:11.370Z"
   },
   {
    "duration": 18,
    "start_time": "2023-03-09T19:02:11.376Z"
   },
   {
    "duration": 21101,
    "start_time": "2023-03-09T19:02:11.396Z"
   },
   {
    "duration": 1119,
    "start_time": "2023-03-09T19:02:32.499Z"
   },
   {
    "duration": 5,
    "start_time": "2023-03-09T19:02:33.620Z"
   },
   {
    "duration": 39,
    "start_time": "2023-03-09T19:02:33.626Z"
   },
   {
    "duration": 52,
    "start_time": "2023-03-09T19:02:33.666Z"
   },
   {
    "duration": 37,
    "start_time": "2023-03-09T19:02:33.720Z"
   },
   {
    "duration": 4798,
    "start_time": "2023-03-09T19:02:33.759Z"
   },
   {
    "duration": 101,
    "start_time": "2023-03-09T19:02:38.560Z"
   },
   {
    "duration": 101,
    "start_time": "2023-03-09T19:02:38.663Z"
   },
   {
    "duration": 15,
    "start_time": "2023-03-09T19:02:38.766Z"
   },
   {
    "duration": 1173,
    "start_time": "2023-03-09T19:02:38.783Z"
   },
   {
    "duration": 4,
    "start_time": "2023-03-09T19:02:39.958Z"
   },
   {
    "duration": 6,
    "start_time": "2023-03-09T19:02:39.964Z"
   },
   {
    "duration": 10,
    "start_time": "2023-03-09T19:02:39.972Z"
   },
   {
    "duration": 1478,
    "start_time": "2023-03-09T19:02:39.984Z"
   },
   {
    "duration": 14,
    "start_time": "2023-03-09T19:02:41.464Z"
   },
   {
    "duration": 4,
    "start_time": "2023-03-09T19:02:41.479Z"
   },
   {
    "duration": 6,
    "start_time": "2023-03-09T19:02:41.485Z"
   },
   {
    "duration": 1508,
    "start_time": "2023-03-09T19:02:59.926Z"
   },
   {
    "duration": 4,
    "start_time": "2023-03-09T19:03:01.436Z"
   },
   {
    "duration": 32,
    "start_time": "2023-03-09T19:03:01.441Z"
   },
   {
    "duration": 25,
    "start_time": "2023-03-09T19:03:01.476Z"
   },
   {
    "duration": 1550,
    "start_time": "2023-03-09T19:03:39.772Z"
   },
   {
    "duration": 4,
    "start_time": "2023-03-09T19:03:41.619Z"
   },
   {
    "duration": 4,
    "start_time": "2023-03-09T19:03:41.872Z"
   },
   {
    "duration": 4,
    "start_time": "2023-03-09T19:03:42.073Z"
   },
   {
    "duration": 5,
    "start_time": "2023-03-09T19:04:35.114Z"
   },
   {
    "duration": 1585,
    "start_time": "2023-03-09T19:04:35.751Z"
   },
   {
    "duration": 4,
    "start_time": "2023-03-09T19:04:37.338Z"
   },
   {
    "duration": 7,
    "start_time": "2023-03-09T19:04:37.343Z"
   },
   {
    "duration": 8,
    "start_time": "2023-03-09T19:04:37.352Z"
   },
   {
    "duration": 1568,
    "start_time": "2023-03-09T19:04:45.772Z"
   },
   {
    "duration": 51,
    "start_time": "2023-03-09T19:04:47.342Z"
   },
   {
    "duration": 3,
    "start_time": "2023-03-09T19:04:47.394Z"
   },
   {
    "duration": 15,
    "start_time": "2023-03-09T19:04:47.399Z"
   },
   {
    "duration": 12,
    "start_time": "2023-03-09T19:04:47.417Z"
   },
   {
    "duration": 13,
    "start_time": "2023-03-09T19:04:47.432Z"
   },
   {
    "duration": 31,
    "start_time": "2023-03-09T19:04:47.447Z"
   },
   {
    "duration": 7,
    "start_time": "2023-03-09T19:04:47.480Z"
   },
   {
    "duration": 248,
    "start_time": "2023-03-09T19:04:47.488Z"
   },
   {
    "duration": 954,
    "start_time": "2023-03-09T19:04:47.738Z"
   },
   {
    "duration": 195,
    "start_time": "2023-03-09T19:04:48.694Z"
   },
   {
    "duration": 158,
    "start_time": "2023-03-09T19:04:48.890Z"
   },
   {
    "duration": 165,
    "start_time": "2023-03-09T19:04:49.050Z"
   },
   {
    "duration": 4,
    "start_time": "2023-03-09T19:04:49.218Z"
   },
   {
    "duration": 30,
    "start_time": "2023-03-09T19:04:49.224Z"
   },
   {
    "duration": 41,
    "start_time": "2023-03-09T19:04:49.255Z"
   },
   {
    "duration": 14,
    "start_time": "2023-03-09T19:04:49.297Z"
   },
   {
    "duration": 72,
    "start_time": "2023-03-09T19:04:49.313Z"
   },
   {
    "duration": 7,
    "start_time": "2023-03-09T19:04:49.387Z"
   },
   {
    "duration": 7,
    "start_time": "2023-03-09T19:04:49.395Z"
   },
   {
    "duration": 9,
    "start_time": "2023-03-09T19:04:49.404Z"
   },
   {
    "duration": 6,
    "start_time": "2023-03-09T19:04:49.414Z"
   },
   {
    "duration": 3848,
    "start_time": "2023-03-09T19:04:49.422Z"
   },
   {
    "duration": 184,
    "start_time": "2023-03-09T19:04:53.275Z"
   },
   {
    "duration": 97,
    "start_time": "2023-03-09T19:04:53.464Z"
   },
   {
    "duration": 24,
    "start_time": "2023-03-09T19:04:53.563Z"
   },
   {
    "duration": 93447,
    "start_time": "2023-03-09T19:04:53.588Z"
   },
   {
    "duration": 6387,
    "start_time": "2023-03-09T19:06:27.037Z"
   },
   {
    "duration": 39,
    "start_time": "2023-03-09T19:06:33.426Z"
   },
   {
    "duration": 5,
    "start_time": "2023-03-09T19:06:33.471Z"
   },
   {
    "duration": 20,
    "start_time": "2023-03-09T19:06:33.477Z"
   },
   {
    "duration": 23743,
    "start_time": "2023-03-09T19:06:33.499Z"
   },
   {
    "duration": 1908,
    "start_time": "2023-03-09T19:06:57.244Z"
   },
   {
    "duration": 4,
    "start_time": "2023-03-09T19:06:59.154Z"
   },
   {
    "duration": 25,
    "start_time": "2023-03-09T19:06:59.160Z"
   },
   {
    "duration": 9,
    "start_time": "2023-03-09T19:06:59.187Z"
   },
   {
    "duration": 9,
    "start_time": "2023-03-09T19:06:59.197Z"
   },
   {
    "duration": 1548,
    "start_time": "2023-03-09T19:06:59.208Z"
   },
   {
    "duration": 10,
    "start_time": "2023-03-09T19:07:00.758Z"
   },
   {
    "duration": 30,
    "start_time": "2023-03-09T19:07:00.770Z"
   },
   {
    "duration": 29,
    "start_time": "2023-03-09T19:07:00.804Z"
   },
   {
    "duration": 134,
    "start_time": "2023-03-09T19:12:54.963Z"
   },
   {
    "duration": 222,
    "start_time": "2023-03-09T19:13:07.278Z"
   },
   {
    "duration": 236,
    "start_time": "2023-03-09T19:13:37.230Z"
   },
   {
    "duration": 217,
    "start_time": "2023-03-09T19:14:00.358Z"
   },
   {
    "duration": 230,
    "start_time": "2023-03-09T19:15:40.521Z"
   },
   {
    "duration": 214,
    "start_time": "2023-03-09T19:17:40.198Z"
   },
   {
    "duration": 205,
    "start_time": "2023-03-09T19:17:57.872Z"
   },
   {
    "duration": 717,
    "start_time": "2023-03-09T19:18:01.436Z"
   },
   {
    "duration": 309,
    "start_time": "2023-03-09T19:18:04.483Z"
   },
   {
    "duration": 174,
    "start_time": "2023-03-09T19:18:17.589Z"
   },
   {
    "duration": 13,
    "start_time": "2023-03-09T19:18:32.009Z"
   },
   {
    "duration": 733,
    "start_time": "2023-03-09T19:18:38.287Z"
   },
   {
    "duration": 12,
    "start_time": "2023-03-09T19:18:42.218Z"
   },
   {
    "duration": 1640,
    "start_time": "2023-03-09T19:19:00.948Z"
   },
   {
    "duration": 48,
    "start_time": "2023-03-09T19:19:02.591Z"
   },
   {
    "duration": 3,
    "start_time": "2023-03-09T19:19:02.641Z"
   },
   {
    "duration": 18,
    "start_time": "2023-03-09T19:19:02.646Z"
   },
   {
    "duration": 24,
    "start_time": "2023-03-09T19:19:02.666Z"
   },
   {
    "duration": 15,
    "start_time": "2023-03-09T19:19:02.692Z"
   },
   {
    "duration": 14,
    "start_time": "2023-03-09T19:19:02.709Z"
   },
   {
    "duration": 13,
    "start_time": "2023-03-09T19:19:02.725Z"
   },
   {
    "duration": 241,
    "start_time": "2023-03-09T19:19:02.740Z"
   },
   {
    "duration": 869,
    "start_time": "2023-03-09T19:19:02.983Z"
   },
   {
    "duration": 184,
    "start_time": "2023-03-09T19:19:03.854Z"
   },
   {
    "duration": 184,
    "start_time": "2023-03-09T19:19:04.040Z"
   },
   {
    "duration": 182,
    "start_time": "2023-03-09T19:19:04.226Z"
   },
   {
    "duration": 6,
    "start_time": "2023-03-09T19:26:09.036Z"
   },
   {
    "duration": 3205,
    "start_time": "2023-03-10T07:39:40.411Z"
   },
   {
    "duration": 50,
    "start_time": "2023-03-10T07:39:43.622Z"
   },
   {
    "duration": 7,
    "start_time": "2023-03-10T07:39:43.713Z"
   },
   {
    "duration": 16,
    "start_time": "2023-03-10T07:39:43.726Z"
   },
   {
    "duration": 11,
    "start_time": "2023-03-10T07:39:43.744Z"
   },
   {
    "duration": 72,
    "start_time": "2023-03-10T07:39:43.756Z"
   },
   {
    "duration": 14,
    "start_time": "2023-03-10T07:39:43.834Z"
   },
   {
    "duration": 7,
    "start_time": "2023-03-10T07:39:43.849Z"
   },
   {
    "duration": 527,
    "start_time": "2023-03-10T07:39:43.917Z"
   },
   {
    "duration": 1784,
    "start_time": "2023-03-10T07:39:44.448Z"
   },
   {
    "duration": 416,
    "start_time": "2023-03-10T07:39:46.234Z"
   },
   {
    "duration": 376,
    "start_time": "2023-03-10T07:39:46.652Z"
   },
   {
    "duration": 6,
    "start_time": "2023-03-10T07:39:47.030Z"
   },
   {
    "duration": 83,
    "start_time": "2023-03-10T07:39:47.039Z"
   },
   {
    "duration": 99,
    "start_time": "2023-03-10T07:39:47.130Z"
   },
   {
    "duration": 15,
    "start_time": "2023-03-10T07:39:47.233Z"
   },
   {
    "duration": 66,
    "start_time": "2023-03-10T07:39:47.249Z"
   },
   {
    "duration": 13,
    "start_time": "2023-03-10T07:39:47.317Z"
   },
   {
    "duration": 20,
    "start_time": "2023-03-10T07:39:47.332Z"
   },
   {
    "duration": 6,
    "start_time": "2023-03-10T07:39:47.354Z"
   },
   {
    "duration": 51,
    "start_time": "2023-03-10T07:39:47.362Z"
   },
   {
    "duration": 4697,
    "start_time": "2023-03-10T07:39:47.417Z"
   },
   {
    "duration": 115,
    "start_time": "2023-03-10T07:39:52.116Z"
   },
   {
    "duration": 80,
    "start_time": "2023-03-10T07:39:52.238Z"
   },
   {
    "duration": 10,
    "start_time": "2023-03-10T07:39:52.320Z"
   },
   {
    "duration": 174428,
    "start_time": "2023-03-10T07:39:52.332Z"
   },
   {
    "duration": 11576,
    "start_time": "2023-03-10T07:42:46.762Z"
   },
   {
    "duration": 97,
    "start_time": "2023-03-10T07:42:58.341Z"
   },
   {
    "duration": 3,
    "start_time": "2023-03-10T07:42:58.440Z"
   },
   {
    "duration": 6,
    "start_time": "2023-03-10T07:42:58.445Z"
   },
   {
    "duration": 29775,
    "start_time": "2023-03-10T07:42:58.453Z"
   },
   {
    "duration": 2120,
    "start_time": "2023-03-10T07:43:28.230Z"
   },
   {
    "duration": 3,
    "start_time": "2023-03-10T07:43:30.353Z"
   },
   {
    "duration": 64,
    "start_time": "2023-03-10T07:43:30.358Z"
   },
   {
    "duration": 88,
    "start_time": "2023-03-10T07:43:30.424Z"
   },
   {
    "duration": 42,
    "start_time": "2023-03-10T07:43:30.514Z"
   },
   {
    "duration": 2512,
    "start_time": "2023-03-10T07:43:30.558Z"
   },
   {
    "duration": 5,
    "start_time": "2023-03-10T07:43:33.072Z"
   },
   {
    "duration": 34,
    "start_time": "2023-03-10T07:43:33.078Z"
   },
   {
    "duration": 4,
    "start_time": "2023-03-10T07:43:33.114Z"
   },
   {
    "duration": 497,
    "start_time": "2023-03-10T07:43:33.119Z"
   },
   {
    "duration": 1712,
    "start_time": "2023-03-10T13:56:43.607Z"
   },
   {
    "duration": 124,
    "start_time": "2023-03-10T13:56:45.321Z"
   },
   {
    "duration": 3,
    "start_time": "2023-03-10T13:56:45.447Z"
   },
   {
    "duration": 16,
    "start_time": "2023-03-10T13:56:45.452Z"
   },
   {
    "duration": 11,
    "start_time": "2023-03-10T13:56:45.470Z"
   },
   {
    "duration": 10,
    "start_time": "2023-03-10T13:56:45.483Z"
   },
   {
    "duration": 14,
    "start_time": "2023-03-10T13:56:45.494Z"
   },
   {
    "duration": 6,
    "start_time": "2023-03-10T13:56:45.896Z"
   },
   {
    "duration": 248,
    "start_time": "2023-03-10T13:56:45.973Z"
   },
   {
    "duration": 908,
    "start_time": "2023-03-10T13:56:46.347Z"
   },
   {
    "duration": 252,
    "start_time": "2023-03-10T13:57:21.844Z"
   },
   {
    "duration": 764,
    "start_time": "2023-03-10T14:01:19.136Z"
   },
   {
    "duration": 838,
    "start_time": "2023-03-10T14:02:13.783Z"
   },
   {
    "duration": 974,
    "start_time": "2023-03-10T14:02:22.995Z"
   },
   {
    "duration": 198,
    "start_time": "2023-03-10T14:04:30.944Z"
   },
   {
    "duration": 142,
    "start_time": "2023-03-10T14:06:00.922Z"
   },
   {
    "duration": 850,
    "start_time": "2023-03-10T14:06:12.964Z"
   },
   {
    "duration": 293,
    "start_time": "2023-03-10T14:06:20.157Z"
   },
   {
    "duration": 1867,
    "start_time": "2023-03-11T10:15:38.899Z"
   },
   {
    "duration": 145,
    "start_time": "2023-03-11T10:15:40.768Z"
   },
   {
    "duration": 3,
    "start_time": "2023-03-11T10:15:40.915Z"
   },
   {
    "duration": 11,
    "start_time": "2023-03-11T10:15:40.920Z"
   },
   {
    "duration": 16,
    "start_time": "2023-03-11T10:15:40.932Z"
   },
   {
    "duration": 12,
    "start_time": "2023-03-11T10:15:40.951Z"
   },
   {
    "duration": 27,
    "start_time": "2023-03-11T10:15:40.965Z"
   },
   {
    "duration": 6,
    "start_time": "2023-03-11T10:15:40.993Z"
   },
   {
    "duration": 312,
    "start_time": "2023-03-11T10:15:41.000Z"
   },
   {
    "duration": 1097,
    "start_time": "2023-03-11T10:15:42.597Z"
   },
   {
    "duration": 250,
    "start_time": "2023-03-11T10:15:55.401Z"
   },
   {
    "duration": 121,
    "start_time": "2023-03-11T10:19:03.813Z"
   },
   {
    "duration": 140,
    "start_time": "2023-03-11T10:19:55.178Z"
   },
   {
    "duration": 192,
    "start_time": "2023-03-11T10:20:30.331Z"
   },
   {
    "duration": 230,
    "start_time": "2023-03-11T10:20:45.209Z"
   },
   {
    "duration": 226,
    "start_time": "2023-03-11T10:20:56.693Z"
   },
   {
    "duration": 145,
    "start_time": "2023-03-11T10:21:04.794Z"
   },
   {
    "duration": 183,
    "start_time": "2023-03-11T10:21:33.218Z"
   },
   {
    "duration": 197,
    "start_time": "2023-03-11T10:22:37.426Z"
   },
   {
    "duration": 185,
    "start_time": "2023-03-11T10:22:47.053Z"
   },
   {
    "duration": 6,
    "start_time": "2023-03-11T10:27:43.772Z"
   },
   {
    "duration": 22,
    "start_time": "2023-03-11T10:27:43.846Z"
   },
   {
    "duration": 29,
    "start_time": "2023-03-11T10:27:45.633Z"
   },
   {
    "duration": 15,
    "start_time": "2023-03-11T10:27:45.807Z"
   },
   {
    "duration": 4,
    "start_time": "2023-03-11T10:27:45.870Z"
   },
   {
    "duration": 4,
    "start_time": "2023-03-11T10:27:45.958Z"
   },
   {
    "duration": 4,
    "start_time": "2023-03-11T10:27:46.039Z"
   },
   {
    "duration": 8,
    "start_time": "2023-03-11T10:27:46.123Z"
   },
   {
    "duration": 5,
    "start_time": "2023-03-11T10:27:46.306Z"
   },
   {
    "duration": 4147,
    "start_time": "2023-03-11T10:27:46.379Z"
   },
   {
    "duration": 192,
    "start_time": "2023-03-11T10:27:50.531Z"
   },
   {
    "duration": 5,
    "start_time": "2023-03-11T10:27:50.729Z"
   },
   {
    "duration": 6,
    "start_time": "2023-03-11T10:27:50.736Z"
   },
   {
    "duration": 88535,
    "start_time": "2023-03-11T10:27:50.744Z"
   },
   {
    "duration": 6110,
    "start_time": "2023-03-11T10:29:19.281Z"
   },
   {
    "duration": 38,
    "start_time": "2023-03-11T10:29:25.393Z"
   },
   {
    "duration": 4,
    "start_time": "2023-03-11T10:29:25.437Z"
   },
   {
    "duration": 15,
    "start_time": "2023-03-11T10:29:25.443Z"
   },
   {
    "duration": 20428,
    "start_time": "2023-03-11T10:29:25.461Z"
   },
   {
    "duration": 1266,
    "start_time": "2023-03-11T10:29:45.891Z"
   },
   {
    "duration": 4,
    "start_time": "2023-03-11T10:29:47.158Z"
   },
   {
    "duration": 5,
    "start_time": "2023-03-11T10:29:47.163Z"
   },
   {
    "duration": 5,
    "start_time": "2023-03-11T10:29:47.169Z"
   },
   {
    "duration": 5,
    "start_time": "2023-03-11T10:29:47.175Z"
   },
   {
    "duration": 1359,
    "start_time": "2023-03-11T10:29:47.182Z"
   },
   {
    "duration": 4,
    "start_time": "2023-03-11T10:29:48.543Z"
   },
   {
    "duration": 5,
    "start_time": "2023-03-11T10:29:48.549Z"
   },
   {
    "duration": 9,
    "start_time": "2023-03-11T10:29:48.555Z"
   },
   {
    "duration": 277,
    "start_time": "2023-03-11T10:29:48.566Z"
   },
   {
    "duration": 52,
    "start_time": "2023-03-12T04:29:21.076Z"
   },
   {
    "duration": 2001,
    "start_time": "2023-03-12T04:29:40.776Z"
   },
   {
    "duration": 102,
    "start_time": "2023-03-12T04:29:42.780Z"
   },
   {
    "duration": 3,
    "start_time": "2023-03-12T04:29:42.884Z"
   },
   {
    "duration": 63,
    "start_time": "2023-03-12T04:29:42.889Z"
   },
   {
    "duration": 21,
    "start_time": "2023-03-12T04:29:42.953Z"
   },
   {
    "duration": 38,
    "start_time": "2023-03-12T04:29:42.976Z"
   },
   {
    "duration": 42,
    "start_time": "2023-03-12T04:29:43.016Z"
   },
   {
    "duration": 37,
    "start_time": "2023-03-12T04:29:43.060Z"
   },
   {
    "duration": 276,
    "start_time": "2023-03-12T04:29:43.099Z"
   },
   {
    "duration": 1017,
    "start_time": "2023-03-12T04:29:43.378Z"
   },
   {
    "duration": 234,
    "start_time": "2023-03-12T04:29:44.397Z"
   },
   {
    "duration": 208,
    "start_time": "2023-03-12T04:29:44.634Z"
   },
   {
    "duration": 10,
    "start_time": "2023-03-12T04:29:56.083Z"
   },
   {
    "duration": 273,
    "start_time": "2023-03-12T04:31:16.476Z"
   },
   {
    "duration": 182,
    "start_time": "2023-03-12T04:31:20.229Z"
   },
   {
    "duration": 10,
    "start_time": "2023-03-12T04:31:27.124Z"
   },
   {
    "duration": 104,
    "start_time": "2023-03-12T04:31:32.210Z"
   },
   {
    "duration": 108,
    "start_time": "2023-03-12T04:32:29.045Z"
   },
   {
    "duration": 608,
    "start_time": "2023-03-12T04:33:59.569Z"
   },
   {
    "duration": 727,
    "start_time": "2023-03-12T04:34:19.528Z"
   },
   {
    "duration": 178,
    "start_time": "2023-03-12T04:34:44.311Z"
   },
   {
    "duration": 179,
    "start_time": "2023-03-12T04:36:57.880Z"
   },
   {
    "duration": 4,
    "start_time": "2023-03-12T04:37:02.328Z"
   },
   {
    "duration": 9,
    "start_time": "2023-03-12T04:37:11.562Z"
   },
   {
    "duration": 4,
    "start_time": "2023-03-12T04:37:16.632Z"
   },
   {
    "duration": 4,
    "start_time": "2023-03-12T04:38:14.288Z"
   },
   {
    "duration": 286,
    "start_time": "2023-03-12T04:38:56.465Z"
   },
   {
    "duration": 311,
    "start_time": "2023-03-12T04:39:04.449Z"
   },
   {
    "duration": 294,
    "start_time": "2023-03-12T04:39:15.542Z"
   },
   {
    "duration": 274,
    "start_time": "2023-03-12T04:40:24.904Z"
   },
   {
    "duration": 247,
    "start_time": "2023-03-12T04:40:30.304Z"
   },
   {
    "duration": 261,
    "start_time": "2023-03-12T04:40:37.831Z"
   },
   {
    "duration": 253,
    "start_time": "2023-03-12T04:40:48.437Z"
   },
   {
    "duration": 258,
    "start_time": "2023-03-12T04:40:53.846Z"
   },
   {
    "duration": 359,
    "start_time": "2023-03-12T04:41:05.707Z"
   },
   {
    "duration": 259,
    "start_time": "2023-03-12T04:41:10.011Z"
   },
   {
    "duration": 281,
    "start_time": "2023-03-12T04:41:16.064Z"
   }
  ],
  "kernelspec": {
   "display_name": "Python 3 (ipykernel)",
   "language": "python",
   "name": "python3"
  },
  "language_info": {
   "codemirror_mode": {
    "name": "ipython",
    "version": 3
   },
   "file_extension": ".py",
   "mimetype": "text/x-python",
   "name": "python",
   "nbconvert_exporter": "python",
   "pygments_lexer": "ipython3",
   "version": "3.9.16"
  },
  "toc": {
   "base_numbering": 1,
   "nav_menu": {},
   "number_sections": true,
   "sideBar": true,
   "skip_h1_title": true,
   "title_cell": "Содержание",
   "title_sidebar": "Contents",
   "toc_cell": true,
   "toc_position": {
    "height": "calc(100% - 180px)",
    "left": "10px",
    "top": "150px",
    "width": "270.188px"
   },
   "toc_section_display": true,
   "toc_window_display": true
  }
 },
 "nbformat": 4,
 "nbformat_minor": 2
}
