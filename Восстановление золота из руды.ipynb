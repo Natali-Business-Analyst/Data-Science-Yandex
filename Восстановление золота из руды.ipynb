{
 "cells": [
  {
   "cell_type": "markdown",
   "metadata": {
    "toc": true
   },
   "source": [
    "<h1>Содержание<span class=\"tocSkip\"></span></h1>\n",
    "<div class=\"toc\"><ul class=\"toc-item\"><li><span><a href=\"#Подготовка-данных\" data-toc-modified-id=\"Подготовка-данных-1\"><span class=\"toc-item-num\">1&nbsp;&nbsp;</span>Подготовка данных</a></span><ul class=\"toc-item\"><li><span><a href=\"#Загрузка-данных\" data-toc-modified-id=\"Загрузка-данных-1.1\"><span class=\"toc-item-num\">1.1&nbsp;&nbsp;</span>Загрузка данных</a></span></li><li><span><a href=\"#Проверяем,-что-эффективность-обогащения-рассчитана-правильно.-Вычисляем-её-на-обучающей-выборке-для-признака-rougher.output.recovery.\" data-toc-modified-id=\"Проверяем,-что-эффективность-обогащения-рассчитана-правильно.-Вычисляем-её-на-обучающей-выборке-для-признака-rougher.output.recovery.-1.2\"><span class=\"toc-item-num\">1.2&nbsp;&nbsp;</span>Проверяем, что эффективность обогащения рассчитана правильно. Вычисляем её на обучающей выборке для признака rougher.output.recovery.</a></span><ul class=\"toc-item\"><li><span><a href=\"#Вывод\" data-toc-modified-id=\"Вывод-1.2.1\"><span class=\"toc-item-num\">1.2.1&nbsp;&nbsp;</span>Вывод</a></span></li></ul></li><li><span><a href=\"#Проанализируйте-признаки,-недоступные-в-тестовой-выборке.-Что-это-за-параметры?-К-какому-типу-относятся?\" data-toc-modified-id=\"Проанализируйте-признаки,-недоступные-в-тестовой-выборке.-Что-это-за-параметры?-К-какому-типу-относятся?-1.3\"><span class=\"toc-item-num\">1.3&nbsp;&nbsp;</span>Проанализируйте признаки, недоступные в тестовой выборке. Что это за параметры? К какому типу относятся?</a></span><ul class=\"toc-item\"><li><span><a href=\"#Вывод\" data-toc-modified-id=\"Вывод-1.3.1\"><span class=\"toc-item-num\">1.3.1&nbsp;&nbsp;</span>Вывод</a></span></li></ul></li><li><span><a href=\"#Проведите-предобработку-данных.\" data-toc-modified-id=\"Проведите-предобработку-данных.-1.4\"><span class=\"toc-item-num\">1.4&nbsp;&nbsp;</span>Проведите предобработку данных.</a></span><ul class=\"toc-item\"><li><span><a href=\"#Заполняем-пропуски,-преобразуем-данные-в-нужные-типы,-ищем-дубликаты\" data-toc-modified-id=\"Заполняем-пропуски,-преобразуем-данные-в-нужные-типы,-ищем-дубликаты-1.4.1\"><span class=\"toc-item-num\">1.4.1&nbsp;&nbsp;</span>Заполняем пропуски, преобразуем данные в нужные типы, ищем дубликаты</a></span></li><li><span><a href=\"#Добавляем-признаки-в-data_test\" data-toc-modified-id=\"Добавляем-признаки-в-data_test-1.4.2\"><span class=\"toc-item-num\">1.4.2&nbsp;&nbsp;</span>Добавляем признаки в data_test</a></span></li><li><span><a href=\"#Вывод\" data-toc-modified-id=\"Вывод-1.4.3\"><span class=\"toc-item-num\">1.4.3&nbsp;&nbsp;</span>Вывод</a></span></li></ul></li></ul></li><li><span><a href=\"#Анализ-данных\" data-toc-modified-id=\"Анализ-данных-2\"><span class=\"toc-item-num\">2&nbsp;&nbsp;</span>Анализ данных</a></span><ul class=\"toc-item\"><li><span><a href=\"#Посмотрите,-как-меняется-концентрация-металлов-(Au,-Ag,-Pb)-на-различных-этапах-очистки.-Опишите-выводы.\" data-toc-modified-id=\"Посмотрите,-как-меняется-концентрация-металлов-(Au,-Ag,-Pb)-на-различных-этапах-очистки.-Опишите-выводы.-2.1\"><span class=\"toc-item-num\">2.1&nbsp;&nbsp;</span>Посмотрите, как меняется концентрация металлов (Au, Ag, Pb) на различных этапах очистки. Опишите выводы.</a></span><ul class=\"toc-item\"><li><span><a href=\"#Концентрация-перед-флотацией\" data-toc-modified-id=\"Концентрация-перед-флотацией-2.1.1\"><span class=\"toc-item-num\">2.1.1&nbsp;&nbsp;</span>Концентрация перед флотацией</a></span></li><li><span><a href=\"#Концентрация-после-флотации\" data-toc-modified-id=\"Концентрация-после-флотации-2.1.2\"><span class=\"toc-item-num\">2.1.2&nbsp;&nbsp;</span>Концентрация после флотации</a></span></li><li><span><a href=\"#После-первичной-очистки\" data-toc-modified-id=\"После-первичной-очистки-2.1.3\"><span class=\"toc-item-num\">2.1.3&nbsp;&nbsp;</span>После первичной очистки</a></span></li><li><span><a href=\"#Итоговая-концентрация-металлов\" data-toc-modified-id=\"Итоговая-концентрация-металлов-2.1.4\"><span class=\"toc-item-num\">2.1.4&nbsp;&nbsp;</span>Итоговая концентрация металлов</a></span></li><li><span><a href=\"#Сравнение-концентрации-металлов-на-всех-этапах\" data-toc-modified-id=\"Сравнение-концентрации-металлов-на-всех-этапах-2.1.5\"><span class=\"toc-item-num\">2.1.5&nbsp;&nbsp;</span>Сравнение концентрации металлов на всех этапах</a></span></li><li><span><a href=\"#Вывод\" data-toc-modified-id=\"Вывод-2.1.6\"><span class=\"toc-item-num\">2.1.6&nbsp;&nbsp;</span>Вывод</a></span></li></ul></li><li><span><a href=\"#Сравните-распределения-размеров-гранул-сырья-на-обучающей-и-тестовой-выборках.-Если-распределения-сильно-отличаются-друг-от-друга,-оценка-модели-будет-неправильной.\" data-toc-modified-id=\"Сравните-распределения-размеров-гранул-сырья-на-обучающей-и-тестовой-выборках.-Если-распределения-сильно-отличаются-друг-от-друга,-оценка-модели-будет-неправильной.-2.2\"><span class=\"toc-item-num\">2.2&nbsp;&nbsp;</span>Сравните распределения размеров гранул сырья на обучающей и тестовой выборках. Если распределения сильно отличаются друг от друга, оценка модели будет неправильной.</a></span><ul class=\"toc-item\"><li><span><a href=\"#Вывод\" data-toc-modified-id=\"Вывод-2.2.1\"><span class=\"toc-item-num\">2.2.1&nbsp;&nbsp;</span>Вывод</a></span></li></ul></li><li><span><a href=\"#Исследуйте-суммарную-концентрацию-всех-веществ-на-разных-стадиях:-в-сырье,-в-черновом-и-финальном-концентратах.\" data-toc-modified-id=\"Исследуйте-суммарную-концентрацию-всех-веществ-на-разных-стадиях:-в-сырье,-в-черновом-и-финальном-концентратах.-2.3\"><span class=\"toc-item-num\">2.3&nbsp;&nbsp;</span>Исследуйте суммарную концентрацию всех веществ на разных стадиях: в сырье, в черновом и финальном концентратах.</a></span><ul class=\"toc-item\"><li><span><a href=\"#Суммарная-концентрация-в-сырье\" data-toc-modified-id=\"Суммарная-концентрация-в-сырье-2.3.1\"><span class=\"toc-item-num\">2.3.1&nbsp;&nbsp;</span>Суммарная концентрация в сырье</a></span></li><li><span><a href=\"#Суммарная-концентрация-после-флотации\" data-toc-modified-id=\"Суммарная-концентрация-после-флотации-2.3.2\"><span class=\"toc-item-num\">2.3.2&nbsp;&nbsp;</span>Суммарная концентрация после флотации</a></span></li><li><span><a href=\"#После-первичной-очистки\" data-toc-modified-id=\"После-первичной-очистки-2.3.3\"><span class=\"toc-item-num\">2.3.3&nbsp;&nbsp;</span>После первичной очистки</a></span></li><li><span><a href=\"#Суммарная-концентрация-в-финальном-концентрате\" data-toc-modified-id=\"Суммарная-концентрация-в-финальном-концентрате-2.3.4\"><span class=\"toc-item-num\">2.3.4&nbsp;&nbsp;</span>Суммарная концентрация в финальном концентрате</a></span></li><li><span><a href=\"#Вывод\" data-toc-modified-id=\"Вывод-2.3.5\"><span class=\"toc-item-num\">2.3.5&nbsp;&nbsp;</span>Вывод</a></span></li></ul></li></ul></li><li><span><a href=\"#Модель\" data-toc-modified-id=\"Модель-3\"><span class=\"toc-item-num\">3&nbsp;&nbsp;</span>Модель</a></span><ul class=\"toc-item\"><li><span><a href=\"#Функция-для-вычисления-итоговой-sMAPE\" data-toc-modified-id=\"Функция-для-вычисления-итоговой-sMAPE-3.1\"><span class=\"toc-item-num\">3.1&nbsp;&nbsp;</span>Функция для вычисления итоговой sMAPE</a></span></li><li><span><a href=\"#Обучите-разные-модели-и-оцените-их-качество-кросс-валидацией.\" data-toc-modified-id=\"Обучите-разные-модели-и-оцените-их-качество-кросс-валидацией.-3.2\"><span class=\"toc-item-num\">3.2&nbsp;&nbsp;</span>Обучите разные модели и оцените их качество кросс-валидацией.</a></span><ul class=\"toc-item\"><li><span><a href=\"#Линейная-регрессия\" data-toc-modified-id=\"Линейная-регрессия-3.2.1\"><span class=\"toc-item-num\">3.2.1&nbsp;&nbsp;</span>Линейная регрессия</a></span></li><li><span><a href=\"#Дерево-решений\" data-toc-modified-id=\"Дерево-решений-3.2.2\"><span class=\"toc-item-num\">3.2.2&nbsp;&nbsp;</span>Дерево решений</a></span></li><li><span><a href=\"#Случайный-лес\" data-toc-modified-id=\"Случайный-лес-3.2.3\"><span class=\"toc-item-num\">3.2.3&nbsp;&nbsp;</span>Случайный лес</a></span></li></ul></li><li><span><a href=\"#Вывод\" data-toc-modified-id=\"Вывод-3.3\"><span class=\"toc-item-num\">3.3&nbsp;&nbsp;</span>Вывод</a></span></li><li><span><a href=\"#Выберите-лучшую-модель-и-проверьте-её-на-тестовой-выборке.-Опишите-выводы.\" data-toc-modified-id=\"Выберите-лучшую-модель-и-проверьте-её-на-тестовой-выборке.-Опишите-выводы.-3.4\"><span class=\"toc-item-num\">3.4&nbsp;&nbsp;</span>Выберите лучшую модель и проверьте её на тестовой выборке. Опишите выводы.</a></span><ul class=\"toc-item\"><li><span><a href=\"#Вывод\" data-toc-modified-id=\"Вывод-3.4.1\"><span class=\"toc-item-num\">3.4.1&nbsp;&nbsp;</span>Вывод</a></span></li></ul></li></ul></li><li><span><a href=\"#Общий-вывод\" data-toc-modified-id=\"Общий-вывод-4\"><span class=\"toc-item-num\">4&nbsp;&nbsp;</span>Общий вывод</a></span></li><li><span><a href=\"#Чек-лист-готовности-проекта\" data-toc-modified-id=\"Чек-лист-готовности-проекта-5\"><span class=\"toc-item-num\">5&nbsp;&nbsp;</span>Чек-лист готовности проекта</a></span></li></ul></div>"
   ]
  },
  {
   "cell_type": "markdown",
   "metadata": {},
   "source": [
    "# Восстановление золота из руды"
   ]
  },
  {
   "cell_type": "markdown",
   "metadata": {},
   "source": [
    "Подготовьте прототип модели машинного обучения для «Цифры». Компания разрабатывает решения для эффективной работы промышленных предприятий.\n",
    "\n",
    "Модель должна предсказать коэффициент восстановления золота из золотосодержащей руды. Используйте данные с параметрами добычи и очистки. \n",
    "\n",
    "Модель поможет оптимизировать производство, чтобы не запускать предприятие с убыточными характеристиками.\n",
    "\n",
    "Необходимо:\n",
    "\n",
    "1. Подготовить данные;\n",
    "2. Провести исследовательский анализ данных;\n",
    "3. Построить и обучить модель."
   ]
  },
  {
   "cell_type": "markdown",
   "metadata": {},
   "source": [
    "## Подготовка данных"
   ]
  },
  {
   "cell_type": "code",
   "execution_count": 1,
   "metadata": {},
   "outputs": [],
   "source": [
    "import numpy as np\n",
    "import matplotlib.pyplot as plt\n",
    "import seaborn as sns\n",
    "import pandas as pd\n",
    "\n",
    "from sklearn.ensemble import RandomForestRegressor\n",
    "from sklearn.dummy import DummyRegressor\n",
    "from sklearn.metrics import mean_absolute_error\n",
    "from sklearn.metrics import make_scorer\n",
    "from sklearn.model_selection import cross_val_score\n",
    "from sklearn.linear_model import LinearRegression\n",
    "from sklearn.tree import DecisionTreeRegressor"
   ]
  },
  {
   "cell_type": "markdown",
   "metadata": {},
   "source": [
    "### Загрузка данных"
   ]
  },
  {
   "cell_type": "code",
   "execution_count": 2,
   "metadata": {},
   "outputs": [],
   "source": [
    "try:\n",
    "    data_train = pd.read_csv('/datasets/gold_recovery_train_new.csv')\n",
    "    data_test = pd.read_csv('/datasets/gold_recovery_test_new.csv')\n",
    "    data_full = pd.read_csv('/datasets/gold_recovery_full_new.csv')\n",
    "except:\n",
    "    data_train = pd.read_csv('./datasets/gold_recovery_train_new.csv')\n",
    "    data_test = pd.read_csv('./datasets/gold_recovery_test_new.csv')\n",
    "    data_full = pd.read_csv('./datasets/gold_recovery_full_new.csv')"
   ]
  },
  {
   "cell_type": "code",
   "execution_count": 3,
   "metadata": {},
   "outputs": [
    {
     "data": {
      "text/html": [
       "<div>\n",
       "<style scoped>\n",
       "    .dataframe tbody tr th:only-of-type {\n",
       "        vertical-align: middle;\n",
       "    }\n",
       "\n",
       "    .dataframe tbody tr th {\n",
       "        vertical-align: top;\n",
       "    }\n",
       "\n",
       "    .dataframe thead th {\n",
       "        text-align: right;\n",
       "    }\n",
       "</style>\n",
       "<table border=\"1\" class=\"dataframe\">\n",
       "  <thead>\n",
       "    <tr style=\"text-align: right;\">\n",
       "      <th></th>\n",
       "      <th>date</th>\n",
       "      <th>final.output.concentrate_ag</th>\n",
       "      <th>final.output.concentrate_pb</th>\n",
       "      <th>final.output.concentrate_sol</th>\n",
       "      <th>final.output.concentrate_au</th>\n",
       "      <th>final.output.recovery</th>\n",
       "      <th>final.output.tail_ag</th>\n",
       "      <th>final.output.tail_pb</th>\n",
       "      <th>final.output.tail_sol</th>\n",
       "      <th>final.output.tail_au</th>\n",
       "      <th>...</th>\n",
       "      <th>secondary_cleaner.state.floatbank4_a_air</th>\n",
       "      <th>secondary_cleaner.state.floatbank4_a_level</th>\n",
       "      <th>secondary_cleaner.state.floatbank4_b_air</th>\n",
       "      <th>secondary_cleaner.state.floatbank4_b_level</th>\n",
       "      <th>secondary_cleaner.state.floatbank5_a_air</th>\n",
       "      <th>secondary_cleaner.state.floatbank5_a_level</th>\n",
       "      <th>secondary_cleaner.state.floatbank5_b_air</th>\n",
       "      <th>secondary_cleaner.state.floatbank5_b_level</th>\n",
       "      <th>secondary_cleaner.state.floatbank6_a_air</th>\n",
       "      <th>secondary_cleaner.state.floatbank6_a_level</th>\n",
       "    </tr>\n",
       "  </thead>\n",
       "  <tbody>\n",
       "    <tr>\n",
       "      <th>0</th>\n",
       "      <td>2016-01-15 00:00:00</td>\n",
       "      <td>6.055403</td>\n",
       "      <td>9.889648</td>\n",
       "      <td>5.507324</td>\n",
       "      <td>42.192020</td>\n",
       "      <td>70.541216</td>\n",
       "      <td>10.411962</td>\n",
       "      <td>0.895447</td>\n",
       "      <td>16.904297</td>\n",
       "      <td>2.143149</td>\n",
       "      <td>...</td>\n",
       "      <td>14.016835</td>\n",
       "      <td>-502.488007</td>\n",
       "      <td>12.099931</td>\n",
       "      <td>-504.715942</td>\n",
       "      <td>9.925633</td>\n",
       "      <td>-498.310211</td>\n",
       "      <td>8.079666</td>\n",
       "      <td>-500.470978</td>\n",
       "      <td>14.151341</td>\n",
       "      <td>-605.841980</td>\n",
       "    </tr>\n",
       "    <tr>\n",
       "      <th>1</th>\n",
       "      <td>2016-01-15 01:00:00</td>\n",
       "      <td>6.029369</td>\n",
       "      <td>9.968944</td>\n",
       "      <td>5.257781</td>\n",
       "      <td>42.701629</td>\n",
       "      <td>69.266198</td>\n",
       "      <td>10.462676</td>\n",
       "      <td>0.927452</td>\n",
       "      <td>16.634514</td>\n",
       "      <td>2.224930</td>\n",
       "      <td>...</td>\n",
       "      <td>13.992281</td>\n",
       "      <td>-505.503262</td>\n",
       "      <td>11.950531</td>\n",
       "      <td>-501.331529</td>\n",
       "      <td>10.039245</td>\n",
       "      <td>-500.169983</td>\n",
       "      <td>7.984757</td>\n",
       "      <td>-500.582168</td>\n",
       "      <td>13.998353</td>\n",
       "      <td>-599.787184</td>\n",
       "    </tr>\n",
       "    <tr>\n",
       "      <th>2</th>\n",
       "      <td>2016-01-15 02:00:00</td>\n",
       "      <td>6.055926</td>\n",
       "      <td>10.213995</td>\n",
       "      <td>5.383759</td>\n",
       "      <td>42.657501</td>\n",
       "      <td>68.116445</td>\n",
       "      <td>10.507046</td>\n",
       "      <td>0.953716</td>\n",
       "      <td>16.208849</td>\n",
       "      <td>2.257889</td>\n",
       "      <td>...</td>\n",
       "      <td>14.015015</td>\n",
       "      <td>-502.520901</td>\n",
       "      <td>11.912783</td>\n",
       "      <td>-501.133383</td>\n",
       "      <td>10.070913</td>\n",
       "      <td>-500.129135</td>\n",
       "      <td>8.013877</td>\n",
       "      <td>-500.517572</td>\n",
       "      <td>14.028663</td>\n",
       "      <td>-601.427363</td>\n",
       "    </tr>\n",
       "    <tr>\n",
       "      <th>3</th>\n",
       "      <td>2016-01-15 03:00:00</td>\n",
       "      <td>6.047977</td>\n",
       "      <td>9.977019</td>\n",
       "      <td>4.858634</td>\n",
       "      <td>42.689819</td>\n",
       "      <td>68.347543</td>\n",
       "      <td>10.422762</td>\n",
       "      <td>0.883763</td>\n",
       "      <td>16.532835</td>\n",
       "      <td>2.146849</td>\n",
       "      <td>...</td>\n",
       "      <td>14.036510</td>\n",
       "      <td>-500.857308</td>\n",
       "      <td>11.999550</td>\n",
       "      <td>-501.193686</td>\n",
       "      <td>9.970366</td>\n",
       "      <td>-499.201640</td>\n",
       "      <td>7.977324</td>\n",
       "      <td>-500.255908</td>\n",
       "      <td>14.005551</td>\n",
       "      <td>-599.996129</td>\n",
       "    </tr>\n",
       "    <tr>\n",
       "      <th>4</th>\n",
       "      <td>2016-01-15 04:00:00</td>\n",
       "      <td>6.148599</td>\n",
       "      <td>10.142511</td>\n",
       "      <td>4.939416</td>\n",
       "      <td>42.774141</td>\n",
       "      <td>66.927016</td>\n",
       "      <td>10.360302</td>\n",
       "      <td>0.792826</td>\n",
       "      <td>16.525686</td>\n",
       "      <td>2.055292</td>\n",
       "      <td>...</td>\n",
       "      <td>14.027298</td>\n",
       "      <td>-499.838632</td>\n",
       "      <td>11.953070</td>\n",
       "      <td>-501.053894</td>\n",
       "      <td>9.925709</td>\n",
       "      <td>-501.686727</td>\n",
       "      <td>7.894242</td>\n",
       "      <td>-500.356035</td>\n",
       "      <td>13.996647</td>\n",
       "      <td>-601.496691</td>\n",
       "    </tr>\n",
       "  </tbody>\n",
       "</table>\n",
       "<p>5 rows × 87 columns</p>\n",
       "</div>"
      ],
      "text/plain": [
       "                  date  final.output.concentrate_ag  \\\n",
       "0  2016-01-15 00:00:00                     6.055403   \n",
       "1  2016-01-15 01:00:00                     6.029369   \n",
       "2  2016-01-15 02:00:00                     6.055926   \n",
       "3  2016-01-15 03:00:00                     6.047977   \n",
       "4  2016-01-15 04:00:00                     6.148599   \n",
       "\n",
       "   final.output.concentrate_pb  final.output.concentrate_sol  \\\n",
       "0                     9.889648                      5.507324   \n",
       "1                     9.968944                      5.257781   \n",
       "2                    10.213995                      5.383759   \n",
       "3                     9.977019                      4.858634   \n",
       "4                    10.142511                      4.939416   \n",
       "\n",
       "   final.output.concentrate_au  final.output.recovery  final.output.tail_ag  \\\n",
       "0                    42.192020              70.541216             10.411962   \n",
       "1                    42.701629              69.266198             10.462676   \n",
       "2                    42.657501              68.116445             10.507046   \n",
       "3                    42.689819              68.347543             10.422762   \n",
       "4                    42.774141              66.927016             10.360302   \n",
       "\n",
       "   final.output.tail_pb  final.output.tail_sol  final.output.tail_au  ...  \\\n",
       "0              0.895447              16.904297              2.143149  ...   \n",
       "1              0.927452              16.634514              2.224930  ...   \n",
       "2              0.953716              16.208849              2.257889  ...   \n",
       "3              0.883763              16.532835              2.146849  ...   \n",
       "4              0.792826              16.525686              2.055292  ...   \n",
       "\n",
       "   secondary_cleaner.state.floatbank4_a_air  \\\n",
       "0                                 14.016835   \n",
       "1                                 13.992281   \n",
       "2                                 14.015015   \n",
       "3                                 14.036510   \n",
       "4                                 14.027298   \n",
       "\n",
       "   secondary_cleaner.state.floatbank4_a_level  \\\n",
       "0                                 -502.488007   \n",
       "1                                 -505.503262   \n",
       "2                                 -502.520901   \n",
       "3                                 -500.857308   \n",
       "4                                 -499.838632   \n",
       "\n",
       "   secondary_cleaner.state.floatbank4_b_air  \\\n",
       "0                                 12.099931   \n",
       "1                                 11.950531   \n",
       "2                                 11.912783   \n",
       "3                                 11.999550   \n",
       "4                                 11.953070   \n",
       "\n",
       "   secondary_cleaner.state.floatbank4_b_level  \\\n",
       "0                                 -504.715942   \n",
       "1                                 -501.331529   \n",
       "2                                 -501.133383   \n",
       "3                                 -501.193686   \n",
       "4                                 -501.053894   \n",
       "\n",
       "   secondary_cleaner.state.floatbank5_a_air  \\\n",
       "0                                  9.925633   \n",
       "1                                 10.039245   \n",
       "2                                 10.070913   \n",
       "3                                  9.970366   \n",
       "4                                  9.925709   \n",
       "\n",
       "   secondary_cleaner.state.floatbank5_a_level  \\\n",
       "0                                 -498.310211   \n",
       "1                                 -500.169983   \n",
       "2                                 -500.129135   \n",
       "3                                 -499.201640   \n",
       "4                                 -501.686727   \n",
       "\n",
       "   secondary_cleaner.state.floatbank5_b_air  \\\n",
       "0                                  8.079666   \n",
       "1                                  7.984757   \n",
       "2                                  8.013877   \n",
       "3                                  7.977324   \n",
       "4                                  7.894242   \n",
       "\n",
       "   secondary_cleaner.state.floatbank5_b_level  \\\n",
       "0                                 -500.470978   \n",
       "1                                 -500.582168   \n",
       "2                                 -500.517572   \n",
       "3                                 -500.255908   \n",
       "4                                 -500.356035   \n",
       "\n",
       "   secondary_cleaner.state.floatbank6_a_air  \\\n",
       "0                                 14.151341   \n",
       "1                                 13.998353   \n",
       "2                                 14.028663   \n",
       "3                                 14.005551   \n",
       "4                                 13.996647   \n",
       "\n",
       "   secondary_cleaner.state.floatbank6_a_level  \n",
       "0                                 -605.841980  \n",
       "1                                 -599.787184  \n",
       "2                                 -601.427363  \n",
       "3                                 -599.996129  \n",
       "4                                 -601.496691  \n",
       "\n",
       "[5 rows x 87 columns]"
      ]
     },
     "execution_count": 3,
     "metadata": {},
     "output_type": "execute_result"
    }
   ],
   "source": [
    "# проверяем файлы\n",
    "data_train.head(5)"
   ]
  },
  {
   "cell_type": "code",
   "execution_count": 4,
   "metadata": {},
   "outputs": [
    {
     "data": {
      "text/html": [
       "<div>\n",
       "<style scoped>\n",
       "    .dataframe tbody tr th:only-of-type {\n",
       "        vertical-align: middle;\n",
       "    }\n",
       "\n",
       "    .dataframe tbody tr th {\n",
       "        vertical-align: top;\n",
       "    }\n",
       "\n",
       "    .dataframe thead th {\n",
       "        text-align: right;\n",
       "    }\n",
       "</style>\n",
       "<table border=\"1\" class=\"dataframe\">\n",
       "  <thead>\n",
       "    <tr style=\"text-align: right;\">\n",
       "      <th></th>\n",
       "      <th>date</th>\n",
       "      <th>primary_cleaner.input.sulfate</th>\n",
       "      <th>primary_cleaner.input.depressant</th>\n",
       "      <th>primary_cleaner.input.feed_size</th>\n",
       "      <th>primary_cleaner.input.xanthate</th>\n",
       "      <th>primary_cleaner.state.floatbank8_a_air</th>\n",
       "      <th>primary_cleaner.state.floatbank8_a_level</th>\n",
       "      <th>primary_cleaner.state.floatbank8_b_air</th>\n",
       "      <th>primary_cleaner.state.floatbank8_b_level</th>\n",
       "      <th>primary_cleaner.state.floatbank8_c_air</th>\n",
       "      <th>...</th>\n",
       "      <th>secondary_cleaner.state.floatbank4_a_air</th>\n",
       "      <th>secondary_cleaner.state.floatbank4_a_level</th>\n",
       "      <th>secondary_cleaner.state.floatbank4_b_air</th>\n",
       "      <th>secondary_cleaner.state.floatbank4_b_level</th>\n",
       "      <th>secondary_cleaner.state.floatbank5_a_air</th>\n",
       "      <th>secondary_cleaner.state.floatbank5_a_level</th>\n",
       "      <th>secondary_cleaner.state.floatbank5_b_air</th>\n",
       "      <th>secondary_cleaner.state.floatbank5_b_level</th>\n",
       "      <th>secondary_cleaner.state.floatbank6_a_air</th>\n",
       "      <th>secondary_cleaner.state.floatbank6_a_level</th>\n",
       "    </tr>\n",
       "  </thead>\n",
       "  <tbody>\n",
       "    <tr>\n",
       "      <th>0</th>\n",
       "      <td>2016-09-01 00:59:59</td>\n",
       "      <td>210.800909</td>\n",
       "      <td>14.993118</td>\n",
       "      <td>8.080000</td>\n",
       "      <td>1.005021</td>\n",
       "      <td>1398.981301</td>\n",
       "      <td>-500.225577</td>\n",
       "      <td>1399.144926</td>\n",
       "      <td>-499.919735</td>\n",
       "      <td>1400.102998</td>\n",
       "      <td>...</td>\n",
       "      <td>12.023554</td>\n",
       "      <td>-497.795834</td>\n",
       "      <td>8.016656</td>\n",
       "      <td>-501.289139</td>\n",
       "      <td>7.946562</td>\n",
       "      <td>-432.317850</td>\n",
       "      <td>4.872511</td>\n",
       "      <td>-500.037437</td>\n",
       "      <td>26.705889</td>\n",
       "      <td>-499.709414</td>\n",
       "    </tr>\n",
       "    <tr>\n",
       "      <th>1</th>\n",
       "      <td>2016-09-01 01:59:59</td>\n",
       "      <td>215.392455</td>\n",
       "      <td>14.987471</td>\n",
       "      <td>8.080000</td>\n",
       "      <td>0.990469</td>\n",
       "      <td>1398.777912</td>\n",
       "      <td>-500.057435</td>\n",
       "      <td>1398.055362</td>\n",
       "      <td>-499.778182</td>\n",
       "      <td>1396.151033</td>\n",
       "      <td>...</td>\n",
       "      <td>12.058140</td>\n",
       "      <td>-498.695773</td>\n",
       "      <td>8.130979</td>\n",
       "      <td>-499.634209</td>\n",
       "      <td>7.958270</td>\n",
       "      <td>-525.839648</td>\n",
       "      <td>4.878850</td>\n",
       "      <td>-500.162375</td>\n",
       "      <td>25.019940</td>\n",
       "      <td>-499.819438</td>\n",
       "    </tr>\n",
       "    <tr>\n",
       "      <th>2</th>\n",
       "      <td>2016-09-01 02:59:59</td>\n",
       "      <td>215.259946</td>\n",
       "      <td>12.884934</td>\n",
       "      <td>7.786667</td>\n",
       "      <td>0.996043</td>\n",
       "      <td>1398.493666</td>\n",
       "      <td>-500.868360</td>\n",
       "      <td>1398.860436</td>\n",
       "      <td>-499.764529</td>\n",
       "      <td>1398.075709</td>\n",
       "      <td>...</td>\n",
       "      <td>11.962366</td>\n",
       "      <td>-498.767484</td>\n",
       "      <td>8.096893</td>\n",
       "      <td>-500.827423</td>\n",
       "      <td>8.071056</td>\n",
       "      <td>-500.801673</td>\n",
       "      <td>4.905125</td>\n",
       "      <td>-499.828510</td>\n",
       "      <td>24.994862</td>\n",
       "      <td>-500.622559</td>\n",
       "    </tr>\n",
       "    <tr>\n",
       "      <th>3</th>\n",
       "      <td>2016-09-01 03:59:59</td>\n",
       "      <td>215.336236</td>\n",
       "      <td>12.006805</td>\n",
       "      <td>7.640000</td>\n",
       "      <td>0.863514</td>\n",
       "      <td>1399.618111</td>\n",
       "      <td>-498.863574</td>\n",
       "      <td>1397.440120</td>\n",
       "      <td>-499.211024</td>\n",
       "      <td>1400.129303</td>\n",
       "      <td>...</td>\n",
       "      <td>12.033091</td>\n",
       "      <td>-498.350935</td>\n",
       "      <td>8.074946</td>\n",
       "      <td>-499.474407</td>\n",
       "      <td>7.897085</td>\n",
       "      <td>-500.868509</td>\n",
       "      <td>4.931400</td>\n",
       "      <td>-499.963623</td>\n",
       "      <td>24.948919</td>\n",
       "      <td>-498.709987</td>\n",
       "    </tr>\n",
       "    <tr>\n",
       "      <th>4</th>\n",
       "      <td>2016-09-01 04:59:59</td>\n",
       "      <td>199.099327</td>\n",
       "      <td>10.682530</td>\n",
       "      <td>7.530000</td>\n",
       "      <td>0.805575</td>\n",
       "      <td>1401.268123</td>\n",
       "      <td>-500.808305</td>\n",
       "      <td>1398.128818</td>\n",
       "      <td>-499.504543</td>\n",
       "      <td>1402.172226</td>\n",
       "      <td>...</td>\n",
       "      <td>12.025367</td>\n",
       "      <td>-500.786497</td>\n",
       "      <td>8.054678</td>\n",
       "      <td>-500.397500</td>\n",
       "      <td>8.107890</td>\n",
       "      <td>-509.526725</td>\n",
       "      <td>4.957674</td>\n",
       "      <td>-500.360026</td>\n",
       "      <td>25.003331</td>\n",
       "      <td>-500.856333</td>\n",
       "    </tr>\n",
       "  </tbody>\n",
       "</table>\n",
       "<p>5 rows × 53 columns</p>\n",
       "</div>"
      ],
      "text/plain": [
       "                  date  primary_cleaner.input.sulfate  \\\n",
       "0  2016-09-01 00:59:59                     210.800909   \n",
       "1  2016-09-01 01:59:59                     215.392455   \n",
       "2  2016-09-01 02:59:59                     215.259946   \n",
       "3  2016-09-01 03:59:59                     215.336236   \n",
       "4  2016-09-01 04:59:59                     199.099327   \n",
       "\n",
       "   primary_cleaner.input.depressant  primary_cleaner.input.feed_size  \\\n",
       "0                         14.993118                         8.080000   \n",
       "1                         14.987471                         8.080000   \n",
       "2                         12.884934                         7.786667   \n",
       "3                         12.006805                         7.640000   \n",
       "4                         10.682530                         7.530000   \n",
       "\n",
       "   primary_cleaner.input.xanthate  primary_cleaner.state.floatbank8_a_air  \\\n",
       "0                        1.005021                             1398.981301   \n",
       "1                        0.990469                             1398.777912   \n",
       "2                        0.996043                             1398.493666   \n",
       "3                        0.863514                             1399.618111   \n",
       "4                        0.805575                             1401.268123   \n",
       "\n",
       "   primary_cleaner.state.floatbank8_a_level  \\\n",
       "0                               -500.225577   \n",
       "1                               -500.057435   \n",
       "2                               -500.868360   \n",
       "3                               -498.863574   \n",
       "4                               -500.808305   \n",
       "\n",
       "   primary_cleaner.state.floatbank8_b_air  \\\n",
       "0                             1399.144926   \n",
       "1                             1398.055362   \n",
       "2                             1398.860436   \n",
       "3                             1397.440120   \n",
       "4                             1398.128818   \n",
       "\n",
       "   primary_cleaner.state.floatbank8_b_level  \\\n",
       "0                               -499.919735   \n",
       "1                               -499.778182   \n",
       "2                               -499.764529   \n",
       "3                               -499.211024   \n",
       "4                               -499.504543   \n",
       "\n",
       "   primary_cleaner.state.floatbank8_c_air  ...  \\\n",
       "0                             1400.102998  ...   \n",
       "1                             1396.151033  ...   \n",
       "2                             1398.075709  ...   \n",
       "3                             1400.129303  ...   \n",
       "4                             1402.172226  ...   \n",
       "\n",
       "   secondary_cleaner.state.floatbank4_a_air  \\\n",
       "0                                 12.023554   \n",
       "1                                 12.058140   \n",
       "2                                 11.962366   \n",
       "3                                 12.033091   \n",
       "4                                 12.025367   \n",
       "\n",
       "   secondary_cleaner.state.floatbank4_a_level  \\\n",
       "0                                 -497.795834   \n",
       "1                                 -498.695773   \n",
       "2                                 -498.767484   \n",
       "3                                 -498.350935   \n",
       "4                                 -500.786497   \n",
       "\n",
       "   secondary_cleaner.state.floatbank4_b_air  \\\n",
       "0                                  8.016656   \n",
       "1                                  8.130979   \n",
       "2                                  8.096893   \n",
       "3                                  8.074946   \n",
       "4                                  8.054678   \n",
       "\n",
       "   secondary_cleaner.state.floatbank4_b_level  \\\n",
       "0                                 -501.289139   \n",
       "1                                 -499.634209   \n",
       "2                                 -500.827423   \n",
       "3                                 -499.474407   \n",
       "4                                 -500.397500   \n",
       "\n",
       "   secondary_cleaner.state.floatbank5_a_air  \\\n",
       "0                                  7.946562   \n",
       "1                                  7.958270   \n",
       "2                                  8.071056   \n",
       "3                                  7.897085   \n",
       "4                                  8.107890   \n",
       "\n",
       "   secondary_cleaner.state.floatbank5_a_level  \\\n",
       "0                                 -432.317850   \n",
       "1                                 -525.839648   \n",
       "2                                 -500.801673   \n",
       "3                                 -500.868509   \n",
       "4                                 -509.526725   \n",
       "\n",
       "   secondary_cleaner.state.floatbank5_b_air  \\\n",
       "0                                  4.872511   \n",
       "1                                  4.878850   \n",
       "2                                  4.905125   \n",
       "3                                  4.931400   \n",
       "4                                  4.957674   \n",
       "\n",
       "   secondary_cleaner.state.floatbank5_b_level  \\\n",
       "0                                 -500.037437   \n",
       "1                                 -500.162375   \n",
       "2                                 -499.828510   \n",
       "3                                 -499.963623   \n",
       "4                                 -500.360026   \n",
       "\n",
       "   secondary_cleaner.state.floatbank6_a_air  \\\n",
       "0                                 26.705889   \n",
       "1                                 25.019940   \n",
       "2                                 24.994862   \n",
       "3                                 24.948919   \n",
       "4                                 25.003331   \n",
       "\n",
       "   secondary_cleaner.state.floatbank6_a_level  \n",
       "0                                 -499.709414  \n",
       "1                                 -499.819438  \n",
       "2                                 -500.622559  \n",
       "3                                 -498.709987  \n",
       "4                                 -500.856333  \n",
       "\n",
       "[5 rows x 53 columns]"
      ]
     },
     "execution_count": 4,
     "metadata": {},
     "output_type": "execute_result"
    }
   ],
   "source": [
    "data_test.head(5)"
   ]
  },
  {
   "cell_type": "code",
   "execution_count": 5,
   "metadata": {},
   "outputs": [
    {
     "data": {
      "text/html": [
       "<div>\n",
       "<style scoped>\n",
       "    .dataframe tbody tr th:only-of-type {\n",
       "        vertical-align: middle;\n",
       "    }\n",
       "\n",
       "    .dataframe tbody tr th {\n",
       "        vertical-align: top;\n",
       "    }\n",
       "\n",
       "    .dataframe thead th {\n",
       "        text-align: right;\n",
       "    }\n",
       "</style>\n",
       "<table border=\"1\" class=\"dataframe\">\n",
       "  <thead>\n",
       "    <tr style=\"text-align: right;\">\n",
       "      <th></th>\n",
       "      <th>date</th>\n",
       "      <th>final.output.concentrate_ag</th>\n",
       "      <th>final.output.concentrate_pb</th>\n",
       "      <th>final.output.concentrate_sol</th>\n",
       "      <th>final.output.concentrate_au</th>\n",
       "      <th>final.output.recovery</th>\n",
       "      <th>final.output.tail_ag</th>\n",
       "      <th>final.output.tail_pb</th>\n",
       "      <th>final.output.tail_sol</th>\n",
       "      <th>final.output.tail_au</th>\n",
       "      <th>...</th>\n",
       "      <th>secondary_cleaner.state.floatbank4_a_air</th>\n",
       "      <th>secondary_cleaner.state.floatbank4_a_level</th>\n",
       "      <th>secondary_cleaner.state.floatbank4_b_air</th>\n",
       "      <th>secondary_cleaner.state.floatbank4_b_level</th>\n",
       "      <th>secondary_cleaner.state.floatbank5_a_air</th>\n",
       "      <th>secondary_cleaner.state.floatbank5_a_level</th>\n",
       "      <th>secondary_cleaner.state.floatbank5_b_air</th>\n",
       "      <th>secondary_cleaner.state.floatbank5_b_level</th>\n",
       "      <th>secondary_cleaner.state.floatbank6_a_air</th>\n",
       "      <th>secondary_cleaner.state.floatbank6_a_level</th>\n",
       "    </tr>\n",
       "  </thead>\n",
       "  <tbody>\n",
       "    <tr>\n",
       "      <th>0</th>\n",
       "      <td>2016-01-15 00:00:00</td>\n",
       "      <td>6.055403</td>\n",
       "      <td>9.889648</td>\n",
       "      <td>5.507324</td>\n",
       "      <td>42.192020</td>\n",
       "      <td>70.541216</td>\n",
       "      <td>10.411962</td>\n",
       "      <td>0.895447</td>\n",
       "      <td>16.904297</td>\n",
       "      <td>2.143149</td>\n",
       "      <td>...</td>\n",
       "      <td>14.016835</td>\n",
       "      <td>-502.488007</td>\n",
       "      <td>12.099931</td>\n",
       "      <td>-504.715942</td>\n",
       "      <td>9.925633</td>\n",
       "      <td>-498.310211</td>\n",
       "      <td>8.079666</td>\n",
       "      <td>-500.470978</td>\n",
       "      <td>14.151341</td>\n",
       "      <td>-605.841980</td>\n",
       "    </tr>\n",
       "    <tr>\n",
       "      <th>1</th>\n",
       "      <td>2016-01-15 01:00:00</td>\n",
       "      <td>6.029369</td>\n",
       "      <td>9.968944</td>\n",
       "      <td>5.257781</td>\n",
       "      <td>42.701629</td>\n",
       "      <td>69.266198</td>\n",
       "      <td>10.462676</td>\n",
       "      <td>0.927452</td>\n",
       "      <td>16.634514</td>\n",
       "      <td>2.224930</td>\n",
       "      <td>...</td>\n",
       "      <td>13.992281</td>\n",
       "      <td>-505.503262</td>\n",
       "      <td>11.950531</td>\n",
       "      <td>-501.331529</td>\n",
       "      <td>10.039245</td>\n",
       "      <td>-500.169983</td>\n",
       "      <td>7.984757</td>\n",
       "      <td>-500.582168</td>\n",
       "      <td>13.998353</td>\n",
       "      <td>-599.787184</td>\n",
       "    </tr>\n",
       "    <tr>\n",
       "      <th>2</th>\n",
       "      <td>2016-01-15 02:00:00</td>\n",
       "      <td>6.055926</td>\n",
       "      <td>10.213995</td>\n",
       "      <td>5.383759</td>\n",
       "      <td>42.657501</td>\n",
       "      <td>68.116445</td>\n",
       "      <td>10.507046</td>\n",
       "      <td>0.953716</td>\n",
       "      <td>16.208849</td>\n",
       "      <td>2.257889</td>\n",
       "      <td>...</td>\n",
       "      <td>14.015015</td>\n",
       "      <td>-502.520901</td>\n",
       "      <td>11.912783</td>\n",
       "      <td>-501.133383</td>\n",
       "      <td>10.070913</td>\n",
       "      <td>-500.129135</td>\n",
       "      <td>8.013877</td>\n",
       "      <td>-500.517572</td>\n",
       "      <td>14.028663</td>\n",
       "      <td>-601.427363</td>\n",
       "    </tr>\n",
       "    <tr>\n",
       "      <th>3</th>\n",
       "      <td>2016-01-15 03:00:00</td>\n",
       "      <td>6.047977</td>\n",
       "      <td>9.977019</td>\n",
       "      <td>4.858634</td>\n",
       "      <td>42.689819</td>\n",
       "      <td>68.347543</td>\n",
       "      <td>10.422762</td>\n",
       "      <td>0.883763</td>\n",
       "      <td>16.532835</td>\n",
       "      <td>2.146849</td>\n",
       "      <td>...</td>\n",
       "      <td>14.036510</td>\n",
       "      <td>-500.857308</td>\n",
       "      <td>11.999550</td>\n",
       "      <td>-501.193686</td>\n",
       "      <td>9.970366</td>\n",
       "      <td>-499.201640</td>\n",
       "      <td>7.977324</td>\n",
       "      <td>-500.255908</td>\n",
       "      <td>14.005551</td>\n",
       "      <td>-599.996129</td>\n",
       "    </tr>\n",
       "    <tr>\n",
       "      <th>4</th>\n",
       "      <td>2016-01-15 04:00:00</td>\n",
       "      <td>6.148599</td>\n",
       "      <td>10.142511</td>\n",
       "      <td>4.939416</td>\n",
       "      <td>42.774141</td>\n",
       "      <td>66.927016</td>\n",
       "      <td>10.360302</td>\n",
       "      <td>0.792826</td>\n",
       "      <td>16.525686</td>\n",
       "      <td>2.055292</td>\n",
       "      <td>...</td>\n",
       "      <td>14.027298</td>\n",
       "      <td>-499.838632</td>\n",
       "      <td>11.953070</td>\n",
       "      <td>-501.053894</td>\n",
       "      <td>9.925709</td>\n",
       "      <td>-501.686727</td>\n",
       "      <td>7.894242</td>\n",
       "      <td>-500.356035</td>\n",
       "      <td>13.996647</td>\n",
       "      <td>-601.496691</td>\n",
       "    </tr>\n",
       "  </tbody>\n",
       "</table>\n",
       "<p>5 rows × 87 columns</p>\n",
       "</div>"
      ],
      "text/plain": [
       "                  date  final.output.concentrate_ag  \\\n",
       "0  2016-01-15 00:00:00                     6.055403   \n",
       "1  2016-01-15 01:00:00                     6.029369   \n",
       "2  2016-01-15 02:00:00                     6.055926   \n",
       "3  2016-01-15 03:00:00                     6.047977   \n",
       "4  2016-01-15 04:00:00                     6.148599   \n",
       "\n",
       "   final.output.concentrate_pb  final.output.concentrate_sol  \\\n",
       "0                     9.889648                      5.507324   \n",
       "1                     9.968944                      5.257781   \n",
       "2                    10.213995                      5.383759   \n",
       "3                     9.977019                      4.858634   \n",
       "4                    10.142511                      4.939416   \n",
       "\n",
       "   final.output.concentrate_au  final.output.recovery  final.output.tail_ag  \\\n",
       "0                    42.192020              70.541216             10.411962   \n",
       "1                    42.701629              69.266198             10.462676   \n",
       "2                    42.657501              68.116445             10.507046   \n",
       "3                    42.689819              68.347543             10.422762   \n",
       "4                    42.774141              66.927016             10.360302   \n",
       "\n",
       "   final.output.tail_pb  final.output.tail_sol  final.output.tail_au  ...  \\\n",
       "0              0.895447              16.904297              2.143149  ...   \n",
       "1              0.927452              16.634514              2.224930  ...   \n",
       "2              0.953716              16.208849              2.257889  ...   \n",
       "3              0.883763              16.532835              2.146849  ...   \n",
       "4              0.792826              16.525686              2.055292  ...   \n",
       "\n",
       "   secondary_cleaner.state.floatbank4_a_air  \\\n",
       "0                                 14.016835   \n",
       "1                                 13.992281   \n",
       "2                                 14.015015   \n",
       "3                                 14.036510   \n",
       "4                                 14.027298   \n",
       "\n",
       "   secondary_cleaner.state.floatbank4_a_level  \\\n",
       "0                                 -502.488007   \n",
       "1                                 -505.503262   \n",
       "2                                 -502.520901   \n",
       "3                                 -500.857308   \n",
       "4                                 -499.838632   \n",
       "\n",
       "   secondary_cleaner.state.floatbank4_b_air  \\\n",
       "0                                 12.099931   \n",
       "1                                 11.950531   \n",
       "2                                 11.912783   \n",
       "3                                 11.999550   \n",
       "4                                 11.953070   \n",
       "\n",
       "   secondary_cleaner.state.floatbank4_b_level  \\\n",
       "0                                 -504.715942   \n",
       "1                                 -501.331529   \n",
       "2                                 -501.133383   \n",
       "3                                 -501.193686   \n",
       "4                                 -501.053894   \n",
       "\n",
       "   secondary_cleaner.state.floatbank5_a_air  \\\n",
       "0                                  9.925633   \n",
       "1                                 10.039245   \n",
       "2                                 10.070913   \n",
       "3                                  9.970366   \n",
       "4                                  9.925709   \n",
       "\n",
       "   secondary_cleaner.state.floatbank5_a_level  \\\n",
       "0                                 -498.310211   \n",
       "1                                 -500.169983   \n",
       "2                                 -500.129135   \n",
       "3                                 -499.201640   \n",
       "4                                 -501.686727   \n",
       "\n",
       "   secondary_cleaner.state.floatbank5_b_air  \\\n",
       "0                                  8.079666   \n",
       "1                                  7.984757   \n",
       "2                                  8.013877   \n",
       "3                                  7.977324   \n",
       "4                                  7.894242   \n",
       "\n",
       "   secondary_cleaner.state.floatbank5_b_level  \\\n",
       "0                                 -500.470978   \n",
       "1                                 -500.582168   \n",
       "2                                 -500.517572   \n",
       "3                                 -500.255908   \n",
       "4                                 -500.356035   \n",
       "\n",
       "   secondary_cleaner.state.floatbank6_a_air  \\\n",
       "0                                 14.151341   \n",
       "1                                 13.998353   \n",
       "2                                 14.028663   \n",
       "3                                 14.005551   \n",
       "4                                 13.996647   \n",
       "\n",
       "   secondary_cleaner.state.floatbank6_a_level  \n",
       "0                                 -605.841980  \n",
       "1                                 -599.787184  \n",
       "2                                 -601.427363  \n",
       "3                                 -599.996129  \n",
       "4                                 -601.496691  \n",
       "\n",
       "[5 rows x 87 columns]"
      ]
     },
     "execution_count": 5,
     "metadata": {},
     "output_type": "execute_result"
    }
   ],
   "source": [
    "data_full.head(5)"
   ]
  },
  {
   "cell_type": "code",
   "execution_count": 6,
   "metadata": {},
   "outputs": [
    {
     "name": "stdout",
     "output_type": "stream",
     "text": [
      "<class 'pandas.core.frame.DataFrame'>\n",
      "RangeIndex: 14149 entries, 0 to 14148\n",
      "Data columns (total 87 columns):\n",
      " #   Column                                              Non-Null Count  Dtype  \n",
      "---  ------                                              --------------  -----  \n",
      " 0   date                                                14149 non-null  object \n",
      " 1   final.output.concentrate_ag                         14148 non-null  float64\n",
      " 2   final.output.concentrate_pb                         14148 non-null  float64\n",
      " 3   final.output.concentrate_sol                        13938 non-null  float64\n",
      " 4   final.output.concentrate_au                         14149 non-null  float64\n",
      " 5   final.output.recovery                               14149 non-null  float64\n",
      " 6   final.output.tail_ag                                14149 non-null  float64\n",
      " 7   final.output.tail_pb                                14049 non-null  float64\n",
      " 8   final.output.tail_sol                               14144 non-null  float64\n",
      " 9   final.output.tail_au                                14149 non-null  float64\n",
      " 10  primary_cleaner.input.sulfate                       14129 non-null  float64\n",
      " 11  primary_cleaner.input.depressant                    14117 non-null  float64\n",
      " 12  primary_cleaner.input.feed_size                     14149 non-null  float64\n",
      " 13  primary_cleaner.input.xanthate                      14049 non-null  float64\n",
      " 14  primary_cleaner.output.concentrate_ag               14149 non-null  float64\n",
      " 15  primary_cleaner.output.concentrate_pb               14063 non-null  float64\n",
      " 16  primary_cleaner.output.concentrate_sol              13863 non-null  float64\n",
      " 17  primary_cleaner.output.concentrate_au               14149 non-null  float64\n",
      " 18  primary_cleaner.output.tail_ag                      14148 non-null  float64\n",
      " 19  primary_cleaner.output.tail_pb                      14134 non-null  float64\n",
      " 20  primary_cleaner.output.tail_sol                     14103 non-null  float64\n",
      " 21  primary_cleaner.output.tail_au                      14149 non-null  float64\n",
      " 22  primary_cleaner.state.floatbank8_a_air              14145 non-null  float64\n",
      " 23  primary_cleaner.state.floatbank8_a_level            14148 non-null  float64\n",
      " 24  primary_cleaner.state.floatbank8_b_air              14145 non-null  float64\n",
      " 25  primary_cleaner.state.floatbank8_b_level            14148 non-null  float64\n",
      " 26  primary_cleaner.state.floatbank8_c_air              14147 non-null  float64\n",
      " 27  primary_cleaner.state.floatbank8_c_level            14148 non-null  float64\n",
      " 28  primary_cleaner.state.floatbank8_d_air              14146 non-null  float64\n",
      " 29  primary_cleaner.state.floatbank8_d_level            14148 non-null  float64\n",
      " 30  rougher.calculation.sulfate_to_au_concentrate       14148 non-null  float64\n",
      " 31  rougher.calculation.floatbank10_sulfate_to_au_feed  14148 non-null  float64\n",
      " 32  rougher.calculation.floatbank11_sulfate_to_au_feed  14148 non-null  float64\n",
      " 33  rougher.calculation.au_pb_ratio                     14149 non-null  float64\n",
      " 34  rougher.input.feed_ag                               14149 non-null  float64\n",
      " 35  rougher.input.feed_pb                               14049 non-null  float64\n",
      " 36  rougher.input.feed_rate                             14141 non-null  float64\n",
      " 37  rougher.input.feed_size                             14005 non-null  float64\n",
      " 38  rougher.input.feed_sol                              14071 non-null  float64\n",
      " 39  rougher.input.feed_au                               14149 non-null  float64\n",
      " 40  rougher.input.floatbank10_sulfate                   14120 non-null  float64\n",
      " 41  rougher.input.floatbank10_xanthate                  14141 non-null  float64\n",
      " 42  rougher.input.floatbank11_sulfate                   14113 non-null  float64\n",
      " 43  rougher.input.floatbank11_xanthate                  13721 non-null  float64\n",
      " 44  rougher.output.concentrate_ag                       14149 non-null  float64\n",
      " 45  rougher.output.concentrate_pb                       14149 non-null  float64\n",
      " 46  rougher.output.concentrate_sol                      14127 non-null  float64\n",
      " 47  rougher.output.concentrate_au                       14149 non-null  float64\n",
      " 48  rougher.output.recovery                             14149 non-null  float64\n",
      " 49  rougher.output.tail_ag                              14148 non-null  float64\n",
      " 50  rougher.output.tail_pb                              14149 non-null  float64\n",
      " 51  rougher.output.tail_sol                             14149 non-null  float64\n",
      " 52  rougher.output.tail_au                              14149 non-null  float64\n",
      " 53  rougher.state.floatbank10_a_air                     14148 non-null  float64\n",
      " 54  rougher.state.floatbank10_a_level                   14148 non-null  float64\n",
      " 55  rougher.state.floatbank10_b_air                     14148 non-null  float64\n",
      " 56  rougher.state.floatbank10_b_level                   14148 non-null  float64\n",
      " 57  rougher.state.floatbank10_c_air                     14148 non-null  float64\n",
      " 58  rougher.state.floatbank10_c_level                   14148 non-null  float64\n",
      " 59  rougher.state.floatbank10_d_air                     14149 non-null  float64\n",
      " 60  rougher.state.floatbank10_d_level                   14149 non-null  float64\n",
      " 61  rougher.state.floatbank10_e_air                     13713 non-null  float64\n",
      " 62  rougher.state.floatbank10_e_level                   14149 non-null  float64\n",
      " 63  rougher.state.floatbank10_f_air                     14149 non-null  float64\n",
      " 64  rougher.state.floatbank10_f_level                   14149 non-null  float64\n",
      " 65  secondary_cleaner.output.tail_ag                    14147 non-null  float64\n",
      " 66  secondary_cleaner.output.tail_pb                    14139 non-null  float64\n",
      " 67  secondary_cleaner.output.tail_sol                   12544 non-null  float64\n",
      " 68  secondary_cleaner.output.tail_au                    14149 non-null  float64\n",
      " 69  secondary_cleaner.state.floatbank2_a_air            13932 non-null  float64\n",
      " 70  secondary_cleaner.state.floatbank2_a_level          14148 non-null  float64\n",
      " 71  secondary_cleaner.state.floatbank2_b_air            14128 non-null  float64\n",
      " 72  secondary_cleaner.state.floatbank2_b_level          14148 non-null  float64\n",
      " 73  secondary_cleaner.state.floatbank3_a_air            14145 non-null  float64\n",
      " 74  secondary_cleaner.state.floatbank3_a_level          14148 non-null  float64\n",
      " 75  secondary_cleaner.state.floatbank3_b_air            14148 non-null  float64\n",
      " 76  secondary_cleaner.state.floatbank3_b_level          14148 non-null  float64\n",
      " 77  secondary_cleaner.state.floatbank4_a_air            14143 non-null  float64\n",
      " 78  secondary_cleaner.state.floatbank4_a_level          14148 non-null  float64\n",
      " 79  secondary_cleaner.state.floatbank4_b_air            14148 non-null  float64\n",
      " 80  secondary_cleaner.state.floatbank4_b_level          14148 non-null  float64\n",
      " 81  secondary_cleaner.state.floatbank5_a_air            14148 non-null  float64\n",
      " 82  secondary_cleaner.state.floatbank5_a_level          14148 non-null  float64\n",
      " 83  secondary_cleaner.state.floatbank5_b_air            14148 non-null  float64\n",
      " 84  secondary_cleaner.state.floatbank5_b_level          14148 non-null  float64\n",
      " 85  secondary_cleaner.state.floatbank6_a_air            14147 non-null  float64\n",
      " 86  secondary_cleaner.state.floatbank6_a_level          14148 non-null  float64\n",
      "dtypes: float64(86), object(1)\n",
      "memory usage: 9.4+ MB\n"
     ]
    }
   ],
   "source": [
    "data_train.info()"
   ]
  },
  {
   "cell_type": "code",
   "execution_count": 7,
   "metadata": {},
   "outputs": [
    {
     "name": "stdout",
     "output_type": "stream",
     "text": [
      "<class 'pandas.core.frame.DataFrame'>\n",
      "RangeIndex: 5290 entries, 0 to 5289\n",
      "Data columns (total 53 columns):\n",
      " #   Column                                      Non-Null Count  Dtype  \n",
      "---  ------                                      --------------  -----  \n",
      " 0   date                                        5290 non-null   object \n",
      " 1   primary_cleaner.input.sulfate               5286 non-null   float64\n",
      " 2   primary_cleaner.input.depressant            5285 non-null   float64\n",
      " 3   primary_cleaner.input.feed_size             5290 non-null   float64\n",
      " 4   primary_cleaner.input.xanthate              5286 non-null   float64\n",
      " 5   primary_cleaner.state.floatbank8_a_air      5290 non-null   float64\n",
      " 6   primary_cleaner.state.floatbank8_a_level    5290 non-null   float64\n",
      " 7   primary_cleaner.state.floatbank8_b_air      5290 non-null   float64\n",
      " 8   primary_cleaner.state.floatbank8_b_level    5290 non-null   float64\n",
      " 9   primary_cleaner.state.floatbank8_c_air      5290 non-null   float64\n",
      " 10  primary_cleaner.state.floatbank8_c_level    5290 non-null   float64\n",
      " 11  primary_cleaner.state.floatbank8_d_air      5290 non-null   float64\n",
      " 12  primary_cleaner.state.floatbank8_d_level    5290 non-null   float64\n",
      " 13  rougher.input.feed_ag                       5290 non-null   float64\n",
      " 14  rougher.input.feed_pb                       5290 non-null   float64\n",
      " 15  rougher.input.feed_rate                     5287 non-null   float64\n",
      " 16  rougher.input.feed_size                     5289 non-null   float64\n",
      " 17  rougher.input.feed_sol                      5269 non-null   float64\n",
      " 18  rougher.input.feed_au                       5290 non-null   float64\n",
      " 19  rougher.input.floatbank10_sulfate           5285 non-null   float64\n",
      " 20  rougher.input.floatbank10_xanthate          5290 non-null   float64\n",
      " 21  rougher.input.floatbank11_sulfate           5282 non-null   float64\n",
      " 22  rougher.input.floatbank11_xanthate          5265 non-null   float64\n",
      " 23  rougher.state.floatbank10_a_air             5290 non-null   float64\n",
      " 24  rougher.state.floatbank10_a_level           5290 non-null   float64\n",
      " 25  rougher.state.floatbank10_b_air             5290 non-null   float64\n",
      " 26  rougher.state.floatbank10_b_level           5290 non-null   float64\n",
      " 27  rougher.state.floatbank10_c_air             5290 non-null   float64\n",
      " 28  rougher.state.floatbank10_c_level           5290 non-null   float64\n",
      " 29  rougher.state.floatbank10_d_air             5290 non-null   float64\n",
      " 30  rougher.state.floatbank10_d_level           5290 non-null   float64\n",
      " 31  rougher.state.floatbank10_e_air             5290 non-null   float64\n",
      " 32  rougher.state.floatbank10_e_level           5290 non-null   float64\n",
      " 33  rougher.state.floatbank10_f_air             5290 non-null   float64\n",
      " 34  rougher.state.floatbank10_f_level           5290 non-null   float64\n",
      " 35  secondary_cleaner.state.floatbank2_a_air    5287 non-null   float64\n",
      " 36  secondary_cleaner.state.floatbank2_a_level  5290 non-null   float64\n",
      " 37  secondary_cleaner.state.floatbank2_b_air    5288 non-null   float64\n",
      " 38  secondary_cleaner.state.floatbank2_b_level  5290 non-null   float64\n",
      " 39  secondary_cleaner.state.floatbank3_a_air    5281 non-null   float64\n",
      " 40  secondary_cleaner.state.floatbank3_a_level  5290 non-null   float64\n",
      " 41  secondary_cleaner.state.floatbank3_b_air    5290 non-null   float64\n",
      " 42  secondary_cleaner.state.floatbank3_b_level  5290 non-null   float64\n",
      " 43  secondary_cleaner.state.floatbank4_a_air    5290 non-null   float64\n",
      " 44  secondary_cleaner.state.floatbank4_a_level  5290 non-null   float64\n",
      " 45  secondary_cleaner.state.floatbank4_b_air    5290 non-null   float64\n",
      " 46  secondary_cleaner.state.floatbank4_b_level  5290 non-null   float64\n",
      " 47  secondary_cleaner.state.floatbank5_a_air    5290 non-null   float64\n",
      " 48  secondary_cleaner.state.floatbank5_a_level  5290 non-null   float64\n",
      " 49  secondary_cleaner.state.floatbank5_b_air    5290 non-null   float64\n",
      " 50  secondary_cleaner.state.floatbank5_b_level  5290 non-null   float64\n",
      " 51  secondary_cleaner.state.floatbank6_a_air    5290 non-null   float64\n",
      " 52  secondary_cleaner.state.floatbank6_a_level  5290 non-null   float64\n",
      "dtypes: float64(52), object(1)\n",
      "memory usage: 2.1+ MB\n"
     ]
    }
   ],
   "source": [
    "data_test.info()"
   ]
  },
  {
   "cell_type": "code",
   "execution_count": 8,
   "metadata": {},
   "outputs": [
    {
     "name": "stdout",
     "output_type": "stream",
     "text": [
      "<class 'pandas.core.frame.DataFrame'>\n",
      "RangeIndex: 19439 entries, 0 to 19438\n",
      "Data columns (total 87 columns):\n",
      " #   Column                                              Non-Null Count  Dtype  \n",
      "---  ------                                              --------------  -----  \n",
      " 0   date                                                19439 non-null  object \n",
      " 1   final.output.concentrate_ag                         19438 non-null  float64\n",
      " 2   final.output.concentrate_pb                         19438 non-null  float64\n",
      " 3   final.output.concentrate_sol                        19228 non-null  float64\n",
      " 4   final.output.concentrate_au                         19439 non-null  float64\n",
      " 5   final.output.recovery                               19439 non-null  float64\n",
      " 6   final.output.tail_ag                                19438 non-null  float64\n",
      " 7   final.output.tail_pb                                19338 non-null  float64\n",
      " 8   final.output.tail_sol                               19433 non-null  float64\n",
      " 9   final.output.tail_au                                19439 non-null  float64\n",
      " 10  primary_cleaner.input.sulfate                       19415 non-null  float64\n",
      " 11  primary_cleaner.input.depressant                    19402 non-null  float64\n",
      " 12  primary_cleaner.input.feed_size                     19439 non-null  float64\n",
      " 13  primary_cleaner.input.xanthate                      19335 non-null  float64\n",
      " 14  primary_cleaner.output.concentrate_ag               19439 non-null  float64\n",
      " 15  primary_cleaner.output.concentrate_pb               19323 non-null  float64\n",
      " 16  primary_cleaner.output.concentrate_sol              19069 non-null  float64\n",
      " 17  primary_cleaner.output.concentrate_au               19439 non-null  float64\n",
      " 18  primary_cleaner.output.tail_ag                      19435 non-null  float64\n",
      " 19  primary_cleaner.output.tail_pb                      19418 non-null  float64\n",
      " 20  primary_cleaner.output.tail_sol                     19377 non-null  float64\n",
      " 21  primary_cleaner.output.tail_au                      19439 non-null  float64\n",
      " 22  primary_cleaner.state.floatbank8_a_air              19435 non-null  float64\n",
      " 23  primary_cleaner.state.floatbank8_a_level            19438 non-null  float64\n",
      " 24  primary_cleaner.state.floatbank8_b_air              19435 non-null  float64\n",
      " 25  primary_cleaner.state.floatbank8_b_level            19438 non-null  float64\n",
      " 26  primary_cleaner.state.floatbank8_c_air              19437 non-null  float64\n",
      " 27  primary_cleaner.state.floatbank8_c_level            19438 non-null  float64\n",
      " 28  primary_cleaner.state.floatbank8_d_air              19436 non-null  float64\n",
      " 29  primary_cleaner.state.floatbank8_d_level            19438 non-null  float64\n",
      " 30  rougher.calculation.sulfate_to_au_concentrate       19437 non-null  float64\n",
      " 31  rougher.calculation.floatbank10_sulfate_to_au_feed  19437 non-null  float64\n",
      " 32  rougher.calculation.floatbank11_sulfate_to_au_feed  19437 non-null  float64\n",
      " 33  rougher.calculation.au_pb_ratio                     19439 non-null  float64\n",
      " 34  rougher.input.feed_ag                               19439 non-null  float64\n",
      " 35  rougher.input.feed_pb                               19339 non-null  float64\n",
      " 36  rougher.input.feed_rate                             19428 non-null  float64\n",
      " 37  rougher.input.feed_size                             19294 non-null  float64\n",
      " 38  rougher.input.feed_sol                              19340 non-null  float64\n",
      " 39  rougher.input.feed_au                               19439 non-null  float64\n",
      " 40  rougher.input.floatbank10_sulfate                   19405 non-null  float64\n",
      " 41  rougher.input.floatbank10_xanthate                  19431 non-null  float64\n",
      " 42  rougher.input.floatbank11_sulfate                   19395 non-null  float64\n",
      " 43  rougher.input.floatbank11_xanthate                  18986 non-null  float64\n",
      " 44  rougher.output.concentrate_ag                       19439 non-null  float64\n",
      " 45  rougher.output.concentrate_pb                       19439 non-null  float64\n",
      " 46  rougher.output.concentrate_sol                      19416 non-null  float64\n",
      " 47  rougher.output.concentrate_au                       19439 non-null  float64\n",
      " 48  rougher.output.recovery                             19439 non-null  float64\n",
      " 49  rougher.output.tail_ag                              19438 non-null  float64\n",
      " 50  rougher.output.tail_pb                              19439 non-null  float64\n",
      " 51  rougher.output.tail_sol                             19439 non-null  float64\n",
      " 52  rougher.output.tail_au                              19439 non-null  float64\n",
      " 53  rougher.state.floatbank10_a_air                     19438 non-null  float64\n",
      " 54  rougher.state.floatbank10_a_level                   19438 non-null  float64\n",
      " 55  rougher.state.floatbank10_b_air                     19438 non-null  float64\n",
      " 56  rougher.state.floatbank10_b_level                   19438 non-null  float64\n",
      " 57  rougher.state.floatbank10_c_air                     19438 non-null  float64\n",
      " 58  rougher.state.floatbank10_c_level                   19438 non-null  float64\n",
      " 59  rougher.state.floatbank10_d_air                     19439 non-null  float64\n",
      " 60  rougher.state.floatbank10_d_level                   19439 non-null  float64\n",
      " 61  rougher.state.floatbank10_e_air                     19003 non-null  float64\n",
      " 62  rougher.state.floatbank10_e_level                   19439 non-null  float64\n",
      " 63  rougher.state.floatbank10_f_air                     19439 non-null  float64\n",
      " 64  rougher.state.floatbank10_f_level                   19439 non-null  float64\n",
      " 65  secondary_cleaner.output.tail_ag                    19437 non-null  float64\n",
      " 66  secondary_cleaner.output.tail_pb                    19427 non-null  float64\n",
      " 67  secondary_cleaner.output.tail_sol                   17691 non-null  float64\n",
      " 68  secondary_cleaner.output.tail_au                    19439 non-null  float64\n",
      " 69  secondary_cleaner.state.floatbank2_a_air            19219 non-null  float64\n",
      " 70  secondary_cleaner.state.floatbank2_a_level          19438 non-null  float64\n",
      " 71  secondary_cleaner.state.floatbank2_b_air            19416 non-null  float64\n",
      " 72  secondary_cleaner.state.floatbank2_b_level          19438 non-null  float64\n",
      " 73  secondary_cleaner.state.floatbank3_a_air            19426 non-null  float64\n",
      " 74  secondary_cleaner.state.floatbank3_a_level          19438 non-null  float64\n",
      " 75  secondary_cleaner.state.floatbank3_b_air            19438 non-null  float64\n",
      " 76  secondary_cleaner.state.floatbank3_b_level          19438 non-null  float64\n",
      " 77  secondary_cleaner.state.floatbank4_a_air            19433 non-null  float64\n",
      " 78  secondary_cleaner.state.floatbank4_a_level          19438 non-null  float64\n",
      " 79  secondary_cleaner.state.floatbank4_b_air            19438 non-null  float64\n",
      " 80  secondary_cleaner.state.floatbank4_b_level          19438 non-null  float64\n",
      " 81  secondary_cleaner.state.floatbank5_a_air            19438 non-null  float64\n",
      " 82  secondary_cleaner.state.floatbank5_a_level          19438 non-null  float64\n",
      " 83  secondary_cleaner.state.floatbank5_b_air            19438 non-null  float64\n",
      " 84  secondary_cleaner.state.floatbank5_b_level          19438 non-null  float64\n",
      " 85  secondary_cleaner.state.floatbank6_a_air            19437 non-null  float64\n",
      " 86  secondary_cleaner.state.floatbank6_a_level          19438 non-null  float64\n",
      "dtypes: float64(86), object(1)\n",
      "memory usage: 12.9+ MB\n"
     ]
    }
   ],
   "source": [
    "data_full.info()"
   ]
  },
  {
   "cell_type": "markdown",
   "metadata": {},
   "source": [
    "### Проверяем, что эффективность обогащения рассчитана правильно. Вычисляем её на обучающей выборке для признака rougher.output.recovery."
   ]
  },
  {
   "cell_type": "code",
   "execution_count": 9,
   "metadata": {},
   "outputs": [
    {
     "data": {
      "text/plain": [
       "0    87.107763\n",
       "1    86.843261\n",
       "2    86.842308\n",
       "3    87.226430\n",
       "4    86.688794\n",
       "Name: rougher.output.recovery, dtype: float64"
      ]
     },
     "execution_count": 9,
     "metadata": {},
     "output_type": "execute_result"
    }
   ],
   "source": [
    "# проверяем, что сейчас у нас хранится в этом признаке\n",
    "data_full['rougher.output.recovery'].head(5)"
   ]
  },
  {
   "cell_type": "code",
   "execution_count": 10,
   "metadata": {},
   "outputs": [],
   "source": [
    "# считаем по формуле и заносим значения в новый столбец\n",
    "c = data_full['rougher.output.concentrate_au']\n",
    "f = data_full['rougher.input.feed_au']\n",
    "t = data_full['rougher.output.tail_au']\n",
    "data_full['rougher.output.recovery_new'] = ((c * (f - t)) / (f * (c - t))) * 100"
   ]
  },
  {
   "cell_type": "code",
   "execution_count": 11,
   "metadata": {},
   "outputs": [
    {
     "data": {
      "text/plain": [
       "0    87.107763\n",
       "1    86.843261\n",
       "2    86.842308\n",
       "3    87.226430\n",
       "4    86.688794\n",
       "Name: rougher.output.recovery_new, dtype: float64"
      ]
     },
     "execution_count": 11,
     "metadata": {},
     "output_type": "execute_result"
    }
   ],
   "source": [
    "# проверяем значения нового столбца\n",
    "data_full['rougher.output.recovery_new'].head(5)"
   ]
  },
  {
   "cell_type": "code",
   "execution_count": 12,
   "metadata": {},
   "outputs": [
    {
     "data": {
      "image/png": "[encoded data removed]",
      "text/plain": [
       "<Figure size 720x720 with 1 Axes>"
      ]
     },
     "metadata": {},
     "output_type": "display_data"
    }
   ],
   "source": [
    "# строим 2 гистограммы на одном графике для проверки значений\n",
    "sns.set(style='darkgrid');\n",
    "fig, axs = plt.subplots(1, 1, figsize=(10, 10));\n",
    "plt.xlim(0, 120);\n",
    "sns.histplot(data=data_full, x='rougher.output.recovery', kde=True, color='red');\n",
    "sns.histplot(data=data_full, x='rougher.output.recovery_new', kde=True, color='blue');"
   ]
  },
  {
   "cell_type": "markdown",
   "metadata": {},
   "source": [
    "Как мы видим, значения старого и нового столбца полностью совпадают, значит эффективность обогащения рассчитана верно"
   ]
  },
  {
   "cell_type": "markdown",
   "metadata": {},
   "source": [
    "Найдем MAE между моими расчётами и значением признака."
   ]
  },
  {
   "cell_type": "code",
   "execution_count": 13,
   "metadata": {},
   "outputs": [],
   "source": [
    "mae = mean_absolute_error(data_full['rougher.output.recovery'], data_full['rougher.output.recovery_new'])"
   ]
  },
  {
   "cell_type": "code",
   "execution_count": 14,
   "metadata": {},
   "outputs": [
    {
     "data": {
      "text/plain": [
       "9.874045668302637e-15"
      ]
     },
     "execution_count": 14,
     "metadata": {},
     "output_type": "execute_result"
    }
   ],
   "source": [
    "mae"
   ]
  },
  {
   "cell_type": "markdown",
   "metadata": {},
   "source": [
    "#### Вывод\n",
    "- значения старого и нового столбца полностью совпадают, значит эффективность обогащения рассчитана верно\n",
    "- mae = 9.87 и я не могу понять, что это значит)"
   ]
  },
  {
   "cell_type": "markdown",
   "metadata": {},
   "source": [
    "### Проанализируйте признаки, недоступные в тестовой выборке. Что это за параметры? К какому типу относятся?"
   ]
  },
  {
   "cell_type": "code",
   "execution_count": 15,
   "metadata": {},
   "outputs": [],
   "source": [
    "# Создадим копию тренеровочных данных\n",
    "copy_data_train = data_train.copy() "
   ]
  },
  {
   "cell_type": "code",
   "execution_count": 16,
   "metadata": {},
   "outputs": [],
   "source": [
    "# Удаляем из копии все столбцы которые есть в тестовом датасете\n",
    "copy_data_train = copy_data_train.drop(columns=list(data_test.columns), axis=1)"
   ]
  },
  {
   "cell_type": "code",
   "execution_count": 17,
   "metadata": {},
   "outputs": [
    {
     "name": "stdout",
     "output_type": "stream",
     "text": [
      "<class 'pandas.core.frame.DataFrame'>\n",
      "RangeIndex: 14149 entries, 0 to 14148\n",
      "Data columns (total 34 columns):\n",
      " #   Column                                              Non-Null Count  Dtype  \n",
      "---  ------                                              --------------  -----  \n",
      " 0   final.output.concentrate_ag                         14148 non-null  float64\n",
      " 1   final.output.concentrate_pb                         14148 non-null  float64\n",
      " 2   final.output.concentrate_sol                        13938 non-null  float64\n",
      " 3   final.output.concentrate_au                         14149 non-null  float64\n",
      " 4   final.output.recovery                               14149 non-null  float64\n",
      " 5   final.output.tail_ag                                14149 non-null  float64\n",
      " 6   final.output.tail_pb                                14049 non-null  float64\n",
      " 7   final.output.tail_sol                               14144 non-null  float64\n",
      " 8   final.output.tail_au                                14149 non-null  float64\n",
      " 9   primary_cleaner.output.concentrate_ag               14149 non-null  float64\n",
      " 10  primary_cleaner.output.concentrate_pb               14063 non-null  float64\n",
      " 11  primary_cleaner.output.concentrate_sol              13863 non-null  float64\n",
      " 12  primary_cleaner.output.concentrate_au               14149 non-null  float64\n",
      " 13  primary_cleaner.output.tail_ag                      14148 non-null  float64\n",
      " 14  primary_cleaner.output.tail_pb                      14134 non-null  float64\n",
      " 15  primary_cleaner.output.tail_sol                     14103 non-null  float64\n",
      " 16  primary_cleaner.output.tail_au                      14149 non-null  float64\n",
      " 17  rougher.calculation.sulfate_to_au_concentrate       14148 non-null  float64\n",
      " 18  rougher.calculation.floatbank10_sulfate_to_au_feed  14148 non-null  float64\n",
      " 19  rougher.calculation.floatbank11_sulfate_to_au_feed  14148 non-null  float64\n",
      " 20  rougher.calculation.au_pb_ratio                     14149 non-null  float64\n",
      " 21  rougher.output.concentrate_ag                       14149 non-null  float64\n",
      " 22  rougher.output.concentrate_pb                       14149 non-null  float64\n",
      " 23  rougher.output.concentrate_sol                      14127 non-null  float64\n",
      " 24  rougher.output.concentrate_au                       14149 non-null  float64\n",
      " 25  rougher.output.recovery                             14149 non-null  float64\n",
      " 26  rougher.output.tail_ag                              14148 non-null  float64\n",
      " 27  rougher.output.tail_pb                              14149 non-null  float64\n",
      " 28  rougher.output.tail_sol                             14149 non-null  float64\n",
      " 29  rougher.output.tail_au                              14149 non-null  float64\n",
      " 30  secondary_cleaner.output.tail_ag                    14147 non-null  float64\n",
      " 31  secondary_cleaner.output.tail_pb                    14139 non-null  float64\n",
      " 32  secondary_cleaner.output.tail_sol                   12544 non-null  float64\n",
      " 33  secondary_cleaner.output.tail_au                    14149 non-null  float64\n",
      "dtypes: float64(34)\n",
      "memory usage: 3.7 MB\n"
     ]
    }
   ],
   "source": [
    "# Признаки недостпные в тестовой выборке\n",
    "copy_data_train.info()"
   ]
  },
  {
   "cell_type": "markdown",
   "metadata": {},
   "source": [
    "#### Вывод\n",
    "\n",
    "Выше можно увидеть список признаков, недоступных в тестовом датасете. Эти параметры недоступны, потому что замеряются и/или рассчитываются значительно позже. Также в тестовом наборе нет целевых признаков.\n",
    "Тип признаков float64\n",
    "\n",
    "**Что с этим делать?**\n",
    "\n",
    "- Видимо, удалить эти признаки (кроме целевых) из обучающей выборки, чтоб обучить и корректно проверить модель\n",
    "- А в тестовый набор добавить целевые признаки"
   ]
  },
  {
   "cell_type": "markdown",
   "metadata": {},
   "source": [
    "### Проведите предобработку данных."
   ]
  },
  {
   "cell_type": "code",
   "execution_count": 18,
   "metadata": {},
   "outputs": [
    {
     "data": {
      "text/plain": [
       "secondary_cleaner.output.tail_sol           1605\n",
       "rougher.state.floatbank10_e_air              436\n",
       "rougher.input.floatbank11_xanthate           428\n",
       "primary_cleaner.output.concentrate_sol       286\n",
       "secondary_cleaner.state.floatbank2_a_air     217\n",
       "final.output.concentrate_sol                 211\n",
       "rougher.input.feed_size                      144\n",
       "primary_cleaner.input.xanthate               100\n",
       "rougher.input.feed_pb                        100\n",
       "final.output.tail_pb                         100\n",
       "primary_cleaner.output.concentrate_pb         86\n",
       "rougher.input.feed_sol                        78\n",
       "primary_cleaner.output.tail_sol               46\n",
       "rougher.input.floatbank11_sulfate             36\n",
       "primary_cleaner.input.depressant              32\n",
       "rougher.input.floatbank10_sulfate             29\n",
       "rougher.output.concentrate_sol                22\n",
       "secondary_cleaner.state.floatbank2_b_air      21\n",
       "primary_cleaner.input.sulfate                 20\n",
       "primary_cleaner.output.tail_pb                15\n",
       "dtype: int64"
      ]
     },
     "execution_count": 18,
     "metadata": {},
     "output_type": "execute_result"
    }
   ],
   "source": [
    "# Поиск пропусков\n",
    "data_train.isna().sum().sort_values(ascending=False).head(20)"
   ]
  },
  {
   "cell_type": "code",
   "execution_count": 19,
   "metadata": {},
   "outputs": [
    {
     "data": {
      "text/plain": [
       "secondary_cleaner.output.tail_sol           1748\n",
       "rougher.input.floatbank11_xanthate           453\n",
       "rougher.state.floatbank10_e_air              436\n",
       "primary_cleaner.output.concentrate_sol       370\n",
       "secondary_cleaner.state.floatbank2_a_air     220\n",
       "final.output.concentrate_sol                 211\n",
       "rougher.input.feed_size                      145\n",
       "primary_cleaner.output.concentrate_pb        116\n",
       "primary_cleaner.input.xanthate               104\n",
       "final.output.tail_pb                         101\n",
       "rougher.input.feed_pb                        100\n",
       "rougher.input.feed_sol                        99\n",
       "primary_cleaner.output.tail_sol               62\n",
       "rougher.input.floatbank11_sulfate             44\n",
       "primary_cleaner.input.depressant              37\n",
       "rougher.input.floatbank10_sulfate             34\n",
       "primary_cleaner.input.sulfate                 24\n",
       "rougher.output.concentrate_sol                23\n",
       "secondary_cleaner.state.floatbank2_b_air      23\n",
       "primary_cleaner.output.tail_pb                21\n",
       "dtype: int64"
      ]
     },
     "execution_count": 19,
     "metadata": {},
     "output_type": "execute_result"
    }
   ],
   "source": [
    "data_full.isna().sum().sort_values(ascending=False).head(20)"
   ]
  },
  {
   "cell_type": "code",
   "execution_count": 20,
   "metadata": {},
   "outputs": [
    {
     "data": {
      "text/plain": [
       "rougher.input.floatbank11_xanthate            25\n",
       "rougher.input.feed_sol                        21\n",
       "secondary_cleaner.state.floatbank3_a_air       9\n",
       "rougher.input.floatbank11_sulfate              8\n",
       "primary_cleaner.input.depressant               5\n",
       "rougher.input.floatbank10_sulfate              5\n",
       "primary_cleaner.input.xanthate                 4\n",
       "primary_cleaner.input.sulfate                  4\n",
       "rougher.input.feed_rate                        3\n",
       "secondary_cleaner.state.floatbank2_a_air       3\n",
       "secondary_cleaner.state.floatbank2_b_air       2\n",
       "rougher.input.feed_size                        1\n",
       "secondary_cleaner.state.floatbank2_b_level     0\n",
       "rougher.state.floatbank10_f_level              0\n",
       "rougher.state.floatbank10_f_air                0\n",
       "secondary_cleaner.state.floatbank3_a_level     0\n",
       "secondary_cleaner.state.floatbank2_a_level     0\n",
       "date                                           0\n",
       "rougher.state.floatbank10_e_air                0\n",
       "secondary_cleaner.state.floatbank3_b_air       0\n",
       "dtype: int64"
      ]
     },
     "execution_count": 20,
     "metadata": {},
     "output_type": "execute_result"
    }
   ],
   "source": [
    "data_test.isna().sum().sort_values(ascending=False).head(20)"
   ]
  },
  {
   "cell_type": "markdown",
   "metadata": {},
   "source": [
    "#### Заполняем пропуски, преобразуем данные в нужные типы, ищем дубликаты"
   ]
  },
  {
   "cell_type": "code",
   "execution_count": 21,
   "metadata": {},
   "outputs": [],
   "source": [
    "# Преобразуем данные в нужные типы\n",
    "data_train['date'] = pd.to_datetime(data_train['date'], format='%Y-%m-%dT%H:%M:%S')\n",
    "data_full['date'] = pd.to_datetime(data_full['date'], format='%Y-%m-%dT%H:%M:%S')\n",
    "data_test['date'] = pd.to_datetime(data_test['date'], format='%Y-%m-%dT%H:%M:%S')"
   ]
  },
  {
   "cell_type": "code",
   "execution_count": 22,
   "metadata": {},
   "outputs": [],
   "source": [
    "# Заполним пропуски ближайшими значениями\n",
    "data_train = data_train.fillna(method='ffill')\n",
    "data_full = data_full.fillna(method='ffill')\n",
    "data_test = data_test.fillna(method='ffill')"
   ]
  },
  {
   "cell_type": "code",
   "execution_count": 23,
   "metadata": {},
   "outputs": [
    {
     "name": "stdout",
     "output_type": "stream",
     "text": [
      "<class 'pandas.core.frame.DataFrame'>\n",
      "RangeIndex: 14149 entries, 0 to 14148\n",
      "Data columns (total 87 columns):\n",
      " #   Column                                              Non-Null Count  Dtype         \n",
      "---  ------                                              --------------  -----         \n",
      " 0   date                                                14149 non-null  datetime64[ns]\n",
      " 1   final.output.concentrate_ag                         14149 non-null  float64       \n",
      " 2   final.output.concentrate_pb                         14149 non-null  float64       \n",
      " 3   final.output.concentrate_sol                        14149 non-null  float64       \n",
      " 4   final.output.concentrate_au                         14149 non-null  float64       \n",
      " 5   final.output.recovery                               14149 non-null  float64       \n",
      " 6   final.output.tail_ag                                14149 non-null  float64       \n",
      " 7   final.output.tail_pb                                14149 non-null  float64       \n",
      " 8   final.output.tail_sol                               14149 non-null  float64       \n",
      " 9   final.output.tail_au                                14149 non-null  float64       \n",
      " 10  primary_cleaner.input.sulfate                       14149 non-null  float64       \n",
      " 11  primary_cleaner.input.depressant                    14149 non-null  float64       \n",
      " 12  primary_cleaner.input.feed_size                     14149 non-null  float64       \n",
      " 13  primary_cleaner.input.xanthate                      14149 non-null  float64       \n",
      " 14  primary_cleaner.output.concentrate_ag               14149 non-null  float64       \n",
      " 15  primary_cleaner.output.concentrate_pb               14149 non-null  float64       \n",
      " 16  primary_cleaner.output.concentrate_sol              14149 non-null  float64       \n",
      " 17  primary_cleaner.output.concentrate_au               14149 non-null  float64       \n",
      " 18  primary_cleaner.output.tail_ag                      14149 non-null  float64       \n",
      " 19  primary_cleaner.output.tail_pb                      14149 non-null  float64       \n",
      " 20  primary_cleaner.output.tail_sol                     14149 non-null  float64       \n",
      " 21  primary_cleaner.output.tail_au                      14149 non-null  float64       \n",
      " 22  primary_cleaner.state.floatbank8_a_air              14149 non-null  float64       \n",
      " 23  primary_cleaner.state.floatbank8_a_level            14149 non-null  float64       \n",
      " 24  primary_cleaner.state.floatbank8_b_air              14149 non-null  float64       \n",
      " 25  primary_cleaner.state.floatbank8_b_level            14149 non-null  float64       \n",
      " 26  primary_cleaner.state.floatbank8_c_air              14149 non-null  float64       \n",
      " 27  primary_cleaner.state.floatbank8_c_level            14149 non-null  float64       \n",
      " 28  primary_cleaner.state.floatbank8_d_air              14149 non-null  float64       \n",
      " 29  primary_cleaner.state.floatbank8_d_level            14149 non-null  float64       \n",
      " 30  rougher.calculation.sulfate_to_au_concentrate       14149 non-null  float64       \n",
      " 31  rougher.calculation.floatbank10_sulfate_to_au_feed  14149 non-null  float64       \n",
      " 32  rougher.calculation.floatbank11_sulfate_to_au_feed  14149 non-null  float64       \n",
      " 33  rougher.calculation.au_pb_ratio                     14149 non-null  float64       \n",
      " 34  rougher.input.feed_ag                               14149 non-null  float64       \n",
      " 35  rougher.input.feed_pb                               14149 non-null  float64       \n",
      " 36  rougher.input.feed_rate                             14149 non-null  float64       \n",
      " 37  rougher.input.feed_size                             14149 non-null  float64       \n",
      " 38  rougher.input.feed_sol                              14149 non-null  float64       \n",
      " 39  rougher.input.feed_au                               14149 non-null  float64       \n",
      " 40  rougher.input.floatbank10_sulfate                   14149 non-null  float64       \n",
      " 41  rougher.input.floatbank10_xanthate                  14149 non-null  float64       \n",
      " 42  rougher.input.floatbank11_sulfate                   14149 non-null  float64       \n",
      " 43  rougher.input.floatbank11_xanthate                  14149 non-null  float64       \n",
      " 44  rougher.output.concentrate_ag                       14149 non-null  float64       \n",
      " 45  rougher.output.concentrate_pb                       14149 non-null  float64       \n",
      " 46  rougher.output.concentrate_sol                      14149 non-null  float64       \n",
      " 47  rougher.output.concentrate_au                       14149 non-null  float64       \n",
      " 48  rougher.output.recovery                             14149 non-null  float64       \n",
      " 49  rougher.output.tail_ag                              14149 non-null  float64       \n",
      " 50  rougher.output.tail_pb                              14149 non-null  float64       \n",
      " 51  rougher.output.tail_sol                             14149 non-null  float64       \n",
      " 52  rougher.output.tail_au                              14149 non-null  float64       \n",
      " 53  rougher.state.floatbank10_a_air                     14149 non-null  float64       \n",
      " 54  rougher.state.floatbank10_a_level                   14149 non-null  float64       \n",
      " 55  rougher.state.floatbank10_b_air                     14149 non-null  float64       \n",
      " 56  rougher.state.floatbank10_b_level                   14149 non-null  float64       \n",
      " 57  rougher.state.floatbank10_c_air                     14149 non-null  float64       \n",
      " 58  rougher.state.floatbank10_c_level                   14149 non-null  float64       \n",
      " 59  rougher.state.floatbank10_d_air                     14149 non-null  float64       \n",
      " 60  rougher.state.floatbank10_d_level                   14149 non-null  float64       \n",
      " 61  rougher.state.floatbank10_e_air                     14149 non-null  float64       \n",
      " 62  rougher.state.floatbank10_e_level                   14149 non-null  float64       \n",
      " 63  rougher.state.floatbank10_f_air                     14149 non-null  float64       \n",
      " 64  rougher.state.floatbank10_f_level                   14149 non-null  float64       \n",
      " 65  secondary_cleaner.output.tail_ag                    14149 non-null  float64       \n",
      " 66  secondary_cleaner.output.tail_pb                    14149 non-null  float64       \n",
      " 67  secondary_cleaner.output.tail_sol                   14149 non-null  float64       \n",
      " 68  secondary_cleaner.output.tail_au                    14149 non-null  float64       \n",
      " 69  secondary_cleaner.state.floatbank2_a_air            14149 non-null  float64       \n",
      " 70  secondary_cleaner.state.floatbank2_a_level          14149 non-null  float64       \n",
      " 71  secondary_cleaner.state.floatbank2_b_air            14149 non-null  float64       \n",
      " 72  secondary_cleaner.state.floatbank2_b_level          14149 non-null  float64       \n",
      " 73  secondary_cleaner.state.floatbank3_a_air            14149 non-null  float64       \n",
      " 74  secondary_cleaner.state.floatbank3_a_level          14149 non-null  float64       \n",
      " 75  secondary_cleaner.state.floatbank3_b_air            14149 non-null  float64       \n",
      " 76  secondary_cleaner.state.floatbank3_b_level          14149 non-null  float64       \n",
      " 77  secondary_cleaner.state.floatbank4_a_air            14149 non-null  float64       \n",
      " 78  secondary_cleaner.state.floatbank4_a_level          14149 non-null  float64       \n",
      " 79  secondary_cleaner.state.floatbank4_b_air            14149 non-null  float64       \n",
      " 80  secondary_cleaner.state.floatbank4_b_level          14149 non-null  float64       \n",
      " 81  secondary_cleaner.state.floatbank5_a_air            14149 non-null  float64       \n",
      " 82  secondary_cleaner.state.floatbank5_a_level          14149 non-null  float64       \n",
      " 83  secondary_cleaner.state.floatbank5_b_air            14149 non-null  float64       \n",
      " 84  secondary_cleaner.state.floatbank5_b_level          14149 non-null  float64       \n",
      " 85  secondary_cleaner.state.floatbank6_a_air            14149 non-null  float64       \n",
      " 86  secondary_cleaner.state.floatbank6_a_level          14149 non-null  float64       \n",
      "dtypes: datetime64[ns](1), float64(86)\n",
      "memory usage: 9.4 MB\n"
     ]
    }
   ],
   "source": [
    "# check\n",
    "data_train.info()"
   ]
  },
  {
   "cell_type": "code",
   "execution_count": 24,
   "metadata": {},
   "outputs": [
    {
     "data": {
      "text/plain": [
       "(0, 0, 0)"
      ]
     },
     "execution_count": 24,
     "metadata": {},
     "output_type": "execute_result"
    }
   ],
   "source": [
    "# Дубликаты\n",
    "(\n",
    "    data_train.duplicated().sum(), \n",
    "    data_full.duplicated().sum(), \n",
    "    data_test.duplicated().sum()\n",
    ")"
   ]
  },
  {
   "cell_type": "markdown",
   "metadata": {},
   "source": [
    "#### Добавляем признаки в data_test"
   ]
  },
  {
   "cell_type": "code",
   "execution_count": 25,
   "metadata": {},
   "outputs": [],
   "source": [
    "data_test = data_test.merge(\n",
    "    data_full[['date', 'rougher.output.recovery', 'final.output.recovery']],\n",
    "    how='left', \n",
    "    on='date'\n",
    ")"
   ]
  },
  {
   "cell_type": "markdown",
   "metadata": {},
   "source": [
    "#### Вывод \n",
    "- Были удалены все пропуски\n",
    "- изменен тип данных у дат (возможно, бесполезное изменение)\n",
    "- произведен поиск дубликатов, таковых не оказалось\n",
    "- Добавили целевые признаки в тестовые данные, чтоб потом можно было на них проверить работу модели"
   ]
  },
  {
   "cell_type": "markdown",
   "metadata": {},
   "source": [
    "## Анализ данных"
   ]
  },
  {
   "cell_type": "markdown",
   "metadata": {},
   "source": [
    "### Посмотрите, как меняется концентрация металлов (Au, Ag, Pb) на различных этапах очистки. Опишите выводы."
   ]
  },
  {
   "cell_type": "markdown",
   "metadata": {},
   "source": [
    "#### Концентрация перед флотацией"
   ]
  },
  {
   "cell_type": "code",
   "execution_count": 26,
   "metadata": {},
   "outputs": [
    {
     "data": {
      "image/png": "[encoded data removed]",
      "text/plain": [
       "<Figure size 432x288 with 1 Axes>"
      ]
     },
     "metadata": {},
     "output_type": "display_data"
    }
   ],
   "source": [
    "data_full.hist(column=['rougher.input.feed_pb']); "
   ]
  },
  {
   "cell_type": "code",
   "execution_count": 27,
   "metadata": {},
   "outputs": [
    {
     "data": {
      "image/png": "[encoded data removed]",
      "text/plain": [
       "<Figure size 432x288 with 1 Axes>"
      ]
     },
     "metadata": {},
     "output_type": "display_data"
    }
   ],
   "source": [
    "data_full.hist(column=['rougher.input.feed_ag']); "
   ]
  },
  {
   "cell_type": "code",
   "execution_count": 28,
   "metadata": {},
   "outputs": [
    {
     "data": {
      "image/png": "[encoded data removed]",
      "text/plain": [
       "<Figure size 432x288 with 1 Axes>"
      ]
     },
     "metadata": {},
     "output_type": "display_data"
    }
   ],
   "source": [
    "data_full.hist(column=['rougher.input.feed_au']); "
   ]
  },
  {
   "cell_type": "markdown",
   "metadata": {},
   "source": [
    "#### Концентрация после флотации"
   ]
  },
  {
   "cell_type": "code",
   "execution_count": 29,
   "metadata": {},
   "outputs": [
    {
     "data": {
      "image/png": "[encoded data removed]",
      "text/plain": [
       "<Figure size 432x288 with 1 Axes>"
      ]
     },
     "metadata": {},
     "output_type": "display_data"
    }
   ],
   "source": [
    "data_full.hist(column=['rougher.output.concentrate_pb']);"
   ]
  },
  {
   "cell_type": "code",
   "execution_count": 30,
   "metadata": {},
   "outputs": [
    {
     "data": {
      "image/png": "[encoded data removed]",
      "text/plain": [
       "<Figure size 432x288 with 1 Axes>"
      ]
     },
     "metadata": {},
     "output_type": "display_data"
    }
   ],
   "source": [
    "data_full.hist(column=['rougher.output.concentrate_ag']);"
   ]
  },
  {
   "cell_type": "code",
   "execution_count": 31,
   "metadata": {},
   "outputs": [
    {
     "data": {
      "image/png": "[encoded data removed]",
      "text/plain": [
       "<Figure size 432x288 with 1 Axes>"
      ]
     },
     "metadata": {},
     "output_type": "display_data"
    }
   ],
   "source": [
    "data_full.hist(column=['rougher.output.concentrate_au']);"
   ]
  },
  {
   "cell_type": "markdown",
   "metadata": {},
   "source": [
    "#### После первичной очистки"
   ]
  },
  {
   "cell_type": "code",
   "execution_count": 32,
   "metadata": {},
   "outputs": [
    {
     "data": {
      "image/png": "[encoded data removed]",
      "text/plain": [
       "<Figure size 432x288 with 1 Axes>"
      ]
     },
     "metadata": {},
     "output_type": "display_data"
    }
   ],
   "source": [
    "data_full.hist(column=['primary_cleaner.output.concentrate_pb']);"
   ]
  },
  {
   "cell_type": "code",
   "execution_count": 33,
   "metadata": {},
   "outputs": [
    {
     "data": {
      "image/png": "[encoded data removed]",
      "text/plain": [
       "<Figure size 432x288 with 1 Axes>"
      ]
     },
     "metadata": {},
     "output_type": "display_data"
    }
   ],
   "source": [
    "data_full.hist(column=['primary_cleaner.output.concentrate_ag']);"
   ]
  },
  {
   "cell_type": "code",
   "execution_count": 34,
   "metadata": {},
   "outputs": [
    {
     "data": {
      "image/png": "[encoded data removed]",
      "text/plain": [
       "<Figure size 432x288 with 1 Axes>"
      ]
     },
     "metadata": {},
     "output_type": "display_data"
    }
   ],
   "source": [
    "data_full.hist(column=['primary_cleaner.output.concentrate_au']);"
   ]
  },
  {
   "cell_type": "markdown",
   "metadata": {},
   "source": [
    "#### Итоговая концентрация металлов"
   ]
  },
  {
   "cell_type": "code",
   "execution_count": 35,
   "metadata": {},
   "outputs": [
    {
     "data": {
      "image/png": "[encoded data removed]",
      "text/plain": [
       "<Figure size 432x288 with 1 Axes>"
      ]
     },
     "metadata": {},
     "output_type": "display_data"
    }
   ],
   "source": [
    "data_full.hist(column=['final.output.concentrate_pb'], bins=20);"
   ]
  },
  {
   "cell_type": "code",
   "execution_count": 36,
   "metadata": {},
   "outputs": [
    {
     "data": {
      "image/png": "[encoded data removed]",
      "text/plain": [
       "<Figure size 432x288 with 1 Axes>"
      ]
     },
     "metadata": {},
     "output_type": "display_data"
    }
   ],
   "source": [
    "data_full.hist(column=['final.output.concentrate_ag'], bins=16);"
   ]
  },
  {
   "cell_type": "code",
   "execution_count": 37,
   "metadata": {},
   "outputs": [
    {
     "data": {
      "image/png": "[encoded data removed]",
      "text/plain": [
       "<Figure size 432x288 with 1 Axes>"
      ]
     },
     "metadata": {},
     "output_type": "display_data"
    }
   ],
   "source": [
    "data_full.hist(column=['final.output.concentrate_au'], bins=50);"
   ]
  },
  {
   "cell_type": "markdown",
   "metadata": {},
   "source": [
    "#### Сравнение концентрации металлов на всех этапах"
   ]
  },
  {
   "cell_type": "code",
   "execution_count": 38,
   "metadata": {},
   "outputs": [
    {
     "data": {
      "image/png": "[encoded data removed]",
      "text/plain": [
       "<Figure size 720x720 with 4 Axes>"
      ]
     },
     "metadata": {},
     "output_type": "display_data"
    }
   ],
   "source": [
    "# pb\n",
    "data_full.hist(column=['rougher.input.feed_pb', 'rougher.output.concentrate_pb', \n",
    "                       'primary_cleaner.output.concentrate_pb', \n",
    "                       'final.output.concentrate_pb'], \n",
    "               bins=15, \n",
    "               figsize=(10,10));"
   ]
  },
  {
   "cell_type": "markdown",
   "metadata": {},
   "source": [
    "Концентрация pb выросла после всех очисток"
   ]
  },
  {
   "cell_type": "code",
   "execution_count": 39,
   "metadata": {},
   "outputs": [
    {
     "data": {
      "image/png": "[encoded data removed]",
      "text/plain": [
       "<Figure size 720x720 with 4 Axes>"
      ]
     },
     "metadata": {},
     "output_type": "display_data"
    }
   ],
   "source": [
    "# ag\n",
    "data_full.hist(column=['rougher.input.feed_ag', 'rougher.output.concentrate_ag', \n",
    "                       'primary_cleaner.output.concentrate_ag', \n",
    "                       'final.output.concentrate_ag'],\n",
    "              bins=15,\n",
    "              figsize=(10,10));"
   ]
  },
  {
   "cell_type": "markdown",
   "metadata": {},
   "source": [
    "Концентрация ag упала после всех очисток"
   ]
  },
  {
   "cell_type": "code",
   "execution_count": 40,
   "metadata": {},
   "outputs": [
    {
     "data": {
      "image/png": "[encoded data removed]",
      "text/plain": [
       "<Figure size 720x720 with 4 Axes>"
      ]
     },
     "metadata": {},
     "output_type": "display_data"
    }
   ],
   "source": [
    "# au\n",
    "data_full.hist(column=['rougher.input.feed_au', 'rougher.output.concentrate_au', \n",
    "                       'primary_cleaner.output.concentrate_au', \n",
    "                       'final.output.concentrate_au'], \n",
    "               bins=15, \n",
    "               figsize=(10,10));"
   ]
  },
  {
   "cell_type": "markdown",
   "metadata": {},
   "source": [
    "Концентрация au сильно выросла после всех очисток"
   ]
  },
  {
   "cell_type": "markdown",
   "metadata": {},
   "source": [
    "#### Вывод\n",
    "после всех очисток:\n",
    "- Концентрат pb увеличился\n",
    "- Концентрат ag уменьшился\n",
    "- Концентрат au увеличился \n"
   ]
  },
  {
   "cell_type": "markdown",
   "metadata": {},
   "source": [
    "### Сравните распределения размеров гранул сырья на обучающей и тестовой выборках. Если распределения сильно отличаются друг от друга, оценка модели будет неправильной."
   ]
  },
  {
   "cell_type": "code",
   "execution_count": 41,
   "metadata": {},
   "outputs": [
    {
     "data": {
      "image/png": "[encoded data removed]",
      "text/plain": [
       "<Figure size 720x720 with 1 Axes>"
      ]
     },
     "metadata": {},
     "output_type": "display_data"
    }
   ],
   "source": [
    "sns.set(style='darkgrid')\n",
    "fig, axs = plt.subplots(1, 1, figsize=(10, 10))\n",
    "plt.xlim(0, 120)\n",
    "sns.histplot(data=data_train, x='rougher.input.feed_size', kde=True, color='teal')\n",
    "sns.histplot(data=data_test, x='rougher.input.feed_size', kde=True, color='red');"
   ]
  },
  {
   "cell_type": "markdown",
   "metadata": {},
   "source": [
    "#### Вывод\n",
    "На графике мы видим распределение близкое к нормальному. Различия есть, но не существенны (я надеюсь)"
   ]
  },
  {
   "cell_type": "markdown",
   "metadata": {},
   "source": [
    "### Исследуйте суммарную концентрацию всех веществ на разных стадиях: в сырье, в черновом и финальном концентратах. "
   ]
  },
  {
   "cell_type": "code",
   "execution_count": 42,
   "metadata": {},
   "outputs": [],
   "source": [
    "def concentrate_sum(ag, au, pb, sol):\n",
    "    return ag + au + pb + sol"
   ]
  },
  {
   "cell_type": "markdown",
   "metadata": {},
   "source": [
    "#### Суммарная концентрация в сырье"
   ]
  },
  {
   "cell_type": "code",
   "execution_count": 43,
   "metadata": {},
   "outputs": [],
   "source": [
    "sum_concentrate_rougher_input = concentrate_sum(\n",
    "    data_full['rougher.input.feed_ag'],\n",
    "    data_full['rougher.input.feed_au'],\n",
    "    data_full['rougher.input.feed_pb'],\n",
    "    data_full['rougher.input.feed_sol'],\n",
    ")"
   ]
  },
  {
   "cell_type": "code",
   "execution_count": 44,
   "metadata": {},
   "outputs": [
    {
     "data": {
      "image/png": "[encoded data removed]",
      "text/plain": [
       "<Figure size 432x288 with 1 Axes>"
      ]
     },
     "metadata": {},
     "output_type": "display_data"
    }
   ],
   "source": [
    "sum_concentrate_rougher_input.hist();"
   ]
  },
  {
   "cell_type": "markdown",
   "metadata": {},
   "source": [
    "#### Суммарная концентрация после флотации"
   ]
  },
  {
   "cell_type": "code",
   "execution_count": 45,
   "metadata": {},
   "outputs": [],
   "source": [
    "sum_concentrate_rougher_output = concentrate_sum(\n",
    "    data_full['rougher.output.concentrate_ag'],\n",
    "    data_full['rougher.output.concentrate_au'],\n",
    "    data_full['rougher.output.concentrate_pb'],\n",
    "    data_full['rougher.output.concentrate_sol'],\n",
    ")"
   ]
  },
  {
   "cell_type": "code",
   "execution_count": 46,
   "metadata": {},
   "outputs": [
    {
     "data": {
      "image/png": "[encoded data removed]",
      "text/plain": [
       "<Figure size 432x288 with 1 Axes>"
      ]
     },
     "metadata": {},
     "output_type": "display_data"
    }
   ],
   "source": [
    "sum_concentrate_rougher_output.hist();"
   ]
  },
  {
   "cell_type": "markdown",
   "metadata": {},
   "source": [
    "#### После первичной очистки"
   ]
  },
  {
   "cell_type": "code",
   "execution_count": 47,
   "metadata": {},
   "outputs": [],
   "source": [
    "sum_concentrate_primary_cleaner = concentrate_sum(\n",
    "    data_full['primary_cleaner.output.concentrate_ag'],\n",
    "    data_full['primary_cleaner.output.concentrate_au'],\n",
    "    data_full['primary_cleaner.output.concentrate_pb'],\n",
    "    data_full['primary_cleaner.output.concentrate_sol'],\n",
    ")"
   ]
  },
  {
   "cell_type": "code",
   "execution_count": 48,
   "metadata": {},
   "outputs": [
    {
     "data": {
      "image/png": "[encoded data removed]",
      "text/plain": [
       "<Figure size 432x288 with 1 Axes>"
      ]
     },
     "metadata": {},
     "output_type": "display_data"
    }
   ],
   "source": [
    "sum_concentrate_primary_cleaner.hist();"
   ]
  },
  {
   "cell_type": "markdown",
   "metadata": {},
   "source": [
    "#### Суммарная концентрация в финальном концентрате"
   ]
  },
  {
   "cell_type": "code",
   "execution_count": 49,
   "metadata": {},
   "outputs": [],
   "source": [
    "sum_concentrate_final = concentrate_sum(\n",
    "    data_full['final.output.concentrate_ag'],\n",
    "    data_full['final.output.concentrate_au'],\n",
    "    data_full['final.output.concentrate_pb'],\n",
    "    data_full['final.output.concentrate_sol'],\n",
    ")"
   ]
  },
  {
   "cell_type": "code",
   "execution_count": 50,
   "metadata": {},
   "outputs": [
    {
     "data": {
      "image/png": "[encoded data removed]",
      "text/plain": [
       "<Figure size 432x288 with 1 Axes>"
      ]
     },
     "metadata": {},
     "output_type": "display_data"
    }
   ],
   "source": [
    "sum_concentrate_final.hist();"
   ]
  },
  {
   "cell_type": "markdown",
   "metadata": {},
   "source": [
    "#### Вывод\n",
    "Как видно на графиках, суммарная концентрация металлов после каждого этапа очистки только увеличивается"
   ]
  },
  {
   "cell_type": "markdown",
   "metadata": {},
   "source": [
    "## Модель"
   ]
  },
  {
   "cell_type": "markdown",
   "metadata": {},
   "source": [
    "### Функция для вычисления итоговой sMAPE"
   ]
  },
  {
   "cell_type": "code",
   "execution_count": 51,
   "metadata": {},
   "outputs": [],
   "source": [
    "def smape(target, pred):\n",
    "    inverse_len = 1 / len(target)\n",
    "    sum_data = np.sum(2 * np.abs(pred - target) / (np.abs(target) + np.abs(pred)) * 100)\n",
    "    return inverse_len * sum_data"
   ]
  },
  {
   "cell_type": "code",
   "execution_count": 52,
   "metadata": {},
   "outputs": [],
   "source": [
    "def final_smape(smape_rougher, smape_final):\n",
    "    return (0.25 * smape_rougher + 0.75 * smape_final)"
   ]
  },
  {
   "cell_type": "markdown",
   "metadata": {},
   "source": [
    "### Обучите разные модели и оцените их качество кросс-валидацией. "
   ]
  },
  {
   "cell_type": "code",
   "execution_count": 53,
   "metadata": {},
   "outputs": [],
   "source": [
    "# Делим на выборки\n",
    "target_calumns = ['rougher.output.recovery', 'final.output.recovery']\n",
    "\n",
    "test_target = data_test[target_calumns]\n",
    "train_target = data_train[target_calumns]\n",
    "\n",
    "test_features = data_test.drop(['date', *target_calumns] , axis=1)\n",
    "train_features = data_train.drop(['date', *target_calumns] + list(copy_data_train.columns), axis=1)"
   ]
  },
  {
   "cell_type": "code",
   "execution_count": 54,
   "metadata": {},
   "outputs": [
    {
     "name": "stdout",
     "output_type": "stream",
     "text": [
      "(5290, 2)\n",
      "(14149, 2)\n"
     ]
    }
   ],
   "source": [
    "# check\n",
    "print(test_target.shape)\n",
    "print(train_target.shape)"
   ]
  },
  {
   "cell_type": "code",
   "execution_count": 55,
   "metadata": {},
   "outputs": [
    {
     "name": "stdout",
     "output_type": "stream",
     "text": [
      "(5290, 52)\n",
      "(14149, 52)\n"
     ]
    }
   ],
   "source": [
    "print(test_features.shape)\n",
    "print(train_features.shape)"
   ]
  },
  {
   "cell_type": "markdown",
   "metadata": {},
   "source": [
    "#### Линейная регрессия"
   ]
  },
  {
   "cell_type": "code",
   "execution_count": 56,
   "metadata": {},
   "outputs": [],
   "source": [
    "smape_score = make_scorer(smape)"
   ]
  },
  {
   "cell_type": "code",
   "execution_count": 57,
   "metadata": {},
   "outputs": [],
   "source": [
    "line_model = LinearRegression()"
   ]
  },
  {
   "cell_type": "code",
   "execution_count": 58,
   "metadata": {},
   "outputs": [],
   "source": [
    "# кросс валидация \n",
    "line_cross_val_rougher = cross_val_score(\n",
    "    line_model, \n",
    "    train_features, \n",
    "    train_target['rougher.output.recovery'],\n",
    "    scoring=smape_score\n",
    ")\n",
    "line_cross_val_final = cross_val_score(\n",
    "    line_model, \n",
    "    train_features, \n",
    "    train_target['final.output.recovery'],\n",
    "    scoring=smape_score\n",
    ")"
   ]
  },
  {
   "cell_type": "code",
   "execution_count": 59,
   "metadata": {},
   "outputs": [
    {
     "data": {
      "text/plain": [
       "12.384596104847137"
      ]
     },
     "execution_count": 59,
     "metadata": {},
     "output_type": "execute_result"
    }
   ],
   "source": [
    "final_smape(line_cross_val_rougher.mean(), line_cross_val_final.mean())"
   ]
  },
  {
   "cell_type": "markdown",
   "metadata": {},
   "source": [
    "#### Дерево решений"
   ]
  },
  {
   "cell_type": "code",
   "execution_count": 60,
   "metadata": {},
   "outputs": [
    {
     "name": "stdout",
     "output_type": "stream",
     "text": [
      "max_depth = 1 :  12.463448579275141 11.036357270553168\n",
      "max_depth = 2 :  11.65249870948482 10.818607740325943\n",
      "max_depth = 3 :  12.488822610254998 10.806104806167777\n",
      "max_depth = 4 :  11.579887512182543 10.983929183497036\n",
      "max_depth = 5 :  11.757228436376897 11.154858665751009\n",
      "max_depth = 6 :  12.838237981145998 11.862852294402902\n",
      "max_depth = 7 :  13.044668834441447 15.337403990363342\n",
      "max_depth = 8 :  13.287290050997143 17.53042440738978\n",
      "max_depth = 9 :  13.705414413258515 15.812750104061148\n",
      "max_depth = 10 :  23.0663928156822 17.148520380335352\n",
      "max_depth = 11 :  15.25527597341095 20.04585429169284\n",
      "max_depth = 12 :  15.360838405788673 21.043428454686154\n",
      "max_depth = 13 :  16.65719689582218 18.512628833128105\n",
      "max_depth = 14 :  23.22147963630846 18.976968745395393\n"
     ]
    }
   ],
   "source": [
    "tree_cross_val_rougher, tree_cross_val_final, max_depth  = [], [], []\n",
    "\n",
    "for depth in range(1, 15):\n",
    "    # инициируем модель\n",
    "    model_tree = DecisionTreeRegressor(random_state=12345, max_depth=depth)\n",
    "    \n",
    "    # кросс валидация \n",
    "    max_depth.append(depth)\n",
    "    tree_cross_val_rougher.append(cross_val_score(\n",
    "        model_tree, \n",
    "        train_features, \n",
    "        train_target['rougher.output.recovery'],\n",
    "        scoring=smape_score\n",
    "    ))\n",
    "    tree_cross_val_final.append(cross_val_score(\n",
    "        model_tree, \n",
    "        train_features, \n",
    "        train_target['final.output.recovery'],\n",
    "        scoring=smape_score\n",
    "    ))\n",
    "    \n",
    "    print(\"max_depth =\", depth, \": \", tree_cross_val_rougher[-1].mean(), tree_cross_val_final[-1].mean())"
   ]
  },
  {
   "cell_type": "code",
   "execution_count": 61,
   "metadata": {},
   "outputs": [],
   "source": [
    "# Выбираем лучшую глубину\n",
    "model_tree = DecisionTreeRegressor(max_depth=14)"
   ]
  },
  {
   "cell_type": "code",
   "execution_count": 62,
   "metadata": {},
   "outputs": [],
   "source": [
    "# кросс валидация \n",
    "tree_cross_val_rougher = cross_val_score(\n",
    "    model_tree, \n",
    "    train_features, \n",
    "    train_target['rougher.output.recovery'],\n",
    "    scoring=smape_score\n",
    ")\n",
    "tree_cross_val_final = cross_val_score(\n",
    "    model_tree, \n",
    "    train_features, \n",
    "    train_target['final.output.recovery'],\n",
    "    scoring=smape_score\n",
    ")"
   ]
  },
  {
   "cell_type": "code",
   "execution_count": 63,
   "metadata": {
    "scrolled": true
   },
   "outputs": [
    {
     "data": {
      "text/plain": [
       "22.067123589759262"
      ]
     },
     "execution_count": 63,
     "metadata": {},
     "output_type": "execute_result"
    }
   ],
   "source": [
    "final_smape(tree_cross_val_rougher.mean(), tree_cross_val_final.mean())"
   ]
  },
  {
   "cell_type": "markdown",
   "metadata": {},
   "source": [
    "#### Случайный лес"
   ]
  },
  {
   "cell_type": "code",
   "execution_count": 64,
   "metadata": {},
   "outputs": [
    {
     "name": "stdout",
     "output_type": "stream",
     "text": [
      "best_random_forest_cross_val_final: 10.778487566583053\n",
      "best_random_forest_cross_val_rougher: 12.45878572244464\n",
      "Лучшая глубина: 1\n",
      "Лучшее количество деревьев: 15\n"
     ]
    }
   ],
   "source": [
    "best_model_random_forest = None\n",
    "best_depth_rf, best_est = 0, 10\n",
    "best_random_forest_cross_val_final = 0\n",
    "best_random_forest_cross_val_rougher = 0\n",
    "\n",
    "for depth in range(1, 10):\n",
    "    for est in range(10, 50, 5):\n",
    "        model_random_forest = RandomForestRegressor(max_depth=depth, n_estimators=est, random_state=12345)\n",
    "\n",
    "        random_forest_cross_val_rougher = cross_val_score(\n",
    "            model_random_forest,\n",
    "            train_features,\n",
    "            train_target['rougher.output.recovery'],\n",
    "            scoring=smape_score\n",
    "        )\n",
    "\n",
    "        random_forest_cross_val_final = cross_val_score(\n",
    "            model_random_forest,\n",
    "            train_features,\n",
    "            train_target['final.output.recovery'],\n",
    "            scoring=smape_score\n",
    "        )\n",
    "\n",
    "        if (\n",
    "            random_forest_cross_val_rougher.mean() > best_random_forest_cross_val_rougher and \n",
    "            random_forest_cross_val_final.mean() > best_random_forest_cross_val_final\n",
    "        ):\n",
    "            best_depth_rf, best_est = depth, est\n",
    "            best_model_random_forest = model_random_forest\n",
    "            best_random_forest_cross_val_final = random_forest_cross_val_final.mean()\n",
    "            best_random_forest_cross_val_rougher = random_forest_cross_val_rougher.mean()\n",
    "\n",
    "print(\"best_random_forest_cross_val_final:\", best_random_forest_cross_val_final)\n",
    "print(\"best_random_forest_cross_val_rougher:\", best_random_forest_cross_val_rougher)\n",
    "\n",
    "print(f'Лучшая глубина: {best_depth_rf}\\nЛучшее количество деревьев: {best_est}')"
   ]
  },
  {
   "cell_type": "code",
   "execution_count": 65,
   "metadata": {},
   "outputs": [
    {
     "data": {
      "text/plain": [
       "11.198562105548449"
      ]
     },
     "execution_count": 65,
     "metadata": {},
     "output_type": "execute_result"
    }
   ],
   "source": [
    "final_smape(best_random_forest_cross_val_rougher, best_random_forest_cross_val_final)"
   ]
  },
  {
   "cell_type": "code",
   "execution_count": 66,
   "metadata": {},
   "outputs": [
    {
     "data": {
      "text/plain": [
       "15"
      ]
     },
     "execution_count": 66,
     "metadata": {},
     "output_type": "execute_result"
    }
   ],
   "source": [
    "best_model_random_forest.n_estimators"
   ]
  },
  {
   "cell_type": "markdown",
   "metadata": {},
   "source": [
    "### Вывод\n",
    "- Если я правильно поняла и цифра кросс валидации возвращает нам точность модели, то выбираю дерево решений, там самая высокая точность)\n",
    "- Выбираю дерево решений"
   ]
  },
  {
   "cell_type": "markdown",
   "metadata": {},
   "source": [
    "### Выберите лучшую модель и проверьте её на тестовой выборке. Опишите выводы."
   ]
  },
  {
   "cell_type": "code",
   "execution_count": 67,
   "metadata": {},
   "outputs": [
    {
     "data": {
      "text/plain": [
       "DecisionTreeRegressor(max_depth=14)"
      ]
     },
     "execution_count": 67,
     "metadata": {},
     "output_type": "execute_result"
    }
   ],
   "source": [
    "# обучаем дерево решений по признаку rougher.output.recovery\n",
    "\n",
    "model_tree.fit(train_features, train_target['rougher.output.recovery'])"
   ]
  },
  {
   "cell_type": "code",
   "execution_count": 68,
   "metadata": {},
   "outputs": [],
   "source": [
    "test_predictions_rougher = model_tree.predict(test_features)"
   ]
  },
  {
   "cell_type": "code",
   "execution_count": 69,
   "metadata": {},
   "outputs": [
    {
     "data": {
      "text/plain": [
       "DecisionTreeRegressor(max_depth=14)"
      ]
     },
     "execution_count": 69,
     "metadata": {},
     "output_type": "execute_result"
    }
   ],
   "source": [
    "# обучаем дерево решений по признаку final.output.recovery\n",
    "\n",
    "model_tree.fit(train_features, train_target['final.output.recovery'])"
   ]
  },
  {
   "cell_type": "code",
   "execution_count": 70,
   "metadata": {},
   "outputs": [],
   "source": [
    "test_predictions_final = model_tree.predict(test_features)"
   ]
  },
  {
   "cell_type": "code",
   "execution_count": 71,
   "metadata": {},
   "outputs": [],
   "source": [
    "# смотрим smape_rougher по признаку rougher.output.recovery\n",
    "\n",
    "smape_rougher = smape(test_target['rougher.output.recovery'], test_predictions_rougher)"
   ]
  },
  {
   "cell_type": "code",
   "execution_count": 72,
   "metadata": {},
   "outputs": [],
   "source": [
    "# смотрим smape_final по признаку final.output.recovery\n",
    "\n",
    "smape_final = smape(test_target['final.output.recovery'], test_predictions_final)"
   ]
  },
  {
   "cell_type": "code",
   "execution_count": 73,
   "metadata": {},
   "outputs": [],
   "source": [
    "# смотрим итоговую smape\n",
    "\n",
    "smape = final_smape(smape_rougher, smape_final)"
   ]
  },
  {
   "cell_type": "code",
   "execution_count": 74,
   "metadata": {},
   "outputs": [
    {
     "data": {
      "text/plain": [
       "12.975107427828522"
      ]
     },
     "execution_count": 74,
     "metadata": {},
     "output_type": "execute_result"
    }
   ],
   "source": [
    "smape"
   ]
  },
  {
   "cell_type": "code",
   "execution_count": 75,
   "metadata": {},
   "outputs": [],
   "source": [
    "#инициируем константную модель\n",
    "\n",
    "dummy_reg_final = DummyRegressor(strategy='mean')"
   ]
  },
  {
   "cell_type": "code",
   "execution_count": 76,
   "metadata": {},
   "outputs": [],
   "source": [
    "dummy_cross_val_rougher = cross_val_score(\n",
    "    dummy_reg_final, \n",
    "    test_features, \n",
    "    test_target['rougher.output.recovery'],\n",
    "    scoring=smape_score\n",
    ")\n",
    "dummy_cross_val_final = cross_val_score(\n",
    "    dummy_reg_final, \n",
    "    test_features, \n",
    "    test_target['final.output.recovery'],\n",
    "    scoring=smape_score\n",
    ")"
   ]
  },
  {
   "cell_type": "code",
   "execution_count": 77,
   "metadata": {},
   "outputs": [
    {
     "data": {
      "text/plain": [
       "11.574853580713235"
      ]
     },
     "execution_count": 77,
     "metadata": {},
     "output_type": "execute_result"
    }
   ],
   "source": [
    "final_smape(dummy_cross_val_rougher.mean(), dummy_cross_val_final.mean())"
   ]
  },
  {
   "cell_type": "markdown",
   "metadata": {},
   "source": [
    "#### Вывод\n",
    "\n",
    "Значение дерева решений немного выше константной модели, значит модель адекватна"
   ]
  },
  {
   "cell_type": "markdown",
   "metadata": {},
   "source": [
    "## Общий вывод\n",
    "\n",
    "**Подготовка данных**\n",
    "\n",
    "- ***1.2. Проверили, что эффективность обогащения рассчитана правильно. Вычислили ее для признака rougher.output.recovery. На графике разницы между моими расчетами и изначальными данными разницы нет. Делаю вывод, что эффективность обогащения рассчитана верно. MAE = 9.87***\n",
    "- ***1.3. Были проанализоравны признаки, недоступные в тестовой выборке***\n",
    "- ***1.4. Проведена предобработку данных.***\n",
    "      - Были удалены все пропуски\n",
    "      - изменен тип данных у дат (возможно, бесполезное изменение)\n",
    "      - произведен поиск дубликатов, таковых не оказалось\n",
    "      - Добавили целевые признаки в тестовые данные, чтоб потом можно было на них проверить работу модели\n",
    "\n",
    "**Анализ данных**\n",
    "- ***2.1. Были проанализированы изменения концентрации металлов (Au, Ag, Pb) на различных этапах очистки.***\n",
    "      - Концентрат pb увеличился\n",
    "      - Концентрат ag уменьшился\n",
    "      - Концентрат au увеличился \n",
    "      \n",
    "- ***2.2.  Произведено сравнение распределения размеров гранул сырья на обучающей и тестовой выборках***\n",
    "      - На графике мы увидели распределение близкое к нормальному. Различия есть, но не существенны\n",
    "      \n",
    "- ***2.3. Исследована суммарная концентрация всех веществ на разных стадиях: в сырье, в черновом и финальном концентратах.***\n",
    "      - Увидели на графиках, что суммарная концентрация металлов после каждого этапа очистки только увеличивается\n",
    "      \n",
    "**Модель**\n",
    "\n",
    "- ***3.1. Была написана функция для вычисления итоговой sMAPE.***\n",
    "- ***3.2. Были обучены разные модели и оценено их качество кросс-валидацией. Выбрано и проверено на тестовой выборке дерево решений как лучшая модель. sMAPE на тестовой выборке получилось 12.8***\n",
    "\n",
    "\n",
    "\n",
    "\n",
    "\n",
    "\n"
   ]
  },
  {
   "cell_type": "markdown",
   "metadata": {},
   "source": [
    "## Чек-лист готовности проекта"
   ]
  },
  {
   "cell_type": "markdown",
   "metadata": {},
   "source": [
    "- [x]  Jupyter Notebook открыт\n",
    "- [x]  Весь код выполняется без ошибок\n",
    "- [x]  Ячейки с кодом расположены в порядке выполнения\n",
    "- [x]  Выполнен шаг 1: данные подготовлены\n",
    "    - [x]  Проверена формула вычисления эффективности обогащения\n",
    "    - [x]  Проанализированы признаки, недоступные в тестовой выборке\n",
    "    - [x]  Проведена предобработка данных\n",
    "- [x]  Выполнен шаг 2: данные проанализированы\n",
    "    - [x]  Исследовано изменение концентрации элементов на каждом этапе\n",
    "    - [x]  Проанализированы распределения размеров гранул на обучающей и тестовой выборках\n",
    "    - [x]  Исследованы суммарные концентрации\n",
    "- [x]  Выполнен шаг 3: построена модель прогнозирования\n",
    "    - [x]  Написана функция для вычисления итогового *sMAPE*\n",
    "    - [x]  Обучено и проверено несколько моделей\n",
    "    - [x]  Выбрана лучшая модель, её качество проверено на тестовой выборке"
   ]
  }
 ],
 "metadata": {
  "ExecuteTimeLog": [
   {
    "duration": 1059,
    "start_time": "2023-01-17T10:54:28.609Z"
   },
   {
    "duration": 1526,
    "start_time": "2023-01-17T10:54:29.670Z"
   },
   {
    "duration": 0,
    "start_time": "2023-01-17T10:54:31.197Z"
   },
   {
    "duration": 856,
    "start_time": "2023-01-17T10:54:47.718Z"
   },
   {
    "duration": 28,
    "start_time": "2023-01-17T10:54:48.576Z"
   },
   {
    "duration": 52,
    "start_time": "2023-01-17T10:55:07.483Z"
   },
   {
    "duration": 62,
    "start_time": "2023-01-17T10:55:17.839Z"
   },
   {
    "duration": 48,
    "start_time": "2023-01-17T10:56:57.875Z"
   },
   {
    "duration": 39,
    "start_time": "2023-01-17T10:57:05.219Z"
   },
   {
    "duration": 15,
    "start_time": "2023-01-17T10:57:33.005Z"
   },
   {
    "duration": 11,
    "start_time": "2023-01-17T10:57:51.830Z"
   },
   {
    "duration": 15,
    "start_time": "2023-01-17T10:58:00.510Z"
   },
   {
    "duration": 3,
    "start_time": "2023-01-17T10:58:45.539Z"
   },
   {
    "duration": 708,
    "start_time": "2023-01-17T10:58:46.294Z"
   },
   {
    "duration": 21,
    "start_time": "2023-01-17T10:58:47.003Z"
   },
   {
    "duration": 20,
    "start_time": "2023-01-17T10:58:48.022Z"
   },
   {
    "duration": 22,
    "start_time": "2023-01-17T10:58:48.642Z"
   },
   {
    "duration": 17,
    "start_time": "2023-01-17T10:58:49.311Z"
   },
   {
    "duration": 13,
    "start_time": "2023-01-17T10:58:49.893Z"
   },
   {
    "duration": 18,
    "start_time": "2023-01-17T10:58:50.312Z"
   },
   {
    "duration": 1212,
    "start_time": "2023-01-21T19:10:41.449Z"
   },
   {
    "duration": 3020,
    "start_time": "2023-01-21T19:10:42.663Z"
   },
   {
    "duration": 40,
    "start_time": "2023-01-21T19:10:45.685Z"
   },
   {
    "duration": 22,
    "start_time": "2023-01-21T19:10:45.728Z"
   },
   {
    "duration": 26,
    "start_time": "2023-01-21T19:10:45.752Z"
   },
   {
    "duration": 18,
    "start_time": "2023-01-21T19:10:45.779Z"
   },
   {
    "duration": 13,
    "start_time": "2023-01-21T19:10:45.800Z"
   },
   {
    "duration": 17,
    "start_time": "2023-01-21T19:10:45.815Z"
   },
   {
    "duration": 1258,
    "start_time": "2023-01-21T19:10:45.834Z"
   },
   {
    "duration": 6,
    "start_time": "2023-01-21T19:11:21.427Z"
   },
   {
    "duration": 4,
    "start_time": "2023-01-21T19:54:14.659Z"
   },
   {
    "duration": 55,
    "start_time": "2023-01-21T20:10:31.165Z"
   },
   {
    "duration": 8,
    "start_time": "2023-01-21T20:10:48.993Z"
   },
   {
    "duration": 7,
    "start_time": "2023-01-21T20:11:09.915Z"
   },
   {
    "duration": 5,
    "start_time": "2023-01-21T20:11:10.431Z"
   },
   {
    "duration": 8,
    "start_time": "2023-01-21T20:13:28.824Z"
   },
   {
    "duration": 3,
    "start_time": "2023-01-21T20:13:38.163Z"
   },
   {
    "duration": 4,
    "start_time": "2023-01-21T20:13:43.229Z"
   },
   {
    "duration": 4,
    "start_time": "2023-01-21T20:13:51.994Z"
   },
   {
    "duration": 6,
    "start_time": "2023-01-21T20:15:55.894Z"
   },
   {
    "duration": 7,
    "start_time": "2023-01-21T20:15:56.340Z"
   },
   {
    "duration": 5,
    "start_time": "2023-01-21T20:15:56.856Z"
   },
   {
    "duration": 4,
    "start_time": "2023-01-21T20:15:57.952Z"
   },
   {
    "duration": 5,
    "start_time": "2023-01-21T20:15:58.497Z"
   },
   {
    "duration": 6,
    "start_time": "2023-01-21T20:21:59.546Z"
   },
   {
    "duration": 9,
    "start_time": "2023-01-21T20:22:00.316Z"
   },
   {
    "duration": 11,
    "start_time": "2023-01-21T20:22:00.762Z"
   },
   {
    "duration": 13,
    "start_time": "2023-01-21T20:22:02.189Z"
   },
   {
    "duration": 8,
    "start_time": "2023-01-21T20:22:03.188Z"
   },
   {
    "duration": 1712,
    "start_time": "2023-01-21T20:22:10.916Z"
   },
   {
    "duration": 1356,
    "start_time": "2023-01-21T20:22:12.636Z"
   },
   {
    "duration": 53,
    "start_time": "2023-01-21T20:22:13.999Z"
   },
   {
    "duration": 142,
    "start_time": "2023-01-21T20:22:14.059Z"
   },
   {
    "duration": 81,
    "start_time": "2023-01-21T20:22:14.209Z"
   },
   {
    "duration": 40,
    "start_time": "2023-01-21T20:22:14.298Z"
   },
   {
    "duration": 69,
    "start_time": "2023-01-21T20:22:14.345Z"
   },
   {
    "duration": 96,
    "start_time": "2023-01-21T20:22:14.424Z"
   },
   {
    "duration": 40,
    "start_time": "2023-01-21T20:22:14.525Z"
   },
   {
    "duration": 82,
    "start_time": "2023-01-21T20:22:14.572Z"
   },
   {
    "duration": 7,
    "start_time": "2023-01-21T20:22:14.658Z"
   },
   {
    "duration": 88,
    "start_time": "2023-01-21T20:22:14.667Z"
   },
   {
    "duration": 62,
    "start_time": "2023-01-21T20:22:14.758Z"
   },
   {
    "duration": 11,
    "start_time": "2023-01-21T20:26:57.325Z"
   },
   {
    "duration": 22,
    "start_time": "2023-01-21T20:26:58.621Z"
   },
   {
    "duration": 22,
    "start_time": "2023-01-21T20:46:05.835Z"
   },
   {
    "duration": 12,
    "start_time": "2023-01-21T20:46:11.043Z"
   },
   {
    "duration": 1183,
    "start_time": "2023-01-22T10:55:59.563Z"
   },
   {
    "duration": 3264,
    "start_time": "2023-01-22T10:56:00.749Z"
   },
   {
    "duration": 27,
    "start_time": "2023-01-22T10:56:04.015Z"
   },
   {
    "duration": 54,
    "start_time": "2023-01-22T10:56:04.044Z"
   },
   {
    "duration": 70,
    "start_time": "2023-01-22T10:56:04.100Z"
   },
   {
    "duration": 20,
    "start_time": "2023-01-22T10:56:04.172Z"
   },
   {
    "duration": 7,
    "start_time": "2023-01-22T10:56:04.194Z"
   },
   {
    "duration": 12,
    "start_time": "2023-01-22T10:56:04.203Z"
   },
   {
    "duration": 6,
    "start_time": "2023-01-22T10:56:04.217Z"
   },
   {
    "duration": 10,
    "start_time": "2023-01-22T10:56:04.225Z"
   },
   {
    "duration": 5,
    "start_time": "2023-01-22T10:56:04.237Z"
   },
   {
    "duration": 55,
    "start_time": "2023-01-22T10:56:04.244Z"
   },
   {
    "duration": 14,
    "start_time": "2023-01-22T10:56:04.301Z"
   },
   {
    "duration": 6,
    "start_time": "2023-01-22T11:07:37.016Z"
   },
   {
    "duration": 21,
    "start_time": "2023-01-22T11:08:30.455Z"
   },
   {
    "duration": 22,
    "start_time": "2023-01-22T11:08:58.672Z"
   },
   {
    "duration": 2,
    "start_time": "2023-01-22T11:09:53.048Z"
   },
   {
    "duration": 9,
    "start_time": "2023-01-22T11:36:37.015Z"
   },
   {
    "duration": 8,
    "start_time": "2023-01-22T11:36:56.666Z"
   },
   {
    "duration": 9,
    "start_time": "2023-01-22T11:37:09.785Z"
   },
   {
    "duration": 9,
    "start_time": "2023-01-22T11:37:14.891Z"
   },
   {
    "duration": 221,
    "start_time": "2023-01-22T11:38:44.178Z"
   },
   {
    "duration": 8,
    "start_time": "2023-01-22T11:58:21.962Z"
   },
   {
    "duration": 10,
    "start_time": "2023-01-22T12:03:08.978Z"
   },
   {
    "duration": 8,
    "start_time": "2023-01-22T12:03:09.211Z"
   },
   {
    "duration": 10,
    "start_time": "2023-01-22T12:05:46.521Z"
   },
   {
    "duration": 9,
    "start_time": "2023-01-22T12:06:20.172Z"
   },
   {
    "duration": 8,
    "start_time": "2023-01-22T12:06:20.403Z"
   },
   {
    "duration": 7,
    "start_time": "2023-01-22T12:06:40.884Z"
   },
   {
    "duration": 5,
    "start_time": "2023-01-22T12:07:16.172Z"
   },
   {
    "duration": 111,
    "start_time": "2023-01-22T12:44:25.485Z"
   },
   {
    "duration": 19,
    "start_time": "2023-01-22T12:44:35.120Z"
   },
   {
    "duration": 10,
    "start_time": "2023-01-22T12:44:51.282Z"
   },
   {
    "duration": 9,
    "start_time": "2023-01-22T12:44:57.477Z"
   },
   {
    "duration": 135,
    "start_time": "2023-01-22T12:46:43.400Z"
   },
   {
    "duration": 115,
    "start_time": "2023-01-22T12:47:26.082Z"
   },
   {
    "duration": 26,
    "start_time": "2023-01-22T12:47:26.724Z"
   },
   {
    "duration": 1382,
    "start_time": "2023-01-22T13:19:10.558Z"
   },
   {
    "duration": 6,
    "start_time": "2023-01-22T13:19:31.501Z"
   },
   {
    "duration": 6,
    "start_time": "2023-01-22T13:21:05.858Z"
   },
   {
    "duration": 7,
    "start_time": "2023-01-22T13:21:56.071Z"
   },
   {
    "duration": 6,
    "start_time": "2023-01-22T13:21:56.920Z"
   },
   {
    "duration": 6,
    "start_time": "2023-01-22T13:22:06.327Z"
   },
   {
    "duration": 1055,
    "start_time": "2023-01-22T13:22:17.728Z"
   },
   {
    "duration": 731,
    "start_time": "2023-01-22T13:22:18.785Z"
   },
   {
    "duration": 28,
    "start_time": "2023-01-22T13:22:19.517Z"
   },
   {
    "duration": 36,
    "start_time": "2023-01-22T13:22:19.547Z"
   },
   {
    "duration": 54,
    "start_time": "2023-01-22T13:22:19.586Z"
   },
   {
    "duration": 34,
    "start_time": "2023-01-22T13:22:19.641Z"
   },
   {
    "duration": 5,
    "start_time": "2023-01-22T13:22:19.677Z"
   },
   {
    "duration": 21,
    "start_time": "2023-01-22T13:22:19.684Z"
   },
   {
    "duration": 15,
    "start_time": "2023-01-22T13:22:19.707Z"
   },
   {
    "duration": 17,
    "start_time": "2023-01-22T13:22:19.723Z"
   },
   {
    "duration": 13,
    "start_time": "2023-01-22T13:22:19.742Z"
   },
   {
    "duration": 28,
    "start_time": "2023-01-22T13:22:19.756Z"
   },
   {
    "duration": 20,
    "start_time": "2023-01-22T13:22:19.786Z"
   },
   {
    "duration": 9,
    "start_time": "2023-01-22T13:22:19.809Z"
   },
   {
    "duration": 18,
    "start_time": "2023-01-22T13:22:19.820Z"
   },
   {
    "duration": 9,
    "start_time": "2023-01-22T13:22:19.839Z"
   },
   {
    "duration": 8,
    "start_time": "2023-01-22T13:22:19.850Z"
   },
   {
    "duration": 36,
    "start_time": "2023-01-22T13:22:19.860Z"
   },
   {
    "duration": 4,
    "start_time": "2023-01-22T13:22:19.898Z"
   },
   {
    "duration": 22,
    "start_time": "2023-01-22T13:22:19.905Z"
   },
   {
    "duration": 5,
    "start_time": "2023-01-22T13:22:19.929Z"
   },
   {
    "duration": 145,
    "start_time": "2023-01-22T13:22:19.936Z"
   },
   {
    "duration": 105,
    "start_time": "2023-01-22T13:22:20.082Z"
   },
   {
    "duration": 26,
    "start_time": "2023-01-22T13:22:20.192Z"
   },
   {
    "duration": 6,
    "start_time": "2023-01-22T13:22:20.220Z"
   },
   {
    "duration": 6,
    "start_time": "2023-01-22T13:22:20.228Z"
   },
   {
    "duration": 15,
    "start_time": "2023-01-22T13:22:20.236Z"
   },
   {
    "duration": 6,
    "start_time": "2023-01-22T13:31:47.600Z"
   },
   {
    "duration": 6,
    "start_time": "2023-01-22T13:31:53.816Z"
   },
   {
    "duration": 6,
    "start_time": "2023-01-22T13:32:11.448Z"
   },
   {
    "duration": 1019,
    "start_time": "2023-01-24T16:12:07.157Z"
   },
   {
    "duration": 1768,
    "start_time": "2023-01-24T16:12:08.179Z"
   },
   {
    "duration": 30,
    "start_time": "2023-01-24T16:12:09.949Z"
   },
   {
    "duration": 24,
    "start_time": "2023-01-24T16:12:09.980Z"
   },
   {
    "duration": 32,
    "start_time": "2023-01-24T16:12:10.006Z"
   },
   {
    "duration": 27,
    "start_time": "2023-01-24T16:12:10.040Z"
   },
   {
    "duration": 6,
    "start_time": "2023-01-24T16:12:10.069Z"
   },
   {
    "duration": 16,
    "start_time": "2023-01-24T16:12:10.076Z"
   },
   {
    "duration": 11,
    "start_time": "2023-01-24T16:12:10.093Z"
   },
   {
    "duration": 5,
    "start_time": "2023-01-24T16:12:10.106Z"
   },
   {
    "duration": 4,
    "start_time": "2023-01-24T16:12:10.483Z"
   },
   {
    "duration": 19,
    "start_time": "2023-01-24T16:12:12.251Z"
   },
   {
    "duration": 12,
    "start_time": "2023-01-24T16:12:12.617Z"
   },
   {
    "duration": 9,
    "start_time": "2023-01-24T16:12:15.488Z"
   },
   {
    "duration": 10,
    "start_time": "2023-01-24T16:12:16.643Z"
   },
   {
    "duration": 7,
    "start_time": "2023-01-24T16:12:17.556Z"
   },
   {
    "duration": 10,
    "start_time": "2023-01-24T16:12:18.456Z"
   },
   {
    "duration": 9,
    "start_time": "2023-01-24T16:12:19.470Z"
   },
   {
    "duration": 5,
    "start_time": "2023-01-24T16:12:19.835Z"
   },
   {
    "duration": 16,
    "start_time": "2023-01-24T16:12:20.501Z"
   },
   {
    "duration": 3,
    "start_time": "2023-01-24T16:12:20.713Z"
   },
   {
    "duration": 150,
    "start_time": "2023-01-24T16:12:20.865Z"
   },
   {
    "duration": 104,
    "start_time": "2023-01-24T16:12:21.038Z"
   },
   {
    "duration": 40,
    "start_time": "2023-01-24T16:12:21.187Z"
   },
   {
    "duration": 6,
    "start_time": "2023-01-24T16:12:26.385Z"
   },
   {
    "duration": 712,
    "start_time": "2023-01-24T16:12:27.084Z"
   },
   {
    "duration": 140,
    "start_time": "2023-01-24T16:13:03.426Z"
   },
   {
    "duration": 144,
    "start_time": "2023-01-24T16:13:32.212Z"
   },
   {
    "duration": 151,
    "start_time": "2023-01-24T16:13:59.061Z"
   },
   {
    "duration": 210,
    "start_time": "2023-01-24T16:14:01.485Z"
   },
   {
    "duration": 152,
    "start_time": "2023-01-24T16:14:04.458Z"
   },
   {
    "duration": 145,
    "start_time": "2023-01-24T16:17:34.823Z"
   },
   {
    "duration": 152,
    "start_time": "2023-01-24T16:17:36.087Z"
   },
   {
    "duration": 134,
    "start_time": "2023-01-24T16:17:37.308Z"
   },
   {
    "duration": 170,
    "start_time": "2023-01-24T16:20:55.009Z"
   },
   {
    "duration": 156,
    "start_time": "2023-01-24T16:20:55.265Z"
   },
   {
    "duration": 140,
    "start_time": "2023-01-24T16:20:55.625Z"
   },
   {
    "duration": 297,
    "start_time": "2023-01-24T16:22:16.378Z"
   },
   {
    "duration": 138,
    "start_time": "2023-01-24T16:26:44.656Z"
   },
   {
    "duration": 236,
    "start_time": "2023-01-24T16:26:44.855Z"
   },
   {
    "duration": 135,
    "start_time": "2023-01-24T16:26:47.260Z"
   },
   {
    "duration": 344,
    "start_time": "2023-01-24T16:27:02.064Z"
   },
   {
    "duration": 359,
    "start_time": "2023-01-24T16:31:03.450Z"
   },
   {
    "duration": 356,
    "start_time": "2023-01-24T16:31:10.333Z"
   },
   {
    "duration": 668,
    "start_time": "2023-01-24T16:32:39.480Z"
   },
   {
    "duration": 347,
    "start_time": "2023-01-24T16:32:48.631Z"
   },
   {
    "duration": 157,
    "start_time": "2023-01-24T16:33:20.360Z"
   },
   {
    "duration": 153,
    "start_time": "2023-01-24T16:33:43.600Z"
   },
   {
    "duration": 183,
    "start_time": "2023-01-24T16:33:58.085Z"
   },
   {
    "duration": 451,
    "start_time": "2023-01-24T16:34:13.938Z"
   },
   {
    "duration": 558,
    "start_time": "2023-01-24T16:35:19.660Z"
   },
   {
    "duration": 665,
    "start_time": "2023-01-24T16:35:30.474Z"
   },
   {
    "duration": 491,
    "start_time": "2023-01-24T16:36:28.659Z"
   },
   {
    "duration": 632,
    "start_time": "2023-01-24T16:37:00.633Z"
   },
   {
    "duration": 829,
    "start_time": "2023-01-24T16:37:10.022Z"
   },
   {
    "duration": 509,
    "start_time": "2023-01-24T16:37:24.217Z"
   },
   {
    "duration": 108,
    "start_time": "2023-01-24T16:46:42.012Z"
   },
   {
    "duration": 10,
    "start_time": "2023-01-24T16:52:40.701Z"
   },
   {
    "duration": 60,
    "start_time": "2023-01-24T16:52:48.522Z"
   },
   {
    "duration": 1183,
    "start_time": "2023-01-24T16:52:52.090Z"
   },
   {
    "duration": 1111,
    "start_time": "2023-01-24T16:53:14.398Z"
   },
   {
    "duration": 1215,
    "start_time": "2023-01-24T16:53:23.889Z"
   },
   {
    "duration": 355,
    "start_time": "2023-01-24T16:54:12.416Z"
   },
   {
    "duration": 1002,
    "start_time": "2023-01-24T16:54:22.215Z"
   },
   {
    "duration": 12,
    "start_time": "2023-01-24T16:56:04.901Z"
   },
   {
    "duration": 1199,
    "start_time": "2023-01-24T16:56:11.113Z"
   },
   {
    "duration": 17,
    "start_time": "2023-01-24T18:03:22.068Z"
   },
   {
    "duration": 19,
    "start_time": "2023-01-24T18:03:51.391Z"
   },
   {
    "duration": 10,
    "start_time": "2023-01-24T18:25:47.738Z"
   },
   {
    "duration": 3,
    "start_time": "2023-01-24T18:25:54.675Z"
   },
   {
    "duration": 4,
    "start_time": "2023-01-24T18:25:54.955Z"
   },
   {
    "duration": 5,
    "start_time": "2023-01-24T18:26:50.196Z"
   },
   {
    "duration": 170,
    "start_time": "2023-01-24T18:27:09.865Z"
   },
   {
    "duration": 164,
    "start_time": "2023-01-24T18:27:15.084Z"
   },
   {
    "duration": 4,
    "start_time": "2023-01-24T18:29:39.795Z"
   },
   {
    "duration": 181,
    "start_time": "2023-01-24T18:29:40.050Z"
   },
   {
    "duration": 4,
    "start_time": "2023-01-24T18:30:06.050Z"
   },
   {
    "duration": 175,
    "start_time": "2023-01-24T18:30:06.399Z"
   },
   {
    "duration": 7,
    "start_time": "2023-01-24T18:30:14.157Z"
   },
   {
    "duration": 137,
    "start_time": "2023-01-24T18:30:14.315Z"
   },
   {
    "duration": 10,
    "start_time": "2023-01-24T18:32:11.033Z"
   },
   {
    "duration": 4,
    "start_time": "2023-01-24T18:32:12.924Z"
   },
   {
    "duration": 163,
    "start_time": "2023-01-24T18:32:13.126Z"
   },
   {
    "duration": 5,
    "start_time": "2023-01-24T18:33:42.397Z"
   },
   {
    "duration": 159,
    "start_time": "2023-01-24T18:33:42.565Z"
   },
   {
    "duration": 52,
    "start_time": "2023-01-24T19:32:33.246Z"
   },
   {
    "duration": 70,
    "start_time": "2023-01-24T19:33:11.559Z"
   },
   {
    "duration": 44,
    "start_time": "2023-01-24T19:33:21.141Z"
   },
   {
    "duration": 46,
    "start_time": "2023-01-24T19:33:24.511Z"
   },
   {
    "duration": 47,
    "start_time": "2023-01-24T19:33:29.054Z"
   },
   {
    "duration": 58,
    "start_time": "2023-01-24T19:33:36.995Z"
   },
   {
    "duration": 3,
    "start_time": "2023-01-24T19:34:50.856Z"
   },
   {
    "duration": 696,
    "start_time": "2023-01-24T19:34:52.716Z"
   },
   {
    "duration": 9,
    "start_time": "2023-01-24T19:35:27.480Z"
   },
   {
    "duration": 4,
    "start_time": "2023-01-24T19:35:40.663Z"
   },
   {
    "duration": 4,
    "start_time": "2023-01-24T19:35:41.387Z"
   },
   {
    "duration": 24,
    "start_time": "2023-01-24T19:43:09.819Z"
   },
   {
    "duration": 3,
    "start_time": "2023-01-24T19:43:11.101Z"
   },
   {
    "duration": 5,
    "start_time": "2023-01-24T19:43:11.438Z"
   },
   {
    "duration": 4,
    "start_time": "2023-01-24T19:44:59.030Z"
   },
   {
    "duration": 4,
    "start_time": "2023-01-24T19:44:59.199Z"
   },
   {
    "duration": 65,
    "start_time": "2023-01-24T19:45:15.124Z"
   },
   {
    "duration": 15,
    "start_time": "2023-01-24T19:46:02.032Z"
   },
   {
    "duration": 5,
    "start_time": "2023-01-24T19:46:02.442Z"
   },
   {
    "duration": 4,
    "start_time": "2023-01-24T19:46:03.115Z"
   },
   {
    "duration": 4,
    "start_time": "2023-01-24T19:46:03.500Z"
   },
   {
    "duration": 5,
    "start_time": "2023-01-24T19:46:04.284Z"
   },
   {
    "duration": 62,
    "start_time": "2023-01-24T19:46:04.953Z"
   },
   {
    "duration": 63,
    "start_time": "2023-01-24T19:46:35.918Z"
   },
   {
    "duration": 3,
    "start_time": "2023-01-24T19:52:19.932Z"
   },
   {
    "duration": 9,
    "start_time": "2023-01-24T19:55:12.936Z"
   },
   {
    "duration": 3,
    "start_time": "2023-01-24T19:57:08.014Z"
   },
   {
    "duration": 3,
    "start_time": "2023-01-24T19:59:32.337Z"
   },
   {
    "duration": 22,
    "start_time": "2023-01-24T19:59:38.635Z"
   },
   {
    "duration": 12,
    "start_time": "2023-01-24T20:07:32.001Z"
   },
   {
    "duration": 12,
    "start_time": "2023-01-24T20:11:02.267Z"
   },
   {
    "duration": 18,
    "start_time": "2023-01-24T20:11:09.957Z"
   },
   {
    "duration": 4,
    "start_time": "2023-01-24T20:11:13.581Z"
   },
   {
    "duration": 4,
    "start_time": "2023-01-24T20:11:14.395Z"
   },
   {
    "duration": 4,
    "start_time": "2023-01-24T20:11:15.160Z"
   },
   {
    "duration": 4,
    "start_time": "2023-01-24T20:11:15.819Z"
   },
   {
    "duration": 28,
    "start_time": "2023-01-24T20:11:16.465Z"
   },
   {
    "duration": 20,
    "start_time": "2023-01-24T20:19:14.894Z"
   },
   {
    "duration": 3,
    "start_time": "2023-01-24T20:19:50.734Z"
   },
   {
    "duration": 4,
    "start_time": "2023-01-24T20:19:55.042Z"
   },
   {
    "duration": 15,
    "start_time": "2023-01-24T20:20:01.794Z"
   },
   {
    "duration": 72,
    "start_time": "2023-01-24T20:21:19.045Z"
   },
   {
    "duration": 63,
    "start_time": "2023-01-24T20:21:34.977Z"
   },
   {
    "duration": 13,
    "start_time": "2023-01-24T20:21:41.427Z"
   },
   {
    "duration": 11,
    "start_time": "2023-01-24T20:21:57.273Z"
   },
   {
    "duration": 17,
    "start_time": "2023-01-24T20:22:08.044Z"
   },
   {
    "duration": 69,
    "start_time": "2023-01-24T20:22:28.657Z"
   },
   {
    "duration": 26,
    "start_time": "2023-01-24T20:23:53.578Z"
   },
   {
    "duration": 4,
    "start_time": "2023-01-24T20:23:56.252Z"
   },
   {
    "duration": 4,
    "start_time": "2023-01-24T20:23:56.931Z"
   },
   {
    "duration": 4,
    "start_time": "2023-01-24T20:23:57.504Z"
   },
   {
    "duration": 4,
    "start_time": "2023-01-24T20:23:58.146Z"
   },
   {
    "duration": 9,
    "start_time": "2023-01-24T20:23:59.388Z"
   },
   {
    "duration": 31,
    "start_time": "2023-01-24T20:24:07.580Z"
   },
   {
    "duration": 7,
    "start_time": "2023-01-24T20:25:56.509Z"
   },
   {
    "duration": 4,
    "start_time": "2023-01-24T20:26:52.680Z"
   },
   {
    "duration": 5,
    "start_time": "2023-01-24T20:26:52.980Z"
   },
   {
    "duration": 11,
    "start_time": "2023-01-24T20:29:48.425Z"
   },
   {
    "duration": 8,
    "start_time": "2023-01-24T20:29:50.687Z"
   },
   {
    "duration": 9,
    "start_time": "2023-01-24T20:30:29.725Z"
   },
   {
    "duration": 12,
    "start_time": "2023-01-24T20:31:04.497Z"
   },
   {
    "duration": 9,
    "start_time": "2023-01-24T20:31:08.455Z"
   },
   {
    "duration": 13,
    "start_time": "2023-01-24T20:31:44.836Z"
   },
   {
    "duration": 14,
    "start_time": "2023-01-24T20:31:47.488Z"
   },
   {
    "duration": 9,
    "start_time": "2023-01-24T20:31:48.979Z"
   },
   {
    "duration": 9,
    "start_time": "2023-01-24T20:31:52.536Z"
   },
   {
    "duration": 6,
    "start_time": "2023-01-24T20:32:37.462Z"
   },
   {
    "duration": 1285,
    "start_time": "2023-01-24T20:32:47.468Z"
   },
   {
    "duration": 676,
    "start_time": "2023-01-24T20:32:48.755Z"
   },
   {
    "duration": 23,
    "start_time": "2023-01-24T20:32:49.433Z"
   },
   {
    "duration": 25,
    "start_time": "2023-01-24T20:32:49.458Z"
   },
   {
    "duration": 41,
    "start_time": "2023-01-24T20:32:49.485Z"
   },
   {
    "duration": 35,
    "start_time": "2023-01-24T20:32:49.528Z"
   },
   {
    "duration": 18,
    "start_time": "2023-01-24T20:32:49.565Z"
   },
   {
    "duration": 25,
    "start_time": "2023-01-24T20:32:49.585Z"
   },
   {
    "duration": 21,
    "start_time": "2023-01-24T20:32:49.611Z"
   },
   {
    "duration": 30,
    "start_time": "2023-01-24T20:32:49.633Z"
   },
   {
    "duration": 25,
    "start_time": "2023-01-24T20:32:49.665Z"
   },
   {
    "duration": 21,
    "start_time": "2023-01-24T20:32:49.692Z"
   },
   {
    "duration": 11,
    "start_time": "2023-01-24T20:32:49.715Z"
   },
   {
    "duration": 35,
    "start_time": "2023-01-24T20:32:49.729Z"
   },
   {
    "duration": 11,
    "start_time": "2023-01-24T20:32:49.765Z"
   },
   {
    "duration": 24,
    "start_time": "2023-01-24T20:32:49.778Z"
   },
   {
    "duration": 24,
    "start_time": "2023-01-24T20:32:49.803Z"
   },
   {
    "duration": 17,
    "start_time": "2023-01-24T20:32:49.828Z"
   },
   {
    "duration": 25,
    "start_time": "2023-01-24T20:32:49.846Z"
   },
   {
    "duration": 26,
    "start_time": "2023-01-24T20:32:49.873Z"
   },
   {
    "duration": 28,
    "start_time": "2023-01-24T20:32:49.900Z"
   },
   {
    "duration": 31,
    "start_time": "2023-01-24T20:32:49.930Z"
   },
   {
    "duration": 39,
    "start_time": "2023-01-24T20:32:49.963Z"
   },
   {
    "duration": 27,
    "start_time": "2023-01-24T20:32:50.004Z"
   },
   {
    "duration": 25,
    "start_time": "2023-01-24T20:32:50.033Z"
   },
   {
    "duration": 22,
    "start_time": "2023-01-24T20:32:50.060Z"
   },
   {
    "duration": 139,
    "start_time": "2023-01-24T20:32:50.084Z"
   },
   {
    "duration": 101,
    "start_time": "2023-01-24T20:32:50.225Z"
   },
   {
    "duration": 23,
    "start_time": "2023-01-24T20:32:50.328Z"
   },
   {
    "duration": 205,
    "start_time": "2023-01-24T20:32:50.353Z"
   },
   {
    "duration": 150,
    "start_time": "2023-01-24T20:32:50.560Z"
   },
   {
    "duration": 132,
    "start_time": "2023-01-24T20:32:50.712Z"
   },
   {
    "duration": 151,
    "start_time": "2023-01-24T20:32:50.845Z"
   },
   {
    "duration": 218,
    "start_time": "2023-01-24T20:32:50.998Z"
   },
   {
    "duration": 156,
    "start_time": "2023-01-24T20:32:51.219Z"
   },
   {
    "duration": 153,
    "start_time": "2023-01-24T20:32:51.376Z"
   },
   {
    "duration": 160,
    "start_time": "2023-01-24T20:32:51.531Z"
   },
   {
    "duration": 119,
    "start_time": "2023-01-24T20:32:51.692Z"
   },
   {
    "duration": 136,
    "start_time": "2023-01-24T20:32:51.813Z"
   },
   {
    "duration": 148,
    "start_time": "2023-01-24T20:32:51.951Z"
   },
   {
    "duration": 186,
    "start_time": "2023-01-24T20:32:52.103Z"
   },
   {
    "duration": 493,
    "start_time": "2023-01-24T20:32:52.291Z"
   },
   {
    "duration": 585,
    "start_time": "2023-01-24T20:32:52.786Z"
   },
   {
    "duration": 511,
    "start_time": "2023-01-24T20:32:53.372Z"
   },
   {
    "duration": 1187,
    "start_time": "2023-01-24T20:32:53.884Z"
   },
   {
    "duration": 3,
    "start_time": "2023-01-24T20:32:55.073Z"
   },
   {
    "duration": 16,
    "start_time": "2023-01-24T20:32:55.077Z"
   },
   {
    "duration": 188,
    "start_time": "2023-01-24T20:32:55.094Z"
   },
   {
    "duration": 4,
    "start_time": "2023-01-24T20:32:55.284Z"
   },
   {
    "duration": 167,
    "start_time": "2023-01-24T20:32:55.289Z"
   },
   {
    "duration": 3,
    "start_time": "2023-01-24T20:32:55.458Z"
   },
   {
    "duration": 170,
    "start_time": "2023-01-24T20:32:55.463Z"
   },
   {
    "duration": 4,
    "start_time": "2023-01-24T20:32:55.635Z"
   },
   {
    "duration": 179,
    "start_time": "2023-01-24T20:32:55.640Z"
   },
   {
    "duration": 3,
    "start_time": "2023-01-24T20:32:55.820Z"
   },
   {
    "duration": 16,
    "start_time": "2023-01-24T20:32:55.825Z"
   },
   {
    "duration": 44,
    "start_time": "2023-01-24T20:32:55.842Z"
   },
   {
    "duration": 4,
    "start_time": "2023-01-24T20:32:55.888Z"
   },
   {
    "duration": 12,
    "start_time": "2023-01-24T20:32:55.893Z"
   },
   {
    "duration": 8,
    "start_time": "2023-01-24T20:32:55.907Z"
   },
   {
    "duration": 24,
    "start_time": "2023-01-24T20:32:55.917Z"
   },
   {
    "duration": 129,
    "start_time": "2023-01-24T20:32:55.943Z"
   },
   {
    "duration": 13,
    "start_time": "2023-01-24T20:33:49.178Z"
   },
   {
    "duration": 8,
    "start_time": "2023-01-24T20:33:52.201Z"
   },
   {
    "duration": 1374,
    "start_time": "2023-01-24T20:34:19.686Z"
   },
   {
    "duration": 666,
    "start_time": "2023-01-24T20:34:21.062Z"
   },
   {
    "duration": 23,
    "start_time": "2023-01-24T20:34:21.729Z"
   },
   {
    "duration": 36,
    "start_time": "2023-01-24T20:34:21.754Z"
   },
   {
    "duration": 54,
    "start_time": "2023-01-24T20:34:21.791Z"
   },
   {
    "duration": 49,
    "start_time": "2023-01-24T20:34:21.846Z"
   },
   {
    "duration": 36,
    "start_time": "2023-01-24T20:34:21.897Z"
   },
   {
    "duration": 52,
    "start_time": "2023-01-24T20:34:21.934Z"
   },
   {
    "duration": 25,
    "start_time": "2023-01-24T20:34:21.987Z"
   },
   {
    "duration": 53,
    "start_time": "2023-01-24T20:34:22.014Z"
   },
   {
    "duration": 35,
    "start_time": "2023-01-24T20:34:22.069Z"
   },
   {
    "duration": 36,
    "start_time": "2023-01-24T20:34:22.107Z"
   },
   {
    "duration": 27,
    "start_time": "2023-01-24T20:34:22.144Z"
   },
   {
    "duration": 143,
    "start_time": "2023-01-24T20:34:22.172Z"
   },
   {
    "duration": 42,
    "start_time": "2023-01-24T20:34:22.317Z"
   },
   {
    "duration": 49,
    "start_time": "2023-01-24T20:34:22.361Z"
   },
   {
    "duration": 45,
    "start_time": "2023-01-24T20:34:22.412Z"
   },
   {
    "duration": 50,
    "start_time": "2023-01-24T20:34:22.458Z"
   },
   {
    "duration": 47,
    "start_time": "2023-01-24T20:34:22.510Z"
   },
   {
    "duration": 51,
    "start_time": "2023-01-24T20:34:22.558Z"
   },
   {
    "duration": 54,
    "start_time": "2023-01-24T20:34:22.610Z"
   },
   {
    "duration": 66,
    "start_time": "2023-01-24T20:34:22.666Z"
   },
   {
    "duration": 45,
    "start_time": "2023-01-24T20:34:22.734Z"
   },
   {
    "duration": 63,
    "start_time": "2023-01-24T20:34:22.781Z"
   },
   {
    "duration": 70,
    "start_time": "2023-01-24T20:34:22.846Z"
   },
   {
    "duration": 30,
    "start_time": "2023-01-24T20:34:22.919Z"
   },
   {
    "duration": 297,
    "start_time": "2023-01-24T20:34:22.951Z"
   },
   {
    "duration": 210,
    "start_time": "2023-01-24T20:34:23.305Z"
   },
   {
    "duration": 24,
    "start_time": "2023-01-24T20:34:23.517Z"
   },
   {
    "duration": 271,
    "start_time": "2023-01-24T20:34:23.543Z"
   },
   {
    "duration": 142,
    "start_time": "2023-01-24T20:34:23.815Z"
   },
   {
    "duration": 144,
    "start_time": "2023-01-24T20:34:23.959Z"
   },
   {
    "duration": 191,
    "start_time": "2023-01-24T20:34:24.105Z"
   },
   {
    "duration": 216,
    "start_time": "2023-01-24T20:34:24.298Z"
   },
   {
    "duration": 154,
    "start_time": "2023-01-24T20:34:24.516Z"
   },
   {
    "duration": 150,
    "start_time": "2023-01-24T20:34:24.672Z"
   },
   {
    "duration": 155,
    "start_time": "2023-01-24T20:34:24.823Z"
   },
   {
    "duration": 131,
    "start_time": "2023-01-24T20:34:24.980Z"
   },
   {
    "duration": 158,
    "start_time": "2023-01-24T20:34:25.112Z"
   },
   {
    "duration": 161,
    "start_time": "2023-01-24T20:34:25.271Z"
   },
   {
    "duration": 195,
    "start_time": "2023-01-24T20:34:25.433Z"
   },
   {
    "duration": 514,
    "start_time": "2023-01-24T20:34:25.629Z"
   },
   {
    "duration": 552,
    "start_time": "2023-01-24T20:34:26.145Z"
   },
   {
    "duration": 460,
    "start_time": "2023-01-24T20:34:26.702Z"
   },
   {
    "duration": 1152,
    "start_time": "2023-01-24T20:34:27.164Z"
   },
   {
    "duration": 3,
    "start_time": "2023-01-24T20:34:28.317Z"
   },
   {
    "duration": 40,
    "start_time": "2023-01-24T20:34:28.322Z"
   },
   {
    "duration": 168,
    "start_time": "2023-01-24T20:34:28.364Z"
   },
   {
    "duration": 4,
    "start_time": "2023-01-24T20:34:28.534Z"
   },
   {
    "duration": 151,
    "start_time": "2023-01-24T20:34:28.539Z"
   },
   {
    "duration": 4,
    "start_time": "2023-01-24T20:34:28.691Z"
   },
   {
    "duration": 249,
    "start_time": "2023-01-24T20:34:28.703Z"
   },
   {
    "duration": 4,
    "start_time": "2023-01-24T20:34:28.954Z"
   },
   {
    "duration": 195,
    "start_time": "2023-01-24T20:34:28.960Z"
   },
   {
    "duration": 3,
    "start_time": "2023-01-24T20:34:29.157Z"
   },
   {
    "duration": 32,
    "start_time": "2023-01-24T20:34:29.161Z"
   },
   {
    "duration": 57,
    "start_time": "2023-01-24T20:34:29.195Z"
   },
   {
    "duration": 8,
    "start_time": "2023-01-24T20:34:29.254Z"
   },
   {
    "duration": 34,
    "start_time": "2023-01-24T20:34:29.264Z"
   },
   {
    "duration": 22,
    "start_time": "2023-01-24T20:34:29.300Z"
   },
   {
    "duration": 40,
    "start_time": "2023-01-24T20:34:29.324Z"
   },
   {
    "duration": 150,
    "start_time": "2023-01-24T20:34:29.366Z"
   },
   {
    "duration": 10,
    "start_time": "2023-01-24T20:34:47.752Z"
   },
   {
    "duration": 11,
    "start_time": "2023-01-24T20:34:58.620Z"
   },
   {
    "duration": 11,
    "start_time": "2023-01-24T20:35:02.042Z"
   },
   {
    "duration": 18,
    "start_time": "2023-01-24T20:36:20.400Z"
   },
   {
    "duration": 9,
    "start_time": "2023-01-24T20:37:10.344Z"
   },
   {
    "duration": 10,
    "start_time": "2023-01-24T20:37:16.042Z"
   },
   {
    "duration": 10,
    "start_time": "2023-01-24T20:37:25.597Z"
   },
   {
    "duration": 10,
    "start_time": "2023-01-24T20:37:41.465Z"
   },
   {
    "duration": 11,
    "start_time": "2023-01-24T20:37:53.335Z"
   },
   {
    "duration": 18,
    "start_time": "2023-01-24T20:39:06.086Z"
   },
   {
    "duration": 11,
    "start_time": "2023-01-24T20:39:10.362Z"
   },
   {
    "duration": 31,
    "start_time": "2023-01-24T20:39:27.239Z"
   },
   {
    "duration": 34,
    "start_time": "2023-01-24T20:41:20.407Z"
   },
   {
    "duration": 4,
    "start_time": "2023-01-24T20:41:23.073Z"
   },
   {
    "duration": 3,
    "start_time": "2023-01-24T20:41:23.563Z"
   },
   {
    "duration": 4,
    "start_time": "2023-01-24T20:41:24.015Z"
   },
   {
    "duration": 4,
    "start_time": "2023-01-24T20:41:24.961Z"
   },
   {
    "duration": 156,
    "start_time": "2023-01-24T20:41:25.656Z"
   },
   {
    "duration": 1318,
    "start_time": "2023-01-24T20:42:27.685Z"
   },
   {
    "duration": 691,
    "start_time": "2023-01-24T20:42:29.005Z"
   },
   {
    "duration": 25,
    "start_time": "2023-01-24T20:42:29.698Z"
   },
   {
    "duration": 25,
    "start_time": "2023-01-24T20:42:29.724Z"
   },
   {
    "duration": 51,
    "start_time": "2023-01-24T20:42:29.751Z"
   },
   {
    "duration": 49,
    "start_time": "2023-01-24T20:42:29.804Z"
   },
   {
    "duration": 24,
    "start_time": "2023-01-24T20:42:29.855Z"
   },
   {
    "duration": 56,
    "start_time": "2023-01-24T20:42:29.880Z"
   },
   {
    "duration": 18,
    "start_time": "2023-01-24T20:42:29.938Z"
   },
   {
    "duration": 34,
    "start_time": "2023-01-24T20:42:29.957Z"
   },
   {
    "duration": 23,
    "start_time": "2023-01-24T20:42:29.993Z"
   },
   {
    "duration": 33,
    "start_time": "2023-01-24T20:42:30.018Z"
   },
   {
    "duration": 44,
    "start_time": "2023-01-24T20:42:30.053Z"
   },
   {
    "duration": 48,
    "start_time": "2023-01-24T20:42:30.100Z"
   },
   {
    "duration": 49,
    "start_time": "2023-01-24T20:42:30.150Z"
   },
   {
    "duration": 49,
    "start_time": "2023-01-24T20:42:30.201Z"
   },
   {
    "duration": 42,
    "start_time": "2023-01-24T20:42:30.251Z"
   },
   {
    "duration": 45,
    "start_time": "2023-01-24T20:42:30.295Z"
   },
   {
    "duration": 85,
    "start_time": "2023-01-24T20:42:30.341Z"
   },
   {
    "duration": 53,
    "start_time": "2023-01-24T20:42:30.428Z"
   },
   {
    "duration": 140,
    "start_time": "2023-01-24T20:42:30.483Z"
   },
   {
    "duration": 0,
    "start_time": "2023-01-24T20:42:30.626Z"
   },
   {
    "duration": 0,
    "start_time": "2023-01-24T20:42:30.626Z"
   },
   {
    "duration": 0,
    "start_time": "2023-01-24T20:42:30.628Z"
   },
   {
    "duration": 0,
    "start_time": "2023-01-24T20:42:30.629Z"
   },
   {
    "duration": 0,
    "start_time": "2023-01-24T20:42:30.630Z"
   },
   {
    "duration": 0,
    "start_time": "2023-01-24T20:42:30.631Z"
   },
   {
    "duration": 0,
    "start_time": "2023-01-24T20:42:30.632Z"
   },
   {
    "duration": 0,
    "start_time": "2023-01-24T20:42:30.633Z"
   },
   {
    "duration": 0,
    "start_time": "2023-01-24T20:42:30.634Z"
   },
   {
    "duration": 0,
    "start_time": "2023-01-24T20:42:30.635Z"
   },
   {
    "duration": 0,
    "start_time": "2023-01-24T20:42:30.636Z"
   },
   {
    "duration": 0,
    "start_time": "2023-01-24T20:42:30.637Z"
   },
   {
    "duration": 0,
    "start_time": "2023-01-24T20:42:30.638Z"
   },
   {
    "duration": 0,
    "start_time": "2023-01-24T20:42:30.639Z"
   },
   {
    "duration": 0,
    "start_time": "2023-01-24T20:42:30.641Z"
   },
   {
    "duration": 0,
    "start_time": "2023-01-24T20:42:30.642Z"
   },
   {
    "duration": 0,
    "start_time": "2023-01-24T20:42:30.643Z"
   },
   {
    "duration": 0,
    "start_time": "2023-01-24T20:42:30.644Z"
   },
   {
    "duration": 0,
    "start_time": "2023-01-24T20:42:30.645Z"
   },
   {
    "duration": 0,
    "start_time": "2023-01-24T20:42:30.647Z"
   },
   {
    "duration": 0,
    "start_time": "2023-01-24T20:42:30.648Z"
   },
   {
    "duration": 0,
    "start_time": "2023-01-24T20:42:30.650Z"
   },
   {
    "duration": 0,
    "start_time": "2023-01-24T20:42:30.651Z"
   },
   {
    "duration": 0,
    "start_time": "2023-01-24T20:42:30.652Z"
   },
   {
    "duration": 0,
    "start_time": "2023-01-24T20:42:30.653Z"
   },
   {
    "duration": 0,
    "start_time": "2023-01-24T20:42:30.654Z"
   },
   {
    "duration": 0,
    "start_time": "2023-01-24T20:42:30.703Z"
   },
   {
    "duration": 0,
    "start_time": "2023-01-24T20:42:30.704Z"
   },
   {
    "duration": 0,
    "start_time": "2023-01-24T20:42:30.705Z"
   },
   {
    "duration": 0,
    "start_time": "2023-01-24T20:42:30.706Z"
   },
   {
    "duration": 0,
    "start_time": "2023-01-24T20:42:30.707Z"
   },
   {
    "duration": 0,
    "start_time": "2023-01-24T20:42:30.708Z"
   },
   {
    "duration": 0,
    "start_time": "2023-01-24T20:42:30.709Z"
   },
   {
    "duration": 0,
    "start_time": "2023-01-24T20:42:30.710Z"
   },
   {
    "duration": 0,
    "start_time": "2023-01-24T20:42:30.710Z"
   },
   {
    "duration": 0,
    "start_time": "2023-01-24T20:42:30.711Z"
   },
   {
    "duration": 0,
    "start_time": "2023-01-24T20:42:30.712Z"
   },
   {
    "duration": 0,
    "start_time": "2023-01-24T20:42:30.713Z"
   },
   {
    "duration": 0,
    "start_time": "2023-01-24T20:42:30.714Z"
   },
   {
    "duration": 0,
    "start_time": "2023-01-24T20:42:30.715Z"
   },
   {
    "duration": 0,
    "start_time": "2023-01-24T20:42:30.716Z"
   },
   {
    "duration": 0,
    "start_time": "2023-01-24T20:42:30.717Z"
   },
   {
    "duration": 9,
    "start_time": "2023-01-24T20:42:48.694Z"
   },
   {
    "duration": 10,
    "start_time": "2023-01-24T20:42:58.844Z"
   },
   {
    "duration": 14,
    "start_time": "2023-01-24T20:43:40.936Z"
   },
   {
    "duration": 15,
    "start_time": "2023-01-24T20:43:47.518Z"
   },
   {
    "duration": 13,
    "start_time": "2023-01-24T20:44:39.557Z"
   },
   {
    "duration": 12,
    "start_time": "2023-01-24T20:44:39.571Z"
   },
   {
    "duration": 31,
    "start_time": "2023-01-24T20:44:39.730Z"
   },
   {
    "duration": 10,
    "start_time": "2023-01-24T20:44:40.430Z"
   },
   {
    "duration": 16,
    "start_time": "2023-01-24T20:44:41.237Z"
   },
   {
    "duration": 25,
    "start_time": "2023-01-24T20:44:42.732Z"
   },
   {
    "duration": 1910,
    "start_time": "2023-01-24T20:45:07.240Z"
   },
   {
    "duration": 850,
    "start_time": "2023-01-24T20:45:09.203Z"
   },
   {
    "duration": 25,
    "start_time": "2023-01-24T20:45:10.055Z"
   },
   {
    "duration": 35,
    "start_time": "2023-01-24T20:45:10.082Z"
   },
   {
    "duration": 32,
    "start_time": "2023-01-24T20:45:10.119Z"
   },
   {
    "duration": 21,
    "start_time": "2023-01-24T20:45:10.153Z"
   },
   {
    "duration": 13,
    "start_time": "2023-01-24T20:45:10.176Z"
   },
   {
    "duration": 28,
    "start_time": "2023-01-24T20:45:10.190Z"
   },
   {
    "duration": 5,
    "start_time": "2023-01-24T20:45:10.220Z"
   },
   {
    "duration": 12,
    "start_time": "2023-01-24T20:45:10.226Z"
   },
   {
    "duration": 7,
    "start_time": "2023-01-24T20:45:10.240Z"
   },
   {
    "duration": 18,
    "start_time": "2023-01-24T20:45:10.248Z"
   },
   {
    "duration": 14,
    "start_time": "2023-01-24T20:45:10.267Z"
   },
   {
    "duration": 24,
    "start_time": "2023-01-24T20:45:10.284Z"
   },
   {
    "duration": 10,
    "start_time": "2023-01-24T20:45:10.309Z"
   },
   {
    "duration": 9,
    "start_time": "2023-01-24T20:45:10.321Z"
   },
   {
    "duration": 14,
    "start_time": "2023-01-24T20:45:10.331Z"
   },
   {
    "duration": 6,
    "start_time": "2023-01-24T20:45:10.347Z"
   },
   {
    "duration": 8,
    "start_time": "2023-01-24T20:45:10.355Z"
   },
   {
    "duration": 40,
    "start_time": "2023-01-24T20:45:10.365Z"
   },
   {
    "duration": 3,
    "start_time": "2023-01-24T20:45:10.406Z"
   },
   {
    "duration": 13,
    "start_time": "2023-01-24T20:45:10.411Z"
   },
   {
    "duration": 9,
    "start_time": "2023-01-24T20:45:10.425Z"
   },
   {
    "duration": 12,
    "start_time": "2023-01-24T20:45:10.436Z"
   },
   {
    "duration": 23,
    "start_time": "2023-01-24T20:45:10.449Z"
   },
   {
    "duration": 39,
    "start_time": "2023-01-24T20:45:10.474Z"
   },
   {
    "duration": 2,
    "start_time": "2023-01-24T20:45:10.515Z"
   },
   {
    "duration": 85,
    "start_time": "2023-01-24T20:45:10.519Z"
   },
   {
    "duration": 136,
    "start_time": "2023-01-24T20:45:10.606Z"
   },
   {
    "duration": 25,
    "start_time": "2023-01-24T20:45:10.744Z"
   },
   {
    "duration": 156,
    "start_time": "2023-01-24T20:45:10.771Z"
   },
   {
    "duration": 165,
    "start_time": "2023-01-24T20:45:10.929Z"
   },
   {
    "duration": 139,
    "start_time": "2023-01-24T20:45:11.096Z"
   },
   {
    "duration": 142,
    "start_time": "2023-01-24T20:45:11.237Z"
   },
   {
    "duration": 206,
    "start_time": "2023-01-24T20:45:11.381Z"
   },
   {
    "duration": 148,
    "start_time": "2023-01-24T20:45:11.589Z"
   },
   {
    "duration": 141,
    "start_time": "2023-01-24T20:45:11.739Z"
   },
   {
    "duration": 145,
    "start_time": "2023-01-24T20:45:11.881Z"
   },
   {
    "duration": 132,
    "start_time": "2023-01-24T20:45:12.027Z"
   },
   {
    "duration": 184,
    "start_time": "2023-01-24T20:45:12.161Z"
   },
   {
    "duration": 160,
    "start_time": "2023-01-24T20:45:12.350Z"
   },
   {
    "duration": 181,
    "start_time": "2023-01-24T20:45:12.512Z"
   },
   {
    "duration": 519,
    "start_time": "2023-01-24T20:45:12.695Z"
   },
   {
    "duration": 583,
    "start_time": "2023-01-24T20:45:13.216Z"
   },
   {
    "duration": 528,
    "start_time": "2023-01-24T20:45:13.803Z"
   },
   {
    "duration": 1179,
    "start_time": "2023-01-24T20:45:14.333Z"
   },
   {
    "duration": 3,
    "start_time": "2023-01-24T20:45:15.514Z"
   },
   {
    "duration": 17,
    "start_time": "2023-01-24T20:45:15.518Z"
   },
   {
    "duration": 155,
    "start_time": "2023-01-24T20:45:15.536Z"
   },
   {
    "duration": 4,
    "start_time": "2023-01-24T20:45:15.692Z"
   },
   {
    "duration": 158,
    "start_time": "2023-01-24T20:45:15.697Z"
   },
   {
    "duration": 4,
    "start_time": "2023-01-24T20:45:15.857Z"
   },
   {
    "duration": 157,
    "start_time": "2023-01-24T20:45:15.862Z"
   },
   {
    "duration": 4,
    "start_time": "2023-01-24T20:45:16.021Z"
   },
   {
    "duration": 169,
    "start_time": "2023-01-24T20:45:16.026Z"
   },
   {
    "duration": 6,
    "start_time": "2023-01-24T20:45:16.197Z"
   },
   {
    "duration": 6,
    "start_time": "2023-01-24T20:45:16.205Z"
   },
   {
    "duration": 24,
    "start_time": "2023-01-24T20:45:16.213Z"
   },
   {
    "duration": 4,
    "start_time": "2023-01-24T20:45:16.239Z"
   },
   {
    "duration": 10,
    "start_time": "2023-01-24T20:45:16.244Z"
   },
   {
    "duration": 7,
    "start_time": "2023-01-24T20:45:16.255Z"
   },
   {
    "duration": 11,
    "start_time": "2023-01-24T20:45:16.263Z"
   },
   {
    "duration": 429,
    "start_time": "2023-01-24T20:45:16.275Z"
   },
   {
    "duration": 246,
    "start_time": "2023-01-24T20:46:19.856Z"
   },
   {
    "duration": 1170,
    "start_time": "2023-01-24T20:49:20.634Z"
   },
   {
    "duration": 1602,
    "start_time": "2023-01-24T20:50:18.006Z"
   },
   {
    "duration": 1517,
    "start_time": "2023-01-24T20:52:29.399Z"
   },
   {
    "duration": 1528,
    "start_time": "2023-01-24T20:53:02.878Z"
   },
   {
    "duration": 99,
    "start_time": "2023-01-24T21:07:55.976Z"
   },
   {
    "duration": 22,
    "start_time": "2023-01-24T21:09:52.362Z"
   },
   {
    "duration": 1007,
    "start_time": "2023-01-24T21:10:44.124Z"
   },
   {
    "duration": 1014,
    "start_time": "2023-01-24T21:11:05.194Z"
   },
   {
    "duration": 4,
    "start_time": "2023-01-24T21:11:29.244Z"
   },
   {
    "duration": 12188,
    "start_time": "2023-01-24T21:12:02.117Z"
   },
   {
    "duration": 12068,
    "start_time": "2023-01-24T21:12:28.425Z"
   },
   {
    "duration": 2597,
    "start_time": "2023-01-24T21:12:48.157Z"
   },
   {
    "duration": 12,
    "start_time": "2023-01-24T21:13:47.753Z"
   },
   {
    "duration": 47770,
    "start_time": "2023-01-24T21:16:06.204Z"
   },
   {
    "duration": 1470,
    "start_time": "2023-01-24T21:18:01.933Z"
   },
   {
    "duration": 1728,
    "start_time": "2023-01-24T21:21:07.956Z"
   },
   {
    "duration": 15,
    "start_time": "2023-01-24T21:23:28.684Z"
   },
   {
    "duration": 4,
    "start_time": "2023-01-24T21:23:44.516Z"
   },
   {
    "duration": 459,
    "start_time": "2023-01-24T21:23:52.016Z"
   },
   {
    "duration": 16,
    "start_time": "2023-01-24T21:23:57.711Z"
   },
   {
    "duration": 4,
    "start_time": "2023-01-24T21:24:00.934Z"
   },
   {
    "duration": 14,
    "start_time": "2023-01-24T21:24:13.994Z"
   },
   {
    "duration": 4,
    "start_time": "2023-01-24T21:24:17.247Z"
   },
   {
    "duration": 461,
    "start_time": "2023-01-24T21:24:21.377Z"
   },
   {
    "duration": 505,
    "start_time": "2023-01-24T21:24:29.502Z"
   },
   {
    "duration": 1490,
    "start_time": "2023-01-24T21:25:41.717Z"
   },
   {
    "duration": 1831,
    "start_time": "2023-01-24T21:25:48.057Z"
   },
   {
    "duration": 43710,
    "start_time": "2023-01-24T21:25:53.982Z"
   },
   {
    "duration": 788,
    "start_time": "2023-01-24T21:38:51.682Z"
   },
   {
    "duration": 654,
    "start_time": "2023-01-24T21:40:43.805Z"
   },
   {
    "duration": 1618,
    "start_time": "2023-01-24T21:41:09.789Z"
   },
   {
    "duration": 1610,
    "start_time": "2023-01-24T21:41:15.893Z"
   },
   {
    "duration": 1240,
    "start_time": "2023-01-24T21:41:29.770Z"
   },
   {
    "duration": 1309,
    "start_time": "2023-01-24T21:41:54.099Z"
   },
   {
    "duration": 1272,
    "start_time": "2023-01-24T21:42:26.630Z"
   },
   {
    "duration": 43,
    "start_time": "2023-01-24T21:42:44.441Z"
   },
   {
    "duration": 3,
    "start_time": "2023-01-24T21:42:50.886Z"
   },
   {
    "duration": 13,
    "start_time": "2023-01-24T21:43:25.656Z"
   },
   {
    "duration": 4,
    "start_time": "2023-01-24T21:43:42.307Z"
   },
   {
    "duration": 3,
    "start_time": "2023-01-24T21:45:11.333Z"
   },
   {
    "duration": 19,
    "start_time": "2023-01-24T21:45:14.330Z"
   },
   {
    "duration": 1372,
    "start_time": "2023-01-25T09:39:02.878Z"
   },
   {
    "duration": 1776,
    "start_time": "2023-01-25T09:39:04.252Z"
   },
   {
    "duration": 21,
    "start_time": "2023-01-25T09:39:06.030Z"
   },
   {
    "duration": 25,
    "start_time": "2023-01-25T09:39:06.053Z"
   },
   {
    "duration": 29,
    "start_time": "2023-01-25T09:39:06.081Z"
   },
   {
    "duration": 23,
    "start_time": "2023-01-25T09:39:06.112Z"
   },
   {
    "duration": 17,
    "start_time": "2023-01-25T09:39:06.137Z"
   },
   {
    "duration": 22,
    "start_time": "2023-01-25T09:39:06.155Z"
   },
   {
    "duration": 4,
    "start_time": "2023-01-25T09:39:06.178Z"
   },
   {
    "duration": 10,
    "start_time": "2023-01-25T09:39:06.184Z"
   },
   {
    "duration": 5,
    "start_time": "2023-01-25T09:39:06.196Z"
   },
   {
    "duration": 5,
    "start_time": "2023-01-25T09:39:06.203Z"
   },
   {
    "duration": 28,
    "start_time": "2023-01-25T09:39:06.209Z"
   },
   {
    "duration": 14,
    "start_time": "2023-01-25T09:39:06.239Z"
   },
   {
    "duration": 9,
    "start_time": "2023-01-25T09:39:06.254Z"
   },
   {
    "duration": 7,
    "start_time": "2023-01-25T09:39:06.265Z"
   },
   {
    "duration": 13,
    "start_time": "2023-01-25T09:39:06.273Z"
   },
   {
    "duration": 6,
    "start_time": "2023-01-25T09:39:06.287Z"
   },
   {
    "duration": 7,
    "start_time": "2023-01-25T09:39:06.295Z"
   },
   {
    "duration": 46,
    "start_time": "2023-01-25T09:39:06.303Z"
   },
   {
    "duration": 3,
    "start_time": "2023-01-25T09:39:06.350Z"
   },
   {
    "duration": 7,
    "start_time": "2023-01-25T09:39:06.355Z"
   },
   {
    "duration": 10,
    "start_time": "2023-01-25T09:39:06.363Z"
   },
   {
    "duration": 18,
    "start_time": "2023-01-25T09:39:06.374Z"
   },
   {
    "duration": 25,
    "start_time": "2023-01-25T09:39:06.393Z"
   },
   {
    "duration": 35,
    "start_time": "2023-01-25T09:39:06.420Z"
   },
   {
    "duration": 2,
    "start_time": "2023-01-25T09:39:06.456Z"
   },
   {
    "duration": 70,
    "start_time": "2023-01-25T09:39:06.461Z"
   },
   {
    "duration": 119,
    "start_time": "2023-01-25T09:39:06.533Z"
   },
   {
    "duration": 20,
    "start_time": "2023-01-25T09:39:06.654Z"
   },
   {
    "duration": 138,
    "start_time": "2023-01-25T09:39:06.675Z"
   },
   {
    "duration": 139,
    "start_time": "2023-01-25T09:39:06.814Z"
   },
   {
    "duration": 122,
    "start_time": "2023-01-25T09:39:06.955Z"
   },
   {
    "duration": 184,
    "start_time": "2023-01-25T09:39:07.079Z"
   },
   {
    "duration": 120,
    "start_time": "2023-01-25T09:39:07.264Z"
   },
   {
    "duration": 133,
    "start_time": "2023-01-25T09:39:07.386Z"
   },
   {
    "duration": 131,
    "start_time": "2023-01-25T09:39:07.521Z"
   },
   {
    "duration": 126,
    "start_time": "2023-01-25T09:39:07.654Z"
   },
   {
    "duration": 136,
    "start_time": "2023-01-25T09:39:07.781Z"
   },
   {
    "duration": 182,
    "start_time": "2023-01-25T09:39:07.919Z"
   },
   {
    "duration": 141,
    "start_time": "2023-01-25T09:39:08.102Z"
   },
   {
    "duration": 180,
    "start_time": "2023-01-25T09:39:08.244Z"
   },
   {
    "duration": 536,
    "start_time": "2023-01-25T09:39:08.426Z"
   },
   {
    "duration": 425,
    "start_time": "2023-01-25T09:39:08.963Z"
   },
   {
    "duration": 429,
    "start_time": "2023-01-25T09:39:09.389Z"
   },
   {
    "duration": 1123,
    "start_time": "2023-01-25T09:39:09.820Z"
   },
   {
    "duration": 2,
    "start_time": "2023-01-25T09:39:10.945Z"
   },
   {
    "duration": 8,
    "start_time": "2023-01-25T09:39:10.949Z"
   },
   {
    "duration": 144,
    "start_time": "2023-01-25T09:39:10.959Z"
   },
   {
    "duration": 3,
    "start_time": "2023-01-25T09:39:11.104Z"
   },
   {
    "duration": 152,
    "start_time": "2023-01-25T09:39:11.109Z"
   },
   {
    "duration": 4,
    "start_time": "2023-01-25T09:39:11.262Z"
   },
   {
    "duration": 147,
    "start_time": "2023-01-25T09:39:11.267Z"
   },
   {
    "duration": 3,
    "start_time": "2023-01-25T09:39:11.416Z"
   },
   {
    "duration": 163,
    "start_time": "2023-01-25T09:39:11.420Z"
   },
   {
    "duration": 3,
    "start_time": "2023-01-25T09:39:11.584Z"
   },
   {
    "duration": 7,
    "start_time": "2023-01-25T09:39:11.588Z"
   },
   {
    "duration": 40,
    "start_time": "2023-01-25T09:39:11.597Z"
   },
   {
    "duration": 4,
    "start_time": "2023-01-25T09:39:11.639Z"
   },
   {
    "duration": 8,
    "start_time": "2023-01-25T09:39:11.644Z"
   },
   {
    "duration": 8,
    "start_time": "2023-01-25T09:39:11.654Z"
   },
   {
    "duration": 7,
    "start_time": "2023-01-25T09:39:11.663Z"
   },
   {
    "duration": 1471,
    "start_time": "2023-01-25T09:39:11.672Z"
   },
   {
    "duration": 197,
    "start_time": "2023-01-25T09:39:13.145Z"
   },
   {
    "duration": 0,
    "start_time": "2023-01-25T09:39:13.343Z"
   },
   {
    "duration": 0,
    "start_time": "2023-01-25T09:39:13.344Z"
   },
   {
    "duration": 4,
    "start_time": "2023-01-25T09:42:30.634Z"
   },
   {
    "duration": 3,
    "start_time": "2023-01-25T09:42:38.819Z"
   },
   {
    "duration": 8,
    "start_time": "2023-01-25T09:45:13.585Z"
   },
   {
    "duration": 4,
    "start_time": "2023-01-25T09:46:10.198Z"
   },
   {
    "duration": 2,
    "start_time": "2023-01-25T09:46:17.825Z"
   },
   {
    "duration": 1175,
    "start_time": "2023-01-25T09:46:21.070Z"
   },
   {
    "duration": 642,
    "start_time": "2023-01-25T09:46:22.340Z"
   },
   {
    "duration": 10,
    "start_time": "2023-01-25T09:46:50.907Z"
   },
   {
    "duration": 1557,
    "start_time": "2023-01-25T09:47:02.680Z"
   },
   {
    "duration": 1189,
    "start_time": "2023-01-25T10:02:21.662Z"
   },
   {
    "duration": 734,
    "start_time": "2023-01-25T10:05:34.307Z"
   },
   {
    "duration": 889,
    "start_time": "2023-01-25T10:07:02.547Z"
   },
   {
    "duration": 901,
    "start_time": "2023-01-25T10:07:07.340Z"
   },
   {
    "duration": 10,
    "start_time": "2023-01-25T10:11:33.527Z"
   },
   {
    "duration": 13,
    "start_time": "2023-01-25T10:11:33.912Z"
   },
   {
    "duration": 15,
    "start_time": "2023-01-25T10:11:34.275Z"
   },
   {
    "duration": 3,
    "start_time": "2023-01-25T10:11:44.712Z"
   },
   {
    "duration": 3,
    "start_time": "2023-01-25T10:11:44.944Z"
   },
   {
    "duration": 3,
    "start_time": "2023-01-25T10:11:45.216Z"
   },
   {
    "duration": 3,
    "start_time": "2023-01-25T10:11:45.847Z"
   },
   {
    "duration": 3,
    "start_time": "2023-01-25T10:12:06.735Z"
   },
   {
    "duration": 5,
    "start_time": "2023-01-25T10:13:13.937Z"
   },
   {
    "duration": 3,
    "start_time": "2023-01-25T10:13:14.281Z"
   },
   {
    "duration": 3,
    "start_time": "2023-01-25T10:13:14.720Z"
   },
   {
    "duration": 1130,
    "start_time": "2023-01-25T10:13:45.514Z"
   },
   {
    "duration": 1148,
    "start_time": "2023-01-25T10:13:54.697Z"
   },
   {
    "duration": 692,
    "start_time": "2023-01-25T10:14:15.449Z"
   },
   {
    "duration": 978,
    "start_time": "2023-01-25T10:14:43.558Z"
   },
   {
    "duration": 577,
    "start_time": "2023-01-25T10:15:10.665Z"
   },
   {
    "duration": 659,
    "start_time": "2023-01-25T10:16:07.283Z"
   },
   {
    "duration": 4,
    "start_time": "2023-01-25T10:16:24.963Z"
   },
   {
    "duration": 53,
    "start_time": "2023-01-25T18:12:59.489Z"
   },
   {
    "duration": 1551,
    "start_time": "2023-01-25T18:13:10.548Z"
   },
   {
    "duration": 1948,
    "start_time": "2023-01-25T18:13:12.101Z"
   },
   {
    "duration": 24,
    "start_time": "2023-01-25T18:13:14.051Z"
   },
   {
    "duration": 20,
    "start_time": "2023-01-25T18:13:14.077Z"
   },
   {
    "duration": 25,
    "start_time": "2023-01-25T18:13:14.098Z"
   },
   {
    "duration": 24,
    "start_time": "2023-01-25T18:13:14.125Z"
   },
   {
    "duration": 20,
    "start_time": "2023-01-25T18:13:14.151Z"
   },
   {
    "duration": 19,
    "start_time": "2023-01-25T18:13:14.253Z"
   },
   {
    "duration": 5,
    "start_time": "2023-01-25T18:13:15.717Z"
   },
   {
    "duration": 7,
    "start_time": "2023-01-25T18:13:16.346Z"
   },
   {
    "duration": 6,
    "start_time": "2023-01-25T18:13:16.824Z"
   },
   {
    "duration": 1100,
    "start_time": "2023-01-25T18:13:17.678Z"
   },
   {
    "duration": 1075,
    "start_time": "2023-01-25T18:13:36.417Z"
   },
   {
    "duration": 1124,
    "start_time": "2023-01-25T18:14:06.510Z"
   },
   {
    "duration": 7,
    "start_time": "2023-01-25T18:18:55.136Z"
   },
   {
    "duration": 5,
    "start_time": "2023-01-25T18:20:33.626Z"
   },
   {
    "duration": 7,
    "start_time": "2023-01-25T18:21:21.275Z"
   },
   {
    "duration": 3,
    "start_time": "2023-01-25T18:21:58.660Z"
   },
   {
    "duration": 4,
    "start_time": "2023-01-25T18:22:07.900Z"
   },
   {
    "duration": 5,
    "start_time": "2023-01-25T18:22:45.771Z"
   },
   {
    "duration": 12,
    "start_time": "2023-01-25T18:23:01.276Z"
   },
   {
    "duration": 9,
    "start_time": "2023-01-25T18:24:20.138Z"
   },
   {
    "duration": 85,
    "start_time": "2023-01-25T18:28:25.589Z"
   },
   {
    "duration": 12,
    "start_time": "2023-01-25T18:28:31.501Z"
   },
   {
    "duration": 42,
    "start_time": "2023-01-25T18:28:32.636Z"
   },
   {
    "duration": 7,
    "start_time": "2023-01-25T18:28:41.286Z"
   },
   {
    "duration": 12,
    "start_time": "2023-01-25T18:28:44.250Z"
   },
   {
    "duration": 9,
    "start_time": "2023-01-25T18:28:46.549Z"
   },
   {
    "duration": 126,
    "start_time": "2023-01-25T18:29:07.260Z"
   },
   {
    "duration": 9,
    "start_time": "2023-01-25T18:29:13.544Z"
   },
   {
    "duration": 14,
    "start_time": "2023-01-25T18:29:18.222Z"
   },
   {
    "duration": 8,
    "start_time": "2023-01-25T18:29:21.868Z"
   },
   {
    "duration": 18,
    "start_time": "2023-01-25T18:30:00.917Z"
   },
   {
    "duration": 8,
    "start_time": "2023-01-25T18:30:35.717Z"
   },
   {
    "duration": 14,
    "start_time": "2023-01-25T18:32:07.795Z"
   },
   {
    "duration": 15,
    "start_time": "2023-01-25T18:32:10.567Z"
   },
   {
    "duration": 224,
    "start_time": "2023-01-25T18:32:52.950Z"
   },
   {
    "duration": 208,
    "start_time": "2023-01-25T18:33:07.241Z"
   },
   {
    "duration": 210,
    "start_time": "2023-01-25T18:33:46.712Z"
   },
   {
    "duration": 26,
    "start_time": "2023-01-25T18:45:23.245Z"
   },
   {
    "duration": 14,
    "start_time": "2023-01-25T18:46:15.725Z"
   },
   {
    "duration": 10,
    "start_time": "2023-01-25T18:46:22.019Z"
   },
   {
    "duration": 11,
    "start_time": "2023-01-25T18:46:50.321Z"
   },
   {
    "duration": 1224,
    "start_time": "2023-01-25T18:51:17.669Z"
   },
   {
    "duration": 1302,
    "start_time": "2023-01-25T18:51:47.639Z"
   },
   {
    "duration": 1311,
    "start_time": "2023-01-25T18:51:52.446Z"
   },
   {
    "duration": 1219,
    "start_time": "2023-01-25T18:51:56.647Z"
   },
   {
    "duration": 1378,
    "start_time": "2023-01-25T18:52:02.536Z"
   },
   {
    "duration": 3,
    "start_time": "2023-01-25T19:00:23.723Z"
   },
   {
    "duration": 3,
    "start_time": "2023-01-25T19:08:04.504Z"
   },
   {
    "duration": 4,
    "start_time": "2023-01-25T19:08:10.537Z"
   },
   {
    "duration": 3,
    "start_time": "2023-01-25T19:08:28.937Z"
   },
   {
    "duration": 5,
    "start_time": "2023-01-25T19:08:32.632Z"
   },
   {
    "duration": 3,
    "start_time": "2023-01-25T19:08:39.624Z"
   },
   {
    "duration": 5,
    "start_time": "2023-01-25T19:08:41.932Z"
   },
   {
    "duration": 14,
    "start_time": "2023-01-25T19:09:07.771Z"
   },
   {
    "duration": 15,
    "start_time": "2023-01-25T19:09:36.743Z"
   },
   {
    "duration": 1719,
    "start_time": "2023-01-25T19:10:07.739Z"
   },
   {
    "duration": 743,
    "start_time": "2023-01-25T19:10:09.460Z"
   },
   {
    "duration": 38,
    "start_time": "2023-01-25T19:10:10.205Z"
   },
   {
    "duration": 24,
    "start_time": "2023-01-25T19:10:10.245Z"
   },
   {
    "duration": 22,
    "start_time": "2023-01-25T19:10:10.271Z"
   },
   {
    "duration": 46,
    "start_time": "2023-01-25T19:10:10.294Z"
   },
   {
    "duration": 15,
    "start_time": "2023-01-25T19:10:10.342Z"
   },
   {
    "duration": 18,
    "start_time": "2023-01-25T19:10:10.359Z"
   },
   {
    "duration": 5,
    "start_time": "2023-01-25T19:10:10.378Z"
   },
   {
    "duration": 12,
    "start_time": "2023-01-25T19:10:10.386Z"
   },
   {
    "duration": 8,
    "start_time": "2023-01-25T19:10:10.400Z"
   },
   {
    "duration": 1148,
    "start_time": "2023-01-25T19:10:10.409Z"
   },
   {
    "duration": 4,
    "start_time": "2023-01-25T19:10:11.559Z"
   },
   {
    "duration": 7,
    "start_time": "2023-01-25T19:10:11.565Z"
   },
   {
    "duration": 22,
    "start_time": "2023-01-25T19:10:11.574Z"
   },
   {
    "duration": 11,
    "start_time": "2023-01-25T19:10:11.599Z"
   },
   {
    "duration": 17,
    "start_time": "2023-01-25T19:10:11.612Z"
   },
   {
    "duration": 16,
    "start_time": "2023-01-25T19:10:11.630Z"
   },
   {
    "duration": 11,
    "start_time": "2023-01-25T19:10:11.648Z"
   },
   {
    "duration": 6,
    "start_time": "2023-01-25T19:10:11.661Z"
   },
   {
    "duration": 7,
    "start_time": "2023-01-25T19:10:11.670Z"
   },
   {
    "duration": 9,
    "start_time": "2023-01-25T19:10:11.679Z"
   },
   {
    "duration": 3,
    "start_time": "2023-01-25T19:10:11.690Z"
   },
   {
    "duration": 17,
    "start_time": "2023-01-25T19:10:11.694Z"
   },
   {
    "duration": 29,
    "start_time": "2023-01-25T19:10:11.713Z"
   },
   {
    "duration": 8,
    "start_time": "2023-01-25T19:10:11.744Z"
   },
   {
    "duration": 17,
    "start_time": "2023-01-25T19:10:11.754Z"
   },
   {
    "duration": 39,
    "start_time": "2023-01-25T19:10:11.776Z"
   },
   {
    "duration": 33,
    "start_time": "2023-01-25T19:10:11.817Z"
   },
   {
    "duration": 228,
    "start_time": "2023-01-25T19:10:11.852Z"
   },
   {
    "duration": 10,
    "start_time": "2023-01-25T19:10:12.083Z"
   },
   {
    "duration": 202,
    "start_time": "2023-01-25T19:10:12.096Z"
   },
   {
    "duration": 203,
    "start_time": "2023-01-25T19:10:12.300Z"
   },
   {
    "duration": 196,
    "start_time": "2023-01-25T19:10:12.505Z"
   },
   {
    "duration": 205,
    "start_time": "2023-01-25T19:10:12.703Z"
   },
   {
    "duration": 159,
    "start_time": "2023-01-25T19:10:12.910Z"
   },
   {
    "duration": 183,
    "start_time": "2023-01-25T19:10:13.071Z"
   },
   {
    "duration": 183,
    "start_time": "2023-01-25T19:10:13.256Z"
   },
   {
    "duration": 184,
    "start_time": "2023-01-25T19:10:13.441Z"
   },
   {
    "duration": 174,
    "start_time": "2023-01-25T19:10:13.627Z"
   },
   {
    "duration": 212,
    "start_time": "2023-01-25T19:10:13.803Z"
   },
   {
    "duration": 187,
    "start_time": "2023-01-25T19:10:14.016Z"
   },
   {
    "duration": 340,
    "start_time": "2023-01-25T19:10:14.205Z"
   },
   {
    "duration": 583,
    "start_time": "2023-01-25T19:10:14.547Z"
   },
   {
    "duration": 601,
    "start_time": "2023-01-25T19:10:15.132Z"
   },
   {
    "duration": 621,
    "start_time": "2023-01-25T19:10:15.736Z"
   },
   {
    "duration": 1360,
    "start_time": "2023-01-25T19:10:16.359Z"
   },
   {
    "duration": 3,
    "start_time": "2023-01-25T19:10:17.721Z"
   },
   {
    "duration": 40,
    "start_time": "2023-01-25T19:10:17.726Z"
   },
   {
    "duration": 292,
    "start_time": "2023-01-25T19:10:17.768Z"
   },
   {
    "duration": 3,
    "start_time": "2023-01-25T19:10:18.062Z"
   },
   {
    "duration": 406,
    "start_time": "2023-01-25T19:10:18.067Z"
   },
   {
    "duration": 5,
    "start_time": "2023-01-25T19:10:18.475Z"
   },
   {
    "duration": 375,
    "start_time": "2023-01-25T19:10:18.481Z"
   },
   {
    "duration": 4,
    "start_time": "2023-01-25T19:10:18.857Z"
   },
   {
    "duration": 377,
    "start_time": "2023-01-25T19:10:18.863Z"
   },
   {
    "duration": 4,
    "start_time": "2023-01-25T19:10:19.243Z"
   },
   {
    "duration": 10,
    "start_time": "2023-01-25T19:10:19.249Z"
   },
   {
    "duration": 92,
    "start_time": "2023-01-25T19:10:19.262Z"
   },
   {
    "duration": 21,
    "start_time": "2023-01-25T19:10:19.356Z"
   },
   {
    "duration": 375,
    "start_time": "2023-01-25T19:10:19.379Z"
   },
   {
    "duration": 0,
    "start_time": "2023-01-25T19:10:19.756Z"
   },
   {
    "duration": 0,
    "start_time": "2023-01-25T19:10:19.757Z"
   },
   {
    "duration": 0,
    "start_time": "2023-01-25T19:10:19.758Z"
   },
   {
    "duration": 0,
    "start_time": "2023-01-25T19:10:19.759Z"
   },
   {
    "duration": 0,
    "start_time": "2023-01-25T19:10:19.760Z"
   },
   {
    "duration": 0,
    "start_time": "2023-01-25T19:10:19.762Z"
   },
   {
    "duration": 0,
    "start_time": "2023-01-25T19:10:19.763Z"
   },
   {
    "duration": 0,
    "start_time": "2023-01-25T19:10:19.765Z"
   },
   {
    "duration": 0,
    "start_time": "2023-01-25T19:10:19.765Z"
   },
   {
    "duration": 1,
    "start_time": "2023-01-25T19:10:19.766Z"
   },
   {
    "duration": 1,
    "start_time": "2023-01-25T19:10:19.770Z"
   },
   {
    "duration": 0,
    "start_time": "2023-01-25T19:10:19.772Z"
   },
   {
    "duration": 0,
    "start_time": "2023-01-25T19:10:19.774Z"
   },
   {
    "duration": 3,
    "start_time": "2023-01-25T19:11:22.274Z"
   },
   {
    "duration": 4,
    "start_time": "2023-01-25T19:11:22.821Z"
   },
   {
    "duration": 11,
    "start_time": "2023-01-25T19:12:13.732Z"
   },
   {
    "duration": 4,
    "start_time": "2023-01-25T19:12:28.011Z"
   },
   {
    "duration": 5,
    "start_time": "2023-01-25T19:12:28.933Z"
   },
   {
    "duration": 232,
    "start_time": "2023-01-25T19:16:01.809Z"
   },
   {
    "duration": 1414,
    "start_time": "2023-01-25T20:06:00.964Z"
   },
   {
    "duration": 733,
    "start_time": "2023-01-25T20:06:02.380Z"
   },
   {
    "duration": 37,
    "start_time": "2023-01-25T20:06:03.115Z"
   },
   {
    "duration": 23,
    "start_time": "2023-01-25T20:06:03.154Z"
   },
   {
    "duration": 60,
    "start_time": "2023-01-25T20:06:03.178Z"
   },
   {
    "duration": 52,
    "start_time": "2023-01-25T20:06:03.240Z"
   },
   {
    "duration": 24,
    "start_time": "2023-01-25T20:06:03.295Z"
   },
   {
    "duration": 26,
    "start_time": "2023-01-25T20:06:03.321Z"
   },
   {
    "duration": 8,
    "start_time": "2023-01-25T20:06:03.350Z"
   },
   {
    "duration": 25,
    "start_time": "2023-01-25T20:06:03.362Z"
   },
   {
    "duration": 17,
    "start_time": "2023-01-25T20:06:03.389Z"
   },
   {
    "duration": 1270,
    "start_time": "2023-01-25T20:06:03.408Z"
   },
   {
    "duration": 4,
    "start_time": "2023-01-25T20:06:04.680Z"
   },
   {
    "duration": 27,
    "start_time": "2023-01-25T20:06:04.686Z"
   },
   {
    "duration": 25,
    "start_time": "2023-01-25T20:06:04.715Z"
   },
   {
    "duration": 24,
    "start_time": "2023-01-25T20:06:04.742Z"
   },
   {
    "duration": 22,
    "start_time": "2023-01-25T20:06:04.768Z"
   },
   {
    "duration": 12,
    "start_time": "2023-01-25T20:06:04.792Z"
   },
   {
    "duration": 25,
    "start_time": "2023-01-25T20:06:04.805Z"
   },
   {
    "duration": 31,
    "start_time": "2023-01-25T20:06:04.832Z"
   },
   {
    "duration": 17,
    "start_time": "2023-01-25T20:06:04.865Z"
   },
   {
    "duration": 22,
    "start_time": "2023-01-25T20:06:04.884Z"
   },
   {
    "duration": 12,
    "start_time": "2023-01-25T20:06:04.908Z"
   },
   {
    "duration": 54,
    "start_time": "2023-01-25T20:06:04.922Z"
   },
   {
    "duration": 21,
    "start_time": "2023-01-25T20:06:04.978Z"
   },
   {
    "duration": 35,
    "start_time": "2023-01-25T20:06:05.001Z"
   },
   {
    "duration": 39,
    "start_time": "2023-01-25T20:06:05.038Z"
   },
   {
    "duration": 53,
    "start_time": "2023-01-25T20:06:05.081Z"
   },
   {
    "duration": 17,
    "start_time": "2023-01-25T20:06:05.136Z"
   },
   {
    "duration": 227,
    "start_time": "2023-01-25T20:06:05.155Z"
   },
   {
    "duration": 11,
    "start_time": "2023-01-25T20:06:05.384Z"
   },
   {
    "duration": 196,
    "start_time": "2023-01-25T20:06:05.396Z"
   },
   {
    "duration": 214,
    "start_time": "2023-01-25T20:06:05.594Z"
   },
   {
    "duration": 190,
    "start_time": "2023-01-25T20:06:05.810Z"
   },
   {
    "duration": 189,
    "start_time": "2023-01-25T20:06:06.002Z"
   },
   {
    "duration": 171,
    "start_time": "2023-01-25T20:06:06.193Z"
   },
   {
    "duration": 192,
    "start_time": "2023-01-25T20:06:06.366Z"
   },
   {
    "duration": 192,
    "start_time": "2023-01-25T20:06:06.560Z"
   },
   {
    "duration": 321,
    "start_time": "2023-01-25T20:06:06.754Z"
   },
   {
    "duration": 370,
    "start_time": "2023-01-25T20:06:07.076Z"
   },
   {
    "duration": 406,
    "start_time": "2023-01-25T20:06:07.447Z"
   },
   {
    "duration": 422,
    "start_time": "2023-01-25T20:06:07.855Z"
   },
   {
    "duration": 679,
    "start_time": "2023-01-25T20:06:08.278Z"
   },
   {
    "duration": 1287,
    "start_time": "2023-01-25T20:06:08.959Z"
   },
   {
    "duration": 1294,
    "start_time": "2023-01-25T20:06:10.248Z"
   },
   {
    "duration": 1166,
    "start_time": "2023-01-25T20:06:11.544Z"
   },
   {
    "duration": 2218,
    "start_time": "2023-01-25T20:06:12.712Z"
   },
   {
    "duration": 2,
    "start_time": "2023-01-25T20:06:14.932Z"
   },
   {
    "duration": 6,
    "start_time": "2023-01-25T20:06:14.940Z"
   },
   {
    "duration": 171,
    "start_time": "2023-01-25T20:06:14.947Z"
   },
   {
    "duration": 4,
    "start_time": "2023-01-25T20:06:15.119Z"
   },
   {
    "duration": 186,
    "start_time": "2023-01-25T20:06:15.125Z"
   },
   {
    "duration": 4,
    "start_time": "2023-01-25T20:06:15.313Z"
   },
   {
    "duration": 174,
    "start_time": "2023-01-25T20:06:15.319Z"
   },
   {
    "duration": 4,
    "start_time": "2023-01-25T20:06:15.495Z"
   },
   {
    "duration": 196,
    "start_time": "2023-01-25T20:06:15.500Z"
   },
   {
    "duration": 3,
    "start_time": "2023-01-25T20:06:15.698Z"
   },
   {
    "duration": 8,
    "start_time": "2023-01-25T20:06:15.703Z"
   },
   {
    "duration": 13,
    "start_time": "2023-01-25T20:06:15.713Z"
   },
   {
    "duration": 3,
    "start_time": "2023-01-25T20:06:15.727Z"
   },
   {
    "duration": 3,
    "start_time": "2023-01-25T20:06:15.740Z"
   },
   {
    "duration": 8,
    "start_time": "2023-01-25T20:06:15.745Z"
   },
   {
    "duration": 1895,
    "start_time": "2023-01-25T20:06:15.755Z"
   },
   {
    "duration": 6,
    "start_time": "2023-01-25T20:06:17.741Z"
   },
   {
    "duration": 200,
    "start_time": "2023-01-25T20:06:17.756Z"
   },
   {
    "duration": 0,
    "start_time": "2023-01-25T20:06:17.957Z"
   },
   {
    "duration": 0,
    "start_time": "2023-01-25T20:06:17.958Z"
   },
   {
    "duration": 0,
    "start_time": "2023-01-25T20:06:17.960Z"
   },
   {
    "duration": 0,
    "start_time": "2023-01-25T20:06:17.961Z"
   },
   {
    "duration": 0,
    "start_time": "2023-01-25T20:06:17.962Z"
   },
   {
    "duration": 1825,
    "start_time": "2023-01-25T20:08:37.118Z"
   },
   {
    "duration": 4,
    "start_time": "2023-01-25T20:08:41.912Z"
   },
   {
    "duration": 3,
    "start_time": "2023-01-25T20:09:01.044Z"
   },
   {
    "duration": 9,
    "start_time": "2023-01-25T20:14:21.398Z"
   },
   {
    "duration": 8233,
    "start_time": "2023-01-25T20:14:24.118Z"
   },
   {
    "duration": 45,
    "start_time": "2023-01-25T20:18:59.353Z"
   },
   {
    "duration": 2,
    "start_time": "2023-01-25T20:19:17.292Z"
   },
   {
    "duration": 6795,
    "start_time": "2023-01-25T20:19:21.350Z"
   },
   {
    "duration": 16,
    "start_time": "2023-01-25T20:19:28.151Z"
   },
   {
    "duration": 5,
    "start_time": "2023-01-25T20:20:10.205Z"
   },
   {
    "duration": 12,
    "start_time": "2023-01-25T20:21:01.656Z"
   },
   {
    "duration": 4,
    "start_time": "2023-01-25T20:21:07.982Z"
   },
   {
    "duration": 3788,
    "start_time": "2023-01-25T20:21:14.984Z"
   },
   {
    "duration": 6,
    "start_time": "2023-01-25T20:21:28.996Z"
   },
   {
    "duration": 3699,
    "start_time": "2023-01-25T20:22:02.022Z"
   },
   {
    "duration": 3,
    "start_time": "2023-01-25T20:22:05.723Z"
   },
   {
    "duration": 3749,
    "start_time": "2023-01-25T20:22:08.972Z"
   },
   {
    "duration": 5,
    "start_time": "2023-01-25T20:22:25.457Z"
   },
   {
    "duration": 1874,
    "start_time": "2023-01-26T10:08:30.508Z"
   },
   {
    "duration": 4790,
    "start_time": "2023-01-26T10:08:32.384Z"
   },
   {
    "duration": 39,
    "start_time": "2023-01-26T10:08:37.176Z"
   },
   {
    "duration": 46,
    "start_time": "2023-01-26T10:08:37.224Z"
   },
   {
    "duration": 37,
    "start_time": "2023-01-26T10:08:37.273Z"
   },
   {
    "duration": 41,
    "start_time": "2023-01-26T10:08:37.318Z"
   },
   {
    "duration": 17,
    "start_time": "2023-01-26T10:08:37.361Z"
   },
   {
    "duration": 36,
    "start_time": "2023-01-26T10:08:37.380Z"
   },
   {
    "duration": 55,
    "start_time": "2023-01-26T10:08:37.417Z"
   },
   {
    "duration": 10,
    "start_time": "2023-01-26T10:08:37.474Z"
   },
   {
    "duration": 9,
    "start_time": "2023-01-26T10:08:37.486Z"
   },
   {
    "duration": 1245,
    "start_time": "2023-01-26T10:08:37.496Z"
   },
   {
    "duration": 4,
    "start_time": "2023-01-26T10:08:38.746Z"
   },
   {
    "duration": 12,
    "start_time": "2023-01-26T10:08:38.754Z"
   },
   {
    "duration": 23,
    "start_time": "2023-01-26T10:08:38.767Z"
   },
   {
    "duration": 48,
    "start_time": "2023-01-26T10:08:38.792Z"
   },
   {
    "duration": 18,
    "start_time": "2023-01-26T10:08:38.842Z"
   },
   {
    "duration": 19,
    "start_time": "2023-01-26T10:08:38.863Z"
   },
   {
    "duration": 20,
    "start_time": "2023-01-26T10:08:38.883Z"
   },
   {
    "duration": 21,
    "start_time": "2023-01-26T10:08:38.908Z"
   },
   {
    "duration": 28,
    "start_time": "2023-01-26T10:08:38.931Z"
   },
   {
    "duration": 11,
    "start_time": "2023-01-26T10:08:38.961Z"
   },
   {
    "duration": 4,
    "start_time": "2023-01-26T10:08:38.974Z"
   },
   {
    "duration": 14,
    "start_time": "2023-01-26T10:08:38.980Z"
   },
   {
    "duration": 43,
    "start_time": "2023-01-26T10:08:38.995Z"
   },
   {
    "duration": 15,
    "start_time": "2023-01-26T10:08:39.041Z"
   },
   {
    "duration": 26,
    "start_time": "2023-01-26T10:08:39.058Z"
   },
   {
    "duration": 67,
    "start_time": "2023-01-26T10:08:39.086Z"
   },
   {
    "duration": 23,
    "start_time": "2023-01-26T10:08:39.154Z"
   },
   {
    "duration": 230,
    "start_time": "2023-01-26T10:08:39.179Z"
   },
   {
    "duration": 18,
    "start_time": "2023-01-26T10:08:39.411Z"
   },
   {
    "duration": 237,
    "start_time": "2023-01-26T10:08:39.432Z"
   },
   {
    "duration": 236,
    "start_time": "2023-01-26T10:08:39.671Z"
   },
   {
    "duration": 204,
    "start_time": "2023-01-26T10:08:39.909Z"
   },
   {
    "duration": 206,
    "start_time": "2023-01-26T10:08:40.118Z"
   },
   {
    "duration": 197,
    "start_time": "2023-01-26T10:08:40.326Z"
   },
   {
    "duration": 193,
    "start_time": "2023-01-26T10:08:40.525Z"
   },
   {
    "duration": 220,
    "start_time": "2023-01-26T10:08:40.720Z"
   },
   {
    "duration": 207,
    "start_time": "2023-01-26T10:08:40.942Z"
   },
   {
    "duration": 214,
    "start_time": "2023-01-26T10:08:41.151Z"
   },
   {
    "duration": 262,
    "start_time": "2023-01-26T10:08:41.369Z"
   },
   {
    "duration": 221,
    "start_time": "2023-01-26T10:08:41.633Z"
   },
   {
    "duration": 341,
    "start_time": "2023-01-26T10:08:41.856Z"
   },
   {
    "duration": 615,
    "start_time": "2023-01-26T10:08:42.202Z"
   },
   {
    "duration": 710,
    "start_time": "2023-01-26T10:08:42.820Z"
   },
   {
    "duration": 707,
    "start_time": "2023-01-26T10:08:43.532Z"
   },
   {
    "duration": 1572,
    "start_time": "2023-01-26T10:08:44.241Z"
   },
   {
    "duration": 5,
    "start_time": "2023-01-26T10:08:45.815Z"
   },
   {
    "duration": 40,
    "start_time": "2023-01-26T10:08:45.822Z"
   },
   {
    "duration": 279,
    "start_time": "2023-01-26T10:08:45.864Z"
   },
   {
    "duration": 6,
    "start_time": "2023-01-26T10:08:46.145Z"
   },
   {
    "duration": 240,
    "start_time": "2023-01-26T10:08:46.153Z"
   },
   {
    "duration": 19,
    "start_time": "2023-01-26T10:08:46.395Z"
   },
   {
    "duration": 203,
    "start_time": "2023-01-26T10:08:46.421Z"
   },
   {
    "duration": 4,
    "start_time": "2023-01-26T10:08:46.625Z"
   },
   {
    "duration": 187,
    "start_time": "2023-01-26T10:08:46.631Z"
   },
   {
    "duration": 3,
    "start_time": "2023-01-26T10:08:46.820Z"
   },
   {
    "duration": 7,
    "start_time": "2023-01-26T10:08:46.825Z"
   },
   {
    "duration": 14,
    "start_time": "2023-01-26T10:08:46.837Z"
   },
   {
    "duration": 13,
    "start_time": "2023-01-26T10:08:46.852Z"
   },
   {
    "duration": 15,
    "start_time": "2023-01-26T10:08:46.867Z"
   },
   {
    "duration": 32,
    "start_time": "2023-01-26T10:08:46.884Z"
   },
   {
    "duration": 8,
    "start_time": "2023-01-26T10:08:46.918Z"
   },
   {
    "duration": 12010,
    "start_time": "2023-01-26T10:08:46.928Z"
   },
   {
    "duration": 7,
    "start_time": "2023-01-26T10:08:58.995Z"
   },
   {
    "duration": 35,
    "start_time": "2023-01-26T10:08:59.004Z"
   },
   {
    "duration": 4124,
    "start_time": "2023-01-26T10:08:59.041Z"
   },
   {
    "duration": 5,
    "start_time": "2023-01-26T10:09:03.167Z"
   },
   {
    "duration": 8,
    "start_time": "2023-01-26T10:09:03.174Z"
   },
   {
    "duration": 4052,
    "start_time": "2023-01-26T10:09:03.203Z"
   },
   {
    "duration": 4,
    "start_time": "2023-01-26T10:09:07.257Z"
   },
   {
    "duration": 101,
    "start_time": "2023-01-26T11:17:05.544Z"
   },
   {
    "duration": 110,
    "start_time": "2023-01-26T11:22:05.971Z"
   },
   {
    "duration": 2,
    "start_time": "2023-01-26T11:36:49.478Z"
   },
   {
    "duration": 3673,
    "start_time": "2023-01-26T11:36:52.136Z"
   },
   {
    "duration": 5,
    "start_time": "2023-01-26T11:36:55.817Z"
   },
   {
    "duration": 3,
    "start_time": "2023-01-26T11:38:40.411Z"
   },
   {
    "duration": 6420,
    "start_time": "2023-01-26T11:38:40.674Z"
   },
   {
    "duration": 6,
    "start_time": "2023-01-26T11:38:47.096Z"
   },
   {
    "duration": 3,
    "start_time": "2023-01-26T11:38:52.973Z"
   },
   {
    "duration": 3592,
    "start_time": "2023-01-26T11:38:53.342Z"
   },
   {
    "duration": 5,
    "start_time": "2023-01-26T11:38:56.935Z"
   },
   {
    "duration": 3,
    "start_time": "2023-01-26T11:39:06.476Z"
   },
   {
    "duration": 3555,
    "start_time": "2023-01-26T11:39:06.972Z"
   },
   {
    "duration": 4,
    "start_time": "2023-01-26T11:39:10.529Z"
   },
   {
    "duration": 3,
    "start_time": "2023-01-26T11:39:21.656Z"
   },
   {
    "duration": 3584,
    "start_time": "2023-01-26T11:39:22.874Z"
   },
   {
    "duration": 5,
    "start_time": "2023-01-26T11:39:26.460Z"
   },
   {
    "duration": 64,
    "start_time": "2023-01-26T11:41:48.725Z"
   },
   {
    "duration": 41,
    "start_time": "2023-01-26T11:42:56.841Z"
   },
   {
    "duration": 4,
    "start_time": "2023-01-26T11:43:33.168Z"
   },
   {
    "duration": 5,
    "start_time": "2023-01-26T11:43:58.214Z"
   },
   {
    "duration": 171,
    "start_time": "2023-01-26T11:46:40.475Z"
   },
   {
    "duration": 92,
    "start_time": "2023-01-26T11:47:11.885Z"
   },
   {
    "duration": 537,
    "start_time": "2023-01-26T11:50:50.306Z"
   },
   {
    "duration": 15,
    "start_time": "2023-01-26T11:51:24.232Z"
   },
   {
    "duration": 15,
    "start_time": "2023-01-26T11:51:42.941Z"
   },
   {
    "duration": 21,
    "start_time": "2023-01-26T11:52:32.993Z"
   },
   {
    "duration": 21,
    "start_time": "2023-01-26T11:55:19.786Z"
   },
   {
    "duration": 16,
    "start_time": "2023-01-26T11:56:31.869Z"
   },
   {
    "duration": 1534,
    "start_time": "2023-01-26T11:56:46.519Z"
   },
   {
    "duration": 704,
    "start_time": "2023-01-26T11:56:48.055Z"
   },
   {
    "duration": 46,
    "start_time": "2023-01-26T11:56:48.761Z"
   },
   {
    "duration": 22,
    "start_time": "2023-01-26T11:56:48.813Z"
   },
   {
    "duration": 21,
    "start_time": "2023-01-26T11:56:48.837Z"
   },
   {
    "duration": 41,
    "start_time": "2023-01-26T11:56:48.860Z"
   },
   {
    "duration": 23,
    "start_time": "2023-01-26T11:56:48.903Z"
   },
   {
    "duration": 22,
    "start_time": "2023-01-26T11:56:48.928Z"
   },
   {
    "duration": 5,
    "start_time": "2023-01-26T11:56:48.952Z"
   },
   {
    "duration": 11,
    "start_time": "2023-01-26T11:56:48.960Z"
   },
   {
    "duration": 10,
    "start_time": "2023-01-26T11:56:48.991Z"
   },
   {
    "duration": 1138,
    "start_time": "2023-01-26T11:56:49.009Z"
   },
   {
    "duration": 5,
    "start_time": "2023-01-26T11:56:50.149Z"
   },
   {
    "duration": 17,
    "start_time": "2023-01-26T11:56:50.155Z"
   },
   {
    "duration": 16,
    "start_time": "2023-01-26T11:56:50.174Z"
   },
   {
    "duration": 13,
    "start_time": "2023-01-26T11:56:50.201Z"
   },
   {
    "duration": 19,
    "start_time": "2023-01-26T11:56:50.216Z"
   },
   {
    "duration": 11,
    "start_time": "2023-01-26T11:56:50.237Z"
   },
   {
    "duration": 17,
    "start_time": "2023-01-26T11:56:50.250Z"
   },
   {
    "duration": 12,
    "start_time": "2023-01-26T11:56:50.269Z"
   },
   {
    "duration": 42,
    "start_time": "2023-01-26T11:56:50.283Z"
   },
   {
    "duration": 49,
    "start_time": "2023-01-26T11:56:50.327Z"
   },
   {
    "duration": 25,
    "start_time": "2023-01-26T11:56:50.378Z"
   },
   {
    "duration": 256,
    "start_time": "2023-01-26T11:56:50.406Z"
   },
   {
    "duration": 12,
    "start_time": "2023-01-26T11:56:50.664Z"
   },
   {
    "duration": 193,
    "start_time": "2023-01-26T11:56:50.678Z"
   },
   {
    "duration": 350,
    "start_time": "2023-01-26T11:56:50.873Z"
   },
   {
    "duration": 282,
    "start_time": "2023-01-26T11:56:51.229Z"
   },
   {
    "duration": 204,
    "start_time": "2023-01-26T11:56:51.513Z"
   },
   {
    "duration": 186,
    "start_time": "2023-01-26T11:56:51.720Z"
   },
   {
    "duration": 216,
    "start_time": "2023-01-26T11:56:51.908Z"
   },
   {
    "duration": 195,
    "start_time": "2023-01-26T11:56:52.126Z"
   },
   {
    "duration": 195,
    "start_time": "2023-01-26T11:56:52.322Z"
   },
   {
    "duration": 192,
    "start_time": "2023-01-26T11:56:52.519Z"
   },
   {
    "duration": 214,
    "start_time": "2023-01-26T11:56:52.714Z"
   },
   {
    "duration": 213,
    "start_time": "2023-01-26T11:56:52.930Z"
   },
   {
    "duration": 351,
    "start_time": "2023-01-26T11:56:53.145Z"
   },
   {
    "duration": 653,
    "start_time": "2023-01-26T11:56:53.503Z"
   },
   {
    "duration": 687,
    "start_time": "2023-01-26T11:56:54.157Z"
   },
   {
    "duration": 708,
    "start_time": "2023-01-26T11:56:54.846Z"
   },
   {
    "duration": 1796,
    "start_time": "2023-01-26T11:56:55.556Z"
   },
   {
    "duration": 3,
    "start_time": "2023-01-26T11:56:57.355Z"
   },
   {
    "duration": 15,
    "start_time": "2023-01-26T11:56:57.361Z"
   },
   {
    "duration": 197,
    "start_time": "2023-01-26T11:56:57.378Z"
   },
   {
    "duration": 6,
    "start_time": "2023-01-26T11:56:57.577Z"
   },
   {
    "duration": 194,
    "start_time": "2023-01-26T11:56:57.591Z"
   },
   {
    "duration": 9,
    "start_time": "2023-01-26T11:56:57.788Z"
   },
   {
    "duration": 181,
    "start_time": "2023-01-26T11:56:57.803Z"
   },
   {
    "duration": 14,
    "start_time": "2023-01-26T11:56:57.985Z"
   },
   {
    "duration": 221,
    "start_time": "2023-01-26T11:56:58.004Z"
   },
   {
    "duration": 4,
    "start_time": "2023-01-26T11:56:58.227Z"
   },
   {
    "duration": 10,
    "start_time": "2023-01-26T11:56:58.233Z"
   },
   {
    "duration": 22,
    "start_time": "2023-01-26T11:56:58.245Z"
   },
   {
    "duration": 10,
    "start_time": "2023-01-26T11:56:58.268Z"
   },
   {
    "duration": 15,
    "start_time": "2023-01-26T11:56:58.280Z"
   },
   {
    "duration": 18,
    "start_time": "2023-01-26T11:56:58.301Z"
   },
   {
    "duration": 10,
    "start_time": "2023-01-26T11:56:58.321Z"
   },
   {
    "duration": 9173,
    "start_time": "2023-01-26T11:56:58.333Z"
   },
   {
    "duration": 11,
    "start_time": "2023-01-26T11:57:07.512Z"
   },
   {
    "duration": 13,
    "start_time": "2023-01-26T11:57:07.616Z"
   },
   {
    "duration": 3882,
    "start_time": "2023-01-26T11:57:07.631Z"
   },
   {
    "duration": 6,
    "start_time": "2023-01-26T11:57:11.516Z"
   },
   {
    "duration": 15,
    "start_time": "2023-01-26T11:57:11.523Z"
   },
   {
    "duration": 3669,
    "start_time": "2023-01-26T11:57:11.540Z"
   },
   {
    "duration": 7,
    "start_time": "2023-01-26T11:57:15.216Z"
   },
   {
    "duration": 140,
    "start_time": "2023-01-26T11:57:15.226Z"
   },
   {
    "duration": 0,
    "start_time": "2023-01-26T11:57:15.367Z"
   },
   {
    "duration": 0,
    "start_time": "2023-01-26T11:57:15.369Z"
   },
   {
    "duration": 0,
    "start_time": "2023-01-26T11:57:15.370Z"
   },
   {
    "duration": 0,
    "start_time": "2023-01-26T11:57:15.372Z"
   },
   {
    "duration": 17,
    "start_time": "2023-01-26T11:57:47.366Z"
   },
   {
    "duration": 14,
    "start_time": "2023-01-26T11:58:25.588Z"
   },
   {
    "duration": 5,
    "start_time": "2023-01-26T11:58:35.119Z"
   },
   {
    "duration": 18,
    "start_time": "2023-01-26T11:58:40.681Z"
   },
   {
    "duration": 294,
    "start_time": "2023-01-26T11:59:01.280Z"
   },
   {
    "duration": 5,
    "start_time": "2023-01-26T11:59:05.985Z"
   },
   {
    "duration": 5,
    "start_time": "2023-01-26T12:06:52.840Z"
   },
   {
    "duration": 4,
    "start_time": "2023-01-26T12:07:16.706Z"
   },
   {
    "duration": 10,
    "start_time": "2023-01-26T12:08:40.762Z"
   },
   {
    "duration": 5,
    "start_time": "2023-01-26T12:09:19.252Z"
   },
   {
    "duration": 297,
    "start_time": "2023-01-26T12:10:12.321Z"
   },
   {
    "duration": 5,
    "start_time": "2023-01-26T12:10:14.421Z"
   },
   {
    "duration": 4,
    "start_time": "2023-01-26T12:10:16.830Z"
   },
   {
    "duration": 270,
    "start_time": "2023-01-26T12:10:37.726Z"
   },
   {
    "duration": 336,
    "start_time": "2023-01-26T12:11:32.367Z"
   },
   {
    "duration": 7,
    "start_time": "2023-01-26T12:11:32.706Z"
   },
   {
    "duration": 4,
    "start_time": "2023-01-26T12:11:33.036Z"
   },
   {
    "duration": 311,
    "start_time": "2023-01-26T12:11:33.877Z"
   },
   {
    "duration": 7,
    "start_time": "2023-01-26T12:11:34.827Z"
   },
   {
    "duration": 5,
    "start_time": "2023-01-26T12:11:35.719Z"
   },
   {
    "duration": 5,
    "start_time": "2023-01-26T12:12:10.825Z"
   },
   {
    "duration": 435,
    "start_time": "2023-01-26T12:21:55.524Z"
   },
   {
    "duration": 6,
    "start_time": "2023-01-26T12:23:57.334Z"
   },
   {
    "duration": 6,
    "start_time": "2023-01-26T12:25:01.765Z"
   },
   {
    "duration": 2,
    "start_time": "2023-01-26T12:25:36.041Z"
   },
   {
    "duration": 8,
    "start_time": "2023-01-26T12:26:09.741Z"
   },
   {
    "duration": 2283,
    "start_time": "2023-01-27T08:16:12.834Z"
   },
   {
    "duration": 666,
    "start_time": "2023-01-27T08:16:15.120Z"
   },
   {
    "duration": 24,
    "start_time": "2023-01-27T08:16:15.788Z"
   },
   {
    "duration": 37,
    "start_time": "2023-01-27T08:16:15.813Z"
   },
   {
    "duration": 20,
    "start_time": "2023-01-27T08:16:15.852Z"
   },
   {
    "duration": 18,
    "start_time": "2023-01-27T08:16:15.873Z"
   },
   {
    "duration": 12,
    "start_time": "2023-01-27T08:16:15.892Z"
   },
   {
    "duration": 45,
    "start_time": "2023-01-27T08:16:15.905Z"
   },
   {
    "duration": 4,
    "start_time": "2023-01-27T08:16:15.951Z"
   },
   {
    "duration": 10,
    "start_time": "2023-01-27T08:16:15.957Z"
   },
   {
    "duration": 5,
    "start_time": "2023-01-27T08:16:15.968Z"
   },
   {
    "duration": 1164,
    "start_time": "2023-01-27T08:16:15.974Z"
   },
   {
    "duration": 9,
    "start_time": "2023-01-27T08:16:17.140Z"
   },
   {
    "duration": 7,
    "start_time": "2023-01-27T08:16:17.151Z"
   },
   {
    "duration": 11,
    "start_time": "2023-01-27T08:16:17.160Z"
   },
   {
    "duration": 6,
    "start_time": "2023-01-27T08:16:17.173Z"
   },
   {
    "duration": 23,
    "start_time": "2023-01-27T08:16:17.181Z"
   },
   {
    "duration": 8,
    "start_time": "2023-01-27T08:16:17.206Z"
   },
   {
    "duration": 11,
    "start_time": "2023-01-27T08:16:17.215Z"
   },
   {
    "duration": 7,
    "start_time": "2023-01-27T08:16:17.249Z"
   },
   {
    "duration": 12,
    "start_time": "2023-01-27T08:16:17.257Z"
   },
   {
    "duration": 49,
    "start_time": "2023-01-27T08:16:17.271Z"
   },
   {
    "duration": 28,
    "start_time": "2023-01-27T08:16:17.322Z"
   },
   {
    "duration": 215,
    "start_time": "2023-01-27T08:16:17.352Z"
   },
   {
    "duration": 9,
    "start_time": "2023-01-27T08:16:17.568Z"
   },
   {
    "duration": 185,
    "start_time": "2023-01-27T08:16:17.578Z"
   },
   {
    "duration": 191,
    "start_time": "2023-01-27T08:16:17.764Z"
   },
   {
    "duration": 157,
    "start_time": "2023-01-27T08:16:17.956Z"
   },
   {
    "duration": 167,
    "start_time": "2023-01-27T08:16:18.114Z"
   },
   {
    "duration": 160,
    "start_time": "2023-01-27T08:16:18.282Z"
   },
   {
    "duration": 171,
    "start_time": "2023-01-27T08:16:18.448Z"
   },
   {
    "duration": 165,
    "start_time": "2023-01-27T08:16:18.620Z"
   },
   {
    "duration": 161,
    "start_time": "2023-01-27T08:16:18.787Z"
   },
   {
    "duration": 147,
    "start_time": "2023-01-27T08:16:18.950Z"
   },
   {
    "duration": 181,
    "start_time": "2023-01-27T08:16:19.099Z"
   },
   {
    "duration": 181,
    "start_time": "2023-01-27T08:16:19.282Z"
   },
   {
    "duration": 288,
    "start_time": "2023-01-27T08:16:19.465Z"
   },
   {
    "duration": 530,
    "start_time": "2023-01-27T08:16:19.754Z"
   },
   {
    "duration": 544,
    "start_time": "2023-01-27T08:16:20.286Z"
   },
   {
    "duration": 571,
    "start_time": "2023-01-27T08:16:20.832Z"
   },
   {
    "duration": 1179,
    "start_time": "2023-01-27T08:16:21.407Z"
   },
   {
    "duration": 3,
    "start_time": "2023-01-27T08:16:22.588Z"
   },
   {
    "duration": 7,
    "start_time": "2023-01-27T08:16:22.592Z"
   },
   {
    "duration": 157,
    "start_time": "2023-01-27T08:16:22.601Z"
   },
   {
    "duration": 4,
    "start_time": "2023-01-27T08:16:22.760Z"
   },
   {
    "duration": 159,
    "start_time": "2023-01-27T08:16:22.765Z"
   },
   {
    "duration": 4,
    "start_time": "2023-01-27T08:16:22.926Z"
   },
   {
    "duration": 150,
    "start_time": "2023-01-27T08:16:22.931Z"
   },
   {
    "duration": 4,
    "start_time": "2023-01-27T08:16:23.082Z"
   },
   {
    "duration": 153,
    "start_time": "2023-01-27T08:16:23.087Z"
   },
   {
    "duration": 8,
    "start_time": "2023-01-27T08:16:23.241Z"
   },
   {
    "duration": 6,
    "start_time": "2023-01-27T08:16:23.250Z"
   },
   {
    "duration": 13,
    "start_time": "2023-01-27T08:16:23.257Z"
   },
   {
    "duration": 4,
    "start_time": "2023-01-27T08:16:23.271Z"
   },
   {
    "duration": 5,
    "start_time": "2023-01-27T08:16:23.277Z"
   },
   {
    "duration": 5,
    "start_time": "2023-01-27T08:16:23.284Z"
   },
   {
    "duration": 4,
    "start_time": "2023-01-27T08:16:23.291Z"
   },
   {
    "duration": 3055,
    "start_time": "2023-01-27T08:16:23.297Z"
   },
   {
    "duration": 8,
    "start_time": "2023-01-27T08:16:26.355Z"
   },
   {
    "duration": 1313,
    "start_time": "2023-01-27T08:17:38.913Z"
   },
   {
    "duration": 1495,
    "start_time": "2023-01-27T12:53:52.432Z"
   },
   {
    "duration": 3338,
    "start_time": "2023-01-27T12:53:53.929Z"
   },
   {
    "duration": 34,
    "start_time": "2023-01-27T12:53:57.268Z"
   },
   {
    "duration": 19,
    "start_time": "2023-01-27T12:53:57.305Z"
   },
   {
    "duration": 22,
    "start_time": "2023-01-27T12:53:57.326Z"
   },
   {
    "duration": 15,
    "start_time": "2023-01-27T12:53:57.350Z"
   },
   {
    "duration": 29,
    "start_time": "2023-01-27T12:53:57.366Z"
   },
   {
    "duration": 24,
    "start_time": "2023-01-27T12:53:57.396Z"
   },
   {
    "duration": 6,
    "start_time": "2023-01-27T12:53:57.422Z"
   },
   {
    "duration": 7,
    "start_time": "2023-01-27T12:53:57.431Z"
   },
   {
    "duration": 6,
    "start_time": "2023-01-27T12:53:57.440Z"
   },
   {
    "duration": 1331,
    "start_time": "2023-01-27T12:53:57.448Z"
   },
   {
    "duration": 14,
    "start_time": "2023-01-27T12:53:58.781Z"
   },
   {
    "duration": 36,
    "start_time": "2023-01-27T12:53:58.796Z"
   },
   {
    "duration": 17,
    "start_time": "2023-01-27T12:53:58.834Z"
   },
   {
    "duration": 10,
    "start_time": "2023-01-27T12:53:58.852Z"
   },
   {
    "duration": 27,
    "start_time": "2023-01-27T12:53:58.863Z"
   },
   {
    "duration": 21,
    "start_time": "2023-01-27T12:53:58.891Z"
   },
   {
    "duration": 26,
    "start_time": "2023-01-27T12:53:58.914Z"
   },
   {
    "duration": 11,
    "start_time": "2023-01-27T12:53:58.942Z"
   },
   {
    "duration": 23,
    "start_time": "2023-01-27T12:53:58.955Z"
   },
   {
    "duration": 63,
    "start_time": "2023-01-27T12:53:58.980Z"
   },
   {
    "duration": 15,
    "start_time": "2023-01-27T12:53:59.045Z"
   },
   {
    "duration": 221,
    "start_time": "2023-01-27T12:53:59.062Z"
   },
   {
    "duration": 16,
    "start_time": "2023-01-27T12:53:59.285Z"
   },
   {
    "duration": 200,
    "start_time": "2023-01-27T12:53:59.306Z"
   },
   {
    "duration": 194,
    "start_time": "2023-01-27T12:53:59.508Z"
   },
   {
    "duration": 183,
    "start_time": "2023-01-27T12:53:59.707Z"
   },
   {
    "duration": 170,
    "start_time": "2023-01-27T12:53:59.895Z"
   },
   {
    "duration": 159,
    "start_time": "2023-01-27T12:54:00.067Z"
   },
   {
    "duration": 185,
    "start_time": "2023-01-27T12:54:00.228Z"
   },
   {
    "duration": 184,
    "start_time": "2023-01-27T12:54:00.415Z"
   },
   {
    "duration": 166,
    "start_time": "2023-01-27T12:54:00.600Z"
   },
   {
    "duration": 176,
    "start_time": "2023-01-27T12:54:00.767Z"
   },
   {
    "duration": 207,
    "start_time": "2023-01-27T12:54:00.945Z"
   },
   {
    "duration": 198,
    "start_time": "2023-01-27T12:54:01.154Z"
   },
   {
    "duration": 353,
    "start_time": "2023-01-27T12:54:01.354Z"
   },
   {
    "duration": 566,
    "start_time": "2023-01-27T12:54:01.709Z"
   },
   {
    "duration": 555,
    "start_time": "2023-01-27T12:54:02.276Z"
   },
   {
    "duration": 589,
    "start_time": "2023-01-27T12:54:02.833Z"
   },
   {
    "duration": 1297,
    "start_time": "2023-01-27T12:54:03.423Z"
   },
   {
    "duration": 3,
    "start_time": "2023-01-27T12:54:04.721Z"
   },
   {
    "duration": 9,
    "start_time": "2023-01-27T12:54:04.726Z"
   },
   {
    "duration": 173,
    "start_time": "2023-01-27T12:54:04.736Z"
   },
   {
    "duration": 5,
    "start_time": "2023-01-27T12:54:04.911Z"
   },
   {
    "duration": 190,
    "start_time": "2023-01-27T12:54:04.918Z"
   },
   {
    "duration": 4,
    "start_time": "2023-01-27T12:54:05.110Z"
   },
   {
    "duration": 178,
    "start_time": "2023-01-27T12:54:05.116Z"
   },
   {
    "duration": 7,
    "start_time": "2023-01-27T12:54:05.296Z"
   },
   {
    "duration": 167,
    "start_time": "2023-01-27T12:54:05.305Z"
   },
   {
    "duration": 3,
    "start_time": "2023-01-27T12:54:05.474Z"
   },
   {
    "duration": 15,
    "start_time": "2023-01-27T12:54:05.479Z"
   },
   {
    "duration": 16,
    "start_time": "2023-01-27T12:54:05.496Z"
   },
   {
    "duration": 19,
    "start_time": "2023-01-27T12:54:05.514Z"
   },
   {
    "duration": 4,
    "start_time": "2023-01-27T12:54:05.535Z"
   },
   {
    "duration": 15,
    "start_time": "2023-01-27T12:54:05.540Z"
   },
   {
    "duration": 9,
    "start_time": "2023-01-27T12:54:05.556Z"
   },
   {
    "duration": 13,
    "start_time": "2023-01-27T12:54:05.566Z"
   },
   {
    "duration": 4031,
    "start_time": "2023-01-27T12:54:05.580Z"
   },
   {
    "duration": 6,
    "start_time": "2023-01-27T12:54:09.696Z"
   },
   {
    "duration": 17,
    "start_time": "2023-01-27T12:54:09.704Z"
   },
   {
    "duration": 2356,
    "start_time": "2023-01-27T12:54:09.723Z"
   },
   {
    "duration": 17,
    "start_time": "2023-01-27T12:54:12.081Z"
   },
   {
    "duration": 4,
    "start_time": "2023-01-27T12:54:12.104Z"
   },
   {
    "duration": 2219,
    "start_time": "2023-01-27T12:54:12.110Z"
   },
   {
    "duration": 4,
    "start_time": "2023-01-27T12:54:14.331Z"
   },
   {
    "duration": 120,
    "start_time": "2023-01-27T12:54:14.337Z"
   },
   {
    "duration": 0,
    "start_time": "2023-01-27T12:54:14.459Z"
   },
   {
    "duration": 0,
    "start_time": "2023-01-27T12:54:14.460Z"
   },
   {
    "duration": 0,
    "start_time": "2023-01-27T12:54:14.461Z"
   },
   {
    "duration": 0,
    "start_time": "2023-01-27T12:54:14.462Z"
   },
   {
    "duration": 0,
    "start_time": "2023-01-27T12:54:14.464Z"
   },
   {
    "duration": 0,
    "start_time": "2023-01-27T12:54:14.465Z"
   },
   {
    "duration": 0,
    "start_time": "2023-01-27T12:54:14.466Z"
   },
   {
    "duration": 0,
    "start_time": "2023-01-27T12:54:14.466Z"
   },
   {
    "duration": 5,
    "start_time": "2023-01-27T12:56:15.608Z"
   },
   {
    "duration": 3,
    "start_time": "2023-01-27T12:56:25.729Z"
   },
   {
    "duration": 4,
    "start_time": "2023-01-27T12:56:26.506Z"
   },
   {
    "duration": 3420,
    "start_time": "2023-01-27T12:56:26.887Z"
   },
   {
    "duration": 5,
    "start_time": "2023-01-27T12:56:30.311Z"
   },
   {
    "duration": 11,
    "start_time": "2023-01-27T13:11:57.475Z"
   },
   {
    "duration": 15,
    "start_time": "2023-01-27T13:12:56.577Z"
   },
   {
    "duration": 11,
    "start_time": "2023-01-27T13:13:16.611Z"
   },
   {
    "duration": 11,
    "start_time": "2023-01-27T13:13:42.430Z"
   },
   {
    "duration": 60,
    "start_time": "2023-01-27T13:13:50.684Z"
   },
   {
    "duration": 56,
    "start_time": "2023-01-27T13:13:59.301Z"
   },
   {
    "duration": 578,
    "start_time": "2023-01-27T13:14:13.510Z"
   },
   {
    "duration": 595,
    "start_time": "2023-01-27T13:14:26.423Z"
   },
   {
    "duration": 553,
    "start_time": "2023-01-27T13:14:32.811Z"
   },
   {
    "duration": 1580,
    "start_time": "2023-01-27T13:14:57.176Z"
   },
   {
    "duration": 42931,
    "start_time": "2023-01-27T13:15:21.805Z"
   },
   {
    "duration": 2,
    "start_time": "2023-01-27T13:29:32.619Z"
   },
   {
    "duration": 4970,
    "start_time": "2023-01-27T13:29:33.046Z"
   },
   {
    "duration": 4,
    "start_time": "2023-01-27T13:29:38.018Z"
   },
   {
    "duration": 3396,
    "start_time": "2023-01-27T13:45:13.277Z"
   },
   {
    "duration": 3315,
    "start_time": "2023-01-27T13:46:23.213Z"
   },
   {
    "duration": 1338,
    "start_time": "2023-01-27T14:38:39.141Z"
   },
   {
    "duration": 731,
    "start_time": "2023-01-27T14:38:40.481Z"
   },
   {
    "duration": 25,
    "start_time": "2023-01-27T14:38:41.214Z"
   },
   {
    "duration": 20,
    "start_time": "2023-01-27T14:38:41.240Z"
   },
   {
    "duration": 42,
    "start_time": "2023-01-27T14:38:41.262Z"
   },
   {
    "duration": 24,
    "start_time": "2023-01-27T14:38:41.306Z"
   },
   {
    "duration": 14,
    "start_time": "2023-01-27T14:38:41.332Z"
   },
   {
    "duration": 18,
    "start_time": "2023-01-27T14:38:41.347Z"
   },
   {
    "duration": 27,
    "start_time": "2023-01-27T14:38:41.366Z"
   },
   {
    "duration": 18,
    "start_time": "2023-01-27T14:38:41.394Z"
   },
   {
    "duration": 5,
    "start_time": "2023-01-27T14:38:41.414Z"
   },
   {
    "duration": 1122,
    "start_time": "2023-01-27T14:38:41.420Z"
   },
   {
    "duration": 4,
    "start_time": "2023-01-27T14:38:42.544Z"
   },
   {
    "duration": 8,
    "start_time": "2023-01-27T14:38:42.550Z"
   },
   {
    "duration": 11,
    "start_time": "2023-01-27T14:38:42.559Z"
   },
   {
    "duration": 7,
    "start_time": "2023-01-27T14:38:42.571Z"
   },
   {
    "duration": 10,
    "start_time": "2023-01-27T14:38:42.590Z"
   },
   {
    "duration": 7,
    "start_time": "2023-01-27T14:38:42.602Z"
   },
   {
    "duration": 8,
    "start_time": "2023-01-27T14:38:42.611Z"
   },
   {
    "duration": 6,
    "start_time": "2023-01-27T14:38:42.621Z"
   },
   {
    "duration": 11,
    "start_time": "2023-01-27T14:38:42.628Z"
   },
   {
    "duration": 70,
    "start_time": "2023-01-27T14:38:42.641Z"
   },
   {
    "duration": 15,
    "start_time": "2023-01-27T14:38:42.712Z"
   },
   {
    "duration": 208,
    "start_time": "2023-01-27T14:38:42.729Z"
   },
   {
    "duration": 9,
    "start_time": "2023-01-27T14:38:42.939Z"
   },
   {
    "duration": 171,
    "start_time": "2023-01-27T14:38:42.949Z"
   },
   {
    "duration": 175,
    "start_time": "2023-01-27T14:38:43.121Z"
   },
   {
    "duration": 162,
    "start_time": "2023-01-27T14:38:43.297Z"
   },
   {
    "duration": 183,
    "start_time": "2023-01-27T14:38:43.461Z"
   },
   {
    "duration": 160,
    "start_time": "2023-01-27T14:38:43.645Z"
   },
   {
    "duration": 167,
    "start_time": "2023-01-27T14:38:43.806Z"
   },
   {
    "duration": 162,
    "start_time": "2023-01-27T14:38:43.975Z"
   },
   {
    "duration": 163,
    "start_time": "2023-01-27T14:38:44.139Z"
   },
   {
    "duration": 176,
    "start_time": "2023-01-27T14:38:44.303Z"
   },
   {
    "duration": 215,
    "start_time": "2023-01-27T14:38:44.480Z"
   },
   {
    "duration": 188,
    "start_time": "2023-01-27T14:38:44.697Z"
   },
   {
    "duration": 315,
    "start_time": "2023-01-27T14:38:44.887Z"
   },
   {
    "duration": 554,
    "start_time": "2023-01-27T14:38:45.204Z"
   },
   {
    "duration": 614,
    "start_time": "2023-01-27T14:38:45.760Z"
   },
   {
    "duration": 622,
    "start_time": "2023-01-27T14:38:46.377Z"
   },
   {
    "duration": 1224,
    "start_time": "2023-01-27T14:38:47.003Z"
   },
   {
    "duration": 3,
    "start_time": "2023-01-27T14:38:48.229Z"
   },
   {
    "duration": 16,
    "start_time": "2023-01-27T14:38:48.233Z"
   },
   {
    "duration": 155,
    "start_time": "2023-01-27T14:38:48.251Z"
   },
   {
    "duration": 3,
    "start_time": "2023-01-27T14:38:48.408Z"
   },
   {
    "duration": 180,
    "start_time": "2023-01-27T14:38:48.413Z"
   },
   {
    "duration": 4,
    "start_time": "2023-01-27T14:38:48.595Z"
   },
   {
    "duration": 162,
    "start_time": "2023-01-27T14:38:48.600Z"
   },
   {
    "duration": 4,
    "start_time": "2023-01-27T14:38:48.763Z"
   },
   {
    "duration": 173,
    "start_time": "2023-01-27T14:38:48.768Z"
   },
   {
    "duration": 3,
    "start_time": "2023-01-27T14:38:48.943Z"
   },
   {
    "duration": 34,
    "start_time": "2023-01-27T14:38:48.947Z"
   },
   {
    "duration": 5,
    "start_time": "2023-01-27T14:38:48.983Z"
   },
   {
    "duration": 11,
    "start_time": "2023-01-27T14:38:48.990Z"
   },
   {
    "duration": 3,
    "start_time": "2023-01-27T14:38:49.003Z"
   },
   {
    "duration": 6,
    "start_time": "2023-01-27T14:38:49.007Z"
   },
   {
    "duration": 4,
    "start_time": "2023-01-27T14:38:49.015Z"
   },
   {
    "duration": 4,
    "start_time": "2023-01-27T14:38:49.021Z"
   },
   {
    "duration": 2768,
    "start_time": "2023-01-27T14:38:49.027Z"
   },
   {
    "duration": 6,
    "start_time": "2023-01-27T14:38:51.798Z"
   },
   {
    "duration": 41368,
    "start_time": "2023-01-27T14:38:51.892Z"
   },
   {
    "duration": 3,
    "start_time": "2023-01-27T14:39:33.262Z"
   },
   {
    "duration": 4802,
    "start_time": "2023-01-27T14:39:33.266Z"
   },
   {
    "duration": 4,
    "start_time": "2023-01-27T14:39:38.069Z"
   },
   {
    "duration": 22,
    "start_time": "2023-01-27T14:39:38.075Z"
   },
   {
    "duration": 33582,
    "start_time": "2023-01-27T14:39:38.099Z"
   },
   {
    "duration": 4988,
    "start_time": "2023-01-27T14:40:11.683Z"
   },
   {
    "duration": 5,
    "start_time": "2023-01-27T14:40:16.673Z"
   },
   {
    "duration": 128,
    "start_time": "2023-01-27T14:40:16.680Z"
   },
   {
    "duration": 0,
    "start_time": "2023-01-27T14:40:16.810Z"
   },
   {
    "duration": 0,
    "start_time": "2023-01-27T14:40:16.811Z"
   },
   {
    "duration": 0,
    "start_time": "2023-01-27T14:40:16.812Z"
   },
   {
    "duration": 0,
    "start_time": "2023-01-27T14:40:16.813Z"
   },
   {
    "duration": 0,
    "start_time": "2023-01-27T14:40:16.814Z"
   },
   {
    "duration": 0,
    "start_time": "2023-01-27T14:40:16.816Z"
   },
   {
    "duration": 0,
    "start_time": "2023-01-27T14:40:16.817Z"
   },
   {
    "duration": 0,
    "start_time": "2023-01-27T14:40:16.819Z"
   },
   {
    "duration": 1433,
    "start_time": "2023-01-27T14:45:07.583Z"
   },
   {
    "duration": 731,
    "start_time": "2023-01-27T14:45:09.018Z"
   },
   {
    "duration": 27,
    "start_time": "2023-01-27T14:45:09.751Z"
   },
   {
    "duration": 22,
    "start_time": "2023-01-27T14:45:09.791Z"
   },
   {
    "duration": 30,
    "start_time": "2023-01-27T14:45:09.815Z"
   },
   {
    "duration": 20,
    "start_time": "2023-01-27T14:45:09.847Z"
   },
   {
    "duration": 24,
    "start_time": "2023-01-27T14:45:09.869Z"
   },
   {
    "duration": 15,
    "start_time": "2023-01-27T14:45:09.895Z"
   },
   {
    "duration": 5,
    "start_time": "2023-01-27T14:45:09.912Z"
   },
   {
    "duration": 10,
    "start_time": "2023-01-27T14:45:09.918Z"
   },
   {
    "duration": 8,
    "start_time": "2023-01-27T14:45:09.930Z"
   },
   {
    "duration": 1124,
    "start_time": "2023-01-27T14:45:09.940Z"
   },
   {
    "duration": 4,
    "start_time": "2023-01-27T14:45:11.066Z"
   },
   {
    "duration": 7,
    "start_time": "2023-01-27T14:45:11.073Z"
   },
   {
    "duration": 8,
    "start_time": "2023-01-27T14:45:11.091Z"
   },
   {
    "duration": 9,
    "start_time": "2023-01-27T14:45:11.100Z"
   },
   {
    "duration": 15,
    "start_time": "2023-01-27T14:45:11.111Z"
   },
   {
    "duration": 8,
    "start_time": "2023-01-27T14:45:11.127Z"
   },
   {
    "duration": 15,
    "start_time": "2023-01-27T14:45:11.137Z"
   },
   {
    "duration": 10,
    "start_time": "2023-01-27T14:45:11.154Z"
   },
   {
    "duration": 14,
    "start_time": "2023-01-27T14:45:11.191Z"
   },
   {
    "duration": 44,
    "start_time": "2023-01-27T14:45:11.207Z"
   },
   {
    "duration": 15,
    "start_time": "2023-01-27T14:45:11.253Z"
   },
   {
    "duration": 233,
    "start_time": "2023-01-27T14:45:11.269Z"
   },
   {
    "duration": 10,
    "start_time": "2023-01-27T14:45:11.504Z"
   },
   {
    "duration": 176,
    "start_time": "2023-01-27T14:45:11.516Z"
   },
   {
    "duration": 192,
    "start_time": "2023-01-27T14:45:11.695Z"
   },
   {
    "duration": 184,
    "start_time": "2023-01-27T14:45:11.892Z"
   },
   {
    "duration": 171,
    "start_time": "2023-01-27T14:45:12.078Z"
   },
   {
    "duration": 148,
    "start_time": "2023-01-27T14:45:12.251Z"
   },
   {
    "duration": 173,
    "start_time": "2023-01-27T14:45:12.401Z"
   },
   {
    "duration": 172,
    "start_time": "2023-01-27T14:45:12.576Z"
   },
   {
    "duration": 176,
    "start_time": "2023-01-27T14:45:12.750Z"
   },
   {
    "duration": 159,
    "start_time": "2023-01-27T14:45:12.927Z"
   },
   {
    "duration": 183,
    "start_time": "2023-01-27T14:45:13.090Z"
   },
   {
    "duration": 192,
    "start_time": "2023-01-27T14:45:13.274Z"
   },
   {
    "duration": 321,
    "start_time": "2023-01-27T14:45:13.468Z"
   },
   {
    "duration": 548,
    "start_time": "2023-01-27T14:45:13.792Z"
   },
   {
    "duration": 575,
    "start_time": "2023-01-27T14:45:14.341Z"
   },
   {
    "duration": 595,
    "start_time": "2023-01-27T14:45:14.918Z"
   },
   {
    "duration": 1265,
    "start_time": "2023-01-27T14:45:15.516Z"
   },
   {
    "duration": 10,
    "start_time": "2023-01-27T14:45:16.783Z"
   },
   {
    "duration": 12,
    "start_time": "2023-01-27T14:45:16.795Z"
   },
   {
    "duration": 153,
    "start_time": "2023-01-27T14:45:16.809Z"
   },
   {
    "duration": 4,
    "start_time": "2023-01-27T14:45:16.964Z"
   },
   {
    "duration": 163,
    "start_time": "2023-01-27T14:45:16.970Z"
   },
   {
    "duration": 4,
    "start_time": "2023-01-27T14:45:17.135Z"
   },
   {
    "duration": 163,
    "start_time": "2023-01-27T14:45:17.141Z"
   },
   {
    "duration": 4,
    "start_time": "2023-01-27T14:45:17.306Z"
   },
   {
    "duration": 166,
    "start_time": "2023-01-27T14:45:17.312Z"
   },
   {
    "duration": 4,
    "start_time": "2023-01-27T14:45:17.480Z"
   },
   {
    "duration": 3,
    "start_time": "2023-01-27T14:45:17.490Z"
   },
   {
    "duration": 7,
    "start_time": "2023-01-27T14:45:17.495Z"
   },
   {
    "duration": 13,
    "start_time": "2023-01-27T14:45:17.503Z"
   },
   {
    "duration": 4,
    "start_time": "2023-01-27T14:45:17.517Z"
   },
   {
    "duration": 7,
    "start_time": "2023-01-27T14:45:17.522Z"
   },
   {
    "duration": 10,
    "start_time": "2023-01-27T14:45:17.530Z"
   },
   {
    "duration": 9,
    "start_time": "2023-01-27T14:45:17.542Z"
   },
   {
    "duration": 2348,
    "start_time": "2023-01-27T14:45:17.552Z"
   },
   {
    "duration": 5,
    "start_time": "2023-01-27T14:45:19.992Z"
   },
   {
    "duration": 41534,
    "start_time": "2023-01-27T14:45:19.999Z"
   },
   {
    "duration": 3,
    "start_time": "2023-01-27T14:46:01.535Z"
   },
   {
    "duration": 5172,
    "start_time": "2023-01-27T14:46:01.540Z"
   },
   {
    "duration": 3,
    "start_time": "2023-01-27T14:46:06.714Z"
   },
   {
    "duration": 117253,
    "start_time": "2023-01-27T14:46:06.719Z"
   },
   {
    "duration": 6568,
    "start_time": "2023-01-27T14:48:03.973Z"
   },
   {
    "duration": 4,
    "start_time": "2023-01-27T14:48:10.543Z"
   },
   {
    "duration": 127,
    "start_time": "2023-01-27T14:48:10.548Z"
   },
   {
    "duration": 0,
    "start_time": "2023-01-27T14:48:10.677Z"
   },
   {
    "duration": 0,
    "start_time": "2023-01-27T14:48:10.678Z"
   },
   {
    "duration": 0,
    "start_time": "2023-01-27T14:48:10.691Z"
   },
   {
    "duration": 0,
    "start_time": "2023-01-27T14:48:10.692Z"
   },
   {
    "duration": 0,
    "start_time": "2023-01-27T14:48:10.693Z"
   },
   {
    "duration": 0,
    "start_time": "2023-01-27T14:48:10.694Z"
   },
   {
    "duration": 0,
    "start_time": "2023-01-27T14:48:10.695Z"
   },
   {
    "duration": 0,
    "start_time": "2023-01-27T14:48:10.696Z"
   },
   {
    "duration": 2,
    "start_time": "2023-01-27T14:49:15.638Z"
   },
   {
    "duration": 1484,
    "start_time": "2023-01-27T14:52:20.552Z"
   },
   {
    "duration": 735,
    "start_time": "2023-01-27T14:52:22.038Z"
   },
   {
    "duration": 29,
    "start_time": "2023-01-27T14:52:22.774Z"
   },
   {
    "duration": 19,
    "start_time": "2023-01-27T14:52:22.805Z"
   },
   {
    "duration": 22,
    "start_time": "2023-01-27T14:52:22.826Z"
   },
   {
    "duration": 24,
    "start_time": "2023-01-27T14:52:22.849Z"
   },
   {
    "duration": 25,
    "start_time": "2023-01-27T14:52:22.875Z"
   },
   {
    "duration": 16,
    "start_time": "2023-01-27T14:52:22.902Z"
   },
   {
    "duration": 5,
    "start_time": "2023-01-27T14:52:22.919Z"
   },
   {
    "duration": 12,
    "start_time": "2023-01-27T14:52:22.926Z"
   },
   {
    "duration": 8,
    "start_time": "2023-01-27T14:52:22.940Z"
   },
   {
    "duration": 1157,
    "start_time": "2023-01-27T14:52:22.949Z"
   },
   {
    "duration": 4,
    "start_time": "2023-01-27T14:52:24.108Z"
   },
   {
    "duration": 9,
    "start_time": "2023-01-27T14:52:24.114Z"
   },
   {
    "duration": 8,
    "start_time": "2023-01-27T14:52:24.125Z"
   },
   {
    "duration": 7,
    "start_time": "2023-01-27T14:52:24.135Z"
   },
   {
    "duration": 21,
    "start_time": "2023-01-27T14:52:24.144Z"
   },
   {
    "duration": 28,
    "start_time": "2023-01-27T14:52:24.167Z"
   },
   {
    "duration": 10,
    "start_time": "2023-01-27T14:52:24.197Z"
   },
   {
    "duration": 7,
    "start_time": "2023-01-27T14:52:24.209Z"
   },
   {
    "duration": 24,
    "start_time": "2023-01-27T14:52:24.217Z"
   },
   {
    "duration": 57,
    "start_time": "2023-01-27T14:52:24.243Z"
   },
   {
    "duration": 14,
    "start_time": "2023-01-27T14:52:24.302Z"
   },
   {
    "duration": 232,
    "start_time": "2023-01-27T14:52:24.318Z"
   },
   {
    "duration": 10,
    "start_time": "2023-01-27T14:52:24.552Z"
   },
   {
    "duration": 176,
    "start_time": "2023-01-27T14:52:24.564Z"
   },
   {
    "duration": 178,
    "start_time": "2023-01-27T14:52:24.742Z"
   },
   {
    "duration": 176,
    "start_time": "2023-01-27T14:52:24.924Z"
   },
   {
    "duration": 167,
    "start_time": "2023-01-27T14:52:25.101Z"
   },
   {
    "duration": 151,
    "start_time": "2023-01-27T14:52:25.269Z"
   },
   {
    "duration": 175,
    "start_time": "2023-01-27T14:52:25.421Z"
   },
   {
    "duration": 172,
    "start_time": "2023-01-27T14:52:25.598Z"
   },
   {
    "duration": 179,
    "start_time": "2023-01-27T14:52:25.772Z"
   },
   {
    "duration": 165,
    "start_time": "2023-01-27T14:52:25.952Z"
   },
   {
    "duration": 226,
    "start_time": "2023-01-27T14:52:26.118Z"
   },
   {
    "duration": 237,
    "start_time": "2023-01-27T14:52:26.346Z"
   },
   {
    "duration": 313,
    "start_time": "2023-01-27T14:52:26.584Z"
   },
   {
    "duration": 558,
    "start_time": "2023-01-27T14:52:26.899Z"
   },
   {
    "duration": 565,
    "start_time": "2023-01-27T14:52:27.459Z"
   },
   {
    "duration": 579,
    "start_time": "2023-01-27T14:52:28.027Z"
   },
   {
    "duration": 1217,
    "start_time": "2023-01-27T14:52:28.608Z"
   },
   {
    "duration": 3,
    "start_time": "2023-01-27T14:52:29.827Z"
   },
   {
    "duration": 17,
    "start_time": "2023-01-27T14:52:29.831Z"
   },
   {
    "duration": 158,
    "start_time": "2023-01-27T14:52:29.849Z"
   },
   {
    "duration": 4,
    "start_time": "2023-01-27T14:52:30.008Z"
   },
   {
    "duration": 160,
    "start_time": "2023-01-27T14:52:30.014Z"
   },
   {
    "duration": 4,
    "start_time": "2023-01-27T14:52:30.176Z"
   },
   {
    "duration": 158,
    "start_time": "2023-01-27T14:52:30.182Z"
   },
   {
    "duration": 4,
    "start_time": "2023-01-27T14:52:30.342Z"
   },
   {
    "duration": 162,
    "start_time": "2023-01-27T14:52:30.348Z"
   },
   {
    "duration": 3,
    "start_time": "2023-01-27T14:52:30.512Z"
   },
   {
    "duration": 30,
    "start_time": "2023-01-27T14:52:30.517Z"
   },
   {
    "duration": 37,
    "start_time": "2023-01-27T14:52:30.548Z"
   },
   {
    "duration": 24,
    "start_time": "2023-01-27T14:52:30.587Z"
   },
   {
    "duration": 39,
    "start_time": "2023-01-27T14:52:30.612Z"
   },
   {
    "duration": 31,
    "start_time": "2023-01-27T14:52:30.653Z"
   },
   {
    "duration": 22,
    "start_time": "2023-01-27T14:52:30.686Z"
   },
   {
    "duration": 20,
    "start_time": "2023-01-27T14:52:30.710Z"
   },
   {
    "duration": 2565,
    "start_time": "2023-01-27T14:52:30.732Z"
   },
   {
    "duration": 96,
    "start_time": "2023-01-27T14:52:33.299Z"
   },
   {
    "duration": 41661,
    "start_time": "2023-01-27T14:52:33.396Z"
   },
   {
    "duration": 2,
    "start_time": "2023-01-27T14:53:15.059Z"
   },
   {
    "duration": 5008,
    "start_time": "2023-01-27T14:53:15.063Z"
   },
   {
    "duration": 5,
    "start_time": "2023-01-27T14:53:20.073Z"
   },
   {
    "duration": 17,
    "start_time": "2023-01-27T14:53:20.079Z"
   },
   {
    "duration": 400379,
    "start_time": "2023-01-27T14:53:20.098Z"
   },
   {
    "duration": 4,
    "start_time": "2023-01-27T15:00:00.479Z"
   },
   {
    "duration": 695,
    "start_time": "2023-01-27T15:00:00.490Z"
   },
   {
    "duration": 7,
    "start_time": "2023-01-27T15:00:01.187Z"
   },
   {
    "duration": 648,
    "start_time": "2023-01-27T15:00:01.195Z"
   },
   {
    "duration": 6,
    "start_time": "2023-01-27T15:00:01.845Z"
   },
   {
    "duration": 50,
    "start_time": "2023-01-27T15:00:01.853Z"
   },
   {
    "duration": 87,
    "start_time": "2023-01-27T15:00:01.904Z"
   },
   {
    "duration": 50,
    "start_time": "2023-01-27T15:00:01.992Z"
   },
   {
    "duration": 44,
    "start_time": "2023-01-27T15:00:02.044Z"
   },
   {
    "duration": 86,
    "start_time": "2023-01-27T15:08:53.470Z"
   },
   {
    "duration": 93,
    "start_time": "2023-01-27T15:09:10.652Z"
   },
   {
    "duration": 84,
    "start_time": "2023-01-27T15:10:14.164Z"
   },
   {
    "duration": 106,
    "start_time": "2023-01-27T15:10:44.973Z"
   },
   {
    "duration": 75,
    "start_time": "2023-01-27T15:11:09.007Z"
   },
   {
    "duration": 81,
    "start_time": "2023-01-27T15:12:40.970Z"
   },
   {
    "duration": 1479,
    "start_time": "2023-01-27T15:13:54.889Z"
   },
   {
    "duration": 847,
    "start_time": "2023-01-27T15:13:56.371Z"
   },
   {
    "duration": 24,
    "start_time": "2023-01-27T15:13:57.221Z"
   },
   {
    "duration": 23,
    "start_time": "2023-01-27T15:13:57.247Z"
   },
   {
    "duration": 40,
    "start_time": "2023-01-27T15:13:57.271Z"
   },
   {
    "duration": 34,
    "start_time": "2023-01-27T15:13:57.313Z"
   },
   {
    "duration": 14,
    "start_time": "2023-01-27T15:13:57.349Z"
   },
   {
    "duration": 43,
    "start_time": "2023-01-27T15:13:57.365Z"
   },
   {
    "duration": 7,
    "start_time": "2023-01-27T15:13:57.410Z"
   },
   {
    "duration": 15,
    "start_time": "2023-01-27T15:13:57.420Z"
   },
   {
    "duration": 5,
    "start_time": "2023-01-27T15:13:57.438Z"
   },
   {
    "duration": 1310,
    "start_time": "2023-01-27T15:13:57.445Z"
   },
   {
    "duration": 6,
    "start_time": "2023-01-27T15:13:58.757Z"
   },
   {
    "duration": 9,
    "start_time": "2023-01-27T15:13:58.764Z"
   },
   {
    "duration": 24,
    "start_time": "2023-01-27T15:13:58.775Z"
   },
   {
    "duration": 8,
    "start_time": "2023-01-27T15:13:58.800Z"
   },
   {
    "duration": 34,
    "start_time": "2023-01-27T15:13:58.810Z"
   },
   {
    "duration": 12,
    "start_time": "2023-01-27T15:13:58.846Z"
   },
   {
    "duration": 15,
    "start_time": "2023-01-27T15:13:58.860Z"
   },
   {
    "duration": 8,
    "start_time": "2023-01-27T15:13:58.892Z"
   },
   {
    "duration": 20,
    "start_time": "2023-01-27T15:13:58.902Z"
   },
   {
    "duration": 45,
    "start_time": "2023-01-27T15:13:58.924Z"
   },
   {
    "duration": 15,
    "start_time": "2023-01-27T15:13:58.992Z"
   },
   {
    "duration": 235,
    "start_time": "2023-01-27T15:13:59.009Z"
   },
   {
    "duration": 10,
    "start_time": "2023-01-27T15:13:59.246Z"
   },
   {
    "duration": 187,
    "start_time": "2023-01-27T15:13:59.258Z"
   },
   {
    "duration": 191,
    "start_time": "2023-01-27T15:13:59.447Z"
   },
   {
    "duration": 172,
    "start_time": "2023-01-27T15:13:59.643Z"
   },
   {
    "duration": 177,
    "start_time": "2023-01-27T15:13:59.817Z"
   },
   {
    "duration": 162,
    "start_time": "2023-01-27T15:13:59.997Z"
   },
   {
    "duration": 178,
    "start_time": "2023-01-27T15:14:00.161Z"
   },
   {
    "duration": 198,
    "start_time": "2023-01-27T15:14:00.341Z"
   },
   {
    "duration": 176,
    "start_time": "2023-01-27T15:14:00.541Z"
   },
   {
    "duration": 167,
    "start_time": "2023-01-27T15:14:00.719Z"
   },
   {
    "duration": 204,
    "start_time": "2023-01-27T15:14:00.887Z"
   },
   {
    "duration": 200,
    "start_time": "2023-01-27T15:14:01.093Z"
   },
   {
    "duration": 339,
    "start_time": "2023-01-27T15:14:01.295Z"
   },
   {
    "duration": 549,
    "start_time": "2023-01-27T15:14:01.635Z"
   },
   {
    "duration": 606,
    "start_time": "2023-01-27T15:14:02.185Z"
   },
   {
    "duration": 569,
    "start_time": "2023-01-27T15:14:02.793Z"
   },
   {
    "duration": 1259,
    "start_time": "2023-01-27T15:14:03.364Z"
   },
   {
    "duration": 3,
    "start_time": "2023-01-27T15:14:04.624Z"
   },
   {
    "duration": 7,
    "start_time": "2023-01-27T15:14:04.629Z"
   },
   {
    "duration": 167,
    "start_time": "2023-01-27T15:14:04.637Z"
   },
   {
    "duration": 4,
    "start_time": "2023-01-27T15:14:04.806Z"
   },
   {
    "duration": 182,
    "start_time": "2023-01-27T15:14:04.812Z"
   },
   {
    "duration": 4,
    "start_time": "2023-01-27T15:14:04.996Z"
   },
   {
    "duration": 169,
    "start_time": "2023-01-27T15:14:05.002Z"
   },
   {
    "duration": 4,
    "start_time": "2023-01-27T15:14:05.173Z"
   },
   {
    "duration": 194,
    "start_time": "2023-01-27T15:14:05.179Z"
   },
   {
    "duration": 5,
    "start_time": "2023-01-27T15:14:05.375Z"
   },
   {
    "duration": 11,
    "start_time": "2023-01-27T15:14:05.381Z"
   },
   {
    "duration": 9,
    "start_time": "2023-01-27T15:14:05.394Z"
   },
   {
    "duration": 13,
    "start_time": "2023-01-27T15:14:05.405Z"
   },
   {
    "duration": 4,
    "start_time": "2023-01-27T15:14:05.420Z"
   },
   {
    "duration": 5,
    "start_time": "2023-01-27T15:14:05.426Z"
   },
   {
    "duration": 7,
    "start_time": "2023-01-27T15:14:05.433Z"
   },
   {
    "duration": 8,
    "start_time": "2023-01-27T15:14:05.442Z"
   },
   {
    "duration": 2945,
    "start_time": "2023-01-27T15:14:05.452Z"
   },
   {
    "duration": 7,
    "start_time": "2023-01-27T15:14:08.399Z"
   },
   {
    "duration": 42585,
    "start_time": "2023-01-27T15:14:08.492Z"
   },
   {
    "duration": 2,
    "start_time": "2023-01-27T15:14:51.079Z"
   },
   {
    "duration": 5073,
    "start_time": "2023-01-27T15:14:51.091Z"
   },
   {
    "duration": 6,
    "start_time": "2023-01-27T15:14:56.170Z"
   },
   {
    "duration": 83,
    "start_time": "2023-01-27T15:14:56.178Z"
   },
   {
    "duration": 0,
    "start_time": "2023-01-27T15:14:56.263Z"
   },
   {
    "duration": 0,
    "start_time": "2023-01-27T15:14:56.264Z"
   },
   {
    "duration": 0,
    "start_time": "2023-01-27T15:14:56.265Z"
   },
   {
    "duration": 0,
    "start_time": "2023-01-27T15:14:56.266Z"
   },
   {
    "duration": 0,
    "start_time": "2023-01-27T15:14:56.268Z"
   },
   {
    "duration": 0,
    "start_time": "2023-01-27T15:14:56.269Z"
   },
   {
    "duration": 0,
    "start_time": "2023-01-27T15:14:56.271Z"
   },
   {
    "duration": 0,
    "start_time": "2023-01-27T15:14:56.272Z"
   },
   {
    "duration": 0,
    "start_time": "2023-01-27T15:14:56.273Z"
   },
   {
    "duration": 0,
    "start_time": "2023-01-27T15:14:56.277Z"
   },
   {
    "duration": 0,
    "start_time": "2023-01-27T15:14:56.278Z"
   },
   {
    "duration": 544368,
    "start_time": "2023-01-27T15:27:26.779Z"
   },
   {
    "duration": 78,
    "start_time": "2023-01-27T19:48:06.866Z"
   },
   {
    "duration": 1621,
    "start_time": "2023-01-27T19:48:17.983Z"
   },
   {
    "duration": 3384,
    "start_time": "2023-01-27T19:48:19.606Z"
   },
   {
    "duration": 26,
    "start_time": "2023-01-27T19:48:22.991Z"
   },
   {
    "duration": 21,
    "start_time": "2023-01-27T19:48:23.019Z"
   },
   {
    "duration": 38,
    "start_time": "2023-01-27T19:48:23.042Z"
   },
   {
    "duration": 20,
    "start_time": "2023-01-27T19:48:23.082Z"
   },
   {
    "duration": 17,
    "start_time": "2023-01-27T19:48:23.104Z"
   },
   {
    "duration": 28,
    "start_time": "2023-01-27T19:48:23.123Z"
   },
   {
    "duration": 6,
    "start_time": "2023-01-27T19:48:23.153Z"
   },
   {
    "duration": 32,
    "start_time": "2023-01-27T19:48:23.163Z"
   },
   {
    "duration": 12,
    "start_time": "2023-01-27T19:48:23.198Z"
   },
   {
    "duration": 1163,
    "start_time": "2023-01-27T19:48:23.212Z"
   },
   {
    "duration": 4,
    "start_time": "2023-01-27T19:48:24.376Z"
   },
   {
    "duration": 11,
    "start_time": "2023-01-27T19:48:24.381Z"
   },
   {
    "duration": 11,
    "start_time": "2023-01-27T19:48:24.394Z"
   },
   {
    "duration": 9,
    "start_time": "2023-01-27T19:48:24.407Z"
   },
   {
    "duration": 22,
    "start_time": "2023-01-27T19:48:24.417Z"
   },
   {
    "duration": 16,
    "start_time": "2023-01-27T19:48:24.441Z"
   },
   {
    "duration": 15,
    "start_time": "2023-01-27T19:48:24.459Z"
   },
   {
    "duration": 16,
    "start_time": "2023-01-27T19:48:24.476Z"
   },
   {
    "duration": 11,
    "start_time": "2023-01-27T19:48:24.493Z"
   },
   {
    "duration": 45,
    "start_time": "2023-01-27T19:48:24.506Z"
   },
   {
    "duration": 14,
    "start_time": "2023-01-27T19:48:24.553Z"
   },
   {
    "duration": 217,
    "start_time": "2023-01-27T19:48:24.568Z"
   },
   {
    "duration": 11,
    "start_time": "2023-01-27T19:48:24.791Z"
   },
   {
    "duration": 166,
    "start_time": "2023-01-27T19:48:24.803Z"
   },
   {
    "duration": 197,
    "start_time": "2023-01-27T19:48:24.971Z"
   },
   {
    "duration": 164,
    "start_time": "2023-01-27T19:48:25.173Z"
   },
   {
    "duration": 171,
    "start_time": "2023-01-27T19:48:25.339Z"
   },
   {
    "duration": 160,
    "start_time": "2023-01-27T19:48:25.512Z"
   },
   {
    "duration": 178,
    "start_time": "2023-01-27T19:48:25.674Z"
   },
   {
    "duration": 165,
    "start_time": "2023-01-27T19:48:25.854Z"
   },
   {
    "duration": 178,
    "start_time": "2023-01-27T19:48:26.021Z"
   },
   {
    "duration": 225,
    "start_time": "2023-01-27T19:48:26.201Z"
   },
   {
    "duration": 208,
    "start_time": "2023-01-27T19:48:26.428Z"
   },
   {
    "duration": 191,
    "start_time": "2023-01-27T19:48:26.638Z"
   },
   {
    "duration": 305,
    "start_time": "2023-01-27T19:48:26.830Z"
   },
   {
    "duration": 532,
    "start_time": "2023-01-27T19:48:27.136Z"
   },
   {
    "duration": 598,
    "start_time": "2023-01-27T19:48:27.670Z"
   },
   {
    "duration": 616,
    "start_time": "2023-01-27T19:48:28.270Z"
   },
   {
    "duration": 1219,
    "start_time": "2023-01-27T19:48:28.891Z"
   },
   {
    "duration": 3,
    "start_time": "2023-01-27T19:48:30.112Z"
   },
   {
    "duration": 25,
    "start_time": "2023-01-27T19:48:30.117Z"
   },
   {
    "duration": 161,
    "start_time": "2023-01-27T19:48:30.144Z"
   },
   {
    "duration": 4,
    "start_time": "2023-01-27T19:48:30.307Z"
   },
   {
    "duration": 184,
    "start_time": "2023-01-27T19:48:30.312Z"
   },
   {
    "duration": 4,
    "start_time": "2023-01-27T19:48:30.497Z"
   },
   {
    "duration": 169,
    "start_time": "2023-01-27T19:48:30.502Z"
   },
   {
    "duration": 4,
    "start_time": "2023-01-27T19:48:30.672Z"
   },
   {
    "duration": 206,
    "start_time": "2023-01-27T19:48:30.678Z"
   },
   {
    "duration": 5,
    "start_time": "2023-01-27T19:48:30.886Z"
   },
   {
    "duration": 23,
    "start_time": "2023-01-27T19:48:30.892Z"
   },
   {
    "duration": 32,
    "start_time": "2023-01-27T19:48:30.917Z"
   },
   {
    "duration": 27,
    "start_time": "2023-01-27T19:48:30.951Z"
   },
   {
    "duration": 35,
    "start_time": "2023-01-27T19:48:30.980Z"
   },
   {
    "duration": 19,
    "start_time": "2023-01-27T19:48:31.017Z"
   },
   {
    "duration": 38,
    "start_time": "2023-01-27T19:48:31.038Z"
   },
   {
    "duration": 24,
    "start_time": "2023-01-27T19:48:31.078Z"
   },
   {
    "duration": 3028,
    "start_time": "2023-01-27T19:48:31.104Z"
   },
   {
    "duration": 6,
    "start_time": "2023-01-27T19:48:34.190Z"
   },
   {
    "duration": 40923,
    "start_time": "2023-01-27T19:48:34.197Z"
   },
   {
    "duration": 3,
    "start_time": "2023-01-27T19:49:15.122Z"
   },
   {
    "duration": 5113,
    "start_time": "2023-01-27T19:49:15.127Z"
   },
   {
    "duration": 4,
    "start_time": "2023-01-27T19:49:20.242Z"
   },
   {
    "duration": 2468553,
    "start_time": "2023-01-27T19:49:20.248Z"
   },
   {
    "duration": 3,
    "start_time": "2023-01-27T20:30:28.802Z"
   },
   {
    "duration": 7,
    "start_time": "2023-01-27T20:30:28.806Z"
   },
   {
    "duration": 623,
    "start_time": "2023-01-27T20:30:28.824Z"
   },
   {
    "duration": 5,
    "start_time": "2023-01-27T20:30:29.448Z"
   },
   {
    "duration": 601,
    "start_time": "2023-01-27T20:30:29.454Z"
   },
   {
    "duration": 5,
    "start_time": "2023-01-27T20:30:30.057Z"
   },
   {
    "duration": 15,
    "start_time": "2023-01-27T20:30:30.063Z"
   },
   {
    "duration": 11,
    "start_time": "2023-01-27T20:30:30.079Z"
   },
   {
    "duration": 23,
    "start_time": "2023-01-27T20:30:30.091Z"
   },
   {
    "duration": 26,
    "start_time": "2023-01-27T20:30:30.116Z"
   },
   {
    "duration": 17,
    "start_time": "2023-01-27T20:30:30.147Z"
   },
   {
    "duration": 4,
    "start_time": "2023-01-27T20:30:43.364Z"
   },
   {
    "duration": 4,
    "start_time": "2023-01-27T20:31:25.981Z"
   },
   {
    "duration": 1601,
    "start_time": "2023-01-28T10:13:00.700Z"
   },
   {
    "duration": 1917,
    "start_time": "2023-01-28T10:13:02.303Z"
   },
   {
    "duration": 31,
    "start_time": "2023-01-28T10:13:04.222Z"
   },
   {
    "duration": 25,
    "start_time": "2023-01-28T10:13:04.256Z"
   },
   {
    "duration": 59,
    "start_time": "2023-01-28T10:13:04.283Z"
   },
   {
    "duration": 31,
    "start_time": "2023-01-28T10:13:04.344Z"
   },
   {
    "duration": 34,
    "start_time": "2023-01-28T10:13:04.377Z"
   },
   {
    "duration": 34,
    "start_time": "2023-01-28T10:13:04.413Z"
   },
   {
    "duration": 6,
    "start_time": "2023-01-28T10:13:04.449Z"
   },
   {
    "duration": 27,
    "start_time": "2023-01-28T10:13:04.459Z"
   },
   {
    "duration": 26,
    "start_time": "2023-01-28T10:13:04.488Z"
   },
   {
    "duration": 1290,
    "start_time": "2023-01-28T10:13:04.516Z"
   },
   {
    "duration": 5,
    "start_time": "2023-01-28T10:13:05.807Z"
   },
   {
    "duration": 55,
    "start_time": "2023-01-28T10:13:05.814Z"
   },
   {
    "duration": 20,
    "start_time": "2023-01-28T10:13:05.870Z"
   },
   {
    "duration": 29,
    "start_time": "2023-01-28T10:13:05.892Z"
   },
   {
    "duration": 27,
    "start_time": "2023-01-28T10:13:05.922Z"
   },
   {
    "duration": 42,
    "start_time": "2023-01-28T10:13:05.950Z"
   },
   {
    "duration": 12,
    "start_time": "2023-01-28T10:13:05.994Z"
   },
   {
    "duration": 8,
    "start_time": "2023-01-28T10:13:06.008Z"
   },
   {
    "duration": 17,
    "start_time": "2023-01-28T10:13:06.017Z"
   },
   {
    "duration": 47,
    "start_time": "2023-01-28T10:13:06.036Z"
   },
   {
    "duration": 29,
    "start_time": "2023-01-28T10:13:06.085Z"
   },
   {
    "duration": 240,
    "start_time": "2023-01-28T10:13:06.116Z"
   },
   {
    "duration": 10,
    "start_time": "2023-01-28T10:13:06.357Z"
   },
   {
    "duration": 176,
    "start_time": "2023-01-28T10:13:06.368Z"
   },
   {
    "duration": 171,
    "start_time": "2023-01-28T10:13:06.546Z"
   },
   {
    "duration": 172,
    "start_time": "2023-01-28T10:13:06.722Z"
   },
   {
    "duration": 184,
    "start_time": "2023-01-28T10:13:06.896Z"
   },
   {
    "duration": 197,
    "start_time": "2023-01-28T10:13:07.082Z"
   },
   {
    "duration": 181,
    "start_time": "2023-01-28T10:13:07.281Z"
   },
   {
    "duration": 185,
    "start_time": "2023-01-28T10:13:07.464Z"
   },
   {
    "duration": 184,
    "start_time": "2023-01-28T10:13:07.650Z"
   },
   {
    "duration": 149,
    "start_time": "2023-01-28T10:13:07.835Z"
   },
   {
    "duration": 181,
    "start_time": "2023-01-28T10:13:07.985Z"
   },
   {
    "duration": 194,
    "start_time": "2023-01-28T10:13:08.168Z"
   },
   {
    "duration": 319,
    "start_time": "2023-01-28T10:13:08.364Z"
   },
   {
    "duration": 573,
    "start_time": "2023-01-28T10:13:08.685Z"
   },
   {
    "duration": 577,
    "start_time": "2023-01-28T10:13:09.260Z"
   },
   {
    "duration": 629,
    "start_time": "2023-01-28T10:13:09.839Z"
   },
   {
    "duration": 1187,
    "start_time": "2023-01-28T10:13:10.470Z"
   },
   {
    "duration": 3,
    "start_time": "2023-01-28T10:13:11.659Z"
   },
   {
    "duration": 9,
    "start_time": "2023-01-28T10:13:11.663Z"
   },
   {
    "duration": 162,
    "start_time": "2023-01-28T10:13:11.673Z"
   },
   {
    "duration": 4,
    "start_time": "2023-01-28T10:13:11.837Z"
   },
   {
    "duration": 272,
    "start_time": "2023-01-28T10:13:11.842Z"
   },
   {
    "duration": 4,
    "start_time": "2023-01-28T10:13:12.116Z"
   },
   {
    "duration": 328,
    "start_time": "2023-01-28T10:13:12.121Z"
   },
   {
    "duration": 5,
    "start_time": "2023-01-28T10:13:12.502Z"
   },
   {
    "duration": 331,
    "start_time": "2023-01-28T10:13:12.509Z"
   },
   {
    "duration": 3,
    "start_time": "2023-01-28T10:13:12.841Z"
   },
   {
    "duration": 6,
    "start_time": "2023-01-28T10:13:12.846Z"
   },
   {
    "duration": 3,
    "start_time": "2023-01-28T10:13:12.902Z"
   },
   {
    "duration": 22,
    "start_time": "2023-01-28T10:13:12.907Z"
   },
   {
    "duration": 3,
    "start_time": "2023-01-28T10:13:12.930Z"
   },
   {
    "duration": 10,
    "start_time": "2023-01-28T10:13:12.934Z"
   },
   {
    "duration": 6,
    "start_time": "2023-01-28T10:13:12.945Z"
   },
   {
    "duration": 50,
    "start_time": "2023-01-28T10:13:12.953Z"
   },
   {
    "duration": 3204,
    "start_time": "2023-01-28T10:13:13.005Z"
   },
   {
    "duration": 94,
    "start_time": "2023-01-28T10:13:16.211Z"
   },
   {
    "duration": 52537,
    "start_time": "2023-01-28T10:13:16.307Z"
   },
   {
    "duration": 3,
    "start_time": "2023-01-28T10:14:08.846Z"
   },
   {
    "duration": 6391,
    "start_time": "2023-01-28T10:14:08.850Z"
   },
   {
    "duration": 4,
    "start_time": "2023-01-28T10:14:15.243Z"
   },
   {
    "duration": 3181244,
    "start_time": "2023-01-28T10:14:15.249Z"
   },
   {
    "duration": 10,
    "start_time": "2023-01-28T11:07:16.494Z"
   },
   {
    "duration": 6,
    "start_time": "2023-01-28T11:07:16.506Z"
   },
   {
    "duration": 801,
    "start_time": "2023-01-28T11:07:16.514Z"
   },
   {
    "duration": 5,
    "start_time": "2023-01-28T11:07:17.317Z"
   },
   {
    "duration": 801,
    "start_time": "2023-01-28T11:07:17.324Z"
   },
   {
    "duration": 6,
    "start_time": "2023-01-28T11:07:18.127Z"
   },
   {
    "duration": 9,
    "start_time": "2023-01-28T11:07:18.135Z"
   },
   {
    "duration": 13,
    "start_time": "2023-01-28T11:07:18.146Z"
   },
   {
    "duration": 8,
    "start_time": "2023-01-28T11:07:18.160Z"
   },
   {
    "duration": 9,
    "start_time": "2023-01-28T11:07:18.170Z"
   },
   {
    "duration": 9,
    "start_time": "2023-01-28T11:07:18.180Z"
   },
   {
    "duration": 7,
    "start_time": "2023-01-28T11:32:25.021Z"
   },
   {
    "duration": 6,
    "start_time": "2023-01-28T11:32:25.623Z"
   },
   {
    "duration": 6,
    "start_time": "2023-01-28T11:33:30.970Z"
   },
   {
    "duration": 6,
    "start_time": "2023-01-28T11:33:31.460Z"
   },
   {
    "duration": 6,
    "start_time": "2023-01-28T11:34:51.812Z"
   },
   {
    "duration": 6,
    "start_time": "2023-01-28T11:34:52.023Z"
   },
   {
    "duration": 117,
    "start_time": "2023-01-28T11:35:04.562Z"
   },
   {
    "duration": 6,
    "start_time": "2023-01-28T11:35:44.776Z"
   },
   {
    "duration": 6,
    "start_time": "2023-01-28T11:35:45.048Z"
   },
   {
    "duration": 9,
    "start_time": "2023-01-28T11:35:48.132Z"
   },
   {
    "duration": 5,
    "start_time": "2023-01-28T11:37:27.048Z"
   },
   {
    "duration": 6,
    "start_time": "2023-01-28T11:37:42.222Z"
   },
   {
    "duration": 11,
    "start_time": "2023-01-28T11:38:24.586Z"
   },
   {
    "duration": 9,
    "start_time": "2023-01-28T11:38:44.777Z"
   },
   {
    "duration": 6,
    "start_time": "2023-01-28T11:40:44.509Z"
   },
   {
    "duration": 4,
    "start_time": "2023-01-28T11:40:49.923Z"
   },
   {
    "duration": 3,
    "start_time": "2023-01-28T11:41:03.074Z"
   },
   {
    "duration": 3,
    "start_time": "2023-01-28T11:41:16.561Z"
   },
   {
    "duration": 5,
    "start_time": "2023-01-28T11:41:21.652Z"
   },
   {
    "duration": 5,
    "start_time": "2023-01-28T11:41:46.177Z"
   },
   {
    "duration": 4,
    "start_time": "2023-01-28T11:41:53.183Z"
   },
   {
    "duration": 4,
    "start_time": "2023-01-28T11:41:57.076Z"
   },
   {
    "duration": 9,
    "start_time": "2023-01-28T11:42:40.717Z"
   },
   {
    "duration": 6,
    "start_time": "2023-01-28T11:42:52.240Z"
   },
   {
    "duration": 3,
    "start_time": "2023-01-28T11:43:30.152Z"
   },
   {
    "duration": 3,
    "start_time": "2023-01-28T11:44:44.332Z"
   },
   {
    "duration": 5,
    "start_time": "2023-01-28T11:45:29.414Z"
   },
   {
    "duration": 5,
    "start_time": "2023-01-28T11:46:02.311Z"
   },
   {
    "duration": 7,
    "start_time": "2023-01-28T11:46:29.642Z"
   },
   {
    "duration": 7,
    "start_time": "2023-01-28T11:46:40.589Z"
   },
   {
    "duration": 8,
    "start_time": "2023-01-28T11:46:46.181Z"
   },
   {
    "duration": 6,
    "start_time": "2023-01-28T11:46:55.264Z"
   },
   {
    "duration": 3,
    "start_time": "2023-01-28T11:46:57.455Z"
   },
   {
    "duration": 9,
    "start_time": "2023-01-28T11:49:36.316Z"
   },
   {
    "duration": 3,
    "start_time": "2023-01-28T11:49:48.445Z"
   },
   {
    "duration": 42,
    "start_time": "2023-01-28T11:49:49.351Z"
   },
   {
    "duration": 4,
    "start_time": "2023-01-28T11:50:15.738Z"
   },
   {
    "duration": 60,
    "start_time": "2023-01-29T10:29:02.999Z"
   },
   {
    "duration": 1660,
    "start_time": "2023-01-29T10:29:10.554Z"
   },
   {
    "duration": 2867,
    "start_time": "2023-01-29T10:29:12.216Z"
   },
   {
    "duration": 34,
    "start_time": "2023-01-29T10:29:15.086Z"
   },
   {
    "duration": 43,
    "start_time": "2023-01-29T10:29:15.122Z"
   },
   {
    "duration": 38,
    "start_time": "2023-01-29T10:29:15.169Z"
   },
   {
    "duration": 32,
    "start_time": "2023-01-29T10:29:15.209Z"
   },
   {
    "duration": 17,
    "start_time": "2023-01-29T10:29:15.247Z"
   },
   {
    "duration": 19,
    "start_time": "2023-01-29T10:29:15.266Z"
   },
   {
    "duration": 41,
    "start_time": "2023-01-29T10:29:15.287Z"
   },
   {
    "duration": 39,
    "start_time": "2023-01-29T10:29:15.330Z"
   },
   {
    "duration": 17,
    "start_time": "2023-01-29T10:29:15.371Z"
   },
   {
    "duration": 1358,
    "start_time": "2023-01-29T10:29:15.389Z"
   },
   {
    "duration": 6,
    "start_time": "2023-01-29T10:29:16.749Z"
   },
   {
    "duration": 5,
    "start_time": "2023-01-29T10:29:16.759Z"
   },
   {
    "duration": 9,
    "start_time": "2023-01-29T10:29:16.766Z"
   },
   {
    "duration": 7,
    "start_time": "2023-01-29T10:29:16.778Z"
   },
   {
    "duration": 44,
    "start_time": "2023-01-29T10:29:16.787Z"
   },
   {
    "duration": 17,
    "start_time": "2023-01-29T10:29:16.833Z"
   },
   {
    "duration": 18,
    "start_time": "2023-01-29T10:29:16.854Z"
   },
   {
    "duration": 9,
    "start_time": "2023-01-29T10:29:16.874Z"
   },
   {
    "duration": 37,
    "start_time": "2023-01-29T10:29:16.885Z"
   },
   {
    "duration": 49,
    "start_time": "2023-01-29T10:29:16.929Z"
   },
   {
    "duration": 16,
    "start_time": "2023-01-29T10:29:16.979Z"
   },
   {
    "duration": 267,
    "start_time": "2023-01-29T10:29:16.997Z"
   },
   {
    "duration": 10,
    "start_time": "2023-01-29T10:29:17.266Z"
   },
   {
    "duration": 208,
    "start_time": "2023-01-29T10:29:17.277Z"
   },
   {
    "duration": 201,
    "start_time": "2023-01-29T10:29:17.487Z"
   },
   {
    "duration": 200,
    "start_time": "2023-01-29T10:29:17.689Z"
   },
   {
    "duration": 215,
    "start_time": "2023-01-29T10:29:17.891Z"
   },
   {
    "duration": 273,
    "start_time": "2023-01-29T10:29:18.108Z"
   },
   {
    "duration": 225,
    "start_time": "2023-01-29T10:29:18.383Z"
   },
   {
    "duration": 227,
    "start_time": "2023-01-29T10:29:18.610Z"
   },
   {
    "duration": 216,
    "start_time": "2023-01-29T10:29:18.840Z"
   },
   {
    "duration": 199,
    "start_time": "2023-01-29T10:29:19.058Z"
   },
   {
    "duration": 213,
    "start_time": "2023-01-29T10:29:19.259Z"
   },
   {
    "duration": 218,
    "start_time": "2023-01-29T10:29:19.474Z"
   },
   {
    "duration": 350,
    "start_time": "2023-01-29T10:29:19.695Z"
   },
   {
    "duration": 745,
    "start_time": "2023-01-29T10:29:20.048Z"
   },
   {
    "duration": 644,
    "start_time": "2023-01-29T10:29:20.796Z"
   },
   {
    "duration": 691,
    "start_time": "2023-01-29T10:29:21.442Z"
   },
   {
    "duration": 1263,
    "start_time": "2023-01-29T10:29:22.142Z"
   },
   {
    "duration": 3,
    "start_time": "2023-01-29T10:29:23.407Z"
   },
   {
    "duration": 16,
    "start_time": "2023-01-29T10:29:23.412Z"
   },
   {
    "duration": 200,
    "start_time": "2023-01-29T10:29:23.430Z"
   },
   {
    "duration": 7,
    "start_time": "2023-01-29T10:29:23.633Z"
   },
   {
    "duration": 192,
    "start_time": "2023-01-29T10:29:23.644Z"
   },
   {
    "duration": 7,
    "start_time": "2023-01-29T10:29:23.838Z"
   },
   {
    "duration": 195,
    "start_time": "2023-01-29T10:29:23.849Z"
   },
   {
    "duration": 5,
    "start_time": "2023-01-29T10:29:24.046Z"
   },
   {
    "duration": 215,
    "start_time": "2023-01-29T10:29:24.053Z"
   },
   {
    "duration": 3,
    "start_time": "2023-01-29T10:29:24.271Z"
   },
   {
    "duration": 10,
    "start_time": "2023-01-29T10:29:24.276Z"
   },
   {
    "duration": 15,
    "start_time": "2023-01-29T10:29:24.288Z"
   },
   {
    "duration": 4,
    "start_time": "2023-01-29T10:29:24.305Z"
   },
   {
    "duration": 4,
    "start_time": "2023-01-29T10:29:24.327Z"
   },
   {
    "duration": 19,
    "start_time": "2023-01-29T10:29:24.332Z"
   },
   {
    "duration": 7,
    "start_time": "2023-01-29T10:29:24.353Z"
   },
   {
    "duration": 5896,
    "start_time": "2023-01-29T10:29:24.362Z"
   },
   {
    "duration": 6,
    "start_time": "2023-01-29T10:29:30.328Z"
   },
   {
    "duration": 59039,
    "start_time": "2023-01-29T10:29:30.341Z"
   },
   {
    "duration": 2,
    "start_time": "2023-01-29T10:30:29.382Z"
   },
   {
    "duration": 7074,
    "start_time": "2023-01-29T10:30:29.386Z"
   },
   {
    "duration": 9,
    "start_time": "2023-01-29T10:30:36.462Z"
   },
   {
    "duration": 3328790,
    "start_time": "2023-01-29T10:30:36.474Z"
   },
   {
    "duration": 4,
    "start_time": "2023-01-29T11:26:05.265Z"
   },
   {
    "duration": 23,
    "start_time": "2023-01-29T11:26:05.271Z"
   },
   {
    "duration": 873,
    "start_time": "2023-01-29T11:26:05.295Z"
   },
   {
    "duration": 5,
    "start_time": "2023-01-29T11:26:06.170Z"
   },
   {
    "duration": 914,
    "start_time": "2023-01-29T11:26:06.176Z"
   },
   {
    "duration": 6,
    "start_time": "2023-01-29T11:26:07.091Z"
   },
   {
    "duration": 18,
    "start_time": "2023-01-29T11:26:07.098Z"
   },
   {
    "duration": 16,
    "start_time": "2023-01-29T11:26:07.118Z"
   },
   {
    "duration": 16,
    "start_time": "2023-01-29T11:26:07.137Z"
   },
   {
    "duration": 16,
    "start_time": "2023-01-29T11:26:07.155Z"
   },
   {
    "duration": 9,
    "start_time": "2023-01-29T11:26:07.173Z"
   },
   {
    "duration": 51,
    "start_time": "2023-01-29T11:26:07.184Z"
   },
   {
    "duration": 6,
    "start_time": "2023-01-29T11:26:07.237Z"
   }
  ],
  "kernelspec": {
   "display_name": "Python 3 (ipykernel)",
   "language": "python",
   "name": "python3"
  },
  "language_info": {
   "codemirror_mode": {
    "name": "ipython",
    "version": 3
   },
   "file_extension": ".py",
   "mimetype": "text/x-python",
   "name": "python",
   "nbconvert_exporter": "python",
   "pygments_lexer": "ipython3",
   "version": "3.9.16"
  },
  "toc": {
   "base_numbering": 1,
   "nav_menu": {},
   "number_sections": true,
   "sideBar": true,
   "skip_h1_title": true,
   "title_cell": "Содержание",
   "title_sidebar": "Contents",
   "toc_cell": true,
   "toc_position": {
    "height": "calc(100% - 180px)",
    "left": "10px",
    "top": "150px",
    "width": "270.172px"
   },
   "toc_section_display": true,
   "toc_window_display": true
  }
 },
 "nbformat": 4,
 "nbformat_minor": 2
}
