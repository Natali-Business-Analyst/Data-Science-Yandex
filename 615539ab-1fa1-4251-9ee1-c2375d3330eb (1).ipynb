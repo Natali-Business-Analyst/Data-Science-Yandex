{
 "cells": [
  {
   "cell_type": "markdown",
   "metadata": {},
   "source": [
    "# Выбор локации для скважины"
   ]
  },
  {
   "cell_type": "markdown",
   "metadata": {},
   "source": [
    "Допустим, вы работаете в добывающей компании «ГлавРосГосНефть». Нужно решить, где бурить новую скважину.\n",
    "\n",
    "Вам предоставлены пробы нефти в трёх регионах: в каждом 10 000 месторождений, где измерили качество нефти и объём её запасов. Постройте модель машинного обучения, которая поможет определить регион, где добыча принесёт наибольшую прибыль. Проанализируйте возможную прибыль и риски техникой *Bootstrap.*\n",
    "\n",
    "Шаги для выбора локации:\n",
    "\n",
    "- В избранном регионе ищут месторождения, для каждого определяют значения признаков;\n",
    "- Строят модель и оценивают объём запасов;\n",
    "- Выбирают месторождения с самым высокими оценками значений. Количество месторождений зависит от бюджета компании и стоимости разработки одной скважины;\n",
    "- Прибыль равна суммарной прибыли отобранных месторождений."
   ]
  },
  {
   "cell_type": "markdown",
   "metadata": {},
   "source": [
    "## Загрузка и подготовка данных"
   ]
  },
  {
   "cell_type": "code",
   "execution_count": 1,
   "metadata": {},
   "outputs": [],
   "source": [
    "import numpy as np\n",
    "import pandas as pd\n",
    "import warnings\n",
    "\n",
    "from sklearn.linear_model import LinearRegression\n",
    "from sklearn.metrics import mean_squared_error\n",
    "from sklearn.model_selection import train_test_split\n",
    "from sklearn.preprocessing import StandardScaler\n"
   ]
  },
  {
   "cell_type": "code",
   "execution_count": 2,
   "metadata": {},
   "outputs": [],
   "source": [
    "# Константы\n",
    "\n",
    "BUDGET = 10e9 #Бюджет на разработку скважин в регионе\n",
    "ONE_THOUSAND_BARREL_PRICE = 450_000 #Доход с каждой единицы продукта составляет 450 тыс. рублей, \n",
    "#поскольку объём указан в тысячах баррелей.\n",
    "\n",
    "\n",
    "POINTS = 500 #При разведке региона исследуют 500 точек\n",
    "BEST_POINTS = 200 #выбирают 200 лучших для разработки"
   ]
  },
  {
   "cell_type": "code",
   "execution_count": 3,
   "metadata": {},
   "outputs": [],
   "source": [
    "try:\n",
    "    data1 = pd.read_csv('/datasets/geo_data_0.csv')\n",
    "    data2 = pd.read_csv('/datasets/geo_data_1.csv')\n",
    "    data3 = pd.read_csv('/datasets/geo_data_2.csv')\n",
    "except:\n",
    "    data1 = pd.read_csv('./datasets/geo_data_0.csv')\n",
    "    data2 = pd.read_csv('./datasets/geo_data_1.csv')\n",
    "    data3 = pd.read_csv('./datasets/geo_data_2.csv')"
   ]
  },
  {
   "cell_type": "code",
   "execution_count": 4,
   "metadata": {},
   "outputs": [
    {
     "name": "stdout",
     "output_type": "stream",
     "text": [
      "      id        f0        f1        f2     product\n",
      "0  txEyH  0.705745 -0.497823  1.221170  105.280062\n",
      "1  2acmU  1.334711 -0.340164  4.365080   73.037750\n",
      "2  409Wp  1.022732  0.151990  1.419926   85.265647\n",
      "3  iJLyR -0.032172  0.139033  2.978566  168.620776\n",
      "4  Xdl7t  1.988431  0.155413  4.751769  154.036647\n",
      "      id         f0         f1        f2     product\n",
      "0  kBEdx -15.001348  -8.276000 -0.005876    3.179103\n",
      "1  62mP7  14.272088  -3.475083  0.999183   26.953261\n",
      "2  vyE1P   6.263187  -5.948386  5.001160  134.766305\n",
      "3  KcrkZ -13.081196 -11.506057  4.999415  137.945408\n",
      "4  AHL4O  12.702195  -8.147433  5.004363  134.766305\n",
      "      id        f0        f1        f2     product\n",
      "0  fwXo0 -1.146987  0.963328 -0.828965   27.758673\n",
      "1  WJtFt  0.262778  0.269839 -2.530187   56.069697\n",
      "2  ovLUW  0.194587  0.289035 -5.586433   62.871910\n",
      "3  q6cA6  2.236060 -0.553760  0.930038  114.572842\n",
      "4  WPMUX -0.515993  1.716266  5.899011  149.600746\n"
     ]
    }
   ],
   "source": [
    "# check\n",
    "\n",
    "print(data1.head(5))\n",
    "print(data2.head(5))\n",
    "print(data3.head(5))"
   ]
  },
  {
   "cell_type": "code",
   "execution_count": 5,
   "metadata": {},
   "outputs": [
    {
     "name": "stdout",
     "output_type": "stream",
     "text": [
      "<class 'pandas.core.frame.DataFrame'>\n",
      "RangeIndex: 100000 entries, 0 to 99999\n",
      "Data columns (total 5 columns):\n",
      " #   Column   Non-Null Count   Dtype  \n",
      "---  ------   --------------   -----  \n",
      " 0   id       100000 non-null  object \n",
      " 1   f0       100000 non-null  float64\n",
      " 2   f1       100000 non-null  float64\n",
      " 3   f2       100000 non-null  float64\n",
      " 4   product  100000 non-null  float64\n",
      "dtypes: float64(4), object(1)\n",
      "memory usage: 3.8+ MB\n",
      "None\n",
      "<class 'pandas.core.frame.DataFrame'>\n",
      "RangeIndex: 100000 entries, 0 to 99999\n",
      "Data columns (total 5 columns):\n",
      " #   Column   Non-Null Count   Dtype  \n",
      "---  ------   --------------   -----  \n",
      " 0   id       100000 non-null  object \n",
      " 1   f0       100000 non-null  float64\n",
      " 2   f1       100000 non-null  float64\n",
      " 3   f2       100000 non-null  float64\n",
      " 4   product  100000 non-null  float64\n",
      "dtypes: float64(4), object(1)\n",
      "memory usage: 3.8+ MB\n",
      "None\n",
      "<class 'pandas.core.frame.DataFrame'>\n",
      "RangeIndex: 100000 entries, 0 to 99999\n",
      "Data columns (total 5 columns):\n",
      " #   Column   Non-Null Count   Dtype  \n",
      "---  ------   --------------   -----  \n",
      " 0   id       100000 non-null  object \n",
      " 1   f0       100000 non-null  float64\n",
      " 2   f1       100000 non-null  float64\n",
      " 3   f2       100000 non-null  float64\n",
      " 4   product  100000 non-null  float64\n",
      "dtypes: float64(4), object(1)\n",
      "memory usage: 3.8+ MB\n",
      "None\n"
     ]
    }
   ],
   "source": [
    "# check\n",
    "\n",
    "print(data1.info())\n",
    "print(data2.info())\n",
    "print(data3.info())"
   ]
  },
  {
   "cell_type": "code",
   "execution_count": 6,
   "metadata": {},
   "outputs": [
    {
     "name": "stdout",
     "output_type": "stream",
     "text": [
      "                  f0             f1             f2        product\n",
      "count  100000.000000  100000.000000  100000.000000  100000.000000\n",
      "mean        0.500419       0.250143       2.502647      92.500000\n",
      "std         0.871832       0.504433       3.248248      44.288691\n",
      "min        -1.408605      -0.848218     -12.088328       0.000000\n",
      "25%        -0.072580      -0.200881       0.287748      56.497507\n",
      "50%         0.502360       0.250252       2.515969      91.849972\n",
      "75%         1.073581       0.700646       4.715088     128.564089\n",
      "max         2.362331       1.343769      16.003790     185.364347\n",
      "                  f0             f1             f2        product\n",
      "count  100000.000000  100000.000000  100000.000000  100000.000000\n",
      "mean        1.141296      -4.796579       2.494541      68.825000\n",
      "std         8.965932       5.119872       1.703572      45.944423\n",
      "min       -31.609576     -26.358598      -0.018144       0.000000\n",
      "25%        -6.298551      -8.267985       1.000021      26.953261\n",
      "50%         1.153055      -4.813172       2.011479      57.085625\n",
      "75%         8.621015      -1.332816       3.999904     107.813044\n",
      "max        29.421755      18.734063       5.019721     137.945408\n",
      "                  f0             f1             f2        product\n",
      "count  100000.000000  100000.000000  100000.000000  100000.000000\n",
      "mean        0.002023      -0.002081       2.495128      95.000000\n",
      "std         1.732045       1.730417       3.473445      44.749921\n",
      "min        -8.760004      -7.084020     -11.970335       0.000000\n",
      "25%        -1.162288      -1.174820       0.130359      59.450441\n",
      "50%         0.009424      -0.009482       2.484236      94.925613\n",
      "75%         1.158535       1.163678       4.858794     130.595027\n",
      "max         7.238262       7.844801      16.739402     190.029838\n"
     ]
    }
   ],
   "source": [
    "# check\n",
    "\n",
    "print(data1.describe())\n",
    "print(data2.describe())\n",
    "print(data3.describe())"
   ]
  },
  {
   "cell_type": "code",
   "execution_count": 7,
   "metadata": {},
   "outputs": [
    {
     "name": "stdout",
     "output_type": "stream",
     "text": [
      "10\n",
      "4\n",
      "4\n"
     ]
    }
   ],
   "source": [
    "# Проверим дубликаты\n",
    "\n",
    "print(data1['id'].duplicated().sum())\n",
    "print(data2['id'].duplicated().sum())\n",
    "print(data3['id'].duplicated().sum())"
   ]
  },
  {
   "cell_type": "code",
   "execution_count": 8,
   "metadata": {},
   "outputs": [
    {
     "data": {
      "text/html": [
       "<div>\n",
       "<style scoped>\n",
       "    .dataframe tbody tr th:only-of-type {\n",
       "        vertical-align: middle;\n",
       "    }\n",
       "\n",
       "    .dataframe tbody tr th {\n",
       "        vertical-align: top;\n",
       "    }\n",
       "\n",
       "    .dataframe thead th {\n",
       "        text-align: right;\n",
       "    }\n",
       "</style>\n",
       "<table border=\"1\" class=\"dataframe\">\n",
       "  <thead>\n",
       "    <tr style=\"text-align: right;\">\n",
       "      <th></th>\n",
       "      <th>f0</th>\n",
       "      <th>f1</th>\n",
       "      <th>f2</th>\n",
       "      <th>product</th>\n",
       "    </tr>\n",
       "  </thead>\n",
       "  <tbody>\n",
       "    <tr>\n",
       "      <th>f0</th>\n",
       "      <td>1.000000</td>\n",
       "      <td>-0.440723</td>\n",
       "      <td>-0.003153</td>\n",
       "      <td>0.143536</td>\n",
       "    </tr>\n",
       "    <tr>\n",
       "      <th>f1</th>\n",
       "      <td>-0.440723</td>\n",
       "      <td>1.000000</td>\n",
       "      <td>0.001724</td>\n",
       "      <td>-0.192356</td>\n",
       "    </tr>\n",
       "    <tr>\n",
       "      <th>f2</th>\n",
       "      <td>-0.003153</td>\n",
       "      <td>0.001724</td>\n",
       "      <td>1.000000</td>\n",
       "      <td>0.483663</td>\n",
       "    </tr>\n",
       "    <tr>\n",
       "      <th>product</th>\n",
       "      <td>0.143536</td>\n",
       "      <td>-0.192356</td>\n",
       "      <td>0.483663</td>\n",
       "      <td>1.000000</td>\n",
       "    </tr>\n",
       "  </tbody>\n",
       "</table>\n",
       "</div>"
      ],
      "text/plain": [
       "               f0        f1        f2   product\n",
       "f0       1.000000 -0.440723 -0.003153  0.143536\n",
       "f1      -0.440723  1.000000  0.001724 -0.192356\n",
       "f2      -0.003153  0.001724  1.000000  0.483663\n",
       "product  0.143536 -0.192356  0.483663  1.000000"
      ]
     },
     "execution_count": 8,
     "metadata": {},
     "output_type": "execute_result"
    }
   ],
   "source": [
    "# Проверим корреляцию признаков\n",
    "\n",
    "data1.corr()"
   ]
  },
  {
   "cell_type": "code",
   "execution_count": 9,
   "metadata": {},
   "outputs": [
    {
     "data": {
      "text/html": [
       "<div>\n",
       "<style scoped>\n",
       "    .dataframe tbody tr th:only-of-type {\n",
       "        vertical-align: middle;\n",
       "    }\n",
       "\n",
       "    .dataframe tbody tr th {\n",
       "        vertical-align: top;\n",
       "    }\n",
       "\n",
       "    .dataframe thead th {\n",
       "        text-align: right;\n",
       "    }\n",
       "</style>\n",
       "<table border=\"1\" class=\"dataframe\">\n",
       "  <thead>\n",
       "    <tr style=\"text-align: right;\">\n",
       "      <th></th>\n",
       "      <th>f0</th>\n",
       "      <th>f1</th>\n",
       "      <th>f2</th>\n",
       "      <th>product</th>\n",
       "    </tr>\n",
       "  </thead>\n",
       "  <tbody>\n",
       "    <tr>\n",
       "      <th>f0</th>\n",
       "      <td>1.000000</td>\n",
       "      <td>0.182287</td>\n",
       "      <td>-0.001777</td>\n",
       "      <td>-0.030491</td>\n",
       "    </tr>\n",
       "    <tr>\n",
       "      <th>f1</th>\n",
       "      <td>0.182287</td>\n",
       "      <td>1.000000</td>\n",
       "      <td>-0.002595</td>\n",
       "      <td>-0.010155</td>\n",
       "    </tr>\n",
       "    <tr>\n",
       "      <th>f2</th>\n",
       "      <td>-0.001777</td>\n",
       "      <td>-0.002595</td>\n",
       "      <td>1.000000</td>\n",
       "      <td>0.999397</td>\n",
       "    </tr>\n",
       "    <tr>\n",
       "      <th>product</th>\n",
       "      <td>-0.030491</td>\n",
       "      <td>-0.010155</td>\n",
       "      <td>0.999397</td>\n",
       "      <td>1.000000</td>\n",
       "    </tr>\n",
       "  </tbody>\n",
       "</table>\n",
       "</div>"
      ],
      "text/plain": [
       "               f0        f1        f2   product\n",
       "f0       1.000000  0.182287 -0.001777 -0.030491\n",
       "f1       0.182287  1.000000 -0.002595 -0.010155\n",
       "f2      -0.001777 -0.002595  1.000000  0.999397\n",
       "product -0.030491 -0.010155  0.999397  1.000000"
      ]
     },
     "execution_count": 9,
     "metadata": {},
     "output_type": "execute_result"
    }
   ],
   "source": [
    "data2.corr()"
   ]
  },
  {
   "cell_type": "markdown",
   "metadata": {},
   "source": [
    "Самая большая корреляция во втором датасете между f2 и product"
   ]
  },
  {
   "cell_type": "code",
   "execution_count": 10,
   "metadata": {
    "scrolled": true
   },
   "outputs": [
    {
     "data": {
      "text/html": [
       "<div>\n",
       "<style scoped>\n",
       "    .dataframe tbody tr th:only-of-type {\n",
       "        vertical-align: middle;\n",
       "    }\n",
       "\n",
       "    .dataframe tbody tr th {\n",
       "        vertical-align: top;\n",
       "    }\n",
       "\n",
       "    .dataframe thead th {\n",
       "        text-align: right;\n",
       "    }\n",
       "</style>\n",
       "<table border=\"1\" class=\"dataframe\">\n",
       "  <thead>\n",
       "    <tr style=\"text-align: right;\">\n",
       "      <th></th>\n",
       "      <th>f0</th>\n",
       "      <th>f1</th>\n",
       "      <th>f2</th>\n",
       "      <th>product</th>\n",
       "    </tr>\n",
       "  </thead>\n",
       "  <tbody>\n",
       "    <tr>\n",
       "      <th>f0</th>\n",
       "      <td>1.000000</td>\n",
       "      <td>0.000528</td>\n",
       "      <td>-0.000448</td>\n",
       "      <td>-0.001987</td>\n",
       "    </tr>\n",
       "    <tr>\n",
       "      <th>f1</th>\n",
       "      <td>0.000528</td>\n",
       "      <td>1.000000</td>\n",
       "      <td>0.000779</td>\n",
       "      <td>-0.001012</td>\n",
       "    </tr>\n",
       "    <tr>\n",
       "      <th>f2</th>\n",
       "      <td>-0.000448</td>\n",
       "      <td>0.000779</td>\n",
       "      <td>1.000000</td>\n",
       "      <td>0.445871</td>\n",
       "    </tr>\n",
       "    <tr>\n",
       "      <th>product</th>\n",
       "      <td>-0.001987</td>\n",
       "      <td>-0.001012</td>\n",
       "      <td>0.445871</td>\n",
       "      <td>1.000000</td>\n",
       "    </tr>\n",
       "  </tbody>\n",
       "</table>\n",
       "</div>"
      ],
      "text/plain": [
       "               f0        f1        f2   product\n",
       "f0       1.000000  0.000528 -0.000448 -0.001987\n",
       "f1       0.000528  1.000000  0.000779 -0.001012\n",
       "f2      -0.000448  0.000779  1.000000  0.445871\n",
       "product -0.001987 -0.001012  0.445871  1.000000"
      ]
     },
     "execution_count": 10,
     "metadata": {},
     "output_type": "execute_result"
    }
   ],
   "source": [
    "data3.corr()"
   ]
  },
  {
   "cell_type": "code",
   "execution_count": 11,
   "metadata": {},
   "outputs": [],
   "source": [
    "# Удаляем неважные признаки\n",
    "\n",
    "data1 = data1.drop(columns=['id'])\n",
    "data2 = data2.drop(columns=['id'])\n",
    "data3 = data3.drop(columns=['id'])"
   ]
  },
  {
   "cell_type": "markdown",
   "metadata": {},
   "source": [
    "### Вывод\n",
    "\n",
    "- Изучила датафреймы по 3м регионам\n",
    "- Проверены дубликаты и корреляция по 3м регионам\n",
    "- Удалена лишняя метрика id\n",
    "- Масштабированы данные"
   ]
  },
  {
   "cell_type": "markdown",
   "metadata": {},
   "source": [
    "## Обучение и проверка модели"
   ]
  },
  {
   "cell_type": "markdown",
   "metadata": {},
   "source": [
    "### Обучаем модель по 1-му региону\n"
   ]
  },
  {
   "cell_type": "code",
   "execution_count": 12,
   "metadata": {},
   "outputs": [],
   "source": [
    "# Делим на выборки\n",
    "\n",
    "target1 = data1['product']\n",
    "features1 = data1.drop(['product'] , axis=1)\n",
    "\n",
    "features_train1, features_valid1, target_train1, target_valid1 = train_test_split(\n",
    "    features1, \n",
    "    target1, \n",
    "    train_size=0.75, \n",
    "    random_state=12345, \n",
    ")"
   ]
  },
  {
   "cell_type": "code",
   "execution_count": 13,
   "metadata": {},
   "outputs": [],
   "source": [
    "numeric = ['f0', 'f1', 'f2']"
   ]
  },
  {
   "cell_type": "code",
   "execution_count": 14,
   "metadata": {},
   "outputs": [],
   "source": [
    "# Выполняем масштабирование\n",
    "\n",
    "warnings.filterwarnings(\"ignore\")\n",
    "\n",
    "scaler = StandardScaler()\n",
    "\n",
    "features_train1[numeric] = scaler.fit_transform(features_train1[numeric])\n",
    "features_valid1 = scaler.transform(features_valid1)\n"
   ]
  },
  {
   "cell_type": "code",
   "execution_count": 15,
   "metadata": {},
   "outputs": [
    {
     "data": {
      "text/plain": [
       "(75000, 3)"
      ]
     },
     "execution_count": 15,
     "metadata": {},
     "output_type": "execute_result"
    }
   ],
   "source": [
    "# check\n",
    "\n",
    "features_train1.shape"
   ]
  },
  {
   "cell_type": "code",
   "execution_count": 16,
   "metadata": {},
   "outputs": [
    {
     "data": {
      "text/plain": [
       "(25000, 3)"
      ]
     },
     "execution_count": 16,
     "metadata": {},
     "output_type": "execute_result"
    }
   ],
   "source": [
    "features_valid1.shape"
   ]
  },
  {
   "cell_type": "code",
   "execution_count": 17,
   "metadata": {},
   "outputs": [
    {
     "data": {
      "text/plain": [
       "(75000,)"
      ]
     },
     "execution_count": 17,
     "metadata": {},
     "output_type": "execute_result"
    }
   ],
   "source": [
    "target_train1.shape"
   ]
  },
  {
   "cell_type": "code",
   "execution_count": 18,
   "metadata": {},
   "outputs": [
    {
     "data": {
      "text/plain": [
       "(25000,)"
      ]
     },
     "execution_count": 18,
     "metadata": {},
     "output_type": "execute_result"
    }
   ],
   "source": [
    "target_valid1.shape"
   ]
  },
  {
   "cell_type": "code",
   "execution_count": 19,
   "metadata": {},
   "outputs": [
    {
     "name": "stdout",
     "output_type": "stream",
     "text": [
      "RMSE модели линейной регрессии на валидационной выборке: 37.5794217150813\n",
      "Cредний запас предсказанного сырья: 92.59256778438035\n"
     ]
    }
   ],
   "source": [
    "# Обучаем линейную регрессию\n",
    "\n",
    "model = LinearRegression()\n",
    "model.fit(features_train1, target_train1)\n",
    "predictions_valid1 = model.predict(features_valid1)\n",
    "\n",
    "data1_pred_mean = predictions_valid1.mean()\n",
    "\n",
    "result = (mean_squared_error(target_valid1, predictions_valid1))**0.5\n",
    "print(\"RMSE модели линейной регрессии на валидационной выборке:\", result)\n",
    "print('Cредний запас предсказанного сырья:', data1_pred_mean)"
   ]
  },
  {
   "cell_type": "markdown",
   "metadata": {},
   "source": [
    "### Обучаем модель по 2-му региону"
   ]
  },
  {
   "cell_type": "code",
   "execution_count": 20,
   "metadata": {},
   "outputs": [],
   "source": [
    "# Делим на выборки\n",
    "\n",
    "target2 = data2['product']\n",
    "features2 = data2.drop(['product'] , axis=1)\n",
    "\n",
    "features_train2, features_valid2, target_train2, target_valid2 = train_test_split(\n",
    "    features2, \n",
    "    target2, \n",
    "    train_size=0.75, \n",
    "    random_state=12345, \n",
    ")"
   ]
  },
  {
   "cell_type": "code",
   "execution_count": 21,
   "metadata": {},
   "outputs": [],
   "source": [
    "# Выполняем масштабирование\n",
    "\n",
    "numeric = ['f0', 'f1', 'f2']\n",
    "\n",
    "scaler = StandardScaler()\n",
    "scaler.fit(features_train2[numeric])\n",
    "\n",
    "features_train2[numeric] = scaler.transform(features_train2[numeric])\n",
    "features_valid2 = scaler.transform(features_valid2)\n",
    "\n",
    "pd.options.mode.chained_assignment = None"
   ]
  },
  {
   "cell_type": "code",
   "execution_count": 22,
   "metadata": {},
   "outputs": [
    {
     "name": "stdout",
     "output_type": "stream",
     "text": [
      "(75000, 3)\n",
      "(25000, 3)\n",
      "(75000,)\n",
      "(25000,)\n"
     ]
    }
   ],
   "source": [
    "# check\n",
    "\n",
    "print(features_train2.shape)\n",
    "print(features_valid2.shape)\n",
    "print(target_train2.shape)\n",
    "print(target_valid2.shape)"
   ]
  },
  {
   "cell_type": "code",
   "execution_count": 23,
   "metadata": {},
   "outputs": [
    {
     "name": "stdout",
     "output_type": "stream",
     "text": [
      "RMSE модели линейной регрессии на валидационной выборке: 0.893099286775617\n",
      "Cредний запас предсказанного сырья: 68.728546895446\n"
     ]
    }
   ],
   "source": [
    "# Обучаем линейную регрессию\n",
    "\n",
    "model = LinearRegression()\n",
    "model.fit(features_train2, target_train2)\n",
    "predictions_valid2 = model.predict(features_valid2)\n",
    "\n",
    "data2_pred_mean = predictions_valid2.mean()\n",
    "\n",
    "result = (mean_squared_error(target_valid2, predictions_valid2))**0.5\n",
    "print(\"RMSE модели линейной регрессии на валидационной выборке:\", result)\n",
    "print('Cредний запас предсказанного сырья:', data2_pred_mean)"
   ]
  },
  {
   "cell_type": "markdown",
   "metadata": {},
   "source": [
    "### Обучаем модель по 3-му региону"
   ]
  },
  {
   "cell_type": "code",
   "execution_count": 24,
   "metadata": {},
   "outputs": [],
   "source": [
    "# Делим на выборки\n",
    "\n",
    "target3 = data3['product']\n",
    "features3 = data3.drop(['product'] , axis=1)\n",
    "\n",
    "features_train3, features_valid3, target_train3, target_valid3 = train_test_split(\n",
    "    features3, \n",
    "    target3, \n",
    "    train_size=0.75, \n",
    "    random_state=12345, \n",
    ")"
   ]
  },
  {
   "cell_type": "code",
   "execution_count": 25,
   "metadata": {},
   "outputs": [],
   "source": [
    "# Выполняем масштабирование\n",
    "\n",
    "numeric = ['f0', 'f1', 'f2']\n",
    "\n",
    "scaler = StandardScaler()\n",
    "scaler.fit(features_train3[numeric])\n",
    "\n",
    "features_train3[numeric] = scaler.transform(features_train3[numeric])\n",
    "features_valid3 = scaler.transform(features_valid3)\n",
    "\n",
    "pd.options.mode.chained_assignment = None"
   ]
  },
  {
   "cell_type": "code",
   "execution_count": 26,
   "metadata": {},
   "outputs": [
    {
     "name": "stdout",
     "output_type": "stream",
     "text": [
      "(75000, 3)\n",
      "(25000, 3)\n",
      "(75000,)\n",
      "(25000,)\n"
     ]
    }
   ],
   "source": [
    "# check\n",
    "\n",
    "print(features_train3.shape)\n",
    "print(features_valid3.shape)\n",
    "print(target_train3.shape)\n",
    "print(target_valid3.shape)"
   ]
  },
  {
   "cell_type": "code",
   "execution_count": 27,
   "metadata": {},
   "outputs": [
    {
     "name": "stdout",
     "output_type": "stream",
     "text": [
      "RMSE модели линейной регрессии на валидационной выборке: 40.02970873393434\n",
      "Cредний запас предсказанного сырья: 94.96504596800489\n"
     ]
    }
   ],
   "source": [
    "# Обучаем линейную регрессию\n",
    "\n",
    "model = LinearRegression()\n",
    "model.fit(features_train3, target_train3)\n",
    "predictions_valid3 = model.predict(features_valid3)\n",
    "\n",
    "data3_pred_mean = predictions_valid3.mean()\n",
    "\n",
    "result = (mean_squared_error(target_valid3, predictions_valid3))**0.5\n",
    "print(\"RMSE модели линейной регрессии на валидационной выборке:\", result)\n",
    "print('Cредний запас предсказанного сырья:', data3_pred_mean)"
   ]
  },
  {
   "cell_type": "markdown",
   "metadata": {},
   "source": [
    "### Вывод\n",
    "\n",
    "- 1 и 3 датафреймы показали прмерно похожие результаты RMSE и запасов сырья.\n",
    "- 2й регион показывает лучшую цифру RMSE, но сильно проседает по запасам сырья."
   ]
  },
  {
   "cell_type": "markdown",
   "metadata": {},
   "source": [
    "## Подготовка к расчёту прибыли"
   ]
  },
  {
   "cell_type": "markdown",
   "metadata": {},
   "source": [
    "### Все ключевые значения для расчётов сохраним в отдельных переменных."
   ]
  },
  {
   "cell_type": "markdown",
   "metadata": {},
   "source": [
    "###  Рассчитаем достаточный объём сырья для безубыточной разработки новой скважины. Сравним полученный объём сырья со средним запасом в каждом регионе. "
   ]
  },
  {
   "cell_type": "code",
   "execution_count": 28,
   "metadata": {},
   "outputs": [],
   "source": [
    "best_profit = BUDGET / BEST_POINTS"
   ]
  },
  {
   "cell_type": "code",
   "execution_count": 29,
   "metadata": {},
   "outputs": [
    {
     "data": {
      "text/plain": [
       "50000000.0"
      ]
     },
     "execution_count": 29,
     "metadata": {},
     "output_type": "execute_result"
    }
   ],
   "source": [
    "best_profit #лучшая прибыль"
   ]
  },
  {
   "cell_type": "code",
   "execution_count": 30,
   "metadata": {},
   "outputs": [],
   "source": [
    "mean_volume_oil_point = best_profit / ONE_THOUSAND_BARREL_PRICE"
   ]
  },
  {
   "cell_type": "code",
   "execution_count": 31,
   "metadata": {},
   "outputs": [
    {
     "data": {
      "text/plain": [
       "111.11111111111111"
      ]
     },
     "execution_count": 31,
     "metadata": {},
     "output_type": "execute_result"
    }
   ],
   "source": [
    "mean_volume_oil_point #средний объем нефти на одну точку в тыс. баррелей"
   ]
  },
  {
   "cell_type": "code",
   "execution_count": 32,
   "metadata": {},
   "outputs": [],
   "source": [
    "mean_volume_oil_region = BUDGET / ONE_THOUSAND_BARREL_PRICE"
   ]
  },
  {
   "cell_type": "code",
   "execution_count": 33,
   "metadata": {},
   "outputs": [
    {
     "data": {
      "text/plain": [
       "22222.222222222223"
      ]
     },
     "execution_count": 33,
     "metadata": {},
     "output_type": "execute_result"
    }
   ],
   "source": [
    "mean_volume_oil_region ##средний объем нефти на регион в тыс. баррелей"
   ]
  },
  {
   "cell_type": "code",
   "execution_count": 34,
   "metadata": {},
   "outputs": [
    {
     "name": "stdout",
     "output_type": "stream",
     "text": [
      "Cредний запас 1 региона: 92.59256778438035\n",
      "Cредний запас 2 региона: 68.728546895446\n",
      "Cредний запас 3 региона: 94.96504596800489\n"
     ]
    }
   ],
   "source": [
    "# Текущие запасы\n",
    "\n",
    "print('Cредний запас 1 региона:', data1_pred_mean)\n",
    "print('Cредний запас 2 региона:', data2_pred_mean)\n",
    "print('Cредний запас 3 региона:', data3_pred_mean)"
   ]
  },
  {
   "cell_type": "markdown",
   "metadata": {},
   "source": [
    "### Вывод\n",
    "\n",
    "Требуемое количество добычи нефти сильно превышает текущие запасы, разработка новой скважины будет убыточной"
   ]
  },
  {
   "cell_type": "markdown",
   "metadata": {},
   "source": [
    "## Расчёт прибыли и рисков "
   ]
  },
  {
   "cell_type": "markdown",
   "metadata": {},
   "source": [
    "### Функция для расчёта прибыли по выбранным скважинам и предсказаниям модели"
   ]
  },
  {
   "cell_type": "code",
   "execution_count": 35,
   "metadata": {},
   "outputs": [],
   "source": [
    "def calculation_profit_and_risks(target, predictions, points):\n",
    "    preds_sorted = predictions.sort_values(ascending=False)\n",
    "    selected = target[preds_sorted.index][:points]\n",
    "    return ONE_THOUSAND_BARREL_PRICE * selected.sum() - BUDGET"
   ]
  },
  {
   "cell_type": "code",
   "execution_count": 36,
   "metadata": {},
   "outputs": [
    {
     "data": {
      "text/plain": [
       "-1922149005.722169"
      ]
     },
     "execution_count": 36,
     "metadata": {},
     "output_type": "execute_result"
    }
   ],
   "source": [
    "# применяем функцию для 500 точек 1го региона\n",
    "\n",
    "calculation_profit_and_risks(target_valid1, pd.Series(predictions_valid1), BEST_POINTS)"
   ]
  },
  {
   "cell_type": "code",
   "execution_count": 37,
   "metadata": {},
   "outputs": [
    {
     "data": {
      "text/plain": [
       "-1259258892.6866302"
      ]
     },
     "execution_count": 37,
     "metadata": {},
     "output_type": "execute_result"
    }
   ],
   "source": [
    "# применяем функцию для 500 точек 3го региона\n",
    "\n",
    "calculation_profit_and_risks(target_valid3, pd.Series(predictions_valid3), BEST_POINTS)"
   ]
  },
  {
   "cell_type": "code",
   "execution_count": 43,
   "metadata": {},
   "outputs": [
    {
     "data": {
      "text/plain": [
       "2710349963.5998325"
      ]
     },
     "execution_count": 43,
     "metadata": {},
     "output_type": "execute_result"
    }
   ],
   "source": [
    "# ячейка ревьюера\n",
    "\n",
    "calculation_profit_and_risks(target_valid3.reset_index(drop=True), pd.Series(predictions_valid3), BEST_POINTS)"
   ]
  },
  {
   "cell_type": "markdown",
   "metadata": {},
   "source": [
    "### Функция расчета рисков и прибыли для каждого региона с техникой Bootstrap с 1000 выборок"
   ]
  },
  {
   "cell_type": "code",
   "execution_count": 38,
   "metadata": {},
   "outputs": [],
   "source": [
    "def bootstrap_func(target, predictions):\n",
    "    state = np.random.RandomState(12345)\n",
    "    \n",
    "    values = []\n",
    "    for i in range(1000):\n",
    "        target = target.reset_index(drop=True)\n",
    "        target_subsample = target.sample(n=500, replace=True, random_state=state)\n",
    "        probs_subsample = predictions[target_subsample.index]  \n",
    "\n",
    "        res = calculation_profit_and_risks(target_subsample, probs_subsample, 200)\n",
    "        values.append(res)\n",
    "\n",
    "    values = pd.Series(values)\n",
    "    lower = values.quantile(.025)\n",
    "    higher = values.quantile(.975)\n",
    "\n",
    "    mean = values.mean() \n",
    "    print(\"Средняя прибыль:\", mean)\n",
    "    print(\"5%-квантиль:\", lower)\n",
    "    print(\"95%-квантиль:\", higher)\n",
    "    print('Риск убытков = {:.2%} '.format((values<0).mean()))"
   ]
  },
  {
   "cell_type": "code",
   "execution_count": 39,
   "metadata": {},
   "outputs": [
    {
     "data": {
      "text/plain": [
       "'Риск убытков = 50.00% '"
      ]
     },
     "execution_count": 39,
     "metadata": {},
     "output_type": "execute_result"
    }
   ],
   "source": [
    "#ячейка ревьюера\n",
    "\n",
    "\n",
    "'Риск убытков = {:.2%} '.format((pd.Series([-2, -1, 4, 5])<0).mean())"
   ]
  },
  {
   "cell_type": "code",
   "execution_count": 40,
   "metadata": {},
   "outputs": [
    {
     "name": "stdout",
     "output_type": "stream",
     "text": [
      "Средняя прибыль: 425938526.91059244\n",
      "5%-квантиль: -102090094.83793654\n",
      "95%-квантиль: 947976353.3583689\n",
      "Риск убытков = 6.00% \n"
     ]
    }
   ],
   "source": [
    "bootstrap_func(target_valid1, pd.Series(predictions_valid1))"
   ]
  },
  {
   "cell_type": "code",
   "execution_count": 41,
   "metadata": {},
   "outputs": [
    {
     "name": "stdout",
     "output_type": "stream",
     "text": [
      "Средняя прибыль: 515222773.4432899\n",
      "5%-квантиль: 68873225.37050176\n",
      "95%-квантиль: 931547591.2570494\n",
      "Риск убытков = 1.00% \n"
     ]
    }
   ],
   "source": [
    "bootstrap_func(target_valid2, pd.Series(predictions_valid2))"
   ]
  },
  {
   "cell_type": "code",
   "execution_count": 42,
   "metadata": {},
   "outputs": [
    {
     "name": "stdout",
     "output_type": "stream",
     "text": [
      "Средняя прибыль: 435008362.7827556\n",
      "5%-квантиль: -128880547.32978901\n",
      "95%-квантиль: 969706954.1802661\n",
      "Риск убытков = 6.40% \n"
     ]
    }
   ],
   "source": [
    "bootstrap_func(target_valid3, pd.Series(predictions_valid3))"
   ]
  },
  {
   "cell_type": "markdown",
   "metadata": {},
   "source": [
    "### Вывод\n",
    "\n",
    "Сравнивая 3 региона, для разработки больше всего подходит 2й регион. Там средняя прибыль выше, чем у остальных и риск убытков самый низкий."
   ]
  },
  {
   "cell_type": "markdown",
   "metadata": {},
   "source": [
    "## Общий вывод\n",
    "\n",
    "**Подготовка данных**\n",
    "\n",
    "- Были изучены датафреймы по 3м регионам\n",
    "- Удалена лишняя метрика id\n",
    "- Масштабированы данные\n",
    "\n",
    "**Обучение модели**\n",
    "- Данные по каждому из регионов были разбиты на тренировочную и валидационную выборки\n",
    "- Построена модель линейной регрессии \n",
    "- Рассчитаны RMSE и средний запас предсказанного сырья для каждого региона\n",
    "\n",
    "**Рассчитан объем сырья, необходимый для безубыточной разработки скважины**\n",
    "\n",
    "\n",
    "**Рассчитана прибыль и риски**\n",
    "- По рассчетам выбран лучший регион для разрабоки новой скважины - 2й. У него самый маленкий риск убытков и с прибылью все ок."
   ]
  },
  {
   "cell_type": "markdown",
   "metadata": {},
   "source": [
    "## Чек-лист готовности проекта"
   ]
  },
  {
   "cell_type": "markdown",
   "metadata": {},
   "source": [
    "Поставьте 'x' в выполненных пунктах. Далее нажмите Shift+Enter."
   ]
  },
  {
   "cell_type": "markdown",
   "metadata": {},
   "source": [
    "- [x]  Jupyter Notebook открыт\n",
    "- [x]  Весь код выполняется без ошибок\n",
    "- [x]  Ячейки с кодом расположены в порядке исполнения\n",
    "- [x]  Выполнен шаг 1: данные подготовлены\n",
    "- [x]  Выполнен шаг 2: модели обучены и проверены\n",
    "    - [x]  Данные корректно разбиты на обучающую и валидационную выборки\n",
    "    - [x]  Модели обучены, предсказания сделаны\n",
    "    - [x]  Предсказания и правильные ответы на валидационной выборке сохранены\n",
    "    - [x]  На экране напечатаны результаты\n",
    "    - [x]  Сделаны выводы\n",
    "- [x]  Выполнен шаг 3: проведена подготовка к расчёту прибыли\n",
    "    - [x]  Для всех ключевых значений созданы константы Python\n",
    "    - [x]  Посчитано минимальное среднее количество продукта в месторождениях региона, достаточное для разработки\n",
    "    - [x]  По предыдущему пункту сделаны выводы\n",
    "    - [x]  Написана функция расчёта прибыли\n",
    "- [x]  Выполнен шаг 4: посчитаны риски и прибыль\n",
    "    - [x]  Проведена процедура *Bootstrap*\n",
    "    - [x]  Все параметры бутстрепа соответствуют условию\n",
    "    - [x]  Найдены все нужные величины\n",
    "    - [x]  Предложен регион для разработки месторождения\n",
    "    - [x]  Выбор региона обоснован"
   ]
  }
 ],
 "metadata": {
  "ExecuteTimeLog": [
   {
    "duration": 360,
    "start_time": "2023-01-14T17:25:45.042Z"
   },
   {
    "duration": 748,
    "start_time": "2023-01-14T17:25:45.425Z"
   },
   {
    "duration": 18,
    "start_time": "2023-01-14T17:25:46.175Z"
   },
   {
    "duration": 32,
    "start_time": "2023-01-14T17:25:47.853Z"
   },
   {
    "duration": 83,
    "start_time": "2023-01-14T17:25:50.077Z"
   },
   {
    "duration": 15,
    "start_time": "2023-01-14T17:25:50.625Z"
   },
   {
    "duration": 60,
    "start_time": "2023-01-14T17:35:22.355Z"
   },
   {
    "duration": 18146,
    "start_time": "2023-01-14T17:35:30.587Z"
   },
   {
    "duration": 16673,
    "start_time": "2023-01-14T17:38:11.918Z"
   },
   {
    "duration": 0,
    "start_time": "2023-01-14T17:38:50.494Z"
   },
   {
    "duration": 395,
    "start_time": "2023-01-14T17:39:19.464Z"
   },
   {
    "duration": 359,
    "start_time": "2023-01-14T17:39:19.861Z"
   },
   {
    "duration": 12,
    "start_time": "2023-01-14T17:39:20.222Z"
   },
   {
    "duration": 32,
    "start_time": "2023-01-14T17:39:20.236Z"
   },
   {
    "duration": 101,
    "start_time": "2023-01-14T17:39:20.270Z"
   },
   {
    "duration": 24,
    "start_time": "2023-01-14T17:39:20.373Z"
   },
   {
    "duration": 17544,
    "start_time": "2023-01-14T17:39:20.398Z"
   },
   {
    "duration": 9,
    "start_time": "2023-01-14T17:45:31.719Z"
   },
   {
    "duration": 633,
    "start_time": "2023-01-14T17:47:49.360Z"
   },
   {
    "duration": 60,
    "start_time": "2023-01-14T17:47:52.765Z"
   },
   {
    "duration": 26,
    "start_time": "2023-01-14T17:47:58.742Z"
   },
   {
    "duration": 26,
    "start_time": "2023-01-14T17:48:03.423Z"
   },
   {
    "duration": 28,
    "start_time": "2023-01-14T17:48:55.546Z"
   },
   {
    "duration": 16,
    "start_time": "2023-01-14T17:50:24.439Z"
   },
   {
    "duration": 14,
    "start_time": "2023-01-14T17:50:41.735Z"
   },
   {
    "duration": 13,
    "start_time": "2023-01-14T17:50:57.593Z"
   },
   {
    "duration": 995,
    "start_time": "2023-01-14T17:51:08.732Z"
   },
   {
    "duration": 366,
    "start_time": "2023-01-14T17:51:09.729Z"
   },
   {
    "duration": 13,
    "start_time": "2023-01-14T17:51:10.097Z"
   },
   {
    "duration": 36,
    "start_time": "2023-01-14T17:51:10.111Z"
   },
   {
    "duration": 104,
    "start_time": "2023-01-14T17:51:10.149Z"
   },
   {
    "duration": 14,
    "start_time": "2023-01-14T17:51:10.254Z"
   },
   {
    "duration": 29,
    "start_time": "2023-01-14T17:51:10.271Z"
   },
   {
    "duration": 14,
    "start_time": "2023-01-14T17:52:47.756Z"
   },
   {
    "duration": 2,
    "start_time": "2023-01-14T17:55:13.544Z"
   },
   {
    "duration": 90,
    "start_time": "2023-01-14T17:55:21.409Z"
   },
   {
    "duration": 12,
    "start_time": "2023-01-14T17:55:31.811Z"
   },
   {
    "duration": 13,
    "start_time": "2023-01-14T17:55:32.928Z"
   },
   {
    "duration": 12,
    "start_time": "2023-01-14T17:58:21.132Z"
   },
   {
    "duration": 29,
    "start_time": "2023-01-14T17:58:36.940Z"
   },
   {
    "duration": 12,
    "start_time": "2023-01-14T17:58:58.263Z"
   },
   {
    "duration": 28,
    "start_time": "2023-01-14T18:00:22.480Z"
   },
   {
    "duration": 3,
    "start_time": "2023-01-14T18:01:23.052Z"
   },
   {
    "duration": 16,
    "start_time": "2023-01-14T18:01:32.213Z"
   },
   {
    "duration": 5,
    "start_time": "2023-01-14T18:01:45.772Z"
   },
   {
    "duration": 5,
    "start_time": "2023-01-14T18:01:57.465Z"
   },
   {
    "duration": 5,
    "start_time": "2023-01-14T18:02:09.216Z"
   },
   {
    "duration": 10,
    "start_time": "2023-01-14T18:03:43.822Z"
   },
   {
    "duration": 2,
    "start_time": "2023-01-14T18:03:51.359Z"
   },
   {
    "duration": 29,
    "start_time": "2023-01-14T18:03:53.128Z"
   },
   {
    "duration": 28,
    "start_time": "2023-01-14T18:04:20.840Z"
   },
   {
    "duration": 2,
    "start_time": "2023-01-14T18:04:37.818Z"
   },
   {
    "duration": 5,
    "start_time": "2023-01-14T18:04:43.601Z"
   },
   {
    "duration": 4,
    "start_time": "2023-01-14T18:04:59.998Z"
   },
   {
    "duration": 4,
    "start_time": "2023-01-14T18:05:07.658Z"
   },
   {
    "duration": 3,
    "start_time": "2023-01-14T18:05:26.218Z"
   },
   {
    "duration": 23,
    "start_time": "2023-01-14T18:05:30.193Z"
   },
   {
    "duration": 15,
    "start_time": "2023-01-14T18:07:02.679Z"
   },
   {
    "duration": 13,
    "start_time": "2023-01-14T18:09:00.430Z"
   },
   {
    "duration": 3,
    "start_time": "2023-01-14T18:09:02.581Z"
   },
   {
    "duration": 19,
    "start_time": "2023-01-14T18:09:05.484Z"
   },
   {
    "duration": 12,
    "start_time": "2023-01-14T18:09:23.701Z"
   },
   {
    "duration": 3,
    "start_time": "2023-01-14T18:09:24.014Z"
   },
   {
    "duration": 15,
    "start_time": "2023-01-14T18:09:24.291Z"
   },
   {
    "duration": 1061,
    "start_time": "2023-01-14T18:09:31.471Z"
   },
   {
    "duration": 353,
    "start_time": "2023-01-14T18:09:32.534Z"
   },
   {
    "duration": 18,
    "start_time": "2023-01-14T18:09:32.888Z"
   },
   {
    "duration": 36,
    "start_time": "2023-01-14T18:09:32.907Z"
   },
   {
    "duration": 105,
    "start_time": "2023-01-14T18:09:32.945Z"
   },
   {
    "duration": 15,
    "start_time": "2023-01-14T18:09:33.052Z"
   },
   {
    "duration": 30,
    "start_time": "2023-01-14T18:09:33.069Z"
   },
   {
    "duration": 3,
    "start_time": "2023-01-14T18:09:33.101Z"
   },
   {
    "duration": 101,
    "start_time": "2023-01-14T18:09:33.106Z"
   },
   {
    "duration": 18,
    "start_time": "2023-01-14T18:10:03.493Z"
   },
   {
    "duration": 3,
    "start_time": "2023-01-14T18:10:14.412Z"
   },
   {
    "duration": 8,
    "start_time": "2023-01-14T18:10:16.785Z"
   },
   {
    "duration": 3,
    "start_time": "2023-01-14T18:10:25.810Z"
   },
   {
    "duration": 4,
    "start_time": "2023-01-14T18:10:29.986Z"
   },
   {
    "duration": 11,
    "start_time": "2023-01-14T18:10:37.059Z"
   },
   {
    "duration": 5,
    "start_time": "2023-01-14T18:10:43.347Z"
   },
   {
    "duration": 21,
    "start_time": "2023-01-14T18:11:07.581Z"
   },
   {
    "duration": 16,
    "start_time": "2023-01-14T18:11:30.893Z"
   },
   {
    "duration": 11,
    "start_time": "2023-01-14T18:16:52.541Z"
   },
   {
    "duration": 5,
    "start_time": "2023-01-14T18:16:59.215Z"
   },
   {
    "duration": 5,
    "start_time": "2023-01-14T18:17:06.521Z"
   },
   {
    "duration": 5,
    "start_time": "2023-01-14T18:17:13.134Z"
   },
   {
    "duration": 8,
    "start_time": "2023-01-14T18:18:32.529Z"
   },
   {
    "duration": 11,
    "start_time": "2023-01-14T18:18:32.780Z"
   },
   {
    "duration": 4,
    "start_time": "2023-01-14T18:19:19.533Z"
   },
   {
    "duration": 4,
    "start_time": "2023-01-14T18:19:19.778Z"
   },
   {
    "duration": 4,
    "start_time": "2023-01-14T18:19:21.385Z"
   },
   {
    "duration": 4,
    "start_time": "2023-01-14T18:19:21.625Z"
   },
   {
    "duration": 1053,
    "start_time": "2023-01-14T18:19:27.989Z"
   },
   {
    "duration": 348,
    "start_time": "2023-01-14T18:19:29.043Z"
   },
   {
    "duration": 13,
    "start_time": "2023-01-14T18:19:29.393Z"
   },
   {
    "duration": 33,
    "start_time": "2023-01-14T18:19:29.408Z"
   },
   {
    "duration": 106,
    "start_time": "2023-01-14T18:19:29.443Z"
   },
   {
    "duration": 13,
    "start_time": "2023-01-14T18:19:29.551Z"
   },
   {
    "duration": 15,
    "start_time": "2023-01-14T18:19:29.566Z"
   },
   {
    "duration": 14,
    "start_time": "2023-01-14T18:19:29.583Z"
   },
   {
    "duration": 17,
    "start_time": "2023-01-14T18:19:29.598Z"
   },
   {
    "duration": 8,
    "start_time": "2023-01-14T18:19:29.617Z"
   },
   {
    "duration": 8,
    "start_time": "2023-01-14T18:19:29.627Z"
   },
   {
    "duration": 6,
    "start_time": "2023-01-14T18:19:29.637Z"
   },
   {
    "duration": 5,
    "start_time": "2023-01-14T18:19:29.645Z"
   },
   {
    "duration": 24,
    "start_time": "2023-01-14T18:40:38.613Z"
   },
   {
    "duration": 3,
    "start_time": "2023-01-14T18:42:10.216Z"
   },
   {
    "duration": 22,
    "start_time": "2023-01-14T18:42:14.179Z"
   },
   {
    "duration": 14,
    "start_time": "2023-01-14T18:48:18.062Z"
   },
   {
    "duration": 16,
    "start_time": "2023-01-14T18:48:57.187Z"
   },
   {
    "duration": 4,
    "start_time": "2023-01-14T18:50:18.088Z"
   },
   {
    "duration": 23,
    "start_time": "2023-01-14T18:50:55.997Z"
   },
   {
    "duration": 14,
    "start_time": "2023-01-14T19:01:02.811Z"
   },
   {
    "duration": 17,
    "start_time": "2023-01-14T19:01:03.174Z"
   },
   {
    "duration": 4,
    "start_time": "2023-01-14T19:01:03.740Z"
   },
   {
    "duration": 16,
    "start_time": "2023-01-14T19:01:04.786Z"
   },
   {
    "duration": 1056,
    "start_time": "2023-01-14T19:05:31.680Z"
   },
   {
    "duration": 362,
    "start_time": "2023-01-14T19:05:32.738Z"
   },
   {
    "duration": 13,
    "start_time": "2023-01-14T19:05:33.102Z"
   },
   {
    "duration": 40,
    "start_time": "2023-01-14T19:05:33.117Z"
   },
   {
    "duration": 105,
    "start_time": "2023-01-14T19:05:33.159Z"
   },
   {
    "duration": 15,
    "start_time": "2023-01-14T19:05:33.266Z"
   },
   {
    "duration": 32,
    "start_time": "2023-01-14T19:05:33.283Z"
   },
   {
    "duration": 3,
    "start_time": "2023-01-14T19:05:33.317Z"
   },
   {
    "duration": 25,
    "start_time": "2023-01-14T19:05:33.322Z"
   },
   {
    "duration": 8,
    "start_time": "2023-01-14T19:05:33.349Z"
   },
   {
    "duration": 10,
    "start_time": "2023-01-14T19:05:33.358Z"
   },
   {
    "duration": 23,
    "start_time": "2023-01-14T19:05:33.370Z"
   },
   {
    "duration": 12,
    "start_time": "2023-01-14T19:05:33.394Z"
   },
   {
    "duration": 18,
    "start_time": "2023-01-14T19:05:33.408Z"
   },
   {
    "duration": 170,
    "start_time": "2023-01-14T19:05:33.427Z"
   },
   {
    "duration": 16,
    "start_time": "2023-01-14T19:05:33.599Z"
   },
   {
    "duration": 4,
    "start_time": "2023-01-14T19:05:33.616Z"
   },
   {
    "duration": 11,
    "start_time": "2023-01-14T19:05:33.622Z"
   },
   {
    "duration": 169,
    "start_time": "2023-01-14T19:05:33.635Z"
   },
   {
    "duration": 22,
    "start_time": "2023-01-14T19:05:33.806Z"
   },
   {
    "duration": 4,
    "start_time": "2023-01-14T19:05:33.830Z"
   },
   {
    "duration": 62,
    "start_time": "2023-01-14T19:05:33.836Z"
   },
   {
    "duration": 13,
    "start_time": "2023-01-14T19:26:07.242Z"
   },
   {
    "duration": 18,
    "start_time": "2023-01-14T19:27:10.322Z"
   },
   {
    "duration": 12,
    "start_time": "2023-01-14T19:27:24.456Z"
   },
   {
    "duration": 96,
    "start_time": "2023-01-14T19:58:20.192Z"
   },
   {
    "duration": 3,
    "start_time": "2023-01-14T19:58:25.007Z"
   },
   {
    "duration": 2,
    "start_time": "2023-01-14T19:58:27.041Z"
   },
   {
    "duration": 4,
    "start_time": "2023-01-14T19:58:39.518Z"
   },
   {
    "duration": 3,
    "start_time": "2023-01-14T19:59:44.772Z"
   },
   {
    "duration": 4,
    "start_time": "2023-01-14T19:59:44.980Z"
   },
   {
    "duration": 3,
    "start_time": "2023-01-14T20:01:00.604Z"
   },
   {
    "duration": 3,
    "start_time": "2023-01-14T20:01:07.821Z"
   },
   {
    "duration": 3,
    "start_time": "2023-01-14T20:03:39.652Z"
   },
   {
    "duration": 4,
    "start_time": "2023-01-14T20:03:39.852Z"
   },
   {
    "duration": 4,
    "start_time": "2023-01-14T20:05:36.396Z"
   },
   {
    "duration": 3,
    "start_time": "2023-01-14T20:26:41.633Z"
   },
   {
    "duration": 13,
    "start_time": "2023-01-14T20:27:31.153Z"
   },
   {
    "duration": 12,
    "start_time": "2023-01-14T20:29:29.989Z"
   },
   {
    "duration": 18,
    "start_time": "2023-01-14T20:29:49.573Z"
   },
   {
    "duration": 27,
    "start_time": "2023-01-14T20:30:42.991Z"
   },
   {
    "duration": 12,
    "start_time": "2023-01-14T20:31:09.101Z"
   },
   {
    "duration": 5,
    "start_time": "2023-01-14T20:31:52.671Z"
   },
   {
    "duration": 11,
    "start_time": "2023-01-14T20:40:26.827Z"
   },
   {
    "duration": 8,
    "start_time": "2023-01-14T20:40:59.813Z"
   },
   {
    "duration": 8,
    "start_time": "2023-01-14T20:42:14.626Z"
   },
   {
    "duration": 9,
    "start_time": "2023-01-14T20:42:44.635Z"
   },
   {
    "duration": 9,
    "start_time": "2023-01-14T20:44:01.991Z"
   },
   {
    "duration": 3,
    "start_time": "2023-01-14T20:46:19.892Z"
   },
   {
    "duration": 9,
    "start_time": "2023-01-14T20:46:20.854Z"
   },
   {
    "duration": 5,
    "start_time": "2023-01-14T20:47:45.954Z"
   },
   {
    "duration": 3,
    "start_time": "2023-01-14T20:48:12.267Z"
   },
   {
    "duration": 2,
    "start_time": "2023-01-14T20:50:54.103Z"
   },
   {
    "duration": 10,
    "start_time": "2023-01-14T20:50:55.896Z"
   },
   {
    "duration": 9,
    "start_time": "2023-01-14T20:51:56.562Z"
   },
   {
    "duration": 3,
    "start_time": "2023-01-14T21:11:59.453Z"
   },
   {
    "duration": 8,
    "start_time": "2023-01-14T21:11:59.838Z"
   },
   {
    "duration": 8,
    "start_time": "2023-01-14T21:12:01.225Z"
   },
   {
    "duration": 50,
    "start_time": "2023-01-14T21:24:47.103Z"
   },
   {
    "duration": 54,
    "start_time": "2023-01-14T21:24:59.837Z"
   },
   {
    "duration": 3,
    "start_time": "2023-01-14T21:25:38.073Z"
   },
   {
    "duration": 42,
    "start_time": "2023-01-14T21:25:42.748Z"
   },
   {
    "duration": 11,
    "start_time": "2023-01-14T21:26:02.823Z"
   },
   {
    "duration": 4,
    "start_time": "2023-01-14T21:28:09.049Z"
   },
   {
    "duration": 12,
    "start_time": "2023-01-14T21:28:33.260Z"
   },
   {
    "duration": 7,
    "start_time": "2023-01-14T21:28:55.964Z"
   },
   {
    "duration": 12,
    "start_time": "2023-01-14T21:28:56.369Z"
   },
   {
    "duration": 5,
    "start_time": "2023-01-14T21:35:34.978Z"
   },
   {
    "duration": 13,
    "start_time": "2023-01-14T21:35:38.654Z"
   },
   {
    "duration": 5,
    "start_time": "2023-01-14T21:36:26.886Z"
   },
   {
    "duration": 14,
    "start_time": "2023-01-14T21:36:29.492Z"
   },
   {
    "duration": 5,
    "start_time": "2023-01-14T21:36:46.890Z"
   },
   {
    "duration": 14,
    "start_time": "2023-01-14T21:36:48.509Z"
   },
   {
    "duration": 5,
    "start_time": "2023-01-14T21:37:19.849Z"
   },
   {
    "duration": 13,
    "start_time": "2023-01-14T21:37:22.742Z"
   },
   {
    "duration": 5,
    "start_time": "2023-01-14T21:37:57.443Z"
   },
   {
    "duration": 15,
    "start_time": "2023-01-14T21:38:01.076Z"
   },
   {
    "duration": 5,
    "start_time": "2023-01-14T21:38:14.105Z"
   },
   {
    "duration": 5,
    "start_time": "2023-01-14T21:38:17.826Z"
   },
   {
    "duration": 5,
    "start_time": "2023-01-14T21:38:39.838Z"
   },
   {
    "duration": 14,
    "start_time": "2023-01-14T21:38:44.744Z"
   },
   {
    "duration": 4,
    "start_time": "2023-01-14T21:39:37.296Z"
   },
   {
    "duration": 4,
    "start_time": "2023-01-14T21:39:44.839Z"
   },
   {
    "duration": 9,
    "start_time": "2023-01-14T21:39:50.968Z"
   },
   {
    "duration": 4,
    "start_time": "2023-01-14T21:39:55.636Z"
   },
   {
    "duration": 4,
    "start_time": "2023-01-14T21:40:04.499Z"
   },
   {
    "duration": 18,
    "start_time": "2023-01-14T21:40:11.016Z"
   },
   {
    "duration": 5,
    "start_time": "2023-01-14T21:40:52.526Z"
   },
   {
    "duration": 21,
    "start_time": "2023-01-14T21:42:06.157Z"
   },
   {
    "duration": 9,
    "start_time": "2023-01-14T21:43:07.110Z"
   },
   {
    "duration": 14,
    "start_time": "2023-01-14T21:43:21.422Z"
   },
   {
    "duration": 5,
    "start_time": "2023-01-14T21:46:20.246Z"
   },
   {
    "duration": 12,
    "start_time": "2023-01-14T21:46:22.627Z"
   },
   {
    "duration": 1054,
    "start_time": "2023-01-14T21:46:59.739Z"
   },
   {
    "duration": 364,
    "start_time": "2023-01-14T21:47:00.795Z"
   },
   {
    "duration": 14,
    "start_time": "2023-01-14T21:47:01.161Z"
   },
   {
    "duration": 54,
    "start_time": "2023-01-14T21:47:01.177Z"
   },
   {
    "duration": 96,
    "start_time": "2023-01-14T21:47:01.233Z"
   },
   {
    "duration": 16,
    "start_time": "2023-01-14T21:47:01.330Z"
   },
   {
    "duration": 43,
    "start_time": "2023-01-14T21:47:01.348Z"
   },
   {
    "duration": 40,
    "start_time": "2023-01-14T21:47:01.392Z"
   },
   {
    "duration": 54,
    "start_time": "2023-01-14T21:47:01.434Z"
   },
   {
    "duration": 38,
    "start_time": "2023-01-14T21:47:01.490Z"
   },
   {
    "duration": 18,
    "start_time": "2023-01-14T21:47:01.529Z"
   },
   {
    "duration": 25,
    "start_time": "2023-01-14T21:47:01.549Z"
   },
   {
    "duration": 29,
    "start_time": "2023-01-14T21:47:01.575Z"
   },
   {
    "duration": 31,
    "start_time": "2023-01-14T21:47:01.607Z"
   },
   {
    "duration": 156,
    "start_time": "2023-01-14T21:47:01.641Z"
   },
   {
    "duration": 23,
    "start_time": "2023-01-14T21:47:01.799Z"
   },
   {
    "duration": 4,
    "start_time": "2023-01-14T21:47:01.824Z"
   },
   {
    "duration": 66,
    "start_time": "2023-01-14T21:47:01.829Z"
   },
   {
    "duration": 113,
    "start_time": "2023-01-14T21:47:01.897Z"
   },
   {
    "duration": 31,
    "start_time": "2023-01-14T21:47:02.011Z"
   },
   {
    "duration": 3,
    "start_time": "2023-01-14T21:47:02.044Z"
   },
   {
    "duration": 48,
    "start_time": "2023-01-14T21:47:02.049Z"
   },
   {
    "duration": 97,
    "start_time": "2023-01-14T21:47:02.099Z"
   },
   {
    "duration": 7,
    "start_time": "2023-01-14T21:47:02.198Z"
   },
   {
    "duration": 6,
    "start_time": "2023-01-14T21:47:02.207Z"
   },
   {
    "duration": 5,
    "start_time": "2023-01-14T21:47:02.214Z"
   },
   {
    "duration": 104,
    "start_time": "2023-01-14T21:47:02.221Z"
   },
   {
    "duration": 0,
    "start_time": "2023-01-14T21:47:02.326Z"
   },
   {
    "duration": 0,
    "start_time": "2023-01-14T21:47:02.328Z"
   },
   {
    "duration": 0,
    "start_time": "2023-01-14T21:47:02.329Z"
   },
   {
    "duration": 0,
    "start_time": "2023-01-14T21:47:02.330Z"
   },
   {
    "duration": 0,
    "start_time": "2023-01-14T21:47:02.331Z"
   },
   {
    "duration": 0,
    "start_time": "2023-01-14T21:47:02.332Z"
   },
   {
    "duration": 0,
    "start_time": "2023-01-14T21:47:02.333Z"
   },
   {
    "duration": 0,
    "start_time": "2023-01-14T21:47:02.334Z"
   },
   {
    "duration": 5,
    "start_time": "2023-01-14T21:47:24.491Z"
   },
   {
    "duration": 2,
    "start_time": "2023-01-14T21:47:26.396Z"
   },
   {
    "duration": 4,
    "start_time": "2023-01-14T21:47:26.775Z"
   },
   {
    "duration": 4,
    "start_time": "2023-01-14T21:47:27.023Z"
   },
   {
    "duration": 3,
    "start_time": "2023-01-14T21:47:29.370Z"
   },
   {
    "duration": 8,
    "start_time": "2023-01-14T21:47:29.782Z"
   },
   {
    "duration": 10,
    "start_time": "2023-01-14T21:47:30.282Z"
   },
   {
    "duration": 5,
    "start_time": "2023-01-14T21:47:32.438Z"
   },
   {
    "duration": 11,
    "start_time": "2023-01-14T21:47:33.056Z"
   },
   {
    "duration": 3,
    "start_time": "2023-01-14T21:47:52.041Z"
   },
   {
    "duration": 6,
    "start_time": "2023-01-14T21:48:30.455Z"
   },
   {
    "duration": 6,
    "start_time": "2023-01-14T21:48:42.364Z"
   },
   {
    "duration": 5,
    "start_time": "2023-01-14T21:49:14.633Z"
   },
   {
    "duration": 6,
    "start_time": "2023-01-14T21:51:36.017Z"
   },
   {
    "duration": 12,
    "start_time": "2023-01-14T21:51:38.029Z"
   },
   {
    "duration": 7,
    "start_time": "2023-01-14T21:51:50.994Z"
   },
   {
    "duration": 15,
    "start_time": "2023-01-14T21:51:52.223Z"
   },
   {
    "duration": 46,
    "start_time": "2023-01-14T21:52:06.392Z"
   },
   {
    "duration": 1499,
    "start_time": "2023-01-14T21:52:42.585Z"
   },
   {
    "duration": 1475,
    "start_time": "2023-01-14T21:53:40.140Z"
   },
   {
    "duration": 6,
    "start_time": "2023-01-14T21:53:43.304Z"
   },
   {
    "duration": 1919,
    "start_time": "2023-01-14T21:53:44.785Z"
   },
   {
    "duration": 5,
    "start_time": "2023-01-14T21:54:50.715Z"
   },
   {
    "duration": 1821,
    "start_time": "2023-01-14T21:54:52.629Z"
   },
   {
    "duration": 5,
    "start_time": "2023-01-14T21:55:06.974Z"
   },
   {
    "duration": 1409,
    "start_time": "2023-01-14T21:55:09.405Z"
   },
   {
    "duration": 5,
    "start_time": "2023-01-14T21:56:18.333Z"
   },
   {
    "duration": 1399,
    "start_time": "2023-01-14T21:56:21.590Z"
   },
   {
    "duration": 1426,
    "start_time": "2023-01-14T21:57:31.930Z"
   },
   {
    "duration": 1407,
    "start_time": "2023-01-14T21:57:33.358Z"
   },
   {
    "duration": 5,
    "start_time": "2023-01-14T21:57:49.098Z"
   },
   {
    "duration": 1443,
    "start_time": "2023-01-14T21:57:49.797Z"
   },
   {
    "duration": 1427,
    "start_time": "2023-01-14T21:57:51.242Z"
   },
   {
    "duration": 1477,
    "start_time": "2023-01-14T21:57:52.670Z"
   },
   {
    "duration": 1593,
    "start_time": "2023-01-15T15:33:16.321Z"
   },
   {
    "duration": 366,
    "start_time": "2023-01-15T15:33:17.917Z"
   },
   {
    "duration": 23,
    "start_time": "2023-01-15T15:33:18.285Z"
   },
   {
    "duration": 37,
    "start_time": "2023-01-15T15:33:18.312Z"
   },
   {
    "duration": 114,
    "start_time": "2023-01-15T15:33:18.350Z"
   },
   {
    "duration": 15,
    "start_time": "2023-01-15T15:33:18.465Z"
   },
   {
    "duration": 35,
    "start_time": "2023-01-15T15:33:18.482Z"
   },
   {
    "duration": 3,
    "start_time": "2023-01-15T15:33:18.519Z"
   },
   {
    "duration": 21,
    "start_time": "2023-01-15T15:33:18.524Z"
   },
   {
    "duration": 8,
    "start_time": "2023-01-15T15:33:18.549Z"
   },
   {
    "duration": 7,
    "start_time": "2023-01-15T15:33:18.558Z"
   },
   {
    "duration": 5,
    "start_time": "2023-01-15T15:33:18.567Z"
   },
   {
    "duration": 24,
    "start_time": "2023-01-15T15:33:18.574Z"
   },
   {
    "duration": 93,
    "start_time": "2023-01-15T15:33:18.605Z"
   },
   {
    "duration": 118,
    "start_time": "2023-01-15T15:33:18.704Z"
   },
   {
    "duration": 15,
    "start_time": "2023-01-15T15:33:18.824Z"
   },
   {
    "duration": 4,
    "start_time": "2023-01-15T15:33:18.841Z"
   },
   {
    "duration": 57,
    "start_time": "2023-01-15T15:33:18.847Z"
   },
   {
    "duration": 112,
    "start_time": "2023-01-15T15:33:18.905Z"
   },
   {
    "duration": 18,
    "start_time": "2023-01-15T15:33:19.018Z"
   },
   {
    "duration": 4,
    "start_time": "2023-01-15T15:33:19.038Z"
   },
   {
    "duration": 65,
    "start_time": "2023-01-15T15:33:19.044Z"
   },
   {
    "duration": 3,
    "start_time": "2023-01-15T15:33:19.111Z"
   },
   {
    "duration": 84,
    "start_time": "2023-01-15T15:33:19.116Z"
   },
   {
    "duration": 21,
    "start_time": "2023-01-15T15:33:19.202Z"
   },
   {
    "duration": 5,
    "start_time": "2023-01-15T15:33:19.225Z"
   },
   {
    "duration": 8,
    "start_time": "2023-01-15T15:33:19.231Z"
   },
   {
    "duration": 6,
    "start_time": "2023-01-15T15:33:19.242Z"
   },
   {
    "duration": 13,
    "start_time": "2023-01-15T15:33:19.249Z"
   },
   {
    "duration": 9,
    "start_time": "2023-01-15T15:33:19.297Z"
   },
   {
    "duration": 10,
    "start_time": "2023-01-15T15:33:19.308Z"
   },
   {
    "duration": 14,
    "start_time": "2023-01-15T15:33:19.319Z"
   },
   {
    "duration": 9,
    "start_time": "2023-01-15T15:33:19.335Z"
   },
   {
    "duration": 8,
    "start_time": "2023-01-15T15:33:19.346Z"
   },
   {
    "duration": 1587,
    "start_time": "2023-01-15T15:33:19.356Z"
   },
   {
    "duration": 1504,
    "start_time": "2023-01-15T15:33:20.945Z"
   },
   {
    "duration": 1505,
    "start_time": "2023-01-15T15:33:22.451Z"
   },
   {
    "duration": 1576,
    "start_time": "2023-01-15T15:34:33.219Z"
   },
   {
    "duration": 394,
    "start_time": "2023-01-15T15:34:34.799Z"
   },
   {
    "duration": 17,
    "start_time": "2023-01-15T15:34:35.195Z"
   },
   {
    "duration": 46,
    "start_time": "2023-01-15T15:34:35.216Z"
   },
   {
    "duration": 98,
    "start_time": "2023-01-15T15:34:35.264Z"
   },
   {
    "duration": 14,
    "start_time": "2023-01-15T15:34:35.364Z"
   },
   {
    "duration": 53,
    "start_time": "2023-01-15T15:34:35.380Z"
   },
   {
    "duration": 3,
    "start_time": "2023-01-15T15:34:35.435Z"
   },
   {
    "duration": 28,
    "start_time": "2023-01-15T15:34:35.440Z"
   },
   {
    "duration": 7,
    "start_time": "2023-01-15T15:34:35.471Z"
   },
   {
    "duration": 13,
    "start_time": "2023-01-15T15:34:35.480Z"
   },
   {
    "duration": 23,
    "start_time": "2023-01-15T15:34:35.495Z"
   },
   {
    "duration": 20,
    "start_time": "2023-01-15T15:34:35.520Z"
   },
   {
    "duration": 34,
    "start_time": "2023-01-15T15:34:35.541Z"
   },
   {
    "duration": 155,
    "start_time": "2023-01-15T15:34:35.577Z"
   },
   {
    "duration": 17,
    "start_time": "2023-01-15T15:34:35.733Z"
   },
   {
    "duration": 4,
    "start_time": "2023-01-15T15:34:35.751Z"
   },
   {
    "duration": 44,
    "start_time": "2023-01-15T15:34:35.757Z"
   },
   {
    "duration": 103,
    "start_time": "2023-01-15T15:34:35.804Z"
   },
   {
    "duration": 42,
    "start_time": "2023-01-15T15:34:35.909Z"
   },
   {
    "duration": 28,
    "start_time": "2023-01-15T15:34:35.953Z"
   },
   {
    "duration": 43,
    "start_time": "2023-01-15T15:34:35.996Z"
   },
   {
    "duration": 204,
    "start_time": "2023-01-15T15:34:36.041Z"
   },
   {
    "duration": 16,
    "start_time": "2023-01-15T15:34:36.247Z"
   },
   {
    "duration": 18,
    "start_time": "2023-01-15T15:34:36.265Z"
   },
   {
    "duration": 47,
    "start_time": "2023-01-15T15:34:36.285Z"
   },
   {
    "duration": 8,
    "start_time": "2023-01-15T15:34:36.334Z"
   },
   {
    "duration": 3,
    "start_time": "2023-01-15T15:34:36.347Z"
   },
   {
    "duration": 8,
    "start_time": "2023-01-15T15:34:36.352Z"
   },
   {
    "duration": 7,
    "start_time": "2023-01-15T15:34:36.361Z"
   },
   {
    "duration": 7,
    "start_time": "2023-01-15T15:34:36.369Z"
   },
   {
    "duration": 28,
    "start_time": "2023-01-15T15:34:36.378Z"
   },
   {
    "duration": 21,
    "start_time": "2023-01-15T15:34:36.408Z"
   },
   {
    "duration": 5,
    "start_time": "2023-01-15T15:34:36.430Z"
   },
   {
    "duration": 1557,
    "start_time": "2023-01-15T15:34:36.437Z"
   },
   {
    "duration": 1547,
    "start_time": "2023-01-15T15:34:37.996Z"
   },
   {
    "duration": 1565,
    "start_time": "2023-01-15T15:34:39.545Z"
   },
   {
    "duration": 6,
    "start_time": "2023-01-15T15:46:00.495Z"
   },
   {
    "duration": 1436,
    "start_time": "2023-01-15T15:48:48.539Z"
   },
   {
    "duration": 364,
    "start_time": "2023-01-15T15:48:49.977Z"
   },
   {
    "duration": 13,
    "start_time": "2023-01-15T15:48:50.344Z"
   },
   {
    "duration": 40,
    "start_time": "2023-01-15T15:48:50.359Z"
   },
   {
    "duration": 84,
    "start_time": "2023-01-15T15:48:50.400Z"
   },
   {
    "duration": 14,
    "start_time": "2023-01-15T15:48:50.497Z"
   },
   {
    "duration": 23,
    "start_time": "2023-01-15T15:48:50.513Z"
   },
   {
    "duration": 3,
    "start_time": "2023-01-15T15:48:50.537Z"
   },
   {
    "duration": 22,
    "start_time": "2023-01-15T15:48:50.542Z"
   },
   {
    "duration": 12,
    "start_time": "2023-01-15T15:48:50.566Z"
   },
   {
    "duration": 18,
    "start_time": "2023-01-15T15:48:50.580Z"
   },
   {
    "duration": 8,
    "start_time": "2023-01-15T15:48:50.599Z"
   },
   {
    "duration": 6,
    "start_time": "2023-01-15T15:48:50.608Z"
   },
   {
    "duration": 14,
    "start_time": "2023-01-15T15:48:50.615Z"
   },
   {
    "duration": 175,
    "start_time": "2023-01-15T15:48:50.631Z"
   },
   {
    "duration": 16,
    "start_time": "2023-01-15T15:48:50.808Z"
   },
   {
    "duration": 4,
    "start_time": "2023-01-15T15:48:50.825Z"
   },
   {
    "duration": 68,
    "start_time": "2023-01-15T15:48:50.830Z"
   },
   {
    "duration": 105,
    "start_time": "2023-01-15T15:48:50.899Z"
   },
   {
    "duration": 17,
    "start_time": "2023-01-15T15:48:51.005Z"
   },
   {
    "duration": 4,
    "start_time": "2023-01-15T15:48:51.023Z"
   },
   {
    "duration": 13,
    "start_time": "2023-01-15T15:48:51.029Z"
   },
   {
    "duration": 5,
    "start_time": "2023-01-15T15:48:51.097Z"
   },
   {
    "duration": 99,
    "start_time": "2023-01-15T15:48:51.104Z"
   },
   {
    "duration": 6,
    "start_time": "2023-01-15T15:48:51.205Z"
   },
   {
    "duration": 4,
    "start_time": "2023-01-15T15:48:51.213Z"
   },
   {
    "duration": 6,
    "start_time": "2023-01-15T15:48:51.219Z"
   },
   {
    "duration": 4,
    "start_time": "2023-01-15T15:48:51.229Z"
   },
   {
    "duration": 6,
    "start_time": "2023-01-15T15:48:51.235Z"
   },
   {
    "duration": 8,
    "start_time": "2023-01-15T15:48:51.243Z"
   },
   {
    "duration": 10,
    "start_time": "2023-01-15T15:48:51.252Z"
   },
   {
    "duration": 10,
    "start_time": "2023-01-15T15:48:51.264Z"
   },
   {
    "duration": 10,
    "start_time": "2023-01-15T15:48:51.297Z"
   },
   {
    "duration": 5,
    "start_time": "2023-01-15T15:48:51.309Z"
   },
   {
    "duration": 8,
    "start_time": "2023-01-15T15:48:51.316Z"
   },
   {
    "duration": 1494,
    "start_time": "2023-01-15T15:48:51.326Z"
   },
   {
    "duration": 1456,
    "start_time": "2023-01-15T15:48:52.822Z"
   },
   {
    "duration": 1440,
    "start_time": "2023-01-15T15:48:54.280Z"
   },
   {
    "duration": 81,
    "start_time": "2023-01-15T16:42:51.808Z"
   },
   {
    "duration": 1148,
    "start_time": "2023-01-15T16:43:23.564Z"
   },
   {
    "duration": 981,
    "start_time": "2023-01-15T16:43:24.715Z"
   },
   {
    "duration": 13,
    "start_time": "2023-01-15T16:43:25.698Z"
   },
   {
    "duration": 71,
    "start_time": "2023-01-15T16:43:25.713Z"
   },
   {
    "duration": 112,
    "start_time": "2023-01-15T16:43:25.787Z"
   },
   {
    "duration": 15,
    "start_time": "2023-01-15T16:43:25.900Z"
   },
   {
    "duration": 68,
    "start_time": "2023-01-15T16:43:25.917Z"
   },
   {
    "duration": 13,
    "start_time": "2023-01-15T16:43:25.987Z"
   },
   {
    "duration": 74,
    "start_time": "2023-01-15T16:43:26.002Z"
   },
   {
    "duration": 11,
    "start_time": "2023-01-15T16:43:26.078Z"
   },
   {
    "duration": 28,
    "start_time": "2023-01-15T16:43:26.091Z"
   },
   {
    "duration": 47,
    "start_time": "2023-01-15T16:43:26.121Z"
   },
   {
    "duration": 20,
    "start_time": "2023-01-15T16:43:26.170Z"
   },
   {
    "duration": 48,
    "start_time": "2023-01-15T16:43:26.194Z"
   },
   {
    "duration": 139,
    "start_time": "2023-01-15T16:43:26.247Z"
   },
   {
    "duration": 31,
    "start_time": "2023-01-15T16:43:26.389Z"
   },
   {
    "duration": 9,
    "start_time": "2023-01-15T16:43:26.422Z"
   },
   {
    "duration": 58,
    "start_time": "2023-01-15T16:43:26.432Z"
   },
   {
    "duration": 175,
    "start_time": "2023-01-15T16:43:26.492Z"
   },
   {
    "duration": 24,
    "start_time": "2023-01-15T16:43:26.669Z"
   },
   {
    "duration": 29,
    "start_time": "2023-01-15T16:43:26.695Z"
   },
   {
    "duration": 74,
    "start_time": "2023-01-15T16:43:26.726Z"
   },
   {
    "duration": 140,
    "start_time": "2023-01-15T16:43:26.836Z"
   },
   {
    "duration": 26,
    "start_time": "2023-01-15T16:43:26.977Z"
   },
   {
    "duration": 29,
    "start_time": "2023-01-15T16:43:27.005Z"
   },
   {
    "duration": 64,
    "start_time": "2023-01-15T16:43:27.038Z"
   },
   {
    "duration": 70,
    "start_time": "2023-01-15T16:43:27.104Z"
   },
   {
    "duration": 21,
    "start_time": "2023-01-15T16:43:27.177Z"
   },
   {
    "duration": 19,
    "start_time": "2023-01-15T16:43:27.200Z"
   },
   {
    "duration": 46,
    "start_time": "2023-01-15T16:43:27.221Z"
   },
   {
    "duration": 47,
    "start_time": "2023-01-15T16:43:27.269Z"
   },
   {
    "duration": 55,
    "start_time": "2023-01-15T16:43:27.318Z"
   },
   {
    "duration": 27,
    "start_time": "2023-01-15T16:43:27.374Z"
   },
   {
    "duration": 23,
    "start_time": "2023-01-15T16:43:27.403Z"
   },
   {
    "duration": 62,
    "start_time": "2023-01-15T16:43:27.428Z"
   },
   {
    "duration": 1608,
    "start_time": "2023-01-15T16:43:27.491Z"
   },
   {
    "duration": 1515,
    "start_time": "2023-01-15T16:43:29.101Z"
   },
   {
    "duration": 1538,
    "start_time": "2023-01-15T16:43:30.617Z"
   },
   {
    "duration": 12,
    "start_time": "2023-01-15T16:44:48.275Z"
   },
   {
    "duration": 11,
    "start_time": "2023-01-15T16:44:48.900Z"
   },
   {
    "duration": 3,
    "start_time": "2023-01-15T16:44:52.283Z"
   },
   {
    "duration": 15,
    "start_time": "2023-01-15T16:44:53.126Z"
   },
   {
    "duration": 9,
    "start_time": "2023-01-15T16:44:53.586Z"
   },
   {
    "duration": 1207,
    "start_time": "2023-01-15T16:45:07.663Z"
   },
   {
    "duration": 440,
    "start_time": "2023-01-15T16:45:08.873Z"
   },
   {
    "duration": 14,
    "start_time": "2023-01-15T16:45:09.315Z"
   },
   {
    "duration": 64,
    "start_time": "2023-01-15T16:45:09.335Z"
   },
   {
    "duration": 101,
    "start_time": "2023-01-15T16:45:09.402Z"
   },
   {
    "duration": 16,
    "start_time": "2023-01-15T16:45:09.504Z"
   },
   {
    "duration": 52,
    "start_time": "2023-01-15T16:45:09.521Z"
   },
   {
    "duration": 14,
    "start_time": "2023-01-15T16:45:09.575Z"
   },
   {
    "duration": 32,
    "start_time": "2023-01-15T16:45:09.591Z"
   },
   {
    "duration": 9,
    "start_time": "2023-01-15T16:45:09.625Z"
   },
   {
    "duration": 44,
    "start_time": "2023-01-15T16:45:09.636Z"
   },
   {
    "duration": 10,
    "start_time": "2023-01-15T16:45:09.682Z"
   },
   {
    "duration": 12,
    "start_time": "2023-01-15T16:45:09.694Z"
   },
   {
    "duration": 56,
    "start_time": "2023-01-15T16:45:09.709Z"
   },
   {
    "duration": 101,
    "start_time": "2023-01-15T16:45:09.766Z"
   },
   {
    "duration": 44,
    "start_time": "2023-01-15T16:45:09.871Z"
   },
   {
    "duration": 11,
    "start_time": "2023-01-15T16:45:09.917Z"
   },
   {
    "duration": 43,
    "start_time": "2023-01-15T16:45:09.929Z"
   },
   {
    "duration": 208,
    "start_time": "2023-01-15T16:45:09.975Z"
   },
   {
    "duration": 17,
    "start_time": "2023-01-15T16:45:10.184Z"
   },
   {
    "duration": 3,
    "start_time": "2023-01-15T16:45:10.203Z"
   },
   {
    "duration": 44,
    "start_time": "2023-01-15T16:45:10.208Z"
   },
   {
    "duration": 85,
    "start_time": "2023-01-15T16:45:10.253Z"
   },
   {
    "duration": 57,
    "start_time": "2023-01-15T16:45:10.340Z"
   },
   {
    "duration": 37,
    "start_time": "2023-01-15T16:45:10.400Z"
   },
   {
    "duration": 38,
    "start_time": "2023-01-15T16:45:10.439Z"
   },
   {
    "duration": 12,
    "start_time": "2023-01-15T16:45:10.478Z"
   },
   {
    "duration": 6,
    "start_time": "2023-01-15T16:45:10.492Z"
   },
   {
    "duration": 10,
    "start_time": "2023-01-15T16:45:10.499Z"
   },
   {
    "duration": 15,
    "start_time": "2023-01-15T16:45:10.511Z"
   },
   {
    "duration": 39,
    "start_time": "2023-01-15T16:45:10.528Z"
   },
   {
    "duration": 20,
    "start_time": "2023-01-15T16:45:10.569Z"
   },
   {
    "duration": 11,
    "start_time": "2023-01-15T16:45:10.591Z"
   },
   {
    "duration": 6,
    "start_time": "2023-01-15T16:45:10.604Z"
   },
   {
    "duration": 31,
    "start_time": "2023-01-15T16:45:10.611Z"
   },
   {
    "duration": 1697,
    "start_time": "2023-01-15T16:45:10.644Z"
   },
   {
    "duration": 3034,
    "start_time": "2023-01-15T16:45:12.344Z"
   },
   {
    "duration": 1851,
    "start_time": "2023-01-15T16:45:15.381Z"
   },
   {
    "duration": 13,
    "start_time": "2023-01-15T16:50:50.958Z"
   },
   {
    "duration": 1971,
    "start_time": "2023-01-15T16:51:05.868Z"
   },
   {
    "duration": 5,
    "start_time": "2023-01-15T16:51:22.922Z"
   },
   {
    "duration": 1843,
    "start_time": "2023-01-15T16:51:26.724Z"
   },
   {
    "duration": 5,
    "start_time": "2023-01-15T16:52:07.686Z"
   },
   {
    "duration": 1755,
    "start_time": "2023-01-15T16:52:11.565Z"
   },
   {
    "duration": 5,
    "start_time": "2023-01-15T16:53:05.619Z"
   },
   {
    "duration": 1665,
    "start_time": "2023-01-15T16:53:09.057Z"
   },
   {
    "duration": 1723,
    "start_time": "2023-01-15T16:53:16.712Z"
   },
   {
    "duration": 1863,
    "start_time": "2023-01-15T16:53:20.152Z"
   },
   {
    "duration": 3,
    "start_time": "2023-01-15T17:02:35.669Z"
   },
   {
    "duration": 16,
    "start_time": "2023-01-15T17:02:58.973Z"
   },
   {
    "duration": 13,
    "start_time": "2023-01-15T17:03:44.184Z"
   },
   {
    "duration": 4,
    "start_time": "2023-01-15T17:03:55.302Z"
   },
   {
    "duration": 4,
    "start_time": "2023-01-15T17:15:41.451Z"
   },
   {
    "duration": 498,
    "start_time": "2023-01-15T17:15:41.950Z"
   },
   {
    "duration": 14,
    "start_time": "2023-01-15T17:15:42.451Z"
   },
   {
    "duration": 54,
    "start_time": "2023-01-15T17:15:42.469Z"
   },
   {
    "duration": 135,
    "start_time": "2023-01-15T17:15:42.526Z"
   },
   {
    "duration": 12,
    "start_time": "2023-01-15T17:15:42.665Z"
   },
   {
    "duration": 0,
    "start_time": "2023-01-15T17:15:42.679Z"
   },
   {
    "duration": 19,
    "start_time": "2023-01-15T17:15:42.950Z"
   },
   {
    "duration": 3,
    "start_time": "2023-01-15T17:15:43.990Z"
   },
   {
    "duration": 26,
    "start_time": "2023-01-15T17:16:25.926Z"
   },
   {
    "duration": 52,
    "start_time": "2023-01-15T17:17:13.435Z"
   },
   {
    "duration": 8,
    "start_time": "2023-01-15T17:22:22.374Z"
   },
   {
    "duration": 17,
    "start_time": "2023-01-15T17:22:32.053Z"
   },
   {
    "duration": 21,
    "start_time": "2023-01-15T17:23:03.885Z"
   },
   {
    "duration": 21,
    "start_time": "2023-01-15T17:23:27.109Z"
   },
   {
    "duration": 9,
    "start_time": "2023-01-15T17:24:23.777Z"
   },
   {
    "duration": 591,
    "start_time": "2023-01-15T17:25:01.937Z"
   },
   {
    "duration": 635,
    "start_time": "2023-01-15T17:25:07.053Z"
   },
   {
    "duration": 42,
    "start_time": "2023-01-15T17:31:23.155Z"
   },
   {
    "duration": 55,
    "start_time": "2023-01-15T17:31:33.397Z"
   },
   {
    "duration": 57,
    "start_time": "2023-01-15T17:32:26.575Z"
   },
   {
    "duration": 45,
    "start_time": "2023-01-15T17:32:37.322Z"
   },
   {
    "duration": 50,
    "start_time": "2023-01-15T17:32:49.224Z"
   },
   {
    "duration": 37,
    "start_time": "2023-01-15T17:33:07.054Z"
   },
   {
    "duration": 47,
    "start_time": "2023-01-15T17:33:12.485Z"
   },
   {
    "duration": 41,
    "start_time": "2023-01-15T17:33:19.098Z"
   },
   {
    "duration": 72,
    "start_time": "2023-01-15T17:33:22.395Z"
   },
   {
    "duration": 94,
    "start_time": "2023-01-15T17:34:06.362Z"
   },
   {
    "duration": 55,
    "start_time": "2023-01-15T17:34:11.691Z"
   },
   {
    "duration": 40,
    "start_time": "2023-01-15T17:34:23.022Z"
   },
   {
    "duration": 76,
    "start_time": "2023-01-15T17:34:54.337Z"
   },
   {
    "duration": 57,
    "start_time": "2023-01-15T17:35:00.856Z"
   },
   {
    "duration": 63,
    "start_time": "2023-01-15T17:35:02.121Z"
   },
   {
    "duration": 56,
    "start_time": "2023-01-15T17:35:02.971Z"
   },
   {
    "duration": 67,
    "start_time": "2023-01-15T17:35:06.335Z"
   },
   {
    "duration": 1937,
    "start_time": "2023-01-15T17:35:19.559Z"
   },
   {
    "duration": 560,
    "start_time": "2023-01-15T17:35:21.498Z"
   },
   {
    "duration": 31,
    "start_time": "2023-01-15T17:35:22.060Z"
   },
   {
    "duration": 117,
    "start_time": "2023-01-15T17:35:22.100Z"
   },
   {
    "duration": 139,
    "start_time": "2023-01-15T17:35:22.222Z"
   },
   {
    "duration": 91,
    "start_time": "2023-01-15T17:35:22.363Z"
   },
   {
    "duration": 49,
    "start_time": "2023-01-15T17:35:22.460Z"
   },
   {
    "duration": 60,
    "start_time": "2023-01-15T17:35:22.513Z"
   },
   {
    "duration": 63,
    "start_time": "2023-01-15T17:35:22.576Z"
   },
   {
    "duration": 77,
    "start_time": "2023-01-15T17:35:22.641Z"
   },
   {
    "duration": 91,
    "start_time": "2023-01-15T17:35:22.722Z"
   },
   {
    "duration": 67,
    "start_time": "2023-01-15T17:35:22.816Z"
   },
   {
    "duration": 82,
    "start_time": "2023-01-15T17:35:22.884Z"
   },
   {
    "duration": 73,
    "start_time": "2023-01-15T17:35:22.979Z"
   },
   {
    "duration": 107,
    "start_time": "2023-01-15T17:35:23.056Z"
   },
   {
    "duration": 74,
    "start_time": "2023-01-15T17:35:23.166Z"
   },
   {
    "duration": 102,
    "start_time": "2023-01-15T17:35:23.244Z"
   },
   {
    "duration": 34,
    "start_time": "2023-01-15T17:35:23.349Z"
   },
   {
    "duration": 57,
    "start_time": "2023-01-15T17:35:23.385Z"
   },
   {
    "duration": 11,
    "start_time": "2023-01-15T17:35:23.447Z"
   },
   {
    "duration": 27,
    "start_time": "2023-01-15T17:35:23.460Z"
   },
   {
    "duration": 76,
    "start_time": "2023-01-15T17:35:23.489Z"
   },
   {
    "duration": 73,
    "start_time": "2023-01-15T17:35:23.667Z"
   },
   {
    "duration": 24,
    "start_time": "2023-01-15T17:35:23.743Z"
   },
   {
    "duration": 25,
    "start_time": "2023-01-15T17:35:23.769Z"
   },
   {
    "duration": 149,
    "start_time": "2023-01-15T17:35:23.797Z"
   },
   {
    "duration": 162,
    "start_time": "2023-01-15T17:35:23.949Z"
   },
   {
    "duration": 54,
    "start_time": "2023-01-15T17:35:24.140Z"
   },
   {
    "duration": 46,
    "start_time": "2023-01-15T17:35:24.196Z"
   },
   {
    "duration": 198,
    "start_time": "2023-01-15T17:35:24.244Z"
   },
   {
    "duration": 83,
    "start_time": "2023-01-15T17:35:24.457Z"
   },
   {
    "duration": 65,
    "start_time": "2023-01-15T17:35:24.544Z"
   },
   {
    "duration": 29,
    "start_time": "2023-01-15T17:35:24.613Z"
   },
   {
    "duration": 65,
    "start_time": "2023-01-15T17:35:24.645Z"
   },
   {
    "duration": 33,
    "start_time": "2023-01-15T17:35:24.712Z"
   },
   {
    "duration": 46,
    "start_time": "2023-01-15T17:35:24.747Z"
   },
   {
    "duration": 43,
    "start_time": "2023-01-15T17:35:24.796Z"
   },
   {
    "duration": 47,
    "start_time": "2023-01-15T17:35:24.845Z"
   },
   {
    "duration": 14,
    "start_time": "2023-01-15T17:35:24.894Z"
   },
   {
    "duration": 44,
    "start_time": "2023-01-15T17:35:24.950Z"
   },
   {
    "duration": 51,
    "start_time": "2023-01-15T17:35:25.000Z"
   },
   {
    "duration": 29,
    "start_time": "2023-01-15T17:35:25.056Z"
   },
   {
    "duration": 91,
    "start_time": "2023-01-15T17:35:25.089Z"
   },
   {
    "duration": 2261,
    "start_time": "2023-01-15T17:35:25.183Z"
   },
   {
    "duration": 1866,
    "start_time": "2023-01-15T17:35:27.450Z"
   },
   {
    "duration": 1988,
    "start_time": "2023-01-15T17:35:29.318Z"
   },
   {
    "duration": 203,
    "start_time": "2023-01-15T17:36:24.461Z"
   },
   {
    "duration": 15,
    "start_time": "2023-01-15T17:36:34.647Z"
   },
   {
    "duration": 13,
    "start_time": "2023-01-15T17:36:50.086Z"
   },
   {
    "duration": 12,
    "start_time": "2023-01-15T17:37:26.575Z"
   },
   {
    "duration": 1413,
    "start_time": "2023-01-15T17:37:39.562Z"
   },
   {
    "duration": 424,
    "start_time": "2023-01-15T17:37:40.977Z"
   },
   {
    "duration": 15,
    "start_time": "2023-01-15T17:37:41.402Z"
   },
   {
    "duration": 53,
    "start_time": "2023-01-15T17:37:41.419Z"
   },
   {
    "duration": 114,
    "start_time": "2023-01-15T17:37:41.474Z"
   },
   {
    "duration": 66,
    "start_time": "2023-01-15T17:37:41.590Z"
   },
   {
    "duration": 30,
    "start_time": "2023-01-15T17:37:41.658Z"
   },
   {
    "duration": 60,
    "start_time": "2023-01-15T17:37:41.689Z"
   },
   {
    "duration": 44,
    "start_time": "2023-01-15T17:37:41.755Z"
   },
   {
    "duration": 65,
    "start_time": "2023-01-15T17:37:41.801Z"
   },
   {
    "duration": 29,
    "start_time": "2023-01-15T17:37:41.868Z"
   },
   {
    "duration": 20,
    "start_time": "2023-01-15T17:37:41.899Z"
   },
   {
    "duration": 37,
    "start_time": "2023-01-15T17:37:41.921Z"
   },
   {
    "duration": 18,
    "start_time": "2023-01-15T17:37:41.962Z"
   },
   {
    "duration": 32,
    "start_time": "2023-01-15T17:37:41.983Z"
   },
   {
    "duration": 3,
    "start_time": "2023-01-15T17:37:42.018Z"
   },
   {
    "duration": 47,
    "start_time": "2023-01-15T17:37:42.023Z"
   },
   {
    "duration": 5,
    "start_time": "2023-01-15T17:37:42.072Z"
   },
   {
    "duration": 12,
    "start_time": "2023-01-15T17:37:42.078Z"
   },
   {
    "duration": 7,
    "start_time": "2023-01-15T17:37:42.092Z"
   },
   {
    "duration": 9,
    "start_time": "2023-01-15T17:37:42.100Z"
   },
   {
    "duration": 42,
    "start_time": "2023-01-15T17:37:42.110Z"
   },
   {
    "duration": 119,
    "start_time": "2023-01-15T17:37:42.153Z"
   },
   {
    "duration": 17,
    "start_time": "2023-01-15T17:37:42.274Z"
   },
   {
    "duration": 9,
    "start_time": "2023-01-15T17:37:42.340Z"
   },
   {
    "duration": 22,
    "start_time": "2023-01-15T17:37:42.352Z"
   },
   {
    "duration": 183,
    "start_time": "2023-01-15T17:37:42.376Z"
   },
   {
    "duration": 48,
    "start_time": "2023-01-15T17:37:42.563Z"
   },
   {
    "duration": 15,
    "start_time": "2023-01-15T17:37:42.614Z"
   },
   {
    "duration": 54,
    "start_time": "2023-01-15T17:37:42.632Z"
   },
   {
    "duration": 52,
    "start_time": "2023-01-15T17:37:42.689Z"
   },
   {
    "duration": 97,
    "start_time": "2023-01-15T17:37:42.746Z"
   },
   {
    "duration": 24,
    "start_time": "2023-01-15T17:37:42.845Z"
   },
   {
    "duration": 13,
    "start_time": "2023-01-15T17:37:42.870Z"
   },
   {
    "duration": 13,
    "start_time": "2023-01-15T17:37:42.885Z"
   },
   {
    "duration": 8,
    "start_time": "2023-01-15T17:37:42.902Z"
   },
   {
    "duration": 13,
    "start_time": "2023-01-15T17:37:42.914Z"
   },
   {
    "duration": 42,
    "start_time": "2023-01-15T17:37:42.929Z"
   },
   {
    "duration": 24,
    "start_time": "2023-01-15T17:37:42.974Z"
   },
   {
    "duration": 16,
    "start_time": "2023-01-15T17:37:43.001Z"
   },
   {
    "duration": 12,
    "start_time": "2023-01-15T17:37:43.021Z"
   },
   {
    "duration": 32,
    "start_time": "2023-01-15T17:37:43.038Z"
   },
   {
    "duration": 13,
    "start_time": "2023-01-15T17:37:43.073Z"
   },
   {
    "duration": 1750,
    "start_time": "2023-01-15T17:37:43.088Z"
   },
   {
    "duration": 1628,
    "start_time": "2023-01-15T17:37:44.845Z"
   },
   {
    "duration": 1693,
    "start_time": "2023-01-15T17:37:46.475Z"
   },
   {
    "duration": 16,
    "start_time": "2023-01-15T17:38:33.501Z"
   },
   {
    "duration": 154,
    "start_time": "2023-01-15T17:38:42.562Z"
   },
   {
    "duration": 1684,
    "start_time": "2023-01-15T17:39:51.020Z"
   },
   {
    "duration": 467,
    "start_time": "2023-01-15T17:39:52.706Z"
   },
   {
    "duration": 15,
    "start_time": "2023-01-15T17:39:53.175Z"
   },
   {
    "duration": 80,
    "start_time": "2023-01-15T17:39:53.192Z"
   },
   {
    "duration": 116,
    "start_time": "2023-01-15T17:39:53.274Z"
   },
   {
    "duration": 70,
    "start_time": "2023-01-15T17:39:53.392Z"
   },
   {
    "duration": 22,
    "start_time": "2023-01-15T17:39:53.464Z"
   },
   {
    "duration": 57,
    "start_time": "2023-01-15T17:39:53.488Z"
   },
   {
    "duration": 53,
    "start_time": "2023-01-15T17:39:53.552Z"
   },
   {
    "duration": 46,
    "start_time": "2023-01-15T17:39:53.609Z"
   },
   {
    "duration": 49,
    "start_time": "2023-01-15T17:39:53.659Z"
   },
   {
    "duration": 35,
    "start_time": "2023-01-15T17:39:53.710Z"
   },
   {
    "duration": 23,
    "start_time": "2023-01-15T17:39:53.751Z"
   },
   {
    "duration": 15,
    "start_time": "2023-01-15T17:39:53.775Z"
   },
   {
    "duration": 14,
    "start_time": "2023-01-15T17:39:53.792Z"
   },
   {
    "duration": 36,
    "start_time": "2023-01-15T17:39:53.808Z"
   },
   {
    "duration": 24,
    "start_time": "2023-01-15T17:39:53.847Z"
   },
   {
    "duration": 27,
    "start_time": "2023-01-15T17:39:53.873Z"
   },
   {
    "duration": 4,
    "start_time": "2023-01-15T17:39:53.902Z"
   },
   {
    "duration": 12,
    "start_time": "2023-01-15T17:39:53.908Z"
   },
   {
    "duration": 31,
    "start_time": "2023-01-15T17:39:53.922Z"
   },
   {
    "duration": 15,
    "start_time": "2023-01-15T17:39:53.955Z"
   },
   {
    "duration": 35,
    "start_time": "2023-01-15T17:39:53.972Z"
   },
   {
    "duration": 57,
    "start_time": "2023-01-15T17:39:54.009Z"
   },
   {
    "duration": 87,
    "start_time": "2023-01-15T17:39:54.069Z"
   },
   {
    "duration": 10,
    "start_time": "2023-01-15T17:39:54.159Z"
   },
   {
    "duration": 83,
    "start_time": "2023-01-15T17:39:54.171Z"
   },
   {
    "duration": 49,
    "start_time": "2023-01-15T17:39:54.335Z"
   },
   {
    "duration": 71,
    "start_time": "2023-01-15T17:39:54.386Z"
   },
   {
    "duration": 5,
    "start_time": "2023-01-15T17:39:54.459Z"
   },
   {
    "duration": 80,
    "start_time": "2023-01-15T17:39:54.466Z"
   },
   {
    "duration": 107,
    "start_time": "2023-01-15T17:39:54.548Z"
   },
   {
    "duration": 20,
    "start_time": "2023-01-15T17:39:54.657Z"
   },
   {
    "duration": 15,
    "start_time": "2023-01-15T17:39:54.679Z"
   },
   {
    "duration": 9,
    "start_time": "2023-01-15T17:39:54.696Z"
   },
   {
    "duration": 8,
    "start_time": "2023-01-15T17:39:54.707Z"
   },
   {
    "duration": 16,
    "start_time": "2023-01-15T17:39:54.717Z"
   },
   {
    "duration": 36,
    "start_time": "2023-01-15T17:39:54.735Z"
   },
   {
    "duration": 9,
    "start_time": "2023-01-15T17:39:54.773Z"
   },
   {
    "duration": 21,
    "start_time": "2023-01-15T17:39:54.784Z"
   },
   {
    "duration": 19,
    "start_time": "2023-01-15T17:39:54.808Z"
   },
   {
    "duration": 18,
    "start_time": "2023-01-15T17:39:54.829Z"
   },
   {
    "duration": 7,
    "start_time": "2023-01-15T17:39:54.851Z"
   },
   {
    "duration": 22,
    "start_time": "2023-01-15T17:39:54.861Z"
   },
   {
    "duration": 1726,
    "start_time": "2023-01-15T17:39:54.885Z"
   },
   {
    "duration": 1703,
    "start_time": "2023-01-15T17:39:56.613Z"
   },
   {
    "duration": 1656,
    "start_time": "2023-01-15T17:39:58.318Z"
   },
   {
    "duration": 1410,
    "start_time": "2023-01-15T17:40:26.762Z"
   },
   {
    "duration": 431,
    "start_time": "2023-01-15T17:40:28.174Z"
   },
   {
    "duration": 14,
    "start_time": "2023-01-15T17:40:28.607Z"
   },
   {
    "duration": 49,
    "start_time": "2023-01-15T17:40:28.634Z"
   },
   {
    "duration": 121,
    "start_time": "2023-01-15T17:40:28.684Z"
   },
   {
    "duration": 50,
    "start_time": "2023-01-15T17:40:28.807Z"
   },
   {
    "duration": 42,
    "start_time": "2023-01-15T17:40:28.859Z"
   },
   {
    "duration": 48,
    "start_time": "2023-01-15T17:40:28.903Z"
   },
   {
    "duration": 17,
    "start_time": "2023-01-15T17:40:28.953Z"
   },
   {
    "duration": 46,
    "start_time": "2023-01-15T17:40:28.972Z"
   },
   {
    "duration": 47,
    "start_time": "2023-01-15T17:40:29.035Z"
   },
   {
    "duration": 62,
    "start_time": "2023-01-15T17:40:29.084Z"
   },
   {
    "duration": 18,
    "start_time": "2023-01-15T17:40:29.148Z"
   },
   {
    "duration": 16,
    "start_time": "2023-01-15T17:40:29.167Z"
   },
   {
    "duration": 19,
    "start_time": "2023-01-15T17:40:29.185Z"
   },
   {
    "duration": 50,
    "start_time": "2023-01-15T17:40:29.206Z"
   },
   {
    "duration": 21,
    "start_time": "2023-01-15T17:40:29.258Z"
   },
   {
    "duration": 3,
    "start_time": "2023-01-15T17:40:29.280Z"
   },
   {
    "duration": 21,
    "start_time": "2023-01-15T17:40:29.285Z"
   },
   {
    "duration": 3,
    "start_time": "2023-01-15T17:40:29.308Z"
   },
   {
    "duration": 29,
    "start_time": "2023-01-15T17:40:29.313Z"
   },
   {
    "duration": 27,
    "start_time": "2023-01-15T17:40:29.345Z"
   },
   {
    "duration": 20,
    "start_time": "2023-01-15T17:40:29.374Z"
   },
   {
    "duration": 30,
    "start_time": "2023-01-15T17:40:29.397Z"
   },
   {
    "duration": 21,
    "start_time": "2023-01-15T17:40:29.440Z"
   },
   {
    "duration": 91,
    "start_time": "2023-01-15T17:40:29.464Z"
   },
   {
    "duration": 16,
    "start_time": "2023-01-15T17:40:29.558Z"
   },
   {
    "duration": 65,
    "start_time": "2023-01-15T17:40:29.578Z"
   },
   {
    "duration": 111,
    "start_time": "2023-01-15T17:40:29.645Z"
   },
   {
    "duration": 27,
    "start_time": "2023-01-15T17:40:29.758Z"
   },
   {
    "duration": 7,
    "start_time": "2023-01-15T17:40:29.787Z"
   },
   {
    "duration": 26,
    "start_time": "2023-01-15T17:40:29.796Z"
   },
   {
    "duration": 122,
    "start_time": "2023-01-15T17:40:29.843Z"
   },
   {
    "duration": 8,
    "start_time": "2023-01-15T17:40:29.968Z"
   },
   {
    "duration": 60,
    "start_time": "2023-01-15T17:40:29.978Z"
   },
   {
    "duration": 38,
    "start_time": "2023-01-15T17:40:30.040Z"
   },
   {
    "duration": 15,
    "start_time": "2023-01-15T17:40:30.080Z"
   },
   {
    "duration": 19,
    "start_time": "2023-01-15T17:40:30.098Z"
   },
   {
    "duration": 14,
    "start_time": "2023-01-15T17:40:30.119Z"
   },
   {
    "duration": 63,
    "start_time": "2023-01-15T17:40:30.135Z"
   },
   {
    "duration": 17,
    "start_time": "2023-01-15T17:40:30.200Z"
   },
   {
    "duration": 47,
    "start_time": "2023-01-15T17:40:30.219Z"
   },
   {
    "duration": 39,
    "start_time": "2023-01-15T17:40:30.268Z"
   },
   {
    "duration": 56,
    "start_time": "2023-01-15T17:40:30.309Z"
   },
   {
    "duration": 38,
    "start_time": "2023-01-15T17:40:30.367Z"
   },
   {
    "duration": 1717,
    "start_time": "2023-01-15T17:40:30.408Z"
   },
   {
    "duration": 1749,
    "start_time": "2023-01-15T17:40:32.126Z"
   },
   {
    "duration": 1706,
    "start_time": "2023-01-15T17:40:33.878Z"
   },
   {
    "duration": 1402,
    "start_time": "2023-01-15T17:42:00.575Z"
   },
   {
    "duration": 453,
    "start_time": "2023-01-15T17:42:01.979Z"
   },
   {
    "duration": 30,
    "start_time": "2023-01-15T17:42:02.438Z"
   },
   {
    "duration": 65,
    "start_time": "2023-01-15T17:42:02.471Z"
   },
   {
    "duration": 133,
    "start_time": "2023-01-15T17:42:02.539Z"
   },
   {
    "duration": 76,
    "start_time": "2023-01-15T17:42:02.674Z"
   },
   {
    "duration": 32,
    "start_time": "2023-01-15T17:42:02.752Z"
   },
   {
    "duration": 21,
    "start_time": "2023-01-15T17:42:02.787Z"
   },
   {
    "duration": 76,
    "start_time": "2023-01-15T17:42:02.810Z"
   },
   {
    "duration": 35,
    "start_time": "2023-01-15T17:42:02.889Z"
   },
   {
    "duration": 45,
    "start_time": "2023-01-15T17:42:02.926Z"
   },
   {
    "duration": 26,
    "start_time": "2023-01-15T17:42:02.973Z"
   },
   {
    "duration": 24,
    "start_time": "2023-01-15T17:42:03.002Z"
   },
   {
    "duration": 20,
    "start_time": "2023-01-15T17:42:03.035Z"
   },
   {
    "duration": 18,
    "start_time": "2023-01-15T17:42:03.058Z"
   },
   {
    "duration": 31,
    "start_time": "2023-01-15T17:42:03.079Z"
   },
   {
    "duration": 8,
    "start_time": "2023-01-15T17:42:03.113Z"
   },
   {
    "duration": 44,
    "start_time": "2023-01-15T17:42:03.123Z"
   },
   {
    "duration": 5,
    "start_time": "2023-01-15T17:42:03.169Z"
   },
   {
    "duration": 9,
    "start_time": "2023-01-15T17:42:03.175Z"
   },
   {
    "duration": 10,
    "start_time": "2023-01-15T17:42:03.186Z"
   },
   {
    "duration": 13,
    "start_time": "2023-01-15T17:42:03.197Z"
   },
   {
    "duration": 49,
    "start_time": "2023-01-15T17:42:03.212Z"
   },
   {
    "duration": 211,
    "start_time": "2023-01-15T17:42:03.264Z"
   },
   {
    "duration": 21,
    "start_time": "2023-01-15T17:42:03.477Z"
   },
   {
    "duration": 15,
    "start_time": "2023-01-15T17:42:03.499Z"
   },
   {
    "duration": 34,
    "start_time": "2023-01-15T17:42:03.515Z"
   },
   {
    "duration": 186,
    "start_time": "2023-01-15T17:42:03.559Z"
   },
   {
    "duration": 19,
    "start_time": "2023-01-15T17:42:03.747Z"
   },
   {
    "duration": 11,
    "start_time": "2023-01-15T17:42:03.768Z"
   },
   {
    "duration": 31,
    "start_time": "2023-01-15T17:42:03.781Z"
   },
   {
    "duration": 133,
    "start_time": "2023-01-15T17:42:03.814Z"
   },
   {
    "duration": 27,
    "start_time": "2023-01-15T17:42:03.949Z"
   },
   {
    "duration": 21,
    "start_time": "2023-01-15T17:42:03.978Z"
   },
   {
    "duration": 13,
    "start_time": "2023-01-15T17:42:04.001Z"
   },
   {
    "duration": 13,
    "start_time": "2023-01-15T17:42:04.016Z"
   },
   {
    "duration": 25,
    "start_time": "2023-01-15T17:42:04.030Z"
   },
   {
    "duration": 11,
    "start_time": "2023-01-15T17:42:04.057Z"
   },
   {
    "duration": 7,
    "start_time": "2023-01-15T17:42:04.070Z"
   },
   {
    "duration": 12,
    "start_time": "2023-01-15T17:42:04.078Z"
   },
   {
    "duration": 140,
    "start_time": "2023-01-15T17:42:04.092Z"
   },
   {
    "duration": 0,
    "start_time": "2023-01-15T17:42:04.235Z"
   },
   {
    "duration": 0,
    "start_time": "2023-01-15T17:42:04.236Z"
   },
   {
    "duration": 0,
    "start_time": "2023-01-15T17:42:04.237Z"
   },
   {
    "duration": 0,
    "start_time": "2023-01-15T17:42:04.239Z"
   },
   {
    "duration": 0,
    "start_time": "2023-01-15T17:42:04.240Z"
   },
   {
    "duration": 1,
    "start_time": "2023-01-15T17:42:04.241Z"
   },
   {
    "duration": 1477,
    "start_time": "2023-01-15T17:42:53.103Z"
   },
   {
    "duration": 482,
    "start_time": "2023-01-15T17:42:54.582Z"
   },
   {
    "duration": 16,
    "start_time": "2023-01-15T17:42:55.066Z"
   },
   {
    "duration": 76,
    "start_time": "2023-01-15T17:42:55.084Z"
   },
   {
    "duration": 141,
    "start_time": "2023-01-15T17:42:55.162Z"
   },
   {
    "duration": 76,
    "start_time": "2023-01-15T17:42:55.305Z"
   },
   {
    "duration": 60,
    "start_time": "2023-01-15T17:42:55.382Z"
   },
   {
    "duration": 38,
    "start_time": "2023-01-15T17:42:55.444Z"
   },
   {
    "duration": 30,
    "start_time": "2023-01-15T17:42:55.484Z"
   },
   {
    "duration": 60,
    "start_time": "2023-01-15T17:42:55.517Z"
   },
   {
    "duration": 41,
    "start_time": "2023-01-15T17:42:55.580Z"
   },
   {
    "duration": 41,
    "start_time": "2023-01-15T17:42:55.623Z"
   },
   {
    "duration": 31,
    "start_time": "2023-01-15T17:42:55.666Z"
   },
   {
    "duration": 26,
    "start_time": "2023-01-15T17:42:55.698Z"
   },
   {
    "duration": 60,
    "start_time": "2023-01-15T17:42:55.726Z"
   },
   {
    "duration": 13,
    "start_time": "2023-01-15T17:42:55.788Z"
   },
   {
    "duration": 44,
    "start_time": "2023-01-15T17:42:55.803Z"
   },
   {
    "duration": 13,
    "start_time": "2023-01-15T17:42:55.849Z"
   },
   {
    "duration": 21,
    "start_time": "2023-01-15T17:42:55.864Z"
   },
   {
    "duration": 12,
    "start_time": "2023-01-15T17:42:55.888Z"
   },
   {
    "duration": 15,
    "start_time": "2023-01-15T17:42:55.902Z"
   },
   {
    "duration": 123,
    "start_time": "2023-01-15T17:42:55.919Z"
   },
   {
    "duration": 125,
    "start_time": "2023-01-15T17:42:56.044Z"
   },
   {
    "duration": 18,
    "start_time": "2023-01-15T17:42:56.171Z"
   },
   {
    "duration": 4,
    "start_time": "2023-01-15T17:42:56.191Z"
   },
   {
    "duration": 56,
    "start_time": "2023-01-15T17:42:56.197Z"
   },
   {
    "duration": 103,
    "start_time": "2023-01-15T17:42:56.255Z"
   },
   {
    "duration": 23,
    "start_time": "2023-01-15T17:42:56.362Z"
   },
   {
    "duration": 9,
    "start_time": "2023-01-15T17:42:56.436Z"
   },
   {
    "duration": 85,
    "start_time": "2023-01-15T17:42:56.454Z"
   },
   {
    "duration": 113,
    "start_time": "2023-01-15T17:42:56.541Z"
   },
   {
    "duration": 21,
    "start_time": "2023-01-15T17:42:56.657Z"
   },
   {
    "duration": 16,
    "start_time": "2023-01-15T17:42:56.680Z"
   },
   {
    "duration": 15,
    "start_time": "2023-01-15T17:42:56.698Z"
   },
   {
    "duration": 23,
    "start_time": "2023-01-15T17:42:56.715Z"
   },
   {
    "duration": 31,
    "start_time": "2023-01-15T17:42:56.746Z"
   },
   {
    "duration": 28,
    "start_time": "2023-01-15T17:42:56.780Z"
   },
   {
    "duration": 20,
    "start_time": "2023-01-15T17:42:56.810Z"
   },
   {
    "duration": 26,
    "start_time": "2023-01-15T17:42:56.833Z"
   },
   {
    "duration": 144,
    "start_time": "2023-01-15T17:42:56.861Z"
   },
   {
    "duration": 0,
    "start_time": "2023-01-15T17:42:57.007Z"
   },
   {
    "duration": 0,
    "start_time": "2023-01-15T17:42:57.008Z"
   },
   {
    "duration": 0,
    "start_time": "2023-01-15T17:42:57.009Z"
   },
   {
    "duration": 0,
    "start_time": "2023-01-15T17:42:57.010Z"
   },
   {
    "duration": 0,
    "start_time": "2023-01-15T17:42:57.011Z"
   },
   {
    "duration": 0,
    "start_time": "2023-01-15T17:42:57.013Z"
   },
   {
    "duration": 4,
    "start_time": "2023-01-15T17:49:48.203Z"
   },
   {
    "duration": 49,
    "start_time": "2023-01-15T17:51:04.083Z"
   },
   {
    "duration": 4,
    "start_time": "2023-01-15T18:01:31.179Z"
   },
   {
    "duration": 3,
    "start_time": "2023-01-15T18:01:31.368Z"
   },
   {
    "duration": 369,
    "start_time": "2023-01-15T18:01:31.765Z"
   },
   {
    "duration": 12,
    "start_time": "2023-01-15T18:01:32.194Z"
   },
   {
    "duration": 39,
    "start_time": "2023-01-15T18:01:32.386Z"
   },
   {
    "duration": 92,
    "start_time": "2023-01-15T18:01:32.589Z"
   },
   {
    "duration": 41,
    "start_time": "2023-01-15T18:01:32.802Z"
   },
   {
    "duration": 3,
    "start_time": "2023-01-15T18:01:33.006Z"
   },
   {
    "duration": 3,
    "start_time": "2023-01-15T18:01:33.202Z"
   },
   {
    "duration": 3,
    "start_time": "2023-01-15T18:01:33.391Z"
   },
   {
    "duration": 58,
    "start_time": "2023-01-15T18:01:33.576Z"
   },
   {
    "duration": 20,
    "start_time": "2023-01-15T18:01:34.007Z"
   },
   {
    "duration": 15,
    "start_time": "2023-01-15T18:01:34.172Z"
   },
   {
    "duration": 15,
    "start_time": "2023-01-15T18:01:34.596Z"
   },
   {
    "duration": 12,
    "start_time": "2023-01-15T18:01:35.221Z"
   },
   {
    "duration": 13,
    "start_time": "2023-01-15T18:01:36.716Z"
   },
   {
    "duration": 3,
    "start_time": "2023-01-15T18:01:36.912Z"
   },
   {
    "duration": 15,
    "start_time": "2023-01-15T18:01:37.106Z"
   },
   {
    "duration": 3,
    "start_time": "2023-01-15T18:01:38.149Z"
   },
   {
    "duration": 4,
    "start_time": "2023-01-15T18:01:38.333Z"
   },
   {
    "duration": 4,
    "start_time": "2023-01-15T18:01:38.525Z"
   },
   {
    "duration": 5,
    "start_time": "2023-01-15T18:01:38.721Z"
   },
   {
    "duration": 80,
    "start_time": "2023-01-15T18:01:39.136Z"
   },
   {
    "duration": 16,
    "start_time": "2023-01-15T18:01:39.555Z"
   },
   {
    "duration": 21,
    "start_time": "2023-01-15T18:01:39.773Z"
   },
   {
    "duration": 4,
    "start_time": "2023-01-15T18:01:39.975Z"
   },
   {
    "duration": 17,
    "start_time": "2023-01-15T18:01:40.196Z"
   },
   {
    "duration": 16,
    "start_time": "2023-01-15T18:01:40.614Z"
   },
   {
    "duration": 16,
    "start_time": "2023-01-15T18:01:40.833Z"
   },
   {
    "duration": 4,
    "start_time": "2023-01-15T18:01:41.063Z"
   },
   {
    "duration": 20,
    "start_time": "2023-01-15T18:01:41.289Z"
   },
   {
    "duration": 3,
    "start_time": "2023-01-15T18:01:43.443Z"
   },
   {
    "duration": 5,
    "start_time": "2023-01-15T18:01:43.659Z"
   },
   {
    "duration": 2,
    "start_time": "2023-01-15T18:01:43.832Z"
   },
   {
    "duration": 4,
    "start_time": "2023-01-15T18:01:44.327Z"
   },
   {
    "duration": 3,
    "start_time": "2023-01-15T18:01:44.688Z"
   },
   {
    "duration": 4,
    "start_time": "2023-01-15T18:01:44.899Z"
   },
   {
    "duration": 5,
    "start_time": "2023-01-15T18:01:45.112Z"
   },
   {
    "duration": 4,
    "start_time": "2023-01-15T18:01:47.071Z"
   },
   {
    "duration": 10,
    "start_time": "2023-01-15T18:01:47.938Z"
   },
   {
    "duration": 9,
    "start_time": "2023-01-15T18:01:48.665Z"
   },
   {
    "duration": 5,
    "start_time": "2023-01-15T18:01:50.278Z"
   },
   {
    "duration": 1323,
    "start_time": "2023-01-15T18:02:09.826Z"
   },
   {
    "duration": 4,
    "start_time": "2023-01-15T18:02:11.151Z"
   },
   {
    "duration": 393,
    "start_time": "2023-01-15T18:02:11.157Z"
   },
   {
    "duration": 14,
    "start_time": "2023-01-15T18:02:11.553Z"
   },
   {
    "duration": 67,
    "start_time": "2023-01-15T18:02:11.570Z"
   },
   {
    "duration": 135,
    "start_time": "2023-01-15T18:02:11.639Z"
   },
   {
    "duration": 77,
    "start_time": "2023-01-15T18:02:11.777Z"
   },
   {
    "duration": 32,
    "start_time": "2023-01-15T18:02:11.856Z"
   },
   {
    "duration": 59,
    "start_time": "2023-01-15T18:02:11.891Z"
   },
   {
    "duration": 57,
    "start_time": "2023-01-15T18:02:11.953Z"
   },
   {
    "duration": 66,
    "start_time": "2023-01-15T18:02:12.015Z"
   },
   {
    "duration": 41,
    "start_time": "2023-01-15T18:02:12.083Z"
   },
   {
    "duration": 23,
    "start_time": "2023-01-15T18:02:12.127Z"
   },
   {
    "duration": 30,
    "start_time": "2023-01-15T18:02:12.155Z"
   },
   {
    "duration": 40,
    "start_time": "2023-01-15T18:02:12.188Z"
   },
   {
    "duration": 34,
    "start_time": "2023-01-15T18:02:12.231Z"
   },
   {
    "duration": 13,
    "start_time": "2023-01-15T18:02:12.267Z"
   },
   {
    "duration": 49,
    "start_time": "2023-01-15T18:02:12.283Z"
   },
   {
    "duration": 10,
    "start_time": "2023-01-15T18:02:12.334Z"
   },
   {
    "duration": 18,
    "start_time": "2023-01-15T18:02:12.348Z"
   },
   {
    "duration": 20,
    "start_time": "2023-01-15T18:02:12.368Z"
   },
   {
    "duration": 18,
    "start_time": "2023-01-15T18:02:12.391Z"
   },
   {
    "duration": 111,
    "start_time": "2023-01-15T18:02:12.411Z"
   },
   {
    "duration": 111,
    "start_time": "2023-01-15T18:02:12.524Z"
   },
   {
    "duration": 20,
    "start_time": "2023-01-15T18:02:12.637Z"
   },
   {
    "duration": 3,
    "start_time": "2023-01-15T18:02:12.659Z"
   },
   {
    "duration": 53,
    "start_time": "2023-01-15T18:02:12.664Z"
   },
   {
    "duration": 110,
    "start_time": "2023-01-15T18:02:12.719Z"
   },
   {
    "duration": 20,
    "start_time": "2023-01-15T18:02:12.830Z"
   },
   {
    "duration": 5,
    "start_time": "2023-01-15T18:02:12.852Z"
   },
   {
    "duration": 64,
    "start_time": "2023-01-15T18:02:12.859Z"
   },
   {
    "duration": 91,
    "start_time": "2023-01-15T18:02:12.926Z"
   },
   {
    "duration": 11,
    "start_time": "2023-01-15T18:02:13.019Z"
   },
   {
    "duration": 5,
    "start_time": "2023-01-15T18:02:13.032Z"
   },
   {
    "duration": 11,
    "start_time": "2023-01-15T18:02:13.039Z"
   },
   {
    "duration": 5,
    "start_time": "2023-01-15T18:02:13.052Z"
   },
   {
    "duration": 6,
    "start_time": "2023-01-15T18:02:13.059Z"
   },
   {
    "duration": 51,
    "start_time": "2023-01-15T18:02:13.067Z"
   },
   {
    "duration": 9,
    "start_time": "2023-01-15T18:02:13.120Z"
   },
   {
    "duration": 136,
    "start_time": "2023-01-15T18:02:13.131Z"
   },
   {
    "duration": 0,
    "start_time": "2023-01-15T18:02:13.269Z"
   },
   {
    "duration": 0,
    "start_time": "2023-01-15T18:02:13.271Z"
   },
   {
    "duration": 0,
    "start_time": "2023-01-15T18:02:13.273Z"
   },
   {
    "duration": 0,
    "start_time": "2023-01-15T18:02:13.274Z"
   },
   {
    "duration": 0,
    "start_time": "2023-01-15T18:02:13.275Z"
   },
   {
    "duration": 0,
    "start_time": "2023-01-15T18:02:13.277Z"
   },
   {
    "duration": 1273,
    "start_time": "2023-01-15T18:03:32.565Z"
   },
   {
    "duration": 3,
    "start_time": "2023-01-15T18:03:33.841Z"
   },
   {
    "duration": 417,
    "start_time": "2023-01-15T18:03:33.847Z"
   },
   {
    "duration": 17,
    "start_time": "2023-01-15T18:03:34.267Z"
   },
   {
    "duration": 78,
    "start_time": "2023-01-15T18:03:34.286Z"
   },
   {
    "duration": 121,
    "start_time": "2023-01-15T18:03:34.366Z"
   },
   {
    "duration": 76,
    "start_time": "2023-01-15T18:03:34.489Z"
   },
   {
    "duration": 24,
    "start_time": "2023-01-15T18:03:34.567Z"
   },
   {
    "duration": 20,
    "start_time": "2023-01-15T18:03:34.615Z"
   },
   {
    "duration": 21,
    "start_time": "2023-01-15T18:03:34.639Z"
   },
   {
    "duration": 22,
    "start_time": "2023-01-15T18:03:34.661Z"
   },
   {
    "duration": 20,
    "start_time": "2023-01-15T18:03:34.716Z"
   },
   {
    "duration": 4,
    "start_time": "2023-01-15T18:03:34.738Z"
   },
   {
    "duration": 19,
    "start_time": "2023-01-15T18:03:34.744Z"
   },
   {
    "duration": 9,
    "start_time": "2023-01-15T18:03:34.765Z"
   },
   {
    "duration": 42,
    "start_time": "2023-01-15T18:03:34.775Z"
   },
   {
    "duration": 6,
    "start_time": "2023-01-15T18:03:34.819Z"
   },
   {
    "duration": 8,
    "start_time": "2023-01-15T18:03:34.827Z"
   },
   {
    "duration": 25,
    "start_time": "2023-01-15T18:03:34.837Z"
   },
   {
    "duration": 175,
    "start_time": "2023-01-15T18:03:34.864Z"
   },
   {
    "duration": 19,
    "start_time": "2023-01-15T18:03:35.041Z"
   },
   {
    "duration": 5,
    "start_time": "2023-01-15T18:03:35.062Z"
   },
   {
    "duration": 49,
    "start_time": "2023-01-15T18:03:35.069Z"
   },
   {
    "duration": 105,
    "start_time": "2023-01-15T18:03:35.120Z"
   },
   {
    "duration": 22,
    "start_time": "2023-01-15T18:03:35.226Z"
   },
   {
    "duration": 16,
    "start_time": "2023-01-15T18:03:35.250Z"
   },
   {
    "duration": 52,
    "start_time": "2023-01-15T18:03:35.268Z"
   },
   {
    "duration": 3,
    "start_time": "2023-01-15T18:03:35.325Z"
   },
   {
    "duration": 95,
    "start_time": "2023-01-15T18:03:35.330Z"
   },
   {
    "duration": 9,
    "start_time": "2023-01-15T18:03:35.427Z"
   },
   {
    "duration": 16,
    "start_time": "2023-01-15T18:03:35.437Z"
   },
   {
    "duration": 10,
    "start_time": "2023-01-15T18:03:35.455Z"
   },
   {
    "duration": 51,
    "start_time": "2023-01-15T18:03:35.466Z"
   },
   {
    "duration": 10,
    "start_time": "2023-01-15T18:03:35.519Z"
   },
   {
    "duration": 7,
    "start_time": "2023-01-15T18:03:35.531Z"
   },
   {
    "duration": 13,
    "start_time": "2023-01-15T18:03:35.540Z"
   },
   {
    "duration": 16,
    "start_time": "2023-01-15T18:03:35.555Z"
   },
   {
    "duration": 6,
    "start_time": "2023-01-15T18:03:35.573Z"
   },
   {
    "duration": 39,
    "start_time": "2023-01-15T18:03:35.581Z"
   },
   {
    "duration": 1638,
    "start_time": "2023-01-15T18:03:35.622Z"
   },
   {
    "duration": 1489,
    "start_time": "2023-01-15T18:03:37.262Z"
   },
   {
    "duration": 1510,
    "start_time": "2023-01-15T18:03:38.753Z"
   },
   {
    "duration": 15,
    "start_time": "2023-01-15T18:07:42.512Z"
   },
   {
    "duration": 4,
    "start_time": "2023-01-15T18:08:00.693Z"
   },
   {
    "duration": 3,
    "start_time": "2023-01-15T18:08:01.125Z"
   },
   {
    "duration": 375,
    "start_time": "2023-01-15T18:08:01.269Z"
   },
   {
    "duration": 16,
    "start_time": "2023-01-15T18:08:02.129Z"
   },
   {
    "duration": 43,
    "start_time": "2023-01-15T18:08:02.310Z"
   },
   {
    "duration": 82,
    "start_time": "2023-01-15T18:08:02.644Z"
   },
   {
    "duration": 47,
    "start_time": "2023-01-15T18:08:02.906Z"
   },
   {
    "duration": 15,
    "start_time": "2023-01-15T18:08:03.253Z"
   },
   {
    "duration": 22,
    "start_time": "2023-01-15T18:08:03.523Z"
   },
   {
    "duration": 20,
    "start_time": "2023-01-15T18:08:03.898Z"
   },
   {
    "duration": 14,
    "start_time": "2023-01-15T18:08:04.410Z"
   },
   {
    "duration": 13,
    "start_time": "2023-01-15T18:08:05.876Z"
   },
   {
    "duration": 3,
    "start_time": "2023-01-15T18:08:06.031Z"
   },
   {
    "duration": 13,
    "start_time": "2023-01-15T18:08:06.186Z"
   },
   {
    "duration": 1384,
    "start_time": "2023-01-15T18:08:15.603Z"
   },
   {
    "duration": 4,
    "start_time": "2023-01-15T18:08:16.988Z"
   },
   {
    "duration": 389,
    "start_time": "2023-01-15T18:08:16.993Z"
   },
   {
    "duration": 18,
    "start_time": "2023-01-15T18:08:17.384Z"
   },
   {
    "duration": 63,
    "start_time": "2023-01-15T18:08:17.405Z"
   },
   {
    "duration": 110,
    "start_time": "2023-01-15T18:08:17.470Z"
   },
   {
    "duration": 52,
    "start_time": "2023-01-15T18:08:17.582Z"
   },
   {
    "duration": 16,
    "start_time": "2023-01-15T18:08:17.636Z"
   },
   {
    "duration": 15,
    "start_time": "2023-01-15T18:08:17.653Z"
   },
   {
    "duration": 51,
    "start_time": "2023-01-15T18:08:17.669Z"
   },
   {
    "duration": 15,
    "start_time": "2023-01-15T18:08:17.722Z"
   },
   {
    "duration": 19,
    "start_time": "2023-01-15T18:08:17.739Z"
   },
   {
    "duration": 2,
    "start_time": "2023-01-15T18:08:17.760Z"
   },
   {
    "duration": 51,
    "start_time": "2023-01-15T18:08:17.766Z"
   },
   {
    "duration": 5,
    "start_time": "2023-01-15T18:08:17.819Z"
   },
   {
    "duration": 6,
    "start_time": "2023-01-15T18:08:17.826Z"
   },
   {
    "duration": 5,
    "start_time": "2023-01-15T18:08:17.834Z"
   },
   {
    "duration": 7,
    "start_time": "2023-01-15T18:08:17.842Z"
   },
   {
    "duration": 70,
    "start_time": "2023-01-15T18:08:17.850Z"
   },
   {
    "duration": 105,
    "start_time": "2023-01-15T18:08:17.922Z"
   },
   {
    "duration": 16,
    "start_time": "2023-01-15T18:08:18.029Z"
   },
   {
    "duration": 19,
    "start_time": "2023-01-15T18:08:18.047Z"
   },
   {
    "duration": 51,
    "start_time": "2023-01-15T18:08:18.068Z"
   },
   {
    "duration": 105,
    "start_time": "2023-01-15T18:08:18.121Z"
   },
   {
    "duration": 16,
    "start_time": "2023-01-15T18:08:18.227Z"
   },
   {
    "duration": 4,
    "start_time": "2023-01-15T18:08:18.245Z"
   },
   {
    "duration": 81,
    "start_time": "2023-01-15T18:08:18.250Z"
   },
   {
    "duration": 94,
    "start_time": "2023-01-15T18:08:18.335Z"
   },
   {
    "duration": 90,
    "start_time": "2023-01-15T18:08:18.432Z"
   },
   {
    "duration": 5,
    "start_time": "2023-01-15T18:08:18.524Z"
   },
   {
    "duration": 9,
    "start_time": "2023-01-15T18:08:18.530Z"
   },
   {
    "duration": 11,
    "start_time": "2023-01-15T18:08:18.541Z"
   },
   {
    "duration": 6,
    "start_time": "2023-01-15T18:08:18.554Z"
   },
   {
    "duration": 5,
    "start_time": "2023-01-15T18:08:18.562Z"
   },
   {
    "duration": 6,
    "start_time": "2023-01-15T18:08:18.568Z"
   },
   {
    "duration": 45,
    "start_time": "2023-01-15T18:08:18.575Z"
   },
   {
    "duration": 8,
    "start_time": "2023-01-15T18:08:18.622Z"
   },
   {
    "duration": 5,
    "start_time": "2023-01-15T18:08:18.632Z"
   },
   {
    "duration": 12,
    "start_time": "2023-01-15T18:08:18.638Z"
   },
   {
    "duration": 2107,
    "start_time": "2023-01-15T18:08:18.651Z"
   },
   {
    "duration": 1938,
    "start_time": "2023-01-15T18:08:20.816Z"
   },
   {
    "duration": 1541,
    "start_time": "2023-01-15T18:08:22.756Z"
   },
   {
    "duration": 1331,
    "start_time": "2023-01-15T18:09:12.011Z"
   },
   {
    "duration": 4,
    "start_time": "2023-01-15T18:09:13.344Z"
   },
   {
    "duration": 389,
    "start_time": "2023-01-15T18:09:13.350Z"
   },
   {
    "duration": 14,
    "start_time": "2023-01-15T18:09:13.741Z"
   },
   {
    "duration": 35,
    "start_time": "2023-01-15T18:09:13.757Z"
   },
   {
    "duration": 121,
    "start_time": "2023-01-15T18:09:13.794Z"
   },
   {
    "duration": 44,
    "start_time": "2023-01-15T18:09:13.917Z"
   },
   {
    "duration": 17,
    "start_time": "2023-01-15T18:09:13.963Z"
   },
   {
    "duration": 49,
    "start_time": "2023-01-15T18:09:13.982Z"
   },
   {
    "duration": 21,
    "start_time": "2023-01-15T18:09:14.035Z"
   },
   {
    "duration": 19,
    "start_time": "2023-01-15T18:09:14.058Z"
   },
   {
    "duration": 46,
    "start_time": "2023-01-15T18:09:14.079Z"
   },
   {
    "duration": 3,
    "start_time": "2023-01-15T18:09:14.128Z"
   },
   {
    "duration": 28,
    "start_time": "2023-01-15T18:09:14.133Z"
   },
   {
    "duration": 4,
    "start_time": "2023-01-15T18:09:14.164Z"
   },
   {
    "duration": 5,
    "start_time": "2023-01-15T18:09:14.170Z"
   },
   {
    "duration": 39,
    "start_time": "2023-01-15T18:09:14.177Z"
   },
   {
    "duration": 5,
    "start_time": "2023-01-15T18:09:14.218Z"
   },
   {
    "duration": 104,
    "start_time": "2023-01-15T18:09:14.225Z"
   },
   {
    "duration": 95,
    "start_time": "2023-01-15T18:09:14.332Z"
   },
   {
    "duration": 18,
    "start_time": "2023-01-15T18:09:14.429Z"
   },
   {
    "duration": 6,
    "start_time": "2023-01-15T18:09:14.448Z"
   },
   {
    "duration": 63,
    "start_time": "2023-01-15T18:09:14.456Z"
   },
   {
    "duration": 115,
    "start_time": "2023-01-15T18:09:14.522Z"
   },
   {
    "duration": 18,
    "start_time": "2023-01-15T18:09:14.639Z"
   },
   {
    "duration": 6,
    "start_time": "2023-01-15T18:09:14.658Z"
   },
   {
    "duration": 61,
    "start_time": "2023-01-15T18:09:14.666Z"
   },
   {
    "duration": 85,
    "start_time": "2023-01-15T18:09:14.733Z"
   },
   {
    "duration": 103,
    "start_time": "2023-01-15T18:09:14.820Z"
   },
   {
    "duration": 5,
    "start_time": "2023-01-15T18:09:14.925Z"
   },
   {
    "duration": 7,
    "start_time": "2023-01-15T18:09:14.932Z"
   },
   {
    "duration": 14,
    "start_time": "2023-01-15T18:09:14.941Z"
   },
   {
    "duration": 16,
    "start_time": "2023-01-15T18:09:14.957Z"
   },
   {
    "duration": 8,
    "start_time": "2023-01-15T18:09:14.975Z"
   },
   {
    "duration": 6,
    "start_time": "2023-01-15T18:09:14.985Z"
   },
   {
    "duration": 26,
    "start_time": "2023-01-15T18:09:14.992Z"
   },
   {
    "duration": 8,
    "start_time": "2023-01-15T18:09:15.020Z"
   },
   {
    "duration": 14,
    "start_time": "2023-01-15T18:09:15.030Z"
   },
   {
    "duration": 10,
    "start_time": "2023-01-15T18:09:15.046Z"
   },
   {
    "duration": 2521,
    "start_time": "2023-01-15T18:09:15.058Z"
   },
   {
    "duration": 1447,
    "start_time": "2023-01-15T18:09:17.581Z"
   },
   {
    "duration": 1412,
    "start_time": "2023-01-15T18:09:19.030Z"
   },
   {
    "duration": 1962,
    "start_time": "2023-01-15T19:04:52.551Z"
   },
   {
    "duration": 3,
    "start_time": "2023-01-15T19:04:54.516Z"
   },
   {
    "duration": 964,
    "start_time": "2023-01-15T19:04:54.521Z"
   },
   {
    "duration": 14,
    "start_time": "2023-01-15T19:04:55.487Z"
   },
   {
    "duration": 50,
    "start_time": "2023-01-15T19:04:55.503Z"
   },
   {
    "duration": 95,
    "start_time": "2023-01-15T19:04:55.555Z"
   },
   {
    "duration": 44,
    "start_time": "2023-01-15T19:04:55.651Z"
   },
   {
    "duration": 22,
    "start_time": "2023-01-15T19:04:55.697Z"
   },
   {
    "duration": 15,
    "start_time": "2023-01-15T19:04:55.721Z"
   },
   {
    "duration": 43,
    "start_time": "2023-01-15T19:04:55.739Z"
   },
   {
    "duration": 16,
    "start_time": "2023-01-15T19:04:55.784Z"
   },
   {
    "duration": 20,
    "start_time": "2023-01-15T19:04:55.801Z"
   },
   {
    "duration": 2,
    "start_time": "2023-01-15T19:04:55.823Z"
   },
   {
    "duration": 20,
    "start_time": "2023-01-15T19:04:55.827Z"
   },
   {
    "duration": 29,
    "start_time": "2023-01-15T19:04:55.848Z"
   },
   {
    "duration": 6,
    "start_time": "2023-01-15T19:04:55.879Z"
   },
   {
    "duration": 14,
    "start_time": "2023-01-15T19:04:55.886Z"
   },
   {
    "duration": 7,
    "start_time": "2023-01-15T19:04:55.901Z"
   },
   {
    "duration": 165,
    "start_time": "2023-01-15T19:04:55.910Z"
   },
   {
    "duration": 99,
    "start_time": "2023-01-15T19:04:56.078Z"
   },
   {
    "duration": 18,
    "start_time": "2023-01-15T19:04:56.178Z"
   },
   {
    "duration": 4,
    "start_time": "2023-01-15T19:04:56.197Z"
   },
   {
    "duration": 14,
    "start_time": "2023-01-15T19:04:56.203Z"
   },
   {
    "duration": 161,
    "start_time": "2023-01-15T19:04:56.219Z"
   },
   {
    "duration": 16,
    "start_time": "2023-01-15T19:04:56.382Z"
   },
   {
    "duration": 3,
    "start_time": "2023-01-15T19:04:56.400Z"
   },
   {
    "duration": 19,
    "start_time": "2023-01-15T19:04:56.405Z"
   },
   {
    "duration": 58,
    "start_time": "2023-01-15T19:04:56.427Z"
   },
   {
    "duration": 4,
    "start_time": "2023-01-15T19:04:56.577Z"
   },
   {
    "duration": 4,
    "start_time": "2023-01-15T19:04:56.583Z"
   },
   {
    "duration": 5,
    "start_time": "2023-01-15T19:04:56.589Z"
   },
   {
    "duration": 4,
    "start_time": "2023-01-15T19:04:56.595Z"
   },
   {
    "duration": 8,
    "start_time": "2023-01-15T19:04:56.600Z"
   },
   {
    "duration": 6,
    "start_time": "2023-01-15T19:04:56.610Z"
   },
   {
    "duration": 4,
    "start_time": "2023-01-15T19:04:56.617Z"
   },
   {
    "duration": 12,
    "start_time": "2023-01-15T19:04:56.623Z"
   },
   {
    "duration": 44,
    "start_time": "2023-01-15T19:04:56.637Z"
   },
   {
    "duration": 5,
    "start_time": "2023-01-15T19:04:56.682Z"
   },
   {
    "duration": 8,
    "start_time": "2023-01-15T19:04:56.688Z"
   },
   {
    "duration": 1490,
    "start_time": "2023-01-15T19:04:56.697Z"
   },
   {
    "duration": 1454,
    "start_time": "2023-01-15T19:04:58.189Z"
   },
   {
    "duration": 1434,
    "start_time": "2023-01-15T19:04:59.644Z"
   },
   {
    "duration": 10,
    "start_time": "2023-01-15T19:06:15.535Z"
   }
  ],
  "kernelspec": {
   "display_name": "Python 3 (ipykernel)",
   "language": "python",
   "name": "python3"
  },
  "language_info": {
   "codemirror_mode": {
    "name": "ipython",
    "version": 3
   },
   "file_extension": ".py",
   "mimetype": "text/x-python",
   "name": "python",
   "nbconvert_exporter": "python",
   "pygments_lexer": "ipython3",
   "version": "3.9.16"
  },
  "toc": {
   "base_numbering": 1,
   "nav_menu": {},
   "number_sections": true,
   "sideBar": true,
   "skip_h1_title": true,
   "title_cell": "Table of Contents",
   "title_sidebar": "Contents",
   "toc_cell": false,
   "toc_position": {
    "height": "calc(100% - 180px)",
    "left": "10px",
    "top": "150px",
    "width": "342.231px"
   },
   "toc_section_display": true,
   "toc_window_display": true
  }
 },
 "nbformat": 4,
 "nbformat_minor": 2
}
