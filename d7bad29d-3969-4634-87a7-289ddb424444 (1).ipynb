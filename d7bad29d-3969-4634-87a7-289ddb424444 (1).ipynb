{
 "cells": [
  {
   "cell_type": "markdown",
   "metadata": {},
   "source": [
    "# Рекомендация тарифов"
   ]
  },
  {
   "cell_type": "markdown",
   "metadata": {},
   "source": [
    "В вашем распоряжении данные о поведении клиентов, которые уже перешли на эти тарифы (из проекта курса «Статистический анализ данных»). Нужно построить модель для задачи классификации, которая выберет подходящий тариф.\n",
    "Постройте модель с максимально большим значением *accuracy*. Чтобы сдать проект успешно, нужно довести долю правильных ответов по крайней мере до 0.75. Проверьте *accuracy* на тестовой выборке самостоятельно."
   ]
  },
  {
   "cell_type": "markdown",
   "metadata": {},
   "source": [
    "## Откроем и изучим файл"
   ]
  },
  {
   "cell_type": "code",
   "execution_count": 1,
   "metadata": {},
   "outputs": [],
   "source": [
    "import matplotlib.pyplot as plt\n",
    "import pandas as pd\n",
    "\n",
    "from sklearn.dummy import DummyClassifier\n",
    "from sklearn.ensemble import RandomForestClassifier\n",
    "from sklearn.linear_model import LogisticRegression\n",
    "from sklearn.metrics import accuracy_score\n",
    "from sklearn.model_selection import train_test_split\n",
    "from sklearn.tree import DecisionTreeClassifier, plot_tree"
   ]
  },
  {
   "cell_type": "code",
   "execution_count": 2,
   "metadata": {},
   "outputs": [],
   "source": [
    "try:\n",
    "    df = pd.read_csv('/datasets/users_behavior.csv')\n",
    "except:\n",
    "    df = pd.read_csv('./datasets/users_behavior.csv')"
   ]
  },
  {
   "cell_type": "code",
   "execution_count": 3,
   "metadata": {},
   "outputs": [
    {
     "name": "stdout",
     "output_type": "stream",
     "text": [
      "<class 'pandas.core.frame.DataFrame'>\n",
      "RangeIndex: 3214 entries, 0 to 3213\n",
      "Data columns (total 5 columns):\n",
      " #   Column    Non-Null Count  Dtype  \n",
      "---  ------    --------------  -----  \n",
      " 0   calls     3214 non-null   float64\n",
      " 1   minutes   3214 non-null   float64\n",
      " 2   messages  3214 non-null   float64\n",
      " 3   mb_used   3214 non-null   float64\n",
      " 4   is_ultra  3214 non-null   int64  \n",
      "dtypes: float64(4), int64(1)\n",
      "memory usage: 125.7 KB\n"
     ]
    }
   ],
   "source": [
    "df.info()"
   ]
  },
  {
   "cell_type": "code",
   "execution_count": 4,
   "metadata": {},
   "outputs": [
    {
     "data": {
      "text/html": [
       "<div>\n",
       "<style scoped>\n",
       "    .dataframe tbody tr th:only-of-type {\n",
       "        vertical-align: middle;\n",
       "    }\n",
       "\n",
       "    .dataframe tbody tr th {\n",
       "        vertical-align: top;\n",
       "    }\n",
       "\n",
       "    .dataframe thead th {\n",
       "        text-align: right;\n",
       "    }\n",
       "</style>\n",
       "<table border=\"1\" class=\"dataframe\">\n",
       "  <thead>\n",
       "    <tr style=\"text-align: right;\">\n",
       "      <th></th>\n",
       "      <th>calls</th>\n",
       "      <th>minutes</th>\n",
       "      <th>messages</th>\n",
       "      <th>mb_used</th>\n",
       "      <th>is_ultra</th>\n",
       "    </tr>\n",
       "  </thead>\n",
       "  <tbody>\n",
       "    <tr>\n",
       "      <th>count</th>\n",
       "      <td>3214.000000</td>\n",
       "      <td>3214.000000</td>\n",
       "      <td>3214.000000</td>\n",
       "      <td>3214.000000</td>\n",
       "      <td>3214.000000</td>\n",
       "    </tr>\n",
       "    <tr>\n",
       "      <th>mean</th>\n",
       "      <td>63.038892</td>\n",
       "      <td>438.208787</td>\n",
       "      <td>38.281269</td>\n",
       "      <td>17207.673836</td>\n",
       "      <td>0.306472</td>\n",
       "    </tr>\n",
       "    <tr>\n",
       "      <th>std</th>\n",
       "      <td>33.236368</td>\n",
       "      <td>234.569872</td>\n",
       "      <td>36.148326</td>\n",
       "      <td>7570.968246</td>\n",
       "      <td>0.461100</td>\n",
       "    </tr>\n",
       "    <tr>\n",
       "      <th>min</th>\n",
       "      <td>0.000000</td>\n",
       "      <td>0.000000</td>\n",
       "      <td>0.000000</td>\n",
       "      <td>0.000000</td>\n",
       "      <td>0.000000</td>\n",
       "    </tr>\n",
       "    <tr>\n",
       "      <th>25%</th>\n",
       "      <td>40.000000</td>\n",
       "      <td>274.575000</td>\n",
       "      <td>9.000000</td>\n",
       "      <td>12491.902500</td>\n",
       "      <td>0.000000</td>\n",
       "    </tr>\n",
       "    <tr>\n",
       "      <th>50%</th>\n",
       "      <td>62.000000</td>\n",
       "      <td>430.600000</td>\n",
       "      <td>30.000000</td>\n",
       "      <td>16943.235000</td>\n",
       "      <td>0.000000</td>\n",
       "    </tr>\n",
       "    <tr>\n",
       "      <th>75%</th>\n",
       "      <td>82.000000</td>\n",
       "      <td>571.927500</td>\n",
       "      <td>57.000000</td>\n",
       "      <td>21424.700000</td>\n",
       "      <td>1.000000</td>\n",
       "    </tr>\n",
       "    <tr>\n",
       "      <th>max</th>\n",
       "      <td>244.000000</td>\n",
       "      <td>1632.060000</td>\n",
       "      <td>224.000000</td>\n",
       "      <td>49745.730000</td>\n",
       "      <td>1.000000</td>\n",
       "    </tr>\n",
       "  </tbody>\n",
       "</table>\n",
       "</div>"
      ],
      "text/plain": [
       "             calls      minutes     messages       mb_used     is_ultra\n",
       "count  3214.000000  3214.000000  3214.000000   3214.000000  3214.000000\n",
       "mean     63.038892   438.208787    38.281269  17207.673836     0.306472\n",
       "std      33.236368   234.569872    36.148326   7570.968246     0.461100\n",
       "min       0.000000     0.000000     0.000000      0.000000     0.000000\n",
       "25%      40.000000   274.575000     9.000000  12491.902500     0.000000\n",
       "50%      62.000000   430.600000    30.000000  16943.235000     0.000000\n",
       "75%      82.000000   571.927500    57.000000  21424.700000     1.000000\n",
       "max     244.000000  1632.060000   224.000000  49745.730000     1.000000"
      ]
     },
     "execution_count": 4,
     "metadata": {},
     "output_type": "execute_result"
    }
   ],
   "source": [
    "df.describe()"
   ]
  },
  {
   "cell_type": "markdown",
   "metadata": {},
   "source": [
    "Все данные числовые, без пропусков, таргетированный столбец присутствует ['is_ultra'], данные доп обработки не требуют"
   ]
  },
  {
   "cell_type": "markdown",
   "metadata": {},
   "source": [
    "## Разобьем данные на выборки"
   ]
  },
  {
   "cell_type": "code",
   "execution_count": 5,
   "metadata": {},
   "outputs": [],
   "source": [
    "target, features = df['is_ultra'], df.drop(['is_ultra'], axis=1) \n",
    "\n",
    "features_train, features_test, target_train, target_test = train_test_split(\n",
    "    features, \n",
    "    target, \n",
    "    train_size=0.7, \n",
    "    random_state=12345, \n",
    "    stratify=target\n",
    ")\n",
    "\n",
    "features_test, features_valid, target_test, target_valid = train_test_split(\n",
    "    features_test, \n",
    "    target_test, \n",
    "    train_size=0.5, \n",
    "    random_state=12345, \n",
    "    stratify=target_test\n",
    ")"
   ]
  },
  {
   "cell_type": "code",
   "execution_count": 6,
   "metadata": {},
   "outputs": [
    {
     "name": "stdout",
     "output_type": "stream",
     "text": [
      "(2249, 4)\n",
      "(2249,)\n"
     ]
    }
   ],
   "source": [
    "#check train\n",
    "\n",
    "print(features_train.shape)\n",
    "print(target_train.shape)"
   ]
  },
  {
   "cell_type": "code",
   "execution_count": 7,
   "metadata": {},
   "outputs": [
    {
     "name": "stdout",
     "output_type": "stream",
     "text": [
      "(483, 4)\n",
      "(483,)\n"
     ]
    }
   ],
   "source": [
    "#check valid\n",
    "\n",
    "print(features_valid.shape)\n",
    "print(target_valid.shape)"
   ]
  },
  {
   "cell_type": "code",
   "execution_count": 8,
   "metadata": {},
   "outputs": [
    {
     "name": "stdout",
     "output_type": "stream",
     "text": [
      "(482, 4)\n",
      "(482,)\n"
     ]
    }
   ],
   "source": [
    "#check test\n",
    "\n",
    "print(features_test.shape)\n",
    "print(target_test.shape)"
   ]
  },
  {
   "cell_type": "markdown",
   "metadata": {},
   "source": [
    "## Исследуем модели"
   ]
  },
  {
   "cell_type": "markdown",
   "metadata": {},
   "source": [
    "### Дерево решений"
   ]
  },
  {
   "cell_type": "code",
   "execution_count": 9,
   "metadata": {},
   "outputs": [],
   "source": [
    "accuracy, max_depth  = [], []"
   ]
  },
  {
   "cell_type": "code",
   "execution_count": 10,
   "metadata": {},
   "outputs": [
    {
     "name": "stdout",
     "output_type": "stream",
     "text": [
      "max_depth = 1 :  0.7474120082815735\n",
      "max_depth = 2 :  0.7743271221532091\n",
      "max_depth = 3 :  0.7950310559006211\n",
      "max_depth = 4 :  0.7867494824016563\n",
      "max_depth = 5 :  0.7929606625258799\n",
      "max_depth = 6 :  0.7929606625258799\n",
      "max_depth = 7 :  0.7991718426501035\n",
      "max_depth = 8 :  0.7950310559006211\n",
      "max_depth = 9 :  0.7971014492753623\n"
     ]
    }
   ],
   "source": [
    "for depth in range(1, 10):\n",
    "    model_tree = DecisionTreeClassifier(random_state=12345, criterion='gini', max_depth=depth)\n",
    "    model_tree.fit(features_train, target_train)\n",
    "    predictions_valid_tree = model_tree.predict(features_valid)\n",
    "    \n",
    "    max_depth.append(depth)\n",
    "    accuracy.append(accuracy_score(target_valid, predictions_valid_tree))\n",
    "    \n",
    "    print(\"max_depth =\", depth, \": \", accuracy[-1])"
   ]
  },
  {
   "cell_type": "code",
   "execution_count": 11,
   "metadata": {},
   "outputs": [
    {
     "data": {
      "image/png": "[encoded data removed]",
      "text/plain": [
       "<Figure size 432x288 with 1 Axes>"
      ]
     },
     "metadata": {
      "needs_background": "light"
     },
     "output_type": "display_data"
    }
   ],
   "source": [
    "plt.plot(max_depth, accuracy);"
   ]
  },
  {
   "cell_type": "markdown",
   "metadata": {},
   "source": [
    "Видно, что модель хорошо обучилась на глубине 3, затем точность упала и с глубины = 5 дерево начало переобучаться\n",
    "\n",
    "Но в курсе было написано, что на глубине 3 модель еще недообучилась, а с 5 мы видим переобучение, так что дерево решений не лучшая модель"
   ]
  },
  {
   "cell_type": "code",
   "execution_count": 12,
   "metadata": {
    "scrolled": false
   },
   "outputs": [
    {
     "data": {
      "image/png": "[encoded data removed]",
      "text/plain": [
       "<Figure size 1080x720 with 1 Axes>"
      ]
     },
     "metadata": {
      "needs_background": "light"
     },
     "output_type": "display_data"
    }
   ],
   "source": [
    "model_tree = DecisionTreeClassifier(random_state=12345, criterion='gini', max_depth=3)\n",
    "tree = model_tree.fit(features_train, target_train)\n",
    "plt.figure(figsize=(15,10))\n",
    "plot_tree(tree, filled=True);"
   ]
  },
  {
   "cell_type": "markdown",
   "metadata": {},
   "source": [
    "Модель использует критерий критерий Джини, который показывает меру сходства двух наборов данных. Обучаясь, дерево в каждом узле задаёт наилучший вопрос. \n",
    "Сейчас оно выбирает тот вопрос, для которого критерий Джини показывает, что отнесённые к левой ветке данные меньше всего похожи на те, что в правой."
   ]
  },
  {
   "cell_type": "markdown",
   "metadata": {},
   "source": [
    "### Случайный лес"
   ]
  },
  {
   "cell_type": "code",
   "execution_count": 13,
   "metadata": {},
   "outputs": [
    {
     "name": "stdout",
     "output_type": "stream",
     "text": [
      "Accuracy наилучшей модели на валидационной выборке: 0.782608695652174\n"
     ]
    }
   ],
   "source": [
    "best_model_rf = None\n",
    "best_result_rf = 0\n",
    "for est in range(1, 11):\n",
    "    model_rf = RandomForestClassifier(random_state=12345, n_estimators=est) \n",
    "    model_rf.fit(features_train, target_train) \n",
    "    result_rf = model_rf.score(features_valid, target_valid) \n",
    "    if result_rf > best_result_rf:\n",
    "        best_model_rf = model_rf \n",
    "        best_result_rf = result_rf \n",
    "\n",
    "print(\"Accuracy наилучшей модели на валидационной выборке:\", best_result_rf)"
   ]
  },
  {
   "cell_type": "markdown",
   "metadata": {},
   "source": [
    "### Логистическая регрессия"
   ]
  },
  {
   "cell_type": "code",
   "execution_count": 14,
   "metadata": {},
   "outputs": [
    {
     "name": "stdout",
     "output_type": "stream",
     "text": [
      "0.7204968944099379\n"
     ]
    }
   ],
   "source": [
    "model_logreg = LogisticRegression(random_state=12345, solver='liblinear', max_iter=10000) \n",
    "model_logreg.fit(features_train, target_train)\n",
    "model_logreg.predict(features_valid) \n",
    "print(model_logreg.score(features_valid, target_valid))\n"
   ]
  },
  {
   "cell_type": "markdown",
   "metadata": {},
   "source": [
    "### Вывод по результатам исследования"
   ]
  },
  {
   "cell_type": "markdown",
   "metadata": {},
   "source": [
    "- Во всех рассмотренных моделях доля правильных ответов accurasy больше 0.75. В Логстической регрессии достигнуть этого числа было тяжелее всего.\n",
    "\n",
    "- В дереве решений оптимальная глубина оказалась 3\n",
    "\n",
    "- В модели случайный лес перебрала количество деревьев от 1 до 10\n",
    "\n",
    "- В логистической регрессии изменила алгоритм, который строит модель и добавила intercept_scaling, я пыталась понять что этот параметр делает, но так и не поняла:("
   ]
  },
  {
   "cell_type": "markdown",
   "metadata": {},
   "source": [
    "## Проверим модель на тестовой выборке"
   ]
  },
  {
   "cell_type": "markdown",
   "metadata": {},
   "source": [
    "### Проверяем случайный лес"
   ]
  },
  {
   "cell_type": "code",
   "execution_count": 15,
   "metadata": {},
   "outputs": [
    {
     "name": "stdout",
     "output_type": "stream",
     "text": [
      "Accuracy наилучшей модели на тестовой выборке: 0.7987551867219918\n"
     ]
    }
   ],
   "source": [
    "features_trainvalid = pd.concat([features_train, features_valid])\n",
    "target_trainvalid = pd.concat([target_train, target_valid])\n",
    "\n",
    "best_model_rf.fit(features_trainvalid, target_trainvalid)\n",
    "\n",
    "result_rf_test = best_model_rf.score(features_test, target_test)\n",
    "print(\"Accuracy наилучшей модели на тестовой выборке:\", result_rf_test)"
   ]
  },
  {
   "cell_type": "markdown",
   "metadata": {},
   "source": [
    "## Проверим модели на адекватность"
   ]
  },
  {
   "cell_type": "code",
   "execution_count": 16,
   "metadata": {},
   "outputs": [
    {
     "data": {
      "text/plain": [
       "0.6935817805383023"
      ]
     },
     "execution_count": 16,
     "metadata": {},
     "output_type": "execute_result"
    }
   ],
   "source": [
    "dummy_clf = DummyClassifier(strategy=\"most_frequent\")\n",
    "dummy_clf.fit(features_train, target_train)\n",
    "dummy_clf.predict(features_valid)\n",
    "dummy_clf.score(features_valid, target_valid)"
   ]
  },
  {
   "cell_type": "markdown",
   "metadata": {},
   "source": [
    "Accuracy DummyClassifier меньше, чем у модели выше, значит модели адекватны. "
   ]
  },
  {
   "cell_type": "markdown",
   "metadata": {},
   "source": [
    "## Чек-лист готовности проекта"
   ]
  },
  {
   "cell_type": "markdown",
   "metadata": {},
   "source": [
    "Поставьте 'x' в выполненных пунктах. Далее нажмите Shift+Enter."
   ]
  },
  {
   "cell_type": "markdown",
   "metadata": {},
   "source": [
    "- [x] Jupyter Notebook открыт\n",
    "- [x] Весь код исполняется без ошибок\n",
    "- [x] Ячейки с кодом расположены в порядке исполнения\n",
    "- [x] Выполнено задание 1: данные загружены и изучены\n",
    "- [x] Выполнено задание 2: данные разбиты на три выборки\n",
    "- [x] Выполнено задание 3: проведено исследование моделей\n",
    "    - [x] Рассмотрено больше одной модели\n",
    "    - [x] Рассмотрено хотя бы 3 значения гипепараметров для какой-нибудь модели\n",
    "    - [x] Написаны выводы по результатам исследования\n",
    "- [x] Выполнено задание 3: Проведено тестирование\n",
    "- [x] Удалось достичь accuracy не меньше 0.75\n"
   ]
  }
 ],
 "metadata": {
  "ExecuteTimeLog": [
   {
    "duration": 1181,
    "start_time": "2022-12-09T10:19:34.930Z"
   },
   {
    "duration": 73,
    "start_time": "2022-12-09T10:19:36.113Z"
   },
   {
    "duration": 6,
    "start_time": "2022-12-09T10:19:36.188Z"
   },
   {
    "duration": 103,
    "start_time": "2022-12-09T10:19:36.734Z"
   },
   {
    "duration": 3,
    "start_time": "2022-12-09T10:19:58.420Z"
   },
   {
    "duration": 29,
    "start_time": "2022-12-09T10:19:58.686Z"
   },
   {
    "duration": 6,
    "start_time": "2022-12-09T10:19:59.124Z"
   },
   {
    "duration": 15,
    "start_time": "2022-12-09T10:19:59.784Z"
   },
   {
    "duration": 1158,
    "start_time": "2022-12-09T10:20:18.600Z"
   },
   {
    "duration": 29,
    "start_time": "2022-12-09T10:20:19.760Z"
   },
   {
    "duration": 6,
    "start_time": "2022-12-09T10:20:19.791Z"
   },
   {
    "duration": 113,
    "start_time": "2022-12-09T10:20:19.799Z"
   },
   {
    "duration": 3,
    "start_time": "2022-12-09T10:20:45.214Z"
   },
   {
    "duration": 29,
    "start_time": "2022-12-09T10:20:45.419Z"
   },
   {
    "duration": 5,
    "start_time": "2022-12-09T10:20:45.738Z"
   },
   {
    "duration": 14,
    "start_time": "2022-12-09T10:20:46.035Z"
   },
   {
    "duration": 1169,
    "start_time": "2022-12-09T10:20:52.707Z"
   },
   {
    "duration": 30,
    "start_time": "2022-12-09T10:20:53.878Z"
   },
   {
    "duration": 7,
    "start_time": "2022-12-09T10:20:53.910Z"
   },
   {
    "duration": 110,
    "start_time": "2022-12-09T10:20:53.919Z"
   },
   {
    "duration": 1145,
    "start_time": "2022-12-09T10:21:36.017Z"
   },
   {
    "duration": 29,
    "start_time": "2022-12-09T10:21:37.164Z"
   },
   {
    "duration": 7,
    "start_time": "2022-12-09T10:21:37.195Z"
   },
   {
    "duration": 33,
    "start_time": "2022-12-09T10:21:37.204Z"
   },
   {
    "duration": 1090,
    "start_time": "2022-12-09T10:27:12.981Z"
   },
   {
    "duration": 29,
    "start_time": "2022-12-09T10:27:14.073Z"
   },
   {
    "duration": 7,
    "start_time": "2022-12-09T10:27:14.104Z"
   },
   {
    "duration": 45,
    "start_time": "2022-12-09T10:27:14.113Z"
   },
   {
    "duration": 1219,
    "start_time": "2022-12-09T10:28:27.862Z"
   },
   {
    "duration": 34,
    "start_time": "2022-12-09T10:28:29.084Z"
   },
   {
    "duration": 18,
    "start_time": "2022-12-09T10:28:29.120Z"
   },
   {
    "duration": 56,
    "start_time": "2022-12-09T10:28:29.139Z"
   },
   {
    "duration": 1398,
    "start_time": "2022-12-09T12:30:59.476Z"
   },
   {
    "duration": 168,
    "start_time": "2022-12-09T12:31:00.876Z"
   },
   {
    "duration": 16,
    "start_time": "2022-12-09T12:31:01.046Z"
   },
   {
    "duration": 186,
    "start_time": "2022-12-09T12:31:01.065Z"
   },
   {
    "duration": 235,
    "start_time": "2022-12-09T12:31:01.254Z"
   },
   {
    "duration": 17,
    "start_time": "2022-12-09T12:31:34.622Z"
   },
   {
    "duration": 37,
    "start_time": "2022-12-09T12:37:07.568Z"
   },
   {
    "duration": 15,
    "start_time": "2022-12-09T12:37:10.662Z"
   },
   {
    "duration": 12,
    "start_time": "2022-12-09T12:37:19.718Z"
   },
   {
    "duration": 23,
    "start_time": "2022-12-09T12:38:00.253Z"
   },
   {
    "duration": 21,
    "start_time": "2022-12-09T12:38:29.289Z"
   },
   {
    "duration": 25,
    "start_time": "2022-12-09T12:38:38.655Z"
   },
   {
    "duration": 1128,
    "start_time": "2022-12-09T12:39:22.509Z"
   },
   {
    "duration": 30,
    "start_time": "2022-12-09T12:39:23.639Z"
   },
   {
    "duration": 11,
    "start_time": "2022-12-09T12:39:23.671Z"
   },
   {
    "duration": 41,
    "start_time": "2022-12-09T12:39:23.684Z"
   },
   {
    "duration": 13,
    "start_time": "2022-12-09T12:39:23.727Z"
   },
   {
    "duration": 115,
    "start_time": "2022-12-09T12:48:56.367Z"
   },
   {
    "duration": 1308,
    "start_time": "2022-12-09T12:49:04.082Z"
   },
   {
    "duration": 34,
    "start_time": "2022-12-09T12:49:05.392Z"
   },
   {
    "duration": 90,
    "start_time": "2022-12-09T12:49:05.427Z"
   },
   {
    "duration": 149,
    "start_time": "2022-12-09T12:49:05.519Z"
   },
   {
    "duration": 338,
    "start_time": "2022-12-09T12:49:05.670Z"
   },
   {
    "duration": 13,
    "start_time": "2022-12-09T12:49:06.010Z"
   },
   {
    "duration": 8,
    "start_time": "2022-12-09T12:53:00.518Z"
   },
   {
    "duration": 10,
    "start_time": "2022-12-09T12:53:36.252Z"
   },
   {
    "duration": 1294,
    "start_time": "2022-12-09T12:58:47.447Z"
   },
   {
    "duration": 30,
    "start_time": "2022-12-09T12:58:48.743Z"
   },
   {
    "duration": 16,
    "start_time": "2022-12-09T12:58:48.776Z"
   },
   {
    "duration": 56,
    "start_time": "2022-12-09T12:58:48.794Z"
   },
   {
    "duration": 334,
    "start_time": "2022-12-09T12:58:48.853Z"
   },
   {
    "duration": 121,
    "start_time": "2022-12-09T12:58:49.189Z"
   },
   {
    "duration": 214,
    "start_time": "2022-12-09T12:58:49.318Z"
   },
   {
    "duration": 19,
    "start_time": "2022-12-09T12:58:49.536Z"
   },
   {
    "duration": 127,
    "start_time": "2022-12-09T12:59:04.257Z"
   },
   {
    "duration": 52,
    "start_time": "2022-12-09T12:59:07.358Z"
   },
   {
    "duration": 1399,
    "start_time": "2022-12-09T12:59:41.753Z"
   },
   {
    "duration": 44,
    "start_time": "2022-12-09T12:59:43.154Z"
   },
   {
    "duration": 11,
    "start_time": "2022-12-09T12:59:43.202Z"
   },
   {
    "duration": 42,
    "start_time": "2022-12-09T12:59:43.215Z"
   },
   {
    "duration": 358,
    "start_time": "2022-12-09T12:59:43.260Z"
   },
   {
    "duration": 80,
    "start_time": "2022-12-09T12:59:43.620Z"
   },
   {
    "duration": 109,
    "start_time": "2022-12-09T12:59:43.702Z"
   },
   {
    "duration": 42,
    "start_time": "2022-12-09T12:59:43.877Z"
   },
   {
    "duration": 31,
    "start_time": "2022-12-09T13:00:03.907Z"
   },
   {
    "duration": 87,
    "start_time": "2022-12-09T13:00:10.403Z"
   },
   {
    "duration": 43,
    "start_time": "2022-12-09T13:00:20.957Z"
   },
   {
    "duration": 35,
    "start_time": "2022-12-09T13:05:45.366Z"
   },
   {
    "duration": 1125,
    "start_time": "2022-12-09T13:05:52.418Z"
   },
   {
    "duration": 29,
    "start_time": "2022-12-09T13:05:53.545Z"
   },
   {
    "duration": 20,
    "start_time": "2022-12-09T13:05:53.577Z"
   },
   {
    "duration": 42,
    "start_time": "2022-12-09T13:05:53.599Z"
   },
   {
    "duration": 320,
    "start_time": "2022-12-09T13:05:53.643Z"
   },
   {
    "duration": 43,
    "start_time": "2022-12-09T13:05:53.965Z"
   },
   {
    "duration": 26,
    "start_time": "2022-12-09T13:05:54.076Z"
   },
   {
    "duration": 25,
    "start_time": "2022-12-09T13:05:54.181Z"
   },
   {
    "duration": 7,
    "start_time": "2022-12-09T13:07:40.757Z"
   },
   {
    "duration": 1176,
    "start_time": "2022-12-09T13:07:58.978Z"
   },
   {
    "duration": 39,
    "start_time": "2022-12-09T13:08:00.156Z"
   },
   {
    "duration": 11,
    "start_time": "2022-12-09T13:08:00.197Z"
   },
   {
    "duration": 39,
    "start_time": "2022-12-09T13:08:00.209Z"
   },
   {
    "duration": 326,
    "start_time": "2022-12-09T13:08:00.250Z"
   },
   {
    "duration": 36,
    "start_time": "2022-12-09T13:08:00.586Z"
   },
   {
    "duration": 175,
    "start_time": "2022-12-09T13:08:00.624Z"
   },
   {
    "duration": 37,
    "start_time": "2022-12-09T13:08:00.801Z"
   },
   {
    "duration": 27,
    "start_time": "2022-12-09T13:08:00.840Z"
   },
   {
    "duration": 82,
    "start_time": "2022-12-09T13:08:33.506Z"
   },
   {
    "duration": 1176,
    "start_time": "2022-12-09T13:08:41.492Z"
   },
   {
    "duration": 51,
    "start_time": "2022-12-09T13:08:42.671Z"
   },
   {
    "duration": 13,
    "start_time": "2022-12-09T13:08:42.724Z"
   },
   {
    "duration": 63,
    "start_time": "2022-12-09T13:08:42.739Z"
   },
   {
    "duration": 331,
    "start_time": "2022-12-09T13:08:42.805Z"
   },
   {
    "duration": 157,
    "start_time": "2022-12-09T13:08:43.137Z"
   },
   {
    "duration": 89,
    "start_time": "2022-12-09T13:08:43.298Z"
   },
   {
    "duration": 10,
    "start_time": "2022-12-09T13:08:43.389Z"
   },
   {
    "duration": 7,
    "start_time": "2022-12-09T13:08:43.401Z"
   },
   {
    "duration": 45,
    "start_time": "2022-12-09T13:09:04.659Z"
   },
   {
    "duration": 1204,
    "start_time": "2022-12-09T13:09:10.679Z"
   },
   {
    "duration": 36,
    "start_time": "2022-12-09T13:09:11.885Z"
   },
   {
    "duration": 11,
    "start_time": "2022-12-09T13:09:11.922Z"
   },
   {
    "duration": 40,
    "start_time": "2022-12-09T13:09:11.935Z"
   },
   {
    "duration": 298,
    "start_time": "2022-12-09T13:09:11.978Z"
   },
   {
    "duration": 95,
    "start_time": "2022-12-09T13:09:12.286Z"
   },
   {
    "duration": 99,
    "start_time": "2022-12-09T13:09:12.395Z"
   },
   {
    "duration": 11,
    "start_time": "2022-12-09T13:09:12.500Z"
   },
   {
    "duration": 7,
    "start_time": "2022-12-09T13:09:12.512Z"
   },
   {
    "duration": 42,
    "start_time": "2022-12-09T13:10:11.053Z"
   },
   {
    "duration": 14,
    "start_time": "2022-12-09T13:10:15.908Z"
   },
   {
    "duration": 314,
    "start_time": "2022-12-09T13:11:30.823Z"
   },
   {
    "duration": 1270,
    "start_time": "2022-12-09T18:05:38.349Z"
   },
   {
    "duration": 95,
    "start_time": "2022-12-09T18:05:39.623Z"
   },
   {
    "duration": 13,
    "start_time": "2022-12-09T18:05:39.721Z"
   },
   {
    "duration": 53,
    "start_time": "2022-12-09T18:05:39.737Z"
   },
   {
    "duration": 348,
    "start_time": "2022-12-09T18:05:39.792Z"
   },
   {
    "duration": 110,
    "start_time": "2022-12-09T18:05:40.142Z"
   },
   {
    "duration": 103,
    "start_time": "2022-12-09T18:05:40.254Z"
   },
   {
    "duration": 121,
    "start_time": "2022-12-09T18:05:40.359Z"
   },
   {
    "duration": 0,
    "start_time": "2022-12-09T18:05:40.481Z"
   },
   {
    "duration": 10,
    "start_time": "2022-12-09T18:06:00.937Z"
   },
   {
    "duration": 12,
    "start_time": "2022-12-09T18:06:11.492Z"
   },
   {
    "duration": 1249,
    "start_time": "2022-12-09T18:06:27.615Z"
   },
   {
    "duration": 31,
    "start_time": "2022-12-09T18:06:28.866Z"
   },
   {
    "duration": 10,
    "start_time": "2022-12-09T18:06:28.899Z"
   },
   {
    "duration": 45,
    "start_time": "2022-12-09T18:06:28.912Z"
   },
   {
    "duration": 337,
    "start_time": "2022-12-09T18:06:28.958Z"
   },
   {
    "duration": 59,
    "start_time": "2022-12-09T18:06:29.297Z"
   },
   {
    "duration": 99,
    "start_time": "2022-12-09T18:06:29.359Z"
   },
   {
    "duration": 241,
    "start_time": "2022-12-09T18:06:29.460Z"
   },
   {
    "duration": 0,
    "start_time": "2022-12-09T18:06:29.703Z"
   },
   {
    "duration": 38,
    "start_time": "2022-12-09T18:08:13.237Z"
   },
   {
    "duration": 15,
    "start_time": "2022-12-09T18:09:00.444Z"
   },
   {
    "duration": 1182,
    "start_time": "2022-12-09T18:09:20.767Z"
   },
   {
    "duration": 31,
    "start_time": "2022-12-09T18:09:21.951Z"
   },
   {
    "duration": 11,
    "start_time": "2022-12-09T18:09:21.983Z"
   },
   {
    "duration": 39,
    "start_time": "2022-12-09T18:09:21.996Z"
   },
   {
    "duration": 330,
    "start_time": "2022-12-09T18:09:22.037Z"
   },
   {
    "duration": 87,
    "start_time": "2022-12-09T18:09:22.369Z"
   },
   {
    "duration": 101,
    "start_time": "2022-12-09T18:09:22.458Z"
   },
   {
    "duration": 128,
    "start_time": "2022-12-09T18:09:22.561Z"
   },
   {
    "duration": 0,
    "start_time": "2022-12-09T18:09:22.691Z"
   },
   {
    "duration": 108,
    "start_time": "2022-12-09T18:10:18.645Z"
   },
   {
    "duration": 11,
    "start_time": "2022-12-09T18:10:33.817Z"
   },
   {
    "duration": 38,
    "start_time": "2022-12-09T18:10:55.338Z"
   },
   {
    "duration": 12,
    "start_time": "2022-12-09T18:10:57.801Z"
   },
   {
    "duration": 12,
    "start_time": "2022-12-09T18:10:57.815Z"
   },
   {
    "duration": 7,
    "start_time": "2022-12-09T18:10:59.318Z"
   },
   {
    "duration": 1402,
    "start_time": "2022-12-09T18:11:08.874Z"
   },
   {
    "duration": 30,
    "start_time": "2022-12-09T18:11:10.278Z"
   },
   {
    "duration": 12,
    "start_time": "2022-12-09T18:11:10.309Z"
   },
   {
    "duration": 52,
    "start_time": "2022-12-09T18:11:10.323Z"
   },
   {
    "duration": 318,
    "start_time": "2022-12-09T18:11:10.378Z"
   },
   {
    "duration": 67,
    "start_time": "2022-12-09T18:11:10.698Z"
   },
   {
    "duration": 103,
    "start_time": "2022-12-09T18:11:10.852Z"
   },
   {
    "duration": 9,
    "start_time": "2022-12-09T18:11:10.957Z"
   },
   {
    "duration": 7,
    "start_time": "2022-12-09T18:11:10.969Z"
   },
   {
    "duration": 55,
    "start_time": "2022-12-09T18:11:27.018Z"
   },
   {
    "duration": 1233,
    "start_time": "2022-12-09T18:11:32.754Z"
   },
   {
    "duration": 30,
    "start_time": "2022-12-09T18:11:33.989Z"
   },
   {
    "duration": 16,
    "start_time": "2022-12-09T18:11:34.020Z"
   },
   {
    "duration": 54,
    "start_time": "2022-12-09T18:11:34.038Z"
   },
   {
    "duration": 304,
    "start_time": "2022-12-09T18:11:34.094Z"
   },
   {
    "duration": 55,
    "start_time": "2022-12-09T18:11:34.400Z"
   },
   {
    "duration": 101,
    "start_time": "2022-12-09T18:11:34.458Z"
   },
   {
    "duration": 96,
    "start_time": "2022-12-09T18:11:34.561Z"
   },
   {
    "duration": 18,
    "start_time": "2022-12-09T18:11:34.659Z"
   },
   {
    "duration": 59,
    "start_time": "2022-12-09T18:19:11.094Z"
   },
   {
    "duration": 1274,
    "start_time": "2022-12-09T18:19:47.560Z"
   },
   {
    "duration": 31,
    "start_time": "2022-12-09T18:19:48.836Z"
   },
   {
    "duration": 11,
    "start_time": "2022-12-09T18:19:48.869Z"
   },
   {
    "duration": 38,
    "start_time": "2022-12-09T18:19:48.882Z"
   },
   {
    "duration": 364,
    "start_time": "2022-12-09T18:19:48.922Z"
   },
   {
    "duration": 173,
    "start_time": "2022-12-09T18:19:49.288Z"
   },
   {
    "duration": 188,
    "start_time": "2022-12-09T18:19:49.464Z"
   },
   {
    "duration": 14,
    "start_time": "2022-12-09T18:19:49.655Z"
   },
   {
    "duration": 18,
    "start_time": "2022-12-09T18:19:49.672Z"
   },
   {
    "duration": 85,
    "start_time": "2022-12-09T18:20:05.369Z"
   },
   {
    "duration": 1210,
    "start_time": "2022-12-09T18:20:11.119Z"
   },
   {
    "duration": 31,
    "start_time": "2022-12-09T18:20:12.331Z"
   },
   {
    "duration": 11,
    "start_time": "2022-12-09T18:20:12.364Z"
   },
   {
    "duration": 39,
    "start_time": "2022-12-09T18:20:12.377Z"
   },
   {
    "duration": 335,
    "start_time": "2022-12-09T18:20:12.418Z"
   },
   {
    "duration": 98,
    "start_time": "2022-12-09T18:20:12.755Z"
   },
   {
    "duration": 99,
    "start_time": "2022-12-09T18:20:12.855Z"
   },
   {
    "duration": 10,
    "start_time": "2022-12-09T18:20:12.956Z"
   },
   {
    "duration": 6,
    "start_time": "2022-12-09T18:20:12.968Z"
   },
   {
    "duration": 130,
    "start_time": "2022-12-09T18:21:12.320Z"
   },
   {
    "duration": 32,
    "start_time": "2022-12-09T18:21:20.714Z"
   },
   {
    "duration": 35,
    "start_time": "2022-12-09T18:21:28.239Z"
   },
   {
    "duration": 1186,
    "start_time": "2022-12-09T18:21:35.894Z"
   },
   {
    "duration": 30,
    "start_time": "2022-12-09T18:21:37.083Z"
   },
   {
    "duration": 11,
    "start_time": "2022-12-09T18:21:37.115Z"
   },
   {
    "duration": 54,
    "start_time": "2022-12-09T18:21:37.128Z"
   },
   {
    "duration": 346,
    "start_time": "2022-12-09T18:21:37.185Z"
   },
   {
    "duration": 128,
    "start_time": "2022-12-09T18:21:37.534Z"
   },
   {
    "duration": 97,
    "start_time": "2022-12-09T18:21:37.665Z"
   },
   {
    "duration": 11,
    "start_time": "2022-12-09T18:21:37.764Z"
   },
   {
    "duration": 8,
    "start_time": "2022-12-09T18:21:37.776Z"
   },
   {
    "duration": 11,
    "start_time": "2022-12-09T18:25:20.365Z"
   },
   {
    "duration": 6,
    "start_time": "2022-12-09T18:25:33.489Z"
   },
   {
    "duration": 35,
    "start_time": "2022-12-09T18:27:32.958Z"
   },
   {
    "duration": 31,
    "start_time": "2022-12-09T18:27:39.925Z"
   },
   {
    "duration": 1245,
    "start_time": "2022-12-09T18:27:54.918Z"
   },
   {
    "duration": 33,
    "start_time": "2022-12-09T18:27:56.165Z"
   },
   {
    "duration": 12,
    "start_time": "2022-12-09T18:27:56.200Z"
   },
   {
    "duration": 38,
    "start_time": "2022-12-09T18:27:56.214Z"
   },
   {
    "duration": 317,
    "start_time": "2022-12-09T18:27:56.254Z"
   },
   {
    "duration": 82,
    "start_time": "2022-12-09T18:27:56.573Z"
   },
   {
    "duration": 100,
    "start_time": "2022-12-09T18:27:56.658Z"
   },
   {
    "duration": 13,
    "start_time": "2022-12-09T18:27:56.760Z"
   },
   {
    "duration": 8,
    "start_time": "2022-12-09T18:27:56.775Z"
   },
   {
    "duration": 3,
    "start_time": "2022-12-09T18:35:55.930Z"
   },
   {
    "duration": 13,
    "start_time": "2022-12-09T18:40:46.981Z"
   },
   {
    "duration": 5,
    "start_time": "2022-12-09T18:41:29.065Z"
   },
   {
    "duration": 144,
    "start_time": "2022-12-09T18:41:42.671Z"
   },
   {
    "duration": 9,
    "start_time": "2022-12-09T18:43:51.500Z"
   },
   {
    "duration": 1049,
    "start_time": "2022-12-10T10:09:24.705Z"
   },
   {
    "duration": 129,
    "start_time": "2022-12-10T10:09:25.755Z"
   },
   {
    "duration": 8,
    "start_time": "2022-12-10T10:09:25.886Z"
   },
   {
    "duration": 31,
    "start_time": "2022-12-10T10:09:25.895Z"
   },
   {
    "duration": 276,
    "start_time": "2022-12-10T10:09:25.928Z"
   },
   {
    "duration": 93,
    "start_time": "2022-12-10T10:09:26.206Z"
   },
   {
    "duration": 97,
    "start_time": "2022-12-10T10:09:26.301Z"
   },
   {
    "duration": 12,
    "start_time": "2022-12-10T10:09:26.399Z"
   },
   {
    "duration": 5,
    "start_time": "2022-12-10T10:09:26.412Z"
   },
   {
    "duration": 10,
    "start_time": "2022-12-10T10:09:26.418Z"
   },
   {
    "duration": 27,
    "start_time": "2022-12-10T10:13:18.935Z"
   },
   {
    "duration": 1032,
    "start_time": "2022-12-10T10:13:25.299Z"
   },
   {
    "duration": 30,
    "start_time": "2022-12-10T10:13:26.332Z"
   },
   {
    "duration": 8,
    "start_time": "2022-12-10T10:13:26.363Z"
   },
   {
    "duration": 32,
    "start_time": "2022-12-10T10:13:26.373Z"
   },
   {
    "duration": 251,
    "start_time": "2022-12-10T10:13:26.406Z"
   },
   {
    "duration": 43,
    "start_time": "2022-12-10T10:13:26.658Z"
   },
   {
    "duration": 102,
    "start_time": "2022-12-10T10:13:26.703Z"
   },
   {
    "duration": 95,
    "start_time": "2022-12-10T10:13:26.807Z"
   },
   {
    "duration": 6,
    "start_time": "2022-12-10T10:13:26.904Z"
   },
   {
    "duration": 12,
    "start_time": "2022-12-10T10:13:26.912Z"
   },
   {
    "duration": 309,
    "start_time": "2022-12-10T10:15:00.561Z"
   },
   {
    "duration": 43,
    "start_time": "2022-12-10T10:15:34.356Z"
   },
   {
    "duration": 85,
    "start_time": "2022-12-10T10:15:48.714Z"
   },
   {
    "duration": 37,
    "start_time": "2022-12-10T10:16:20.965Z"
   },
   {
    "duration": 46,
    "start_time": "2022-12-10T10:16:26.716Z"
   },
   {
    "duration": 24,
    "start_time": "2022-12-10T10:17:29.254Z"
   },
   {
    "duration": 1065,
    "start_time": "2022-12-10T10:17:43.374Z"
   },
   {
    "duration": 30,
    "start_time": "2022-12-10T10:17:44.440Z"
   },
   {
    "duration": 9,
    "start_time": "2022-12-10T10:17:44.472Z"
   },
   {
    "duration": 33,
    "start_time": "2022-12-10T10:17:44.483Z"
   },
   {
    "duration": 299,
    "start_time": "2022-12-10T10:17:44.517Z"
   },
   {
    "duration": 80,
    "start_time": "2022-12-10T10:17:44.818Z"
   },
   {
    "duration": 103,
    "start_time": "2022-12-10T10:17:44.903Z"
   },
   {
    "duration": 23,
    "start_time": "2022-12-10T10:17:45.008Z"
   },
   {
    "duration": 125,
    "start_time": "2022-12-10T10:17:45.033Z"
   },
   {
    "duration": 0,
    "start_time": "2022-12-10T10:17:45.159Z"
   },
   {
    "duration": 45,
    "start_time": "2022-12-10T10:19:22.006Z"
   },
   {
    "duration": 65,
    "start_time": "2022-12-10T10:19:39.836Z"
   },
   {
    "duration": 27,
    "start_time": "2022-12-10T10:19:45.191Z"
   },
   {
    "duration": 1051,
    "start_time": "2022-12-10T10:19:53.940Z"
   },
   {
    "duration": 32,
    "start_time": "2022-12-10T10:19:54.993Z"
   },
   {
    "duration": 10,
    "start_time": "2022-12-10T10:19:55.027Z"
   },
   {
    "duration": 37,
    "start_time": "2022-12-10T10:19:55.039Z"
   },
   {
    "duration": 248,
    "start_time": "2022-12-10T10:19:55.078Z"
   },
   {
    "duration": 71,
    "start_time": "2022-12-10T10:19:55.328Z"
   },
   {
    "duration": 101,
    "start_time": "2022-12-10T10:19:55.401Z"
   },
   {
    "duration": 7,
    "start_time": "2022-12-10T10:19:55.503Z"
   },
   {
    "duration": 7,
    "start_time": "2022-12-10T10:19:55.512Z"
   },
   {
    "duration": 8,
    "start_time": "2022-12-10T10:19:55.521Z"
   },
   {
    "duration": 30,
    "start_time": "2022-12-10T10:20:38.913Z"
   },
   {
    "duration": 29,
    "start_time": "2022-12-10T10:20:50.975Z"
   },
   {
    "duration": 3,
    "start_time": "2022-12-10T10:22:55.993Z"
   },
   {
    "duration": 3,
    "start_time": "2022-12-10T10:23:22.268Z"
   },
   {
    "duration": 4,
    "start_time": "2022-12-10T10:23:51.528Z"
   },
   {
    "duration": 3,
    "start_time": "2022-12-10T10:23:55.252Z"
   },
   {
    "duration": 8,
    "start_time": "2022-12-10T10:24:10.891Z"
   },
   {
    "duration": 3,
    "start_time": "2022-12-10T10:24:11.367Z"
   },
   {
    "duration": 3,
    "start_time": "2022-12-10T10:24:12.063Z"
   },
   {
    "duration": 4,
    "start_time": "2022-12-10T10:24:12.714Z"
   },
   {
    "duration": 9,
    "start_time": "2022-12-10T10:24:48.091Z"
   },
   {
    "duration": 4,
    "start_time": "2022-12-10T10:24:50.025Z"
   },
   {
    "duration": 4,
    "start_time": "2022-12-10T10:24:50.771Z"
   },
   {
    "duration": 4,
    "start_time": "2022-12-10T10:24:51.240Z"
   },
   {
    "duration": 10,
    "start_time": "2022-12-10T10:25:09.551Z"
   },
   {
    "duration": 3,
    "start_time": "2022-12-10T10:25:10.234Z"
   },
   {
    "duration": 3,
    "start_time": "2022-12-10T10:25:10.476Z"
   },
   {
    "duration": 3,
    "start_time": "2022-12-10T10:25:11.040Z"
   },
   {
    "duration": 8,
    "start_time": "2022-12-10T10:25:33.759Z"
   },
   {
    "duration": 3,
    "start_time": "2022-12-10T10:25:34.157Z"
   },
   {
    "duration": 5,
    "start_time": "2022-12-10T10:25:34.647Z"
   },
   {
    "duration": 3,
    "start_time": "2022-12-10T10:25:35.105Z"
   },
   {
    "duration": 1069,
    "start_time": "2022-12-10T10:25:44.989Z"
   },
   {
    "duration": 31,
    "start_time": "2022-12-10T10:25:46.060Z"
   },
   {
    "duration": 8,
    "start_time": "2022-12-10T10:25:46.095Z"
   },
   {
    "duration": 4,
    "start_time": "2022-12-10T10:25:46.104Z"
   },
   {
    "duration": 7,
    "start_time": "2022-12-10T10:25:46.109Z"
   },
   {
    "duration": 4,
    "start_time": "2022-12-10T10:25:46.118Z"
   },
   {
    "duration": 34,
    "start_time": "2022-12-10T10:25:46.123Z"
   },
   {
    "duration": 255,
    "start_time": "2022-12-10T10:25:46.159Z"
   },
   {
    "duration": 29,
    "start_time": "2022-12-10T10:25:46.416Z"
   },
   {
    "duration": 11,
    "start_time": "2022-12-10T10:25:46.446Z"
   },
   {
    "duration": 7,
    "start_time": "2022-12-10T10:25:46.458Z"
   },
   {
    "duration": 33,
    "start_time": "2022-12-10T10:25:46.466Z"
   },
   {
    "duration": 6,
    "start_time": "2022-12-10T10:25:46.500Z"
   },
   {
    "duration": 25,
    "start_time": "2022-12-10T10:26:00.500Z"
   },
   {
    "duration": 10,
    "start_time": "2022-12-10T10:26:01.642Z"
   },
   {
    "duration": 8,
    "start_time": "2022-12-10T10:26:01.993Z"
   },
   {
    "duration": 7,
    "start_time": "2022-12-10T10:26:02.684Z"
   },
   {
    "duration": 6,
    "start_time": "2022-12-10T10:26:03.068Z"
   },
   {
    "duration": 1056,
    "start_time": "2022-12-10T10:26:09.335Z"
   },
   {
    "duration": 30,
    "start_time": "2022-12-10T10:26:10.394Z"
   },
   {
    "duration": 8,
    "start_time": "2022-12-10T10:26:10.426Z"
   },
   {
    "duration": 4,
    "start_time": "2022-12-10T10:26:10.435Z"
   },
   {
    "duration": 5,
    "start_time": "2022-12-10T10:26:10.441Z"
   },
   {
    "duration": 7,
    "start_time": "2022-12-10T10:26:10.447Z"
   },
   {
    "duration": 31,
    "start_time": "2022-12-10T10:26:10.455Z"
   },
   {
    "duration": 245,
    "start_time": "2022-12-10T10:26:10.488Z"
   },
   {
    "duration": 28,
    "start_time": "2022-12-10T10:26:10.734Z"
   },
   {
    "duration": 9,
    "start_time": "2022-12-10T10:26:10.763Z"
   },
   {
    "duration": 23,
    "start_time": "2022-12-10T10:26:10.774Z"
   },
   {
    "duration": 6,
    "start_time": "2022-12-10T10:26:10.798Z"
   },
   {
    "duration": 7,
    "start_time": "2022-12-10T10:26:10.806Z"
   },
   {
    "duration": 23,
    "start_time": "2022-12-10T10:26:45.556Z"
   },
   {
    "duration": 24,
    "start_time": "2022-12-10T10:26:52.839Z"
   },
   {
    "duration": 23,
    "start_time": "2022-12-10T10:26:56.824Z"
   },
   {
    "duration": 985,
    "start_time": "2022-12-10T10:27:10.164Z"
   },
   {
    "duration": 30,
    "start_time": "2022-12-10T10:27:11.151Z"
   },
   {
    "duration": 8,
    "start_time": "2022-12-10T10:27:11.182Z"
   },
   {
    "duration": 6,
    "start_time": "2022-12-10T10:27:11.191Z"
   },
   {
    "duration": 5,
    "start_time": "2022-12-10T10:27:11.199Z"
   },
   {
    "duration": 9,
    "start_time": "2022-12-10T10:27:11.205Z"
   },
   {
    "duration": 30,
    "start_time": "2022-12-10T10:27:11.215Z"
   },
   {
    "duration": 243,
    "start_time": "2022-12-10T10:27:11.246Z"
   },
   {
    "duration": 27,
    "start_time": "2022-12-10T10:27:11.491Z"
   },
   {
    "duration": 10,
    "start_time": "2022-12-10T10:27:11.519Z"
   },
   {
    "duration": 8,
    "start_time": "2022-12-10T10:27:11.531Z"
   },
   {
    "duration": 6,
    "start_time": "2022-12-10T10:27:11.540Z"
   },
   {
    "duration": 10,
    "start_time": "2022-12-10T10:27:11.548Z"
   },
   {
    "duration": 10,
    "start_time": "2022-12-10T10:27:55.339Z"
   },
   {
    "duration": 25,
    "start_time": "2022-12-10T10:29:37.256Z"
   },
   {
    "duration": 26,
    "start_time": "2022-12-10T10:29:44.333Z"
   },
   {
    "duration": 36,
    "start_time": "2022-12-10T10:33:15.203Z"
   },
   {
    "duration": 24,
    "start_time": "2022-12-10T10:33:19.997Z"
   },
   {
    "duration": 1095,
    "start_time": "2022-12-10T10:33:25.672Z"
   },
   {
    "duration": 31,
    "start_time": "2022-12-10T10:33:26.769Z"
   },
   {
    "duration": 9,
    "start_time": "2022-12-10T10:33:26.802Z"
   },
   {
    "duration": 4,
    "start_time": "2022-12-10T10:33:26.813Z"
   },
   {
    "duration": 5,
    "start_time": "2022-12-10T10:33:26.818Z"
   },
   {
    "duration": 5,
    "start_time": "2022-12-10T10:33:26.824Z"
   },
   {
    "duration": 32,
    "start_time": "2022-12-10T10:33:26.830Z"
   },
   {
    "duration": 259,
    "start_time": "2022-12-10T10:33:26.864Z"
   },
   {
    "duration": 23,
    "start_time": "2022-12-10T10:33:27.124Z"
   },
   {
    "duration": 9,
    "start_time": "2022-12-10T10:33:27.149Z"
   },
   {
    "duration": 12,
    "start_time": "2022-12-10T10:33:27.160Z"
   },
   {
    "duration": 26,
    "start_time": "2022-12-10T10:33:27.174Z"
   },
   {
    "duration": 11,
    "start_time": "2022-12-10T10:33:27.201Z"
   },
   {
    "duration": 25,
    "start_time": "2022-12-10T10:36:03.205Z"
   },
   {
    "duration": 24,
    "start_time": "2022-12-10T10:36:07.471Z"
   },
   {
    "duration": 25,
    "start_time": "2022-12-10T10:40:02.491Z"
   },
   {
    "duration": 14,
    "start_time": "2022-12-10T10:41:37.266Z"
   },
   {
    "duration": 13,
    "start_time": "2022-12-10T10:41:40.343Z"
   },
   {
    "duration": 16,
    "start_time": "2022-12-10T10:41:44.728Z"
   },
   {
    "duration": 10,
    "start_time": "2022-12-10T10:41:49.580Z"
   },
   {
    "duration": 11,
    "start_time": "2022-12-10T10:41:53.225Z"
   },
   {
    "duration": 12,
    "start_time": "2022-12-10T10:41:56.221Z"
   },
   {
    "duration": 13,
    "start_time": "2022-12-10T10:42:03.699Z"
   },
   {
    "duration": 12,
    "start_time": "2022-12-10T10:42:07.722Z"
   },
   {
    "duration": 14,
    "start_time": "2022-12-10T10:42:13.632Z"
   },
   {
    "duration": 1023,
    "start_time": "2022-12-10T10:42:21.649Z"
   },
   {
    "duration": 32,
    "start_time": "2022-12-10T10:42:22.674Z"
   },
   {
    "duration": 12,
    "start_time": "2022-12-10T10:42:22.708Z"
   },
   {
    "duration": 4,
    "start_time": "2022-12-10T10:42:22.722Z"
   },
   {
    "duration": 7,
    "start_time": "2022-12-10T10:42:22.729Z"
   },
   {
    "duration": 7,
    "start_time": "2022-12-10T10:42:22.739Z"
   },
   {
    "duration": 55,
    "start_time": "2022-12-10T10:42:22.747Z"
   },
   {
    "duration": 270,
    "start_time": "2022-12-10T10:42:22.804Z"
   },
   {
    "duration": 22,
    "start_time": "2022-12-10T10:42:23.076Z"
   },
   {
    "duration": 10,
    "start_time": "2022-12-10T10:42:23.100Z"
   },
   {
    "duration": 9,
    "start_time": "2022-12-10T10:42:23.111Z"
   },
   {
    "duration": 5,
    "start_time": "2022-12-10T10:42:23.122Z"
   },
   {
    "duration": 12,
    "start_time": "2022-12-10T10:42:23.128Z"
   },
   {
    "duration": 197,
    "start_time": "2022-12-10T10:42:40.069Z"
   },
   {
    "duration": 27,
    "start_time": "2022-12-10T10:42:48.151Z"
   },
   {
    "duration": 12,
    "start_time": "2022-12-10T10:42:50.692Z"
   },
   {
    "duration": 576,
    "start_time": "2022-12-10T10:42:54.840Z"
   },
   {
    "duration": 107,
    "start_time": "2022-12-10T10:44:30.011Z"
   },
   {
    "duration": 160,
    "start_time": "2022-12-10T10:44:42.255Z"
   },
   {
    "duration": 182,
    "start_time": "2022-12-10T10:48:35.540Z"
   },
   {
    "duration": 164,
    "start_time": "2022-12-10T10:48:40.602Z"
   },
   {
    "duration": 170,
    "start_time": "2022-12-10T10:48:43.812Z"
   },
   {
    "duration": 165,
    "start_time": "2022-12-10T10:48:46.792Z"
   },
   {
    "duration": 197,
    "start_time": "2022-12-10T10:48:49.102Z"
   },
   {
    "duration": 12,
    "start_time": "2022-12-10T10:52:06.811Z"
   },
   {
    "duration": 12,
    "start_time": "2022-12-10T10:52:27.736Z"
   },
   {
    "duration": 12,
    "start_time": "2022-12-10T10:52:40.117Z"
   },
   {
    "duration": 12,
    "start_time": "2022-12-10T10:52:43.169Z"
   },
   {
    "duration": 541,
    "start_time": "2022-12-10T10:52:48.637Z"
   },
   {
    "duration": 14,
    "start_time": "2022-12-10T10:52:54.933Z"
   },
   {
    "duration": 11,
    "start_time": "2022-12-10T10:52:58.504Z"
   },
   {
    "duration": 11,
    "start_time": "2022-12-10T10:53:03.074Z"
   },
   {
    "duration": 13,
    "start_time": "2022-12-10T10:53:48.399Z"
   },
   {
    "duration": 15,
    "start_time": "2022-12-10T10:54:00.543Z"
   },
   {
    "duration": 14,
    "start_time": "2022-12-10T10:54:05.858Z"
   },
   {
    "duration": 14,
    "start_time": "2022-12-10T10:54:17.418Z"
   },
   {
    "duration": 19,
    "start_time": "2022-12-10T10:55:59.545Z"
   },
   {
    "duration": 12,
    "start_time": "2022-12-10T10:56:04.060Z"
   },
   {
    "duration": 15,
    "start_time": "2022-12-10T10:56:09.367Z"
   },
   {
    "duration": 13,
    "start_time": "2022-12-10T10:57:09.961Z"
   },
   {
    "duration": 12,
    "start_time": "2022-12-10T10:57:18.312Z"
   },
   {
    "duration": 11,
    "start_time": "2022-12-10T10:57:23.027Z"
   },
   {
    "duration": 11,
    "start_time": "2022-12-10T10:57:29.835Z"
   },
   {
    "duration": 12,
    "start_time": "2022-12-10T10:57:36.596Z"
   },
   {
    "duration": 14,
    "start_time": "2022-12-10T10:57:53.725Z"
   },
   {
    "duration": 13,
    "start_time": "2022-12-10T10:58:02.734Z"
   },
   {
    "duration": 12,
    "start_time": "2022-12-10T10:58:07.180Z"
   },
   {
    "duration": 12,
    "start_time": "2022-12-10T10:58:10.333Z"
   },
   {
    "duration": 15,
    "start_time": "2022-12-10T10:58:16.093Z"
   },
   {
    "duration": 16,
    "start_time": "2022-12-10T10:58:20.021Z"
   },
   {
    "duration": 12,
    "start_time": "2022-12-10T10:58:24.358Z"
   },
   {
    "duration": 16,
    "start_time": "2022-12-10T10:58:27.740Z"
   },
   {
    "duration": 9,
    "start_time": "2022-12-10T10:59:42.791Z"
   },
   {
    "duration": 19,
    "start_time": "2022-12-10T10:59:50.909Z"
   },
   {
    "duration": 19,
    "start_time": "2022-12-10T11:00:02.421Z"
   },
   {
    "duration": 14,
    "start_time": "2022-12-10T11:00:20.480Z"
   },
   {
    "duration": 1100,
    "start_time": "2022-12-10T11:00:26.560Z"
   },
   {
    "duration": 30,
    "start_time": "2022-12-10T11:00:27.662Z"
   },
   {
    "duration": 9,
    "start_time": "2022-12-10T11:00:27.693Z"
   },
   {
    "duration": 38,
    "start_time": "2022-12-10T11:00:27.703Z"
   },
   {
    "duration": 27,
    "start_time": "2022-12-10T11:00:27.744Z"
   },
   {
    "duration": 35,
    "start_time": "2022-12-10T11:00:27.774Z"
   },
   {
    "duration": 84,
    "start_time": "2022-12-10T11:00:27.811Z"
   },
   {
    "duration": 263,
    "start_time": "2022-12-10T11:00:27.896Z"
   },
   {
    "duration": 23,
    "start_time": "2022-12-10T11:00:28.161Z"
   },
   {
    "duration": 21,
    "start_time": "2022-12-10T11:00:28.186Z"
   },
   {
    "duration": 10,
    "start_time": "2022-12-10T11:00:28.209Z"
   },
   {
    "duration": 6,
    "start_time": "2022-12-10T11:00:28.221Z"
   },
   {
    "duration": 14,
    "start_time": "2022-12-10T11:00:28.229Z"
   },
   {
    "duration": 14,
    "start_time": "2022-12-10T11:00:58.790Z"
   },
   {
    "duration": 10,
    "start_time": "2022-12-10T11:00:59.721Z"
   },
   {
    "duration": 10,
    "start_time": "2022-12-10T11:01:00.084Z"
   },
   {
    "duration": 7,
    "start_time": "2022-12-10T11:01:00.432Z"
   },
   {
    "duration": 15,
    "start_time": "2022-12-10T11:01:06.814Z"
   },
   {
    "duration": 10,
    "start_time": "2022-12-10T11:01:07.377Z"
   },
   {
    "duration": 8,
    "start_time": "2022-12-10T11:01:07.725Z"
   },
   {
    "duration": 6,
    "start_time": "2022-12-10T11:01:08.291Z"
   },
   {
    "duration": 1023,
    "start_time": "2022-12-10T11:01:17.454Z"
   },
   {
    "duration": 37,
    "start_time": "2022-12-10T11:01:18.479Z"
   },
   {
    "duration": 8,
    "start_time": "2022-12-10T11:01:18.518Z"
   },
   {
    "duration": 6,
    "start_time": "2022-12-10T11:01:18.528Z"
   },
   {
    "duration": 7,
    "start_time": "2022-12-10T11:01:18.536Z"
   },
   {
    "duration": 5,
    "start_time": "2022-12-10T11:01:18.545Z"
   },
   {
    "duration": 42,
    "start_time": "2022-12-10T11:01:18.552Z"
   },
   {
    "duration": 276,
    "start_time": "2022-12-10T11:01:18.595Z"
   },
   {
    "duration": 28,
    "start_time": "2022-12-10T11:01:18.874Z"
   },
   {
    "duration": 10,
    "start_time": "2022-12-10T11:01:18.904Z"
   },
   {
    "duration": 13,
    "start_time": "2022-12-10T11:01:18.915Z"
   },
   {
    "duration": 9,
    "start_time": "2022-12-10T11:01:18.929Z"
   },
   {
    "duration": 11,
    "start_time": "2022-12-10T11:01:18.939Z"
   },
   {
    "duration": 1009,
    "start_time": "2022-12-10T11:15:59.947Z"
   },
   {
    "duration": 35,
    "start_time": "2022-12-10T11:16:00.957Z"
   },
   {
    "duration": 8,
    "start_time": "2022-12-10T11:16:00.993Z"
   },
   {
    "duration": 24,
    "start_time": "2022-12-10T11:16:01.003Z"
   },
   {
    "duration": 18,
    "start_time": "2022-12-10T11:16:01.028Z"
   },
   {
    "duration": 18,
    "start_time": "2022-12-10T11:16:01.048Z"
   },
   {
    "duration": 42,
    "start_time": "2022-12-10T11:16:01.067Z"
   },
   {
    "duration": 248,
    "start_time": "2022-12-10T11:16:01.110Z"
   },
   {
    "duration": 13,
    "start_time": "2022-12-10T11:16:01.360Z"
   },
   {
    "duration": 10,
    "start_time": "2022-12-10T11:16:01.375Z"
   },
   {
    "duration": 7,
    "start_time": "2022-12-10T11:16:01.397Z"
   },
   {
    "duration": 15,
    "start_time": "2022-12-10T11:16:01.406Z"
   },
   {
    "duration": 16,
    "start_time": "2022-12-10T11:16:01.422Z"
   },
   {
    "duration": 1859,
    "start_time": "2022-12-10T11:32:27.207Z"
   },
   {
    "duration": 30,
    "start_time": "2022-12-10T11:32:29.068Z"
   },
   {
    "duration": 10,
    "start_time": "2022-12-10T11:32:29.100Z"
   },
   {
    "duration": 23,
    "start_time": "2022-12-10T11:32:29.113Z"
   },
   {
    "duration": 37,
    "start_time": "2022-12-10T11:32:29.137Z"
   },
   {
    "duration": 22,
    "start_time": "2022-12-10T11:32:29.176Z"
   },
   {
    "duration": 53,
    "start_time": "2022-12-10T11:32:29.200Z"
   },
   {
    "duration": 279,
    "start_time": "2022-12-10T11:32:29.255Z"
   },
   {
    "duration": 22,
    "start_time": "2022-12-10T11:32:29.536Z"
   },
   {
    "duration": 28,
    "start_time": "2022-12-10T11:32:29.562Z"
   },
   {
    "duration": 30,
    "start_time": "2022-12-10T11:32:29.592Z"
   },
   {
    "duration": 30,
    "start_time": "2022-12-10T11:32:29.623Z"
   },
   {
    "duration": 24,
    "start_time": "2022-12-10T11:32:29.655Z"
   },
   {
    "duration": 45,
    "start_time": "2022-12-11T21:28:08.048Z"
   },
   {
    "duration": 6,
    "start_time": "2022-12-11T21:28:08.351Z"
   },
   {
    "duration": 1059,
    "start_time": "2022-12-11T21:28:13.146Z"
   },
   {
    "duration": 205,
    "start_time": "2022-12-11T21:28:14.207Z"
   },
   {
    "duration": 16,
    "start_time": "2022-12-11T21:28:14.414Z"
   },
   {
    "duration": 59,
    "start_time": "2022-12-12T12:38:56.676Z"
   },
   {
    "duration": 1132,
    "start_time": "2022-12-12T12:39:02.151Z"
   },
   {
    "duration": 204,
    "start_time": "2022-12-12T12:39:03.288Z"
   },
   {
    "duration": 11,
    "start_time": "2022-12-12T12:39:03.494Z"
   },
   {
    "duration": 37,
    "start_time": "2022-12-12T12:39:08.584Z"
   },
   {
    "duration": 85,
    "start_time": "2022-12-12T13:26:41.855Z"
   },
   {
    "duration": 79,
    "start_time": "2022-12-12T13:27:20.121Z"
   },
   {
    "duration": 3,
    "start_time": "2022-12-12T13:42:26.011Z"
   },
   {
    "duration": 31,
    "start_time": "2022-12-12T13:42:26.350Z"
   },
   {
    "duration": 12,
    "start_time": "2022-12-12T13:42:26.482Z"
   },
   {
    "duration": 24,
    "start_time": "2022-12-12T13:42:26.632Z"
   },
   {
    "duration": 9,
    "start_time": "2022-12-12T13:42:29.042Z"
   },
   {
    "duration": 71,
    "start_time": "2022-12-12T13:42:29.630Z"
   },
   {
    "duration": 4,
    "start_time": "2022-12-12T13:43:00.077Z"
   },
   {
    "duration": 6,
    "start_time": "2022-12-12T13:49:10.093Z"
   },
   {
    "duration": 38,
    "start_time": "2022-12-12T13:52:42.456Z"
   },
   {
    "duration": 30,
    "start_time": "2022-12-12T13:52:42.859Z"
   },
   {
    "duration": 13,
    "start_time": "2022-12-12T13:52:43.013Z"
   },
   {
    "duration": 25,
    "start_time": "2022-12-12T13:52:43.585Z"
   },
   {
    "duration": 17,
    "start_time": "2022-12-12T13:53:21.582Z"
   },
   {
    "duration": 5,
    "start_time": "2022-12-12T13:53:31.281Z"
   },
   {
    "duration": 6,
    "start_time": "2022-12-12T13:56:12.567Z"
   },
   {
    "duration": 4,
    "start_time": "2022-12-12T13:56:41.964Z"
   },
   {
    "duration": 7,
    "start_time": "2022-12-12T13:57:24.449Z"
   },
   {
    "duration": 6,
    "start_time": "2022-12-12T13:57:52.277Z"
   },
   {
    "duration": 4,
    "start_time": "2022-12-12T13:59:17.661Z"
   },
   {
    "duration": 7,
    "start_time": "2022-12-12T14:00:34.369Z"
   },
   {
    "duration": 5,
    "start_time": "2022-12-12T14:00:49.485Z"
   },
   {
    "duration": 17,
    "start_time": "2022-12-12T14:07:31.696Z"
   },
   {
    "duration": 5,
    "start_time": "2022-12-12T14:07:32.057Z"
   },
   {
    "duration": 17,
    "start_time": "2022-12-12T14:07:52.076Z"
   },
   {
    "duration": 4,
    "start_time": "2022-12-12T14:07:57.066Z"
   },
   {
    "duration": 31,
    "start_time": "2022-12-12T14:07:57.653Z"
   },
   {
    "duration": 13,
    "start_time": "2022-12-12T14:07:58.150Z"
   },
   {
    "duration": 23,
    "start_time": "2022-12-12T14:07:58.601Z"
   },
   {
    "duration": 6,
    "start_time": "2022-12-12T14:08:01.799Z"
   },
   {
    "duration": 18,
    "start_time": "2022-12-12T14:08:03.524Z"
   },
   {
    "duration": 9,
    "start_time": "2022-12-12T14:08:09.832Z"
   },
   {
    "duration": 5,
    "start_time": "2022-12-12T14:08:13.724Z"
   },
   {
    "duration": 7,
    "start_time": "2022-12-12T14:08:54.009Z"
   },
   {
    "duration": 16,
    "start_time": "2022-12-12T14:09:13.712Z"
   },
   {
    "duration": 15,
    "start_time": "2022-12-12T14:09:50.109Z"
   },
   {
    "duration": 15,
    "start_time": "2022-12-12T14:09:55.727Z"
   },
   {
    "duration": 16,
    "start_time": "2022-12-12T14:11:08.556Z"
   },
   {
    "duration": 14,
    "start_time": "2022-12-12T14:11:32.578Z"
   },
   {
    "duration": 68,
    "start_time": "2022-12-12T14:13:30.953Z"
   },
   {
    "duration": 10,
    "start_time": "2022-12-12T14:13:45.220Z"
   },
   {
    "duration": 7,
    "start_time": "2022-12-12T14:14:07.017Z"
   },
   {
    "duration": 15,
    "start_time": "2022-12-12T14:14:29.962Z"
   },
   {
    "duration": 18,
    "start_time": "2022-12-12T14:14:35.749Z"
   },
   {
    "duration": 7,
    "start_time": "2022-12-12T14:14:39.806Z"
   },
   {
    "duration": 10,
    "start_time": "2022-12-12T14:16:55.200Z"
   },
   {
    "duration": 6,
    "start_time": "2022-12-12T14:17:02.180Z"
   },
   {
    "duration": 7,
    "start_time": "2022-12-12T14:18:56.528Z"
   },
   {
    "duration": 6,
    "start_time": "2022-12-12T14:19:20.212Z"
   },
   {
    "duration": 4,
    "start_time": "2022-12-12T14:19:20.660Z"
   },
   {
    "duration": 3,
    "start_time": "2022-12-12T14:19:30.445Z"
   },
   {
    "duration": 4,
    "start_time": "2022-12-12T14:19:34.032Z"
   },
   {
    "duration": 4,
    "start_time": "2022-12-12T14:19:34.801Z"
   },
   {
    "duration": 14,
    "start_time": "2022-12-12T14:21:00.391Z"
   },
   {
    "duration": 26,
    "start_time": "2022-12-12T15:31:37.874Z"
   },
   {
    "duration": 24,
    "start_time": "2022-12-12T15:31:42.008Z"
   },
   {
    "duration": 8,
    "start_time": "2022-12-12T15:37:23.520Z"
   },
   {
    "duration": 39,
    "start_time": "2022-12-12T15:39:10.759Z"
   },
   {
    "duration": 64,
    "start_time": "2022-12-12T15:40:13.701Z"
   },
   {
    "duration": 54,
    "start_time": "2022-12-12T17:46:51.934Z"
   },
   {
    "duration": 1161,
    "start_time": "2022-12-12T17:47:03.319Z"
   },
   {
    "duration": 79,
    "start_time": "2022-12-12T17:47:04.482Z"
   },
   {
    "duration": 13,
    "start_time": "2022-12-12T17:47:04.563Z"
   },
   {
    "duration": 42,
    "start_time": "2022-12-12T17:47:04.578Z"
   },
   {
    "duration": 5,
    "start_time": "2022-12-12T17:47:04.622Z"
   },
   {
    "duration": 205,
    "start_time": "2022-12-12T17:47:04.629Z"
   },
   {
    "duration": 0,
    "start_time": "2022-12-12T17:47:04.836Z"
   },
   {
    "duration": 0,
    "start_time": "2022-12-12T17:47:04.837Z"
   },
   {
    "duration": 0,
    "start_time": "2022-12-12T17:47:04.838Z"
   },
   {
    "duration": 0,
    "start_time": "2022-12-12T17:47:04.839Z"
   },
   {
    "duration": 0,
    "start_time": "2022-12-12T17:47:04.840Z"
   },
   {
    "duration": 0,
    "start_time": "2022-12-12T17:47:04.841Z"
   },
   {
    "duration": 0,
    "start_time": "2022-12-12T17:47:04.842Z"
   },
   {
    "duration": 0,
    "start_time": "2022-12-12T17:47:04.844Z"
   },
   {
    "duration": 0,
    "start_time": "2022-12-12T17:47:04.845Z"
   },
   {
    "duration": 0,
    "start_time": "2022-12-12T17:47:04.846Z"
   },
   {
    "duration": 0,
    "start_time": "2022-12-12T17:47:04.847Z"
   },
   {
    "duration": 9,
    "start_time": "2022-12-12T17:48:18.845Z"
   },
   {
    "duration": 11,
    "start_time": "2022-12-12T17:50:47.793Z"
   },
   {
    "duration": 11,
    "start_time": "2022-12-12T17:51:05.964Z"
   },
   {
    "duration": 22,
    "start_time": "2022-12-12T17:56:05.217Z"
   },
   {
    "duration": 11,
    "start_time": "2022-12-12T17:56:41.894Z"
   },
   {
    "duration": 12,
    "start_time": "2022-12-12T17:58:11.047Z"
   },
   {
    "duration": 4,
    "start_time": "2022-12-12T17:58:19.273Z"
   },
   {
    "duration": 4,
    "start_time": "2022-12-12T17:58:22.128Z"
   },
   {
    "duration": 4,
    "start_time": "2022-12-12T17:58:24.658Z"
   },
   {
    "duration": 1121,
    "start_time": "2022-12-12T18:05:57.442Z"
   },
   {
    "duration": 33,
    "start_time": "2022-12-12T18:05:58.565Z"
   },
   {
    "duration": 15,
    "start_time": "2022-12-12T18:05:58.600Z"
   },
   {
    "duration": 28,
    "start_time": "2022-12-12T18:05:58.617Z"
   },
   {
    "duration": 8,
    "start_time": "2022-12-12T18:05:58.647Z"
   },
   {
    "duration": 3,
    "start_time": "2022-12-12T18:05:58.657Z"
   },
   {
    "duration": 16,
    "start_time": "2022-12-12T18:05:58.662Z"
   },
   {
    "duration": 3,
    "start_time": "2022-12-12T18:05:58.680Z"
   },
   {
    "duration": 35,
    "start_time": "2022-12-12T18:05:58.685Z"
   },
   {
    "duration": 275,
    "start_time": "2022-12-12T18:05:58.722Z"
   },
   {
    "duration": 11,
    "start_time": "2022-12-12T18:05:58.999Z"
   },
   {
    "duration": 11,
    "start_time": "2022-12-12T18:05:59.013Z"
   },
   {
    "duration": 14,
    "start_time": "2022-12-12T18:05:59.026Z"
   },
   {
    "duration": 35,
    "start_time": "2022-12-12T18:05:59.043Z"
   },
   {
    "duration": 10,
    "start_time": "2022-12-12T18:05:59.080Z"
   },
   {
    "duration": 11,
    "start_time": "2022-12-12T18:11:16.725Z"
   },
   {
    "duration": 13,
    "start_time": "2022-12-12T18:11:21.209Z"
   },
   {
    "duration": 14,
    "start_time": "2022-12-12T18:11:27.032Z"
   },
   {
    "duration": 11,
    "start_time": "2022-12-12T18:11:33.325Z"
   },
   {
    "duration": 12,
    "start_time": "2022-12-12T18:11:36.935Z"
   },
   {
    "duration": 11,
    "start_time": "2022-12-12T18:11:45.954Z"
   },
   {
    "duration": 20,
    "start_time": "2022-12-12T18:11:52.771Z"
   },
   {
    "duration": 18,
    "start_time": "2022-12-12T18:12:06.606Z"
   },
   {
    "duration": 1115,
    "start_time": "2022-12-12T18:12:13.927Z"
   },
   {
    "duration": 34,
    "start_time": "2022-12-12T18:12:15.044Z"
   },
   {
    "duration": 14,
    "start_time": "2022-12-12T18:12:15.079Z"
   },
   {
    "duration": 34,
    "start_time": "2022-12-12T18:12:15.095Z"
   },
   {
    "duration": 11,
    "start_time": "2022-12-12T18:12:15.131Z"
   },
   {
    "duration": 3,
    "start_time": "2022-12-12T18:12:15.144Z"
   },
   {
    "duration": 31,
    "start_time": "2022-12-12T18:12:15.148Z"
   },
   {
    "duration": 11,
    "start_time": "2022-12-12T18:12:15.181Z"
   },
   {
    "duration": 34,
    "start_time": "2022-12-12T18:12:15.194Z"
   },
   {
    "duration": 289,
    "start_time": "2022-12-12T18:12:15.230Z"
   },
   {
    "duration": 19,
    "start_time": "2022-12-12T18:12:15.521Z"
   },
   {
    "duration": 11,
    "start_time": "2022-12-12T18:12:15.542Z"
   },
   {
    "duration": 28,
    "start_time": "2022-12-12T18:12:15.555Z"
   },
   {
    "duration": 5,
    "start_time": "2022-12-12T18:12:15.586Z"
   },
   {
    "duration": 7,
    "start_time": "2022-12-12T18:12:15.592Z"
   },
   {
    "duration": 12,
    "start_time": "2022-12-12T18:12:38.764Z"
   },
   {
    "duration": 1212,
    "start_time": "2022-12-13T09:48:28.724Z"
   },
   {
    "duration": 91,
    "start_time": "2022-12-13T09:48:29.938Z"
   },
   {
    "duration": 17,
    "start_time": "2022-12-13T09:48:30.034Z"
   },
   {
    "duration": 49,
    "start_time": "2022-12-13T09:48:30.054Z"
   },
   {
    "duration": 9,
    "start_time": "2022-12-13T09:48:30.106Z"
   },
   {
    "duration": 29,
    "start_time": "2022-12-13T09:48:30.116Z"
   },
   {
    "duration": 16,
    "start_time": "2022-12-13T09:48:30.147Z"
   },
   {
    "duration": 20,
    "start_time": "2022-12-13T09:48:30.164Z"
   },
   {
    "duration": 63,
    "start_time": "2022-12-13T09:48:30.186Z"
   },
   {
    "duration": 289,
    "start_time": "2022-12-13T09:48:30.250Z"
   },
   {
    "duration": 14,
    "start_time": "2022-12-13T09:48:30.545Z"
   },
   {
    "duration": 55,
    "start_time": "2022-12-13T09:48:30.561Z"
   },
   {
    "duration": 49,
    "start_time": "2022-12-13T09:48:30.618Z"
   },
   {
    "duration": 28,
    "start_time": "2022-12-13T09:48:30.670Z"
   },
   {
    "duration": 13,
    "start_time": "2022-12-13T09:48:30.699Z"
   },
   {
    "duration": 315,
    "start_time": "2022-12-13T09:58:50.321Z"
   },
   {
    "duration": 3,
    "start_time": "2022-12-13T10:14:19.224Z"
   },
   {
    "duration": 35,
    "start_time": "2022-12-13T10:14:20.990Z"
   },
   {
    "duration": 47,
    "start_time": "2022-12-13T10:15:57.653Z"
   },
   {
    "duration": 455,
    "start_time": "2022-12-13T10:18:26.121Z"
   },
   {
    "duration": 43,
    "start_time": "2022-12-13T10:18:32.496Z"
   },
   {
    "duration": 16,
    "start_time": "2022-12-13T10:18:32.645Z"
   },
   {
    "duration": 29,
    "start_time": "2022-12-13T10:18:32.794Z"
   },
   {
    "duration": 10,
    "start_time": "2022-12-13T10:18:34.970Z"
   },
   {
    "duration": 3,
    "start_time": "2022-12-13T10:18:35.578Z"
   },
   {
    "duration": 3,
    "start_time": "2022-12-13T10:18:35.792Z"
   },
   {
    "duration": 4,
    "start_time": "2022-12-13T10:18:36.581Z"
   },
   {
    "duration": 3,
    "start_time": "2022-12-13T10:18:39.297Z"
   },
   {
    "duration": 42,
    "start_time": "2022-12-13T10:18:40.405Z"
   },
   {
    "duration": 231,
    "start_time": "2022-12-13T10:18:42.828Z"
   },
   {
    "duration": 35,
    "start_time": "2022-12-13T10:19:10.558Z"
   },
   {
    "duration": 145,
    "start_time": "2022-12-13T10:19:12.257Z"
   },
   {
    "duration": 4,
    "start_time": "2022-12-13T10:23:53.559Z"
   },
   {
    "duration": 5,
    "start_time": "2022-12-13T10:23:57.235Z"
   },
   {
    "duration": 11,
    "start_time": "2022-12-13T10:24:03.743Z"
   },
   {
    "duration": 10,
    "start_time": "2022-12-13T10:24:16.550Z"
   },
   {
    "duration": 32,
    "start_time": "2022-12-13T10:24:30.286Z"
   },
   {
    "duration": 28,
    "start_time": "2022-12-13T10:24:34.741Z"
   },
   {
    "duration": 13,
    "start_time": "2022-12-13T10:25:01.754Z"
   },
   {
    "duration": 547,
    "start_time": "2022-12-13T10:25:26.242Z"
   },
   {
    "duration": 450,
    "start_time": "2022-12-13T10:25:40.318Z"
   },
   {
    "duration": 568,
    "start_time": "2022-12-13T10:25:49.635Z"
   },
   {
    "duration": 117,
    "start_time": "2022-12-13T10:26:10.876Z"
   },
   {
    "duration": 125,
    "start_time": "2022-12-13T10:26:14.184Z"
   },
   {
    "duration": 15,
    "start_time": "2022-12-13T10:26:46.440Z"
   },
   {
    "duration": 10,
    "start_time": "2022-12-13T10:26:54.628Z"
   },
   {
    "duration": 36,
    "start_time": "2022-12-13T10:26:55.709Z"
   },
   {
    "duration": 116,
    "start_time": "2022-12-13T10:27:00.730Z"
   },
   {
    "duration": 109,
    "start_time": "2022-12-13T10:27:42.691Z"
   },
   {
    "duration": 10,
    "start_time": "2022-12-13T10:31:22.244Z"
   },
   {
    "duration": 66,
    "start_time": "2022-12-13T10:31:22.525Z"
   },
   {
    "duration": 10,
    "start_time": "2022-12-13T10:31:28.227Z"
   },
   {
    "duration": 64,
    "start_time": "2022-12-13T10:31:28.847Z"
   },
   {
    "duration": 122,
    "start_time": "2022-12-13T10:31:29.558Z"
   },
   {
    "duration": 14,
    "start_time": "2022-12-13T10:54:14.998Z"
   },
   {
    "duration": 4,
    "start_time": "2022-12-13T10:54:23.731Z"
   },
   {
    "duration": 9,
    "start_time": "2022-12-13T10:54:28.266Z"
   },
   {
    "duration": 9,
    "start_time": "2022-12-13T10:55:00.200Z"
   },
   {
    "duration": 13,
    "start_time": "2022-12-13T10:55:19.309Z"
   },
   {
    "duration": 437,
    "start_time": "2022-12-13T10:55:38.549Z"
   },
   {
    "duration": 462,
    "start_time": "2022-12-13T10:55:49.186Z"
   },
   {
    "duration": 571,
    "start_time": "2022-12-13T10:56:04.091Z"
   },
   {
    "duration": 23,
    "start_time": "2022-12-13T10:58:21.817Z"
   },
   {
    "duration": 491,
    "start_time": "2022-12-13T10:58:34.013Z"
   },
   {
    "duration": 446,
    "start_time": "2022-12-13T11:01:08.029Z"
   },
   {
    "duration": 447,
    "start_time": "2022-12-13T11:01:46.340Z"
   },
   {
    "duration": 691,
    "start_time": "2022-12-13T11:12:14.586Z"
   },
   {
    "duration": 630,
    "start_time": "2022-12-13T11:12:32.396Z"
   },
   {
    "duration": 624,
    "start_time": "2022-12-13T11:12:41.920Z"
   },
   {
    "duration": 569,
    "start_time": "2022-12-13T11:12:48.347Z"
   },
   {
    "duration": 497,
    "start_time": "2022-12-13T11:13:27.739Z"
   },
   {
    "duration": 105,
    "start_time": "2022-12-13T11:20:12.464Z"
   },
   {
    "duration": 73,
    "start_time": "2022-12-13T11:35:04.976Z"
   },
   {
    "duration": 514,
    "start_time": "2022-12-13T11:35:17.023Z"
   },
   {
    "duration": 523,
    "start_time": "2022-12-13T11:35:40.185Z"
   },
   {
    "duration": 523,
    "start_time": "2022-12-13T11:35:49.301Z"
   },
   {
    "duration": 71,
    "start_time": "2022-12-13T11:54:53.580Z"
   },
   {
    "duration": 82,
    "start_time": "2022-12-13T11:55:15.668Z"
   },
   {
    "duration": 66,
    "start_time": "2022-12-13T11:56:14.868Z"
   },
   {
    "duration": 61,
    "start_time": "2022-12-13T11:56:31.951Z"
   },
   {
    "duration": 13,
    "start_time": "2022-12-13T12:45:50.762Z"
   },
   {
    "duration": 55,
    "start_time": "2022-12-13T12:49:01.419Z"
   },
   {
    "duration": 1408,
    "start_time": "2022-12-13T12:49:20.149Z"
   },
   {
    "duration": 31,
    "start_time": "2022-12-13T12:49:21.563Z"
   },
   {
    "duration": 13,
    "start_time": "2022-12-13T12:49:21.596Z"
   },
   {
    "duration": 36,
    "start_time": "2022-12-13T12:49:21.611Z"
   },
   {
    "duration": 10,
    "start_time": "2022-12-13T12:49:21.649Z"
   },
   {
    "duration": 9,
    "start_time": "2022-12-13T12:49:21.662Z"
   },
   {
    "duration": 8,
    "start_time": "2022-12-13T12:49:21.673Z"
   },
   {
    "duration": 5,
    "start_time": "2022-12-13T12:49:21.683Z"
   },
   {
    "duration": 5,
    "start_time": "2022-12-13T12:49:21.690Z"
   },
   {
    "duration": 75,
    "start_time": "2022-12-13T12:49:21.697Z"
   },
   {
    "duration": 138,
    "start_time": "2022-12-13T12:49:21.774Z"
   },
   {
    "duration": 567,
    "start_time": "2022-12-13T12:49:21.914Z"
   },
   {
    "duration": 277,
    "start_time": "2022-12-13T12:49:22.482Z"
   },
   {
    "duration": 11,
    "start_time": "2022-12-13T12:49:22.760Z"
   },
   {
    "duration": 2,
    "start_time": "2022-12-13T12:49:22.772Z"
   },
   {
    "duration": 68,
    "start_time": "2022-12-13T12:49:22.776Z"
   },
   {
    "duration": 4,
    "start_time": "2022-12-13T12:49:22.851Z"
   },
   {
    "duration": 10,
    "start_time": "2022-12-13T12:49:22.857Z"
   },
   {
    "duration": 4,
    "start_time": "2022-12-13T14:25:49.235Z"
   },
   {
    "duration": 3,
    "start_time": "2022-12-13T14:26:40.136Z"
   },
   {
    "duration": 1309,
    "start_time": "2022-12-13T14:26:59.496Z"
   },
   {
    "duration": 31,
    "start_time": "2022-12-13T14:27:00.807Z"
   },
   {
    "duration": 12,
    "start_time": "2022-12-13T14:27:00.840Z"
   },
   {
    "duration": 52,
    "start_time": "2022-12-13T14:27:00.853Z"
   },
   {
    "duration": 9,
    "start_time": "2022-12-13T14:27:00.907Z"
   },
   {
    "duration": 16,
    "start_time": "2022-12-13T14:27:00.917Z"
   },
   {
    "duration": 7,
    "start_time": "2022-12-13T14:27:00.935Z"
   },
   {
    "duration": 21,
    "start_time": "2022-12-13T14:27:00.944Z"
   },
   {
    "duration": 10,
    "start_time": "2022-12-13T14:27:00.967Z"
   },
   {
    "duration": 74,
    "start_time": "2022-12-13T14:27:00.979Z"
   },
   {
    "duration": 126,
    "start_time": "2022-12-13T14:27:01.054Z"
   },
   {
    "duration": 540,
    "start_time": "2022-12-13T14:27:01.181Z"
   },
   {
    "duration": 276,
    "start_time": "2022-12-13T14:27:01.723Z"
   },
   {
    "duration": 11,
    "start_time": "2022-12-13T14:27:02.001Z"
   },
   {
    "duration": 65,
    "start_time": "2022-12-13T14:27:02.014Z"
   },
   {
    "duration": 6,
    "start_time": "2022-12-13T14:27:02.081Z"
   }
  ],
  "kernelspec": {
   "display_name": "Python 3 (ipykernel)",
   "language": "python",
   "name": "python3"
  },
  "language_info": {
   "codemirror_mode": {
    "name": "ipython",
    "version": 3
   },
   "file_extension": ".py",
   "mimetype": "text/x-python",
   "name": "python",
   "nbconvert_exporter": "python",
   "pygments_lexer": "ipython3",
   "version": "3.9.16"
  },
  "toc": {
   "base_numbering": 1,
   "nav_menu": {},
   "number_sections": true,
   "sideBar": true,
   "skip_h1_title": true,
   "title_cell": "Table of Contents",
   "title_sidebar": "Contents",
   "toc_cell": false,
   "toc_position": {},
   "toc_section_display": true,
   "toc_window_display": false
  }
 },
 "nbformat": 4,
 "nbformat_minor": 2
}
