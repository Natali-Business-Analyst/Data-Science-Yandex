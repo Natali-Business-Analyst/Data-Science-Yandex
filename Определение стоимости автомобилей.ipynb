{
 "cells": [
  {
   "cell_type": "markdown",
   "metadata": {},
   "source": [
    "# Определение стоимости автомобилей"
   ]
  },
  {
   "cell_type": "markdown",
   "metadata": {},
   "source": [
    "Сервис по продаже автомобилей с пробегом «Не бит, не крашен» разрабатывает приложение для привлечения новых клиентов. В нём можно быстро узнать рыночную стоимость своего автомобиля. В вашем распоряжении исторические данные: технические характеристики, комплектации и цены автомобилей. Вам нужно построить модель для определения стоимости. \n",
    "\n",
    "Заказчику важны:\n",
    "\n",
    "- качество предсказания;\n",
    "- скорость предсказания;\n",
    "- время обучения."
   ]
  },
  {
   "cell_type": "markdown",
   "metadata": {},
   "source": [
    "## Подготовка данных"
   ]
  },
  {
   "cell_type": "markdown",
   "metadata": {},
   "source": [
    "### Загрузка данных"
   ]
  },
  {
   "cell_type": "code",
   "execution_count": 1,
   "metadata": {},
   "outputs": [],
   "source": [
    "import numpy as np\n",
    "import pandas as pd\n",
    "\n",
    "from catboost import CatBoostRegressor\n",
    "from lightgbm import LGBMRegressor\n",
    "from sklearn.model_selection import train_test_split\n",
    "from sklearn.linear_model import LinearRegression\n",
    "from sklearn.metrics import mean_squared_error\n",
    "from sklearn.ensemble import RandomForestRegressor"
   ]
  },
  {
   "cell_type": "code",
   "execution_count": 2,
   "metadata": {},
   "outputs": [],
   "source": [
    "data = pd.read_csv('/datasets/autos.csv')"
   ]
  },
  {
   "cell_type": "markdown",
   "metadata": {},
   "source": [
    "### Проверка данных"
   ]
  },
  {
   "cell_type": "code",
   "execution_count": 3,
   "metadata": {},
   "outputs": [
    {
     "data": {
      "text/html": [
       "<div>\n",
       "<style scoped>\n",
       "    .dataframe tbody tr th:only-of-type {\n",
       "        vertical-align: middle;\n",
       "    }\n",
       "\n",
       "    .dataframe tbody tr th {\n",
       "        vertical-align: top;\n",
       "    }\n",
       "\n",
       "    .dataframe thead th {\n",
       "        text-align: right;\n",
       "    }\n",
       "</style>\n",
       "<table border=\"1\" class=\"dataframe\">\n",
       "  <thead>\n",
       "    <tr style=\"text-align: right;\">\n",
       "      <th></th>\n",
       "      <th>DateCrawled</th>\n",
       "      <th>Price</th>\n",
       "      <th>VehicleType</th>\n",
       "      <th>RegistrationYear</th>\n",
       "      <th>Gearbox</th>\n",
       "      <th>Power</th>\n",
       "      <th>Model</th>\n",
       "      <th>Kilometer</th>\n",
       "      <th>RegistrationMonth</th>\n",
       "      <th>FuelType</th>\n",
       "      <th>Brand</th>\n",
       "      <th>Repaired</th>\n",
       "      <th>DateCreated</th>\n",
       "      <th>NumberOfPictures</th>\n",
       "      <th>PostalCode</th>\n",
       "      <th>LastSeen</th>\n",
       "    </tr>\n",
       "  </thead>\n",
       "  <tbody>\n",
       "    <tr>\n",
       "      <th>0</th>\n",
       "      <td>2016-03-24 11:52:17</td>\n",
       "      <td>480</td>\n",
       "      <td>NaN</td>\n",
       "      <td>1993</td>\n",
       "      <td>manual</td>\n",
       "      <td>0</td>\n",
       "      <td>golf</td>\n",
       "      <td>150000</td>\n",
       "      <td>0</td>\n",
       "      <td>petrol</td>\n",
       "      <td>volkswagen</td>\n",
       "      <td>NaN</td>\n",
       "      <td>2016-03-24 00:00:00</td>\n",
       "      <td>0</td>\n",
       "      <td>70435</td>\n",
       "      <td>2016-04-07 03:16:57</td>\n",
       "    </tr>\n",
       "    <tr>\n",
       "      <th>1</th>\n",
       "      <td>2016-03-24 10:58:45</td>\n",
       "      <td>18300</td>\n",
       "      <td>coupe</td>\n",
       "      <td>2011</td>\n",
       "      <td>manual</td>\n",
       "      <td>190</td>\n",
       "      <td>NaN</td>\n",
       "      <td>125000</td>\n",
       "      <td>5</td>\n",
       "      <td>gasoline</td>\n",
       "      <td>audi</td>\n",
       "      <td>yes</td>\n",
       "      <td>2016-03-24 00:00:00</td>\n",
       "      <td>0</td>\n",
       "      <td>66954</td>\n",
       "      <td>2016-04-07 01:46:50</td>\n",
       "    </tr>\n",
       "    <tr>\n",
       "      <th>2</th>\n",
       "      <td>2016-03-14 12:52:21</td>\n",
       "      <td>9800</td>\n",
       "      <td>suv</td>\n",
       "      <td>2004</td>\n",
       "      <td>auto</td>\n",
       "      <td>163</td>\n",
       "      <td>grand</td>\n",
       "      <td>125000</td>\n",
       "      <td>8</td>\n",
       "      <td>gasoline</td>\n",
       "      <td>jeep</td>\n",
       "      <td>NaN</td>\n",
       "      <td>2016-03-14 00:00:00</td>\n",
       "      <td>0</td>\n",
       "      <td>90480</td>\n",
       "      <td>2016-04-05 12:47:46</td>\n",
       "    </tr>\n",
       "    <tr>\n",
       "      <th>3</th>\n",
       "      <td>2016-03-17 16:54:04</td>\n",
       "      <td>1500</td>\n",
       "      <td>small</td>\n",
       "      <td>2001</td>\n",
       "      <td>manual</td>\n",
       "      <td>75</td>\n",
       "      <td>golf</td>\n",
       "      <td>150000</td>\n",
       "      <td>6</td>\n",
       "      <td>petrol</td>\n",
       "      <td>volkswagen</td>\n",
       "      <td>no</td>\n",
       "      <td>2016-03-17 00:00:00</td>\n",
       "      <td>0</td>\n",
       "      <td>91074</td>\n",
       "      <td>2016-03-17 17:40:17</td>\n",
       "    </tr>\n",
       "    <tr>\n",
       "      <th>4</th>\n",
       "      <td>2016-03-31 17:25:20</td>\n",
       "      <td>3600</td>\n",
       "      <td>small</td>\n",
       "      <td>2008</td>\n",
       "      <td>manual</td>\n",
       "      <td>69</td>\n",
       "      <td>fabia</td>\n",
       "      <td>90000</td>\n",
       "      <td>7</td>\n",
       "      <td>gasoline</td>\n",
       "      <td>skoda</td>\n",
       "      <td>no</td>\n",
       "      <td>2016-03-31 00:00:00</td>\n",
       "      <td>0</td>\n",
       "      <td>60437</td>\n",
       "      <td>2016-04-06 10:17:21</td>\n",
       "    </tr>\n",
       "    <tr>\n",
       "      <th>5</th>\n",
       "      <td>2016-04-04 17:36:23</td>\n",
       "      <td>650</td>\n",
       "      <td>sedan</td>\n",
       "      <td>1995</td>\n",
       "      <td>manual</td>\n",
       "      <td>102</td>\n",
       "      <td>3er</td>\n",
       "      <td>150000</td>\n",
       "      <td>10</td>\n",
       "      <td>petrol</td>\n",
       "      <td>bmw</td>\n",
       "      <td>yes</td>\n",
       "      <td>2016-04-04 00:00:00</td>\n",
       "      <td>0</td>\n",
       "      <td>33775</td>\n",
       "      <td>2016-04-06 19:17:07</td>\n",
       "    </tr>\n",
       "    <tr>\n",
       "      <th>6</th>\n",
       "      <td>2016-04-01 20:48:51</td>\n",
       "      <td>2200</td>\n",
       "      <td>convertible</td>\n",
       "      <td>2004</td>\n",
       "      <td>manual</td>\n",
       "      <td>109</td>\n",
       "      <td>2_reihe</td>\n",
       "      <td>150000</td>\n",
       "      <td>8</td>\n",
       "      <td>petrol</td>\n",
       "      <td>peugeot</td>\n",
       "      <td>no</td>\n",
       "      <td>2016-04-01 00:00:00</td>\n",
       "      <td>0</td>\n",
       "      <td>67112</td>\n",
       "      <td>2016-04-05 18:18:39</td>\n",
       "    </tr>\n",
       "    <tr>\n",
       "      <th>7</th>\n",
       "      <td>2016-03-21 18:54:38</td>\n",
       "      <td>0</td>\n",
       "      <td>sedan</td>\n",
       "      <td>1980</td>\n",
       "      <td>manual</td>\n",
       "      <td>50</td>\n",
       "      <td>other</td>\n",
       "      <td>40000</td>\n",
       "      <td>7</td>\n",
       "      <td>petrol</td>\n",
       "      <td>volkswagen</td>\n",
       "      <td>no</td>\n",
       "      <td>2016-03-21 00:00:00</td>\n",
       "      <td>0</td>\n",
       "      <td>19348</td>\n",
       "      <td>2016-03-25 16:47:58</td>\n",
       "    </tr>\n",
       "    <tr>\n",
       "      <th>8</th>\n",
       "      <td>2016-04-04 23:42:13</td>\n",
       "      <td>14500</td>\n",
       "      <td>bus</td>\n",
       "      <td>2014</td>\n",
       "      <td>manual</td>\n",
       "      <td>125</td>\n",
       "      <td>c_max</td>\n",
       "      <td>30000</td>\n",
       "      <td>8</td>\n",
       "      <td>petrol</td>\n",
       "      <td>ford</td>\n",
       "      <td>NaN</td>\n",
       "      <td>2016-04-04 00:00:00</td>\n",
       "      <td>0</td>\n",
       "      <td>94505</td>\n",
       "      <td>2016-04-04 23:42:13</td>\n",
       "    </tr>\n",
       "    <tr>\n",
       "      <th>9</th>\n",
       "      <td>2016-03-17 10:53:50</td>\n",
       "      <td>999</td>\n",
       "      <td>small</td>\n",
       "      <td>1998</td>\n",
       "      <td>manual</td>\n",
       "      <td>101</td>\n",
       "      <td>golf</td>\n",
       "      <td>150000</td>\n",
       "      <td>0</td>\n",
       "      <td>NaN</td>\n",
       "      <td>volkswagen</td>\n",
       "      <td>NaN</td>\n",
       "      <td>2016-03-17 00:00:00</td>\n",
       "      <td>0</td>\n",
       "      <td>27472</td>\n",
       "      <td>2016-03-31 17:17:06</td>\n",
       "    </tr>\n",
       "  </tbody>\n",
       "</table>\n",
       "</div>"
      ],
      "text/plain": [
       "           DateCrawled  Price  VehicleType  RegistrationYear Gearbox  Power  \\\n",
       "0  2016-03-24 11:52:17    480          NaN              1993  manual      0   \n",
       "1  2016-03-24 10:58:45  18300        coupe              2011  manual    190   \n",
       "2  2016-03-14 12:52:21   9800          suv              2004    auto    163   \n",
       "3  2016-03-17 16:54:04   1500        small              2001  manual     75   \n",
       "4  2016-03-31 17:25:20   3600        small              2008  manual     69   \n",
       "5  2016-04-04 17:36:23    650        sedan              1995  manual    102   \n",
       "6  2016-04-01 20:48:51   2200  convertible              2004  manual    109   \n",
       "7  2016-03-21 18:54:38      0        sedan              1980  manual     50   \n",
       "8  2016-04-04 23:42:13  14500          bus              2014  manual    125   \n",
       "9  2016-03-17 10:53:50    999        small              1998  manual    101   \n",
       "\n",
       "     Model  Kilometer  RegistrationMonth  FuelType       Brand Repaired  \\\n",
       "0     golf     150000                  0    petrol  volkswagen      NaN   \n",
       "1      NaN     125000                  5  gasoline        audi      yes   \n",
       "2    grand     125000                  8  gasoline        jeep      NaN   \n",
       "3     golf     150000                  6    petrol  volkswagen       no   \n",
       "4    fabia      90000                  7  gasoline       skoda       no   \n",
       "5      3er     150000                 10    petrol         bmw      yes   \n",
       "6  2_reihe     150000                  8    petrol     peugeot       no   \n",
       "7    other      40000                  7    petrol  volkswagen       no   \n",
       "8    c_max      30000                  8    petrol        ford      NaN   \n",
       "9     golf     150000                  0       NaN  volkswagen      NaN   \n",
       "\n",
       "           DateCreated  NumberOfPictures  PostalCode             LastSeen  \n",
       "0  2016-03-24 00:00:00                 0       70435  2016-04-07 03:16:57  \n",
       "1  2016-03-24 00:00:00                 0       66954  2016-04-07 01:46:50  \n",
       "2  2016-03-14 00:00:00                 0       90480  2016-04-05 12:47:46  \n",
       "3  2016-03-17 00:00:00                 0       91074  2016-03-17 17:40:17  \n",
       "4  2016-03-31 00:00:00                 0       60437  2016-04-06 10:17:21  \n",
       "5  2016-04-04 00:00:00                 0       33775  2016-04-06 19:17:07  \n",
       "6  2016-04-01 00:00:00                 0       67112  2016-04-05 18:18:39  \n",
       "7  2016-03-21 00:00:00                 0       19348  2016-03-25 16:47:58  \n",
       "8  2016-04-04 00:00:00                 0       94505  2016-04-04 23:42:13  \n",
       "9  2016-03-17 00:00:00                 0       27472  2016-03-31 17:17:06  "
      ]
     },
     "execution_count": 3,
     "metadata": {},
     "output_type": "execute_result"
    }
   ],
   "source": [
    "data.head(10)"
   ]
  },
  {
   "cell_type": "code",
   "execution_count": 4,
   "metadata": {},
   "outputs": [
    {
     "name": "stdout",
     "output_type": "stream",
     "text": [
      "<class 'pandas.core.frame.DataFrame'>\n",
      "RangeIndex: 354369 entries, 0 to 354368\n",
      "Data columns (total 16 columns):\n",
      " #   Column             Non-Null Count   Dtype \n",
      "---  ------             --------------   ----- \n",
      " 0   DateCrawled        354369 non-null  object\n",
      " 1   Price              354369 non-null  int64 \n",
      " 2   VehicleType        316879 non-null  object\n",
      " 3   RegistrationYear   354369 non-null  int64 \n",
      " 4   Gearbox            334536 non-null  object\n",
      " 5   Power              354369 non-null  int64 \n",
      " 6   Model              334664 non-null  object\n",
      " 7   Kilometer          354369 non-null  int64 \n",
      " 8   RegistrationMonth  354369 non-null  int64 \n",
      " 9   FuelType           321474 non-null  object\n",
      " 10  Brand              354369 non-null  object\n",
      " 11  Repaired           283215 non-null  object\n",
      " 12  DateCreated        354369 non-null  object\n",
      " 13  NumberOfPictures   354369 non-null  int64 \n",
      " 14  PostalCode         354369 non-null  int64 \n",
      " 15  LastSeen           354369 non-null  object\n",
      "dtypes: int64(7), object(9)\n",
      "memory usage: 43.3+ MB\n"
     ]
    }
   ],
   "source": [
    "data.info()"
   ]
  },
  {
   "cell_type": "code",
   "execution_count": 5,
   "metadata": {},
   "outputs": [
    {
     "data": {
      "text/html": [
       "<div>\n",
       "<style scoped>\n",
       "    .dataframe tbody tr th:only-of-type {\n",
       "        vertical-align: middle;\n",
       "    }\n",
       "\n",
       "    .dataframe tbody tr th {\n",
       "        vertical-align: top;\n",
       "    }\n",
       "\n",
       "    .dataframe thead th {\n",
       "        text-align: right;\n",
       "    }\n",
       "</style>\n",
       "<table border=\"1\" class=\"dataframe\">\n",
       "  <thead>\n",
       "    <tr style=\"text-align: right;\">\n",
       "      <th></th>\n",
       "      <th>Price</th>\n",
       "      <th>RegistrationYear</th>\n",
       "      <th>Power</th>\n",
       "      <th>Kilometer</th>\n",
       "      <th>RegistrationMonth</th>\n",
       "      <th>NumberOfPictures</th>\n",
       "      <th>PostalCode</th>\n",
       "    </tr>\n",
       "  </thead>\n",
       "  <tbody>\n",
       "    <tr>\n",
       "      <th>count</th>\n",
       "      <td>354369.000000</td>\n",
       "      <td>354369.000000</td>\n",
       "      <td>354369.000000</td>\n",
       "      <td>354369.000000</td>\n",
       "      <td>354369.000000</td>\n",
       "      <td>354369.0</td>\n",
       "      <td>354369.000000</td>\n",
       "    </tr>\n",
       "    <tr>\n",
       "      <th>mean</th>\n",
       "      <td>4416.656776</td>\n",
       "      <td>2004.234448</td>\n",
       "      <td>110.094337</td>\n",
       "      <td>128211.172535</td>\n",
       "      <td>5.714645</td>\n",
       "      <td>0.0</td>\n",
       "      <td>50508.689087</td>\n",
       "    </tr>\n",
       "    <tr>\n",
       "      <th>std</th>\n",
       "      <td>4514.158514</td>\n",
       "      <td>90.227958</td>\n",
       "      <td>189.850405</td>\n",
       "      <td>37905.341530</td>\n",
       "      <td>3.726421</td>\n",
       "      <td>0.0</td>\n",
       "      <td>25783.096248</td>\n",
       "    </tr>\n",
       "    <tr>\n",
       "      <th>min</th>\n",
       "      <td>0.000000</td>\n",
       "      <td>1000.000000</td>\n",
       "      <td>0.000000</td>\n",
       "      <td>5000.000000</td>\n",
       "      <td>0.000000</td>\n",
       "      <td>0.0</td>\n",
       "      <td>1067.000000</td>\n",
       "    </tr>\n",
       "    <tr>\n",
       "      <th>25%</th>\n",
       "      <td>1050.000000</td>\n",
       "      <td>1999.000000</td>\n",
       "      <td>69.000000</td>\n",
       "      <td>125000.000000</td>\n",
       "      <td>3.000000</td>\n",
       "      <td>0.0</td>\n",
       "      <td>30165.000000</td>\n",
       "    </tr>\n",
       "    <tr>\n",
       "      <th>50%</th>\n",
       "      <td>2700.000000</td>\n",
       "      <td>2003.000000</td>\n",
       "      <td>105.000000</td>\n",
       "      <td>150000.000000</td>\n",
       "      <td>6.000000</td>\n",
       "      <td>0.0</td>\n",
       "      <td>49413.000000</td>\n",
       "    </tr>\n",
       "    <tr>\n",
       "      <th>75%</th>\n",
       "      <td>6400.000000</td>\n",
       "      <td>2008.000000</td>\n",
       "      <td>143.000000</td>\n",
       "      <td>150000.000000</td>\n",
       "      <td>9.000000</td>\n",
       "      <td>0.0</td>\n",
       "      <td>71083.000000</td>\n",
       "    </tr>\n",
       "    <tr>\n",
       "      <th>max</th>\n",
       "      <td>20000.000000</td>\n",
       "      <td>9999.000000</td>\n",
       "      <td>20000.000000</td>\n",
       "      <td>150000.000000</td>\n",
       "      <td>12.000000</td>\n",
       "      <td>0.0</td>\n",
       "      <td>99998.000000</td>\n",
       "    </tr>\n",
       "  </tbody>\n",
       "</table>\n",
       "</div>"
      ],
      "text/plain": [
       "               Price  RegistrationYear          Power      Kilometer  \\\n",
       "count  354369.000000     354369.000000  354369.000000  354369.000000   \n",
       "mean     4416.656776       2004.234448     110.094337  128211.172535   \n",
       "std      4514.158514         90.227958     189.850405   37905.341530   \n",
       "min         0.000000       1000.000000       0.000000    5000.000000   \n",
       "25%      1050.000000       1999.000000      69.000000  125000.000000   \n",
       "50%      2700.000000       2003.000000     105.000000  150000.000000   \n",
       "75%      6400.000000       2008.000000     143.000000  150000.000000   \n",
       "max     20000.000000       9999.000000   20000.000000  150000.000000   \n",
       "\n",
       "       RegistrationMonth  NumberOfPictures     PostalCode  \n",
       "count      354369.000000          354369.0  354369.000000  \n",
       "mean            5.714645               0.0   50508.689087  \n",
       "std             3.726421               0.0   25783.096248  \n",
       "min             0.000000               0.0    1067.000000  \n",
       "25%             3.000000               0.0   30165.000000  \n",
       "50%             6.000000               0.0   49413.000000  \n",
       "75%             9.000000               0.0   71083.000000  \n",
       "max            12.000000               0.0   99998.000000  "
      ]
     },
     "execution_count": 5,
     "metadata": {},
     "output_type": "execute_result"
    }
   ],
   "source": [
    "data.describe()"
   ]
  },
  {
   "cell_type": "markdown",
   "metadata": {},
   "source": [
    "#### Пропуски"
   ]
  },
  {
   "cell_type": "code",
   "execution_count": 6,
   "metadata": {},
   "outputs": [
    {
     "name": "stderr",
     "output_type": "stream",
     "text": [
      "/tmp/ipykernel_180/3291007425.py:3: FutureWarning: The default value of regex will change from True to False in a future version.\n",
      "  data.columns = data.columns.str.replace(r\"([A-Z])\", r\" \\1\").str.lower().str.replace(' ', '_').str[1:]\n"
     ]
    }
   ],
   "source": [
    "# приведем к нижнему регистру столбцы\n",
    "\n",
    "data.columns = data.columns.str.replace(r\"([A-Z])\", r\" \\1\").str.lower().str.replace(' ', '_').str[1:]"
   ]
  },
  {
   "cell_type": "code",
   "execution_count": 7,
   "metadata": {},
   "outputs": [
    {
     "name": "stdout",
     "output_type": "stream",
     "text": [
      "<class 'pandas.core.frame.DataFrame'>\n",
      "RangeIndex: 354369 entries, 0 to 354368\n",
      "Data columns (total 16 columns):\n",
      " #   Column              Non-Null Count   Dtype \n",
      "---  ------              --------------   ----- \n",
      " 0   date_crawled        354369 non-null  object\n",
      " 1   price               354369 non-null  int64 \n",
      " 2   vehicle_type        316879 non-null  object\n",
      " 3   registration_year   354369 non-null  int64 \n",
      " 4   gearbox             334536 non-null  object\n",
      " 5   power               354369 non-null  int64 \n",
      " 6   model               334664 non-null  object\n",
      " 7   kilometer           354369 non-null  int64 \n",
      " 8   registration_month  354369 non-null  int64 \n",
      " 9   fuel_type           321474 non-null  object\n",
      " 10  brand               354369 non-null  object\n",
      " 11  repaired            283215 non-null  object\n",
      " 12  date_created        354369 non-null  object\n",
      " 13  number_of_pictures  354369 non-null  int64 \n",
      " 14  postal_code         354369 non-null  int64 \n",
      " 15  last_seen           354369 non-null  object\n",
      "dtypes: int64(7), object(9)\n",
      "memory usage: 43.3+ MB\n"
     ]
    }
   ],
   "source": [
    "data.info()"
   ]
  },
  {
   "cell_type": "markdown",
   "metadata": {},
   "source": [
    "##### Поиск"
   ]
  },
  {
   "cell_type": "code",
   "execution_count": 8,
   "metadata": {},
   "outputs": [],
   "source": [
    "def get_pass_data_frame(data):\n",
    "    try:\n",
    "        return (\n",
    "            data.isnull().sum().sort_values()\n",
    "            .to_frame()\n",
    "            .rename(columns = {0: 'space'})\n",
    "            .query('space > 0')\n",
    "        )\n",
    "        \n",
    "    except:\n",
    "        print('пропусков не осталось :) ')"
   ]
  },
  {
   "cell_type": "code",
   "execution_count": 9,
   "metadata": {},
   "outputs": [],
   "source": [
    "pass_data_frame = get_pass_data_frame(data)"
   ]
  },
  {
   "cell_type": "code",
   "execution_count": 10,
   "metadata": {},
   "outputs": [
    {
     "data": {
      "image/png": "[encoded data removed]",
      "text/plain": [
       "<Figure size 1368x432 with 1 Axes>"
      ]
     },
     "metadata": {
      "needs_background": "light"
     },
     "output_type": "display_data"
    }
   ],
   "source": [
    "pass_data_frame.plot(\n",
    "    kind='barh', figsize=(19, 6), legend=False, fontsize=16).set_title(\n",
    "    'Кол-во пропусков' + \"\\n\", fontsize=22, color='Red');"
   ]
  },
  {
   "cell_type": "markdown",
   "metadata": {},
   "source": [
    "**Вывод по графику**\n",
    "\n",
    "- Самое большое кол-во пропусков в Repaired (была машина в ремонте или нет), далее в VehicleType (тип кузова), на 3м месте FuelType (тип топлива), после чего Gearbox (тип коробки передач) и завешает Model (модель авто)\n",
    "\n",
    "- Всего данных 354369, в столбцах, представленных на графике, 5-20% пропусков."
   ]
  },
  {
   "cell_type": "markdown",
   "metadata": {},
   "source": [
    "##### Заполнение и удаление"
   ]
  },
  {
   "cell_type": "code",
   "execution_count": 11,
   "metadata": {},
   "outputs": [
    {
     "data": {
      "text/plain": [
       "manual    268251\n",
       "auto       66285\n",
       "Name: gearbox, dtype: int64"
      ]
     },
     "execution_count": 11,
     "metadata": {},
     "output_type": "execute_result"
    }
   ],
   "source": [
    "# check\n",
    "\n",
    "data['gearbox'].value_counts()"
   ]
  },
  {
   "cell_type": "code",
   "execution_count": 12,
   "metadata": {},
   "outputs": [
    {
     "data": {
      "text/plain": [
       "golf                  29232\n",
       "other                 24421\n",
       "3er                   19761\n",
       "polo                  13066\n",
       "corsa                 12570\n",
       "                      ...  \n",
       "serie_2                   8\n",
       "serie_3                   4\n",
       "rangerover                4\n",
       "range_rover_evoque        2\n",
       "serie_1                   2\n",
       "Name: model, Length: 250, dtype: int64"
      ]
     },
     "execution_count": 12,
     "metadata": {},
     "output_type": "execute_result"
    }
   ],
   "source": [
    "# check\n",
    "\n",
    "data['model'].value_counts()"
   ]
  },
  {
   "cell_type": "code",
   "execution_count": 13,
   "metadata": {},
   "outputs": [
    {
     "data": {
      "text/plain": [
       "petrol      216352\n",
       "gasoline     98720\n",
       "lpg           5310\n",
       "cng            565\n",
       "hybrid         233\n",
       "other          204\n",
       "electric        90\n",
       "Name: fuel_type, dtype: int64"
      ]
     },
     "execution_count": 13,
     "metadata": {},
     "output_type": "execute_result"
    }
   ],
   "source": [
    "# check\n",
    "\n",
    "data['fuel_type'].value_counts()"
   ]
  },
  {
   "cell_type": "code",
   "execution_count": 14,
   "metadata": {},
   "outputs": [
    {
     "data": {
      "text/plain": [
       "no     247161\n",
       "yes     36054\n",
       "Name: repaired, dtype: int64"
      ]
     },
     "execution_count": 14,
     "metadata": {},
     "output_type": "execute_result"
    }
   ],
   "source": [
    "# check\n",
    "\n",
    "data['repaired'].value_counts()"
   ]
  },
  {
   "cell_type": "code",
   "execution_count": 15,
   "metadata": {},
   "outputs": [],
   "source": [
    "# заполняем пропуски в gearbox, model, fuel_type, repaired\n",
    "\n",
    "data.fillna({'gearbox':'manual', 'model':'other', 'fuel_type': 'other', 'repaired': 'unknown'}, inplace=True)"
   ]
  },
  {
   "cell_type": "code",
   "execution_count": 16,
   "metadata": {},
   "outputs": [
    {
     "data": {
      "text/plain": [
       "sedan          91457\n",
       "small          79831\n",
       "wagon          65166\n",
       "bus            28775\n",
       "convertible    20203\n",
       "coupe          16163\n",
       "suv            11996\n",
       "other           3288\n",
       "Name: vehicle_type, dtype: int64"
      ]
     },
     "execution_count": 16,
     "metadata": {},
     "output_type": "execute_result"
    }
   ],
   "source": [
    "# разберемся с vehicle_type\n",
    "\n",
    "data['vehicle_type'].value_counts()"
   ]
  },
  {
   "cell_type": "code",
   "execution_count": 17,
   "metadata": {},
   "outputs": [],
   "source": [
    "data['vehicle_type'] = data['vehicle_type'].fillna(data.groupby('model')['vehicle_type'].transform(\n",
    "    lambda x:x.value_counts().idxmax() if x.count()!=0 else \"unknown\"))"
   ]
  },
  {
   "cell_type": "code",
   "execution_count": 18,
   "metadata": {},
   "outputs": [
    {
     "data": {
      "text/plain": [
       "0"
      ]
     },
     "execution_count": 18,
     "metadata": {},
     "output_type": "execute_result"
    }
   ],
   "source": [
    "data[\"vehicle_type\"].isnull().sum()"
   ]
  },
  {
   "cell_type": "code",
   "execution_count": 19,
   "metadata": {},
   "outputs": [
    {
     "data": {
      "text/plain": [
       "0               sedan\n",
       "1               coupe\n",
       "2                 suv\n",
       "3               small\n",
       "4               small\n",
       "             ...     \n",
       "354364          sedan\n",
       "354365          sedan\n",
       "354366    convertible\n",
       "354367            bus\n",
       "354368          wagon\n",
       "Name: vehicle_type, Length: 354369, dtype: object"
      ]
     },
     "execution_count": 19,
     "metadata": {},
     "output_type": "execute_result"
    }
   ],
   "source": [
    "data[\"vehicle_type\"]"
   ]
  },
  {
   "cell_type": "code",
   "execution_count": 20,
   "metadata": {},
   "outputs": [
    {
     "name": "stdout",
     "output_type": "stream",
     "text": [
      "<class 'pandas.core.frame.DataFrame'>\n",
      "RangeIndex: 354369 entries, 0 to 354368\n",
      "Data columns (total 16 columns):\n",
      " #   Column              Non-Null Count   Dtype \n",
      "---  ------              --------------   ----- \n",
      " 0   date_crawled        354369 non-null  object\n",
      " 1   price               354369 non-null  int64 \n",
      " 2   vehicle_type        354369 non-null  object\n",
      " 3   registration_year   354369 non-null  int64 \n",
      " 4   gearbox             354369 non-null  object\n",
      " 5   power               354369 non-null  int64 \n",
      " 6   model               354369 non-null  object\n",
      " 7   kilometer           354369 non-null  int64 \n",
      " 8   registration_month  354369 non-null  int64 \n",
      " 9   fuel_type           354369 non-null  object\n",
      " 10  brand               354369 non-null  object\n",
      " 11  repaired            354369 non-null  object\n",
      " 12  date_created        354369 non-null  object\n",
      " 13  number_of_pictures  354369 non-null  int64 \n",
      " 14  postal_code         354369 non-null  int64 \n",
      " 15  last_seen           354369 non-null  object\n",
      "dtypes: int64(7), object(9)\n",
      "memory usage: 43.3+ MB\n"
     ]
    }
   ],
   "source": [
    "data.info()"
   ]
  },
  {
   "cell_type": "markdown",
   "metadata": {},
   "source": [
    "Пропусков не осталось"
   ]
  },
  {
   "cell_type": "markdown",
   "metadata": {},
   "source": [
    "#### Аномалии"
   ]
  },
  {
   "cell_type": "code",
   "execution_count": 21,
   "metadata": {},
   "outputs": [],
   "source": [
    "# посмотрим квантили DateCrawled, чтобы ответить на вопрос)"
   ]
  },
  {
   "cell_type": "code",
   "execution_count": 22,
   "metadata": {},
   "outputs": [],
   "source": [
    "data['date_crawled'] = pd.to_datetime(data['date_crawled'])"
   ]
  },
  {
   "cell_type": "code",
   "execution_count": 23,
   "metadata": {},
   "outputs": [
    {
     "data": {
      "text/plain": [
       "0   2016-03-24 11:52:17\n",
       "1   2016-03-24 10:58:45\n",
       "2   2016-03-14 12:52:21\n",
       "3   2016-03-17 16:54:04\n",
       "4   2016-03-31 17:25:20\n",
       "Name: date_crawled, dtype: datetime64[ns]"
      ]
     },
     "execution_count": 23,
     "metadata": {},
     "output_type": "execute_result"
    }
   ],
   "source": [
    "data['date_crawled'].head()"
   ]
  },
  {
   "cell_type": "code",
   "execution_count": 24,
   "metadata": {},
   "outputs": [
    {
     "data": {
      "text/plain": [
       "0.25   2016-03-13 11:52:33.000\n",
       "0.50   2016-03-21 17:50:55.000\n",
       "0.99   2016-04-05 11:38:12.320\n",
       "Name: date_crawled, dtype: datetime64[ns]"
      ]
     },
     "execution_count": 24,
     "metadata": {},
     "output_type": "execute_result"
    }
   ],
   "source": [
    "data['date_crawled'].astype('int64').quantile([.25,.5,.99]).astype('datetime64[ns]')"
   ]
  },
  {
   "cell_type": "code",
   "execution_count": 25,
   "metadata": {},
   "outputs": [],
   "source": [
    "# отфильтруем данные, чтобы убрать выбросы\n",
    "\n",
    "data = data.query('50 < price')\n",
    "data = data.query('1930 < registration_year < 2017')\n",
    "data = data.query('5 < power < 700')"
   ]
  },
  {
   "cell_type": "code",
   "execution_count": 26,
   "metadata": {},
   "outputs": [
    {
     "data": {
      "text/html": [
       "<div>\n",
       "<style scoped>\n",
       "    .dataframe tbody tr th:only-of-type {\n",
       "        vertical-align: middle;\n",
       "    }\n",
       "\n",
       "    .dataframe tbody tr th {\n",
       "        vertical-align: top;\n",
       "    }\n",
       "\n",
       "    .dataframe thead th {\n",
       "        text-align: right;\n",
       "    }\n",
       "</style>\n",
       "<table border=\"1\" class=\"dataframe\">\n",
       "  <thead>\n",
       "    <tr style=\"text-align: right;\">\n",
       "      <th></th>\n",
       "      <th>price</th>\n",
       "      <th>registration_year</th>\n",
       "      <th>power</th>\n",
       "      <th>kilometer</th>\n",
       "      <th>registration_month</th>\n",
       "      <th>number_of_pictures</th>\n",
       "      <th>postal_code</th>\n",
       "    </tr>\n",
       "  </thead>\n",
       "  <tbody>\n",
       "    <tr>\n",
       "      <th>count</th>\n",
       "      <td>305720.000000</td>\n",
       "      <td>305720.000000</td>\n",
       "      <td>305720.000000</td>\n",
       "      <td>305720.000000</td>\n",
       "      <td>305720.000000</td>\n",
       "      <td>305720.0</td>\n",
       "      <td>305720.000000</td>\n",
       "    </tr>\n",
       "    <tr>\n",
       "      <th>mean</th>\n",
       "      <td>4827.069037</td>\n",
       "      <td>2003.314376</td>\n",
       "      <td>120.335222</td>\n",
       "      <td>128467.486589</td>\n",
       "      <td>5.968893</td>\n",
       "      <td>0.0</td>\n",
       "      <td>51161.210156</td>\n",
       "    </tr>\n",
       "    <tr>\n",
       "      <th>std</th>\n",
       "      <td>4587.008517</td>\n",
       "      <td>6.915190</td>\n",
       "      <td>53.930012</td>\n",
       "      <td>36647.130412</td>\n",
       "      <td>3.597549</td>\n",
       "      <td>0.0</td>\n",
       "      <td>25764.523124</td>\n",
       "    </tr>\n",
       "    <tr>\n",
       "      <th>min</th>\n",
       "      <td>55.000000</td>\n",
       "      <td>1931.000000</td>\n",
       "      <td>6.000000</td>\n",
       "      <td>5000.000000</td>\n",
       "      <td>0.000000</td>\n",
       "      <td>0.0</td>\n",
       "      <td>1067.000000</td>\n",
       "    </tr>\n",
       "    <tr>\n",
       "      <th>25%</th>\n",
       "      <td>1350.000000</td>\n",
       "      <td>1999.000000</td>\n",
       "      <td>75.000000</td>\n",
       "      <td>125000.000000</td>\n",
       "      <td>3.000000</td>\n",
       "      <td>0.0</td>\n",
       "      <td>30916.000000</td>\n",
       "    </tr>\n",
       "    <tr>\n",
       "      <th>50%</th>\n",
       "      <td>3150.000000</td>\n",
       "      <td>2003.000000</td>\n",
       "      <td>110.000000</td>\n",
       "      <td>150000.000000</td>\n",
       "      <td>6.000000</td>\n",
       "      <td>0.0</td>\n",
       "      <td>50170.000000</td>\n",
       "    </tr>\n",
       "    <tr>\n",
       "      <th>75%</th>\n",
       "      <td>6950.000000</td>\n",
       "      <td>2008.000000</td>\n",
       "      <td>150.000000</td>\n",
       "      <td>150000.000000</td>\n",
       "      <td>9.000000</td>\n",
       "      <td>0.0</td>\n",
       "      <td>71717.000000</td>\n",
       "    </tr>\n",
       "    <tr>\n",
       "      <th>max</th>\n",
       "      <td>20000.000000</td>\n",
       "      <td>2019.000000</td>\n",
       "      <td>696.000000</td>\n",
       "      <td>150000.000000</td>\n",
       "      <td>12.000000</td>\n",
       "      <td>0.0</td>\n",
       "      <td>99998.000000</td>\n",
       "    </tr>\n",
       "  </tbody>\n",
       "</table>\n",
       "</div>"
      ],
      "text/plain": [
       "               price  registration_year          power      kilometer  \\\n",
       "count  305720.000000      305720.000000  305720.000000  305720.000000   \n",
       "mean     4827.069037        2003.314376     120.335222  128467.486589   \n",
       "std      4587.008517           6.915190      53.930012   36647.130412   \n",
       "min        55.000000        1931.000000       6.000000    5000.000000   \n",
       "25%      1350.000000        1999.000000      75.000000  125000.000000   \n",
       "50%      3150.000000        2003.000000     110.000000  150000.000000   \n",
       "75%      6950.000000        2008.000000     150.000000  150000.000000   \n",
       "max     20000.000000        2019.000000     696.000000  150000.000000   \n",
       "\n",
       "       registration_month  number_of_pictures    postal_code  \n",
       "count       305720.000000            305720.0  305720.000000  \n",
       "mean             5.968893                 0.0   51161.210156  \n",
       "std              3.597549                 0.0   25764.523124  \n",
       "min              0.000000                 0.0    1067.000000  \n",
       "25%              3.000000                 0.0   30916.000000  \n",
       "50%              6.000000                 0.0   50170.000000  \n",
       "75%              9.000000                 0.0   71717.000000  \n",
       "max             12.000000                 0.0   99998.000000  "
      ]
     },
     "execution_count": 26,
     "metadata": {},
     "output_type": "execute_result"
    }
   ],
   "source": [
    "data.describe()"
   ]
  },
  {
   "cell_type": "code",
   "execution_count": 27,
   "metadata": {},
   "outputs": [
    {
     "name": "stdout",
     "output_type": "stream",
     "text": [
      "<class 'pandas.core.frame.DataFrame'>\n",
      "Int64Index: 305720 entries, 1 to 354368\n",
      "Data columns (total 16 columns):\n",
      " #   Column              Non-Null Count   Dtype         \n",
      "---  ------              --------------   -----         \n",
      " 0   date_crawled        305720 non-null  datetime64[ns]\n",
      " 1   price               305720 non-null  int64         \n",
      " 2   vehicle_type        305720 non-null  object        \n",
      " 3   registration_year   305720 non-null  int64         \n",
      " 4   gearbox             305720 non-null  object        \n",
      " 5   power               305720 non-null  int64         \n",
      " 6   model               305720 non-null  object        \n",
      " 7   kilometer           305720 non-null  int64         \n",
      " 8   registration_month  305720 non-null  int64         \n",
      " 9   fuel_type           305720 non-null  object        \n",
      " 10  brand               305720 non-null  object        \n",
      " 11  repaired            305720 non-null  object        \n",
      " 12  date_created        305720 non-null  object        \n",
      " 13  number_of_pictures  305720 non-null  int64         \n",
      " 14  postal_code         305720 non-null  int64         \n",
      " 15  last_seen           305720 non-null  object        \n",
      "dtypes: datetime64[ns](1), int64(7), object(8)\n",
      "memory usage: 39.7+ MB\n"
     ]
    }
   ],
   "source": [
    "data.info()"
   ]
  },
  {
   "cell_type": "markdown",
   "metadata": {},
   "source": [
    "Убрала редковстречающиеся данные и выбросы\n",
    "\n",
    "В итоге удалены 14% данных"
   ]
  },
  {
   "cell_type": "markdown",
   "metadata": {},
   "source": [
    "#### Неинформативные признаки"
   ]
  },
  {
   "cell_type": "markdown",
   "metadata": {},
   "source": [
    "Считаю эти признаки неинфомативными, так как они не имеют отноения к цене авто:\n",
    "\n",
    "- DateCreated — дата создания анкеты\n",
    "- NumberOfPictures — количество фотографий автомобиля\n",
    "- PostalCode — почтовый индекс владельца анкеты (пользователя)\n",
    "- LastSeen — дата последней активности пользователя\n",
    "- RegistrationMonth — месяц регистрации автомобиля\n",
    "- DateCrawled — дата скачивания анкеты из базы"
   ]
  },
  {
   "cell_type": "code",
   "execution_count": 28,
   "metadata": {},
   "outputs": [],
   "source": [
    "# удаляем их\n",
    "\n",
    "data = data.drop(\n",
    "    ['date_created', 'number_of_pictures', 'postal_code', 'last_seen', 'registration_month', 'date_crawled'], \n",
    "    axis=1)"
   ]
  },
  {
   "cell_type": "code",
   "execution_count": 29,
   "metadata": {},
   "outputs": [
    {
     "name": "stdout",
     "output_type": "stream",
     "text": [
      "<class 'pandas.core.frame.DataFrame'>\n",
      "Int64Index: 305720 entries, 1 to 354368\n",
      "Data columns (total 10 columns):\n",
      " #   Column             Non-Null Count   Dtype \n",
      "---  ------             --------------   ----- \n",
      " 0   price              305720 non-null  int64 \n",
      " 1   vehicle_type       305720 non-null  object\n",
      " 2   registration_year  305720 non-null  int64 \n",
      " 3   gearbox            305720 non-null  object\n",
      " 4   power              305720 non-null  int64 \n",
      " 5   model              305720 non-null  object\n",
      " 6   kilometer          305720 non-null  int64 \n",
      " 7   fuel_type          305720 non-null  object\n",
      " 8   brand              305720 non-null  object\n",
      " 9   repaired           305720 non-null  object\n",
      "dtypes: int64(4), object(6)\n",
      "memory usage: 25.7+ MB\n"
     ]
    }
   ],
   "source": [
    "data.info()"
   ]
  },
  {
   "cell_type": "markdown",
   "metadata": {},
   "source": [
    "### Выборки для обучения моделей"
   ]
  },
  {
   "cell_type": "code",
   "execution_count": 30,
   "metadata": {},
   "outputs": [],
   "source": [
    "# преобразуем категориальные признаки в численные\n",
    "\n",
    "data_ohe = pd.get_dummies(data, drop_first=True)"
   ]
  },
  {
   "cell_type": "code",
   "execution_count": 32,
   "metadata": {},
   "outputs": [],
   "source": [
    "# Делим на выборки\n",
    "\n",
    "features_train, features_valid, target_train, target_valid = train_test_split(\n",
    "    data_ohe.drop('price', axis=1), data_ohe.price, test_size=0.4, random_state=12345)\n",
    "\n",
    "features_valid, features_test, target_valid, target_test = train_test_split(\n",
    "    features_valid, target_valid, test_size=0.5, random_state=12345)"
   ]
  },
  {
   "cell_type": "code",
   "execution_count": 33,
   "metadata": {},
   "outputs": [
    {
     "data": {
      "text/html": [
       "<div>\n",
       "<style scoped>\n",
       "    .dataframe tbody tr th:only-of-type {\n",
       "        vertical-align: middle;\n",
       "    }\n",
       "\n",
       "    .dataframe tbody tr th {\n",
       "        vertical-align: top;\n",
       "    }\n",
       "\n",
       "    .dataframe thead th {\n",
       "        text-align: right;\n",
       "    }\n",
       "</style>\n",
       "<table border=\"1\" class=\"dataframe\">\n",
       "  <thead>\n",
       "    <tr style=\"text-align: right;\">\n",
       "      <th></th>\n",
       "      <th>registration_year</th>\n",
       "      <th>power</th>\n",
       "      <th>kilometer</th>\n",
       "      <th>vehicle_type_convertible</th>\n",
       "      <th>vehicle_type_coupe</th>\n",
       "      <th>vehicle_type_other</th>\n",
       "      <th>vehicle_type_sedan</th>\n",
       "      <th>vehicle_type_small</th>\n",
       "      <th>vehicle_type_suv</th>\n",
       "      <th>vehicle_type_wagon</th>\n",
       "      <th>...</th>\n",
       "      <th>brand_smart</th>\n",
       "      <th>brand_sonstige_autos</th>\n",
       "      <th>brand_subaru</th>\n",
       "      <th>brand_suzuki</th>\n",
       "      <th>brand_toyota</th>\n",
       "      <th>brand_trabant</th>\n",
       "      <th>brand_volkswagen</th>\n",
       "      <th>brand_volvo</th>\n",
       "      <th>repaired_unknown</th>\n",
       "      <th>repaired_yes</th>\n",
       "    </tr>\n",
       "  </thead>\n",
       "  <tbody>\n",
       "    <tr>\n",
       "      <th>168812</th>\n",
       "      <td>2014</td>\n",
       "      <td>99</td>\n",
       "      <td>20000</td>\n",
       "      <td>0</td>\n",
       "      <td>0</td>\n",
       "      <td>0</td>\n",
       "      <td>0</td>\n",
       "      <td>0</td>\n",
       "      <td>0</td>\n",
       "      <td>1</td>\n",
       "      <td>...</td>\n",
       "      <td>0</td>\n",
       "      <td>0</td>\n",
       "      <td>0</td>\n",
       "      <td>0</td>\n",
       "      <td>0</td>\n",
       "      <td>0</td>\n",
       "      <td>0</td>\n",
       "      <td>0</td>\n",
       "      <td>0</td>\n",
       "      <td>0</td>\n",
       "    </tr>\n",
       "    <tr>\n",
       "      <th>275462</th>\n",
       "      <td>1998</td>\n",
       "      <td>170</td>\n",
       "      <td>150000</td>\n",
       "      <td>0</td>\n",
       "      <td>1</td>\n",
       "      <td>0</td>\n",
       "      <td>0</td>\n",
       "      <td>0</td>\n",
       "      <td>0</td>\n",
       "      <td>0</td>\n",
       "      <td>...</td>\n",
       "      <td>0</td>\n",
       "      <td>0</td>\n",
       "      <td>0</td>\n",
       "      <td>0</td>\n",
       "      <td>0</td>\n",
       "      <td>0</td>\n",
       "      <td>0</td>\n",
       "      <td>0</td>\n",
       "      <td>1</td>\n",
       "      <td>0</td>\n",
       "    </tr>\n",
       "    <tr>\n",
       "      <th>258658</th>\n",
       "      <td>2006</td>\n",
       "      <td>116</td>\n",
       "      <td>150000</td>\n",
       "      <td>0</td>\n",
       "      <td>0</td>\n",
       "      <td>0</td>\n",
       "      <td>0</td>\n",
       "      <td>0</td>\n",
       "      <td>0</td>\n",
       "      <td>1</td>\n",
       "      <td>...</td>\n",
       "      <td>0</td>\n",
       "      <td>0</td>\n",
       "      <td>0</td>\n",
       "      <td>0</td>\n",
       "      <td>0</td>\n",
       "      <td>0</td>\n",
       "      <td>0</td>\n",
       "      <td>0</td>\n",
       "      <td>0</td>\n",
       "      <td>0</td>\n",
       "    </tr>\n",
       "    <tr>\n",
       "      <th>304720</th>\n",
       "      <td>2007</td>\n",
       "      <td>190</td>\n",
       "      <td>125000</td>\n",
       "      <td>0</td>\n",
       "      <td>0</td>\n",
       "      <td>0</td>\n",
       "      <td>0</td>\n",
       "      <td>0</td>\n",
       "      <td>0</td>\n",
       "      <td>1</td>\n",
       "      <td>...</td>\n",
       "      <td>0</td>\n",
       "      <td>0</td>\n",
       "      <td>0</td>\n",
       "      <td>0</td>\n",
       "      <td>0</td>\n",
       "      <td>0</td>\n",
       "      <td>0</td>\n",
       "      <td>0</td>\n",
       "      <td>0</td>\n",
       "      <td>0</td>\n",
       "    </tr>\n",
       "    <tr>\n",
       "      <th>302978</th>\n",
       "      <td>2006</td>\n",
       "      <td>200</td>\n",
       "      <td>150000</td>\n",
       "      <td>0</td>\n",
       "      <td>0</td>\n",
       "      <td>0</td>\n",
       "      <td>0</td>\n",
       "      <td>0</td>\n",
       "      <td>0</td>\n",
       "      <td>1</td>\n",
       "      <td>...</td>\n",
       "      <td>0</td>\n",
       "      <td>0</td>\n",
       "      <td>0</td>\n",
       "      <td>0</td>\n",
       "      <td>0</td>\n",
       "      <td>0</td>\n",
       "      <td>0</td>\n",
       "      <td>0</td>\n",
       "      <td>0</td>\n",
       "      <td>0</td>\n",
       "    </tr>\n",
       "    <tr>\n",
       "      <th>...</th>\n",
       "      <td>...</td>\n",
       "      <td>...</td>\n",
       "      <td>...</td>\n",
       "      <td>...</td>\n",
       "      <td>...</td>\n",
       "      <td>...</td>\n",
       "      <td>...</td>\n",
       "      <td>...</td>\n",
       "      <td>...</td>\n",
       "      <td>...</td>\n",
       "      <td>...</td>\n",
       "      <td>...</td>\n",
       "      <td>...</td>\n",
       "      <td>...</td>\n",
       "      <td>...</td>\n",
       "      <td>...</td>\n",
       "      <td>...</td>\n",
       "      <td>...</td>\n",
       "      <td>...</td>\n",
       "      <td>...</td>\n",
       "      <td>...</td>\n",
       "    </tr>\n",
       "    <tr>\n",
       "      <th>184071</th>\n",
       "      <td>2004</td>\n",
       "      <td>102</td>\n",
       "      <td>10000</td>\n",
       "      <td>0</td>\n",
       "      <td>0</td>\n",
       "      <td>0</td>\n",
       "      <td>0</td>\n",
       "      <td>0</td>\n",
       "      <td>0</td>\n",
       "      <td>1</td>\n",
       "      <td>...</td>\n",
       "      <td>0</td>\n",
       "      <td>0</td>\n",
       "      <td>0</td>\n",
       "      <td>0</td>\n",
       "      <td>0</td>\n",
       "      <td>0</td>\n",
       "      <td>1</td>\n",
       "      <td>0</td>\n",
       "      <td>0</td>\n",
       "      <td>0</td>\n",
       "    </tr>\n",
       "    <tr>\n",
       "      <th>55629</th>\n",
       "      <td>1998</td>\n",
       "      <td>101</td>\n",
       "      <td>150000</td>\n",
       "      <td>0</td>\n",
       "      <td>0</td>\n",
       "      <td>0</td>\n",
       "      <td>1</td>\n",
       "      <td>0</td>\n",
       "      <td>0</td>\n",
       "      <td>0</td>\n",
       "      <td>...</td>\n",
       "      <td>0</td>\n",
       "      <td>0</td>\n",
       "      <td>0</td>\n",
       "      <td>0</td>\n",
       "      <td>0</td>\n",
       "      <td>0</td>\n",
       "      <td>1</td>\n",
       "      <td>0</td>\n",
       "      <td>0</td>\n",
       "      <td>0</td>\n",
       "    </tr>\n",
       "    <tr>\n",
       "      <th>100246</th>\n",
       "      <td>2006</td>\n",
       "      <td>224</td>\n",
       "      <td>150000</td>\n",
       "      <td>0</td>\n",
       "      <td>0</td>\n",
       "      <td>0</td>\n",
       "      <td>1</td>\n",
       "      <td>0</td>\n",
       "      <td>0</td>\n",
       "      <td>0</td>\n",
       "      <td>...</td>\n",
       "      <td>0</td>\n",
       "      <td>0</td>\n",
       "      <td>0</td>\n",
       "      <td>0</td>\n",
       "      <td>0</td>\n",
       "      <td>0</td>\n",
       "      <td>1</td>\n",
       "      <td>0</td>\n",
       "      <td>0</td>\n",
       "      <td>0</td>\n",
       "    </tr>\n",
       "    <tr>\n",
       "      <th>89734</th>\n",
       "      <td>2000</td>\n",
       "      <td>122</td>\n",
       "      <td>150000</td>\n",
       "      <td>0</td>\n",
       "      <td>0</td>\n",
       "      <td>0</td>\n",
       "      <td>0</td>\n",
       "      <td>0</td>\n",
       "      <td>0</td>\n",
       "      <td>1</td>\n",
       "      <td>...</td>\n",
       "      <td>0</td>\n",
       "      <td>0</td>\n",
       "      <td>0</td>\n",
       "      <td>0</td>\n",
       "      <td>0</td>\n",
       "      <td>0</td>\n",
       "      <td>0</td>\n",
       "      <td>1</td>\n",
       "      <td>0</td>\n",
       "      <td>0</td>\n",
       "    </tr>\n",
       "    <tr>\n",
       "      <th>252225</th>\n",
       "      <td>2000</td>\n",
       "      <td>102</td>\n",
       "      <td>150000</td>\n",
       "      <td>0</td>\n",
       "      <td>0</td>\n",
       "      <td>0</td>\n",
       "      <td>0</td>\n",
       "      <td>0</td>\n",
       "      <td>0</td>\n",
       "      <td>1</td>\n",
       "      <td>...</td>\n",
       "      <td>0</td>\n",
       "      <td>0</td>\n",
       "      <td>0</td>\n",
       "      <td>0</td>\n",
       "      <td>0</td>\n",
       "      <td>0</td>\n",
       "      <td>0</td>\n",
       "      <td>0</td>\n",
       "      <td>0</td>\n",
       "      <td>0</td>\n",
       "    </tr>\n",
       "  </tbody>\n",
       "</table>\n",
       "<p>183432 rows × 306 columns</p>\n",
       "</div>"
      ],
      "text/plain": [
       "        registration_year  power  kilometer  vehicle_type_convertible  \\\n",
       "168812               2014     99      20000                         0   \n",
       "275462               1998    170     150000                         0   \n",
       "258658               2006    116     150000                         0   \n",
       "304720               2007    190     125000                         0   \n",
       "302978               2006    200     150000                         0   \n",
       "...                   ...    ...        ...                       ...   \n",
       "184071               2004    102      10000                         0   \n",
       "55629                1998    101     150000                         0   \n",
       "100246               2006    224     150000                         0   \n",
       "89734                2000    122     150000                         0   \n",
       "252225               2000    102     150000                         0   \n",
       "\n",
       "        vehicle_type_coupe  vehicle_type_other  vehicle_type_sedan  \\\n",
       "168812                   0                   0                   0   \n",
       "275462                   1                   0                   0   \n",
       "258658                   0                   0                   0   \n",
       "304720                   0                   0                   0   \n",
       "302978                   0                   0                   0   \n",
       "...                    ...                 ...                 ...   \n",
       "184071                   0                   0                   0   \n",
       "55629                    0                   0                   1   \n",
       "100246                   0                   0                   1   \n",
       "89734                    0                   0                   0   \n",
       "252225                   0                   0                   0   \n",
       "\n",
       "        vehicle_type_small  vehicle_type_suv  vehicle_type_wagon  ...  \\\n",
       "168812                   0                 0                   1  ...   \n",
       "275462                   0                 0                   0  ...   \n",
       "258658                   0                 0                   1  ...   \n",
       "304720                   0                 0                   1  ...   \n",
       "302978                   0                 0                   1  ...   \n",
       "...                    ...               ...                 ...  ...   \n",
       "184071                   0                 0                   1  ...   \n",
       "55629                    0                 0                   0  ...   \n",
       "100246                   0                 0                   0  ...   \n",
       "89734                    0                 0                   1  ...   \n",
       "252225                   0                 0                   1  ...   \n",
       "\n",
       "        brand_smart  brand_sonstige_autos  brand_subaru  brand_suzuki  \\\n",
       "168812            0                     0             0             0   \n",
       "275462            0                     0             0             0   \n",
       "258658            0                     0             0             0   \n",
       "304720            0                     0             0             0   \n",
       "302978            0                     0             0             0   \n",
       "...             ...                   ...           ...           ...   \n",
       "184071            0                     0             0             0   \n",
       "55629             0                     0             0             0   \n",
       "100246            0                     0             0             0   \n",
       "89734             0                     0             0             0   \n",
       "252225            0                     0             0             0   \n",
       "\n",
       "        brand_toyota  brand_trabant  brand_volkswagen  brand_volvo  \\\n",
       "168812             0              0                 0            0   \n",
       "275462             0              0                 0            0   \n",
       "258658             0              0                 0            0   \n",
       "304720             0              0                 0            0   \n",
       "302978             0              0                 0            0   \n",
       "...              ...            ...               ...          ...   \n",
       "184071             0              0                 1            0   \n",
       "55629              0              0                 1            0   \n",
       "100246             0              0                 1            0   \n",
       "89734              0              0                 0            1   \n",
       "252225             0              0                 0            0   \n",
       "\n",
       "        repaired_unknown  repaired_yes  \n",
       "168812                 0             0  \n",
       "275462                 1             0  \n",
       "258658                 0             0  \n",
       "304720                 0             0  \n",
       "302978                 0             0  \n",
       "...                  ...           ...  \n",
       "184071                 0             0  \n",
       "55629                  0             0  \n",
       "100246                 0             0  \n",
       "89734                  0             0  \n",
       "252225                 0             0  \n",
       "\n",
       "[183432 rows x 306 columns]"
      ]
     },
     "execution_count": 33,
     "metadata": {},
     "output_type": "execute_result"
    }
   ],
   "source": [
    "features_train"
   ]
  },
  {
   "cell_type": "code",
   "execution_count": 34,
   "metadata": {},
   "outputs": [
    {
     "data": {
      "text/plain": [
       "(183432, 306)"
      ]
     },
     "execution_count": 34,
     "metadata": {},
     "output_type": "execute_result"
    }
   ],
   "source": [
    "features_train.shape"
   ]
  },
  {
   "cell_type": "code",
   "execution_count": 35,
   "metadata": {},
   "outputs": [
    {
     "data": {
      "text/plain": [
       "(61144, 306)"
      ]
     },
     "execution_count": 35,
     "metadata": {},
     "output_type": "execute_result"
    }
   ],
   "source": [
    "features_valid.shape"
   ]
  },
  {
   "cell_type": "code",
   "execution_count": 36,
   "metadata": {},
   "outputs": [
    {
     "data": {
      "text/plain": [
       "(61144, 306)"
      ]
     },
     "execution_count": 36,
     "metadata": {},
     "output_type": "execute_result"
    }
   ],
   "source": [
    "features_test.shape"
   ]
  },
  {
   "cell_type": "markdown",
   "metadata": {},
   "source": [
    "## Обучение моделей"
   ]
  },
  {
   "cell_type": "code",
   "execution_count": 37,
   "metadata": {},
   "outputs": [],
   "source": [
    "# функция подбора гиперпараметров\n",
    "\n",
    "def select_best_params_for_models(model_container, features_train, target_train, features_valid, target_valid, **kwargs):\n",
    "    rmse, max_num  = [], []\n",
    "\n",
    "    for num in range(10, 101, 10):\n",
    "        model = model_container(num)\n",
    "        model.fit(features_train, target_train, **kwargs)\n",
    "        target_predict = model.predict(features_valid)\n",
    "\n",
    "        max_num.append(num)\n",
    "        rmse.append(mean_squared_error(target_valid, target_predict)**0.5)\n",
    "\n",
    "        print(\"max_quantity =\", num, \": \", rmse[-1])\n",
    "    return rmse, max_num"
   ]
  },
  {
   "cell_type": "markdown",
   "metadata": {},
   "source": [
    "### CatBoostRegressor"
   ]
  },
  {
   "cell_type": "code",
   "execution_count": 38,
   "metadata": {},
   "outputs": [
    {
     "name": "stdout",
     "output_type": "stream",
     "text": [
      "max_quantity = 10 :  1984.9751955901852\n",
      "max_quantity = 20 :  1872.2643038596163\n",
      "max_quantity = 30 :  1817.7931805028218\n",
      "max_quantity = 40 :  1782.7908664866538\n",
      "max_quantity = 50 :  1755.1184317272398\n",
      "max_quantity = 60 :  1736.7867542075664\n",
      "max_quantity = 70 :  1723.6001401718447\n",
      "max_quantity = 80 :  1708.4577259554462\n",
      "max_quantity = 90 :  1693.9787487776985\n",
      "max_quantity = 100 :  1683.7424236931458\n"
     ]
    }
   ],
   "source": [
    "select_best_params_for_models(\n",
    "    lambda num: CatBoostRegressor(loss_function=\"RMSE\", iterations=num),\n",
    "    features_train, \n",
    "    target_train, \n",
    "    features_valid, \n",
    "    target_valid,\n",
    "    verbose=False\n",
    ");"
   ]
  },
  {
   "cell_type": "markdown",
   "metadata": {},
   "source": [
    "### LightGBM"
   ]
  },
  {
   "cell_type": "code",
   "execution_count": 39,
   "metadata": {},
   "outputs": [
    {
     "name": "stdout",
     "output_type": "stream",
     "text": [
      "max_quantity = 10 :  1845.2563223668703\n",
      "max_quantity = 20 :  1748.8837045675702\n",
      "max_quantity = 30 :  1710.991594787849\n",
      "max_quantity = 40 :  1685.164617834599\n",
      "max_quantity = 50 :  1666.6010218476354\n",
      "max_quantity = 60 :  1652.3671138600134\n",
      "max_quantity = 70 :  1641.6757620652124\n",
      "max_quantity = 80 :  1633.7518242084686\n",
      "max_quantity = 90 :  1624.3291256395044\n",
      "max_quantity = 100 :  1618.1206176132694\n"
     ]
    }
   ],
   "source": [
    "select_best_params_for_models(\n",
    "    lambda num: LGBMRegressor(\n",
    "        learning_rate=0.1,\n",
    "        num_leaves=num,\n",
    "        random_state=12345\n",
    "    ),\n",
    "    features_train, \n",
    "    target_train, \n",
    "    features_valid, \n",
    "    target_valid\n",
    ");"
   ]
  },
  {
   "cell_type": "markdown",
   "metadata": {},
   "source": [
    "### Линейная регрессия"
   ]
  },
  {
   "cell_type": "code",
   "execution_count": 40,
   "metadata": {},
   "outputs": [],
   "source": [
    "model = LinearRegression()"
   ]
  },
  {
   "cell_type": "code",
   "execution_count": 41,
   "metadata": {},
   "outputs": [
    {
     "data": {
      "text/plain": [
       "LinearRegression()"
      ]
     },
     "execution_count": 41,
     "metadata": {},
     "output_type": "execute_result"
    }
   ],
   "source": [
    "model.fit(features_train, target_train)"
   ]
  },
  {
   "cell_type": "code",
   "execution_count": 42,
   "metadata": {},
   "outputs": [],
   "source": [
    "target_predict = model.predict(features_valid)"
   ]
  },
  {
   "cell_type": "code",
   "execution_count": 43,
   "metadata": {},
   "outputs": [
    {
     "data": {
      "text/plain": [
       "2683.0578766172043"
      ]
     },
     "execution_count": 43,
     "metadata": {},
     "output_type": "execute_result"
    }
   ],
   "source": [
    "mean_squared_error(target_valid, target_predict) ** 0.5"
   ]
  },
  {
   "cell_type": "markdown",
   "metadata": {},
   "source": [
    "### Случайный лес"
   ]
  },
  {
   "cell_type": "code",
   "execution_count": 44,
   "metadata": {},
   "outputs": [
    {
     "name": "stdout",
     "output_type": "stream",
     "text": [
      "max_quantity = 10 :  2430.3386985413053\n",
      "max_quantity = 20 :  2434.465982856661\n",
      "max_quantity = 30 :  2434.596018791313\n",
      "max_quantity = 40 :  2437.019458273919\n",
      "max_quantity = 50 :  2435.5897627937316\n",
      "max_quantity = 60 :  2435.224455667229\n",
      "max_quantity = 70 :  2435.4032142573674\n",
      "max_quantity = 80 :  2436.0249903127474\n",
      "max_quantity = 90 :  2436.352104966289\n",
      "max_quantity = 100 :  2436.299952769898\n"
     ]
    }
   ],
   "source": [
    "select_best_params_for_models(\n",
    "    lambda num: RandomForestRegressor(\n",
    "        n_estimators=num,\n",
    "        max_depth=5, \n",
    "        random_state=12345\n",
    "    ),\n",
    "    features_train, \n",
    "    target_train, \n",
    "    features_valid, \n",
    "    target_valid\n",
    ");"
   ]
  },
  {
   "cell_type": "markdown",
   "metadata": {},
   "source": [
    "## Анализ моделей\n",
    "\n",
    "\n",
    "Обучим модели с лучшими гиперпараметрами и оценим время их обучения и предсказания"
   ]
  },
  {
   "cell_type": "markdown",
   "metadata": {},
   "source": [
    "### CatBoostRegressor"
   ]
  },
  {
   "cell_type": "code",
   "execution_count": 45,
   "metadata": {
    "scrolled": true
   },
   "outputs": [
    {
     "name": "stdout",
     "output_type": "stream",
     "text": [
      "Learning rate set to 0.5\n",
      "0:\tlearn: 3304.7046589\ttotal: 24.6ms\tremaining: 2.43s\n",
      "1:\tlearn: 2661.7655881\ttotal: 59.5ms\tremaining: 2.92s\n",
      "2:\tlearn: 2388.2435764\ttotal: 83.3ms\tremaining: 2.69s\n",
      "3:\tlearn: 2256.0722297\ttotal: 106ms\tremaining: 2.55s\n",
      "4:\tlearn: 2169.0865504\ttotal: 131ms\tremaining: 2.49s\n",
      "5:\tlearn: 2102.1844458\ttotal: 155ms\tremaining: 2.44s\n",
      "6:\tlearn: 2063.1781120\ttotal: 180ms\tremaining: 2.39s\n",
      "7:\tlearn: 2020.3963180\ttotal: 205ms\tremaining: 2.35s\n",
      "8:\tlearn: 1992.7579523\ttotal: 229ms\tremaining: 2.31s\n",
      "9:\tlearn: 1975.0191284\ttotal: 264ms\tremaining: 2.37s\n",
      "10:\tlearn: 1958.3525570\ttotal: 289ms\tremaining: 2.34s\n",
      "11:\tlearn: 1940.7719265\ttotal: 318ms\tremaining: 2.33s\n",
      "12:\tlearn: 1928.7333747\ttotal: 349ms\tremaining: 2.34s\n",
      "13:\tlearn: 1916.3619378\ttotal: 373ms\tremaining: 2.29s\n",
      "14:\tlearn: 1908.0683789\ttotal: 396ms\tremaining: 2.24s\n",
      "15:\tlearn: 1891.5471748\ttotal: 422ms\tremaining: 2.21s\n",
      "16:\tlearn: 1884.1351315\ttotal: 458ms\tremaining: 2.23s\n",
      "17:\tlearn: 1870.9879215\ttotal: 481ms\tremaining: 2.19s\n",
      "18:\tlearn: 1859.6100903\ttotal: 506ms\tremaining: 2.15s\n",
      "19:\tlearn: 1852.2113837\ttotal: 534ms\tremaining: 2.14s\n",
      "20:\tlearn: 1845.5681180\ttotal: 559ms\tremaining: 2.1s\n",
      "21:\tlearn: 1837.3088266\ttotal: 582ms\tremaining: 2.06s\n",
      "22:\tlearn: 1830.6111570\ttotal: 603ms\tremaining: 2.02s\n",
      "23:\tlearn: 1826.3583620\ttotal: 626ms\tremaining: 1.98s\n",
      "24:\tlearn: 1815.7655397\ttotal: 650ms\tremaining: 1.95s\n",
      "25:\tlearn: 1811.2491222\ttotal: 671ms\tremaining: 1.91s\n",
      "26:\tlearn: 1806.4838186\ttotal: 695ms\tremaining: 1.88s\n",
      "27:\tlearn: 1801.8263667\ttotal: 718ms\tremaining: 1.85s\n",
      "28:\tlearn: 1797.7336485\ttotal: 748ms\tremaining: 1.83s\n",
      "29:\tlearn: 1792.4270483\ttotal: 776ms\tremaining: 1.81s\n",
      "30:\tlearn: 1789.0305980\ttotal: 799ms\tremaining: 1.78s\n",
      "31:\tlearn: 1785.6718696\ttotal: 822ms\tremaining: 1.75s\n",
      "32:\tlearn: 1783.0609758\ttotal: 843ms\tremaining: 1.71s\n",
      "33:\tlearn: 1778.8032591\ttotal: 866ms\tremaining: 1.68s\n",
      "34:\tlearn: 1775.6579673\ttotal: 891ms\tremaining: 1.65s\n",
      "35:\tlearn: 1770.1006832\ttotal: 927ms\tremaining: 1.65s\n",
      "36:\tlearn: 1767.1624598\ttotal: 949ms\tremaining: 1.61s\n",
      "37:\tlearn: 1762.2548702\ttotal: 973ms\tremaining: 1.59s\n",
      "38:\tlearn: 1757.1565160\ttotal: 997ms\tremaining: 1.56s\n",
      "39:\tlearn: 1753.0536878\ttotal: 1.03s\tremaining: 1.54s\n",
      "40:\tlearn: 1748.7334825\ttotal: 1.05s\tremaining: 1.52s\n",
      "41:\tlearn: 1744.2237856\ttotal: 1.08s\tremaining: 1.49s\n",
      "42:\tlearn: 1741.1605019\ttotal: 1.1s\tremaining: 1.46s\n",
      "43:\tlearn: 1738.4246900\ttotal: 1.13s\tremaining: 1.44s\n",
      "44:\tlearn: 1735.7314201\ttotal: 1.16s\tremaining: 1.41s\n",
      "45:\tlearn: 1733.6882220\ttotal: 1.18s\tremaining: 1.38s\n",
      "46:\tlearn: 1729.8517590\ttotal: 1.21s\tremaining: 1.36s\n",
      "47:\tlearn: 1726.8565274\ttotal: 1.23s\tremaining: 1.34s\n",
      "48:\tlearn: 1724.3793204\ttotal: 1.26s\tremaining: 1.31s\n",
      "49:\tlearn: 1719.7566664\ttotal: 1.28s\tremaining: 1.28s\n",
      "50:\tlearn: 1716.9123389\ttotal: 1.31s\tremaining: 1.26s\n",
      "51:\tlearn: 1715.0920662\ttotal: 1.33s\tremaining: 1.23s\n",
      "52:\tlearn: 1712.4082484\ttotal: 1.35s\tremaining: 1.2s\n",
      "53:\tlearn: 1709.6199163\ttotal: 1.38s\tremaining: 1.17s\n",
      "54:\tlearn: 1707.1049150\ttotal: 1.4s\tremaining: 1.15s\n",
      "55:\tlearn: 1705.0424483\ttotal: 1.43s\tremaining: 1.12s\n",
      "56:\tlearn: 1703.3253751\ttotal: 1.45s\tremaining: 1.1s\n",
      "57:\tlearn: 1700.8496651\ttotal: 1.48s\tremaining: 1.07s\n",
      "58:\tlearn: 1699.6371832\ttotal: 1.51s\tremaining: 1.05s\n",
      "59:\tlearn: 1698.2217661\ttotal: 1.53s\tremaining: 1.02s\n",
      "60:\tlearn: 1696.8995239\ttotal: 1.56s\tremaining: 996ms\n",
      "61:\tlearn: 1694.6453802\ttotal: 1.58s\tremaining: 970ms\n",
      "62:\tlearn: 1692.8675197\ttotal: 1.61s\tremaining: 948ms\n",
      "63:\tlearn: 1689.9343233\ttotal: 1.64s\tremaining: 922ms\n",
      "64:\tlearn: 1687.9547357\ttotal: 1.66s\tremaining: 895ms\n",
      "65:\tlearn: 1686.2976184\ttotal: 1.69s\tremaining: 870ms\n",
      "66:\tlearn: 1685.1743027\ttotal: 1.72s\tremaining: 849ms\n",
      "67:\tlearn: 1682.6047139\ttotal: 1.75s\tremaining: 824ms\n",
      "68:\tlearn: 1681.4677978\ttotal: 1.77s\tremaining: 797ms\n",
      "69:\tlearn: 1680.0930268\ttotal: 1.81s\tremaining: 778ms\n",
      "70:\tlearn: 1678.5642980\ttotal: 1.84s\tremaining: 752ms\n",
      "71:\tlearn: 1676.3382294\ttotal: 1.87s\tremaining: 729ms\n",
      "72:\tlearn: 1674.6804198\ttotal: 1.91s\tremaining: 705ms\n",
      "73:\tlearn: 1672.9887822\ttotal: 1.94s\tremaining: 681ms\n",
      "74:\tlearn: 1670.9878060\ttotal: 1.96s\tremaining: 655ms\n",
      "75:\tlearn: 1669.6849517\ttotal: 2s\tremaining: 631ms\n",
      "76:\tlearn: 1668.6808591\ttotal: 2.03s\tremaining: 605ms\n",
      "77:\tlearn: 1666.8032413\ttotal: 2.06s\tremaining: 582ms\n",
      "78:\tlearn: 1665.4932652\ttotal: 2.1s\tremaining: 558ms\n",
      "79:\tlearn: 1663.5284680\ttotal: 2.13s\tremaining: 531ms\n",
      "80:\tlearn: 1661.3290497\ttotal: 2.16s\tremaining: 507ms\n",
      "81:\tlearn: 1660.5338626\ttotal: 2.2s\tremaining: 483ms\n",
      "82:\tlearn: 1658.6328890\ttotal: 2.23s\tremaining: 458ms\n",
      "83:\tlearn: 1658.2532437\ttotal: 2.26s\tremaining: 431ms\n",
      "84:\tlearn: 1656.8423086\ttotal: 2.29s\tremaining: 404ms\n",
      "85:\tlearn: 1654.5366546\ttotal: 2.31s\tremaining: 377ms\n",
      "86:\tlearn: 1652.6618639\ttotal: 2.34s\tremaining: 349ms\n",
      "87:\tlearn: 1650.9635797\ttotal: 2.36s\tremaining: 322ms\n",
      "88:\tlearn: 1649.4314044\ttotal: 2.39s\tremaining: 295ms\n",
      "89:\tlearn: 1647.8015283\ttotal: 2.42s\tremaining: 268ms\n",
      "90:\tlearn: 1646.6331963\ttotal: 2.44s\tremaining: 241ms\n",
      "91:\tlearn: 1645.6577695\ttotal: 2.47s\tremaining: 215ms\n",
      "92:\tlearn: 1644.4181495\ttotal: 2.49s\tremaining: 188ms\n",
      "93:\tlearn: 1643.2226058\ttotal: 2.52s\tremaining: 161ms\n",
      "94:\tlearn: 1642.2231147\ttotal: 2.54s\tremaining: 134ms\n",
      "95:\tlearn: 1641.2579147\ttotal: 2.57s\tremaining: 107ms\n",
      "96:\tlearn: 1639.3331901\ttotal: 2.6s\tremaining: 80.5ms\n",
      "97:\tlearn: 1637.2904259\ttotal: 2.64s\tremaining: 53.9ms\n",
      "98:\tlearn: 1635.5827749\ttotal: 2.67s\tremaining: 26.9ms\n",
      "99:\tlearn: 1633.9382292\ttotal: 2.69s\tremaining: 0us\n",
      "CPU times: user 3.95 s, sys: 28.3 ms, total: 3.97 s\n",
      "Wall time: 4.44 s\n"
     ]
    },
    {
     "data": {
      "text/plain": [
       "<catboost.core.CatBoostRegressor at 0x7f3e2a64b580>"
      ]
     },
     "execution_count": 45,
     "metadata": {},
     "output_type": "execute_result"
    }
   ],
   "source": [
    "%%time\n",
    "\n",
    "# время обучения\n",
    "\n",
    "cat = CatBoostRegressor(loss_function=\"RMSE\", iterations=100)\n",
    "cat.fit(features_train, target_train)"
   ]
  },
  {
   "cell_type": "code",
   "execution_count": 46,
   "metadata": {},
   "outputs": [
    {
     "name": "stdout",
     "output_type": "stream",
     "text": [
      "CPU times: user 52.8 ms, sys: 25 µs, total: 52.9 ms\n",
      "Wall time: 55.2 ms\n"
     ]
    }
   ],
   "source": [
    "%%time\n",
    "\n",
    "# время предсказания\n",
    "\n",
    "target_predict = cat.predict(features_valid)"
   ]
  },
  {
   "cell_type": "code",
   "execution_count": 66,
   "metadata": {},
   "outputs": [],
   "source": [
    "rmse_cat = mean_squared_error(target_valid, target_predict)**0.5"
   ]
  },
  {
   "cell_type": "markdown",
   "metadata": {},
   "source": [
    "### LightGBM"
   ]
  },
  {
   "cell_type": "code",
   "execution_count": 48,
   "metadata": {},
   "outputs": [
    {
     "name": "stdout",
     "output_type": "stream",
     "text": [
      "CPU times: user 18min 53s, sys: 9.93 s, total: 19min 3s\n",
      "Wall time: 19min 10s\n"
     ]
    },
    {
     "data": {
      "text/plain": [
       "LGBMRegressor(num_leaves=100, random_state=12345)"
      ]
     },
     "execution_count": 48,
     "metadata": {},
     "output_type": "execute_result"
    }
   ],
   "source": [
    "%%time\n",
    "\n",
    "# время обучения\n",
    "\n",
    "lgbm = LGBMRegressor(\n",
    "        learning_rate=0.1,\n",
    "        num_leaves=100,\n",
    "        random_state=12345\n",
    "    )\n",
    "lgbm.fit(features_train, target_train)"
   ]
  },
  {
   "cell_type": "code",
   "execution_count": 49,
   "metadata": {},
   "outputs": [
    {
     "name": "stdout",
     "output_type": "stream",
     "text": [
      "CPU times: user 921 ms, sys: 95.9 ms, total: 1.02 s\n",
      "Wall time: 1.01 s\n"
     ]
    }
   ],
   "source": [
    "%%time\n",
    "\n",
    "# время предсказания\n",
    "\n",
    "target_predict = lgbm.predict(features_valid)"
   ]
  },
  {
   "cell_type": "code",
   "execution_count": 50,
   "metadata": {},
   "outputs": [],
   "source": [
    "rmse_lgbm = mean_squared_error(target_valid, target_predict)**0.5"
   ]
  },
  {
   "cell_type": "markdown",
   "metadata": {},
   "source": [
    "### Линейная регрессия"
   ]
  },
  {
   "cell_type": "code",
   "execution_count": 51,
   "metadata": {},
   "outputs": [
    {
     "name": "stdout",
     "output_type": "stream",
     "text": [
      "CPU times: user 18.4 s, sys: 19.5 s, total: 37.9 s\n",
      "Wall time: 38 s\n"
     ]
    },
    {
     "data": {
      "text/plain": [
       "LinearRegression()"
      ]
     },
     "execution_count": 51,
     "metadata": {},
     "output_type": "execute_result"
    }
   ],
   "source": [
    "%%time\n",
    "\n",
    "# время обучения\n",
    "\n",
    "linear_reg = LinearRegression()\n",
    "linear_reg.fit(features_train, target_train)"
   ]
  },
  {
   "cell_type": "code",
   "execution_count": 52,
   "metadata": {},
   "outputs": [
    {
     "name": "stdout",
     "output_type": "stream",
     "text": [
      "CPU times: user 111 ms, sys: 129 ms, total: 241 ms\n",
      "Wall time: 291 ms\n"
     ]
    }
   ],
   "source": [
    "%%time\n",
    "\n",
    "# время предсказания\n",
    "\n",
    "target_predict = model.predict(features_valid)"
   ]
  },
  {
   "cell_type": "code",
   "execution_count": 53,
   "metadata": {},
   "outputs": [],
   "source": [
    "rmse_linear_reg = mean_squared_error(target_valid, target_predict)**0.5"
   ]
  },
  {
   "cell_type": "markdown",
   "metadata": {},
   "source": [
    "### Случайный лес"
   ]
  },
  {
   "cell_type": "code",
   "execution_count": 82,
   "metadata": {},
   "outputs": [
    {
     "name": "stdout",
     "output_type": "stream",
     "text": [
      "CPU times: user 13.1 s, sys: 200 ms, total: 13.3 s\n",
      "Wall time: 13.4 s\n"
     ]
    },
    {
     "data": {
      "text/plain": [
       "RandomForestRegressor(max_depth=5, n_estimators=10, random_state=12345)"
      ]
     },
     "execution_count": 82,
     "metadata": {},
     "output_type": "execute_result"
    }
   ],
   "source": [
    "%%time\n",
    "\n",
    "# время обучения\n",
    "\n",
    "random_forest = RandomForestRegressor(\n",
    "        n_estimators=10,\n",
    "        max_depth=5, \n",
    "        random_state=12345\n",
    "    )\n",
    "random_forest.fit(features_train, target_train)"
   ]
  },
  {
   "cell_type": "code",
   "execution_count": 83,
   "metadata": {},
   "outputs": [
    {
     "name": "stdout",
     "output_type": "stream",
     "text": [
      "CPU times: user 68.8 ms, sys: 78.4 ms, total: 147 ms\n",
      "Wall time: 151 ms\n"
     ]
    }
   ],
   "source": [
    "%%time\n",
    "\n",
    "# время предсказания\n",
    "\n",
    "target_predict = random_forest.predict(features_valid)"
   ]
  },
  {
   "cell_type": "code",
   "execution_count": 84,
   "metadata": {},
   "outputs": [],
   "source": [
    "rmse_random_forest = mean_squared_error(target_valid, target_predict)**0.5"
   ]
  },
  {
   "cell_type": "markdown",
   "metadata": {},
   "source": [
    "### Проверим лучшую модель на тестовой выборке"
   ]
  },
  {
   "cell_type": "code",
   "execution_count": 61,
   "metadata": {
    "scrolled": true
   },
   "outputs": [
    {
     "name": "stdout",
     "output_type": "stream",
     "text": [
      "Learning rate set to 0.5\n",
      "0:\tlearn: 3299.2125834\ttotal: 65.1ms\tremaining: 6.45s\n",
      "1:\tlearn: 2671.7977209\ttotal: 108ms\tremaining: 5.3s\n",
      "2:\tlearn: 2408.7558537\ttotal: 154ms\tremaining: 4.99s\n",
      "3:\tlearn: 2237.7201034\ttotal: 191ms\tremaining: 4.58s\n",
      "4:\tlearn: 2153.1567230\ttotal: 232ms\tremaining: 4.41s\n",
      "5:\tlearn: 2089.3518671\ttotal: 269ms\tremaining: 4.22s\n",
      "6:\tlearn: 2042.5383926\ttotal: 312ms\tremaining: 4.14s\n",
      "7:\tlearn: 2008.5800243\ttotal: 348ms\tremaining: 4s\n",
      "8:\tlearn: 1985.7138168\ttotal: 386ms\tremaining: 3.91s\n",
      "9:\tlearn: 1963.9240877\ttotal: 438ms\tremaining: 3.94s\n",
      "10:\tlearn: 1947.9203165\ttotal: 471ms\tremaining: 3.81s\n",
      "11:\tlearn: 1923.3129690\ttotal: 515ms\tremaining: 3.78s\n",
      "12:\tlearn: 1911.9802749\ttotal: 554ms\tremaining: 3.71s\n",
      "13:\tlearn: 1904.5625449\ttotal: 587ms\tremaining: 3.6s\n",
      "14:\tlearn: 1892.0160813\ttotal: 631ms\tremaining: 3.58s\n",
      "15:\tlearn: 1885.1211679\ttotal: 663ms\tremaining: 3.48s\n",
      "16:\tlearn: 1872.2806221\ttotal: 700ms\tremaining: 3.42s\n",
      "17:\tlearn: 1861.1905162\ttotal: 735ms\tremaining: 3.35s\n",
      "18:\tlearn: 1853.9590005\ttotal: 771ms\tremaining: 3.29s\n",
      "19:\tlearn: 1843.1135755\ttotal: 815ms\tremaining: 3.26s\n",
      "20:\tlearn: 1839.2748161\ttotal: 847ms\tremaining: 3.19s\n",
      "21:\tlearn: 1832.0085422\ttotal: 883ms\tremaining: 3.13s\n",
      "22:\tlearn: 1827.8460062\ttotal: 916ms\tremaining: 3.07s\n",
      "23:\tlearn: 1819.9231431\ttotal: 954ms\tremaining: 3.02s\n",
      "24:\tlearn: 1813.8224457\ttotal: 1s\tremaining: 3s\n",
      "25:\tlearn: 1809.5473679\ttotal: 1.04s\tremaining: 2.96s\n",
      "26:\tlearn: 1802.7522117\ttotal: 1.08s\tremaining: 2.93s\n",
      "27:\tlearn: 1797.9736320\ttotal: 1.13s\tremaining: 2.89s\n",
      "28:\tlearn: 1795.3388333\ttotal: 1.16s\tremaining: 2.83s\n",
      "29:\tlearn: 1790.0498653\ttotal: 1.2s\tremaining: 2.8s\n",
      "30:\tlearn: 1787.9381228\ttotal: 1.23s\tremaining: 2.75s\n",
      "31:\tlearn: 1785.0941350\ttotal: 1.27s\tremaining: 2.71s\n",
      "32:\tlearn: 1782.2159095\ttotal: 1.32s\tremaining: 2.69s\n",
      "33:\tlearn: 1779.8710384\ttotal: 1.36s\tremaining: 2.64s\n",
      "34:\tlearn: 1775.7981564\ttotal: 1.41s\tremaining: 2.61s\n",
      "35:\tlearn: 1768.9735152\ttotal: 1.45s\tremaining: 2.57s\n",
      "36:\tlearn: 1766.9765676\ttotal: 1.49s\tremaining: 2.53s\n",
      "37:\tlearn: 1762.0943893\ttotal: 1.54s\tremaining: 2.52s\n",
      "38:\tlearn: 1755.5066713\ttotal: 1.61s\tremaining: 2.52s\n",
      "39:\tlearn: 1753.7112385\ttotal: 1.66s\tremaining: 2.48s\n",
      "40:\tlearn: 1750.5006571\ttotal: 1.71s\tremaining: 2.46s\n",
      "41:\tlearn: 1747.5851081\ttotal: 1.75s\tremaining: 2.41s\n",
      "42:\tlearn: 1744.2322624\ttotal: 1.8s\tremaining: 2.38s\n",
      "43:\tlearn: 1742.2408776\ttotal: 1.84s\tremaining: 2.34s\n",
      "44:\tlearn: 1738.0397768\ttotal: 1.89s\tremaining: 2.3s\n",
      "45:\tlearn: 1735.5767122\ttotal: 1.92s\tremaining: 2.26s\n",
      "46:\tlearn: 1732.4444313\ttotal: 1.97s\tremaining: 2.22s\n",
      "47:\tlearn: 1729.0451164\ttotal: 2.01s\tremaining: 2.18s\n",
      "48:\tlearn: 1726.4937207\ttotal: 2.05s\tremaining: 2.13s\n",
      "49:\tlearn: 1723.9964234\ttotal: 2.1s\tremaining: 2.1s\n",
      "50:\tlearn: 1720.8078135\ttotal: 2.13s\tremaining: 2.05s\n",
      "51:\tlearn: 1718.5468621\ttotal: 2.17s\tremaining: 2.01s\n",
      "52:\tlearn: 1716.3617698\ttotal: 2.21s\tremaining: 1.96s\n",
      "53:\tlearn: 1713.6602325\ttotal: 2.25s\tremaining: 1.92s\n",
      "54:\tlearn: 1709.7293035\ttotal: 2.29s\tremaining: 1.88s\n",
      "55:\tlearn: 1705.6805893\ttotal: 2.33s\tremaining: 1.83s\n",
      "56:\tlearn: 1704.2267960\ttotal: 2.38s\tremaining: 1.79s\n",
      "57:\tlearn: 1703.3082980\ttotal: 2.4s\tremaining: 1.74s\n",
      "58:\tlearn: 1701.2642958\ttotal: 2.44s\tremaining: 1.7s\n",
      "59:\tlearn: 1699.7830123\ttotal: 2.48s\tremaining: 1.66s\n",
      "60:\tlearn: 1698.2564139\ttotal: 2.53s\tremaining: 1.62s\n",
      "61:\tlearn: 1695.4581705\ttotal: 2.57s\tremaining: 1.58s\n",
      "62:\tlearn: 1693.5685008\ttotal: 2.61s\tremaining: 1.53s\n",
      "63:\tlearn: 1692.8736209\ttotal: 2.65s\tremaining: 1.49s\n",
      "64:\tlearn: 1691.1480990\ttotal: 2.69s\tremaining: 1.45s\n",
      "65:\tlearn: 1689.3669087\ttotal: 2.73s\tremaining: 1.41s\n",
      "66:\tlearn: 1687.0311655\ttotal: 2.77s\tremaining: 1.37s\n",
      "67:\tlearn: 1685.2536222\ttotal: 2.81s\tremaining: 1.32s\n",
      "68:\tlearn: 1683.4139127\ttotal: 2.85s\tremaining: 1.28s\n",
      "69:\tlearn: 1681.8278342\ttotal: 2.9s\tremaining: 1.24s\n",
      "70:\tlearn: 1679.7476629\ttotal: 2.95s\tremaining: 1.2s\n",
      "71:\tlearn: 1678.4726985\ttotal: 2.98s\tremaining: 1.16s\n",
      "72:\tlearn: 1675.7934386\ttotal: 3.02s\tremaining: 1.11s\n",
      "73:\tlearn: 1673.0457694\ttotal: 3.06s\tremaining: 1.07s\n",
      "74:\tlearn: 1671.9684054\ttotal: 3.08s\tremaining: 1.03s\n",
      "75:\tlearn: 1671.1488461\ttotal: 3.12s\tremaining: 984ms\n",
      "76:\tlearn: 1670.2105791\ttotal: 3.15s\tremaining: 941ms\n",
      "77:\tlearn: 1668.8303323\ttotal: 3.18s\tremaining: 898ms\n",
      "78:\tlearn: 1667.1491412\ttotal: 3.23s\tremaining: 860ms\n",
      "79:\tlearn: 1665.8681250\ttotal: 3.27s\tremaining: 817ms\n",
      "80:\tlearn: 1664.0217021\ttotal: 3.3s\tremaining: 774ms\n",
      "81:\tlearn: 1661.9178500\ttotal: 3.34s\tremaining: 733ms\n",
      "82:\tlearn: 1660.8478287\ttotal: 3.37s\tremaining: 691ms\n",
      "83:\tlearn: 1659.5055431\ttotal: 3.42s\tremaining: 651ms\n",
      "84:\tlearn: 1658.8391555\ttotal: 3.45s\tremaining: 608ms\n",
      "85:\tlearn: 1657.3046124\ttotal: 3.48s\tremaining: 566ms\n",
      "86:\tlearn: 1655.3457002\ttotal: 3.52s\tremaining: 527ms\n",
      "87:\tlearn: 1654.5164900\ttotal: 3.56s\tremaining: 485ms\n",
      "88:\tlearn: 1653.6966984\ttotal: 3.6s\tremaining: 445ms\n",
      "89:\tlearn: 1650.6613507\ttotal: 3.63s\tremaining: 404ms\n",
      "90:\tlearn: 1649.6680330\ttotal: 3.66s\tremaining: 362ms\n",
      "91:\tlearn: 1647.9775521\ttotal: 3.7s\tremaining: 322ms\n",
      "92:\tlearn: 1646.3375995\ttotal: 3.74s\tremaining: 281ms\n",
      "93:\tlearn: 1645.4237879\ttotal: 3.77s\tremaining: 241ms\n",
      "94:\tlearn: 1643.1918630\ttotal: 3.83s\tremaining: 201ms\n",
      "95:\tlearn: 1642.3242137\ttotal: 3.9s\tremaining: 162ms\n",
      "96:\tlearn: 1640.8228036\ttotal: 3.93s\tremaining: 122ms\n",
      "97:\tlearn: 1640.1998090\ttotal: 3.97s\tremaining: 81.1ms\n",
      "98:\tlearn: 1638.8058669\ttotal: 4.01s\tremaining: 40.5ms\n",
      "99:\tlearn: 1637.2988967\ttotal: 4.05s\tremaining: 0us\n"
     ]
    },
    {
     "data": {
      "text/plain": [
       "<catboost.core.CatBoostRegressor at 0x7f3e2a65a220>"
      ]
     },
     "execution_count": 61,
     "metadata": {},
     "output_type": "execute_result"
    }
   ],
   "source": [
    "features_trainvalid = pd.concat([features_train, features_valid])\n",
    "target_trainvalid = pd.concat([target_train, target_valid])\n",
    "\n",
    "cat = CatBoostRegressor(loss_function=\"RMSE\", iterations=100)\n",
    "cat.fit(features_trainvalid, target_trainvalid)"
   ]
  },
  {
   "cell_type": "code",
   "execution_count": 62,
   "metadata": {},
   "outputs": [],
   "source": [
    "target_predict = cat.predict(features_test)"
   ]
  },
  {
   "cell_type": "code",
   "execution_count": 70,
   "metadata": {},
   "outputs": [],
   "source": [
    "rmse_cat_best = mean_squared_error(target_test, target_predict)**0.5"
   ]
  },
  {
   "cell_type": "markdown",
   "metadata": {},
   "source": [
    "### Итоговый анализ моделей"
   ]
  },
  {
   "cell_type": "code",
   "execution_count": 91,
   "metadata": {},
   "outputs": [],
   "source": [
    "index = [\n",
    "    'CatBoost',\n",
    "    'LightGBM',\n",
    "    'LinearRegression',\n",
    "    'RandomForest'\n",
    "        ]\n",
    "\n",
    "data = {\n",
    "        'RMSE модели':\n",
    "    [\n",
    "        rmse_cat_best,\n",
    "        rmse_lgbm,\n",
    "        rmse_linear_reg,\n",
    "        rmse_random_forest\n",
    "                      ],\n",
    "        'Время обучения модели, сек':\n",
    "    [\n",
    "        4.44,\n",
    "        1140.0,\n",
    "        38,\n",
    "        13.4,\n",
    "    ],\n",
    "        'Время предсказания модели, сек':\n",
    "    [\n",
    "        0.55,\n",
    "        1.01,\n",
    "        2.91,\n",
    "        1.51,\n",
    "    ]\n",
    "}"
   ]
  },
  {
   "cell_type": "code",
   "execution_count": 92,
   "metadata": {},
   "outputs": [],
   "source": [
    "scores_data = pd.DataFrame(data=data, index=index)"
   ]
  },
  {
   "cell_type": "code",
   "execution_count": 93,
   "metadata": {},
   "outputs": [
    {
     "data": {
      "text/html": [
       "<div>\n",
       "<style scoped>\n",
       "    .dataframe tbody tr th:only-of-type {\n",
       "        vertical-align: middle;\n",
       "    }\n",
       "\n",
       "    .dataframe tbody tr th {\n",
       "        vertical-align: top;\n",
       "    }\n",
       "\n",
       "    .dataframe thead th {\n",
       "        text-align: right;\n",
       "    }\n",
       "</style>\n",
       "<table border=\"1\" class=\"dataframe\">\n",
       "  <thead>\n",
       "    <tr style=\"text-align: right;\">\n",
       "      <th></th>\n",
       "      <th>RMSE модели</th>\n",
       "      <th>Время обучения модели, сек</th>\n",
       "      <th>Время предсказания модели, сек</th>\n",
       "    </tr>\n",
       "  </thead>\n",
       "  <tbody>\n",
       "    <tr>\n",
       "      <th>CatBoost</th>\n",
       "      <td>1658.478980</td>\n",
       "      <td>4.44</td>\n",
       "      <td>0.55</td>\n",
       "    </tr>\n",
       "    <tr>\n",
       "      <th>LightGBM</th>\n",
       "      <td>1597.418092</td>\n",
       "      <td>1140.00</td>\n",
       "      <td>1.01</td>\n",
       "    </tr>\n",
       "    <tr>\n",
       "      <th>LinearRegression</th>\n",
       "      <td>2619.987640</td>\n",
       "      <td>38.00</td>\n",
       "      <td>2.91</td>\n",
       "    </tr>\n",
       "    <tr>\n",
       "      <th>RandomForest</th>\n",
       "      <td>2430.338699</td>\n",
       "      <td>13.40</td>\n",
       "      <td>1.51</td>\n",
       "    </tr>\n",
       "  </tbody>\n",
       "</table>\n",
       "</div>"
      ],
      "text/plain": [
       "                  RMSE модели  Время обучения модели, сек  \\\n",
       "CatBoost          1658.478980                        4.44   \n",
       "LightGBM          1597.418092                     1140.00   \n",
       "LinearRegression  2619.987640                       38.00   \n",
       "RandomForest      2430.338699                       13.40   \n",
       "\n",
       "                  Время предсказания модели, сек  \n",
       "CatBoost                                    0.55  \n",
       "LightGBM                                    1.01  \n",
       "LinearRegression                            2.91  \n",
       "RandomForest                                1.51  "
      ]
     },
     "execution_count": 93,
     "metadata": {},
     "output_type": "execute_result"
    }
   ],
   "source": [
    "scores_data"
   ]
  },
  {
   "cell_type": "markdown",
   "metadata": {},
   "source": [
    "Критерии заказчика:\n",
    "- качество предсказания;\n",
    "- время обучения модели;\n",
    "- время предсказания модели.\n",
    "\n",
    "Вывод:\n",
    "\n",
    "CatBoost самая быстрая модель, дающая очень хороший результат. По RMSE немного уступает LightGBM, но по скорочти очень сильно выигрывает."
   ]
  },
  {
   "cell_type": "markdown",
   "metadata": {},
   "source": [
    "## Общий вывод\n",
    "\n",
    "- Данные загружены и изуечены\n",
    "- Заполнены пропущенные значения и обработаны аномалии в столбцах. Удалены неинформативные признаки.\n",
    "- Подготовлены выборки для обучения моделей.\n",
    "- Обучены модели: CatBoost, LightGBM, LinearRegression, RandomForest. Для каждой модели подобраны гиперпараметры.\n",
    "- Проанализировано время обучения, время предсказания и качество моделей.\n",
    "- Опираясь на критерии заказчика, выбрана лучшая модель CatBoost.\n",
    "\n"
   ]
  },
  {
   "cell_type": "markdown",
   "metadata": {},
   "source": [
    "## Чек-лист проверки"
   ]
  },
  {
   "cell_type": "markdown",
   "metadata": {},
   "source": [
    "Поставьте 'x' в выполненных пунктах. Далее нажмите Shift+Enter."
   ]
  },
  {
   "cell_type": "markdown",
   "metadata": {},
   "source": [
    "- [x]  Jupyter Notebook открыт\n",
    "- [x]  Весь код выполняется без ошибок\n",
    "- [x]  Ячейки с кодом расположены в порядке исполнения\n",
    "- [x]  Выполнена загрузка и подготовка данных\n",
    "- [x]  Выполнено обучение моделей\n",
    "- [x]  Есть анализ скорости работы и качества моделей"
   ]
  }
 ],
 "metadata": {
  "ExecuteTimeLog": [
   {
    "duration": 546,
    "start_time": "2023-02-21T16:25:15.595Z"
   },
   {
    "duration": 4711,
    "start_time": "2023-02-21T16:25:16.144Z"
   },
   {
    "duration": 204,
    "start_time": "2023-02-21T16:25:20.858Z"
   },
   {
    "duration": 185,
    "start_time": "2023-02-21T16:25:21.064Z"
   },
   {
    "duration": 44,
    "start_time": "2023-02-21T16:25:57.833Z"
   },
   {
    "duration": 14,
    "start_time": "2023-02-21T16:27:32.824Z"
   },
   {
    "duration": 3,
    "start_time": "2023-02-21T16:33:54.295Z"
   },
   {
    "duration": 4,
    "start_time": "2023-02-21T16:36:53.644Z"
   },
   {
    "duration": 3,
    "start_time": "2023-02-21T16:36:53.988Z"
   },
   {
    "duration": 77,
    "start_time": "2023-02-21T16:36:54.288Z"
   },
   {
    "duration": 3,
    "start_time": "2023-02-21T16:37:07.999Z"
   },
   {
    "duration": 140,
    "start_time": "2023-02-21T16:37:08.442Z"
   },
   {
    "duration": 571,
    "start_time": "2023-02-21T16:37:08.856Z"
   },
   {
    "duration": 153,
    "start_time": "2023-02-21T16:37:28.020Z"
   },
   {
    "duration": 78,
    "start_time": "2023-02-21T16:37:52.586Z"
   },
   {
    "duration": 189,
    "start_time": "2023-02-21T16:37:58.604Z"
   },
   {
    "duration": 292,
    "start_time": "2023-02-21T16:38:14.823Z"
   },
   {
    "duration": 21,
    "start_time": "2023-02-21T16:50:09.355Z"
   },
   {
    "duration": 150,
    "start_time": "2023-02-21T16:54:10.196Z"
   },
   {
    "duration": 114,
    "start_time": "2023-02-21T16:54:43.700Z"
   },
   {
    "duration": 49,
    "start_time": "2023-02-21T16:55:07.355Z"
   },
   {
    "duration": 132,
    "start_time": "2023-02-21T16:55:26.699Z"
   },
   {
    "duration": 57,
    "start_time": "2023-02-21T16:56:14.924Z"
   },
   {
    "duration": 86,
    "start_time": "2023-02-21T16:56:16.674Z"
   },
   {
    "duration": 111,
    "start_time": "2023-02-21T16:56:23.129Z"
   },
   {
    "duration": 370,
    "start_time": "2023-02-21T16:56:38.730Z"
   },
   {
    "duration": 751,
    "start_time": "2023-02-21T16:56:39.102Z"
   },
   {
    "duration": 23,
    "start_time": "2023-02-21T16:56:39.855Z"
   },
   {
    "duration": 138,
    "start_time": "2023-02-21T16:56:39.881Z"
   },
   {
    "duration": 98,
    "start_time": "2023-02-21T16:56:40.021Z"
   },
   {
    "duration": 3,
    "start_time": "2023-02-21T16:56:40.121Z"
   },
   {
    "duration": 133,
    "start_time": "2023-02-21T16:56:40.126Z"
   },
   {
    "duration": 388,
    "start_time": "2023-02-21T16:56:40.261Z"
   },
   {
    "duration": 66,
    "start_time": "2023-02-21T16:56:40.651Z"
   },
   {
    "duration": 131,
    "start_time": "2023-02-21T16:56:40.720Z"
   },
   {
    "duration": 85,
    "start_time": "2023-02-21T16:56:40.852Z"
   },
   {
    "duration": 128,
    "start_time": "2023-02-21T16:56:40.939Z"
   },
   {
    "duration": 802,
    "start_time": "2023-02-21T16:59:00.478Z"
   },
   {
    "duration": 126,
    "start_time": "2023-02-21T16:59:01.503Z"
   },
   {
    "duration": 414,
    "start_time": "2023-02-21T16:59:14.140Z"
   },
   {
    "duration": 928,
    "start_time": "2023-02-21T16:59:14.556Z"
   },
   {
    "duration": 18,
    "start_time": "2023-02-21T16:59:15.486Z"
   },
   {
    "duration": 137,
    "start_time": "2023-02-21T16:59:15.506Z"
   },
   {
    "duration": 139,
    "start_time": "2023-02-21T16:59:15.645Z"
   },
   {
    "duration": 3,
    "start_time": "2023-02-21T16:59:15.786Z"
   },
   {
    "duration": 134,
    "start_time": "2023-02-21T16:59:15.790Z"
   },
   {
    "duration": 382,
    "start_time": "2023-02-21T16:59:15.926Z"
   },
   {
    "duration": 70,
    "start_time": "2023-02-21T16:59:16.309Z"
   },
   {
    "duration": 134,
    "start_time": "2023-02-21T16:59:16.381Z"
   },
   {
    "duration": 831,
    "start_time": "2023-02-21T16:59:16.516Z"
   },
   {
    "duration": 147,
    "start_time": "2023-02-21T16:59:17.349Z"
   },
   {
    "duration": 14,
    "start_time": "2023-02-21T17:00:49.277Z"
   },
   {
    "duration": 405,
    "start_time": "2023-02-21T17:11:01.341Z"
   },
   {
    "duration": 766,
    "start_time": "2023-02-21T17:11:01.748Z"
   },
   {
    "duration": 19,
    "start_time": "2023-02-21T17:11:02.516Z"
   },
   {
    "duration": 140,
    "start_time": "2023-02-21T17:11:02.537Z"
   },
   {
    "duration": 92,
    "start_time": "2023-02-21T17:11:02.679Z"
   },
   {
    "duration": 4,
    "start_time": "2023-02-21T17:11:02.772Z"
   },
   {
    "duration": 157,
    "start_time": "2023-02-21T17:11:02.777Z"
   },
   {
    "duration": 392,
    "start_time": "2023-02-21T17:11:02.936Z"
   },
   {
    "duration": 95,
    "start_time": "2023-02-21T17:11:03.330Z"
   },
   {
    "duration": 127,
    "start_time": "2023-02-21T17:11:03.427Z"
   },
   {
    "duration": 137,
    "start_time": "2023-02-21T17:11:03.555Z"
   },
   {
    "duration": 15,
    "start_time": "2023-02-21T17:11:03.694Z"
   },
   {
    "duration": 10,
    "start_time": "2023-02-21T17:11:03.711Z"
   },
   {
    "duration": 72,
    "start_time": "2023-02-21T17:18:20.118Z"
   },
   {
    "duration": 395,
    "start_time": "2023-02-21T17:20:36.039Z"
   },
   {
    "duration": 801,
    "start_time": "2023-02-21T17:20:36.436Z"
   },
   {
    "duration": 30,
    "start_time": "2023-02-21T17:20:37.239Z"
   },
   {
    "duration": 126,
    "start_time": "2023-02-21T17:20:37.270Z"
   },
   {
    "duration": 101,
    "start_time": "2023-02-21T17:20:37.399Z"
   },
   {
    "duration": 4,
    "start_time": "2023-02-21T17:20:37.502Z"
   },
   {
    "duration": 134,
    "start_time": "2023-02-21T17:20:37.508Z"
   },
   {
    "duration": 369,
    "start_time": "2023-02-21T17:20:37.644Z"
   },
   {
    "duration": 93,
    "start_time": "2023-02-21T17:20:38.015Z"
   },
   {
    "duration": 129,
    "start_time": "2023-02-21T17:20:38.109Z"
   },
   {
    "duration": 13,
    "start_time": "2023-02-21T17:20:38.240Z"
   },
   {
    "duration": 5,
    "start_time": "2023-02-21T17:20:38.267Z"
   },
   {
    "duration": 67,
    "start_time": "2023-02-21T17:22:50.472Z"
   },
   {
    "duration": 6,
    "start_time": "2023-02-21T17:22:59.648Z"
   },
   {
    "duration": 5,
    "start_time": "2023-02-21T17:23:58.361Z"
   },
   {
    "duration": 50,
    "start_time": "2023-02-21T17:38:05.565Z"
   },
   {
    "duration": 83,
    "start_time": "2023-02-21T17:38:26.064Z"
   },
   {
    "duration": 16,
    "start_time": "2023-02-21T17:40:16.881Z"
   },
   {
    "duration": 30,
    "start_time": "2023-02-21T17:40:17.688Z"
   },
   {
    "duration": 369,
    "start_time": "2023-02-21T17:40:26.822Z"
   },
   {
    "duration": 765,
    "start_time": "2023-02-21T17:40:27.193Z"
   },
   {
    "duration": 24,
    "start_time": "2023-02-21T17:40:27.959Z"
   },
   {
    "duration": 163,
    "start_time": "2023-02-21T17:40:27.985Z"
   },
   {
    "duration": 88,
    "start_time": "2023-02-21T17:40:28.149Z"
   },
   {
    "duration": 2,
    "start_time": "2023-02-21T17:40:28.239Z"
   },
   {
    "duration": 140,
    "start_time": "2023-02-21T17:40:28.243Z"
   },
   {
    "duration": 370,
    "start_time": "2023-02-21T17:40:28.385Z"
   },
   {
    "duration": 88,
    "start_time": "2023-02-21T17:40:28.757Z"
   },
   {
    "duration": 136,
    "start_time": "2023-02-21T17:40:28.847Z"
   },
   {
    "duration": 12,
    "start_time": "2023-02-21T17:40:28.985Z"
   },
   {
    "duration": 44,
    "start_time": "2023-02-21T17:40:28.999Z"
   },
   {
    "duration": 98,
    "start_time": "2023-02-21T17:40:29.045Z"
   },
   {
    "duration": 95,
    "start_time": "2023-02-21T17:41:00.060Z"
   },
   {
    "duration": 43,
    "start_time": "2023-02-21T17:41:26.463Z"
   },
   {
    "duration": 82,
    "start_time": "2023-02-21T17:41:26.813Z"
   },
   {
    "duration": 363,
    "start_time": "2023-02-21T17:41:35.816Z"
   },
   {
    "duration": 888,
    "start_time": "2023-02-21T17:41:36.180Z"
   },
   {
    "duration": 23,
    "start_time": "2023-02-21T17:41:37.070Z"
   },
   {
    "duration": 150,
    "start_time": "2023-02-21T17:41:37.095Z"
   },
   {
    "duration": 103,
    "start_time": "2023-02-21T17:41:37.247Z"
   },
   {
    "duration": 3,
    "start_time": "2023-02-21T17:41:37.352Z"
   },
   {
    "duration": 154,
    "start_time": "2023-02-21T17:41:37.357Z"
   },
   {
    "duration": 390,
    "start_time": "2023-02-21T17:41:37.513Z"
   },
   {
    "duration": 101,
    "start_time": "2023-02-21T17:41:37.904Z"
   },
   {
    "duration": 130,
    "start_time": "2023-02-21T17:41:38.007Z"
   },
   {
    "duration": 14,
    "start_time": "2023-02-21T17:41:38.139Z"
   },
   {
    "duration": 60,
    "start_time": "2023-02-21T17:41:38.155Z"
   },
   {
    "duration": 103,
    "start_time": "2023-02-21T17:41:38.216Z"
   },
   {
    "duration": 113,
    "start_time": "2023-02-21T17:41:38.321Z"
   },
   {
    "duration": 100,
    "start_time": "2023-02-21T18:22:03.432Z"
   },
   {
    "duration": 80,
    "start_time": "2023-02-21T18:22:04.836Z"
   },
   {
    "duration": 120,
    "start_time": "2023-02-21T18:22:15.010Z"
   },
   {
    "duration": 133,
    "start_time": "2023-02-21T18:23:02.932Z"
   },
   {
    "duration": 71,
    "start_time": "2023-02-21T18:23:03.181Z"
   },
   {
    "duration": 99,
    "start_time": "2023-02-21T18:23:08.181Z"
   },
   {
    "duration": 109,
    "start_time": "2023-02-21T18:23:21.923Z"
   },
   {
    "duration": 70,
    "start_time": "2023-02-21T18:23:22.956Z"
   },
   {
    "duration": 376,
    "start_time": "2023-02-21T18:23:27.774Z"
   },
   {
    "duration": 762,
    "start_time": "2023-02-21T18:23:28.152Z"
   },
   {
    "duration": 21,
    "start_time": "2023-02-21T18:23:28.916Z"
   },
   {
    "duration": 145,
    "start_time": "2023-02-21T18:23:28.939Z"
   },
   {
    "duration": 93,
    "start_time": "2023-02-21T18:23:29.086Z"
   },
   {
    "duration": 3,
    "start_time": "2023-02-21T18:23:29.181Z"
   },
   {
    "duration": 139,
    "start_time": "2023-02-21T18:23:29.185Z"
   },
   {
    "duration": 390,
    "start_time": "2023-02-21T18:23:29.325Z"
   },
   {
    "duration": 101,
    "start_time": "2023-02-21T18:23:29.717Z"
   },
   {
    "duration": 128,
    "start_time": "2023-02-21T18:23:29.820Z"
   },
   {
    "duration": 23,
    "start_time": "2023-02-21T18:23:29.950Z"
   },
   {
    "duration": 148,
    "start_time": "2023-02-21T18:23:29.975Z"
   },
   {
    "duration": 75,
    "start_time": "2023-02-21T18:23:30.125Z"
   },
   {
    "duration": 107,
    "start_time": "2023-02-21T18:23:30.201Z"
   },
   {
    "duration": 371,
    "start_time": "2023-02-21T18:24:11.711Z"
   },
   {
    "duration": 792,
    "start_time": "2023-02-21T18:24:12.084Z"
   },
   {
    "duration": 18,
    "start_time": "2023-02-21T18:24:12.880Z"
   },
   {
    "duration": 154,
    "start_time": "2023-02-21T18:24:12.900Z"
   },
   {
    "duration": 88,
    "start_time": "2023-02-21T18:24:13.056Z"
   },
   {
    "duration": 3,
    "start_time": "2023-02-21T18:24:13.145Z"
   },
   {
    "duration": 134,
    "start_time": "2023-02-21T18:24:13.150Z"
   },
   {
    "duration": 384,
    "start_time": "2023-02-21T18:24:13.285Z"
   },
   {
    "duration": 96,
    "start_time": "2023-02-21T18:24:13.671Z"
   },
   {
    "duration": 130,
    "start_time": "2023-02-21T18:24:13.769Z"
   },
   {
    "duration": 13,
    "start_time": "2023-02-21T18:24:13.900Z"
   },
   {
    "duration": 163,
    "start_time": "2023-02-21T18:24:13.915Z"
   },
   {
    "duration": 71,
    "start_time": "2023-02-21T18:24:14.081Z"
   },
   {
    "duration": 105,
    "start_time": "2023-02-21T18:24:14.166Z"
   },
   {
    "duration": 129,
    "start_time": "2023-02-21T18:25:08.174Z"
   },
   {
    "duration": 78,
    "start_time": "2023-02-21T18:25:08.752Z"
   },
   {
    "duration": 356,
    "start_time": "2023-02-21T18:25:17.121Z"
   },
   {
    "duration": 778,
    "start_time": "2023-02-21T18:25:17.479Z"
   },
   {
    "duration": 23,
    "start_time": "2023-02-21T18:25:18.258Z"
   },
   {
    "duration": 150,
    "start_time": "2023-02-21T18:25:18.283Z"
   },
   {
    "duration": 97,
    "start_time": "2023-02-21T18:25:18.435Z"
   },
   {
    "duration": 3,
    "start_time": "2023-02-21T18:25:18.533Z"
   },
   {
    "duration": 142,
    "start_time": "2023-02-21T18:25:18.537Z"
   },
   {
    "duration": 386,
    "start_time": "2023-02-21T18:25:18.681Z"
   },
   {
    "duration": 85,
    "start_time": "2023-02-21T18:25:19.069Z"
   },
   {
    "duration": 132,
    "start_time": "2023-02-21T18:25:19.156Z"
   },
   {
    "duration": 13,
    "start_time": "2023-02-21T18:25:19.290Z"
   },
   {
    "duration": 163,
    "start_time": "2023-02-21T18:25:19.304Z"
   },
   {
    "duration": 73,
    "start_time": "2023-02-21T18:25:19.469Z"
   },
   {
    "duration": 123,
    "start_time": "2023-02-21T18:25:19.545Z"
   },
   {
    "duration": 389,
    "start_time": "2023-02-21T18:26:32.172Z"
   },
   {
    "duration": 801,
    "start_time": "2023-02-21T18:26:32.563Z"
   },
   {
    "duration": 21,
    "start_time": "2023-02-21T18:26:33.367Z"
   },
   {
    "duration": 167,
    "start_time": "2023-02-21T18:26:33.390Z"
   },
   {
    "duration": 96,
    "start_time": "2023-02-21T18:26:33.560Z"
   },
   {
    "duration": 4,
    "start_time": "2023-02-21T18:26:33.667Z"
   },
   {
    "duration": 153,
    "start_time": "2023-02-21T18:26:33.672Z"
   },
   {
    "duration": 399,
    "start_time": "2023-02-21T18:26:33.827Z"
   },
   {
    "duration": 103,
    "start_time": "2023-02-21T18:26:34.228Z"
   },
   {
    "duration": 135,
    "start_time": "2023-02-21T18:26:34.332Z"
   },
   {
    "duration": 21,
    "start_time": "2023-02-21T18:26:34.469Z"
   },
   {
    "duration": 154,
    "start_time": "2023-02-21T18:26:34.492Z"
   },
   {
    "duration": 86,
    "start_time": "2023-02-21T18:26:34.647Z"
   },
   {
    "duration": 142,
    "start_time": "2023-02-21T18:26:34.735Z"
   },
   {
    "duration": 412,
    "start_time": "2023-02-21T18:27:22.848Z"
   },
   {
    "duration": 812,
    "start_time": "2023-02-21T18:27:23.263Z"
   },
   {
    "duration": 20,
    "start_time": "2023-02-21T18:27:24.077Z"
   },
   {
    "duration": 140,
    "start_time": "2023-02-21T18:27:24.099Z"
   },
   {
    "duration": 95,
    "start_time": "2023-02-21T18:27:24.241Z"
   },
   {
    "duration": 3,
    "start_time": "2023-02-21T18:27:24.337Z"
   },
   {
    "duration": 137,
    "start_time": "2023-02-21T18:27:24.342Z"
   },
   {
    "duration": 436,
    "start_time": "2023-02-21T18:27:24.481Z"
   },
   {
    "duration": 129,
    "start_time": "2023-02-21T18:27:24.919Z"
   },
   {
    "duration": 151,
    "start_time": "2023-02-21T18:27:25.050Z"
   },
   {
    "duration": 13,
    "start_time": "2023-02-21T18:27:25.203Z"
   },
   {
    "duration": 167,
    "start_time": "2023-02-21T18:27:25.217Z"
   },
   {
    "duration": 70,
    "start_time": "2023-02-21T18:27:25.386Z"
   },
   {
    "duration": 122,
    "start_time": "2023-02-21T18:27:25.459Z"
   },
   {
    "duration": 369,
    "start_time": "2023-02-21T18:28:15.101Z"
   },
   {
    "duration": 751,
    "start_time": "2023-02-21T18:28:15.472Z"
   },
   {
    "duration": 19,
    "start_time": "2023-02-21T18:28:16.224Z"
   },
   {
    "duration": 134,
    "start_time": "2023-02-21T18:28:16.245Z"
   },
   {
    "duration": 95,
    "start_time": "2023-02-21T18:28:16.381Z"
   },
   {
    "duration": 3,
    "start_time": "2023-02-21T18:28:16.477Z"
   },
   {
    "duration": 130,
    "start_time": "2023-02-21T18:28:16.482Z"
   },
   {
    "duration": 400,
    "start_time": "2023-02-21T18:28:16.613Z"
   },
   {
    "duration": 132,
    "start_time": "2023-02-21T18:28:17.015Z"
   },
   {
    "duration": 128,
    "start_time": "2023-02-21T18:28:17.149Z"
   },
   {
    "duration": 13,
    "start_time": "2023-02-21T18:28:17.278Z"
   },
   {
    "duration": 152,
    "start_time": "2023-02-21T18:28:17.293Z"
   },
   {
    "duration": 81,
    "start_time": "2023-02-21T18:28:17.447Z"
   },
   {
    "duration": 116,
    "start_time": "2023-02-21T18:28:17.530Z"
   },
   {
    "duration": 417,
    "start_time": "2023-02-21T18:29:15.752Z"
   },
   {
    "duration": 770,
    "start_time": "2023-02-21T18:29:16.172Z"
   },
   {
    "duration": 27,
    "start_time": "2023-02-21T18:29:16.944Z"
   },
   {
    "duration": 138,
    "start_time": "2023-02-21T18:29:16.972Z"
   },
   {
    "duration": 101,
    "start_time": "2023-02-21T18:29:17.111Z"
   },
   {
    "duration": 3,
    "start_time": "2023-02-21T18:29:17.214Z"
   },
   {
    "duration": 128,
    "start_time": "2023-02-21T18:29:17.219Z"
   },
   {
    "duration": 384,
    "start_time": "2023-02-21T18:29:17.349Z"
   },
   {
    "duration": 95,
    "start_time": "2023-02-21T18:29:17.734Z"
   },
   {
    "duration": 126,
    "start_time": "2023-02-21T18:29:17.831Z"
   },
   {
    "duration": 19,
    "start_time": "2023-02-21T18:29:17.959Z"
   },
   {
    "duration": 161,
    "start_time": "2023-02-21T18:29:17.980Z"
   },
   {
    "duration": 83,
    "start_time": "2023-02-21T18:29:18.143Z"
   },
   {
    "duration": 109,
    "start_time": "2023-02-21T18:29:18.228Z"
   },
   {
    "duration": 459,
    "start_time": "2023-02-21T18:30:11.129Z"
   },
   {
    "duration": 904,
    "start_time": "2023-02-21T18:30:11.590Z"
   },
   {
    "duration": 21,
    "start_time": "2023-02-21T18:30:12.496Z"
   },
   {
    "duration": 161,
    "start_time": "2023-02-21T18:30:12.519Z"
   },
   {
    "duration": 153,
    "start_time": "2023-02-21T18:30:12.682Z"
   },
   {
    "duration": 3,
    "start_time": "2023-02-21T18:30:12.837Z"
   },
   {
    "duration": 146,
    "start_time": "2023-02-21T18:30:12.842Z"
   },
   {
    "duration": 407,
    "start_time": "2023-02-21T18:30:12.990Z"
   },
   {
    "duration": 105,
    "start_time": "2023-02-21T18:30:13.398Z"
   },
   {
    "duration": 132,
    "start_time": "2023-02-21T18:30:13.506Z"
   },
   {
    "duration": 28,
    "start_time": "2023-02-21T18:30:13.640Z"
   },
   {
    "duration": 171,
    "start_time": "2023-02-21T18:30:13.670Z"
   },
   {
    "duration": 89,
    "start_time": "2023-02-21T18:30:13.843Z"
   },
   {
    "duration": 133,
    "start_time": "2023-02-21T18:30:13.934Z"
   },
   {
    "duration": 391,
    "start_time": "2023-02-21T18:30:42.433Z"
   },
   {
    "duration": 781,
    "start_time": "2023-02-21T18:30:42.826Z"
   },
   {
    "duration": 21,
    "start_time": "2023-02-21T18:30:43.609Z"
   },
   {
    "duration": 148,
    "start_time": "2023-02-21T18:30:43.632Z"
   },
   {
    "duration": 97,
    "start_time": "2023-02-21T18:30:43.782Z"
   },
   {
    "duration": 3,
    "start_time": "2023-02-21T18:30:43.880Z"
   },
   {
    "duration": 129,
    "start_time": "2023-02-21T18:30:43.885Z"
   },
   {
    "duration": 365,
    "start_time": "2023-02-21T18:30:44.015Z"
   },
   {
    "duration": 92,
    "start_time": "2023-02-21T18:30:44.382Z"
   },
   {
    "duration": 127,
    "start_time": "2023-02-21T18:30:44.476Z"
   },
   {
    "duration": 13,
    "start_time": "2023-02-21T18:30:44.605Z"
   },
   {
    "duration": 164,
    "start_time": "2023-02-21T18:30:44.619Z"
   },
   {
    "duration": 75,
    "start_time": "2023-02-21T18:30:44.785Z"
   },
   {
    "duration": 136,
    "start_time": "2023-02-21T18:30:44.867Z"
   },
   {
    "duration": 398,
    "start_time": "2023-02-21T18:31:11.731Z"
   },
   {
    "duration": 837,
    "start_time": "2023-02-21T18:31:12.131Z"
   },
   {
    "duration": 21,
    "start_time": "2023-02-21T18:31:12.969Z"
   },
   {
    "duration": 162,
    "start_time": "2023-02-21T18:31:12.992Z"
   },
   {
    "duration": 95,
    "start_time": "2023-02-21T18:31:13.156Z"
   },
   {
    "duration": 14,
    "start_time": "2023-02-21T18:31:13.253Z"
   },
   {
    "duration": 141,
    "start_time": "2023-02-21T18:31:13.269Z"
   },
   {
    "duration": 409,
    "start_time": "2023-02-21T18:31:13.411Z"
   },
   {
    "duration": 111,
    "start_time": "2023-02-21T18:31:13.822Z"
   },
   {
    "duration": 145,
    "start_time": "2023-02-21T18:31:13.935Z"
   },
   {
    "duration": 15,
    "start_time": "2023-02-21T18:31:14.082Z"
   },
   {
    "duration": 179,
    "start_time": "2023-02-21T18:31:14.099Z"
   },
   {
    "duration": 78,
    "start_time": "2023-02-21T18:31:14.280Z"
   },
   {
    "duration": 120,
    "start_time": "2023-02-21T18:31:14.367Z"
   },
   {
    "duration": 399,
    "start_time": "2023-02-21T18:31:32.569Z"
   },
   {
    "duration": 840,
    "start_time": "2023-02-21T18:31:32.971Z"
   },
   {
    "duration": 22,
    "start_time": "2023-02-21T18:31:33.813Z"
   },
   {
    "duration": 153,
    "start_time": "2023-02-21T18:31:33.838Z"
   },
   {
    "duration": 159,
    "start_time": "2023-02-21T18:31:33.993Z"
   },
   {
    "duration": 4,
    "start_time": "2023-02-21T18:31:34.154Z"
   },
   {
    "duration": 155,
    "start_time": "2023-02-21T18:31:34.166Z"
   },
   {
    "duration": 454,
    "start_time": "2023-02-21T18:31:34.324Z"
   },
   {
    "duration": 129,
    "start_time": "2023-02-21T18:31:34.780Z"
   },
   {
    "duration": 212,
    "start_time": "2023-02-21T18:31:34.912Z"
   },
   {
    "duration": 19,
    "start_time": "2023-02-21T18:31:35.126Z"
   },
   {
    "duration": 197,
    "start_time": "2023-02-21T18:31:35.147Z"
   },
   {
    "duration": 88,
    "start_time": "2023-02-21T18:31:35.347Z"
   },
   {
    "duration": 125,
    "start_time": "2023-02-21T18:31:35.437Z"
   },
   {
    "duration": 5,
    "start_time": "2023-02-21T18:47:18.556Z"
   },
   {
    "duration": 4,
    "start_time": "2023-02-21T18:47:31.602Z"
   },
   {
    "duration": 25,
    "start_time": "2023-02-21T18:58:25.289Z"
   },
   {
    "duration": 77,
    "start_time": "2023-02-21T18:58:36.096Z"
   },
   {
    "duration": 593,
    "start_time": "2023-02-21T19:05:39.333Z"
   },
   {
    "duration": 255,
    "start_time": "2023-02-21T19:05:43.629Z"
   },
   {
    "duration": 656,
    "start_time": "2023-02-21T19:07:54.359Z"
   },
   {
    "duration": 1017,
    "start_time": "2023-02-21T19:08:05.397Z"
   },
   {
    "duration": 822,
    "start_time": "2023-02-21T19:08:06.416Z"
   },
   {
    "duration": 32,
    "start_time": "2023-02-21T19:08:07.239Z"
   },
   {
    "duration": 149,
    "start_time": "2023-02-21T19:08:07.272Z"
   },
   {
    "duration": 104,
    "start_time": "2023-02-21T19:08:07.424Z"
   },
   {
    "duration": 4,
    "start_time": "2023-02-21T19:08:07.529Z"
   },
   {
    "duration": 141,
    "start_time": "2023-02-21T19:08:07.534Z"
   },
   {
    "duration": 396,
    "start_time": "2023-02-21T19:08:07.676Z"
   },
   {
    "duration": 102,
    "start_time": "2023-02-21T19:08:08.073Z"
   },
   {
    "duration": 135,
    "start_time": "2023-02-21T19:08:08.176Z"
   },
   {
    "duration": 14,
    "start_time": "2023-02-21T19:08:08.313Z"
   },
   {
    "duration": 171,
    "start_time": "2023-02-21T19:08:08.328Z"
   },
   {
    "duration": 74,
    "start_time": "2023-02-21T19:08:08.501Z"
   },
   {
    "duration": 111,
    "start_time": "2023-02-21T19:08:08.578Z"
   },
   {
    "duration": 27,
    "start_time": "2023-02-21T19:08:08.691Z"
   },
   {
    "duration": 80,
    "start_time": "2023-02-21T19:08:08.720Z"
   },
   {
    "duration": 148,
    "start_time": "2023-02-21T19:08:08.801Z"
   },
   {
    "duration": 49,
    "start_time": "2023-02-21T19:09:53.802Z"
   },
   {
    "duration": 3,
    "start_time": "2023-02-21T19:11:57.036Z"
   },
   {
    "duration": 79,
    "start_time": "2023-02-21T19:12:21.765Z"
   },
   {
    "duration": 78,
    "start_time": "2023-02-21T19:14:15.993Z"
   },
   {
    "duration": 2,
    "start_time": "2023-02-21T19:18:02.597Z"
   },
   {
    "duration": 9,
    "start_time": "2023-02-21T19:19:04.523Z"
   },
   {
    "duration": 13,
    "start_time": "2023-02-21T19:19:05.009Z"
   },
   {
    "duration": 49,
    "start_time": "2023-02-21T19:19:25.370Z"
   },
   {
    "duration": 3,
    "start_time": "2023-02-21T19:19:30.160Z"
   },
   {
    "duration": 1565,
    "start_time": "2023-02-21T19:19:30.735Z"
   },
   {
    "duration": 0,
    "start_time": "2023-02-21T19:19:32.302Z"
   },
   {
    "duration": 3,
    "start_time": "2023-02-21T19:22:01.116Z"
   },
   {
    "duration": 4,
    "start_time": "2023-02-21T19:22:02.013Z"
   },
   {
    "duration": 1069,
    "start_time": "2023-02-21T19:22:02.602Z"
   },
   {
    "duration": 5,
    "start_time": "2023-02-21T19:23:34.571Z"
   },
   {
    "duration": 16,
    "start_time": "2023-02-21T19:23:42.364Z"
   },
   {
    "duration": 13,
    "start_time": "2023-02-21T19:23:59.654Z"
   },
   {
    "duration": 13,
    "start_time": "2023-02-21T19:24:24.394Z"
   },
   {
    "duration": 11,
    "start_time": "2023-02-21T19:24:37.376Z"
   },
   {
    "duration": 3,
    "start_time": "2023-02-21T19:24:46.590Z"
   },
   {
    "duration": 3,
    "start_time": "2023-02-21T19:24:47.363Z"
   },
   {
    "duration": 2522,
    "start_time": "2023-02-21T19:24:47.667Z"
   },
   {
    "duration": 46,
    "start_time": "2023-02-21T19:27:39.136Z"
   },
   {
    "duration": 8,
    "start_time": "2023-02-21T19:27:40.052Z"
   },
   {
    "duration": 1191,
    "start_time": "2023-02-21T19:27:57.867Z"
   },
   {
    "duration": 861,
    "start_time": "2023-02-21T19:27:59.059Z"
   },
   {
    "duration": 20,
    "start_time": "2023-02-21T19:27:59.922Z"
   },
   {
    "duration": 162,
    "start_time": "2023-02-21T19:27:59.944Z"
   },
   {
    "duration": 105,
    "start_time": "2023-02-21T19:28:00.108Z"
   },
   {
    "duration": 4,
    "start_time": "2023-02-21T19:28:00.215Z"
   },
   {
    "duration": 154,
    "start_time": "2023-02-21T19:28:00.220Z"
   },
   {
    "duration": 440,
    "start_time": "2023-02-21T19:28:00.376Z"
   },
   {
    "duration": 65,
    "start_time": "2023-02-21T19:28:00.818Z"
   },
   {
    "duration": 126,
    "start_time": "2023-02-21T19:28:00.885Z"
   },
   {
    "duration": 133,
    "start_time": "2023-02-21T19:28:01.013Z"
   },
   {
    "duration": 0,
    "start_time": "2023-02-21T19:28:01.148Z"
   },
   {
    "duration": 0,
    "start_time": "2023-02-21T19:28:01.149Z"
   },
   {
    "duration": 0,
    "start_time": "2023-02-21T19:28:01.151Z"
   },
   {
    "duration": 0,
    "start_time": "2023-02-21T19:28:01.152Z"
   },
   {
    "duration": 0,
    "start_time": "2023-02-21T19:28:01.153Z"
   },
   {
    "duration": 0,
    "start_time": "2023-02-21T19:28:01.154Z"
   },
   {
    "duration": 0,
    "start_time": "2023-02-21T19:28:01.155Z"
   },
   {
    "duration": 0,
    "start_time": "2023-02-21T19:28:01.167Z"
   },
   {
    "duration": 0,
    "start_time": "2023-02-21T19:28:01.168Z"
   },
   {
    "duration": 0,
    "start_time": "2023-02-21T19:28:01.170Z"
   },
   {
    "duration": 0,
    "start_time": "2023-02-21T19:28:01.170Z"
   },
   {
    "duration": 0,
    "start_time": "2023-02-21T19:28:01.171Z"
   },
   {
    "duration": 0,
    "start_time": "2023-02-21T19:28:01.173Z"
   },
   {
    "duration": 2,
    "start_time": "2023-02-21T19:30:32.588Z"
   },
   {
    "duration": 8,
    "start_time": "2023-02-21T19:30:35.785Z"
   },
   {
    "duration": 9,
    "start_time": "2023-02-21T19:30:53.543Z"
   },
   {
    "duration": 1098,
    "start_time": "2023-02-21T19:31:14.556Z"
   },
   {
    "duration": 776,
    "start_time": "2023-02-21T19:31:15.655Z"
   },
   {
    "duration": 18,
    "start_time": "2023-02-21T19:31:16.433Z"
   },
   {
    "duration": 140,
    "start_time": "2023-02-21T19:31:16.452Z"
   },
   {
    "duration": 122,
    "start_time": "2023-02-21T19:31:16.595Z"
   },
   {
    "duration": 4,
    "start_time": "2023-02-21T19:31:16.719Z"
   },
   {
    "duration": 149,
    "start_time": "2023-02-21T19:31:16.725Z"
   },
   {
    "duration": 401,
    "start_time": "2023-02-21T19:31:16.876Z"
   },
   {
    "duration": 50,
    "start_time": "2023-02-21T19:31:17.279Z"
   },
   {
    "duration": 16,
    "start_time": "2023-02-21T19:31:17.331Z"
   },
   {
    "duration": 126,
    "start_time": "2023-02-21T19:31:17.366Z"
   },
   {
    "duration": 13,
    "start_time": "2023-02-21T19:31:17.493Z"
   },
   {
    "duration": 162,
    "start_time": "2023-02-21T19:31:17.507Z"
   },
   {
    "duration": 76,
    "start_time": "2023-02-21T19:31:17.672Z"
   },
   {
    "duration": 123,
    "start_time": "2023-02-21T19:31:17.750Z"
   },
   {
    "duration": 36,
    "start_time": "2023-02-21T19:31:17.875Z"
   },
   {
    "duration": 70,
    "start_time": "2023-02-21T19:31:17.913Z"
   },
   {
    "duration": 18,
    "start_time": "2023-02-21T19:31:17.984Z"
   },
   {
    "duration": 81,
    "start_time": "2023-02-21T19:31:18.004Z"
   },
   {
    "duration": 81,
    "start_time": "2023-02-21T19:31:18.086Z"
   },
   {
    "duration": 3,
    "start_time": "2023-02-21T19:31:18.169Z"
   },
   {
    "duration": 26,
    "start_time": "2023-02-21T19:31:18.173Z"
   },
   {
    "duration": 2631,
    "start_time": "2023-02-21T19:31:18.201Z"
   },
   {
    "duration": 0,
    "start_time": "2023-02-21T19:31:20.834Z"
   },
   {
    "duration": 4,
    "start_time": "2023-02-21T19:36:29.612Z"
   },
   {
    "duration": 1146,
    "start_time": "2023-02-21T19:37:01.861Z"
   },
   {
    "duration": 836,
    "start_time": "2023-02-21T19:37:03.009Z"
   },
   {
    "duration": 29,
    "start_time": "2023-02-21T19:37:03.846Z"
   },
   {
    "duration": 161,
    "start_time": "2023-02-21T19:37:03.877Z"
   },
   {
    "duration": 105,
    "start_time": "2023-02-21T19:37:04.041Z"
   },
   {
    "duration": 4,
    "start_time": "2023-02-21T19:37:04.148Z"
   },
   {
    "duration": 166,
    "start_time": "2023-02-21T19:37:04.153Z"
   },
   {
    "duration": 429,
    "start_time": "2023-02-21T19:37:04.321Z"
   },
   {
    "duration": 64,
    "start_time": "2023-02-21T19:37:04.751Z"
   },
   {
    "duration": 18,
    "start_time": "2023-02-21T19:37:04.817Z"
   },
   {
    "duration": 192,
    "start_time": "2023-02-21T19:37:04.837Z"
   },
   {
    "duration": 20,
    "start_time": "2023-02-21T19:37:05.031Z"
   },
   {
    "duration": 178,
    "start_time": "2023-02-21T19:37:05.067Z"
   },
   {
    "duration": 83,
    "start_time": "2023-02-21T19:37:05.247Z"
   },
   {
    "duration": 114,
    "start_time": "2023-02-21T19:37:05.332Z"
   },
   {
    "duration": 39,
    "start_time": "2023-02-21T19:37:05.447Z"
   },
   {
    "duration": 84,
    "start_time": "2023-02-21T19:37:05.488Z"
   },
   {
    "duration": 3,
    "start_time": "2023-02-21T19:37:05.574Z"
   },
   {
    "duration": 79,
    "start_time": "2023-02-21T19:37:05.579Z"
   },
   {
    "duration": 77,
    "start_time": "2023-02-21T19:37:05.666Z"
   },
   {
    "duration": 3,
    "start_time": "2023-02-21T19:37:05.745Z"
   },
   {
    "duration": 22,
    "start_time": "2023-02-21T19:37:05.750Z"
   },
   {
    "duration": 2539,
    "start_time": "2023-02-21T19:37:05.774Z"
   },
   {
    "duration": 0,
    "start_time": "2023-02-21T19:37:08.314Z"
   },
   {
    "duration": 1122,
    "start_time": "2023-02-22T10:20:43.877Z"
   },
   {
    "duration": 1054,
    "start_time": "2023-02-22T10:21:34.455Z"
   },
   {
    "duration": 985,
    "start_time": "2023-02-22T10:21:35.510Z"
   },
   {
    "duration": 21,
    "start_time": "2023-02-22T10:21:36.497Z"
   },
   {
    "duration": 122,
    "start_time": "2023-02-22T10:21:36.520Z"
   },
   {
    "duration": 103,
    "start_time": "2023-02-22T10:21:36.644Z"
   },
   {
    "duration": 4,
    "start_time": "2023-02-22T10:21:36.748Z"
   },
   {
    "duration": 122,
    "start_time": "2023-02-22T10:21:36.753Z"
   },
   {
    "duration": 627,
    "start_time": "2023-02-22T10:21:36.876Z"
   },
   {
    "duration": 59,
    "start_time": "2023-02-22T10:21:37.505Z"
   },
   {
    "duration": 19,
    "start_time": "2023-02-22T10:21:37.565Z"
   },
   {
    "duration": 144,
    "start_time": "2023-02-22T10:21:37.586Z"
   },
   {
    "duration": 14,
    "start_time": "2023-02-22T10:21:37.731Z"
   },
   {
    "duration": 165,
    "start_time": "2023-02-22T10:21:37.746Z"
   },
   {
    "duration": 77,
    "start_time": "2023-02-22T10:21:37.914Z"
   },
   {
    "duration": 104,
    "start_time": "2023-02-22T10:21:37.992Z"
   },
   {
    "duration": 36,
    "start_time": "2023-02-22T10:21:38.097Z"
   },
   {
    "duration": 75,
    "start_time": "2023-02-22T10:21:38.135Z"
   },
   {
    "duration": 2,
    "start_time": "2023-02-22T10:21:38.212Z"
   },
   {
    "duration": 79,
    "start_time": "2023-02-22T10:21:38.215Z"
   },
   {
    "duration": 68,
    "start_time": "2023-02-22T10:21:38.296Z"
   },
   {
    "duration": 2,
    "start_time": "2023-02-22T10:21:38.366Z"
   },
   {
    "duration": 10,
    "start_time": "2023-02-22T10:21:38.370Z"
   },
   {
    "duration": 116,
    "start_time": "2023-02-22T10:21:38.381Z"
   },
   {
    "duration": 0,
    "start_time": "2023-02-22T10:21:38.499Z"
   },
   {
    "duration": 1578,
    "start_time": "2023-02-22T10:22:03.169Z"
   },
   {
    "duration": 3,
    "start_time": "2023-02-22T10:26:09.699Z"
   },
   {
    "duration": 2,
    "start_time": "2023-02-22T10:26:19.637Z"
   },
   {
    "duration": 38,
    "start_time": "2023-02-22T10:29:47.166Z"
   },
   {
    "duration": 1092,
    "start_time": "2023-02-22T10:31:25.393Z"
   },
   {
    "duration": 793,
    "start_time": "2023-02-22T10:31:26.487Z"
   },
   {
    "duration": 28,
    "start_time": "2023-02-22T10:31:27.282Z"
   },
   {
    "duration": 129,
    "start_time": "2023-02-22T10:31:27.311Z"
   },
   {
    "duration": 111,
    "start_time": "2023-02-22T10:31:27.443Z"
   },
   {
    "duration": 4,
    "start_time": "2023-02-22T10:31:27.556Z"
   },
   {
    "duration": 127,
    "start_time": "2023-02-22T10:31:27.562Z"
   },
   {
    "duration": 388,
    "start_time": "2023-02-22T10:31:27.691Z"
   },
   {
    "duration": 32,
    "start_time": "2023-02-22T10:31:28.080Z"
   },
   {
    "duration": 17,
    "start_time": "2023-02-22T10:31:28.113Z"
   },
   {
    "duration": 123,
    "start_time": "2023-02-22T10:31:28.131Z"
   },
   {
    "duration": 16,
    "start_time": "2023-02-22T10:31:28.255Z"
   },
   {
    "duration": 157,
    "start_time": "2023-02-22T10:31:28.272Z"
   },
   {
    "duration": 80,
    "start_time": "2023-02-22T10:31:28.432Z"
   },
   {
    "duration": 108,
    "start_time": "2023-02-22T10:31:28.514Z"
   },
   {
    "duration": 28,
    "start_time": "2023-02-22T10:31:28.625Z"
   },
   {
    "duration": 76,
    "start_time": "2023-02-22T10:31:28.655Z"
   },
   {
    "duration": 55,
    "start_time": "2023-02-22T10:31:28.733Z"
   },
   {
    "duration": 76,
    "start_time": "2023-02-22T10:31:28.789Z"
   },
   {
    "duration": 86,
    "start_time": "2023-02-22T10:31:28.868Z"
   },
   {
    "duration": 119,
    "start_time": "2023-02-22T10:31:28.956Z"
   },
   {
    "duration": 0,
    "start_time": "2023-02-22T10:31:29.077Z"
   },
   {
    "duration": 0,
    "start_time": "2023-02-22T10:31:29.078Z"
   },
   {
    "duration": 0,
    "start_time": "2023-02-22T10:31:29.080Z"
   },
   {
    "duration": 0,
    "start_time": "2023-02-22T10:31:29.081Z"
   },
   {
    "duration": 2005,
    "start_time": "2023-02-22T10:31:55.529Z"
   },
   {
    "duration": 1195,
    "start_time": "2023-02-22T10:32:22.239Z"
   },
   {
    "duration": 821,
    "start_time": "2023-02-22T10:32:23.436Z"
   },
   {
    "duration": 30,
    "start_time": "2023-02-22T10:32:24.258Z"
   },
   {
    "duration": 169,
    "start_time": "2023-02-22T10:32:24.291Z"
   },
   {
    "duration": 108,
    "start_time": "2023-02-22T10:32:24.462Z"
   },
   {
    "duration": 4,
    "start_time": "2023-02-22T10:32:24.571Z"
   },
   {
    "duration": 121,
    "start_time": "2023-02-22T10:32:24.576Z"
   },
   {
    "duration": 509,
    "start_time": "2023-02-22T10:32:24.698Z"
   },
   {
    "duration": 22,
    "start_time": "2023-02-22T10:32:25.208Z"
   },
   {
    "duration": 16,
    "start_time": "2023-02-22T10:32:25.233Z"
   },
   {
    "duration": 137,
    "start_time": "2023-02-22T10:32:25.251Z"
   },
   {
    "duration": 21,
    "start_time": "2023-02-22T10:32:25.390Z"
   },
   {
    "duration": 149,
    "start_time": "2023-02-22T10:32:25.412Z"
   },
   {
    "duration": 82,
    "start_time": "2023-02-22T10:32:25.563Z"
   },
   {
    "duration": 104,
    "start_time": "2023-02-22T10:32:25.646Z"
   },
   {
    "duration": 27,
    "start_time": "2023-02-22T10:32:25.752Z"
   },
   {
    "duration": 83,
    "start_time": "2023-02-22T10:32:25.781Z"
   },
   {
    "duration": 66,
    "start_time": "2023-02-22T10:32:25.866Z"
   },
   {
    "duration": 76,
    "start_time": "2023-02-22T10:32:25.934Z"
   },
   {
    "duration": 2,
    "start_time": "2023-02-22T10:32:26.012Z"
   },
   {
    "duration": 15,
    "start_time": "2023-02-22T10:32:26.016Z"
   },
   {
    "duration": 35,
    "start_time": "2023-02-22T10:32:26.033Z"
   },
   {
    "duration": 5,
    "start_time": "2023-02-22T10:32:26.070Z"
   },
   {
    "duration": 4703,
    "start_time": "2023-02-22T10:32:26.076Z"
   },
   {
    "duration": 0,
    "start_time": "2023-02-22T10:32:30.780Z"
   },
   {
    "duration": 1103,
    "start_time": "2023-02-22T10:33:37.494Z"
   },
   {
    "duration": 807,
    "start_time": "2023-02-22T10:33:38.599Z"
   },
   {
    "duration": 23,
    "start_time": "2023-02-22T10:33:39.407Z"
   },
   {
    "duration": 131,
    "start_time": "2023-02-22T10:33:39.432Z"
   },
   {
    "duration": 112,
    "start_time": "2023-02-22T10:33:39.565Z"
   },
   {
    "duration": 3,
    "start_time": "2023-02-22T10:33:39.679Z"
   },
   {
    "duration": 119,
    "start_time": "2023-02-22T10:33:39.684Z"
   },
   {
    "duration": 395,
    "start_time": "2023-02-22T10:33:39.806Z"
   },
   {
    "duration": 27,
    "start_time": "2023-02-22T10:33:40.202Z"
   },
   {
    "duration": 17,
    "start_time": "2023-02-22T10:33:40.232Z"
   },
   {
    "duration": 127,
    "start_time": "2023-02-22T10:33:40.251Z"
   },
   {
    "duration": 14,
    "start_time": "2023-02-22T10:33:40.380Z"
   },
   {
    "duration": 157,
    "start_time": "2023-02-22T10:33:40.395Z"
   },
   {
    "duration": 92,
    "start_time": "2023-02-22T10:33:40.554Z"
   },
   {
    "duration": 109,
    "start_time": "2023-02-22T10:33:40.648Z"
   },
   {
    "duration": 29,
    "start_time": "2023-02-22T10:33:40.758Z"
   },
   {
    "duration": 80,
    "start_time": "2023-02-22T10:33:40.789Z"
   },
   {
    "duration": 67,
    "start_time": "2023-02-22T10:33:40.870Z"
   },
   {
    "duration": 76,
    "start_time": "2023-02-22T10:33:40.938Z"
   },
   {
    "duration": 72,
    "start_time": "2023-02-22T10:33:41.016Z"
   },
   {
    "duration": 2031,
    "start_time": "2023-02-22T10:33:41.089Z"
   },
   {
    "duration": 3,
    "start_time": "2023-02-22T10:33:43.122Z"
   },
   {
    "duration": 9,
    "start_time": "2023-02-22T10:33:43.126Z"
   },
   {
    "duration": 1808,
    "start_time": "2023-02-22T10:33:43.137Z"
   },
   {
    "duration": 0,
    "start_time": "2023-02-22T10:33:44.947Z"
   },
   {
    "duration": 15,
    "start_time": "2023-02-22T10:38:50.753Z"
   },
   {
    "duration": 8,
    "start_time": "2023-02-22T10:40:00.117Z"
   },
   {
    "duration": 3,
    "start_time": "2023-02-22T10:40:16.320Z"
   },
   {
    "duration": 5,
    "start_time": "2023-02-22T10:40:24.753Z"
   },
   {
    "duration": 734,
    "start_time": "2023-02-22T10:40:41.681Z"
   },
   {
    "duration": 2,
    "start_time": "2023-02-22T10:40:57.601Z"
   },
   {
    "duration": 1104,
    "start_time": "2023-02-22T10:44:06.620Z"
   },
   {
    "duration": 804,
    "start_time": "2023-02-22T10:44:07.726Z"
   },
   {
    "duration": 22,
    "start_time": "2023-02-22T10:44:08.531Z"
   },
   {
    "duration": 139,
    "start_time": "2023-02-22T10:44:08.555Z"
   },
   {
    "duration": 99,
    "start_time": "2023-02-22T10:44:08.696Z"
   },
   {
    "duration": 15,
    "start_time": "2023-02-22T10:44:08.796Z"
   },
   {
    "duration": 118,
    "start_time": "2023-02-22T10:44:08.813Z"
   },
   {
    "duration": 415,
    "start_time": "2023-02-22T10:44:08.933Z"
   },
   {
    "duration": 22,
    "start_time": "2023-02-22T10:44:09.350Z"
   },
   {
    "duration": 70,
    "start_time": "2023-02-22T10:44:09.374Z"
   },
   {
    "duration": 144,
    "start_time": "2023-02-22T10:44:09.446Z"
   },
   {
    "duration": 21,
    "start_time": "2023-02-22T10:44:09.592Z"
   },
   {
    "duration": 156,
    "start_time": "2023-02-22T10:44:09.615Z"
   },
   {
    "duration": 86,
    "start_time": "2023-02-22T10:44:09.774Z"
   },
   {
    "duration": 108,
    "start_time": "2023-02-22T10:44:09.862Z"
   },
   {
    "duration": 39,
    "start_time": "2023-02-22T10:44:09.972Z"
   },
   {
    "duration": 90,
    "start_time": "2023-02-22T10:44:10.013Z"
   },
   {
    "duration": 461,
    "start_time": "2023-02-22T10:44:10.104Z"
   },
   {
    "duration": 344,
    "start_time": "2023-02-22T10:44:10.567Z"
   },
   {
    "duration": 282,
    "start_time": "2023-02-22T10:44:10.912Z"
   },
   {
    "duration": 3,
    "start_time": "2023-02-22T10:44:11.195Z"
   },
   {
    "duration": 130,
    "start_time": "2023-02-22T10:44:11.199Z"
   },
   {
    "duration": 0,
    "start_time": "2023-02-22T10:44:11.331Z"
   },
   {
    "duration": 0,
    "start_time": "2023-02-22T10:44:11.332Z"
   },
   {
    "duration": 0,
    "start_time": "2023-02-22T10:44:11.333Z"
   },
   {
    "duration": 0,
    "start_time": "2023-02-22T10:44:11.335Z"
   },
   {
    "duration": 0,
    "start_time": "2023-02-22T10:44:11.336Z"
   },
   {
    "duration": 0,
    "start_time": "2023-02-22T10:44:11.337Z"
   },
   {
    "duration": 26,
    "start_time": "2023-02-22T10:44:24.169Z"
   },
   {
    "duration": 2,
    "start_time": "2023-02-22T10:45:04.128Z"
   },
   {
    "duration": 4,
    "start_time": "2023-02-22T10:45:05.719Z"
   },
   {
    "duration": 3,
    "start_time": "2023-02-22T10:45:13.088Z"
   },
   {
    "duration": 3403,
    "start_time": "2023-02-22T10:45:14.383Z"
   },
   {
    "duration": 8,
    "start_time": "2023-02-22T10:45:47.829Z"
   },
   {
    "duration": 10,
    "start_time": "2023-02-22T10:46:01.156Z"
   },
   {
    "duration": 3,
    "start_time": "2023-02-22T10:57:45.636Z"
   },
   {
    "duration": 9,
    "start_time": "2023-02-22T11:27:16.553Z"
   },
   {
    "duration": 37,
    "start_time": "2023-02-22T11:27:24.768Z"
   },
   {
    "duration": 5,
    "start_time": "2023-02-22T11:27:46.683Z"
   },
   {
    "duration": 4,
    "start_time": "2023-02-22T11:31:39.854Z"
   },
   {
    "duration": 12,
    "start_time": "2023-02-22T11:40:31.437Z"
   },
   {
    "duration": 43,
    "start_time": "2023-02-22T11:41:16.967Z"
   },
   {
    "duration": 37,
    "start_time": "2023-02-22T11:43:43.959Z"
   },
   {
    "duration": 1067,
    "start_time": "2023-02-22T11:44:35.522Z"
   },
   {
    "duration": 810,
    "start_time": "2023-02-22T11:44:36.591Z"
   },
   {
    "duration": 25,
    "start_time": "2023-02-22T11:44:37.403Z"
   },
   {
    "duration": 139,
    "start_time": "2023-02-22T11:44:37.430Z"
   },
   {
    "duration": 100,
    "start_time": "2023-02-22T11:44:37.572Z"
   },
   {
    "duration": 3,
    "start_time": "2023-02-22T11:44:37.674Z"
   },
   {
    "duration": 123,
    "start_time": "2023-02-22T11:44:37.679Z"
   },
   {
    "duration": 403,
    "start_time": "2023-02-22T11:44:37.804Z"
   },
   {
    "duration": 32,
    "start_time": "2023-02-22T11:44:38.210Z"
   },
   {
    "duration": 33,
    "start_time": "2023-02-22T11:44:38.244Z"
   },
   {
    "duration": 50,
    "start_time": "2023-02-22T11:44:38.278Z"
   },
   {
    "duration": 42,
    "start_time": "2023-02-22T11:44:38.330Z"
   },
   {
    "duration": 130,
    "start_time": "2023-02-22T11:44:38.374Z"
   },
   {
    "duration": 0,
    "start_time": "2023-02-22T11:44:38.510Z"
   },
   {
    "duration": 0,
    "start_time": "2023-02-22T11:44:38.511Z"
   },
   {
    "duration": 0,
    "start_time": "2023-02-22T11:44:38.512Z"
   },
   {
    "duration": 0,
    "start_time": "2023-02-22T11:44:38.513Z"
   },
   {
    "duration": 0,
    "start_time": "2023-02-22T11:44:38.514Z"
   },
   {
    "duration": 0,
    "start_time": "2023-02-22T11:44:38.515Z"
   },
   {
    "duration": 0,
    "start_time": "2023-02-22T11:44:38.516Z"
   },
   {
    "duration": 0,
    "start_time": "2023-02-22T11:44:38.518Z"
   },
   {
    "duration": 0,
    "start_time": "2023-02-22T11:44:38.519Z"
   },
   {
    "duration": 0,
    "start_time": "2023-02-22T11:44:38.520Z"
   },
   {
    "duration": 0,
    "start_time": "2023-02-22T11:44:38.522Z"
   },
   {
    "duration": 0,
    "start_time": "2023-02-22T11:44:38.523Z"
   },
   {
    "duration": 1,
    "start_time": "2023-02-22T11:44:38.524Z"
   },
   {
    "duration": 0,
    "start_time": "2023-02-22T11:44:38.526Z"
   },
   {
    "duration": 0,
    "start_time": "2023-02-22T11:44:38.530Z"
   },
   {
    "duration": 0,
    "start_time": "2023-02-22T11:44:38.532Z"
   },
   {
    "duration": 0,
    "start_time": "2023-02-22T11:44:38.532Z"
   },
   {
    "duration": 0,
    "start_time": "2023-02-22T11:44:38.533Z"
   },
   {
    "duration": 0,
    "start_time": "2023-02-22T11:44:38.535Z"
   },
   {
    "duration": 0,
    "start_time": "2023-02-22T11:44:38.536Z"
   },
   {
    "duration": 0,
    "start_time": "2023-02-22T11:44:38.537Z"
   },
   {
    "duration": 9,
    "start_time": "2023-02-22T11:45:34.023Z"
   },
   {
    "duration": 8,
    "start_time": "2023-02-22T11:46:14.718Z"
   },
   {
    "duration": 9,
    "start_time": "2023-02-22T11:47:33.154Z"
   },
   {
    "duration": 1176,
    "start_time": "2023-02-22T11:47:47.818Z"
   },
   {
    "duration": 777,
    "start_time": "2023-02-22T11:47:48.996Z"
   },
   {
    "duration": 26,
    "start_time": "2023-02-22T11:47:49.775Z"
   },
   {
    "duration": 144,
    "start_time": "2023-02-22T11:47:49.809Z"
   },
   {
    "duration": 105,
    "start_time": "2023-02-22T11:47:49.955Z"
   },
   {
    "duration": 4,
    "start_time": "2023-02-22T11:47:50.062Z"
   },
   {
    "duration": 210,
    "start_time": "2023-02-22T11:47:50.068Z"
   },
   {
    "duration": 397,
    "start_time": "2023-02-22T11:47:50.280Z"
   },
   {
    "duration": 36,
    "start_time": "2023-02-22T11:47:50.678Z"
   },
   {
    "duration": 43,
    "start_time": "2023-02-22T11:47:50.715Z"
   },
   {
    "duration": 48,
    "start_time": "2023-02-22T11:47:50.760Z"
   },
   {
    "duration": 58,
    "start_time": "2023-02-22T11:47:50.810Z"
   },
   {
    "duration": 121,
    "start_time": "2023-02-22T11:47:50.870Z"
   },
   {
    "duration": 0,
    "start_time": "2023-02-22T11:47:50.994Z"
   },
   {
    "duration": 0,
    "start_time": "2023-02-22T11:47:50.996Z"
   },
   {
    "duration": 0,
    "start_time": "2023-02-22T11:47:50.997Z"
   },
   {
    "duration": 0,
    "start_time": "2023-02-22T11:47:50.999Z"
   },
   {
    "duration": 0,
    "start_time": "2023-02-22T11:47:51.010Z"
   },
   {
    "duration": 0,
    "start_time": "2023-02-22T11:47:51.012Z"
   },
   {
    "duration": 0,
    "start_time": "2023-02-22T11:47:51.013Z"
   },
   {
    "duration": 0,
    "start_time": "2023-02-22T11:47:51.015Z"
   },
   {
    "duration": 0,
    "start_time": "2023-02-22T11:47:51.017Z"
   },
   {
    "duration": 0,
    "start_time": "2023-02-22T11:47:51.018Z"
   },
   {
    "duration": 0,
    "start_time": "2023-02-22T11:47:51.019Z"
   },
   {
    "duration": 0,
    "start_time": "2023-02-22T11:47:51.021Z"
   },
   {
    "duration": 0,
    "start_time": "2023-02-22T11:47:51.022Z"
   },
   {
    "duration": 0,
    "start_time": "2023-02-22T11:47:51.023Z"
   },
   {
    "duration": 0,
    "start_time": "2023-02-22T11:47:51.024Z"
   },
   {
    "duration": 0,
    "start_time": "2023-02-22T11:47:51.025Z"
   },
   {
    "duration": 0,
    "start_time": "2023-02-22T11:47:51.026Z"
   },
   {
    "duration": 0,
    "start_time": "2023-02-22T11:47:51.027Z"
   },
   {
    "duration": 0,
    "start_time": "2023-02-22T11:47:51.028Z"
   },
   {
    "duration": 0,
    "start_time": "2023-02-22T11:47:51.030Z"
   },
   {
    "duration": 0,
    "start_time": "2023-02-22T11:47:51.030Z"
   },
   {
    "duration": 10,
    "start_time": "2023-02-22T11:48:06.235Z"
   },
   {
    "duration": 9,
    "start_time": "2023-02-22T11:48:23.753Z"
   },
   {
    "duration": 8,
    "start_time": "2023-02-22T11:48:57.828Z"
   },
   {
    "duration": 1142,
    "start_time": "2023-02-22T11:49:17.647Z"
   },
   {
    "duration": 784,
    "start_time": "2023-02-22T11:49:18.791Z"
   },
   {
    "duration": 22,
    "start_time": "2023-02-22T11:49:19.576Z"
   },
   {
    "duration": 124,
    "start_time": "2023-02-22T11:49:19.599Z"
   },
   {
    "duration": 107,
    "start_time": "2023-02-22T11:49:19.726Z"
   },
   {
    "duration": 4,
    "start_time": "2023-02-22T11:49:19.834Z"
   },
   {
    "duration": 117,
    "start_time": "2023-02-22T11:49:19.840Z"
   },
   {
    "duration": 386,
    "start_time": "2023-02-22T11:49:19.958Z"
   },
   {
    "duration": 30,
    "start_time": "2023-02-22T11:49:20.346Z"
   },
   {
    "duration": 49,
    "start_time": "2023-02-22T11:49:20.378Z"
   },
   {
    "duration": 33,
    "start_time": "2023-02-22T11:49:20.429Z"
   },
   {
    "duration": 64,
    "start_time": "2023-02-22T11:49:20.464Z"
   },
   {
    "duration": 30,
    "start_time": "2023-02-22T11:49:20.530Z"
   },
   {
    "duration": 31,
    "start_time": "2023-02-22T11:49:20.564Z"
   },
   {
    "duration": 129,
    "start_time": "2023-02-22T11:49:20.597Z"
   },
   {
    "duration": 4,
    "start_time": "2023-02-22T11:49:20.728Z"
   },
   {
    "duration": 20,
    "start_time": "2023-02-22T11:49:20.733Z"
   },
   {
    "duration": 157,
    "start_time": "2023-02-22T11:49:20.754Z"
   },
   {
    "duration": 77,
    "start_time": "2023-02-22T11:49:20.913Z"
   },
   {
    "duration": 106,
    "start_time": "2023-02-22T11:49:20.992Z"
   },
   {
    "duration": 33,
    "start_time": "2023-02-22T11:49:21.099Z"
   },
   {
    "duration": 87,
    "start_time": "2023-02-22T11:49:21.134Z"
   },
   {
    "duration": 474,
    "start_time": "2023-02-22T11:49:21.223Z"
   },
   {
    "duration": 342,
    "start_time": "2023-02-22T11:49:21.698Z"
   },
   {
    "duration": 291,
    "start_time": "2023-02-22T11:49:22.042Z"
   },
   {
    "duration": 2,
    "start_time": "2023-02-22T11:49:22.335Z"
   },
   {
    "duration": 4,
    "start_time": "2023-02-22T11:49:22.339Z"
   },
   {
    "duration": 32,
    "start_time": "2023-02-22T11:49:22.345Z"
   },
   {
    "duration": 2,
    "start_time": "2023-02-22T11:49:22.379Z"
   },
   {
    "duration": 6,
    "start_time": "2023-02-22T11:49:22.383Z"
   },
   {
    "duration": 7,
    "start_time": "2023-02-22T11:49:22.390Z"
   },
   {
    "duration": 3362,
    "start_time": "2023-02-22T11:49:22.399Z"
   },
   {
    "duration": 38,
    "start_time": "2023-02-22T11:49:25.763Z"
   },
   {
    "duration": 6,
    "start_time": "2023-02-22T11:49:25.803Z"
   },
   {
    "duration": 526,
    "start_time": "2023-02-22T13:04:08.243Z"
   },
   {
    "duration": 5,
    "start_time": "2023-02-22T13:04:34.053Z"
   },
   {
    "duration": 4,
    "start_time": "2023-02-22T13:04:50.278Z"
   },
   {
    "duration": 4,
    "start_time": "2023-02-22T13:09:59.153Z"
   },
   {
    "duration": 3,
    "start_time": "2023-02-22T13:10:06.668Z"
   },
   {
    "duration": 48,
    "start_time": "2023-02-22T13:10:14.292Z"
   },
   {
    "duration": 67,
    "start_time": "2023-02-22T13:13:15.493Z"
   },
   {
    "duration": 791,
    "start_time": "2023-02-22T13:15:06.996Z"
   },
   {
    "duration": 599,
    "start_time": "2023-02-22T13:17:18.780Z"
   },
   {
    "duration": 140,
    "start_time": "2023-02-22T13:17:45.724Z"
   },
   {
    "duration": 4,
    "start_time": "2023-02-22T13:17:52.203Z"
   },
   {
    "duration": 43,
    "start_time": "2023-02-22T13:17:59.033Z"
   },
   {
    "duration": 41,
    "start_time": "2023-02-22T13:18:27.778Z"
   },
   {
    "duration": 1035,
    "start_time": "2023-02-22T13:18:34.164Z"
   },
   {
    "duration": 771,
    "start_time": "2023-02-22T13:18:35.201Z"
   },
   {
    "duration": 21,
    "start_time": "2023-02-22T13:18:35.973Z"
   },
   {
    "duration": 127,
    "start_time": "2023-02-22T13:18:35.995Z"
   },
   {
    "duration": 137,
    "start_time": "2023-02-22T13:18:36.124Z"
   },
   {
    "duration": 3,
    "start_time": "2023-02-22T13:18:36.262Z"
   },
   {
    "duration": 120,
    "start_time": "2023-02-22T13:18:36.266Z"
   },
   {
    "duration": 430,
    "start_time": "2023-02-22T13:18:36.387Z"
   },
   {
    "duration": 39,
    "start_time": "2023-02-22T13:18:36.819Z"
   },
   {
    "duration": 51,
    "start_time": "2023-02-22T13:18:36.860Z"
   },
   {
    "duration": 44,
    "start_time": "2023-02-22T13:18:36.913Z"
   },
   {
    "duration": 46,
    "start_time": "2023-02-22T13:18:36.959Z"
   },
   {
    "duration": 29,
    "start_time": "2023-02-22T13:18:37.010Z"
   },
   {
    "duration": 168,
    "start_time": "2023-02-22T13:18:37.042Z"
   },
   {
    "duration": 0,
    "start_time": "2023-02-22T13:18:37.212Z"
   },
   {
    "duration": 0,
    "start_time": "2023-02-22T13:18:37.213Z"
   },
   {
    "duration": 0,
    "start_time": "2023-02-22T13:18:37.214Z"
   },
   {
    "duration": 0,
    "start_time": "2023-02-22T13:18:37.215Z"
   },
   {
    "duration": 0,
    "start_time": "2023-02-22T13:18:37.216Z"
   },
   {
    "duration": 0,
    "start_time": "2023-02-22T13:18:37.217Z"
   },
   {
    "duration": 0,
    "start_time": "2023-02-22T13:18:37.218Z"
   },
   {
    "duration": 0,
    "start_time": "2023-02-22T13:18:37.219Z"
   },
   {
    "duration": 0,
    "start_time": "2023-02-22T13:18:37.219Z"
   },
   {
    "duration": 0,
    "start_time": "2023-02-22T13:18:37.220Z"
   },
   {
    "duration": 0,
    "start_time": "2023-02-22T13:18:37.221Z"
   },
   {
    "duration": 0,
    "start_time": "2023-02-22T13:18:37.222Z"
   },
   {
    "duration": 0,
    "start_time": "2023-02-22T13:18:37.223Z"
   },
   {
    "duration": 0,
    "start_time": "2023-02-22T13:18:37.224Z"
   },
   {
    "duration": 0,
    "start_time": "2023-02-22T13:18:37.224Z"
   },
   {
    "duration": 0,
    "start_time": "2023-02-22T13:18:37.225Z"
   },
   {
    "duration": 0,
    "start_time": "2023-02-22T13:18:37.226Z"
   },
   {
    "duration": 0,
    "start_time": "2023-02-22T13:18:37.227Z"
   },
   {
    "duration": 0,
    "start_time": "2023-02-22T13:18:37.228Z"
   },
   {
    "duration": 1,
    "start_time": "2023-02-22T13:18:37.228Z"
   },
   {
    "duration": 0,
    "start_time": "2023-02-22T13:18:37.229Z"
   },
   {
    "duration": 0,
    "start_time": "2023-02-22T13:18:37.230Z"
   },
   {
    "duration": 0,
    "start_time": "2023-02-22T13:18:37.232Z"
   },
   {
    "duration": 0,
    "start_time": "2023-02-22T13:18:37.234Z"
   },
   {
    "duration": 66,
    "start_time": "2023-02-22T13:18:42.543Z"
   },
   {
    "duration": 111,
    "start_time": "2023-02-22T13:19:16.631Z"
   },
   {
    "duration": 1340,
    "start_time": "2023-02-22T13:20:42.379Z"
   },
   {
    "duration": 5,
    "start_time": "2023-02-22T13:23:39.289Z"
   },
   {
    "duration": 11,
    "start_time": "2023-02-22T13:23:47.203Z"
   },
   {
    "duration": 4,
    "start_time": "2023-02-22T13:24:05.722Z"
   },
   {
    "duration": 169,
    "start_time": "2023-02-22T13:26:03.294Z"
   },
   {
    "duration": 3,
    "start_time": "2023-02-22T13:27:36.759Z"
   },
   {
    "duration": 617,
    "start_time": "2023-02-22T13:27:40.000Z"
   },
   {
    "duration": 3,
    "start_time": "2023-02-22T13:28:15.742Z"
   },
   {
    "duration": 580,
    "start_time": "2023-02-22T13:28:17.553Z"
   },
   {
    "duration": 3,
    "start_time": "2023-02-22T13:28:47.591Z"
   },
   {
    "duration": 86,
    "start_time": "2023-02-22T13:28:48.900Z"
   },
   {
    "duration": 3,
    "start_time": "2023-02-22T13:28:59.803Z"
   },
   {
    "duration": 3,
    "start_time": "2023-02-22T13:29:03.657Z"
   },
   {
    "duration": 598,
    "start_time": "2023-02-22T13:29:05.356Z"
   },
   {
    "duration": 3,
    "start_time": "2023-02-22T13:29:48.980Z"
   },
   {
    "duration": 258,
    "start_time": "2023-02-22T13:29:50.415Z"
   },
   {
    "duration": 2754,
    "start_time": "2023-02-22T13:31:42.861Z"
   },
   {
    "duration": 2,
    "start_time": "2023-02-22T13:32:03.073Z"
   },
   {
    "duration": 7989,
    "start_time": "2023-02-22T13:32:04.494Z"
   },
   {
    "duration": 3,
    "start_time": "2023-02-22T13:34:08.811Z"
   },
   {
    "duration": 9,
    "start_time": "2023-02-22T13:34:10.792Z"
   },
   {
    "duration": 51,
    "start_time": "2023-02-22T13:36:38.460Z"
   },
   {
    "duration": 1087,
    "start_time": "2023-02-22T13:36:52.428Z"
   },
   {
    "duration": 759,
    "start_time": "2023-02-22T13:36:53.518Z"
   },
   {
    "duration": 22,
    "start_time": "2023-02-22T13:36:54.278Z"
   },
   {
    "duration": 125,
    "start_time": "2023-02-22T13:36:54.310Z"
   },
   {
    "duration": 99,
    "start_time": "2023-02-22T13:36:54.437Z"
   },
   {
    "duration": 3,
    "start_time": "2023-02-22T13:36:54.538Z"
   },
   {
    "duration": 152,
    "start_time": "2023-02-22T13:36:54.542Z"
   },
   {
    "duration": 392,
    "start_time": "2023-02-22T13:36:54.696Z"
   },
   {
    "duration": 35,
    "start_time": "2023-02-22T13:36:55.089Z"
   },
   {
    "duration": 32,
    "start_time": "2023-02-22T13:36:55.125Z"
   },
   {
    "duration": 37,
    "start_time": "2023-02-22T13:36:55.159Z"
   },
   {
    "duration": 59,
    "start_time": "2023-02-22T13:36:55.197Z"
   },
   {
    "duration": 47,
    "start_time": "2023-02-22T13:36:55.257Z"
   },
   {
    "duration": 3,
    "start_time": "2023-02-22T13:36:55.312Z"
   },
   {
    "duration": 0,
    "start_time": "2023-02-22T13:42:25.438Z"
   },
   {
    "duration": 0,
    "start_time": "2023-02-22T13:42:25.439Z"
   },
   {
    "duration": 0,
    "start_time": "2023-02-22T13:42:25.440Z"
   },
   {
    "duration": 0,
    "start_time": "2023-02-22T13:42:25.441Z"
   },
   {
    "duration": 0,
    "start_time": "2023-02-22T13:42:25.442Z"
   },
   {
    "duration": 0,
    "start_time": "2023-02-22T13:42:25.443Z"
   },
   {
    "duration": 0,
    "start_time": "2023-02-22T13:42:25.444Z"
   },
   {
    "duration": 0,
    "start_time": "2023-02-22T13:42:25.445Z"
   },
   {
    "duration": 0,
    "start_time": "2023-02-22T13:42:25.445Z"
   },
   {
    "duration": 0,
    "start_time": "2023-02-22T13:42:25.446Z"
   },
   {
    "duration": 0,
    "start_time": "2023-02-22T13:42:25.447Z"
   },
   {
    "duration": 0,
    "start_time": "2023-02-22T13:42:25.448Z"
   },
   {
    "duration": 0,
    "start_time": "2023-02-22T13:42:25.449Z"
   },
   {
    "duration": 0,
    "start_time": "2023-02-22T13:42:25.450Z"
   },
   {
    "duration": 0,
    "start_time": "2023-02-22T13:42:25.451Z"
   },
   {
    "duration": 0,
    "start_time": "2023-02-22T13:42:25.452Z"
   },
   {
    "duration": 0,
    "start_time": "2023-02-22T13:42:25.453Z"
   },
   {
    "duration": 0,
    "start_time": "2023-02-22T13:42:25.453Z"
   },
   {
    "duration": 0,
    "start_time": "2023-02-22T13:42:25.454Z"
   },
   {
    "duration": 0,
    "start_time": "2023-02-22T13:42:25.455Z"
   },
   {
    "duration": 0,
    "start_time": "2023-02-22T13:42:25.456Z"
   },
   {
    "duration": 0,
    "start_time": "2023-02-22T13:42:25.456Z"
   },
   {
    "duration": 0,
    "start_time": "2023-02-22T13:42:25.457Z"
   },
   {
    "duration": 0,
    "start_time": "2023-02-22T13:42:25.458Z"
   },
   {
    "duration": 0,
    "start_time": "2023-02-22T13:42:25.460Z"
   },
   {
    "duration": 3,
    "start_time": "2023-02-22T13:47:09.718Z"
   },
   {
    "duration": 749,
    "start_time": "2023-02-22T13:47:10.094Z"
   },
   {
    "duration": 15,
    "start_time": "2023-02-22T13:47:11.310Z"
   },
   {
    "duration": 114,
    "start_time": "2023-02-22T13:47:11.549Z"
   },
   {
    "duration": 88,
    "start_time": "2023-02-22T13:47:11.815Z"
   },
   {
    "duration": 4,
    "start_time": "2023-02-22T13:47:12.759Z"
   },
   {
    "duration": 120,
    "start_time": "2023-02-22T13:47:13.099Z"
   },
   {
    "duration": 160,
    "start_time": "2023-02-22T13:47:13.372Z"
   },
   {
    "duration": 36,
    "start_time": "2023-02-22T13:47:14.275Z"
   },
   {
    "duration": 34,
    "start_time": "2023-02-22T13:47:14.531Z"
   },
   {
    "duration": 33,
    "start_time": "2023-02-22T13:47:14.849Z"
   },
   {
    "duration": 56,
    "start_time": "2023-02-22T13:47:15.351Z"
   },
   {
    "duration": 52,
    "start_time": "2023-02-22T13:47:16.710Z"
   },
   {
    "duration": 3,
    "start_time": "2023-02-22T13:47:21.028Z"
   },
   {
    "duration": 2775,
    "start_time": "2023-02-22T13:47:25.513Z"
   },
   {
    "duration": 2974,
    "start_time": "2023-02-22T13:47:44.102Z"
   },
   {
    "duration": 0,
    "start_time": "2023-02-22T13:47:47.079Z"
   },
   {
    "duration": 2730,
    "start_time": "2023-02-22T13:47:48.850Z"
   },
   {
    "duration": 2552,
    "start_time": "2023-02-22T13:47:59.449Z"
   },
   {
    "duration": 3,
    "start_time": "2023-02-22T13:48:15.352Z"
   },
   {
    "duration": 1072,
    "start_time": "2023-02-22T13:49:49.129Z"
   },
   {
    "duration": 761,
    "start_time": "2023-02-22T13:49:50.202Z"
   },
   {
    "duration": 22,
    "start_time": "2023-02-22T13:49:50.964Z"
   },
   {
    "duration": 130,
    "start_time": "2023-02-22T13:49:50.987Z"
   },
   {
    "duration": 99,
    "start_time": "2023-02-22T13:49:51.118Z"
   },
   {
    "duration": 4,
    "start_time": "2023-02-22T13:49:51.218Z"
   },
   {
    "duration": 121,
    "start_time": "2023-02-22T13:49:51.223Z"
   },
   {
    "duration": 387,
    "start_time": "2023-02-22T13:49:51.346Z"
   },
   {
    "duration": 30,
    "start_time": "2023-02-22T13:49:51.735Z"
   },
   {
    "duration": 47,
    "start_time": "2023-02-22T13:49:51.768Z"
   },
   {
    "duration": 30,
    "start_time": "2023-02-22T13:49:51.817Z"
   },
   {
    "duration": 49,
    "start_time": "2023-02-22T13:49:51.849Z"
   },
   {
    "duration": 38,
    "start_time": "2023-02-22T13:49:51.899Z"
   },
   {
    "duration": 25,
    "start_time": "2023-02-22T13:49:51.941Z"
   },
   {
    "duration": 1053,
    "start_time": "2023-02-22T13:51:04.464Z"
   },
   {
    "duration": 778,
    "start_time": "2023-02-22T13:51:05.518Z"
   },
   {
    "duration": 25,
    "start_time": "2023-02-22T13:51:06.298Z"
   },
   {
    "duration": 131,
    "start_time": "2023-02-22T13:51:06.325Z"
   },
   {
    "duration": 106,
    "start_time": "2023-02-22T13:51:06.457Z"
   },
   {
    "duration": 3,
    "start_time": "2023-02-22T13:51:06.565Z"
   },
   {
    "duration": 124,
    "start_time": "2023-02-22T13:51:06.569Z"
   },
   {
    "duration": 379,
    "start_time": "2023-02-22T13:51:06.695Z"
   },
   {
    "duration": 37,
    "start_time": "2023-02-22T13:51:07.076Z"
   },
   {
    "duration": 35,
    "start_time": "2023-02-22T13:51:07.117Z"
   },
   {
    "duration": 34,
    "start_time": "2023-02-22T13:51:07.154Z"
   },
   {
    "duration": 76,
    "start_time": "2023-02-22T13:51:07.190Z"
   },
   {
    "duration": 51,
    "start_time": "2023-02-22T13:51:07.268Z"
   },
   {
    "duration": 7,
    "start_time": "2023-02-22T13:51:07.321Z"
   },
   {
    "duration": 15,
    "start_time": "2023-02-22T13:51:07.330Z"
   },
   {
    "duration": 1092,
    "start_time": "2023-02-22T13:51:07.346Z"
   },
   {
    "duration": 4,
    "start_time": "2023-02-22T13:51:08.440Z"
   },
   {
    "duration": 8,
    "start_time": "2023-02-22T13:51:08.446Z"
   },
   {
    "duration": 33,
    "start_time": "2023-02-22T13:51:08.455Z"
   },
   {
    "duration": 125,
    "start_time": "2023-02-22T13:51:08.489Z"
   },
   {
    "duration": 5,
    "start_time": "2023-02-22T13:51:08.615Z"
   },
   {
    "duration": 25,
    "start_time": "2023-02-22T13:51:08.621Z"
   },
   {
    "duration": 146,
    "start_time": "2023-02-22T13:51:08.648Z"
   },
   {
    "duration": 91,
    "start_time": "2023-02-22T13:51:08.796Z"
   },
   {
    "duration": 93,
    "start_time": "2023-02-22T13:51:08.889Z"
   },
   {
    "duration": 33,
    "start_time": "2023-02-22T13:51:08.984Z"
   },
   {
    "duration": 59,
    "start_time": "2023-02-22T13:51:09.019Z"
   },
   {
    "duration": 450,
    "start_time": "2023-02-22T13:51:09.081Z"
   },
   {
    "duration": 319,
    "start_time": "2023-02-22T13:51:09.532Z"
   },
   {
    "duration": 277,
    "start_time": "2023-02-22T13:51:09.853Z"
   },
   {
    "duration": 2,
    "start_time": "2023-02-22T13:51:10.132Z"
   },
   {
    "duration": 4,
    "start_time": "2023-02-22T13:51:10.136Z"
   },
   {
    "duration": 29,
    "start_time": "2023-02-22T13:51:10.141Z"
   },
   {
    "duration": 2,
    "start_time": "2023-02-22T13:51:10.171Z"
   },
   {
    "duration": 6,
    "start_time": "2023-02-22T13:51:10.175Z"
   },
   {
    "duration": 6,
    "start_time": "2023-02-22T13:51:10.182Z"
   },
   {
    "duration": 3248,
    "start_time": "2023-02-22T13:51:10.189Z"
   },
   {
    "duration": 25,
    "start_time": "2023-02-22T13:51:13.438Z"
   },
   {
    "duration": 24,
    "start_time": "2023-02-22T13:51:13.464Z"
   },
   {
    "duration": 121,
    "start_time": "2023-02-22T13:51:43.760Z"
   },
   {
    "duration": 2,
    "start_time": "2023-02-22T13:51:47.646Z"
   },
   {
    "duration": 691,
    "start_time": "2023-02-22T13:51:47.857Z"
   },
   {
    "duration": 13,
    "start_time": "2023-02-22T13:51:48.550Z"
   },
   {
    "duration": 123,
    "start_time": "2023-02-22T13:51:48.565Z"
   },
   {
    "duration": 91,
    "start_time": "2023-02-22T13:51:48.690Z"
   },
   {
    "duration": 3,
    "start_time": "2023-02-22T13:51:49.045Z"
   },
   {
    "duration": 120,
    "start_time": "2023-02-22T13:51:49.292Z"
   },
   {
    "duration": 152,
    "start_time": "2023-02-22T13:51:49.466Z"
   },
   {
    "duration": 32,
    "start_time": "2023-02-22T13:51:50.103Z"
   },
   {
    "duration": 32,
    "start_time": "2023-02-22T13:51:50.286Z"
   },
   {
    "duration": 31,
    "start_time": "2023-02-22T13:51:50.489Z"
   },
   {
    "duration": 42,
    "start_time": "2023-02-22T13:51:50.701Z"
   },
   {
    "duration": 31,
    "start_time": "2023-02-22T13:51:50.892Z"
   },
   {
    "duration": 3,
    "start_time": "2023-02-22T13:51:51.154Z"
   },
   {
    "duration": 8,
    "start_time": "2023-02-22T13:51:51.495Z"
   },
   {
    "duration": 6,
    "start_time": "2023-02-22T13:51:55.093Z"
   },
   {
    "duration": 2,
    "start_time": "2023-02-22T13:52:18.689Z"
   },
   {
    "duration": 6,
    "start_time": "2023-02-22T13:52:19.946Z"
   },
   {
    "duration": 70,
    "start_time": "2023-02-22T13:52:49.456Z"
   },
   {
    "duration": 3,
    "start_time": "2023-02-22T13:53:03.454Z"
   },
   {
    "duration": 13,
    "start_time": "2023-02-22T13:53:06.246Z"
   },
   {
    "duration": 6,
    "start_time": "2023-02-22T13:53:15.682Z"
   },
   {
    "duration": 3,
    "start_time": "2023-02-22T13:53:39.882Z"
   },
   {
    "duration": 6,
    "start_time": "2023-02-22T13:53:41.221Z"
   },
   {
    "duration": 2,
    "start_time": "2023-02-22T13:53:51.232Z"
   },
   {
    "duration": 6,
    "start_time": "2023-02-22T13:53:52.252Z"
   },
   {
    "duration": 3,
    "start_time": "2023-02-22T13:54:59.544Z"
   },
   {
    "duration": 6,
    "start_time": "2023-02-22T13:55:00.394Z"
   },
   {
    "duration": 3,
    "start_time": "2023-02-22T13:56:15.314Z"
   },
   {
    "duration": 4,
    "start_time": "2023-02-22T13:56:24.494Z"
   },
   {
    "duration": 6,
    "start_time": "2023-02-22T13:56:26.308Z"
   },
   {
    "duration": 3,
    "start_time": "2023-02-22T13:57:27.080Z"
   },
   {
    "duration": 2640,
    "start_time": "2023-02-22T13:57:29.918Z"
   },
   {
    "duration": 4,
    "start_time": "2023-02-22T14:00:30.099Z"
   },
   {
    "duration": 21,
    "start_time": "2023-02-22T14:00:30.521Z"
   },
   {
    "duration": 3,
    "start_time": "2023-02-22T14:01:20.364Z"
   },
   {
    "duration": 18,
    "start_time": "2023-02-22T14:01:21.411Z"
   },
   {
    "duration": 4,
    "start_time": "2023-02-22T14:01:40.965Z"
   },
   {
    "duration": 5,
    "start_time": "2023-02-22T14:01:42.398Z"
   },
   {
    "duration": 3,
    "start_time": "2023-02-22T14:02:58.984Z"
   },
   {
    "duration": 137,
    "start_time": "2023-02-22T14:02:59.777Z"
   },
   {
    "duration": 3,
    "start_time": "2023-02-22T14:04:28.594Z"
   },
   {
    "duration": 18,
    "start_time": "2023-02-22T14:04:29.659Z"
   },
   {
    "duration": 3,
    "start_time": "2023-02-22T14:05:36.055Z"
   },
   {
    "duration": 41,
    "start_time": "2023-02-22T14:05:37.177Z"
   },
   {
    "duration": 3,
    "start_time": "2023-02-22T14:05:46.066Z"
   },
   {
    "duration": 25,
    "start_time": "2023-02-22T14:05:46.755Z"
   },
   {
    "duration": 3,
    "start_time": "2023-02-22T14:05:54.648Z"
   },
   {
    "duration": 18,
    "start_time": "2023-02-22T14:05:55.523Z"
   },
   {
    "duration": 4,
    "start_time": "2023-02-22T14:06:05.808Z"
   },
   {
    "duration": 5,
    "start_time": "2023-02-22T14:06:06.384Z"
   },
   {
    "duration": 4,
    "start_time": "2023-02-22T14:06:12.688Z"
   },
   {
    "duration": 19,
    "start_time": "2023-02-22T14:06:12.921Z"
   },
   {
    "duration": 3,
    "start_time": "2023-02-22T14:06:22.049Z"
   },
   {
    "duration": 74,
    "start_time": "2023-02-22T14:06:22.747Z"
   },
   {
    "duration": 3,
    "start_time": "2023-02-22T14:06:54.452Z"
   },
   {
    "duration": 73,
    "start_time": "2023-02-22T14:06:55.327Z"
   },
   {
    "duration": 2,
    "start_time": "2023-02-22T14:07:11.499Z"
   },
   {
    "duration": 18,
    "start_time": "2023-02-22T14:07:13.080Z"
   },
   {
    "duration": 3,
    "start_time": "2023-02-22T14:07:15.821Z"
   },
   {
    "duration": 6,
    "start_time": "2023-02-22T14:07:16.623Z"
   },
   {
    "duration": 3,
    "start_time": "2023-02-22T14:07:39.542Z"
   },
   {
    "duration": 5,
    "start_time": "2023-02-22T14:07:40.474Z"
   },
   {
    "duration": 4,
    "start_time": "2023-02-22T14:07:57.998Z"
   },
   {
    "duration": 18,
    "start_time": "2023-02-22T14:07:58.822Z"
   },
   {
    "duration": 4,
    "start_time": "2023-02-22T14:09:26.288Z"
   },
   {
    "duration": 554,
    "start_time": "2023-02-22T14:09:27.448Z"
   },
   {
    "duration": 3,
    "start_time": "2023-02-22T14:10:04.776Z"
   },
   {
    "duration": 724,
    "start_time": "2023-02-22T14:10:05.862Z"
   },
   {
    "duration": 44,
    "start_time": "2023-02-22T14:10:48.533Z"
   },
   {
    "duration": 3,
    "start_time": "2023-02-22T14:10:53.363Z"
   },
   {
    "duration": 784,
    "start_time": "2023-02-22T14:10:54.083Z"
   },
   {
    "duration": 3,
    "start_time": "2023-02-22T14:11:11.685Z"
   },
   {
    "duration": 2281,
    "start_time": "2023-02-22T14:11:12.134Z"
   },
   {
    "duration": 3,
    "start_time": "2023-02-22T14:11:55.152Z"
   },
   {
    "duration": 723,
    "start_time": "2023-02-22T14:11:55.569Z"
   },
   {
    "duration": 4,
    "start_time": "2023-02-22T14:12:13.681Z"
   },
   {
    "duration": 787,
    "start_time": "2023-02-22T14:12:14.748Z"
   },
   {
    "duration": 26,
    "start_time": "2023-02-22T14:13:25.084Z"
   },
   {
    "duration": 4,
    "start_time": "2023-02-22T14:13:27.080Z"
   },
   {
    "duration": 26,
    "start_time": "2023-02-22T14:13:28.665Z"
   },
   {
    "duration": 5,
    "start_time": "2023-02-22T14:14:29.973Z"
   },
   {
    "duration": 27,
    "start_time": "2023-02-22T14:14:31.466Z"
   },
   {
    "duration": 3,
    "start_time": "2023-02-22T14:14:44.495Z"
   },
   {
    "duration": 14,
    "start_time": "2023-02-22T14:14:45.378Z"
   },
   {
    "duration": 4,
    "start_time": "2023-02-22T14:15:33.081Z"
   },
   {
    "duration": 45,
    "start_time": "2023-02-22T14:15:36.522Z"
   },
   {
    "duration": 3,
    "start_time": "2023-02-22T14:15:48.192Z"
   },
   {
    "duration": 13,
    "start_time": "2023-02-22T14:15:48.384Z"
   },
   {
    "duration": 5,
    "start_time": "2023-02-22T14:17:07.075Z"
   },
   {
    "duration": 12,
    "start_time": "2023-02-22T14:17:08.222Z"
   },
   {
    "duration": 3,
    "start_time": "2023-02-22T14:17:25.130Z"
   },
   {
    "duration": 67,
    "start_time": "2023-02-22T14:17:26.084Z"
   },
   {
    "duration": 4,
    "start_time": "2023-02-22T14:18:27.773Z"
   },
   {
    "duration": 73,
    "start_time": "2023-02-22T14:18:28.762Z"
   },
   {
    "duration": 3,
    "start_time": "2023-02-22T14:18:37.263Z"
   },
   {
    "duration": 81,
    "start_time": "2023-02-22T14:18:37.707Z"
   },
   {
    "duration": 38,
    "start_time": "2023-02-22T14:18:47.685Z"
   },
   {
    "duration": 80,
    "start_time": "2023-02-22T14:18:48.064Z"
   },
   {
    "duration": 4,
    "start_time": "2023-02-22T14:19:29.265Z"
   },
   {
    "duration": 72,
    "start_time": "2023-02-22T14:19:32.357Z"
   },
   {
    "duration": 3,
    "start_time": "2023-02-22T14:19:50.821Z"
   },
   {
    "duration": 80,
    "start_time": "2023-02-22T14:19:51.366Z"
   },
   {
    "duration": 4,
    "start_time": "2023-02-22T14:20:26.606Z"
   },
   {
    "duration": 70,
    "start_time": "2023-02-22T14:20:27.582Z"
   },
   {
    "duration": 3,
    "start_time": "2023-02-22T14:20:57.409Z"
   },
   {
    "duration": 66,
    "start_time": "2023-02-22T14:20:58.225Z"
   },
   {
    "duration": 5,
    "start_time": "2023-02-22T14:21:06.788Z"
   },
   {
    "duration": 68,
    "start_time": "2023-02-22T14:21:07.491Z"
   },
   {
    "duration": 3,
    "start_time": "2023-02-22T14:21:11.863Z"
   },
   {
    "duration": 70,
    "start_time": "2023-02-22T14:21:12.369Z"
   },
   {
    "duration": 3,
    "start_time": "2023-02-22T14:21:23.366Z"
   },
   {
    "duration": 64,
    "start_time": "2023-02-22T14:21:24.061Z"
   },
   {
    "duration": 4,
    "start_time": "2023-02-22T14:21:30.817Z"
   },
   {
    "duration": 71,
    "start_time": "2023-02-22T14:21:31.207Z"
   },
   {
    "duration": 3,
    "start_time": "2023-02-22T14:21:36.152Z"
   },
   {
    "duration": 59,
    "start_time": "2023-02-22T14:21:36.530Z"
   },
   {
    "duration": 3,
    "start_time": "2023-02-22T14:21:50.966Z"
   },
   {
    "duration": 77,
    "start_time": "2023-02-22T14:21:51.294Z"
   },
   {
    "duration": 3,
    "start_time": "2023-02-22T14:22:11.218Z"
   },
   {
    "duration": 87,
    "start_time": "2023-02-22T14:22:11.966Z"
   },
   {
    "duration": 3,
    "start_time": "2023-02-22T14:22:22.756Z"
   },
   {
    "duration": 95,
    "start_time": "2023-02-22T14:22:23.181Z"
   },
   {
    "duration": 4,
    "start_time": "2023-02-22T14:25:00.989Z"
   },
   {
    "duration": 71,
    "start_time": "2023-02-22T14:25:01.533Z"
   },
   {
    "duration": 8,
    "start_time": "2023-02-22T14:25:34.590Z"
   },
   {
    "duration": 67,
    "start_time": "2023-02-22T14:25:35.193Z"
   },
   {
    "duration": 4,
    "start_time": "2023-02-22T14:25:52.363Z"
   },
   {
    "duration": 82,
    "start_time": "2023-02-22T14:25:52.662Z"
   },
   {
    "duration": 43,
    "start_time": "2023-02-22T14:26:29.598Z"
   },
   {
    "duration": 3,
    "start_time": "2023-02-22T14:26:34.809Z"
   },
   {
    "duration": 79,
    "start_time": "2023-02-22T14:26:35.080Z"
   },
   {
    "duration": 5,
    "start_time": "2023-02-22T14:26:56.907Z"
   },
   {
    "duration": 80,
    "start_time": "2023-02-22T14:26:57.348Z"
   },
   {
    "duration": 4,
    "start_time": "2023-02-22T14:27:11.870Z"
   },
   {
    "duration": 76,
    "start_time": "2023-02-22T14:27:12.369Z"
   },
   {
    "duration": 3,
    "start_time": "2023-02-22T14:27:25.641Z"
   },
   {
    "duration": 72,
    "start_time": "2023-02-22T14:27:26.144Z"
   },
   {
    "duration": 3,
    "start_time": "2023-02-22T14:27:44.298Z"
   },
   {
    "duration": 73,
    "start_time": "2023-02-22T14:27:44.786Z"
   },
   {
    "duration": 5,
    "start_time": "2023-02-22T14:28:36.654Z"
   },
   {
    "duration": 71,
    "start_time": "2023-02-22T14:28:37.093Z"
   },
   {
    "duration": 3,
    "start_time": "2023-02-22T14:29:18.775Z"
   },
   {
    "duration": 78,
    "start_time": "2023-02-22T14:29:19.763Z"
   },
   {
    "duration": 4,
    "start_time": "2023-02-22T14:29:48.200Z"
   },
   {
    "duration": 6200,
    "start_time": "2023-02-22T14:29:48.472Z"
   },
   {
    "duration": 4,
    "start_time": "2023-02-22T14:30:09.629Z"
   },
   {
    "duration": 2733,
    "start_time": "2023-02-22T14:30:10.163Z"
   },
   {
    "duration": 3,
    "start_time": "2023-02-22T14:30:28.279Z"
   },
   {
    "duration": 5969,
    "start_time": "2023-02-22T14:30:28.816Z"
   },
   {
    "duration": 6,
    "start_time": "2023-02-22T14:30:39.007Z"
   },
   {
    "duration": 84,
    "start_time": "2023-02-22T14:30:39.775Z"
   },
   {
    "duration": 11,
    "start_time": "2023-02-22T14:30:43.543Z"
   },
   {
    "duration": 85,
    "start_time": "2023-02-22T14:30:48.482Z"
   },
   {
    "duration": 4,
    "start_time": "2023-02-22T14:31:55.993Z"
   },
   {
    "duration": 95,
    "start_time": "2023-02-22T14:31:56.945Z"
   },
   {
    "duration": 84,
    "start_time": "2023-02-22T14:32:02.851Z"
   },
   {
    "duration": 86,
    "start_time": "2023-02-22T14:32:37.899Z"
   },
   {
    "duration": 14,
    "start_time": "2023-02-22T14:32:39.848Z"
   },
   {
    "duration": 10,
    "start_time": "2023-02-22T17:29:22.586Z"
   },
   {
    "duration": 1104,
    "start_time": "2023-02-22T17:29:47.930Z"
   },
   {
    "duration": 2799,
    "start_time": "2023-02-22T17:29:49.035Z"
   },
   {
    "duration": 19,
    "start_time": "2023-02-22T17:29:51.836Z"
   },
   {
    "duration": 133,
    "start_time": "2023-02-22T17:29:51.856Z"
   },
   {
    "duration": 83,
    "start_time": "2023-02-22T17:29:51.992Z"
   },
   {
    "duration": 3,
    "start_time": "2023-02-22T17:29:52.076Z"
   },
   {
    "duration": 136,
    "start_time": "2023-02-22T17:29:52.081Z"
   },
   {
    "duration": 562,
    "start_time": "2023-02-22T17:29:52.219Z"
   },
   {
    "duration": 33,
    "start_time": "2023-02-22T17:29:52.782Z"
   },
   {
    "duration": 45,
    "start_time": "2023-02-22T17:29:52.816Z"
   },
   {
    "duration": 34,
    "start_time": "2023-02-22T17:29:52.862Z"
   },
   {
    "duration": 55,
    "start_time": "2023-02-22T17:29:52.897Z"
   },
   {
    "duration": 32,
    "start_time": "2023-02-22T17:29:52.954Z"
   },
   {
    "duration": 17,
    "start_time": "2023-02-22T17:29:52.989Z"
   },
   {
    "duration": 21,
    "start_time": "2023-02-22T17:29:53.008Z"
   },
   {
    "duration": 311,
    "start_time": "2023-02-22T17:29:53.030Z"
   },
   {
    "duration": 116,
    "start_time": "2023-02-22T17:29:53.342Z"
   },
   {
    "duration": 0,
    "start_time": "2023-02-22T17:29:53.459Z"
   },
   {
    "duration": 0,
    "start_time": "2023-02-22T17:29:53.461Z"
   },
   {
    "duration": 0,
    "start_time": "2023-02-22T17:29:53.461Z"
   },
   {
    "duration": 0,
    "start_time": "2023-02-22T17:29:53.462Z"
   },
   {
    "duration": 0,
    "start_time": "2023-02-22T17:29:53.463Z"
   },
   {
    "duration": 0,
    "start_time": "2023-02-22T17:29:53.464Z"
   },
   {
    "duration": 0,
    "start_time": "2023-02-22T17:29:53.465Z"
   },
   {
    "duration": 0,
    "start_time": "2023-02-22T17:29:53.467Z"
   },
   {
    "duration": 0,
    "start_time": "2023-02-22T17:29:53.468Z"
   },
   {
    "duration": 0,
    "start_time": "2023-02-22T17:29:53.469Z"
   },
   {
    "duration": 0,
    "start_time": "2023-02-22T17:29:53.470Z"
   },
   {
    "duration": 0,
    "start_time": "2023-02-22T17:29:53.471Z"
   },
   {
    "duration": 0,
    "start_time": "2023-02-22T17:29:53.472Z"
   },
   {
    "duration": 0,
    "start_time": "2023-02-22T17:29:53.473Z"
   },
   {
    "duration": 1,
    "start_time": "2023-02-22T17:29:53.473Z"
   },
   {
    "duration": 0,
    "start_time": "2023-02-22T17:29:53.474Z"
   },
   {
    "duration": 0,
    "start_time": "2023-02-22T17:29:53.504Z"
   },
   {
    "duration": 0,
    "start_time": "2023-02-22T17:29:53.505Z"
   },
   {
    "duration": 0,
    "start_time": "2023-02-22T17:29:53.506Z"
   },
   {
    "duration": 0,
    "start_time": "2023-02-22T17:29:53.507Z"
   },
   {
    "duration": 0,
    "start_time": "2023-02-22T17:29:53.509Z"
   },
   {
    "duration": 0,
    "start_time": "2023-02-22T17:29:53.510Z"
   },
   {
    "duration": 0,
    "start_time": "2023-02-22T17:29:53.511Z"
   },
   {
    "duration": 3,
    "start_time": "2023-02-22T17:30:44.382Z"
   },
   {
    "duration": 217,
    "start_time": "2023-02-22T17:30:50.233Z"
   },
   {
    "duration": 4,
    "start_time": "2023-02-22T17:31:58.818Z"
   },
   {
    "duration": 4,
    "start_time": "2023-02-22T17:32:10.603Z"
   },
   {
    "duration": 22,
    "start_time": "2023-02-22T17:32:32.437Z"
   },
   {
    "duration": 4,
    "start_time": "2023-02-22T17:32:36.909Z"
   },
   {
    "duration": 254,
    "start_time": "2023-02-22T17:32:39.508Z"
   },
   {
    "duration": 252,
    "start_time": "2023-02-22T17:33:06.418Z"
   },
   {
    "duration": 13,
    "start_time": "2023-02-22T17:33:38.791Z"
   },
   {
    "duration": 16,
    "start_time": "2023-02-22T17:33:39.484Z"
   },
   {
    "duration": 83,
    "start_time": "2023-02-22T17:34:48.988Z"
   },
   {
    "duration": 71,
    "start_time": "2023-02-22T17:35:08.393Z"
   },
   {
    "duration": 4,
    "start_time": "2023-02-22T17:35:14.217Z"
   },
   {
    "duration": 17,
    "start_time": "2023-02-22T17:35:14.816Z"
   },
   {
    "duration": 4,
    "start_time": "2023-02-22T17:35:27.079Z"
   },
   {
    "duration": 14,
    "start_time": "2023-02-22T17:35:27.907Z"
   },
   {
    "duration": 4,
    "start_time": "2023-02-22T17:36:17.897Z"
   },
   {
    "duration": 81290,
    "start_time": "2023-02-22T17:36:19.461Z"
   },
   {
    "duration": 4,
    "start_time": "2023-02-22T17:37:40.752Z"
   },
   {
    "duration": 3,
    "start_time": "2023-02-22T17:38:56.493Z"
   },
   {
    "duration": 1167,
    "start_time": "2023-02-22T18:04:03.232Z"
   },
   {
    "duration": 825,
    "start_time": "2023-02-22T18:04:04.401Z"
   },
   {
    "duration": 21,
    "start_time": "2023-02-22T18:04:05.228Z"
   },
   {
    "duration": 185,
    "start_time": "2023-02-22T18:04:05.251Z"
   },
   {
    "duration": 103,
    "start_time": "2023-02-22T18:04:05.439Z"
   },
   {
    "duration": 4,
    "start_time": "2023-02-22T18:04:05.544Z"
   },
   {
    "duration": 154,
    "start_time": "2023-02-22T18:04:05.550Z"
   },
   {
    "duration": 416,
    "start_time": "2023-02-22T18:04:05.706Z"
   },
   {
    "duration": 34,
    "start_time": "2023-02-22T18:04:06.124Z"
   },
   {
    "duration": 47,
    "start_time": "2023-02-22T18:04:06.160Z"
   },
   {
    "duration": 32,
    "start_time": "2023-02-22T18:04:06.209Z"
   },
   {
    "duration": 62,
    "start_time": "2023-02-22T18:04:06.243Z"
   },
   {
    "duration": 65,
    "start_time": "2023-02-22T18:04:06.307Z"
   },
   {
    "duration": 5,
    "start_time": "2023-02-22T18:04:06.374Z"
   },
   {
    "duration": 6,
    "start_time": "2023-02-22T18:04:06.381Z"
   },
   {
    "duration": 5833512,
    "start_time": "2023-02-22T18:04:06.404Z"
   },
   {
    "duration": 17,
    "start_time": "2023-02-22T19:41:19.918Z"
   },
   {
    "duration": 14,
    "start_time": "2023-02-22T19:41:19.936Z"
   },
   {
    "duration": 35,
    "start_time": "2023-02-22T19:41:19.951Z"
   },
   {
    "duration": 150,
    "start_time": "2023-02-22T19:41:19.987Z"
   },
   {
    "duration": 5,
    "start_time": "2023-02-22T19:41:20.138Z"
   },
   {
    "duration": 19,
    "start_time": "2023-02-22T19:41:20.145Z"
   },
   {
    "duration": 175,
    "start_time": "2023-02-22T19:41:20.165Z"
   },
   {
    "duration": 85,
    "start_time": "2023-02-22T19:41:20.342Z"
   },
   {
    "duration": 129,
    "start_time": "2023-02-22T19:41:20.429Z"
   },
   {
    "duration": 21,
    "start_time": "2023-02-22T19:41:20.560Z"
   },
   {
    "duration": 94,
    "start_time": "2023-02-22T19:41:20.582Z"
   },
   {
    "duration": 652,
    "start_time": "2023-02-22T19:41:20.679Z"
   },
   {
    "duration": 462,
    "start_time": "2023-02-22T19:41:21.333Z"
   },
   {
    "duration": 390,
    "start_time": "2023-02-22T19:41:21.797Z"
   },
   {
    "duration": 2,
    "start_time": "2023-02-22T19:41:22.189Z"
   },
   {
    "duration": 7,
    "start_time": "2023-02-22T19:41:22.203Z"
   },
   {
    "duration": 43,
    "start_time": "2023-02-22T19:41:22.211Z"
   },
   {
    "duration": 2,
    "start_time": "2023-02-22T19:41:22.255Z"
   },
   {
    "duration": 6,
    "start_time": "2023-02-22T19:41:22.259Z"
   },
   {
    "duration": 8,
    "start_time": "2023-02-22T19:41:22.266Z"
   },
   {
    "duration": 3676,
    "start_time": "2023-02-22T19:41:22.275Z"
   },
   {
    "duration": 36,
    "start_time": "2023-02-22T19:41:25.953Z"
   },
   {
    "duration": 5,
    "start_time": "2023-02-22T19:41:25.990Z"
   },
   {
    "duration": 48,
    "start_time": "2023-02-23T20:46:32.492Z"
   },
   {
    "duration": 1111,
    "start_time": "2023-02-23T20:46:56.024Z"
   },
   {
    "duration": 2856,
    "start_time": "2023-02-23T20:46:57.136Z"
   },
   {
    "duration": 20,
    "start_time": "2023-02-23T20:48:07.600Z"
   },
   {
    "duration": 128,
    "start_time": "2023-02-23T20:48:08.223Z"
   },
   {
    "duration": 84,
    "start_time": "2023-02-23T20:48:09.232Z"
   },
   {
    "duration": 3,
    "start_time": "2023-02-23T20:48:11.035Z"
   },
   {
    "duration": 119,
    "start_time": "2023-02-23T20:48:11.635Z"
   },
   {
    "duration": 542,
    "start_time": "2023-02-23T20:48:12.104Z"
   },
   {
    "duration": 43,
    "start_time": "2023-02-23T20:48:13.809Z"
   },
   {
    "duration": 36,
    "start_time": "2023-02-23T20:48:14.306Z"
   },
   {
    "duration": 33,
    "start_time": "2023-02-23T20:48:14.805Z"
   },
   {
    "duration": 48,
    "start_time": "2023-02-23T20:48:15.468Z"
   },
   {
    "duration": 36,
    "start_time": "2023-02-23T20:48:15.840Z"
   },
   {
    "duration": 3,
    "start_time": "2023-02-23T20:48:16.505Z"
   },
   {
    "duration": 225,
    "start_time": "2023-02-23T20:48:17.717Z"
   },
   {
    "duration": 4,
    "start_time": "2023-02-23T20:48:19.892Z"
   },
   {
    "duration": 252,
    "start_time": "2023-02-23T20:48:21.069Z"
   },
   {
    "duration": 108813,
    "start_time": "2023-02-23T20:48:48.768Z"
   },
   {
    "duration": 1088,
    "start_time": "2023-02-23T20:50:56.332Z"
   },
   {
    "duration": 803,
    "start_time": "2023-02-23T20:50:57.423Z"
   },
   {
    "duration": 19,
    "start_time": "2023-02-23T20:50:58.228Z"
   },
   {
    "duration": 153,
    "start_time": "2023-02-23T20:50:58.249Z"
   },
   {
    "duration": 103,
    "start_time": "2023-02-23T20:50:58.405Z"
   },
   {
    "duration": 3,
    "start_time": "2023-02-23T20:50:58.510Z"
   },
   {
    "duration": 145,
    "start_time": "2023-02-23T20:50:58.514Z"
   },
   {
    "duration": 424,
    "start_time": "2023-02-23T20:50:58.660Z"
   },
   {
    "duration": 40,
    "start_time": "2023-02-23T20:50:59.090Z"
   },
   {
    "duration": 36,
    "start_time": "2023-02-23T20:50:59.131Z"
   },
   {
    "duration": 54,
    "start_time": "2023-02-23T20:50:59.168Z"
   },
   {
    "duration": 45,
    "start_time": "2023-02-23T20:50:59.223Z"
   },
   {
    "duration": 49,
    "start_time": "2023-02-23T20:50:59.269Z"
   },
   {
    "duration": 212,
    "start_time": "2023-02-23T20:50:59.322Z"
   },
   {
    "duration": 4,
    "start_time": "2023-02-23T20:50:59.535Z"
   },
   {
    "duration": 113696,
    "start_time": "2023-02-23T20:50:59.540Z"
   },
   {
    "duration": 19,
    "start_time": "2023-02-23T20:52:53.238Z"
   },
   {
    "duration": 10,
    "start_time": "2023-02-23T20:52:53.258Z"
   },
   {
    "duration": 55,
    "start_time": "2023-02-23T20:52:53.270Z"
   },
   {
    "duration": 130,
    "start_time": "2023-02-23T20:52:53.326Z"
   },
   {
    "duration": 4,
    "start_time": "2023-02-23T20:52:53.457Z"
   },
   {
    "duration": 30,
    "start_time": "2023-02-23T20:52:53.463Z"
   },
   {
    "duration": 158,
    "start_time": "2023-02-23T20:52:53.494Z"
   },
   {
    "duration": 95,
    "start_time": "2023-02-23T20:52:53.655Z"
   },
   {
    "duration": 139,
    "start_time": "2023-02-23T20:52:53.752Z"
   },
   {
    "duration": 20,
    "start_time": "2023-02-23T20:52:53.893Z"
   },
   {
    "duration": 117,
    "start_time": "2023-02-23T20:52:53.916Z"
   },
   {
    "duration": 585,
    "start_time": "2023-02-23T20:52:54.036Z"
   },
   {
    "duration": 457,
    "start_time": "2023-02-23T20:52:54.623Z"
   },
   {
    "duration": 381,
    "start_time": "2023-02-23T20:52:55.081Z"
   },
   {
    "duration": 2,
    "start_time": "2023-02-23T20:52:55.463Z"
   },
   {
    "duration": 4,
    "start_time": "2023-02-23T20:52:55.467Z"
   },
   {
    "duration": 35,
    "start_time": "2023-02-23T20:52:55.473Z"
   },
   {
    "duration": 2,
    "start_time": "2023-02-23T20:52:55.509Z"
   },
   {
    "duration": 7,
    "start_time": "2023-02-23T20:52:55.513Z"
   },
   {
    "duration": 4,
    "start_time": "2023-02-23T20:52:55.522Z"
   },
   {
    "duration": 3286,
    "start_time": "2023-02-23T20:52:55.527Z"
   },
   {
    "duration": 36,
    "start_time": "2023-02-23T20:52:58.814Z"
   },
   {
    "duration": 4,
    "start_time": "2023-02-23T20:52:58.852Z"
   },
   {
    "duration": 1079,
    "start_time": "2023-02-25T13:04:40.843Z"
   },
   {
    "duration": 1021,
    "start_time": "2023-02-25T13:04:41.923Z"
   },
   {
    "duration": 22,
    "start_time": "2023-02-25T13:04:42.946Z"
   },
   {
    "duration": 122,
    "start_time": "2023-02-25T13:04:42.970Z"
   },
   {
    "duration": 97,
    "start_time": "2023-02-25T13:04:43.094Z"
   },
   {
    "duration": 5,
    "start_time": "2023-02-25T13:04:43.192Z"
   },
   {
    "duration": 8,
    "start_time": "2023-02-25T13:04:43.198Z"
   },
   {
    "duration": 120,
    "start_time": "2023-02-25T13:04:43.207Z"
   },
   {
    "duration": 564,
    "start_time": "2023-02-25T13:04:43.328Z"
   },
   {
    "duration": 787,
    "start_time": "2023-02-25T13:04:43.894Z"
   },
   {
    "duration": 0,
    "start_time": "2023-02-25T13:04:44.684Z"
   },
   {
    "duration": 0,
    "start_time": "2023-02-25T13:04:44.686Z"
   },
   {
    "duration": 0,
    "start_time": "2023-02-25T13:04:44.688Z"
   },
   {
    "duration": 0,
    "start_time": "2023-02-25T13:04:44.689Z"
   },
   {
    "duration": 0,
    "start_time": "2023-02-25T13:04:44.691Z"
   },
   {
    "duration": 0,
    "start_time": "2023-02-25T13:04:44.692Z"
   },
   {
    "duration": 0,
    "start_time": "2023-02-25T13:04:44.693Z"
   },
   {
    "duration": 0,
    "start_time": "2023-02-25T13:04:44.694Z"
   },
   {
    "duration": 0,
    "start_time": "2023-02-25T13:04:44.696Z"
   },
   {
    "duration": 0,
    "start_time": "2023-02-25T13:04:44.697Z"
   },
   {
    "duration": 0,
    "start_time": "2023-02-25T13:04:44.698Z"
   },
   {
    "duration": 0,
    "start_time": "2023-02-25T13:04:44.699Z"
   },
   {
    "duration": 0,
    "start_time": "2023-02-25T13:04:44.700Z"
   },
   {
    "duration": 0,
    "start_time": "2023-02-25T13:04:44.702Z"
   },
   {
    "duration": 0,
    "start_time": "2023-02-25T13:04:44.703Z"
   },
   {
    "duration": 0,
    "start_time": "2023-02-25T13:04:44.704Z"
   },
   {
    "duration": 0,
    "start_time": "2023-02-25T13:04:44.705Z"
   },
   {
    "duration": 0,
    "start_time": "2023-02-25T13:04:44.706Z"
   },
   {
    "duration": 0,
    "start_time": "2023-02-25T13:04:44.708Z"
   },
   {
    "duration": 0,
    "start_time": "2023-02-25T13:04:44.709Z"
   },
   {
    "duration": 0,
    "start_time": "2023-02-25T13:04:44.710Z"
   },
   {
    "duration": 0,
    "start_time": "2023-02-25T13:04:44.711Z"
   },
   {
    "duration": 0,
    "start_time": "2023-02-25T13:04:44.712Z"
   },
   {
    "duration": 0,
    "start_time": "2023-02-25T13:04:44.713Z"
   },
   {
    "duration": 0,
    "start_time": "2023-02-25T13:04:44.714Z"
   },
   {
    "duration": 0,
    "start_time": "2023-02-25T13:04:44.715Z"
   },
   {
    "duration": 0,
    "start_time": "2023-02-25T13:04:44.716Z"
   },
   {
    "duration": 0,
    "start_time": "2023-02-25T13:04:44.717Z"
   },
   {
    "duration": 0,
    "start_time": "2023-02-25T13:04:44.718Z"
   },
   {
    "duration": 0,
    "start_time": "2023-02-25T13:04:44.719Z"
   },
   {
    "duration": 1203,
    "start_time": "2023-02-25T13:07:42.724Z"
   },
   {
    "duration": 771,
    "start_time": "2023-02-25T13:07:43.929Z"
   },
   {
    "duration": 26,
    "start_time": "2023-02-25T13:07:44.702Z"
   },
   {
    "duration": 131,
    "start_time": "2023-02-25T13:07:44.730Z"
   },
   {
    "duration": 101,
    "start_time": "2023-02-25T13:07:44.863Z"
   },
   {
    "duration": 4,
    "start_time": "2023-02-25T13:07:44.966Z"
   },
   {
    "duration": 5,
    "start_time": "2023-02-25T13:07:44.972Z"
   },
   {
    "duration": 122,
    "start_time": "2023-02-25T13:07:44.979Z"
   },
   {
    "duration": 404,
    "start_time": "2023-02-25T13:07:45.102Z"
   },
   {
    "duration": 33,
    "start_time": "2023-02-25T13:07:45.508Z"
   },
   {
    "duration": 36,
    "start_time": "2023-02-25T13:07:45.542Z"
   },
   {
    "duration": 842,
    "start_time": "2023-02-25T13:07:45.579Z"
   },
   {
    "duration": 0,
    "start_time": "2023-02-25T13:07:46.425Z"
   },
   {
    "duration": 0,
    "start_time": "2023-02-25T13:07:46.427Z"
   },
   {
    "duration": 0,
    "start_time": "2023-02-25T13:07:46.428Z"
   },
   {
    "duration": 0,
    "start_time": "2023-02-25T13:07:46.430Z"
   },
   {
    "duration": 0,
    "start_time": "2023-02-25T13:07:46.431Z"
   },
   {
    "duration": 0,
    "start_time": "2023-02-25T13:07:46.432Z"
   },
   {
    "duration": 0,
    "start_time": "2023-02-25T13:07:46.433Z"
   },
   {
    "duration": 0,
    "start_time": "2023-02-25T13:07:46.434Z"
   },
   {
    "duration": 0,
    "start_time": "2023-02-25T13:07:46.435Z"
   },
   {
    "duration": 0,
    "start_time": "2023-02-25T13:07:46.436Z"
   },
   {
    "duration": 0,
    "start_time": "2023-02-25T13:07:46.438Z"
   },
   {
    "duration": 0,
    "start_time": "2023-02-25T13:07:46.438Z"
   },
   {
    "duration": 0,
    "start_time": "2023-02-25T13:07:46.439Z"
   },
   {
    "duration": 0,
    "start_time": "2023-02-25T13:07:46.440Z"
   },
   {
    "duration": 0,
    "start_time": "2023-02-25T13:07:46.441Z"
   },
   {
    "duration": 0,
    "start_time": "2023-02-25T13:07:46.442Z"
   },
   {
    "duration": 0,
    "start_time": "2023-02-25T13:07:46.443Z"
   },
   {
    "duration": 0,
    "start_time": "2023-02-25T13:07:46.444Z"
   },
   {
    "duration": 0,
    "start_time": "2023-02-25T13:07:46.445Z"
   },
   {
    "duration": 0,
    "start_time": "2023-02-25T13:07:46.446Z"
   },
   {
    "duration": 0,
    "start_time": "2023-02-25T13:07:46.447Z"
   },
   {
    "duration": 0,
    "start_time": "2023-02-25T13:07:46.449Z"
   },
   {
    "duration": 0,
    "start_time": "2023-02-25T13:07:46.450Z"
   },
   {
    "duration": 0,
    "start_time": "2023-02-25T13:07:46.451Z"
   },
   {
    "duration": 0,
    "start_time": "2023-02-25T13:07:46.451Z"
   },
   {
    "duration": 0,
    "start_time": "2023-02-25T13:07:46.453Z"
   },
   {
    "duration": 0,
    "start_time": "2023-02-25T13:07:46.454Z"
   },
   {
    "duration": 0,
    "start_time": "2023-02-25T13:07:46.455Z"
   },
   {
    "duration": 667,
    "start_time": "2023-02-25T13:08:07.231Z"
   },
   {
    "duration": 27,
    "start_time": "2023-02-25T13:08:08.069Z"
   },
   {
    "duration": 109,
    "start_time": "2023-02-25T13:08:29.827Z"
   },
   {
    "duration": 29,
    "start_time": "2023-02-25T13:09:27.207Z"
   },
   {
    "duration": 36,
    "start_time": "2023-02-25T13:09:47.265Z"
   },
   {
    "duration": 29,
    "start_time": "2023-02-25T13:09:48.446Z"
   },
   {
    "duration": 217,
    "start_time": "2023-02-25T13:09:50.396Z"
   },
   {
    "duration": 3,
    "start_time": "2023-02-25T13:09:50.921Z"
   },
   {
    "duration": 3257,
    "start_time": "2023-02-25T13:09:51.475Z"
   },
   {
    "duration": 15,
    "start_time": "2023-02-25T13:09:54.734Z"
   },
   {
    "duration": 6,
    "start_time": "2023-02-25T13:09:56.871Z"
   },
   {
    "duration": 29,
    "start_time": "2023-02-25T13:09:57.392Z"
   },
   {
    "duration": 109,
    "start_time": "2023-02-25T13:09:57.954Z"
   },
   {
    "duration": 5,
    "start_time": "2023-02-25T13:09:58.944Z"
   },
   {
    "duration": 16,
    "start_time": "2023-02-25T13:10:04.278Z"
   },
   {
    "duration": 53,
    "start_time": "2023-02-25T13:13:11.471Z"
   },
   {
    "duration": 31,
    "start_time": "2023-02-25T13:13:13.392Z"
   },
   {
    "duration": 202,
    "start_time": "2023-02-25T13:13:14.274Z"
   },
   {
    "duration": 4,
    "start_time": "2023-02-25T13:13:14.744Z"
   },
   {
    "duration": 3278,
    "start_time": "2023-02-25T13:13:15.343Z"
   },
   {
    "duration": 15,
    "start_time": "2023-02-25T13:13:18.623Z"
   },
   {
    "duration": 8,
    "start_time": "2023-02-25T13:13:18.639Z"
   },
   {
    "duration": 41,
    "start_time": "2023-02-25T13:13:20.264Z"
   },
   {
    "duration": 64,
    "start_time": "2023-02-25T13:14:00.763Z"
   },
   {
    "duration": 91,
    "start_time": "2023-02-25T13:14:01.127Z"
   },
   {
    "duration": 134,
    "start_time": "2023-02-25T13:14:27.594Z"
   },
   {
    "duration": 72,
    "start_time": "2023-02-25T13:14:29.119Z"
   },
   {
    "duration": 97,
    "start_time": "2023-02-25T13:14:32.688Z"
   },
   {
    "duration": 15,
    "start_time": "2023-02-25T13:14:56.463Z"
   },
   {
    "duration": 15,
    "start_time": "2023-02-25T13:15:58.991Z"
   },
   {
    "duration": 14,
    "start_time": "2023-02-25T13:16:03.802Z"
   },
   {
    "duration": 70,
    "start_time": "2023-02-25T13:16:04.013Z"
   },
   {
    "duration": 41,
    "start_time": "2023-02-25T13:16:40.574Z"
   },
   {
    "duration": 23,
    "start_time": "2023-02-25T13:17:00.836Z"
   },
   {
    "duration": 13,
    "start_time": "2023-02-25T13:18:14.238Z"
   },
   {
    "duration": 14,
    "start_time": "2023-02-25T13:18:21.908Z"
   },
   {
    "duration": 1094,
    "start_time": "2023-02-25T13:18:52.732Z"
   },
   {
    "duration": 773,
    "start_time": "2023-02-25T13:18:53.827Z"
   },
   {
    "duration": 27,
    "start_time": "2023-02-25T13:18:54.601Z"
   },
   {
    "duration": 126,
    "start_time": "2023-02-25T13:18:54.631Z"
   },
   {
    "duration": 100,
    "start_time": "2023-02-25T13:18:54.759Z"
   },
   {
    "duration": 5,
    "start_time": "2023-02-25T13:18:54.861Z"
   },
   {
    "duration": 123,
    "start_time": "2023-02-25T13:18:54.868Z"
   },
   {
    "duration": 4,
    "start_time": "2023-02-25T13:18:54.992Z"
   },
   {
    "duration": 121,
    "start_time": "2023-02-25T13:18:54.997Z"
   },
   {
    "duration": 394,
    "start_time": "2023-02-25T13:18:55.120Z"
   },
   {
    "duration": 31,
    "start_time": "2023-02-25T13:18:55.516Z"
   },
   {
    "duration": 36,
    "start_time": "2023-02-25T13:18:55.549Z"
   },
   {
    "duration": 40,
    "start_time": "2023-02-25T13:18:55.587Z"
   },
   {
    "duration": 56,
    "start_time": "2023-02-25T13:18:55.629Z"
   },
   {
    "duration": 42,
    "start_time": "2023-02-25T13:18:55.687Z"
   },
   {
    "duration": 221,
    "start_time": "2023-02-25T13:18:55.731Z"
   },
   {
    "duration": 5,
    "start_time": "2023-02-25T13:18:55.954Z"
   },
   {
    "duration": 3308,
    "start_time": "2023-02-25T13:18:55.960Z"
   },
   {
    "duration": 16,
    "start_time": "2023-02-25T13:18:59.270Z"
   },
   {
    "duration": 8,
    "start_time": "2023-02-25T13:18:59.288Z"
   },
   {
    "duration": 43,
    "start_time": "2023-02-25T13:18:59.298Z"
   },
   {
    "duration": 111,
    "start_time": "2023-02-25T13:18:59.343Z"
   },
   {
    "duration": 137,
    "start_time": "2023-02-25T13:18:59.455Z"
   },
   {
    "duration": 96,
    "start_time": "2023-02-25T13:18:59.594Z"
   },
   {
    "duration": 96,
    "start_time": "2023-02-25T13:18:59.692Z"
   },
   {
    "duration": 38,
    "start_time": "2023-02-25T13:18:59.789Z"
   },
   {
    "duration": 66,
    "start_time": "2023-02-25T13:18:59.829Z"
   },
   {
    "duration": 817,
    "start_time": "2023-02-25T13:18:59.898Z"
   },
   {
    "duration": 119,
    "start_time": "2023-02-25T13:19:00.717Z"
   },
   {
    "duration": 0,
    "start_time": "2023-02-25T13:19:00.838Z"
   },
   {
    "duration": 0,
    "start_time": "2023-02-25T13:19:00.839Z"
   },
   {
    "duration": 0,
    "start_time": "2023-02-25T13:19:00.840Z"
   },
   {
    "duration": 0,
    "start_time": "2023-02-25T13:19:00.841Z"
   },
   {
    "duration": 0,
    "start_time": "2023-02-25T13:19:00.842Z"
   },
   {
    "duration": 0,
    "start_time": "2023-02-25T13:19:00.843Z"
   },
   {
    "duration": 0,
    "start_time": "2023-02-25T13:19:00.844Z"
   },
   {
    "duration": 0,
    "start_time": "2023-02-25T13:19:00.845Z"
   },
   {
    "duration": 0,
    "start_time": "2023-02-25T13:19:00.846Z"
   },
   {
    "duration": 0,
    "start_time": "2023-02-25T13:19:00.848Z"
   },
   {
    "duration": 670,
    "start_time": "2023-02-25T13:19:25.503Z"
   },
   {
    "duration": 199,
    "start_time": "2023-02-25T13:19:26.175Z"
   },
   {
    "duration": 720,
    "start_time": "2023-02-25T13:19:47.264Z"
   },
   {
    "duration": 195,
    "start_time": "2023-02-25T13:19:47.986Z"
   },
   {
    "duration": 371,
    "start_time": "2023-02-25T13:19:57.902Z"
   },
   {
    "duration": 380,
    "start_time": "2023-02-25T13:20:03.599Z"
   },
   {
    "duration": 3,
    "start_time": "2023-02-25T13:20:05.803Z"
   },
   {
    "duration": 3,
    "start_time": "2023-02-25T13:20:06.087Z"
   },
   {
    "duration": 29,
    "start_time": "2023-02-25T13:20:06.991Z"
   },
   {
    "duration": 4,
    "start_time": "2023-02-25T13:20:25.691Z"
   },
   {
    "duration": 4,
    "start_time": "2023-02-25T13:20:27.512Z"
   },
   {
    "duration": 3,
    "start_time": "2023-02-25T13:20:30.895Z"
   },
   {
    "duration": 3257,
    "start_time": "2023-02-25T13:20:31.903Z"
   },
   {
    "duration": 36,
    "start_time": "2023-02-25T13:20:35.162Z"
   },
   {
    "duration": 5,
    "start_time": "2023-02-25T13:20:35.200Z"
   },
   {
    "duration": 5,
    "start_time": "2023-02-25T13:22:58.828Z"
   },
   {
    "duration": 4,
    "start_time": "2023-02-25T13:24:00.072Z"
   },
   {
    "duration": 5,
    "start_time": "2023-02-25T13:24:00.975Z"
   },
   {
    "duration": 4,
    "start_time": "2023-02-25T13:24:14.898Z"
   },
   {
    "duration": 5,
    "start_time": "2023-02-25T13:26:14.988Z"
   },
   {
    "duration": 9,
    "start_time": "2023-02-25T13:39:25.998Z"
   },
   {
    "duration": 29,
    "start_time": "2023-02-25T13:40:16.370Z"
   },
   {
    "duration": 11,
    "start_time": "2023-02-25T13:40:22.363Z"
   },
   {
    "duration": 4,
    "start_time": "2023-02-25T13:42:40.786Z"
   },
   {
    "duration": 11,
    "start_time": "2023-02-25T13:42:50.394Z"
   },
   {
    "duration": 4,
    "start_time": "2023-02-25T13:43:27.455Z"
   },
   {
    "duration": 3,
    "start_time": "2023-02-25T13:43:33.755Z"
   },
   {
    "duration": 9,
    "start_time": "2023-02-25T13:43:47.138Z"
   },
   {
    "duration": 10,
    "start_time": "2023-02-25T13:43:56.974Z"
   },
   {
    "duration": 13965,
    "start_time": "2023-02-25T13:45:30.963Z"
   },
   {
    "duration": 10,
    "start_time": "2023-02-25T13:45:58.781Z"
   },
   {
    "duration": 1144,
    "start_time": "2023-02-25T13:46:05.096Z"
   },
   {
    "duration": 1155,
    "start_time": "2023-02-25T13:46:29.980Z"
   },
   {
    "duration": 5,
    "start_time": "2023-02-25T13:46:31.139Z"
   },
   {
    "duration": 4,
    "start_time": "2023-02-25T13:49:24.934Z"
   },
   {
    "duration": 1299,
    "start_time": "2023-02-25T13:51:13.280Z"
   },
   {
    "duration": 860,
    "start_time": "2023-02-25T13:51:14.582Z"
   },
   {
    "duration": 23,
    "start_time": "2023-02-25T13:51:15.443Z"
   },
   {
    "duration": 124,
    "start_time": "2023-02-25T13:51:15.467Z"
   },
   {
    "duration": 107,
    "start_time": "2023-02-25T13:51:15.593Z"
   },
   {
    "duration": 6,
    "start_time": "2023-02-25T13:51:15.701Z"
   },
   {
    "duration": 131,
    "start_time": "2023-02-25T13:51:15.708Z"
   },
   {
    "duration": 4,
    "start_time": "2023-02-25T13:51:15.841Z"
   },
   {
    "duration": 114,
    "start_time": "2023-02-25T13:51:15.846Z"
   },
   {
    "duration": 399,
    "start_time": "2023-02-25T13:51:15.961Z"
   },
   {
    "duration": 41,
    "start_time": "2023-02-25T13:51:16.362Z"
   },
   {
    "duration": 67,
    "start_time": "2023-02-25T13:51:16.405Z"
   },
   {
    "duration": 56,
    "start_time": "2023-02-25T13:51:16.474Z"
   },
   {
    "duration": 100,
    "start_time": "2023-02-25T13:51:16.534Z"
   },
   {
    "duration": 43,
    "start_time": "2023-02-25T13:51:16.636Z"
   },
   {
    "duration": 240,
    "start_time": "2023-02-25T13:51:16.682Z"
   },
   {
    "duration": 4,
    "start_time": "2023-02-25T13:51:16.924Z"
   },
   {
    "duration": 3451,
    "start_time": "2023-02-25T13:51:16.930Z"
   },
   {
    "duration": 19,
    "start_time": "2023-02-25T13:51:20.383Z"
   },
   {
    "duration": 11,
    "start_time": "2023-02-25T13:51:20.404Z"
   },
   {
    "duration": 37,
    "start_time": "2023-02-25T13:51:20.428Z"
   },
   {
    "duration": 131,
    "start_time": "2023-02-25T13:51:20.467Z"
   },
   {
    "duration": 149,
    "start_time": "2023-02-25T13:51:20.600Z"
   },
   {
    "duration": 94,
    "start_time": "2023-02-25T13:51:20.751Z"
   },
   {
    "duration": 99,
    "start_time": "2023-02-25T13:51:20.846Z"
   },
   {
    "duration": 22,
    "start_time": "2023-02-25T13:51:20.946Z"
   },
   {
    "duration": 81,
    "start_time": "2023-02-25T13:51:20.970Z"
   },
   {
    "duration": 793,
    "start_time": "2023-02-25T13:51:21.052Z"
   },
   {
    "duration": 476,
    "start_time": "2023-02-25T13:51:21.847Z"
   },
   {
    "duration": 419,
    "start_time": "2023-02-25T13:51:22.325Z"
   },
   {
    "duration": 32,
    "start_time": "2023-02-25T13:51:22.745Z"
   },
   {
    "duration": 5,
    "start_time": "2023-02-25T13:51:22.779Z"
   },
   {
    "duration": 7,
    "start_time": "2023-02-25T13:51:22.786Z"
   },
   {
    "duration": 9,
    "start_time": "2023-02-25T13:51:22.795Z"
   },
   {
    "duration": 23,
    "start_time": "2023-02-25T13:51:22.805Z"
   },
   {
    "duration": 3299,
    "start_time": "2023-02-25T13:51:22.831Z"
   },
   {
    "duration": 44,
    "start_time": "2023-02-25T13:51:26.131Z"
   },
   {
    "duration": 6,
    "start_time": "2023-02-25T13:51:26.177Z"
   },
   {
    "duration": 5,
    "start_time": "2023-02-25T13:51:26.185Z"
   },
   {
    "duration": 462248,
    "start_time": "2023-02-25T13:51:26.192Z"
   },
   {
    "duration": 1197,
    "start_time": "2023-02-25T13:59:08.444Z"
   },
   {
    "duration": 5,
    "start_time": "2023-02-25T13:59:09.643Z"
   },
   {
    "duration": 185,
    "start_time": "2023-02-25T13:59:09.649Z"
   },
   {
    "duration": 0,
    "start_time": "2023-02-25T13:59:09.836Z"
   },
   {
    "duration": 0,
    "start_time": "2023-02-25T13:59:09.838Z"
   },
   {
    "duration": 0,
    "start_time": "2023-02-25T13:59:09.839Z"
   },
   {
    "duration": 30,
    "start_time": "2023-02-25T14:24:10.291Z"
   },
   {
    "duration": 2,
    "start_time": "2023-02-25T14:24:15.458Z"
   },
   {
    "duration": 30533,
    "start_time": "2023-02-25T14:24:16.002Z"
   },
   {
    "duration": 389,
    "start_time": "2023-02-25T14:24:46.538Z"
   },
   {
    "duration": 6,
    "start_time": "2023-02-25T14:24:46.929Z"
   },
   {
    "duration": 1344,
    "start_time": "2023-02-25T18:02:18.740Z"
   },
   {
    "duration": 1255,
    "start_time": "2023-02-25T18:02:20.086Z"
   },
   {
    "duration": 97,
    "start_time": "2023-02-25T18:02:21.345Z"
   },
   {
    "duration": 151,
    "start_time": "2023-02-25T18:02:21.444Z"
   },
   {
    "duration": 122,
    "start_time": "2023-02-25T18:02:21.597Z"
   },
   {
    "duration": 5,
    "start_time": "2023-02-25T18:02:21.721Z"
   },
   {
    "duration": 166,
    "start_time": "2023-02-25T18:02:21.728Z"
   },
   {
    "duration": 5,
    "start_time": "2023-02-25T18:02:21.896Z"
   },
   {
    "duration": 182,
    "start_time": "2023-02-25T18:02:21.905Z"
   },
   {
    "duration": 527,
    "start_time": "2023-02-25T18:02:22.089Z"
   },
   {
    "duration": 41,
    "start_time": "2023-02-25T18:02:22.618Z"
   },
   {
    "duration": 41,
    "start_time": "2023-02-25T18:02:22.661Z"
   },
   {
    "duration": 52,
    "start_time": "2023-02-25T18:02:22.704Z"
   },
   {
    "duration": 72,
    "start_time": "2023-02-25T18:02:22.757Z"
   },
   {
    "duration": 39,
    "start_time": "2023-02-25T18:02:22.831Z"
   },
   {
    "duration": 297,
    "start_time": "2023-02-25T18:02:22.871Z"
   },
   {
    "duration": 5,
    "start_time": "2023-02-25T18:02:23.170Z"
   },
   {
    "duration": 148565,
    "start_time": "2023-02-25T18:02:23.177Z"
   },
   {
    "duration": 17,
    "start_time": "2023-02-25T18:04:51.744Z"
   },
   {
    "duration": 11,
    "start_time": "2023-02-25T18:04:51.763Z"
   },
   {
    "duration": 46,
    "start_time": "2023-02-25T18:04:51.776Z"
   },
   {
    "duration": 162,
    "start_time": "2023-02-25T18:04:51.825Z"
   },
   {
    "duration": 162,
    "start_time": "2023-02-25T18:04:51.988Z"
   },
   {
    "duration": 95,
    "start_time": "2023-02-25T18:04:52.152Z"
   },
   {
    "duration": 123,
    "start_time": "2023-02-25T18:04:52.249Z"
   },
   {
    "duration": 23,
    "start_time": "2023-02-25T18:04:52.373Z"
   },
   {
    "duration": 92,
    "start_time": "2023-02-25T18:04:52.400Z"
   },
   {
    "duration": 723,
    "start_time": "2023-02-25T18:04:52.494Z"
   },
   {
    "duration": 482,
    "start_time": "2023-02-25T18:04:53.219Z"
   },
   {
    "duration": 437,
    "start_time": "2023-02-25T18:04:53.704Z"
   },
   {
    "duration": 31,
    "start_time": "2023-02-25T18:04:54.143Z"
   },
   {
    "duration": 21,
    "start_time": "2023-02-25T18:04:54.176Z"
   },
   {
    "duration": 64,
    "start_time": "2023-02-25T18:04:54.199Z"
   },
   {
    "duration": 51,
    "start_time": "2023-02-25T18:04:54.264Z"
   },
   {
    "duration": 87,
    "start_time": "2023-02-25T18:04:54.317Z"
   },
   {
    "duration": 3361,
    "start_time": "2023-02-25T18:04:54.406Z"
   },
   {
    "duration": 42,
    "start_time": "2023-02-25T18:04:57.768Z"
   },
   {
    "duration": 5,
    "start_time": "2023-02-25T18:04:57.812Z"
   },
   {
    "duration": 6,
    "start_time": "2023-02-25T18:04:57.819Z"
   },
   {
    "duration": 11820,
    "start_time": "2023-02-25T18:04:57.826Z"
   },
   {
    "duration": 1203,
    "start_time": "2023-02-25T18:05:09.648Z"
   },
   {
    "duration": 6,
    "start_time": "2023-02-25T18:05:10.853Z"
   },
   {
    "duration": 23,
    "start_time": "2023-02-25T18:05:10.861Z"
   },
   {
    "duration": 25464,
    "start_time": "2023-02-25T18:05:10.886Z"
   },
   {
    "duration": 301,
    "start_time": "2023-02-25T18:05:36.352Z"
   },
   {
    "duration": 87,
    "start_time": "2023-02-25T18:05:36.655Z"
   },
   {
    "duration": 3,
    "start_time": "2023-02-25T18:11:03.431Z"
   },
   {
    "duration": 1262,
    "start_time": "2023-02-25T18:29:47.125Z"
   },
   {
    "duration": 1000,
    "start_time": "2023-02-25T18:29:48.390Z"
   },
   {
    "duration": 25,
    "start_time": "2023-02-25T18:29:49.392Z"
   },
   {
    "duration": 216,
    "start_time": "2023-02-25T18:29:49.419Z"
   },
   {
    "duration": 101,
    "start_time": "2023-02-25T18:29:49.640Z"
   },
   {
    "duration": 5,
    "start_time": "2023-02-25T18:29:49.742Z"
   },
   {
    "duration": 166,
    "start_time": "2023-02-25T18:29:49.748Z"
   },
   {
    "duration": 4,
    "start_time": "2023-02-25T18:29:49.916Z"
   },
   {
    "duration": 143,
    "start_time": "2023-02-25T18:29:49.922Z"
   },
   {
    "duration": 318,
    "start_time": "2023-02-25T18:29:50.067Z"
   },
   {
    "duration": 33,
    "start_time": "2023-02-25T18:29:50.388Z"
   },
   {
    "duration": 50,
    "start_time": "2023-02-25T18:29:50.422Z"
   },
   {
    "duration": 42,
    "start_time": "2023-02-25T18:29:50.473Z"
   },
   {
    "duration": 39,
    "start_time": "2023-02-25T18:29:50.518Z"
   },
   {
    "duration": 65,
    "start_time": "2023-02-25T18:29:50.558Z"
   },
   {
    "duration": 41,
    "start_time": "2023-02-25T18:29:50.625Z"
   },
   {
    "duration": 245,
    "start_time": "2023-02-25T18:29:50.668Z"
   },
   {
    "duration": 4,
    "start_time": "2023-02-25T18:29:50.916Z"
   },
   {
    "duration": 148099,
    "start_time": "2023-02-25T18:29:50.921Z"
   },
   {
    "duration": 23,
    "start_time": "2023-02-25T18:32:19.022Z"
   },
   {
    "duration": 17,
    "start_time": "2023-02-25T18:32:19.047Z"
   },
   {
    "duration": 168,
    "start_time": "2023-02-25T18:32:19.066Z"
   },
   {
    "duration": 153,
    "start_time": "2023-02-25T18:32:19.239Z"
   },
   {
    "duration": 93,
    "start_time": "2023-02-25T18:32:19.394Z"
   },
   {
    "duration": 123,
    "start_time": "2023-02-25T18:32:19.489Z"
   },
   {
    "duration": 35,
    "start_time": "2023-02-25T18:32:19.613Z"
   },
   {
    "duration": 77,
    "start_time": "2023-02-25T18:32:19.650Z"
   },
   {
    "duration": 703,
    "start_time": "2023-02-25T18:32:19.741Z"
   },
   {
    "duration": 463,
    "start_time": "2023-02-25T18:32:20.445Z"
   },
   {
    "duration": 2,
    "start_time": "2023-02-25T18:32:20.910Z"
   },
   {
    "duration": 40,
    "start_time": "2023-02-25T18:32:20.914Z"
   },
   {
    "duration": 4,
    "start_time": "2023-02-25T18:32:20.957Z"
   },
   {
    "duration": 28,
    "start_time": "2023-02-25T18:32:20.963Z"
   },
   {
    "duration": 117,
    "start_time": "2023-02-25T18:32:20.993Z"
   },
   {
    "duration": 0,
    "start_time": "2023-02-25T18:32:21.113Z"
   },
   {
    "duration": 0,
    "start_time": "2023-02-25T18:32:21.114Z"
   },
   {
    "duration": 0,
    "start_time": "2023-02-25T18:32:21.115Z"
   },
   {
    "duration": 0,
    "start_time": "2023-02-25T18:32:21.117Z"
   },
   {
    "duration": 0,
    "start_time": "2023-02-25T18:32:21.119Z"
   },
   {
    "duration": 0,
    "start_time": "2023-02-25T18:32:21.120Z"
   },
   {
    "duration": 0,
    "start_time": "2023-02-25T18:32:21.121Z"
   },
   {
    "duration": 0,
    "start_time": "2023-02-25T18:32:21.123Z"
   },
   {
    "duration": 1,
    "start_time": "2023-02-25T18:32:21.140Z"
   },
   {
    "duration": 0,
    "start_time": "2023-02-25T18:32:21.142Z"
   },
   {
    "duration": 0,
    "start_time": "2023-02-25T18:32:21.143Z"
   },
   {
    "duration": 0,
    "start_time": "2023-02-25T18:32:21.145Z"
   },
   {
    "duration": 11,
    "start_time": "2023-02-25T18:33:26.594Z"
   },
   {
    "duration": 5,
    "start_time": "2023-02-25T18:34:04.609Z"
   },
   {
    "duration": 54,
    "start_time": "2023-02-25T18:34:37.722Z"
   },
   {
    "duration": 1314,
    "start_time": "2023-02-25T18:34:45.986Z"
   },
   {
    "duration": 1300,
    "start_time": "2023-02-25T18:34:53.387Z"
   },
   {
    "duration": 1303,
    "start_time": "2023-02-25T18:34:54.689Z"
   },
   {
    "duration": 24,
    "start_time": "2023-02-25T18:34:55.994Z"
   },
   {
    "duration": 239,
    "start_time": "2023-02-25T18:34:56.021Z"
   },
   {
    "duration": 114,
    "start_time": "2023-02-25T18:34:56.262Z"
   },
   {
    "duration": 5,
    "start_time": "2023-02-25T18:34:56.378Z"
   },
   {
    "duration": 177,
    "start_time": "2023-02-25T18:34:56.385Z"
   },
   {
    "duration": 4,
    "start_time": "2023-02-25T18:34:56.564Z"
   },
   {
    "duration": 155,
    "start_time": "2023-02-25T18:34:56.569Z"
   },
   {
    "duration": 338,
    "start_time": "2023-02-25T18:34:56.728Z"
   },
   {
    "duration": 37,
    "start_time": "2023-02-25T18:34:57.069Z"
   },
   {
    "duration": 67,
    "start_time": "2023-02-25T18:34:57.109Z"
   },
   {
    "duration": 37,
    "start_time": "2023-02-25T18:34:57.178Z"
   },
   {
    "duration": 52,
    "start_time": "2023-02-25T18:34:57.217Z"
   },
   {
    "duration": 80,
    "start_time": "2023-02-25T18:34:57.272Z"
   },
   {
    "duration": 36,
    "start_time": "2023-02-25T18:34:57.354Z"
   },
   {
    "duration": 262,
    "start_time": "2023-02-25T18:34:57.392Z"
   },
   {
    "duration": 4,
    "start_time": "2023-02-25T18:34:57.656Z"
   },
   {
    "duration": 147905,
    "start_time": "2023-02-25T18:34:57.661Z"
   },
   {
    "duration": 18,
    "start_time": "2023-02-25T18:37:25.568Z"
   },
   {
    "duration": 8,
    "start_time": "2023-02-25T18:37:25.588Z"
   },
   {
    "duration": 177,
    "start_time": "2023-02-25T18:37:25.598Z"
   },
   {
    "duration": 178,
    "start_time": "2023-02-25T18:37:25.779Z"
   },
   {
    "duration": 96,
    "start_time": "2023-02-25T18:37:25.958Z"
   },
   {
    "duration": 137,
    "start_time": "2023-02-25T18:37:26.065Z"
   },
   {
    "duration": 36,
    "start_time": "2023-02-25T18:37:26.204Z"
   },
   {
    "duration": 86,
    "start_time": "2023-02-25T18:37:26.244Z"
   },
   {
    "duration": 767,
    "start_time": "2023-02-25T18:37:26.342Z"
   },
   {
    "duration": 499,
    "start_time": "2023-02-25T18:37:27.111Z"
   },
   {
    "duration": 3,
    "start_time": "2023-02-25T18:37:27.612Z"
   },
   {
    "duration": 49,
    "start_time": "2023-02-25T18:37:27.616Z"
   },
   {
    "duration": 4,
    "start_time": "2023-02-25T18:37:27.667Z"
   },
   {
    "duration": 7,
    "start_time": "2023-02-25T18:37:27.673Z"
   },
   {
    "duration": 56,
    "start_time": "2023-02-25T18:39:08.005Z"
   },
   {
    "duration": 8,
    "start_time": "2023-02-25T18:39:11.856Z"
   },
   {
    "duration": 1331,
    "start_time": "2023-02-25T18:39:53.570Z"
   },
   {
    "duration": 4,
    "start_time": "2023-02-25T18:39:57.878Z"
   },
   {
    "duration": 73,
    "start_time": "2023-02-25T18:40:01.250Z"
   },
   {
    "duration": 12,
    "start_time": "2023-02-25T18:40:18.094Z"
   },
   {
    "duration": 12,
    "start_time": "2023-02-25T18:40:23.086Z"
   },
   {
    "duration": 10,
    "start_time": "2023-02-25T18:40:30.014Z"
   },
   {
    "duration": 3,
    "start_time": "2023-02-25T18:40:30.513Z"
   },
   {
    "duration": 9,
    "start_time": "2023-02-25T18:40:30.598Z"
   },
   {
    "duration": 5,
    "start_time": "2023-02-25T18:40:38.429Z"
   },
   {
    "duration": 1245,
    "start_time": "2023-02-25T18:40:38.930Z"
   },
   {
    "duration": 27,
    "start_time": "2023-02-25T18:40:40.177Z"
   },
   {
    "duration": 169,
    "start_time": "2023-02-25T18:40:40.206Z"
   },
   {
    "duration": 184,
    "start_time": "2023-02-25T18:40:40.377Z"
   },
   {
    "duration": 5,
    "start_time": "2023-02-25T18:40:41.590Z"
   },
   {
    "duration": 148,
    "start_time": "2023-02-25T18:40:41.665Z"
   },
   {
    "duration": 3,
    "start_time": "2023-02-25T18:40:41.829Z"
   },
   {
    "duration": 151,
    "start_time": "2023-02-25T18:40:41.914Z"
   },
   {
    "duration": 327,
    "start_time": "2023-02-25T18:40:42.066Z"
   },
   {
    "duration": 58,
    "start_time": "2023-02-25T18:40:42.395Z"
   },
   {
    "duration": 37,
    "start_time": "2023-02-25T18:40:42.455Z"
   },
   {
    "duration": 38,
    "start_time": "2023-02-25T18:40:42.494Z"
   },
   {
    "duration": 52,
    "start_time": "2023-02-25T18:40:42.534Z"
   },
   {
    "duration": 84,
    "start_time": "2023-02-25T18:40:42.588Z"
   },
   {
    "duration": 35,
    "start_time": "2023-02-25T18:40:42.674Z"
   },
   {
    "duration": 234,
    "start_time": "2023-02-25T18:40:42.753Z"
   },
   {
    "duration": 4,
    "start_time": "2023-02-25T18:40:42.989Z"
   },
   {
    "duration": 142265,
    "start_time": "2023-02-25T18:40:42.994Z"
   },
   {
    "duration": 20,
    "start_time": "2023-02-25T18:43:05.261Z"
   },
   {
    "duration": 9,
    "start_time": "2023-02-25T18:43:05.282Z"
   },
   {
    "duration": 189,
    "start_time": "2023-02-25T18:43:05.292Z"
   },
   {
    "duration": 151,
    "start_time": "2023-02-25T18:43:05.483Z"
   },
   {
    "duration": 86,
    "start_time": "2023-02-25T18:43:05.636Z"
   },
   {
    "duration": 137,
    "start_time": "2023-02-25T18:43:05.724Z"
   },
   {
    "duration": 23,
    "start_time": "2023-02-25T18:43:05.863Z"
   },
   {
    "duration": 110,
    "start_time": "2023-02-25T18:43:05.889Z"
   },
   {
    "duration": 810,
    "start_time": "2023-02-25T18:43:06.000Z"
   },
   {
    "duration": 501,
    "start_time": "2023-02-25T18:43:06.812Z"
   },
   {
    "duration": 3,
    "start_time": "2023-02-25T18:43:07.315Z"
   },
   {
    "duration": 45,
    "start_time": "2023-02-25T18:43:07.319Z"
   },
   {
    "duration": 4,
    "start_time": "2023-02-25T18:43:07.366Z"
   },
   {
    "duration": 16,
    "start_time": "2023-02-25T18:43:07.372Z"
   },
   {
    "duration": 56,
    "start_time": "2023-02-25T18:44:14.725Z"
   },
   {
    "duration": 7,
    "start_time": "2023-02-25T18:45:36.780Z"
   },
   {
    "duration": 1326,
    "start_time": "2023-02-25T18:45:52.033Z"
   },
   {
    "duration": 1303,
    "start_time": "2023-02-25T18:45:53.362Z"
   },
   {
    "duration": 22,
    "start_time": "2023-02-25T18:45:54.667Z"
   },
   {
    "duration": 153,
    "start_time": "2023-02-25T18:45:55.226Z"
   },
   {
    "duration": 100,
    "start_time": "2023-02-25T18:45:55.711Z"
   },
   {
    "duration": 5,
    "start_time": "2023-02-25T18:45:56.579Z"
   },
   {
    "duration": 143,
    "start_time": "2023-02-25T18:45:56.865Z"
   },
   {
    "duration": 4,
    "start_time": "2023-02-25T18:45:57.625Z"
   },
   {
    "duration": 222,
    "start_time": "2023-02-25T18:45:57.969Z"
   },
   {
    "duration": 349,
    "start_time": "2023-02-25T18:45:58.423Z"
   },
   {
    "duration": 43,
    "start_time": "2023-02-25T18:46:00.426Z"
   },
   {
    "duration": 38,
    "start_time": "2023-02-25T18:46:00.828Z"
   },
   {
    "duration": 37,
    "start_time": "2023-02-25T18:46:01.955Z"
   },
   {
    "duration": 43,
    "start_time": "2023-02-25T18:46:02.872Z"
   },
   {
    "duration": 66,
    "start_time": "2023-02-25T18:46:03.568Z"
   },
   {
    "duration": 36,
    "start_time": "2023-02-25T18:46:04.492Z"
   },
   {
    "duration": 235,
    "start_time": "2023-02-25T18:46:05.392Z"
   },
   {
    "duration": 5,
    "start_time": "2023-02-25T18:46:06.653Z"
   },
   {
    "duration": 143613,
    "start_time": "2023-02-25T18:46:08.327Z"
   },
   {
    "duration": 28,
    "start_time": "2023-02-25T18:48:31.944Z"
   },
   {
    "duration": 18,
    "start_time": "2023-02-25T18:48:31.974Z"
   },
   {
    "duration": 162,
    "start_time": "2023-02-25T18:48:31.994Z"
   },
   {
    "duration": 139,
    "start_time": "2023-02-25T18:48:32.158Z"
   },
   {
    "duration": 97,
    "start_time": "2023-02-25T18:48:32.298Z"
   },
   {
    "duration": 156,
    "start_time": "2023-02-25T18:48:32.396Z"
   },
   {
    "duration": 44,
    "start_time": "2023-02-25T18:48:32.554Z"
   },
   {
    "duration": 98,
    "start_time": "2023-02-25T18:48:32.600Z"
   },
   {
    "duration": 772,
    "start_time": "2023-02-25T18:48:32.701Z"
   },
   {
    "duration": 482,
    "start_time": "2023-02-25T18:48:33.475Z"
   },
   {
    "duration": 4,
    "start_time": "2023-02-25T18:48:33.959Z"
   },
   {
    "duration": 51,
    "start_time": "2023-02-25T18:48:33.965Z"
   },
   {
    "duration": 4,
    "start_time": "2023-02-25T18:48:34.018Z"
   },
   {
    "duration": 12,
    "start_time": "2023-02-25T18:48:34.024Z"
   },
   {
    "duration": 18,
    "start_time": "2023-02-25T18:48:34.037Z"
   },
   {
    "duration": 5,
    "start_time": "2023-02-25T18:48:34.057Z"
   },
   {
    "duration": 7,
    "start_time": "2023-02-25T18:48:34.063Z"
   },
   {
    "duration": 1976,
    "start_time": "2023-02-25T18:49:15.707Z"
   },
   {
    "duration": 51,
    "start_time": "2023-02-25T18:53:41.474Z"
   },
   {
    "duration": 1340,
    "start_time": "2023-02-25T18:53:47.379Z"
   },
   {
    "duration": 1270,
    "start_time": "2023-02-25T18:53:48.721Z"
   },
   {
    "duration": 23,
    "start_time": "2023-02-25T18:53:49.992Z"
   },
   {
    "duration": 148,
    "start_time": "2023-02-25T18:53:50.017Z"
   },
   {
    "duration": 189,
    "start_time": "2023-02-25T18:53:50.166Z"
   },
   {
    "duration": 5,
    "start_time": "2023-02-25T18:53:50.357Z"
   },
   {
    "duration": 151,
    "start_time": "2023-02-25T18:53:50.365Z"
   },
   {
    "duration": 9,
    "start_time": "2023-02-25T18:53:53.840Z"
   },
   {
    "duration": 145,
    "start_time": "2023-02-25T18:53:54.153Z"
   },
   {
    "duration": 409,
    "start_time": "2023-02-25T18:53:54.396Z"
   },
   {
    "duration": 34,
    "start_time": "2023-02-25T18:53:55.788Z"
   },
   {
    "duration": 44,
    "start_time": "2023-02-25T18:53:56.414Z"
   },
   {
    "duration": 36,
    "start_time": "2023-02-25T18:53:57.062Z"
   },
   {
    "duration": 33,
    "start_time": "2023-02-25T18:53:57.773Z"
   },
   {
    "duration": 80,
    "start_time": "2023-02-25T18:53:59.729Z"
   },
   {
    "duration": 36,
    "start_time": "2023-02-25T18:54:00.063Z"
   },
   {
    "duration": 246,
    "start_time": "2023-02-25T18:54:00.387Z"
   },
   {
    "duration": 4,
    "start_time": "2023-02-25T18:54:00.810Z"
   },
   {
    "duration": 93,
    "start_time": "2023-02-25T18:54:09.098Z"
   },
   {
    "duration": 1369,
    "start_time": "2023-02-25T18:56:07.276Z"
   },
   {
    "duration": 1354,
    "start_time": "2023-02-25T18:56:08.655Z"
   },
   {
    "duration": 40,
    "start_time": "2023-02-25T18:56:10.011Z"
   },
   {
    "duration": 246,
    "start_time": "2023-02-25T18:56:10.056Z"
   },
   {
    "duration": 112,
    "start_time": "2023-02-25T18:56:10.304Z"
   },
   {
    "duration": 5,
    "start_time": "2023-02-25T18:56:10.418Z"
   },
   {
    "duration": 150,
    "start_time": "2023-02-25T18:56:10.440Z"
   },
   {
    "duration": 4,
    "start_time": "2023-02-25T18:56:10.592Z"
   },
   {
    "duration": 167,
    "start_time": "2023-02-25T18:56:10.598Z"
   },
   {
    "duration": 361,
    "start_time": "2023-02-25T18:56:10.768Z"
   },
   {
    "duration": 40,
    "start_time": "2023-02-25T18:56:11.143Z"
   },
   {
    "duration": 38,
    "start_time": "2023-02-25T18:56:11.185Z"
   },
   {
    "duration": 52,
    "start_time": "2023-02-25T18:56:11.224Z"
   },
   {
    "duration": 37,
    "start_time": "2023-02-25T18:56:11.278Z"
   },
   {
    "duration": 94,
    "start_time": "2023-02-25T18:56:11.316Z"
   },
   {
    "duration": 43,
    "start_time": "2023-02-25T18:56:11.411Z"
   },
   {
    "duration": 234,
    "start_time": "2023-02-25T18:56:11.456Z"
   },
   {
    "duration": 4,
    "start_time": "2023-02-25T18:56:11.693Z"
   },
   {
    "duration": 148312,
    "start_time": "2023-02-25T18:56:11.698Z"
   },
   {
    "duration": 35,
    "start_time": "2023-02-25T18:58:40.012Z"
   },
   {
    "duration": 7,
    "start_time": "2023-02-25T18:58:40.053Z"
   },
   {
    "duration": 144,
    "start_time": "2023-02-25T18:58:40.062Z"
   },
   {
    "duration": 163,
    "start_time": "2023-02-25T18:58:40.208Z"
   },
   {
    "duration": 97,
    "start_time": "2023-02-25T18:58:40.373Z"
   },
   {
    "duration": 128,
    "start_time": "2023-02-25T18:58:40.472Z"
   },
   {
    "duration": 50,
    "start_time": "2023-02-25T18:58:40.602Z"
   },
   {
    "duration": 78,
    "start_time": "2023-02-25T18:58:40.654Z"
   },
   {
    "duration": 787,
    "start_time": "2023-02-25T18:58:40.747Z"
   },
   {
    "duration": 490,
    "start_time": "2023-02-25T18:58:41.536Z"
   },
   {
    "duration": 2,
    "start_time": "2023-02-25T18:58:42.028Z"
   },
   {
    "duration": 37,
    "start_time": "2023-02-25T18:58:42.039Z"
   },
   {
    "duration": 4,
    "start_time": "2023-02-25T18:58:42.077Z"
   },
   {
    "duration": 31,
    "start_time": "2023-02-25T18:58:42.083Z"
   },
   {
    "duration": 38,
    "start_time": "2023-02-25T18:58:42.116Z"
   },
   {
    "duration": 3446,
    "start_time": "2023-02-25T18:58:42.157Z"
   },
   {
    "duration": 58,
    "start_time": "2023-02-25T18:58:45.605Z"
   },
   {
    "duration": 131,
    "start_time": "2023-02-25T18:58:45.665Z"
   },
   {
    "duration": 0,
    "start_time": "2023-02-25T18:58:45.798Z"
   },
   {
    "duration": 0,
    "start_time": "2023-02-25T18:58:45.800Z"
   },
   {
    "duration": 0,
    "start_time": "2023-02-25T18:58:45.801Z"
   },
   {
    "duration": 0,
    "start_time": "2023-02-25T18:58:45.802Z"
   },
   {
    "duration": 0,
    "start_time": "2023-02-25T18:58:45.803Z"
   },
   {
    "duration": 0,
    "start_time": "2023-02-25T18:58:45.805Z"
   },
   {
    "duration": 0,
    "start_time": "2023-02-25T18:58:45.806Z"
   },
   {
    "duration": 0,
    "start_time": "2023-02-25T18:58:45.807Z"
   },
   {
    "duration": 6,
    "start_time": "2023-02-25T19:00:15.770Z"
   },
   {
    "duration": 3,
    "start_time": "2023-02-25T19:00:17.874Z"
   },
   {
    "duration": 127113,
    "start_time": "2023-02-25T19:00:18.058Z"
   },
   {
    "duration": 1286,
    "start_time": "2023-02-25T19:02:25.173Z"
   },
   {
    "duration": 6,
    "start_time": "2023-02-25T19:02:26.462Z"
   },
   {
    "duration": 6,
    "start_time": "2023-02-25T19:02:26.470Z"
   },
   {
    "duration": 36871,
    "start_time": "2023-02-25T19:02:26.478Z"
   },
   {
    "duration": 291,
    "start_time": "2023-02-25T19:03:03.355Z"
   },
   {
    "duration": 6,
    "start_time": "2023-02-25T19:03:03.648Z"
   },
   {
    "duration": 2,
    "start_time": "2023-02-25T19:07:52.144Z"
   },
   {
    "duration": 1149,
    "start_time": "2023-02-25T19:09:02.588Z"
   },
   {
    "duration": 884,
    "start_time": "2023-02-25T19:09:03.739Z"
   },
   {
    "duration": 29,
    "start_time": "2023-02-25T19:09:04.625Z"
   },
   {
    "duration": 215,
    "start_time": "2023-02-25T19:09:04.656Z"
   },
   {
    "duration": 114,
    "start_time": "2023-02-25T19:09:04.872Z"
   },
   {
    "duration": 5,
    "start_time": "2023-02-25T19:09:04.988Z"
   },
   {
    "duration": 155,
    "start_time": "2023-02-25T19:09:04.995Z"
   },
   {
    "duration": 6,
    "start_time": "2023-02-25T19:09:05.152Z"
   },
   {
    "duration": 156,
    "start_time": "2023-02-25T19:09:05.160Z"
   },
   {
    "duration": 340,
    "start_time": "2023-02-25T19:09:05.319Z"
   },
   {
    "duration": 37,
    "start_time": "2023-02-25T19:09:05.661Z"
   },
   {
    "duration": 56,
    "start_time": "2023-02-25T19:09:05.700Z"
   },
   {
    "duration": 35,
    "start_time": "2023-02-25T19:09:05.758Z"
   },
   {
    "duration": 48,
    "start_time": "2023-02-25T19:09:05.795Z"
   },
   {
    "duration": 73,
    "start_time": "2023-02-25T19:09:05.845Z"
   },
   {
    "duration": 52,
    "start_time": "2023-02-25T19:09:05.920Z"
   },
   {
    "duration": 244,
    "start_time": "2023-02-25T19:09:05.974Z"
   },
   {
    "duration": 3,
    "start_time": "2023-02-25T19:09:06.220Z"
   },
   {
    "duration": 142425,
    "start_time": "2023-02-25T19:09:06.225Z"
   },
   {
    "duration": 18,
    "start_time": "2023-02-25T19:11:28.652Z"
   },
   {
    "duration": 5,
    "start_time": "2023-02-25T19:11:28.672Z"
   },
   {
    "duration": 163,
    "start_time": "2023-02-25T19:11:28.679Z"
   },
   {
    "duration": 172,
    "start_time": "2023-02-25T19:11:28.844Z"
   },
   {
    "duration": 98,
    "start_time": "2023-02-25T19:11:29.019Z"
   },
   {
    "duration": 139,
    "start_time": "2023-02-25T19:11:29.119Z"
   },
   {
    "duration": 24,
    "start_time": "2023-02-25T19:11:29.260Z"
   },
   {
    "duration": 97,
    "start_time": "2023-02-25T19:11:29.286Z"
   },
   {
    "duration": 736,
    "start_time": "2023-02-25T19:11:29.388Z"
   },
   {
    "duration": 479,
    "start_time": "2023-02-25T19:11:30.126Z"
   },
   {
    "duration": 2,
    "start_time": "2023-02-25T19:11:30.607Z"
   },
   {
    "duration": 56,
    "start_time": "2023-02-25T19:11:30.610Z"
   },
   {
    "duration": 4,
    "start_time": "2023-02-25T19:11:30.667Z"
   },
   {
    "duration": 27,
    "start_time": "2023-02-25T19:11:30.672Z"
   },
   {
    "duration": 16,
    "start_time": "2023-02-25T19:11:30.701Z"
   },
   {
    "duration": 19,
    "start_time": "2023-02-25T19:11:30.719Z"
   },
   {
    "duration": 12,
    "start_time": "2023-02-25T19:11:30.740Z"
   },
   {
    "duration": 7,
    "start_time": "2023-02-25T19:11:30.754Z"
   },
   {
    "duration": 13,
    "start_time": "2023-02-25T19:11:30.763Z"
   },
   {
    "duration": 18,
    "start_time": "2023-02-25T19:11:30.778Z"
   },
   {
    "duration": 11748,
    "start_time": "2023-02-25T19:11:30.798Z"
   },
   {
    "duration": 1229,
    "start_time": "2023-02-25T19:11:42.548Z"
   },
   {
    "duration": 62,
    "start_time": "2023-02-25T19:11:43.778Z"
   },
   {
    "duration": 3,
    "start_time": "2023-02-25T19:11:43.842Z"
   },
   {
    "duration": 21301,
    "start_time": "2023-02-25T19:11:43.847Z"
   },
   {
    "duration": 290,
    "start_time": "2023-02-25T19:12:05.157Z"
   },
   {
    "duration": 93,
    "start_time": "2023-02-25T19:12:05.449Z"
   },
   {
    "duration": 32502,
    "start_time": "2023-02-25T19:12:28.546Z"
   },
   {
    "duration": 35795,
    "start_time": "2023-02-25T19:13:15.323Z"
   },
   {
    "duration": 1389,
    "start_time": "2023-02-25T19:30:58.199Z"
   },
   {
    "duration": 1056,
    "start_time": "2023-02-25T19:30:59.591Z"
   },
   {
    "duration": 27,
    "start_time": "2023-02-25T19:31:00.649Z"
   },
   {
    "duration": 246,
    "start_time": "2023-02-25T19:31:00.678Z"
   },
   {
    "duration": 115,
    "start_time": "2023-02-25T19:31:00.927Z"
   },
   {
    "duration": 5,
    "start_time": "2023-02-25T19:31:01.044Z"
   },
   {
    "duration": 174,
    "start_time": "2023-02-25T19:31:01.051Z"
   },
   {
    "duration": 4,
    "start_time": "2023-02-25T19:31:01.227Z"
   },
   {
    "duration": 148,
    "start_time": "2023-02-25T19:31:01.241Z"
   },
   {
    "duration": 432,
    "start_time": "2023-02-25T19:31:01.391Z"
   },
   {
    "duration": 43,
    "start_time": "2023-02-25T19:31:01.825Z"
   },
   {
    "duration": 71,
    "start_time": "2023-02-25T19:31:01.870Z"
   },
   {
    "duration": 58,
    "start_time": "2023-02-25T19:31:01.942Z"
   },
   {
    "duration": 51,
    "start_time": "2023-02-25T19:31:02.004Z"
   },
   {
    "duration": 97,
    "start_time": "2023-02-25T19:31:02.058Z"
   },
   {
    "duration": 42,
    "start_time": "2023-02-25T19:31:02.157Z"
   },
   {
    "duration": 328,
    "start_time": "2023-02-25T19:31:02.201Z"
   },
   {
    "duration": 4,
    "start_time": "2023-02-25T19:31:02.531Z"
   },
   {
    "duration": 169882,
    "start_time": "2023-02-25T19:31:02.539Z"
   },
   {
    "duration": 25,
    "start_time": "2023-02-25T19:33:52.423Z"
   },
   {
    "duration": 8,
    "start_time": "2023-02-25T19:33:52.451Z"
   },
   {
    "duration": 201,
    "start_time": "2023-02-25T19:33:52.461Z"
   },
   {
    "duration": 163,
    "start_time": "2023-02-25T19:33:52.663Z"
   },
   {
    "duration": 93,
    "start_time": "2023-02-25T19:33:52.831Z"
   },
   {
    "duration": 136,
    "start_time": "2023-02-25T19:33:52.926Z"
   },
   {
    "duration": 25,
    "start_time": "2023-02-25T19:33:53.064Z"
   },
   {
    "duration": 107,
    "start_time": "2023-02-25T19:33:53.091Z"
   },
   {
    "duration": 943,
    "start_time": "2023-02-25T19:33:53.200Z"
   },
   {
    "duration": 516,
    "start_time": "2023-02-25T19:33:54.145Z"
   },
   {
    "duration": 3,
    "start_time": "2023-02-25T19:33:54.663Z"
   },
   {
    "duration": 58,
    "start_time": "2023-02-25T19:33:54.668Z"
   },
   {
    "duration": 5,
    "start_time": "2023-02-25T19:33:54.728Z"
   },
   {
    "duration": 5,
    "start_time": "2023-02-25T19:33:54.741Z"
   },
   {
    "duration": 39780,
    "start_time": "2023-02-25T19:33:54.748Z"
   },
   {
    "duration": 16,
    "start_time": "2023-02-25T19:34:34.538Z"
   },
   {
    "duration": 1291,
    "start_time": "2023-02-25T19:37:25.397Z"
   },
   {
    "duration": 1006,
    "start_time": "2023-02-25T19:37:26.692Z"
   },
   {
    "duration": 27,
    "start_time": "2023-02-25T19:37:27.700Z"
   },
   {
    "duration": 222,
    "start_time": "2023-02-25T19:37:27.741Z"
   },
   {
    "duration": 119,
    "start_time": "2023-02-25T19:37:27.964Z"
   },
   {
    "duration": 7,
    "start_time": "2023-02-25T19:37:28.084Z"
   },
   {
    "duration": 161,
    "start_time": "2023-02-25T19:37:28.093Z"
   },
   {
    "duration": 10,
    "start_time": "2023-02-25T19:37:28.256Z"
   },
   {
    "duration": 144,
    "start_time": "2023-02-25T19:37:28.268Z"
   },
   {
    "duration": 339,
    "start_time": "2023-02-25T19:37:28.415Z"
   },
   {
    "duration": 41,
    "start_time": "2023-02-25T19:37:28.757Z"
   },
   {
    "duration": 76,
    "start_time": "2023-02-25T19:37:28.801Z"
   },
   {
    "duration": 44,
    "start_time": "2023-02-25T19:37:28.879Z"
   },
   {
    "duration": 71,
    "start_time": "2023-02-25T19:37:28.925Z"
   },
   {
    "duration": 98,
    "start_time": "2023-02-25T19:37:28.999Z"
   },
   {
    "duration": 59,
    "start_time": "2023-02-25T19:37:29.100Z"
   },
   {
    "duration": 283,
    "start_time": "2023-02-25T19:37:29.161Z"
   },
   {
    "duration": 4,
    "start_time": "2023-02-25T19:37:29.446Z"
   },
   {
    "duration": 167848,
    "start_time": "2023-02-25T19:37:29.452Z"
   },
   {
    "duration": 19,
    "start_time": "2023-02-25T19:40:17.302Z"
   },
   {
    "duration": 24,
    "start_time": "2023-02-25T19:40:17.323Z"
   },
   {
    "duration": 161,
    "start_time": "2023-02-25T19:40:17.349Z"
   },
   {
    "duration": 162,
    "start_time": "2023-02-25T19:40:17.513Z"
   },
   {
    "duration": 95,
    "start_time": "2023-02-25T19:40:17.677Z"
   },
   {
    "duration": 133,
    "start_time": "2023-02-25T19:40:17.774Z"
   },
   {
    "duration": 43,
    "start_time": "2023-02-25T19:40:17.909Z"
   },
   {
    "duration": 96,
    "start_time": "2023-02-25T19:40:17.954Z"
   },
   {
    "duration": 881,
    "start_time": "2023-02-25T19:40:18.055Z"
   },
   {
    "duration": 545,
    "start_time": "2023-02-25T19:40:18.945Z"
   },
   {
    "duration": 3,
    "start_time": "2023-02-25T19:40:19.492Z"
   },
   {
    "duration": 46,
    "start_time": "2023-02-25T19:40:19.496Z"
   },
   {
    "duration": 5,
    "start_time": "2023-02-25T19:40:19.544Z"
   },
   {
    "duration": 5,
    "start_time": "2023-02-25T19:40:19.551Z"
   },
   {
    "duration": 7,
    "start_time": "2023-02-25T19:40:19.558Z"
   },
   {
    "duration": 6,
    "start_time": "2023-02-25T19:40:19.568Z"
   },
   {
    "duration": 145,
    "start_time": "2023-02-25T19:40:19.576Z"
   },
   {
    "duration": 0,
    "start_time": "2023-02-25T19:40:19.723Z"
   },
   {
    "duration": 0,
    "start_time": "2023-02-25T19:40:19.724Z"
   },
   {
    "duration": 0,
    "start_time": "2023-02-25T19:40:19.726Z"
   },
   {
    "duration": 0,
    "start_time": "2023-02-25T19:40:19.728Z"
   },
   {
    "duration": 0,
    "start_time": "2023-02-25T19:40:19.729Z"
   },
   {
    "duration": 0,
    "start_time": "2023-02-25T19:40:19.740Z"
   },
   {
    "duration": 0,
    "start_time": "2023-02-25T19:40:19.742Z"
   },
   {
    "duration": 0,
    "start_time": "2023-02-25T19:40:19.744Z"
   },
   {
    "duration": 0,
    "start_time": "2023-02-25T19:40:19.745Z"
   },
   {
    "duration": 4,
    "start_time": "2023-02-25T19:44:43.585Z"
   },
   {
    "duration": 32794,
    "start_time": "2023-02-25T19:44:47.486Z"
   },
   {
    "duration": 1269,
    "start_time": "2023-02-26T09:55:44.189Z"
   },
   {
    "duration": 2961,
    "start_time": "2023-02-26T09:55:45.460Z"
   },
   {
    "duration": 20,
    "start_time": "2023-02-26T09:55:48.423Z"
   },
   {
    "duration": 181,
    "start_time": "2023-02-26T09:55:48.445Z"
   },
   {
    "duration": 99,
    "start_time": "2023-02-26T09:55:48.628Z"
   },
   {
    "duration": 4,
    "start_time": "2023-02-26T09:55:48.729Z"
   },
   {
    "duration": 140,
    "start_time": "2023-02-26T09:55:48.735Z"
   },
   {
    "duration": 4,
    "start_time": "2023-02-26T09:55:48.876Z"
   },
   {
    "duration": 139,
    "start_time": "2023-02-26T09:55:48.881Z"
   },
   {
    "duration": 505,
    "start_time": "2023-02-26T09:55:49.021Z"
   },
   {
    "duration": 32,
    "start_time": "2023-02-26T09:55:49.528Z"
   },
   {
    "duration": 46,
    "start_time": "2023-02-26T09:55:49.562Z"
   },
   {
    "duration": 33,
    "start_time": "2023-02-26T09:55:49.609Z"
   },
   {
    "duration": 32,
    "start_time": "2023-02-26T09:55:49.645Z"
   },
   {
    "duration": 84,
    "start_time": "2023-02-26T09:55:49.678Z"
   },
   {
    "duration": 40,
    "start_time": "2023-02-26T09:55:49.764Z"
   },
   {
    "duration": 233,
    "start_time": "2023-02-26T09:55:49.806Z"
   },
   {
    "duration": 3,
    "start_time": "2023-02-26T09:55:50.041Z"
   },
   {
    "duration": 107348,
    "start_time": "2023-02-26T09:55:50.046Z"
   },
   {
    "duration": 17,
    "start_time": "2023-02-26T09:57:37.396Z"
   },
   {
    "duration": 8,
    "start_time": "2023-02-26T09:57:37.414Z"
   },
   {
    "duration": 139,
    "start_time": "2023-02-26T09:57:37.423Z"
   },
   {
    "duration": 139,
    "start_time": "2023-02-26T09:57:37.563Z"
   },
   {
    "duration": 75,
    "start_time": "2023-02-26T09:57:37.704Z"
   },
   {
    "duration": 124,
    "start_time": "2023-02-26T09:57:37.780Z"
   },
   {
    "duration": 23,
    "start_time": "2023-02-26T09:57:37.905Z"
   },
   {
    "duration": 88,
    "start_time": "2023-02-26T09:57:37.929Z"
   },
   {
    "duration": 600,
    "start_time": "2023-02-26T09:57:38.019Z"
   },
   {
    "duration": 460,
    "start_time": "2023-02-26T09:57:38.620Z"
   },
   {
    "duration": 2,
    "start_time": "2023-02-26T09:57:39.082Z"
   },
   {
    "duration": 39,
    "start_time": "2023-02-26T09:57:39.086Z"
   },
   {
    "duration": 4,
    "start_time": "2023-02-26T09:57:39.127Z"
   },
   {
    "duration": 8,
    "start_time": "2023-02-26T09:57:39.133Z"
   },
   {
    "duration": 17,
    "start_time": "2023-02-26T09:57:39.143Z"
   },
   {
    "duration": 30477,
    "start_time": "2023-02-26T09:57:39.162Z"
   },
   {
    "duration": 205472,
    "start_time": "2023-02-26T09:58:09.641Z"
   },
   {
    "duration": 3,
    "start_time": "2023-02-26T10:01:35.115Z"
   },
   {
    "duration": 22591,
    "start_time": "2023-02-26T10:01:35.120Z"
   },
   {
    "duration": 391,
    "start_time": "2023-02-26T10:01:57.713Z"
   },
   {
    "duration": 6,
    "start_time": "2023-02-26T10:01:58.106Z"
   },
   {
    "duration": 108,
    "start_time": "2023-02-26T10:01:58.116Z"
   },
   {
    "duration": 501,
    "start_time": "2023-02-26T10:04:07.928Z"
   },
   {
    "duration": 58926,
    "start_time": "2023-02-26T10:04:27.559Z"
   },
   {
    "duration": 13,
    "start_time": "2023-02-26T10:07:50.219Z"
   },
   {
    "duration": 1311,
    "start_time": "2023-02-26T10:13:48.595Z"
   },
   {
    "duration": 813,
    "start_time": "2023-02-26T10:13:49.908Z"
   },
   {
    "duration": 21,
    "start_time": "2023-02-26T10:13:50.723Z"
   },
   {
    "duration": 142,
    "start_time": "2023-02-26T10:13:50.746Z"
   },
   {
    "duration": 94,
    "start_time": "2023-02-26T10:13:50.890Z"
   },
   {
    "duration": 4,
    "start_time": "2023-02-26T10:13:50.985Z"
   },
   {
    "duration": 157,
    "start_time": "2023-02-26T10:13:50.991Z"
   },
   {
    "duration": 5,
    "start_time": "2023-02-26T10:13:51.149Z"
   },
   {
    "duration": 157,
    "start_time": "2023-02-26T10:13:51.156Z"
   },
   {
    "duration": 295,
    "start_time": "2023-02-26T10:13:51.316Z"
   },
   {
    "duration": 31,
    "start_time": "2023-02-26T10:13:51.612Z"
   },
   {
    "duration": 45,
    "start_time": "2023-02-26T10:13:51.645Z"
   },
   {
    "duration": 41,
    "start_time": "2023-02-26T10:13:51.692Z"
   },
   {
    "duration": 32,
    "start_time": "2023-02-26T10:13:51.734Z"
   },
   {
    "duration": 71,
    "start_time": "2023-02-26T10:13:51.767Z"
   },
   {
    "duration": 33,
    "start_time": "2023-02-26T10:13:51.839Z"
   },
   {
    "duration": 214,
    "start_time": "2023-02-26T10:13:51.873Z"
   },
   {
    "duration": 3,
    "start_time": "2023-02-26T10:13:52.089Z"
   },
   {
    "duration": 112755,
    "start_time": "2023-02-26T10:13:52.094Z"
   },
   {
    "duration": 18,
    "start_time": "2023-02-26T10:15:44.850Z"
   },
   {
    "duration": 8,
    "start_time": "2023-02-26T10:15:44.869Z"
   },
   {
    "duration": 133,
    "start_time": "2023-02-26T10:15:44.878Z"
   },
   {
    "duration": 147,
    "start_time": "2023-02-26T10:15:45.012Z"
   },
   {
    "duration": 75,
    "start_time": "2023-02-26T10:15:45.160Z"
   },
   {
    "duration": 123,
    "start_time": "2023-02-26T10:15:45.236Z"
   },
   {
    "duration": 23,
    "start_time": "2023-02-26T10:15:45.361Z"
   },
   {
    "duration": 90,
    "start_time": "2023-02-26T10:15:45.386Z"
   },
   {
    "duration": 601,
    "start_time": "2023-02-26T10:15:45.479Z"
   },
   {
    "duration": 461,
    "start_time": "2023-02-26T10:15:46.081Z"
   },
   {
    "duration": 31,
    "start_time": "2023-02-26T10:15:46.544Z"
   },
   {
    "duration": 4,
    "start_time": "2023-02-26T10:15:46.577Z"
   },
   {
    "duration": 23,
    "start_time": "2023-02-26T10:15:46.583Z"
   },
   {
    "duration": 8,
    "start_time": "2023-02-26T10:15:46.608Z"
   },
   {
    "duration": 30405,
    "start_time": "2023-02-26T10:15:46.618Z"
   },
   {
    "duration": 86485,
    "start_time": "2023-02-26T10:16:17.026Z"
   },
   {
    "duration": 2,
    "start_time": "2023-02-26T10:17:43.513Z"
   },
   {
    "duration": 20488,
    "start_time": "2023-02-26T10:17:43.517Z"
   },
   {
    "duration": 297,
    "start_time": "2023-02-26T10:18:04.007Z"
   },
   {
    "duration": 7,
    "start_time": "2023-02-26T10:18:04.306Z"
   },
   {
    "duration": 58942,
    "start_time": "2023-02-26T10:18:04.403Z"
   },
   {
    "duration": 103,
    "start_time": "2023-02-26T10:19:03.347Z"
   },
   {
    "duration": 1537,
    "start_time": "2023-02-26T10:31:58.043Z"
   },
   {
    "duration": 836,
    "start_time": "2023-02-26T10:31:59.582Z"
   },
   {
    "duration": 22,
    "start_time": "2023-02-26T10:32:00.420Z"
   },
   {
    "duration": 160,
    "start_time": "2023-02-26T10:32:00.444Z"
   },
   {
    "duration": 110,
    "start_time": "2023-02-26T10:32:00.606Z"
   },
   {
    "duration": 6,
    "start_time": "2023-02-26T10:32:00.718Z"
   },
   {
    "duration": 163,
    "start_time": "2023-02-26T10:32:00.725Z"
   },
   {
    "duration": 4,
    "start_time": "2023-02-26T10:32:00.890Z"
   },
   {
    "duration": 170,
    "start_time": "2023-02-26T10:32:00.895Z"
   },
   {
    "duration": 479,
    "start_time": "2023-02-26T10:32:01.068Z"
   },
   {
    "duration": 33,
    "start_time": "2023-02-26T10:32:01.549Z"
   },
   {
    "duration": 74,
    "start_time": "2023-02-26T10:32:01.584Z"
   },
   {
    "duration": 35,
    "start_time": "2023-02-26T10:32:01.660Z"
   },
   {
    "duration": 46,
    "start_time": "2023-02-26T10:32:01.703Z"
   },
   {
    "duration": 93,
    "start_time": "2023-02-26T10:32:01.751Z"
   },
   {
    "duration": 52,
    "start_time": "2023-02-26T10:32:01.846Z"
   },
   {
    "duration": 315,
    "start_time": "2023-02-26T10:32:01.900Z"
   },
   {
    "duration": 4,
    "start_time": "2023-02-26T10:32:02.216Z"
   },
   {
    "duration": 124264,
    "start_time": "2023-02-26T10:32:02.222Z"
   },
   {
    "duration": 19,
    "start_time": "2023-02-26T10:34:06.487Z"
   },
   {
    "duration": 7,
    "start_time": "2023-02-26T10:34:06.508Z"
   },
   {
    "duration": 152,
    "start_time": "2023-02-26T10:34:06.516Z"
   },
   {
    "duration": 174,
    "start_time": "2023-02-26T10:34:06.672Z"
   },
   {
    "duration": 95,
    "start_time": "2023-02-26T10:34:06.849Z"
   },
   {
    "duration": 119,
    "start_time": "2023-02-26T10:34:06.946Z"
   },
   {
    "duration": 48,
    "start_time": "2023-02-26T10:34:07.067Z"
   },
   {
    "duration": 113,
    "start_time": "2023-02-26T10:34:07.117Z"
   },
   {
    "duration": 643,
    "start_time": "2023-02-26T10:34:07.232Z"
   },
   {
    "duration": 458,
    "start_time": "2023-02-26T10:34:07.877Z"
   },
   {
    "duration": 25,
    "start_time": "2023-02-26T10:34:08.338Z"
   },
   {
    "duration": 3,
    "start_time": "2023-02-26T10:34:08.365Z"
   },
   {
    "duration": 6,
    "start_time": "2023-02-26T10:34:08.370Z"
   },
   {
    "duration": 30,
    "start_time": "2023-02-26T10:34:08.377Z"
   },
   {
    "duration": 40300,
    "start_time": "2023-02-26T10:34:08.408Z"
   },
   {
    "duration": 313804,
    "start_time": "2023-02-26T10:34:48.710Z"
   },
   {
    "duration": 3,
    "start_time": "2023-02-26T10:40:02.515Z"
   },
   {
    "duration": 27588,
    "start_time": "2023-02-26T10:40:02.519Z"
   },
   {
    "duration": 295,
    "start_time": "2023-02-26T10:40:30.109Z"
   },
   {
    "duration": 6,
    "start_time": "2023-02-26T10:40:30.407Z"
   },
   {
    "duration": 70461,
    "start_time": "2023-02-26T10:40:30.504Z"
   },
   {
    "duration": 102,
    "start_time": "2023-02-26T10:41:40.970Z"
   },
   {
    "duration": 0,
    "start_time": "2023-02-26T10:41:41.073Z"
   },
   {
    "duration": 817662,
    "start_time": "2023-02-26T10:46:42.018Z"
   },
   {
    "duration": 5264,
    "start_time": "2023-02-26T11:03:04.639Z"
   },
   {
    "duration": 180153,
    "start_time": "2023-02-26T11:04:58.163Z"
   },
   {
    "duration": 20490,
    "start_time": "2023-02-26T11:07:58.318Z"
   },
   {
    "duration": 29819,
    "start_time": "2023-02-26T11:09:00.471Z"
   },
   {
    "duration": 3,
    "start_time": "2023-02-26T11:18:21.995Z"
   },
   {
    "duration": 4,
    "start_time": "2023-02-26T11:18:22.320Z"
   },
   {
    "duration": 1396,
    "start_time": "2023-02-26T11:21:16.263Z"
   },
   {
    "duration": 825,
    "start_time": "2023-02-26T11:21:17.661Z"
   },
   {
    "duration": 24,
    "start_time": "2023-02-26T11:21:18.488Z"
   },
   {
    "duration": 141,
    "start_time": "2023-02-26T11:21:18.514Z"
   },
   {
    "duration": 106,
    "start_time": "2023-02-26T11:21:18.657Z"
   },
   {
    "duration": 5,
    "start_time": "2023-02-26T11:21:18.765Z"
   },
   {
    "duration": 152,
    "start_time": "2023-02-26T11:21:18.772Z"
   },
   {
    "duration": 4,
    "start_time": "2023-02-26T11:21:18.927Z"
   },
   {
    "duration": 140,
    "start_time": "2023-02-26T11:21:18.934Z"
   },
   {
    "duration": 329,
    "start_time": "2023-02-26T11:21:19.076Z"
   },
   {
    "duration": 36,
    "start_time": "2023-02-26T11:21:19.407Z"
   },
   {
    "duration": 47,
    "start_time": "2023-02-26T11:21:19.444Z"
   },
   {
    "duration": 40,
    "start_time": "2023-02-26T11:21:19.493Z"
   },
   {
    "duration": 35,
    "start_time": "2023-02-26T11:21:19.537Z"
   },
   {
    "duration": 77,
    "start_time": "2023-02-26T11:21:19.573Z"
   },
   {
    "duration": 32,
    "start_time": "2023-02-26T11:21:19.652Z"
   },
   {
    "duration": 230,
    "start_time": "2023-02-26T11:21:19.685Z"
   },
   {
    "duration": 4,
    "start_time": "2023-02-26T11:21:19.916Z"
   },
   {
    "duration": 125305,
    "start_time": "2023-02-26T11:21:19.921Z"
   },
   {
    "duration": 21,
    "start_time": "2023-02-26T11:23:25.228Z"
   },
   {
    "duration": 31,
    "start_time": "2023-02-26T11:23:25.251Z"
   },
   {
    "duration": 159,
    "start_time": "2023-02-26T11:23:25.283Z"
   },
   {
    "duration": 148,
    "start_time": "2023-02-26T11:23:25.444Z"
   },
   {
    "duration": 75,
    "start_time": "2023-02-26T11:23:25.594Z"
   },
   {
    "duration": 120,
    "start_time": "2023-02-26T11:23:25.670Z"
   },
   {
    "duration": 50,
    "start_time": "2023-02-26T11:23:25.792Z"
   },
   {
    "duration": 107,
    "start_time": "2023-02-26T11:23:25.843Z"
   },
   {
    "duration": 578,
    "start_time": "2023-02-26T11:23:25.951Z"
   },
   {
    "duration": 517,
    "start_time": "2023-02-26T11:23:26.531Z"
   },
   {
    "duration": 29,
    "start_time": "2023-02-26T11:23:27.049Z"
   },
   {
    "duration": 4,
    "start_time": "2023-02-26T11:23:27.079Z"
   },
   {
    "duration": 33,
    "start_time": "2023-02-26T11:23:27.085Z"
   },
   {
    "duration": 24,
    "start_time": "2023-02-26T11:23:27.120Z"
   },
   {
    "duration": 37181,
    "start_time": "2023-02-26T11:23:27.146Z"
   },
   {
    "duration": 96515,
    "start_time": "2023-02-26T11:24:04.328Z"
   },
   {
    "duration": 3,
    "start_time": "2023-02-26T11:25:40.904Z"
   },
   {
    "duration": 21597,
    "start_time": "2023-02-26T11:25:40.908Z"
   },
   {
    "duration": 299,
    "start_time": "2023-02-26T11:26:02.507Z"
   },
   {
    "duration": 98,
    "start_time": "2023-02-26T11:26:02.809Z"
   },
   {
    "duration": 812757,
    "start_time": "2023-02-26T11:26:02.908Z"
   },
   {
    "duration": 4,
    "start_time": "2023-02-26T11:39:35.668Z"
   },
   {
    "duration": 0,
    "start_time": "2023-02-26T11:39:35.673Z"
   },
   {
    "duration": 0,
    "start_time": "2023-02-26T11:39:35.674Z"
   },
   {
    "duration": 0,
    "start_time": "2023-02-26T11:39:35.675Z"
   },
   {
    "duration": 0,
    "start_time": "2023-02-26T11:39:35.677Z"
   },
   {
    "duration": 0,
    "start_time": "2023-02-26T11:39:35.678Z"
   },
   {
    "duration": 0,
    "start_time": "2023-02-26T11:39:35.679Z"
   },
   {
    "duration": 0,
    "start_time": "2023-02-26T11:39:35.680Z"
   },
   {
    "duration": 0,
    "start_time": "2023-02-26T11:39:35.680Z"
   },
   {
    "duration": 0,
    "start_time": "2023-02-26T11:39:35.682Z"
   },
   {
    "duration": 0,
    "start_time": "2023-02-26T11:39:35.704Z"
   },
   {
    "duration": 0,
    "start_time": "2023-02-26T11:39:35.705Z"
   },
   {
    "duration": 0,
    "start_time": "2023-02-26T11:39:35.707Z"
   },
   {
    "duration": 5165,
    "start_time": "2023-02-26T11:41:08.683Z"
   },
   {
    "duration": 123,
    "start_time": "2023-02-26T11:43:12.895Z"
   },
   {
    "duration": 4,
    "start_time": "2023-02-26T11:43:14.513Z"
   },
   {
    "duration": 5,
    "start_time": "2023-02-26T11:43:30.886Z"
   },
   {
    "duration": 11511,
    "start_time": "2023-02-26T11:43:33.104Z"
   },
   {
    "duration": 1288,
    "start_time": "2023-02-26T11:43:44.617Z"
   },
   {
    "duration": 4,
    "start_time": "2023-02-26T11:43:45.906Z"
   },
   {
    "duration": 21217,
    "start_time": "2023-02-26T11:47:24.988Z"
   },
   {
    "duration": 228,
    "start_time": "2023-02-26T11:47:46.207Z"
   },
   {
    "duration": 5,
    "start_time": "2023-02-26T11:47:46.505Z"
   },
   {
    "duration": 29446,
    "start_time": "2023-02-26T11:47:46.513Z"
   },
   {
    "duration": 197,
    "start_time": "2023-02-26T11:48:15.960Z"
   },
   {
    "duration": 3,
    "start_time": "2023-02-26T11:48:16.158Z"
   },
   {
    "duration": 8,
    "start_time": "2023-02-26T11:48:16.163Z"
   },
   {
    "duration": 4,
    "start_time": "2023-02-26T11:50:50.663Z"
   },
   {
    "duration": 9,
    "start_time": "2023-02-26T11:51:00.186Z"
   },
   {
    "duration": 4,
    "start_time": "2023-02-26T11:52:05.912Z"
   },
   {
    "duration": 4,
    "start_time": "2023-02-26T11:52:06.454Z"
   },
   {
    "duration": 9,
    "start_time": "2023-02-26T11:52:06.808Z"
   },
   {
    "duration": 1700,
    "start_time": "2023-02-28T04:14:04.693Z"
   },
   {
    "duration": 3829,
    "start_time": "2023-02-28T04:14:06.397Z"
   },
   {
    "duration": 37,
    "start_time": "2023-02-28T04:14:10.228Z"
   },
   {
    "duration": 173,
    "start_time": "2023-02-28T04:14:10.267Z"
   },
   {
    "duration": 108,
    "start_time": "2023-02-28T04:14:10.442Z"
   },
   {
    "duration": 8,
    "start_time": "2023-02-28T04:14:48.784Z"
   },
   {
    "duration": 181,
    "start_time": "2023-02-28T04:14:50.018Z"
   },
   {
    "duration": 4,
    "start_time": "2023-02-28T04:16:04.719Z"
   },
   {
    "duration": 186,
    "start_time": "2023-02-28T04:16:05.973Z"
   },
   {
    "duration": 771,
    "start_time": "2023-02-28T04:16:11.113Z"
   },
   {
    "duration": 60,
    "start_time": "2023-02-28T04:16:36.331Z"
   },
   {
    "duration": 65,
    "start_time": "2023-02-28T04:16:36.870Z"
   },
   {
    "duration": 37,
    "start_time": "2023-02-28T04:16:39.010Z"
   },
   {
    "duration": 34,
    "start_time": "2023-02-28T04:16:39.295Z"
   },
   {
    "duration": 135,
    "start_time": "2023-02-28T04:16:50.595Z"
   },
   {
    "duration": 36,
    "start_time": "2023-02-28T04:17:43.292Z"
   },
   {
    "duration": 362,
    "start_time": "2023-02-28T04:17:54.937Z"
   },
   {
    "duration": 2941,
    "start_time": "2023-02-28T04:18:04.464Z"
   },
   {
    "duration": 7,
    "start_time": "2023-02-28T04:18:26.678Z"
   },
   {
    "duration": 141668,
    "start_time": "2023-02-28T04:18:27.002Z"
   },
   {
    "duration": 32,
    "start_time": "2023-02-28T04:20:58.168Z"
   },
   {
    "duration": 29,
    "start_time": "2023-02-28T04:20:58.649Z"
   },
   {
    "duration": 194,
    "start_time": "2023-02-28T04:20:59.744Z"
   },
   {
    "duration": 144,
    "start_time": "2023-02-28T04:21:05.974Z"
   },
   {
    "duration": 81,
    "start_time": "2023-02-28T04:22:04.776Z"
   },
   {
    "duration": 132,
    "start_time": "2023-02-28T04:22:07.304Z"
   },
   {
    "duration": 26,
    "start_time": "2023-02-28T04:22:23.294Z"
   },
   {
    "duration": 95,
    "start_time": "2023-02-28T04:22:51.691Z"
   },
   {
    "duration": 626,
    "start_time": "2023-02-28T04:22:54.439Z"
   },
   {
    "duration": 469,
    "start_time": "2023-02-28T04:23:17.213Z"
   },
   {
    "duration": 34,
    "start_time": "2023-02-28T04:23:33.932Z"
   },
   {
    "duration": 5,
    "start_time": "2023-02-28T04:23:35.683Z"
   },
   {
    "duration": 6,
    "start_time": "2023-02-28T04:23:36.086Z"
   },
   {
    "duration": 50,
    "start_time": "2023-02-28T11:16:18.728Z"
   },
   {
    "duration": 1398,
    "start_time": "2023-02-28T11:18:12.051Z"
   },
   {
    "duration": 2850,
    "start_time": "2023-02-28T11:18:13.451Z"
   },
   {
    "duration": 23,
    "start_time": "2023-02-28T11:18:16.303Z"
   },
   {
    "duration": 122,
    "start_time": "2023-02-28T11:18:16.328Z"
   },
   {
    "duration": 103,
    "start_time": "2023-02-28T11:18:16.453Z"
   },
   {
    "duration": 6,
    "start_time": "2023-02-28T11:18:16.558Z"
   },
   {
    "duration": 127,
    "start_time": "2023-02-28T11:18:16.566Z"
   },
   {
    "duration": 3,
    "start_time": "2023-02-28T11:18:16.696Z"
   },
   {
    "duration": 119,
    "start_time": "2023-02-28T11:18:16.701Z"
   },
   {
    "duration": 479,
    "start_time": "2023-02-28T11:18:16.822Z"
   },
   {
    "duration": 37,
    "start_time": "2023-02-28T11:18:17.304Z"
   },
   {
    "duration": 41,
    "start_time": "2023-02-28T11:18:17.342Z"
   },
   {
    "duration": 32,
    "start_time": "2023-02-28T11:18:17.384Z"
   },
   {
    "duration": 42,
    "start_time": "2023-02-28T11:18:17.420Z"
   },
   {
    "duration": 65,
    "start_time": "2023-02-28T11:18:17.464Z"
   },
   {
    "duration": 36,
    "start_time": "2023-02-28T11:18:17.531Z"
   },
   {
    "duration": 248,
    "start_time": "2023-02-28T11:18:17.569Z"
   },
   {
    "duration": 4,
    "start_time": "2023-02-28T11:18:17.819Z"
   },
   {
    "duration": 127023,
    "start_time": "2023-02-28T11:18:17.824Z"
   },
   {
    "duration": 14,
    "start_time": "2023-02-28T11:20:24.849Z"
   },
   {
    "duration": 26,
    "start_time": "2023-02-28T11:20:24.865Z"
   },
   {
    "duration": 120,
    "start_time": "2023-02-28T11:20:24.893Z"
   },
   {
    "duration": 158,
    "start_time": "2023-02-28T11:20:25.015Z"
   },
   {
    "duration": 84,
    "start_time": "2023-02-28T11:20:25.175Z"
   },
   {
    "duration": 104,
    "start_time": "2023-02-28T11:20:25.260Z"
   },
   {
    "duration": 32,
    "start_time": "2023-02-28T11:20:25.366Z"
   },
   {
    "duration": 70,
    "start_time": "2023-02-28T11:20:25.400Z"
   },
   {
    "duration": 678,
    "start_time": "2023-02-28T11:20:25.473Z"
   },
   {
    "duration": 891,
    "start_time": "2023-02-28T11:20:26.153Z"
   },
   {
    "duration": 30,
    "start_time": "2023-02-28T11:20:27.046Z"
   },
   {
    "duration": 4,
    "start_time": "2023-02-28T11:20:27.078Z"
   },
   {
    "duration": 23,
    "start_time": "2023-02-28T11:20:27.084Z"
   },
   {
    "duration": 17,
    "start_time": "2023-02-28T11:20:27.108Z"
   },
   {
    "duration": 36151,
    "start_time": "2023-02-28T11:20:27.127Z"
   },
   {
    "duration": 100170,
    "start_time": "2023-02-28T11:21:03.280Z"
   },
   {
    "duration": 4,
    "start_time": "2023-02-28T11:22:43.452Z"
   },
   {
    "duration": 19982,
    "start_time": "2023-02-28T11:22:43.457Z"
   },
   {
    "duration": 300,
    "start_time": "2023-02-28T11:23:03.442Z"
   },
   {
    "duration": 94,
    "start_time": "2023-02-28T11:23:03.744Z"
   },
   {
    "duration": 946187,
    "start_time": "2023-02-28T11:23:03.841Z"
   },
   {
    "duration": 6070,
    "start_time": "2023-02-28T11:38:50.035Z"
   },
   {
    "duration": 72,
    "start_time": "2023-02-28T11:38:56.108Z"
   },
   {
    "duration": 5,
    "start_time": "2023-02-28T11:38:56.182Z"
   },
   {
    "duration": 1375,
    "start_time": "2023-02-28T11:51:19.808Z"
   },
   {
    "duration": 921,
    "start_time": "2023-02-28T11:51:21.184Z"
   },
   {
    "duration": 33,
    "start_time": "2023-02-28T11:51:22.108Z"
   },
   {
    "duration": 169,
    "start_time": "2023-02-28T11:51:22.144Z"
   },
   {
    "duration": 105,
    "start_time": "2023-02-28T11:51:22.316Z"
   },
   {
    "duration": 5,
    "start_time": "2023-02-28T11:51:22.423Z"
   },
   {
    "duration": 148,
    "start_time": "2023-02-28T11:51:22.437Z"
   },
   {
    "duration": 5,
    "start_time": "2023-02-28T11:51:22.586Z"
   },
   {
    "duration": 157,
    "start_time": "2023-02-28T11:51:22.592Z"
   },
   {
    "duration": 332,
    "start_time": "2023-02-28T11:51:22.750Z"
   },
   {
    "duration": 40,
    "start_time": "2023-02-28T11:51:23.084Z"
   },
   {
    "duration": 44,
    "start_time": "2023-02-28T11:51:23.126Z"
   },
   {
    "duration": 36,
    "start_time": "2023-02-28T11:51:23.172Z"
   },
   {
    "duration": 55,
    "start_time": "2023-02-28T11:51:23.213Z"
   },
   {
    "duration": 66,
    "start_time": "2023-02-28T11:51:23.270Z"
   },
   {
    "duration": 34,
    "start_time": "2023-02-28T11:51:23.338Z"
   },
   {
    "duration": 259,
    "start_time": "2023-02-28T11:51:23.374Z"
   },
   {
    "duration": 5,
    "start_time": "2023-02-28T11:51:23.635Z"
   },
   {
    "duration": 135453,
    "start_time": "2023-02-28T11:51:23.641Z"
   },
   {
    "duration": 15,
    "start_time": "2023-02-28T11:53:39.096Z"
   },
   {
    "duration": 8,
    "start_time": "2023-02-28T11:53:39.112Z"
   },
   {
    "duration": 119,
    "start_time": "2023-02-28T11:53:39.122Z"
   },
   {
    "duration": 176,
    "start_time": "2023-02-28T11:53:39.243Z"
   },
   {
    "duration": 82,
    "start_time": "2023-02-28T11:53:39.421Z"
   },
   {
    "duration": 107,
    "start_time": "2023-02-28T11:53:39.504Z"
   },
   {
    "duration": 34,
    "start_time": "2023-02-28T11:53:39.613Z"
   },
   {
    "duration": 63,
    "start_time": "2023-02-28T11:53:39.649Z"
   },
   {
    "duration": 731,
    "start_time": "2023-02-28T11:53:39.714Z"
   },
   {
    "duration": 934,
    "start_time": "2023-02-28T11:53:40.447Z"
   },
   {
    "duration": 24,
    "start_time": "2023-02-28T11:53:41.383Z"
   },
   {
    "duration": 5,
    "start_time": "2023-02-28T11:53:41.409Z"
   },
   {
    "duration": 26,
    "start_time": "2023-02-28T11:53:41.416Z"
   },
   {
    "duration": 19,
    "start_time": "2023-02-28T11:53:41.444Z"
   },
   {
    "duration": 18,
    "start_time": "2023-02-28T11:53:41.465Z"
   },
   {
    "duration": 24200,
    "start_time": "2023-02-28T11:53:41.484Z"
   },
   {
    "duration": 402732,
    "start_time": "2023-02-28T11:54:05.686Z"
   },
   {
    "duration": 1,
    "start_time": "2023-02-28T12:00:48.420Z"
   },
   {
    "duration": 0,
    "start_time": "2023-02-28T12:00:48.422Z"
   },
   {
    "duration": 0,
    "start_time": "2023-02-28T12:00:48.425Z"
   },
   {
    "duration": 0,
    "start_time": "2023-02-28T12:00:48.435Z"
   },
   {
    "duration": 0,
    "start_time": "2023-02-28T12:00:48.437Z"
   },
   {
    "duration": 0,
    "start_time": "2023-02-28T12:00:48.438Z"
   },
   {
    "duration": 0,
    "start_time": "2023-02-28T12:00:48.440Z"
   },
   {
    "duration": 0,
    "start_time": "2023-02-28T12:00:48.442Z"
   },
   {
    "duration": 0,
    "start_time": "2023-02-28T12:00:48.444Z"
   },
   {
    "duration": 1,
    "start_time": "2023-02-28T12:00:48.445Z"
   },
   {
    "duration": 0,
    "start_time": "2023-02-28T12:00:48.447Z"
   },
   {
    "duration": 0,
    "start_time": "2023-02-28T12:00:48.448Z"
   },
   {
    "duration": 0,
    "start_time": "2023-02-28T12:00:48.450Z"
   },
   {
    "duration": 0,
    "start_time": "2023-02-28T12:00:48.452Z"
   },
   {
    "duration": 0,
    "start_time": "2023-02-28T12:00:48.453Z"
   },
   {
    "duration": 0,
    "start_time": "2023-02-28T12:00:48.456Z"
   },
   {
    "duration": 0,
    "start_time": "2023-02-28T12:00:48.457Z"
   },
   {
    "duration": 0,
    "start_time": "2023-02-28T12:00:48.459Z"
   },
   {
    "duration": 0,
    "start_time": "2023-02-28T12:00:48.460Z"
   },
   {
    "duration": 0,
    "start_time": "2023-02-28T12:00:48.462Z"
   },
   {
    "duration": 3,
    "start_time": "2023-02-28T12:01:11.754Z"
   },
   {
    "duration": 815,
    "start_time": "2023-02-28T12:01:12.705Z"
   },
   {
    "duration": 16,
    "start_time": "2023-02-28T12:01:16.509Z"
   },
   {
    "duration": 117,
    "start_time": "2023-02-28T12:01:17.097Z"
   },
   {
    "duration": 107,
    "start_time": "2023-02-28T12:01:17.313Z"
   },
   {
    "duration": 5,
    "start_time": "2023-02-28T12:01:17.830Z"
   },
   {
    "duration": 116,
    "start_time": "2023-02-28T12:01:17.965Z"
   },
   {
    "duration": 4,
    "start_time": "2023-02-28T12:01:18.388Z"
   },
   {
    "duration": 111,
    "start_time": "2023-02-28T12:01:18.519Z"
   },
   {
    "duration": 169,
    "start_time": "2023-02-28T12:01:18.662Z"
   },
   {
    "duration": 37,
    "start_time": "2023-02-28T12:01:19.201Z"
   },
   {
    "duration": 53,
    "start_time": "2023-02-28T12:01:19.323Z"
   },
   {
    "duration": 34,
    "start_time": "2023-02-28T12:01:19.834Z"
   },
   {
    "duration": 30,
    "start_time": "2023-02-28T12:01:19.911Z"
   },
   {
    "duration": 61,
    "start_time": "2023-02-28T12:01:19.994Z"
   },
   {
    "duration": 32,
    "start_time": "2023-02-28T12:01:20.160Z"
   },
   {
    "duration": 316,
    "start_time": "2023-02-28T12:01:20.257Z"
   },
   {
    "duration": 5,
    "start_time": "2023-02-28T12:01:20.576Z"
   },
   {
    "duration": 140201,
    "start_time": "2023-02-28T12:01:20.583Z"
   },
   {
    "duration": 15,
    "start_time": "2023-02-28T12:03:40.787Z"
   },
   {
    "duration": 9,
    "start_time": "2023-02-28T12:03:40.804Z"
   },
   {
    "duration": 137,
    "start_time": "2023-02-28T12:03:40.814Z"
   },
   {
    "duration": 166,
    "start_time": "2023-02-28T12:03:40.953Z"
   },
   {
    "duration": 86,
    "start_time": "2023-02-28T12:03:41.121Z"
   },
   {
    "duration": 112,
    "start_time": "2023-02-28T12:03:41.209Z"
   },
   {
    "duration": 35,
    "start_time": "2023-02-28T12:03:41.323Z"
   },
   {
    "duration": 81,
    "start_time": "2023-02-28T12:03:41.360Z"
   },
   {
    "duration": 702,
    "start_time": "2023-02-28T12:03:41.443Z"
   },
   {
    "duration": 924,
    "start_time": "2023-02-28T12:03:42.147Z"
   },
   {
    "duration": 27,
    "start_time": "2023-02-28T12:03:43.073Z"
   },
   {
    "duration": 4,
    "start_time": "2023-02-28T12:03:43.102Z"
   },
   {
    "duration": 6,
    "start_time": "2023-02-28T12:03:43.108Z"
   },
   {
    "duration": 4,
    "start_time": "2023-02-28T12:03:43.136Z"
   },
   {
    "duration": 847,
    "start_time": "2023-02-28T12:35:43.902Z"
   },
   {
    "duration": 28,
    "start_time": "2023-02-28T12:35:44.751Z"
   },
   {
    "duration": 4,
    "start_time": "2023-02-28T12:35:44.930Z"
   },
   {
    "duration": 4,
    "start_time": "2023-02-28T12:35:45.877Z"
   },
   {
    "duration": 5,
    "start_time": "2023-02-28T12:35:46.458Z"
   },
   {
    "duration": 155,
    "start_time": "2023-02-28T12:39:01.027Z"
   },
   {
    "duration": 542,
    "start_time": "2023-02-28T12:43:23.224Z"
   },
   {
    "duration": 28,
    "start_time": "2023-02-28T12:43:25.928Z"
   },
   {
    "duration": 5,
    "start_time": "2023-02-28T12:43:27.370Z"
   },
   {
    "duration": 5,
    "start_time": "2023-02-28T12:43:28.472Z"
   },
   {
    "duration": 5,
    "start_time": "2023-02-28T12:43:29.302Z"
   },
   {
    "duration": 4,
    "start_time": "2023-02-28T12:45:37.386Z"
   },
   {
    "duration": 35656,
    "start_time": "2023-02-28T12:45:41.576Z"
   },
   {
    "duration": 138002,
    "start_time": "2023-02-28T12:46:17.234Z"
   },
   {
    "duration": 3,
    "start_time": "2023-02-28T13:03:57.123Z"
   },
   {
    "duration": 19667,
    "start_time": "2023-02-28T13:03:58.379Z"
   },
   {
    "duration": 504,
    "start_time": "2023-02-28T13:04:18.138Z"
   },
   {
    "duration": 96,
    "start_time": "2023-02-28T13:04:18.644Z"
   },
   {
    "duration": 857106,
    "start_time": "2023-02-28T13:04:18.743Z"
   },
   {
    "duration": 4800,
    "start_time": "2023-02-28T13:18:35.851Z"
   },
   {
    "duration": 66,
    "start_time": "2023-02-28T13:18:40.652Z"
   },
   {
    "duration": 5,
    "start_time": "2023-02-28T13:18:40.719Z"
   },
   {
    "duration": 11923,
    "start_time": "2023-02-28T13:18:40.725Z"
   },
   {
    "duration": 1202,
    "start_time": "2023-02-28T13:18:52.651Z"
   },
   {
    "duration": 4,
    "start_time": "2023-02-28T13:18:53.856Z"
   },
   {
    "duration": 20883,
    "start_time": "2023-02-28T13:18:53.862Z"
   },
   {
    "duration": 396,
    "start_time": "2023-02-28T13:19:14.747Z"
   },
   {
    "duration": 92,
    "start_time": "2023-02-28T13:19:15.145Z"
   },
   {
    "duration": 31478,
    "start_time": "2023-02-28T13:19:15.239Z"
   },
   {
    "duration": 210,
    "start_time": "2023-02-28T13:19:46.719Z"
   },
   {
    "duration": 8,
    "start_time": "2023-02-28T13:19:46.930Z"
   },
   {
    "duration": 14,
    "start_time": "2023-02-28T13:19:46.939Z"
   },
   {
    "duration": 19,
    "start_time": "2023-02-28T13:19:46.954Z"
   },
   {
    "duration": 17,
    "start_time": "2023-02-28T13:19:46.975Z"
   },
   {
    "duration": 17,
    "start_time": "2023-02-28T13:19:46.994Z"
   },
   {
    "duration": 1394,
    "start_time": "2023-03-01T12:44:03.395Z"
   },
   {
    "duration": 1316,
    "start_time": "2023-03-01T12:44:04.790Z"
   },
   {
    "duration": 38,
    "start_time": "2023-03-01T12:44:07.031Z"
   },
   {
    "duration": 137,
    "start_time": "2023-03-01T12:44:07.645Z"
   },
   {
    "duration": 125,
    "start_time": "2023-03-01T12:44:08.001Z"
   },
   {
    "duration": 5,
    "start_time": "2023-03-01T12:44:09.896Z"
   },
   {
    "duration": 136,
    "start_time": "2023-03-01T12:44:10.347Z"
   },
   {
    "duration": 4,
    "start_time": "2023-03-01T12:44:11.404Z"
   },
   {
    "duration": 134,
    "start_time": "2023-03-01T12:44:11.618Z"
   },
   {
    "duration": 508,
    "start_time": "2023-03-01T12:44:12.693Z"
   },
   {
    "duration": 35,
    "start_time": "2023-03-01T12:44:20.785Z"
   },
   {
    "duration": 34,
    "start_time": "2023-03-01T12:44:20.920Z"
   },
   {
    "duration": 35,
    "start_time": "2023-03-01T12:44:21.062Z"
   },
   {
    "duration": 34,
    "start_time": "2023-03-01T12:44:21.674Z"
   },
   {
    "duration": 72,
    "start_time": "2023-03-01T12:44:24.522Z"
   },
   {
    "duration": 33,
    "start_time": "2023-03-01T12:44:28.747Z"
   },
   {
    "duration": 174,
    "start_time": "2023-03-01T12:48:15.684Z"
   },
   {
    "duration": 474,
    "start_time": "2023-03-01T12:49:32.843Z"
   },
   {
    "duration": 3,
    "start_time": "2023-03-01T12:49:45.353Z"
   },
   {
    "duration": 932,
    "start_time": "2023-03-01T12:49:45.743Z"
   },
   {
    "duration": 15,
    "start_time": "2023-03-01T12:49:46.677Z"
   },
   {
    "duration": 153,
    "start_time": "2023-03-01T12:49:46.896Z"
   },
   {
    "duration": 112,
    "start_time": "2023-03-01T12:49:47.319Z"
   },
   {
    "duration": 5,
    "start_time": "2023-03-01T12:49:48.286Z"
   },
   {
    "duration": 147,
    "start_time": "2023-03-01T12:49:48.591Z"
   },
   {
    "duration": 3,
    "start_time": "2023-03-01T12:49:49.421Z"
   },
   {
    "duration": 136,
    "start_time": "2023-03-01T12:49:49.664Z"
   },
   {
    "duration": 184,
    "start_time": "2023-03-01T12:49:50.000Z"
   },
   {
    "duration": 32,
    "start_time": "2023-03-01T12:49:51.969Z"
   },
   {
    "duration": 43,
    "start_time": "2023-03-01T12:49:52.121Z"
   },
   {
    "duration": 33,
    "start_time": "2023-03-01T12:49:52.583Z"
   },
   {
    "duration": 42,
    "start_time": "2023-03-01T12:49:53.400Z"
   },
   {
    "duration": 71,
    "start_time": "2023-03-01T12:49:54.079Z"
   },
   {
    "duration": 35,
    "start_time": "2023-03-01T12:50:00.165Z"
   },
   {
    "duration": 1353,
    "start_time": "2023-03-01T12:50:33.623Z"
   },
   {
    "duration": 930,
    "start_time": "2023-03-01T12:50:34.978Z"
   },
   {
    "duration": 23,
    "start_time": "2023-03-01T12:50:35.910Z"
   },
   {
    "duration": 151,
    "start_time": "2023-03-01T12:50:35.935Z"
   },
   {
    "duration": 139,
    "start_time": "2023-03-01T12:50:36.869Z"
   },
   {
    "duration": 6,
    "start_time": "2023-03-01T12:50:38.244Z"
   },
   {
    "duration": 152,
    "start_time": "2023-03-01T12:50:38.395Z"
   },
   {
    "duration": 3,
    "start_time": "2023-03-01T12:50:43.890Z"
   },
   {
    "duration": 146,
    "start_time": "2023-03-01T12:50:44.076Z"
   },
   {
    "duration": 325,
    "start_time": "2023-03-01T12:50:44.224Z"
   },
   {
    "duration": 34,
    "start_time": "2023-03-01T12:50:48.030Z"
   },
   {
    "duration": 35,
    "start_time": "2023-03-01T12:50:48.272Z"
   },
   {
    "duration": 35,
    "start_time": "2023-03-01T12:50:48.324Z"
   },
   {
    "duration": 34,
    "start_time": "2023-03-01T12:50:51.526Z"
   },
   {
    "duration": 68,
    "start_time": "2023-03-01T12:50:53.270Z"
   },
   {
    "duration": 34,
    "start_time": "2023-03-01T12:50:56.633Z"
   },
   {
    "duration": 439,
    "start_time": "2023-03-01T12:50:59.070Z"
   },
   {
    "duration": 311,
    "start_time": "2023-03-01T12:52:07.759Z"
   },
   {
    "duration": 17,
    "start_time": "2023-03-01T12:52:17.072Z"
   },
   {
    "duration": 6,
    "start_time": "2023-03-01T12:52:56.401Z"
   },
   {
    "duration": 343,
    "start_time": "2023-03-01T12:57:17.129Z"
   },
   {
    "duration": 17,
    "start_time": "2023-03-01T12:57:23.648Z"
   },
   {
    "duration": 6,
    "start_time": "2023-03-01T12:57:38.554Z"
   },
   {
    "duration": 331,
    "start_time": "2023-03-01T12:58:00.576Z"
   },
   {
    "duration": 16,
    "start_time": "2023-03-01T12:58:04.895Z"
   },
   {
    "duration": 23,
    "start_time": "2023-03-01T12:58:32.303Z"
   },
   {
    "duration": 1334,
    "start_time": "2023-03-01T12:58:48.343Z"
   },
   {
    "duration": 941,
    "start_time": "2023-03-01T12:58:49.680Z"
   },
   {
    "duration": 21,
    "start_time": "2023-03-01T12:58:50.624Z"
   },
   {
    "duration": 155,
    "start_time": "2023-03-01T12:58:50.647Z"
   },
   {
    "duration": 156,
    "start_time": "2023-03-01T12:58:50.804Z"
   },
   {
    "duration": 4,
    "start_time": "2023-03-01T12:58:50.962Z"
   },
   {
    "duration": 155,
    "start_time": "2023-03-01T12:58:50.968Z"
   },
   {
    "duration": 6,
    "start_time": "2023-03-01T12:58:51.126Z"
   },
   {
    "duration": 133,
    "start_time": "2023-03-01T12:58:51.952Z"
   },
   {
    "duration": 346,
    "start_time": "2023-03-01T12:58:55.595Z"
   },
   {
    "duration": 42,
    "start_time": "2023-03-01T12:58:59.632Z"
   },
   {
    "duration": 49,
    "start_time": "2023-03-01T12:58:59.763Z"
   },
   {
    "duration": 37,
    "start_time": "2023-03-01T12:58:59.873Z"
   },
   {
    "duration": 33,
    "start_time": "2023-03-01T12:59:01.850Z"
   },
   {
    "duration": 83,
    "start_time": "2023-03-01T12:59:01.972Z"
   },
   {
    "duration": 55,
    "start_time": "2023-03-01T12:59:06.089Z"
   },
   {
    "duration": 337,
    "start_time": "2023-03-01T12:59:07.949Z"
   },
   {
    "duration": 17,
    "start_time": "2023-03-01T12:59:13.171Z"
   },
   {
    "duration": 5,
    "start_time": "2023-03-01T12:59:24.131Z"
   },
   {
    "duration": 151,
    "start_time": "2023-03-01T12:59:27.720Z"
   },
   {
    "duration": 45,
    "start_time": "2023-03-01T13:01:02.748Z"
   },
   {
    "duration": 389,
    "start_time": "2023-03-01T13:01:20.337Z"
   },
   {
    "duration": 339,
    "start_time": "2023-03-01T13:06:26.980Z"
   },
   {
    "duration": 102,
    "start_time": "2023-03-01T13:08:11.543Z"
   },
   {
    "duration": 49,
    "start_time": "2023-03-01T13:08:14.446Z"
   },
   {
    "duration": 5,
    "start_time": "2023-03-01T13:08:29.019Z"
   },
   {
    "duration": 46,
    "start_time": "2023-03-01T13:09:43.596Z"
   },
   {
    "duration": 15,
    "start_time": "2023-03-01T13:11:01.317Z"
   },
   {
    "duration": 14,
    "start_time": "2023-03-01T13:11:23.722Z"
   },
   {
    "duration": 6,
    "start_time": "2023-03-01T13:11:38.302Z"
   },
   {
    "duration": 23,
    "start_time": "2023-03-01T13:12:16.753Z"
   },
   {
    "duration": 5,
    "start_time": "2023-03-01T13:17:29.472Z"
   },
   {
    "duration": 169,
    "start_time": "2023-03-01T13:17:30.127Z"
   },
   {
    "duration": 81,
    "start_time": "2023-03-01T13:17:33.900Z"
   },
   {
    "duration": 128,
    "start_time": "2023-03-01T13:17:34.462Z"
   },
   {
    "duration": 25,
    "start_time": "2023-03-01T13:17:40.686Z"
   },
   {
    "duration": 95,
    "start_time": "2023-03-01T13:17:41.844Z"
   },
   {
    "duration": 927,
    "start_time": "2023-03-01T13:18:04.025Z"
   },
   {
    "duration": 486,
    "start_time": "2023-03-01T13:21:13.646Z"
   },
   {
    "duration": 1380,
    "start_time": "2023-03-01T13:21:51.879Z"
   },
   {
    "duration": 882,
    "start_time": "2023-03-01T13:21:53.262Z"
   },
   {
    "duration": 23,
    "start_time": "2023-03-01T13:21:54.145Z"
   },
   {
    "duration": 169,
    "start_time": "2023-03-01T13:21:54.170Z"
   },
   {
    "duration": 111,
    "start_time": "2023-03-01T13:21:54.342Z"
   },
   {
    "duration": 5,
    "start_time": "2023-03-01T13:21:54.454Z"
   },
   {
    "duration": 168,
    "start_time": "2023-03-01T13:21:54.461Z"
   },
   {
    "duration": 3,
    "start_time": "2023-03-01T13:21:54.631Z"
   },
   {
    "duration": 149,
    "start_time": "2023-03-01T13:21:54.636Z"
   },
   {
    "duration": 332,
    "start_time": "2023-03-01T13:21:54.787Z"
   },
   {
    "duration": 37,
    "start_time": "2023-03-01T13:21:55.120Z"
   },
   {
    "duration": 48,
    "start_time": "2023-03-01T13:21:55.159Z"
   },
   {
    "duration": 42,
    "start_time": "2023-03-01T13:21:55.209Z"
   },
   {
    "duration": 43,
    "start_time": "2023-03-01T13:21:55.254Z"
   },
   {
    "duration": 71,
    "start_time": "2023-03-01T13:21:55.299Z"
   },
   {
    "duration": 47,
    "start_time": "2023-03-01T13:21:55.372Z"
   },
   {
    "duration": 339,
    "start_time": "2023-03-01T13:21:55.420Z"
   },
   {
    "duration": 19,
    "start_time": "2023-03-01T13:21:55.761Z"
   },
   {
    "duration": 36,
    "start_time": "2023-03-01T13:21:55.781Z"
   },
   {
    "duration": 142,
    "start_time": "2023-03-01T13:21:55.819Z"
   },
   {
    "duration": 300,
    "start_time": "2023-03-01T13:21:55.963Z"
   },
   {
    "duration": 0,
    "start_time": "2023-03-01T13:21:56.265Z"
   },
   {
    "duration": 0,
    "start_time": "2023-03-01T13:21:56.267Z"
   },
   {
    "duration": 0,
    "start_time": "2023-03-01T13:21:56.268Z"
   },
   {
    "duration": 0,
    "start_time": "2023-03-01T13:21:56.269Z"
   },
   {
    "duration": 0,
    "start_time": "2023-03-01T13:21:56.271Z"
   },
   {
    "duration": 0,
    "start_time": "2023-03-01T13:21:56.272Z"
   },
   {
    "duration": 0,
    "start_time": "2023-03-01T13:21:56.273Z"
   },
   {
    "duration": 0,
    "start_time": "2023-03-01T13:21:56.274Z"
   },
   {
    "duration": 0,
    "start_time": "2023-03-01T13:21:56.276Z"
   },
   {
    "duration": 0,
    "start_time": "2023-03-01T13:21:56.277Z"
   },
   {
    "duration": 0,
    "start_time": "2023-03-01T13:21:56.278Z"
   },
   {
    "duration": 0,
    "start_time": "2023-03-01T13:21:56.279Z"
   },
   {
    "duration": 0,
    "start_time": "2023-03-01T13:21:56.280Z"
   },
   {
    "duration": 0,
    "start_time": "2023-03-01T13:21:56.281Z"
   },
   {
    "duration": 0,
    "start_time": "2023-03-01T13:21:56.282Z"
   },
   {
    "duration": 0,
    "start_time": "2023-03-01T13:21:56.283Z"
   },
   {
    "duration": 0,
    "start_time": "2023-03-01T13:21:56.284Z"
   },
   {
    "duration": 0,
    "start_time": "2023-03-01T13:21:56.285Z"
   },
   {
    "duration": 0,
    "start_time": "2023-03-01T13:21:56.286Z"
   },
   {
    "duration": 0,
    "start_time": "2023-03-01T13:21:56.287Z"
   },
   {
    "duration": 0,
    "start_time": "2023-03-01T13:21:56.288Z"
   },
   {
    "duration": 0,
    "start_time": "2023-03-01T13:21:56.289Z"
   },
   {
    "duration": 0,
    "start_time": "2023-03-01T13:21:56.290Z"
   },
   {
    "duration": 0,
    "start_time": "2023-03-01T13:21:56.291Z"
   },
   {
    "duration": 0,
    "start_time": "2023-03-01T13:21:56.292Z"
   },
   {
    "duration": 0,
    "start_time": "2023-03-01T13:21:56.294Z"
   },
   {
    "duration": 0,
    "start_time": "2023-03-01T13:21:56.294Z"
   },
   {
    "duration": 0,
    "start_time": "2023-03-01T13:21:56.295Z"
   },
   {
    "duration": 0,
    "start_time": "2023-03-01T13:21:56.296Z"
   },
   {
    "duration": 0,
    "start_time": "2023-03-01T13:21:56.297Z"
   },
   {
    "duration": 0,
    "start_time": "2023-03-01T13:21:56.298Z"
   },
   {
    "duration": 0,
    "start_time": "2023-03-01T13:21:56.299Z"
   },
   {
    "duration": 0,
    "start_time": "2023-03-01T13:21:56.300Z"
   },
   {
    "duration": 0,
    "start_time": "2023-03-01T13:21:56.301Z"
   },
   {
    "duration": 0,
    "start_time": "2023-03-01T13:21:56.305Z"
   },
   {
    "duration": 117,
    "start_time": "2023-03-01T13:23:33.428Z"
   },
   {
    "duration": 91,
    "start_time": "2023-03-01T13:23:40.773Z"
   },
   {
    "duration": 16,
    "start_time": "2023-03-01T13:23:47.133Z"
   },
   {
    "duration": 8,
    "start_time": "2023-03-01T13:23:58.969Z"
   },
   {
    "duration": 16,
    "start_time": "2023-03-01T13:24:47.535Z"
   },
   {
    "duration": 23,
    "start_time": "2023-03-01T13:24:48.374Z"
   },
   {
    "duration": 16,
    "start_time": "2023-03-01T13:25:07.717Z"
   },
   {
    "duration": 24,
    "start_time": "2023-03-01T13:25:11.005Z"
   },
   {
    "duration": 1423,
    "start_time": "2023-03-01T13:26:03.891Z"
   },
   {
    "duration": 943,
    "start_time": "2023-03-01T13:26:05.317Z"
   },
   {
    "duration": 24,
    "start_time": "2023-03-01T13:26:06.263Z"
   },
   {
    "duration": 175,
    "start_time": "2023-03-01T13:26:06.290Z"
   },
   {
    "duration": 125,
    "start_time": "2023-03-01T13:26:06.468Z"
   },
   {
    "duration": 6,
    "start_time": "2023-03-01T13:26:06.594Z"
   },
   {
    "duration": 187,
    "start_time": "2023-03-01T13:26:06.612Z"
   },
   {
    "duration": 6,
    "start_time": "2023-03-01T13:26:06.806Z"
   },
   {
    "duration": 171,
    "start_time": "2023-03-01T13:26:06.814Z"
   },
   {
    "duration": 356,
    "start_time": "2023-03-01T13:26:06.987Z"
   },
   {
    "duration": 34,
    "start_time": "2023-03-01T13:26:07.345Z"
   },
   {
    "duration": 62,
    "start_time": "2023-03-01T13:26:07.381Z"
   },
   {
    "duration": 36,
    "start_time": "2023-03-01T13:26:07.445Z"
   },
   {
    "duration": 64,
    "start_time": "2023-03-01T13:26:07.485Z"
   },
   {
    "duration": 85,
    "start_time": "2023-03-01T13:26:07.551Z"
   },
   {
    "duration": 35,
    "start_time": "2023-03-01T13:26:07.638Z"
   },
   {
    "duration": 368,
    "start_time": "2023-03-01T13:26:07.675Z"
   },
   {
    "duration": 17,
    "start_time": "2023-03-01T13:26:08.044Z"
   },
   {
    "duration": 8,
    "start_time": "2023-03-01T13:26:08.063Z"
   },
   {
    "duration": 178,
    "start_time": "2023-03-01T13:26:08.073Z"
   },
   {
    "duration": 3,
    "start_time": "2023-03-01T13:26:08.252Z"
   },
   {
    "duration": 104,
    "start_time": "2023-03-01T13:26:08.257Z"
   },
   {
    "duration": 6,
    "start_time": "2023-03-01T13:26:08.363Z"
   },
   {
    "duration": 20,
    "start_time": "2023-03-01T13:26:08.371Z"
   },
   {
    "duration": 20,
    "start_time": "2023-03-01T13:26:08.393Z"
   },
   {
    "duration": 195,
    "start_time": "2023-03-01T13:26:08.415Z"
   },
   {
    "duration": 125,
    "start_time": "2023-03-01T13:26:08.612Z"
   },
   {
    "duration": 208,
    "start_time": "2023-03-01T13:26:08.739Z"
   },
   {
    "duration": 85,
    "start_time": "2023-03-01T13:26:08.949Z"
   },
   {
    "duration": 207,
    "start_time": "2023-03-01T13:26:09.036Z"
   },
   {
    "duration": 2004,
    "start_time": "2023-03-01T13:26:09.246Z"
   },
   {
    "duration": 1484,
    "start_time": "2023-03-01T13:26:11.252Z"
   },
   {
    "duration": 0,
    "start_time": "2023-03-01T13:26:12.738Z"
   },
   {
    "duration": 0,
    "start_time": "2023-03-01T13:26:12.740Z"
   },
   {
    "duration": 0,
    "start_time": "2023-03-01T13:26:12.741Z"
   },
   {
    "duration": 0,
    "start_time": "2023-03-01T13:26:12.742Z"
   },
   {
    "duration": 0,
    "start_time": "2023-03-01T13:26:12.743Z"
   },
   {
    "duration": 0,
    "start_time": "2023-03-01T13:26:12.745Z"
   },
   {
    "duration": 0,
    "start_time": "2023-03-01T13:26:12.746Z"
   },
   {
    "duration": 0,
    "start_time": "2023-03-01T13:26:12.747Z"
   },
   {
    "duration": 0,
    "start_time": "2023-03-01T13:26:12.748Z"
   },
   {
    "duration": 0,
    "start_time": "2023-03-01T13:26:12.749Z"
   },
   {
    "duration": 0,
    "start_time": "2023-03-01T13:26:12.806Z"
   },
   {
    "duration": 0,
    "start_time": "2023-03-01T13:26:12.808Z"
   },
   {
    "duration": 0,
    "start_time": "2023-03-01T13:26:12.810Z"
   },
   {
    "duration": 0,
    "start_time": "2023-03-01T13:26:12.811Z"
   },
   {
    "duration": 0,
    "start_time": "2023-03-01T13:26:12.812Z"
   },
   {
    "duration": 0,
    "start_time": "2023-03-01T13:26:12.814Z"
   },
   {
    "duration": 0,
    "start_time": "2023-03-01T13:26:12.816Z"
   },
   {
    "duration": 0,
    "start_time": "2023-03-01T13:26:12.817Z"
   },
   {
    "duration": 0,
    "start_time": "2023-03-01T13:26:12.818Z"
   },
   {
    "duration": 0,
    "start_time": "2023-03-01T13:26:12.820Z"
   },
   {
    "duration": 0,
    "start_time": "2023-03-01T13:26:12.821Z"
   },
   {
    "duration": 0,
    "start_time": "2023-03-01T13:26:12.828Z"
   },
   {
    "duration": 0,
    "start_time": "2023-03-01T13:26:12.830Z"
   },
   {
    "duration": 0,
    "start_time": "2023-03-01T13:26:12.832Z"
   },
   {
    "duration": 0,
    "start_time": "2023-03-01T13:26:12.834Z"
   },
   {
    "duration": 0,
    "start_time": "2023-03-01T13:26:12.835Z"
   },
   {
    "duration": 0,
    "start_time": "2023-03-01T13:26:12.837Z"
   },
   {
    "duration": 1452,
    "start_time": "2023-03-01T13:27:11.958Z"
   },
   {
    "duration": 969,
    "start_time": "2023-03-01T13:27:13.412Z"
   },
   {
    "duration": 40,
    "start_time": "2023-03-01T13:27:14.383Z"
   },
   {
    "duration": 183,
    "start_time": "2023-03-01T13:27:14.427Z"
   },
   {
    "duration": 118,
    "start_time": "2023-03-01T13:27:14.612Z"
   },
   {
    "duration": 5,
    "start_time": "2023-03-01T13:27:14.732Z"
   },
   {
    "duration": 178,
    "start_time": "2023-03-01T13:27:14.739Z"
   },
   {
    "duration": 4,
    "start_time": "2023-03-01T13:27:14.919Z"
   },
   {
    "duration": 164,
    "start_time": "2023-03-01T13:27:14.925Z"
   },
   {
    "duration": 367,
    "start_time": "2023-03-01T13:27:15.092Z"
   },
   {
    "duration": 46,
    "start_time": "2023-03-01T13:27:15.461Z"
   },
   {
    "duration": 44,
    "start_time": "2023-03-01T13:27:15.509Z"
   },
   {
    "duration": 56,
    "start_time": "2023-03-01T13:27:15.554Z"
   },
   {
    "duration": 50,
    "start_time": "2023-03-01T13:27:15.613Z"
   },
   {
    "duration": 96,
    "start_time": "2023-03-01T13:27:15.665Z"
   },
   {
    "duration": 42,
    "start_time": "2023-03-01T13:27:15.763Z"
   },
   {
    "duration": 415,
    "start_time": "2023-03-01T13:27:15.808Z"
   },
   {
    "duration": 20,
    "start_time": "2023-03-01T13:27:16.226Z"
   },
   {
    "duration": 11,
    "start_time": "2023-03-01T13:27:16.247Z"
   },
   {
    "duration": 170,
    "start_time": "2023-03-01T13:27:16.260Z"
   },
   {
    "duration": 3,
    "start_time": "2023-03-01T13:27:16.432Z"
   },
   {
    "duration": 105,
    "start_time": "2023-03-01T13:27:16.437Z"
   },
   {
    "duration": 7,
    "start_time": "2023-03-01T13:27:16.545Z"
   },
   {
    "duration": 28,
    "start_time": "2023-03-01T13:27:16.554Z"
   },
   {
    "duration": 161,
    "start_time": "2023-03-01T13:27:16.584Z"
   },
   {
    "duration": 99,
    "start_time": "2023-03-01T13:27:16.746Z"
   },
   {
    "duration": 127,
    "start_time": "2023-03-01T13:27:16.847Z"
   },
   {
    "duration": 38,
    "start_time": "2023-03-01T13:27:16.977Z"
   },
   {
    "duration": 101,
    "start_time": "2023-03-01T13:27:17.017Z"
   },
   {
    "duration": 889,
    "start_time": "2023-03-01T13:27:17.120Z"
   },
   {
    "duration": 643,
    "start_time": "2023-03-01T13:27:18.011Z"
   },
   {
    "duration": 0,
    "start_time": "2023-03-01T13:27:18.657Z"
   },
   {
    "duration": 0,
    "start_time": "2023-03-01T13:27:18.658Z"
   },
   {
    "duration": 0,
    "start_time": "2023-03-01T13:27:18.660Z"
   },
   {
    "duration": 0,
    "start_time": "2023-03-01T13:27:18.662Z"
   },
   {
    "duration": 0,
    "start_time": "2023-03-01T13:27:18.664Z"
   },
   {
    "duration": 0,
    "start_time": "2023-03-01T13:27:18.666Z"
   },
   {
    "duration": 0,
    "start_time": "2023-03-01T13:27:18.667Z"
   },
   {
    "duration": 0,
    "start_time": "2023-03-01T13:27:18.669Z"
   },
   {
    "duration": 0,
    "start_time": "2023-03-01T13:27:18.671Z"
   },
   {
    "duration": 0,
    "start_time": "2023-03-01T13:27:18.672Z"
   },
   {
    "duration": 0,
    "start_time": "2023-03-01T13:27:18.674Z"
   },
   {
    "duration": 0,
    "start_time": "2023-03-01T13:27:18.706Z"
   },
   {
    "duration": 0,
    "start_time": "2023-03-01T13:27:18.708Z"
   },
   {
    "duration": 0,
    "start_time": "2023-03-01T13:27:18.711Z"
   },
   {
    "duration": 0,
    "start_time": "2023-03-01T13:27:18.713Z"
   },
   {
    "duration": 0,
    "start_time": "2023-03-01T13:27:18.714Z"
   },
   {
    "duration": 0,
    "start_time": "2023-03-01T13:27:18.715Z"
   },
   {
    "duration": 0,
    "start_time": "2023-03-01T13:27:18.716Z"
   },
   {
    "duration": 0,
    "start_time": "2023-03-01T13:27:18.717Z"
   },
   {
    "duration": 0,
    "start_time": "2023-03-01T13:27:18.718Z"
   },
   {
    "duration": 0,
    "start_time": "2023-03-01T13:27:18.720Z"
   },
   {
    "duration": 0,
    "start_time": "2023-03-01T13:27:18.722Z"
   },
   {
    "duration": 0,
    "start_time": "2023-03-01T13:27:18.724Z"
   },
   {
    "duration": 0,
    "start_time": "2023-03-01T13:27:18.726Z"
   },
   {
    "duration": 0,
    "start_time": "2023-03-01T13:27:18.727Z"
   },
   {
    "duration": 0,
    "start_time": "2023-03-01T13:27:18.728Z"
   },
   {
    "duration": 0,
    "start_time": "2023-03-01T13:27:18.730Z"
   },
   {
    "duration": 502,
    "start_time": "2023-03-01T13:27:55.725Z"
   },
   {
    "duration": 29,
    "start_time": "2023-03-01T13:27:59.221Z"
   },
   {
    "duration": 5,
    "start_time": "2023-03-01T13:27:59.401Z"
   },
   {
    "duration": 4,
    "start_time": "2023-03-01T13:27:59.544Z"
   },
   {
    "duration": 3,
    "start_time": "2023-03-01T13:28:00.344Z"
   },
   {
    "duration": 5,
    "start_time": "2023-03-01T13:28:06.738Z"
   },
   {
    "duration": 34671,
    "start_time": "2023-03-01T13:28:09.704Z"
   },
   {
    "duration": 1075435,
    "start_time": "2023-03-01T13:28:44.377Z"
   },
   {
    "duration": 2,
    "start_time": "2023-03-01T13:46:39.814Z"
   },
   {
    "duration": 18989,
    "start_time": "2023-03-01T13:46:39.818Z"
   },
   {
    "duration": 213,
    "start_time": "2023-03-01T13:46:58.810Z"
   },
   {
    "duration": 81,
    "start_time": "2023-03-01T13:46:59.026Z"
   },
   {
    "duration": 697142,
    "start_time": "2023-03-01T13:46:59.109Z"
   },
   {
    "duration": 4450,
    "start_time": "2023-03-01T13:58:36.253Z"
   },
   {
    "duration": 59,
    "start_time": "2023-03-01T13:58:40.706Z"
   },
   {
    "duration": 4,
    "start_time": "2023-03-01T13:58:40.768Z"
   },
   {
    "duration": 1150048,
    "start_time": "2023-03-01T13:58:40.774Z"
   },
   {
    "duration": 1018,
    "start_time": "2023-03-01T14:17:50.828Z"
   },
   {
    "duration": 5,
    "start_time": "2023-03-01T14:17:51.848Z"
   },
   {
    "duration": 37966,
    "start_time": "2023-03-01T14:17:51.854Z"
   },
   {
    "duration": 301,
    "start_time": "2023-03-01T14:18:29.822Z"
   },
   {
    "duration": 10,
    "start_time": "2023-03-01T14:18:30.131Z"
   },
   {
    "duration": 27564,
    "start_time": "2023-03-01T14:18:30.223Z"
   },
   {
    "duration": 180,
    "start_time": "2023-03-01T14:18:57.789Z"
   },
   {
    "duration": 20,
    "start_time": "2023-03-01T14:18:58.026Z"
   },
   {
    "duration": 8,
    "start_time": "2023-03-01T14:18:58.047Z"
   },
   {
    "duration": 6738,
    "start_time": "2023-03-01T14:18:58.057Z"
   },
   {
    "duration": 152,
    "start_time": "2023-03-01T14:19:04.797Z"
   },
   {
    "duration": 4,
    "start_time": "2023-03-01T14:19:04.951Z"
   },
   {
    "duration": 7,
    "start_time": "2023-03-01T14:19:04.956Z"
   },
   {
    "duration": 11,
    "start_time": "2023-03-01T14:19:04.966Z"
   },
   {
    "duration": 7,
    "start_time": "2023-03-01T14:19:05.006Z"
   },
   {
    "duration": 4,
    "start_time": "2023-03-01T14:27:00.166Z"
   },
   {
    "duration": 3,
    "start_time": "2023-03-01T14:27:03.290Z"
   },
   {
    "duration": 13,
    "start_time": "2023-03-01T14:27:03.504Z"
   },
   {
    "duration": 4,
    "start_time": "2023-03-01T14:27:28.890Z"
   },
   {
    "duration": 4,
    "start_time": "2023-03-01T14:27:36.165Z"
   },
   {
    "duration": 4,
    "start_time": "2023-03-01T14:27:37.623Z"
   },
   {
    "duration": 9,
    "start_time": "2023-03-01T14:27:38.032Z"
   },
   {
    "duration": 4,
    "start_time": "2023-03-01T14:28:15.376Z"
   },
   {
    "duration": 4,
    "start_time": "2023-03-01T14:28:20.648Z"
   },
   {
    "duration": 4,
    "start_time": "2023-03-01T14:28:20.968Z"
   },
   {
    "duration": 8,
    "start_time": "2023-03-01T14:28:21.251Z"
   },
   {
    "duration": 4,
    "start_time": "2023-03-01T14:28:50.842Z"
   },
   {
    "duration": 5,
    "start_time": "2023-03-01T14:29:09.785Z"
   },
   {
    "duration": 3,
    "start_time": "2023-03-01T14:29:10.084Z"
   },
   {
    "duration": 8,
    "start_time": "2023-03-01T14:29:10.345Z"
   },
   {
    "duration": 13359,
    "start_time": "2023-03-01T14:30:04.493Z"
   },
   {
    "duration": 154,
    "start_time": "2023-03-01T14:30:21.696Z"
   },
   {
    "duration": 4,
    "start_time": "2023-03-01T14:30:23.571Z"
   },
   {
    "duration": 3,
    "start_time": "2023-03-01T14:30:34.232Z"
   },
   {
    "duration": 4,
    "start_time": "2023-03-01T14:30:34.597Z"
   },
   {
    "duration": 8,
    "start_time": "2023-03-01T14:30:34.976Z"
   },
   {
    "duration": 3,
    "start_time": "2023-03-01T14:31:23.138Z"
   },
   {
    "duration": 4,
    "start_time": "2023-03-01T14:31:23.351Z"
   },
   {
    "duration": 8,
    "start_time": "2023-03-01T14:31:23.520Z"
   },
   {
    "duration": 3,
    "start_time": "2023-03-01T14:31:40.942Z"
   },
   {
    "duration": 4,
    "start_time": "2023-03-01T14:31:41.195Z"
   },
   {
    "duration": 9,
    "start_time": "2023-03-01T14:31:41.479Z"
   }
  ],
  "kernelspec": {
   "display_name": "Python 3 (ipykernel)",
   "language": "python",
   "name": "python3"
  },
  "language_info": {
   "codemirror_mode": {
    "name": "ipython",
    "version": 3
   },
   "file_extension": ".py",
   "mimetype": "text/x-python",
   "name": "python",
   "nbconvert_exporter": "python",
   "pygments_lexer": "ipython3",
   "version": "3.9.16"
  },
  "toc": {
   "base_numbering": 1,
   "nav_menu": {},
   "number_sections": true,
   "sideBar": true,
   "skip_h1_title": true,
   "title_cell": "Table of Contents",
   "title_sidebar": "Contents",
   "toc_cell": false,
   "toc_position": {
    "height": "calc(100% - 180px)",
    "left": "10px",
    "top": "150px",
    "width": "302.219px"
   },
   "toc_section_display": true,
   "toc_window_display": true
  }
 },
 "nbformat": 4,
 "nbformat_minor": 2
}
