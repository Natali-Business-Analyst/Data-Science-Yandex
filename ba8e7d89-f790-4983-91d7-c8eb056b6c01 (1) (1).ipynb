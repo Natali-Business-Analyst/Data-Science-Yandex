{
 "cells": [
  {
   "cell_type": "markdown",
   "metadata": {
    "toc": true
   },
   "source": [
    "<h1>Содержание<span class=\"tocSkip\"></span></h1>\n",
    "<div class=\"toc\"><ul class=\"toc-item\"><li><span><a href=\"#Подготовка\" data-toc-modified-id=\"Подготовка-1\"><span class=\"toc-item-num\">1&nbsp;&nbsp;</span>Подготовка</a></span><ul class=\"toc-item\"><li><span><a href=\"#Вывод-по-первичному-осмотру\" data-toc-modified-id=\"Вывод-по-первичному-осмотру-1.1\"><span class=\"toc-item-num\">1.1&nbsp;&nbsp;</span>Вывод по первичному осмотру</a></span></li><li><span><a href=\"#Лемматизация\" data-toc-modified-id=\"Лемматизация-1.2\"><span class=\"toc-item-num\">1.2&nbsp;&nbsp;</span>Лемматизация</a></span></li><li><span><a href=\"#Очистим-от-лишних-символов\" data-toc-modified-id=\"Очистим-от-лишних-символов-1.3\"><span class=\"toc-item-num\">1.3&nbsp;&nbsp;</span>Очистим от лишних символов</a></span></li><li><span><a href=\"#Вывод\" data-toc-modified-id=\"Вывод-1.4\"><span class=\"toc-item-num\">1.4&nbsp;&nbsp;</span>Вывод</a></span></li></ul></li><li><span><a href=\"#Обучение\" data-toc-modified-id=\"Обучение-2\"><span class=\"toc-item-num\">2&nbsp;&nbsp;</span>Обучение</a></span><ul class=\"toc-item\"><li><span><a href=\"#Делим-на-выборки\" data-toc-modified-id=\"Делим-на-выборки-2.1\"><span class=\"toc-item-num\">2.1&nbsp;&nbsp;</span>Делим на выборки</a></span></li><li><span><a href=\"#Преобразуем-текст-в-вектор\" data-toc-modified-id=\"Преобразуем-текст-в-вектор-2.2\"><span class=\"toc-item-num\">2.2&nbsp;&nbsp;</span>Преобразуем текст в вектор</a></span></li><li><span><a href=\"#Исследуем-баланс-классов\" data-toc-modified-id=\"Исследуем-баланс-классов-2.3\"><span class=\"toc-item-num\">2.3&nbsp;&nbsp;</span>Исследуем баланс классов</a></span></li><li><span><a href=\"#Логистичкская-регрессия\" data-toc-modified-id=\"Логистичкская-регрессия-2.4\"><span class=\"toc-item-num\">2.4&nbsp;&nbsp;</span>Логистичкская регрессия</a></span></li><li><span><a href=\"#Дерево-решений\" data-toc-modified-id=\"Дерево-решений-2.5\"><span class=\"toc-item-num\">2.5&nbsp;&nbsp;</span>Дерево решений</a></span></li><li><span><a href=\"#Случайный-лес\" data-toc-modified-id=\"Случайный-лес-2.6\"><span class=\"toc-item-num\">2.6&nbsp;&nbsp;</span>Случайный лес</a></span></li></ul></li><li><span><a href=\"#Тестирование\" data-toc-modified-id=\"Тестирование-3\"><span class=\"toc-item-num\">3&nbsp;&nbsp;</span>Тестирование</a></span><ul class=\"toc-item\"><li><span><a href=\"#Логистическая-регрессия\" data-toc-modified-id=\"Логистическая-регрессия-3.1\"><span class=\"toc-item-num\">3.1&nbsp;&nbsp;</span>Логистическая регрессия</a></span></li></ul></li><li><span><a href=\"#Выводы\" data-toc-modified-id=\"Выводы-4\"><span class=\"toc-item-num\">4&nbsp;&nbsp;</span>Выводы</a></span></li><li><span><a href=\"#Чек-лист-проверки\" data-toc-modified-id=\"Чек-лист-проверки-5\"><span class=\"toc-item-num\">5&nbsp;&nbsp;</span>Чек-лист проверки</a></span></li></ul></div>"
   ]
  },
  {
   "cell_type": "markdown",
   "metadata": {},
   "source": [
    "# Проект для «Викишоп»"
   ]
  },
  {
   "cell_type": "markdown",
   "metadata": {},
   "source": [
    "Интернет-магазин «Викишоп» запускает новый сервис. Теперь пользователи могут редактировать и дополнять описания товаров, как в вики-сообществах. То есть клиенты предлагают свои правки и комментируют изменения других. Магазину нужен инструмент, который будет искать токсичные комментарии и отправлять их на модерацию. \n",
    "\n",
    "Обучите модель классифицировать комментарии на позитивные и негативные. В вашем распоряжении набор данных с разметкой о токсичности правок.\n",
    "\n",
    "Постройте модель со значением метрики качества *F1* не меньше 0.75. \n",
    "\n",
    "**Описание данных**\n",
    "\n",
    "Данные находятся в файле `toxic_comments.csv`. Столбец *text* в нём содержит текст комментария, а *toxic* — целевой признак."
   ]
  },
  {
   "cell_type": "markdown",
   "metadata": {},
   "source": [
    "## Подготовка"
   ]
  },
  {
   "cell_type": "code",
   "execution_count": 1,
   "metadata": {},
   "outputs": [],
   "source": [
    "import numpy as np\n",
    "import nltk\n",
    "import pandas as pd\n",
    "import re\n",
    "\n",
    "from nltk.corpus import stopwords as nltk_stopwords\n",
    "from nltk.stem import WordNetLemmatizer\n",
    "from sklearn.metrics import f1_score\n",
    "from sklearn.feature_extraction.text import CountVectorizer\n",
    "from sklearn.feature_extraction.text import TfidfVectorizer\n",
    "from sklearn.tree import DecisionTreeClassifier\n",
    "from sklearn.linear_model import LogisticRegression\n",
    "from sklearn.ensemble import RandomForestClassifier\n",
    "from sklearn.model_selection import cross_val_score\n",
    "from sklearn.model_selection import train_test_split"
   ]
  },
  {
   "cell_type": "code",
   "execution_count": 2,
   "metadata": {},
   "outputs": [],
   "source": [
    "data = pd.read_csv('/datasets/toxic_comments.csv')"
   ]
  },
  {
   "cell_type": "code",
   "execution_count": 3,
   "metadata": {},
   "outputs": [
    {
     "name": "stdout",
     "output_type": "stream",
     "text": [
      "<class 'pandas.core.frame.DataFrame'>\n",
      "RangeIndex: 159292 entries, 0 to 159291\n",
      "Data columns (total 3 columns):\n",
      " #   Column      Non-Null Count   Dtype \n",
      "---  ------      --------------   ----- \n",
      " 0   Unnamed: 0  159292 non-null  int64 \n",
      " 1   text        159292 non-null  object\n",
      " 2   toxic       159292 non-null  int64 \n",
      "dtypes: int64(2), object(1)\n",
      "memory usage: 3.6+ MB\n"
     ]
    }
   ],
   "source": [
    "data.info()"
   ]
  },
  {
   "cell_type": "code",
   "execution_count": 4,
   "metadata": {},
   "outputs": [
    {
     "data": {
      "text/html": [
       "<div>\n",
       "<style scoped>\n",
       "    .dataframe tbody tr th:only-of-type {\n",
       "        vertical-align: middle;\n",
       "    }\n",
       "\n",
       "    .dataframe tbody tr th {\n",
       "        vertical-align: top;\n",
       "    }\n",
       "\n",
       "    .dataframe thead th {\n",
       "        text-align: right;\n",
       "    }\n",
       "</style>\n",
       "<table border=\"1\" class=\"dataframe\">\n",
       "  <thead>\n",
       "    <tr style=\"text-align: right;\">\n",
       "      <th></th>\n",
       "      <th>Unnamed: 0</th>\n",
       "      <th>text</th>\n",
       "      <th>toxic</th>\n",
       "    </tr>\n",
       "  </thead>\n",
       "  <tbody>\n",
       "    <tr>\n",
       "      <th>0</th>\n",
       "      <td>0</td>\n",
       "      <td>Explanation\\nWhy the edits made under my usern...</td>\n",
       "      <td>0</td>\n",
       "    </tr>\n",
       "    <tr>\n",
       "      <th>1</th>\n",
       "      <td>1</td>\n",
       "      <td>D'aww! He matches this background colour I'm s...</td>\n",
       "      <td>0</td>\n",
       "    </tr>\n",
       "    <tr>\n",
       "      <th>2</th>\n",
       "      <td>2</td>\n",
       "      <td>Hey man, I'm really not trying to edit war. It...</td>\n",
       "      <td>0</td>\n",
       "    </tr>\n",
       "    <tr>\n",
       "      <th>3</th>\n",
       "      <td>3</td>\n",
       "      <td>\"\\nMore\\nI can't make any real suggestions on ...</td>\n",
       "      <td>0</td>\n",
       "    </tr>\n",
       "    <tr>\n",
       "      <th>4</th>\n",
       "      <td>4</td>\n",
       "      <td>You, sir, are my hero. Any chance you remember...</td>\n",
       "      <td>0</td>\n",
       "    </tr>\n",
       "    <tr>\n",
       "      <th>5</th>\n",
       "      <td>5</td>\n",
       "      <td>\"\\n\\nCongratulations from me as well, use the ...</td>\n",
       "      <td>0</td>\n",
       "    </tr>\n",
       "    <tr>\n",
       "      <th>6</th>\n",
       "      <td>6</td>\n",
       "      <td>COCKSUCKER BEFORE YOU PISS AROUND ON MY WORK</td>\n",
       "      <td>1</td>\n",
       "    </tr>\n",
       "    <tr>\n",
       "      <th>7</th>\n",
       "      <td>7</td>\n",
       "      <td>Your vandalism to the Matt Shirvington article...</td>\n",
       "      <td>0</td>\n",
       "    </tr>\n",
       "    <tr>\n",
       "      <th>8</th>\n",
       "      <td>8</td>\n",
       "      <td>Sorry if the word 'nonsense' was offensive to ...</td>\n",
       "      <td>0</td>\n",
       "    </tr>\n",
       "    <tr>\n",
       "      <th>9</th>\n",
       "      <td>9</td>\n",
       "      <td>alignment on this subject and which are contra...</td>\n",
       "      <td>0</td>\n",
       "    </tr>\n",
       "  </tbody>\n",
       "</table>\n",
       "</div>"
      ],
      "text/plain": [
       "   Unnamed: 0                                               text  toxic\n",
       "0           0  Explanation\\nWhy the edits made under my usern...      0\n",
       "1           1  D'aww! He matches this background colour I'm s...      0\n",
       "2           2  Hey man, I'm really not trying to edit war. It...      0\n",
       "3           3  \"\\nMore\\nI can't make any real suggestions on ...      0\n",
       "4           4  You, sir, are my hero. Any chance you remember...      0\n",
       "5           5  \"\\n\\nCongratulations from me as well, use the ...      0\n",
       "6           6       COCKSUCKER BEFORE YOU PISS AROUND ON MY WORK      1\n",
       "7           7  Your vandalism to the Matt Shirvington article...      0\n",
       "8           8  Sorry if the word 'nonsense' was offensive to ...      0\n",
       "9           9  alignment on this subject and which are contra...      0"
      ]
     },
     "execution_count": 4,
     "metadata": {},
     "output_type": "execute_result"
    }
   ],
   "source": [
    "data.head(10)"
   ]
  },
  {
   "cell_type": "code",
   "execution_count": 5,
   "metadata": {},
   "outputs": [],
   "source": [
    "data = data.drop('Unnamed: 0', axis=1)"
   ]
  },
  {
   "cell_type": "markdown",
   "metadata": {},
   "source": [
    "### Вывод по первичному осмотру\n",
    "\n",
    "Данные подготовленные, лишний столбец (дублировал индексы)Unnamed удалила"
   ]
  },
  {
   "cell_type": "markdown",
   "metadata": {},
   "source": [
    "### Лемматизация"
   ]
  },
  {
   "cell_type": "code",
   "execution_count": 6,
   "metadata": {},
   "outputs": [],
   "source": [
    "corpus = data['text']"
   ]
  },
  {
   "cell_type": "code",
   "execution_count": 9,
   "metadata": {},
   "outputs": [
    {
     "name": "stderr",
     "output_type": "stream",
     "text": [
      "100%|██████████| 159292/159292 [02:16<00:00, 1170.60it/s]"
     ]
    },
    {
     "name": "stdout",
     "output_type": "stream",
     "text": [
      "CPU times: user 2min 11s, sys: 1.88 s, total: 2min 13s\n",
      "Wall time: 2min 16s\n"
     ]
    },
    {
     "name": "stderr",
     "output_type": "stream",
     "text": [
      "\n"
     ]
    }
   ],
   "source": [
    "%%time\n",
    "\n",
    "from tqdm import tqdm\n",
    "tqdm.pandas()\n",
    "wnl = WordNetLemmatizer()\n",
    "\n",
    "def lemmatize_wordnet(text):\n",
    "    text = nltk.word_tokenize(text)\n",
    "    lem_text = ' '.join([wnl.lemmatize(i) for i in text]) \n",
    "    return lem_text\n",
    "\n",
    "\n",
    "data['lemm_wordnet'] = data['text'].progress_apply(lemmatize_wordnet)   "
   ]
  },
  {
   "cell_type": "markdown",
   "metadata": {},
   "source": [
    "Лемматизация из теории долго отрабатывала, взяла WordNetLemmatizer"
   ]
  },
  {
   "cell_type": "markdown",
   "metadata": {},
   "source": [
    "### Очистим от лишних символов"
   ]
  },
  {
   "cell_type": "code",
   "execution_count": 10,
   "metadata": {},
   "outputs": [],
   "source": [
    "def clear_text(text):\n",
    "    re_text = re.sub(r'[^a-zA-Z ]', ' ', text)\n",
    "    re_text = re_text.split()\n",
    "    clear_text = \" \".join(re_text)\n",
    "    \n",
    "    return clear_text"
   ]
  },
  {
   "cell_type": "code",
   "execution_count": 11,
   "metadata": {},
   "outputs": [
    {
     "name": "stderr",
     "output_type": "stream",
     "text": [
      "<timed exec>:4: SettingWithCopyWarning: \n",
      "A value is trying to be set on a copy of a slice from a DataFrame\n",
      "\n",
      "See the caveats in the documentation: https://pandas.pydata.org/pandas-docs/stable/user_guide/indexing.html#returning-a-view-versus-a-copy\n"
     ]
    },
    {
     "name": "stdout",
     "output_type": "stream",
     "text": [
      "CPU times: user 9min 22s, sys: 5.76 s, total: 9min 28s\n",
      "Wall time: 9min 29s\n"
     ]
    }
   ],
   "source": [
    "%%time\n",
    "\n",
    "new_corpus = data['lemm_wordnet']\n",
    "\n",
    "for i in range(len(new_corpus)):\n",
    "    new_corpus[i] = clear_text(new_corpus[i])"
   ]
  },
  {
   "cell_type": "code",
   "execution_count": 12,
   "metadata": {},
   "outputs": [],
   "source": [
    "lemm_wordnet = data['lemm_wordnet'].str.lower()"
   ]
  },
  {
   "cell_type": "code",
   "execution_count": 13,
   "metadata": {},
   "outputs": [],
   "source": [
    "data['lemm_wordnet'] = pd.Series(lemm_wordnet)"
   ]
  },
  {
   "cell_type": "code",
   "execution_count": 14,
   "metadata": {},
   "outputs": [
    {
     "data": {
      "text/html": [
       "<div>\n",
       "<style scoped>\n",
       "    .dataframe tbody tr th:only-of-type {\n",
       "        vertical-align: middle;\n",
       "    }\n",
       "\n",
       "    .dataframe tbody tr th {\n",
       "        vertical-align: top;\n",
       "    }\n",
       "\n",
       "    .dataframe thead th {\n",
       "        text-align: right;\n",
       "    }\n",
       "</style>\n",
       "<table border=\"1\" class=\"dataframe\">\n",
       "  <thead>\n",
       "    <tr style=\"text-align: right;\">\n",
       "      <th></th>\n",
       "      <th>text</th>\n",
       "      <th>toxic</th>\n",
       "      <th>lemm_wordnet</th>\n",
       "    </tr>\n",
       "  </thead>\n",
       "  <tbody>\n",
       "    <tr>\n",
       "      <th>0</th>\n",
       "      <td>Explanation\\nWhy the edits made under my usern...</td>\n",
       "      <td>0</td>\n",
       "      <td>explanation why the edits made under my userna...</td>\n",
       "    </tr>\n",
       "    <tr>\n",
       "      <th>1</th>\n",
       "      <td>D'aww! He matches this background colour I'm s...</td>\n",
       "      <td>0</td>\n",
       "      <td>d aww he match this background colour i m seem...</td>\n",
       "    </tr>\n",
       "    <tr>\n",
       "      <th>2</th>\n",
       "      <td>Hey man, I'm really not trying to edit war. It...</td>\n",
       "      <td>0</td>\n",
       "      <td>hey man i m really not trying to edit war it s...</td>\n",
       "    </tr>\n",
       "    <tr>\n",
       "      <th>3</th>\n",
       "      <td>\"\\nMore\\nI can't make any real suggestions on ...</td>\n",
       "      <td>0</td>\n",
       "      <td>more i ca n t make any real suggestion on impr...</td>\n",
       "    </tr>\n",
       "    <tr>\n",
       "      <th>4</th>\n",
       "      <td>You, sir, are my hero. Any chance you remember...</td>\n",
       "      <td>0</td>\n",
       "      <td>you sir are my hero any chance you remember wh...</td>\n",
       "    </tr>\n",
       "    <tr>\n",
       "      <th>5</th>\n",
       "      <td>\"\\n\\nCongratulations from me as well, use the ...</td>\n",
       "      <td>0</td>\n",
       "      <td>congratulations from me a well use the tool we...</td>\n",
       "    </tr>\n",
       "    <tr>\n",
       "      <th>6</th>\n",
       "      <td>COCKSUCKER BEFORE YOU PISS AROUND ON MY WORK</td>\n",
       "      <td>1</td>\n",
       "      <td>cocksucker before you piss around on my work</td>\n",
       "    </tr>\n",
       "    <tr>\n",
       "      <th>7</th>\n",
       "      <td>Your vandalism to the Matt Shirvington article...</td>\n",
       "      <td>0</td>\n",
       "      <td>your vandalism to the matt shirvington article...</td>\n",
       "    </tr>\n",
       "    <tr>\n",
       "      <th>8</th>\n",
       "      <td>Sorry if the word 'nonsense' was offensive to ...</td>\n",
       "      <td>0</td>\n",
       "      <td>sorry if the word nonsense wa offensive to you...</td>\n",
       "    </tr>\n",
       "    <tr>\n",
       "      <th>9</th>\n",
       "      <td>alignment on this subject and which are contra...</td>\n",
       "      <td>0</td>\n",
       "      <td>alignment on this subject and which are contra...</td>\n",
       "    </tr>\n",
       "  </tbody>\n",
       "</table>\n",
       "</div>"
      ],
      "text/plain": [
       "                                                text  toxic  \\\n",
       "0  Explanation\\nWhy the edits made under my usern...      0   \n",
       "1  D'aww! He matches this background colour I'm s...      0   \n",
       "2  Hey man, I'm really not trying to edit war. It...      0   \n",
       "3  \"\\nMore\\nI can't make any real suggestions on ...      0   \n",
       "4  You, sir, are my hero. Any chance you remember...      0   \n",
       "5  \"\\n\\nCongratulations from me as well, use the ...      0   \n",
       "6       COCKSUCKER BEFORE YOU PISS AROUND ON MY WORK      1   \n",
       "7  Your vandalism to the Matt Shirvington article...      0   \n",
       "8  Sorry if the word 'nonsense' was offensive to ...      0   \n",
       "9  alignment on this subject and which are contra...      0   \n",
       "\n",
       "                                        lemm_wordnet  \n",
       "0  explanation why the edits made under my userna...  \n",
       "1  d aww he match this background colour i m seem...  \n",
       "2  hey man i m really not trying to edit war it s...  \n",
       "3  more i ca n t make any real suggestion on impr...  \n",
       "4  you sir are my hero any chance you remember wh...  \n",
       "5  congratulations from me a well use the tool we...  \n",
       "6       cocksucker before you piss around on my work  \n",
       "7  your vandalism to the matt shirvington article...  \n",
       "8  sorry if the word nonsense wa offensive to you...  \n",
       "9  alignment on this subject and which are contra...  "
      ]
     },
     "execution_count": 14,
     "metadata": {},
     "output_type": "execute_result"
    }
   ],
   "source": [
    "data.head(10)"
   ]
  },
  {
   "cell_type": "markdown",
   "metadata": {},
   "source": [
    "### Вывод\n",
    "\n",
    "Текст лемматизирован и очищен. Добавила его как новый столбец в исходный датафрейм"
   ]
  },
  {
   "cell_type": "markdown",
   "metadata": {},
   "source": [
    "## Обучение"
   ]
  },
  {
   "cell_type": "markdown",
   "metadata": {},
   "source": [
    "### Делим на выборки"
   ]
  },
  {
   "cell_type": "code",
   "execution_count": 15,
   "metadata": {},
   "outputs": [],
   "source": [
    "features = data['lemm_wordnet']\n",
    "target = data['toxic']\n",
    "\n",
    "features_train, features_valid, target_train, target_valid = train_test_split(\n",
    "    features, \n",
    "    target, \n",
    "    train_size=0.6, \n",
    "    random_state=12345, \n",
    ")\n",
    "\n",
    "features_valid, features_test, target_valid, target_test = train_test_split(\n",
    "    features_valid, \n",
    "    target_valid, \n",
    "    train_size=0.5, \n",
    "    random_state=12345, \n",
    ")"
   ]
  },
  {
   "cell_type": "code",
   "execution_count": 16,
   "metadata": {},
   "outputs": [
    {
     "data": {
      "text/plain": [
       "(95575,)"
      ]
     },
     "execution_count": 16,
     "metadata": {},
     "output_type": "execute_result"
    }
   ],
   "source": [
    "features_train.shape"
   ]
  },
  {
   "cell_type": "code",
   "execution_count": 17,
   "metadata": {},
   "outputs": [
    {
     "data": {
      "text/plain": [
       "(31858,)"
      ]
     },
     "execution_count": 17,
     "metadata": {},
     "output_type": "execute_result"
    }
   ],
   "source": [
    "features_valid.shape"
   ]
  },
  {
   "cell_type": "code",
   "execution_count": 18,
   "metadata": {},
   "outputs": [
    {
     "data": {
      "text/plain": [
       "(31859,)"
      ]
     },
     "execution_count": 18,
     "metadata": {},
     "output_type": "execute_result"
    }
   ],
   "source": [
    "features_test.shape"
   ]
  },
  {
   "cell_type": "markdown",
   "metadata": {},
   "source": [
    "### Преобразуем текст в вектор"
   ]
  },
  {
   "cell_type": "code",
   "execution_count": 19,
   "metadata": {},
   "outputs": [
    {
     "name": "stderr",
     "output_type": "stream",
     "text": [
      "[nltk_data] Downloading package stopwords to /home/jovyan/nltk_data...\n",
      "[nltk_data]   Package stopwords is already up-to-date!\n"
     ]
    }
   ],
   "source": [
    "nltk.download('stopwords')\n",
    "stopwords = set(nltk_stopwords.words('english'))"
   ]
  },
  {
   "cell_type": "code",
   "execution_count": 20,
   "metadata": {},
   "outputs": [
    {
     "name": "stdout",
     "output_type": "stream",
     "text": [
      "Размер матрицы: (95575, 121576) (31858, 121576) (31859, 121576)\n"
     ]
    }
   ],
   "source": [
    "count_tf_idf = TfidfVectorizer(stop_words=stopwords)\n",
    "\n",
    "tf_idf_train = count_tf_idf.fit_transform(features_train)\n",
    "\n",
    "tf_idf_valid = count_tf_idf.transform(features_valid)\n",
    "\n",
    "tf_idf_test = count_tf_idf.transform(features_test)\n",
    "\n",
    "print(\"Размер матрицы:\", tf_idf_train.shape, tf_idf_valid.shape, tf_idf_test.shape)"
   ]
  },
  {
   "cell_type": "markdown",
   "metadata": {},
   "source": [
    "### Исследуем баланс классов"
   ]
  },
  {
   "cell_type": "code",
   "execution_count": 21,
   "metadata": {},
   "outputs": [],
   "source": [
    "class_frequency = data['toxic'].value_counts(normalize=True)"
   ]
  },
  {
   "cell_type": "code",
   "execution_count": 22,
   "metadata": {
    "scrolled": true
   },
   "outputs": [
    {
     "data": {
      "image/png": "[encoded data removed]",
      "text/plain": [
       "<Figure size 432x288 with 1 Axes>"
      ]
     },
     "metadata": {
      "needs_background": "light"
     },
     "output_type": "display_data"
    }
   ],
   "source": [
    "class_frequency.plot(kind='bar');"
   ]
  },
  {
   "cell_type": "markdown",
   "metadata": {},
   "source": [
    "Классы сильно различаются по размеру, поэтому везде буду использовать class_weight='balanced'"
   ]
  },
  {
   "cell_type": "markdown",
   "metadata": {},
   "source": [
    "### Логистичкская регрессия"
   ]
  },
  {
   "cell_type": "code",
   "execution_count": 23,
   "metadata": {},
   "outputs": [
    {
     "name": "stderr",
     "output_type": "stream",
     "text": [
      "/opt/conda/lib/python3.9/site-packages/sklearn/linear_model/_logistic.py:763: ConvergenceWarning: lbfgs failed to converge (status=1):\n",
      "STOP: TOTAL NO. of ITERATIONS REACHED LIMIT.\n",
      "\n",
      "Increase the number of iterations (max_iter) or scale the data as shown in:\n",
      "    https://scikit-learn.org/stable/modules/preprocessing.html\n",
      "Please also refer to the documentation for alternative solver options:\n",
      "    https://scikit-learn.org/stable/modules/linear_model.html#logistic-regression\n",
      "  n_iter_i = _check_optimize_result(\n",
      "/opt/conda/lib/python3.9/site-packages/sklearn/linear_model/_logistic.py:763: ConvergenceWarning: lbfgs failed to converge (status=1):\n",
      "STOP: TOTAL NO. of ITERATIONS REACHED LIMIT.\n",
      "\n",
      "Increase the number of iterations (max_iter) or scale the data as shown in:\n",
      "    https://scikit-learn.org/stable/modules/preprocessing.html\n",
      "Please also refer to the documentation for alternative solver options:\n",
      "    https://scikit-learn.org/stable/modules/linear_model.html#logistic-regression\n",
      "  n_iter_i = _check_optimize_result(\n",
      "/opt/conda/lib/python3.9/site-packages/sklearn/linear_model/_logistic.py:763: ConvergenceWarning: lbfgs failed to converge (status=1):\n",
      "STOP: TOTAL NO. of ITERATIONS REACHED LIMIT.\n",
      "\n",
      "Increase the number of iterations (max_iter) or scale the data as shown in:\n",
      "    https://scikit-learn.org/stable/modules/preprocessing.html\n",
      "Please also refer to the documentation for alternative solver options:\n",
      "    https://scikit-learn.org/stable/modules/linear_model.html#logistic-regression\n",
      "  n_iter_i = _check_optimize_result(\n",
      "/opt/conda/lib/python3.9/site-packages/sklearn/linear_model/_logistic.py:763: ConvergenceWarning: lbfgs failed to converge (status=1):\n",
      "STOP: TOTAL NO. of ITERATIONS REACHED LIMIT.\n",
      "\n",
      "Increase the number of iterations (max_iter) or scale the data as shown in:\n",
      "    https://scikit-learn.org/stable/modules/preprocessing.html\n",
      "Please also refer to the documentation for alternative solver options:\n",
      "    https://scikit-learn.org/stable/modules/linear_model.html#logistic-regression\n",
      "  n_iter_i = _check_optimize_result(\n",
      "/opt/conda/lib/python3.9/site-packages/sklearn/linear_model/_logistic.py:763: ConvergenceWarning: lbfgs failed to converge (status=1):\n",
      "STOP: TOTAL NO. of ITERATIONS REACHED LIMIT.\n",
      "\n",
      "Increase the number of iterations (max_iter) or scale the data as shown in:\n",
      "    https://scikit-learn.org/stable/modules/preprocessing.html\n",
      "Please also refer to the documentation for alternative solver options:\n",
      "    https://scikit-learn.org/stable/modules/linear_model.html#logistic-regression\n",
      "  n_iter_i = _check_optimize_result(\n",
      "/opt/conda/lib/python3.9/site-packages/sklearn/linear_model/_logistic.py:763: ConvergenceWarning: lbfgs failed to converge (status=1):\n",
      "STOP: TOTAL NO. of ITERATIONS REACHED LIMIT.\n",
      "\n",
      "Increase the number of iterations (max_iter) or scale the data as shown in:\n",
      "    https://scikit-learn.org/stable/modules/preprocessing.html\n",
      "Please also refer to the documentation for alternative solver options:\n",
      "    https://scikit-learn.org/stable/modules/linear_model.html#logistic-regression\n",
      "  n_iter_i = _check_optimize_result(\n",
      "/opt/conda/lib/python3.9/site-packages/sklearn/linear_model/_logistic.py:763: ConvergenceWarning: lbfgs failed to converge (status=1):\n",
      "STOP: TOTAL NO. of ITERATIONS REACHED LIMIT.\n",
      "\n",
      "Increase the number of iterations (max_iter) or scale the data as shown in:\n",
      "    https://scikit-learn.org/stable/modules/preprocessing.html\n",
      "Please also refer to the documentation for alternative solver options:\n",
      "    https://scikit-learn.org/stable/modules/linear_model.html#logistic-regression\n",
      "  n_iter_i = _check_optimize_result(\n",
      "/opt/conda/lib/python3.9/site-packages/sklearn/linear_model/_logistic.py:763: ConvergenceWarning: lbfgs failed to converge (status=1):\n",
      "STOP: TOTAL NO. of ITERATIONS REACHED LIMIT.\n",
      "\n",
      "Increase the number of iterations (max_iter) or scale the data as shown in:\n",
      "    https://scikit-learn.org/stable/modules/preprocessing.html\n",
      "Please also refer to the documentation for alternative solver options:\n",
      "    https://scikit-learn.org/stable/modules/linear_model.html#logistic-regression\n",
      "  n_iter_i = _check_optimize_result(\n",
      "/opt/conda/lib/python3.9/site-packages/sklearn/linear_model/_logistic.py:763: ConvergenceWarning: lbfgs failed to converge (status=1):\n",
      "STOP: TOTAL NO. of ITERATIONS REACHED LIMIT.\n",
      "\n",
      "Increase the number of iterations (max_iter) or scale the data as shown in:\n",
      "    https://scikit-learn.org/stable/modules/preprocessing.html\n",
      "Please also refer to the documentation for alternative solver options:\n",
      "    https://scikit-learn.org/stable/modules/linear_model.html#logistic-regression\n",
      "  n_iter_i = _check_optimize_result(\n",
      "/opt/conda/lib/python3.9/site-packages/sklearn/linear_model/_logistic.py:763: ConvergenceWarning: lbfgs failed to converge (status=1):\n",
      "STOP: TOTAL NO. of ITERATIONS REACHED LIMIT.\n",
      "\n",
      "Increase the number of iterations (max_iter) or scale the data as shown in:\n",
      "    https://scikit-learn.org/stable/modules/preprocessing.html\n",
      "Please also refer to the documentation for alternative solver options:\n",
      "    https://scikit-learn.org/stable/modules/linear_model.html#logistic-regression\n",
      "  n_iter_i = _check_optimize_result(\n",
      "/opt/conda/lib/python3.9/site-packages/sklearn/linear_model/_logistic.py:763: ConvergenceWarning: lbfgs failed to converge (status=1):\n",
      "STOP: TOTAL NO. of ITERATIONS REACHED LIMIT.\n",
      "\n",
      "Increase the number of iterations (max_iter) or scale the data as shown in:\n",
      "    https://scikit-learn.org/stable/modules/preprocessing.html\n",
      "Please also refer to the documentation for alternative solver options:\n",
      "    https://scikit-learn.org/stable/modules/linear_model.html#logistic-regression\n",
      "  n_iter_i = _check_optimize_result(\n",
      "/opt/conda/lib/python3.9/site-packages/sklearn/linear_model/_logistic.py:763: ConvergenceWarning: lbfgs failed to converge (status=1):\n",
      "STOP: TOTAL NO. of ITERATIONS REACHED LIMIT.\n",
      "\n",
      "Increase the number of iterations (max_iter) or scale the data as shown in:\n",
      "    https://scikit-learn.org/stable/modules/preprocessing.html\n",
      "Please also refer to the documentation for alternative solver options:\n",
      "    https://scikit-learn.org/stable/modules/linear_model.html#logistic-regression\n",
      "  n_iter_i = _check_optimize_result(\n",
      "/opt/conda/lib/python3.9/site-packages/sklearn/linear_model/_logistic.py:763: ConvergenceWarning: lbfgs failed to converge (status=1):\n",
      "STOP: TOTAL NO. of ITERATIONS REACHED LIMIT.\n",
      "\n",
      "Increase the number of iterations (max_iter) or scale the data as shown in:\n",
      "    https://scikit-learn.org/stable/modules/preprocessing.html\n",
      "Please also refer to the documentation for alternative solver options:\n",
      "    https://scikit-learn.org/stable/modules/linear_model.html#logistic-regression\n",
      "  n_iter_i = _check_optimize_result(\n",
      "/opt/conda/lib/python3.9/site-packages/sklearn/linear_model/_logistic.py:763: ConvergenceWarning: lbfgs failed to converge (status=1):\n",
      "STOP: TOTAL NO. of ITERATIONS REACHED LIMIT.\n",
      "\n",
      "Increase the number of iterations (max_iter) or scale the data as shown in:\n",
      "    https://scikit-learn.org/stable/modules/preprocessing.html\n",
      "Please also refer to the documentation for alternative solver options:\n",
      "    https://scikit-learn.org/stable/modules/linear_model.html#logistic-regression\n",
      "  n_iter_i = _check_optimize_result(\n",
      "/opt/conda/lib/python3.9/site-packages/sklearn/linear_model/_logistic.py:763: ConvergenceWarning: lbfgs failed to converge (status=1):\n",
      "STOP: TOTAL NO. of ITERATIONS REACHED LIMIT.\n",
      "\n",
      "Increase the number of iterations (max_iter) or scale the data as shown in:\n",
      "    https://scikit-learn.org/stable/modules/preprocessing.html\n",
      "Please also refer to the documentation for alternative solver options:\n",
      "    https://scikit-learn.org/stable/modules/linear_model.html#logistic-regression\n",
      "  n_iter_i = _check_optimize_result(\n",
      "/opt/conda/lib/python3.9/site-packages/sklearn/linear_model/_logistic.py:763: ConvergenceWarning: lbfgs failed to converge (status=1):\n",
      "STOP: TOTAL NO. of ITERATIONS REACHED LIMIT.\n",
      "\n",
      "Increase the number of iterations (max_iter) or scale the data as shown in:\n",
      "    https://scikit-learn.org/stable/modules/preprocessing.html\n",
      "Please also refer to the documentation for alternative solver options:\n",
      "    https://scikit-learn.org/stable/modules/linear_model.html#logistic-regression\n",
      "  n_iter_i = _check_optimize_result(\n",
      "/opt/conda/lib/python3.9/site-packages/sklearn/linear_model/_logistic.py:763: ConvergenceWarning: lbfgs failed to converge (status=1):\n",
      "STOP: TOTAL NO. of ITERATIONS REACHED LIMIT.\n",
      "\n",
      "Increase the number of iterations (max_iter) or scale the data as shown in:\n",
      "    https://scikit-learn.org/stable/modules/preprocessing.html\n",
      "Please also refer to the documentation for alternative solver options:\n",
      "    https://scikit-learn.org/stable/modules/linear_model.html#logistic-regression\n",
      "  n_iter_i = _check_optimize_result(\n",
      "/opt/conda/lib/python3.9/site-packages/sklearn/linear_model/_logistic.py:763: ConvergenceWarning: lbfgs failed to converge (status=1):\n",
      "STOP: TOTAL NO. of ITERATIONS REACHED LIMIT.\n",
      "\n",
      "Increase the number of iterations (max_iter) or scale the data as shown in:\n",
      "    https://scikit-learn.org/stable/modules/preprocessing.html\n",
      "Please also refer to the documentation for alternative solver options:\n",
      "    https://scikit-learn.org/stable/modules/linear_model.html#logistic-regression\n",
      "  n_iter_i = _check_optimize_result(\n",
      "/opt/conda/lib/python3.9/site-packages/sklearn/linear_model/_logistic.py:763: ConvergenceWarning: lbfgs failed to converge (status=1):\n",
      "STOP: TOTAL NO. of ITERATIONS REACHED LIMIT.\n",
      "\n",
      "Increase the number of iterations (max_iter) or scale the data as shown in:\n",
      "    https://scikit-learn.org/stable/modules/preprocessing.html\n",
      "Please also refer to the documentation for alternative solver options:\n",
      "    https://scikit-learn.org/stable/modules/linear_model.html#logistic-regression\n",
      "  n_iter_i = _check_optimize_result(\n",
      "/opt/conda/lib/python3.9/site-packages/sklearn/linear_model/_logistic.py:763: ConvergenceWarning: lbfgs failed to converge (status=1):\n",
      "STOP: TOTAL NO. of ITERATIONS REACHED LIMIT.\n",
      "\n",
      "Increase the number of iterations (max_iter) or scale the data as shown in:\n",
      "    https://scikit-learn.org/stable/modules/preprocessing.html\n",
      "Please also refer to the documentation for alternative solver options:\n",
      "    https://scikit-learn.org/stable/modules/linear_model.html#logistic-regression\n",
      "  n_iter_i = _check_optimize_result(\n",
      "/opt/conda/lib/python3.9/site-packages/sklearn/linear_model/_logistic.py:763: ConvergenceWarning: lbfgs failed to converge (status=1):\n",
      "STOP: TOTAL NO. of ITERATIONS REACHED LIMIT.\n",
      "\n",
      "Increase the number of iterations (max_iter) or scale the data as shown in:\n",
      "    https://scikit-learn.org/stable/modules/preprocessing.html\n",
      "Please also refer to the documentation for alternative solver options:\n",
      "    https://scikit-learn.org/stable/modules/linear_model.html#logistic-regression\n",
      "  n_iter_i = _check_optimize_result(\n",
      "/opt/conda/lib/python3.9/site-packages/sklearn/linear_model/_logistic.py:763: ConvergenceWarning: lbfgs failed to converge (status=1):\n",
      "STOP: TOTAL NO. of ITERATIONS REACHED LIMIT.\n",
      "\n",
      "Increase the number of iterations (max_iter) or scale the data as shown in:\n",
      "    https://scikit-learn.org/stable/modules/preprocessing.html\n",
      "Please also refer to the documentation for alternative solver options:\n",
      "    https://scikit-learn.org/stable/modules/linear_model.html#logistic-regression\n",
      "  n_iter_i = _check_optimize_result(\n",
      "/opt/conda/lib/python3.9/site-packages/sklearn/linear_model/_logistic.py:763: ConvergenceWarning: lbfgs failed to converge (status=1):\n",
      "STOP: TOTAL NO. of ITERATIONS REACHED LIMIT.\n",
      "\n",
      "Increase the number of iterations (max_iter) or scale the data as shown in:\n",
      "    https://scikit-learn.org/stable/modules/preprocessing.html\n",
      "Please also refer to the documentation for alternative solver options:\n",
      "    https://scikit-learn.org/stable/modules/linear_model.html#logistic-regression\n",
      "  n_iter_i = _check_optimize_result(\n"
     ]
    },
    {
     "data": {
      "text/plain": [
       "GridSearchCV(cv=3, estimator=LogisticRegression(), n_jobs=-1,\n",
       "             param_grid={'C': range(1, 11, 2),\n",
       "                         'class_weight': [None, 'balanced']},\n",
       "             scoring='f1')"
      ]
     },
     "execution_count": 23,
     "metadata": {},
     "output_type": "execute_result"
    }
   ],
   "source": [
    "from sklearn.model_selection import GridSearchCV\n",
    "param = { 'C': range(1, 11, 2), 'class_weight': [None, 'balanced'] }\n",
    "\n",
    "model_lr = LogisticRegression()\n",
    "\n",
    "# инициализируем GridSearchCV\n",
    "cv_lr = GridSearchCV(estimator = model_lr, \n",
    "                           param_grid = param, \n",
    "                           cv = 3,\n",
    "                           n_jobs = -1, \n",
    "                           verbose = 0, \n",
    "                           scoring = 'f1',\n",
    "                          )\n",
    "cv_lr.fit(tf_idf_train, target_train)"
   ]
  },
  {
   "cell_type": "code",
   "execution_count": 24,
   "metadata": {},
   "outputs": [
    {
     "data": {
      "text/plain": [
       "0.7598338211648707"
      ]
     },
     "execution_count": 24,
     "metadata": {},
     "output_type": "execute_result"
    }
   ],
   "source": [
    "cv_lr.best_score_"
   ]
  },
  {
   "cell_type": "code",
   "execution_count": 25,
   "metadata": {},
   "outputs": [
    {
     "data": {
      "text/plain": [
       "{'C': 9, 'class_weight': 'balanced'}"
      ]
     },
     "execution_count": 25,
     "metadata": {},
     "output_type": "execute_result"
    }
   ],
   "source": [
    "cv_lr.best_params_"
   ]
  },
  {
   "cell_type": "code",
   "execution_count": 26,
   "metadata": {},
   "outputs": [],
   "source": [
    "target_pred = cv_lr.predict(tf_idf_valid)"
   ]
  },
  {
   "cell_type": "code",
   "execution_count": 27,
   "metadata": {},
   "outputs": [
    {
     "data": {
      "text/plain": [
       "0.7603915448999858"
      ]
     },
     "execution_count": 27,
     "metadata": {},
     "output_type": "execute_result"
    }
   ],
   "source": [
    "f1_score(target_valid, target_pred)"
   ]
  },
  {
   "cell_type": "markdown",
   "metadata": {},
   "source": [
    "Получилось, спасибо)"
   ]
  },
  {
   "cell_type": "markdown",
   "metadata": {},
   "source": [
    "### Дерево решений"
   ]
  },
  {
   "cell_type": "code",
   "execution_count": 24,
   "metadata": {},
   "outputs": [
    {
     "name": "stdout",
     "output_type": "stream",
     "text": [
      "max_depth = 40 :  0.6004408523144746\n",
      "max_depth = 50 :  0.6190405021670901\n",
      "max_depth = 60 :  0.6321615557217652\n",
      "max_depth = 70 :  0.627156125608138\n"
     ]
    }
   ],
   "source": [
    "f1, max_depth  = [], []\n",
    "\n",
    "for depth in range(40, 80, 10):\n",
    "    model_tree = DecisionTreeClassifier(\n",
    "        random_state=12345, \n",
    "        criterion='gini', \n",
    "        max_depth=depth,\n",
    "        class_weight='balanced'\n",
    "    )\n",
    "    model_tree.fit(tf_idf_train, target_train)\n",
    "    predictions_valid_tree = model_tree.predict(tf_idf_valid)\n",
    "    \n",
    "    max_depth.append(depth)\n",
    "    f1.append(f1_score(target_valid, predictions_valid_tree))\n",
    "    \n",
    "    print(\"max_depth =\", depth, \": \", f1[-1])"
   ]
  },
  {
   "cell_type": "markdown",
   "metadata": {},
   "source": [
    "### Случайный лес"
   ]
  },
  {
   "cell_type": "code",
   "execution_count": 29,
   "metadata": {},
   "outputs": [
    {
     "name": "stdout",
     "output_type": "stream",
     "text": [
      "F1: 0.6101694915254237\n",
      "Кол-во деревьев: 15\n"
     ]
    }
   ],
   "source": [
    "best_model = None\n",
    "best_result = 0\n",
    "best_depth = 0\n",
    "best_est = 0\n",
    "\n",
    "for est in range(1, 16):\n",
    "    model_rf = RandomForestClassifier(\n",
    "        random_state=12345, \n",
    "        n_estimators=est, \n",
    "        max_depth=None,\n",
    "        class_weight='balanced'\n",
    "        ) \n",
    "    model_rf.fit(tf_idf_train, target_train)\n",
    "    predictions_valid = model_rf.predict(tf_idf_valid)\n",
    "\n",
    "    result_rf = f1_score(target_valid, predictions_valid)\n",
    "    if result_rf > best_result:\n",
    "        best_model = model_rf \n",
    "        best_result = result_rf \n",
    "        best_est = est\n",
    "\n",
    "print(\"F1:\", best_result)\n",
    "print(\"Кол-во деревьев:\", best_est)"
   ]
  },
  {
   "cell_type": "markdown",
   "metadata": {},
   "source": [
    "## Тестирование"
   ]
  },
  {
   "cell_type": "markdown",
   "metadata": {},
   "source": [
    "### Логистическая регрессия"
   ]
  },
  {
   "cell_type": "code",
   "execution_count": 28,
   "metadata": {},
   "outputs": [],
   "source": [
    "target_pred_test = cv_lr.predict(tf_idf_test)"
   ]
  },
  {
   "cell_type": "code",
   "execution_count": 29,
   "metadata": {},
   "outputs": [
    {
     "data": {
      "text/plain": [
       "0.7507629704984741"
      ]
     },
     "execution_count": 29,
     "metadata": {},
     "output_type": "execute_result"
    }
   ],
   "source": [
    "f1_score(target_test, target_pred_test)"
   ]
  },
  {
   "cell_type": "markdown",
   "metadata": {},
   "source": [
    "## Выводы"
   ]
  },
  {
   "cell_type": "markdown",
   "metadata": {},
   "source": [
    "- Произведена подготовка данных: текст лемматизирован, очищен и преобразован в вектор\n",
    "- Данные разделены на выборки\n",
    "- Модели обучены, выбрана и протестирована лучшая модель - логистическая регрессия"
   ]
  },
  {
   "cell_type": "markdown",
   "metadata": {},
   "source": [
    "## Чек-лист проверки"
   ]
  },
  {
   "cell_type": "markdown",
   "metadata": {},
   "source": [
    "- [x]  Jupyter Notebook открыт\n",
    "- [x]  Весь код выполняется без ошибок\n",
    "- [x]  Ячейки с кодом расположены в порядке исполнения\n",
    "- [x]  Данные загружены и подготовлены\n",
    "- [x]  Модели обучены\n",
    "- [ ]  Значение метрики *F1* не меньше 0.75\n",
    "- [x]  Выводы написаны"
   ]
  }
 ],
 "metadata": {
  "ExecuteTimeLog": [
   {
    "duration": 349,
    "start_time": "2023-03-18T20:11:09.308Z"
   },
   {
    "duration": 1141,
    "start_time": "2023-03-18T20:11:09.659Z"
   },
   {
    "duration": 13,
    "start_time": "2023-03-18T20:11:22.736Z"
   },
   {
    "duration": 31,
    "start_time": "2023-03-18T20:11:29.385Z"
   },
   {
    "duration": 9,
    "start_time": "2023-03-18T20:11:47.734Z"
   },
   {
    "duration": 60,
    "start_time": "2023-03-18T20:14:57.531Z"
   },
   {
    "duration": 12,
    "start_time": "2023-03-18T20:15:52.211Z"
   },
   {
    "duration": 9,
    "start_time": "2023-03-18T20:17:02.949Z"
   },
   {
    "duration": 8,
    "start_time": "2023-03-18T20:18:30.173Z"
   },
   {
    "duration": 19,
    "start_time": "2023-03-18T20:18:47.712Z"
   },
   {
    "duration": 7,
    "start_time": "2023-03-18T20:19:25.810Z"
   },
   {
    "duration": 3,
    "start_time": "2023-03-18T20:19:30.100Z"
   },
   {
    "duration": 780,
    "start_time": "2023-03-18T20:19:30.599Z"
   },
   {
    "duration": 32,
    "start_time": "2023-03-18T20:19:31.428Z"
   },
   {
    "duration": 6,
    "start_time": "2023-03-18T20:19:33.567Z"
   },
   {
    "duration": 18,
    "start_time": "2023-03-18T20:20:05.877Z"
   },
   {
    "duration": 6,
    "start_time": "2023-03-18T20:20:09.280Z"
   },
   {
    "duration": 7,
    "start_time": "2023-03-18T20:20:31.134Z"
   },
   {
    "duration": 5,
    "start_time": "2023-03-18T20:21:04.091Z"
   },
   {
    "duration": 10,
    "start_time": "2023-03-18T20:22:36.923Z"
   },
   {
    "duration": 8,
    "start_time": "2023-03-18T20:22:42.634Z"
   },
   {
    "duration": 6,
    "start_time": "2023-03-18T20:22:57.262Z"
   },
   {
    "duration": 15,
    "start_time": "2023-03-18T20:28:28.943Z"
   },
   {
    "duration": 659,
    "start_time": "2023-03-18T20:29:07.175Z"
   },
   {
    "duration": 34,
    "start_time": "2023-03-18T20:29:10.914Z"
   },
   {
    "duration": 59,
    "start_time": "2023-03-18T20:30:08.337Z"
   },
   {
    "duration": 4,
    "start_time": "2023-03-18T20:30:24.574Z"
   },
   {
    "duration": 3,
    "start_time": "2023-03-18T20:30:43.223Z"
   },
   {
    "duration": 3,
    "start_time": "2023-03-18T20:31:22.044Z"
   },
   {
    "duration": 80,
    "start_time": "2023-03-18T20:33:29.506Z"
   },
   {
    "duration": 5,
    "start_time": "2023-03-18T20:33:31.434Z"
   },
   {
    "duration": 3,
    "start_time": "2023-03-18T20:33:31.904Z"
   },
   {
    "duration": 4,
    "start_time": "2023-03-18T20:33:32.461Z"
   },
   {
    "duration": 987,
    "start_time": "2023-03-19T18:08:21.936Z"
   },
   {
    "duration": 1256,
    "start_time": "2023-03-20T10:44:41.367Z"
   },
   {
    "duration": 1335,
    "start_time": "2023-03-20T10:44:42.625Z"
   },
   {
    "duration": 33,
    "start_time": "2023-03-20T10:44:43.962Z"
   },
   {
    "duration": 20,
    "start_time": "2023-03-20T10:44:43.998Z"
   },
   {
    "duration": 20,
    "start_time": "2023-03-20T10:44:44.020Z"
   },
   {
    "duration": 83,
    "start_time": "2023-03-20T10:44:44.042Z"
   },
   {
    "duration": 4,
    "start_time": "2023-03-20T10:44:44.127Z"
   },
   {
    "duration": 10,
    "start_time": "2023-03-20T10:44:44.133Z"
   },
   {
    "duration": 7,
    "start_time": "2023-03-20T10:44:44.145Z"
   },
   {
    "duration": 93,
    "start_time": "2023-03-20T10:44:44.154Z"
   },
   {
    "duration": 3,
    "start_time": "2023-03-20T10:44:58.627Z"
   },
   {
    "duration": 130,
    "start_time": "2023-03-20T10:45:20.088Z"
   },
   {
    "duration": 6149,
    "start_time": "2023-03-20T10:47:03.378Z"
   },
   {
    "duration": 11003,
    "start_time": "2023-03-20T10:47:32.558Z"
   },
   {
    "duration": 240591,
    "start_time": "2023-03-20T10:48:06.657Z"
   },
   {
    "duration": 52,
    "start_time": "2023-03-20T10:53:16.364Z"
   },
   {
    "duration": 9,
    "start_time": "2023-03-20T10:53:22.284Z"
   },
   {
    "duration": 7414,
    "start_time": "2023-03-20T10:53:28.366Z"
   },
   {
    "duration": 1341,
    "start_time": "2023-03-20T10:53:35.782Z"
   },
   {
    "duration": 33,
    "start_time": "2023-03-20T10:53:37.124Z"
   },
   {
    "duration": 15,
    "start_time": "2023-03-20T10:53:37.160Z"
   },
   {
    "duration": 12,
    "start_time": "2023-03-20T10:53:37.178Z"
   },
   {
    "duration": 13503,
    "start_time": "2023-03-20T10:53:37.192Z"
   },
   {
    "duration": 2333,
    "start_time": "2023-03-20T10:57:14.124Z"
   },
   {
    "duration": 1466,
    "start_time": "2023-03-20T10:57:16.459Z"
   },
   {
    "duration": 37,
    "start_time": "2023-03-20T10:57:17.927Z"
   },
   {
    "duration": 20,
    "start_time": "2023-03-20T10:57:17.967Z"
   },
   {
    "duration": 16,
    "start_time": "2023-03-20T10:57:17.989Z"
   },
   {
    "duration": 176,
    "start_time": "2023-03-20T10:57:18.007Z"
   },
   {
    "duration": 142,
    "start_time": "2023-03-20T10:57:18.185Z"
   },
   {
    "duration": 0,
    "start_time": "2023-03-20T10:57:18.329Z"
   },
   {
    "duration": 0,
    "start_time": "2023-03-20T10:57:18.332Z"
   },
   {
    "duration": 0,
    "start_time": "2023-03-20T10:57:18.333Z"
   },
   {
    "duration": 0,
    "start_time": "2023-03-20T10:57:18.335Z"
   },
   {
    "duration": 3,
    "start_time": "2023-03-20T10:59:48.788Z"
   },
   {
    "duration": 1710,
    "start_time": "2023-03-20T10:59:48.946Z"
   },
   {
    "duration": 32,
    "start_time": "2023-03-20T10:59:50.659Z"
   },
   {
    "duration": 8,
    "start_time": "2023-03-20T10:59:50.693Z"
   },
   {
    "duration": 12,
    "start_time": "2023-03-20T10:59:53.223Z"
   },
   {
    "duration": 29,
    "start_time": "2023-03-20T10:59:54.219Z"
   },
   {
    "duration": 42,
    "start_time": "2023-03-20T11:00:45.061Z"
   },
   {
    "duration": 1828,
    "start_time": "2023-03-20T11:00:47.182Z"
   },
   {
    "duration": 34,
    "start_time": "2023-03-20T11:00:49.013Z"
   },
   {
    "duration": 8,
    "start_time": "2023-03-20T11:00:49.048Z"
   },
   {
    "duration": 19,
    "start_time": "2023-03-20T11:00:49.060Z"
   },
   {
    "duration": 72,
    "start_time": "2023-03-20T11:00:49.081Z"
   },
   {
    "duration": 5,
    "start_time": "2023-03-20T11:00:53.600Z"
   },
   {
    "duration": 4,
    "start_time": "2023-03-20T11:00:53.902Z"
   },
   {
    "duration": 4,
    "start_time": "2023-03-20T11:00:54.542Z"
   },
   {
    "duration": 6,
    "start_time": "2023-03-20T11:00:57.981Z"
   },
   {
    "duration": 3048,
    "start_time": "2023-03-20T11:01:59.312Z"
   },
   {
    "duration": 416,
    "start_time": "2023-03-20T11:02:43.899Z"
   },
   {
    "duration": 396,
    "start_time": "2023-03-20T11:02:44.427Z"
   },
   {
    "duration": 10,
    "start_time": "2023-03-20T11:02:51.708Z"
   },
   {
    "duration": 11842,
    "start_time": "2023-03-20T11:03:38.948Z"
   },
   {
    "duration": 12658,
    "start_time": "2023-03-20T11:04:29.435Z"
   },
   {
    "duration": 53589,
    "start_time": "2023-03-20T11:05:33.258Z"
   },
   {
    "duration": 30,
    "start_time": "2023-03-20T11:07:01.486Z"
   },
   {
    "duration": 19,
    "start_time": "2023-03-20T11:08:00.110Z"
   },
   {
    "duration": 4,
    "start_time": "2023-03-20T11:09:56.238Z"
   },
   {
    "duration": 30,
    "start_time": "2023-03-20T11:10:39.217Z"
   },
   {
    "duration": 16,
    "start_time": "2023-03-20T11:21:19.028Z"
   },
   {
    "duration": 24,
    "start_time": "2023-03-20T11:21:34.497Z"
   },
   {
    "duration": 3687,
    "start_time": "2023-03-20T11:26:01.805Z"
   },
   {
    "duration": 1551,
    "start_time": "2023-03-20T11:26:05.495Z"
   },
   {
    "duration": 33,
    "start_time": "2023-03-20T11:26:07.047Z"
   },
   {
    "duration": 14,
    "start_time": "2023-03-20T11:26:07.082Z"
   },
   {
    "duration": 15,
    "start_time": "2023-03-20T11:26:07.098Z"
   },
   {
    "duration": 59,
    "start_time": "2023-03-20T11:26:07.115Z"
   },
   {
    "duration": 4,
    "start_time": "2023-03-20T11:26:07.175Z"
   },
   {
    "duration": 6,
    "start_time": "2023-03-20T11:26:07.181Z"
   },
   {
    "duration": 7,
    "start_time": "2023-03-20T11:26:07.188Z"
   },
   {
    "duration": 1652,
    "start_time": "2023-03-20T11:26:07.198Z"
   },
   {
    "duration": 1096,
    "start_time": "2023-03-20T11:26:08.852Z"
   },
   {
    "duration": 661,
    "start_time": "2023-03-20T11:26:09.949Z"
   },
   {
    "duration": 785,
    "start_time": "2023-03-20T11:26:10.612Z"
   },
   {
    "duration": 11808,
    "start_time": "2023-03-20T11:26:11.399Z"
   },
   {
    "duration": 56836,
    "start_time": "2023-03-20T11:26:23.209Z"
   },
   {
    "duration": 32,
    "start_time": "2023-03-20T11:27:20.048Z"
   },
   {
    "duration": 78,
    "start_time": "2023-03-20T11:27:20.083Z"
   },
   {
    "duration": 147,
    "start_time": "2023-03-20T11:30:10.056Z"
   },
   {
    "duration": 961,
    "start_time": "2023-03-20T11:30:14.653Z"
   },
   {
    "duration": 73387,
    "start_time": "2023-03-20T11:30:49.960Z"
   },
   {
    "duration": 1688,
    "start_time": "2023-03-20T12:10:45.845Z"
   },
   {
    "duration": 1422,
    "start_time": "2023-03-20T12:10:47.536Z"
   },
   {
    "duration": 36,
    "start_time": "2023-03-20T12:10:48.959Z"
   },
   {
    "duration": 20,
    "start_time": "2023-03-20T12:10:48.997Z"
   },
   {
    "duration": 16,
    "start_time": "2023-03-20T12:10:49.019Z"
   },
   {
    "duration": 43,
    "start_time": "2023-03-20T12:10:49.038Z"
   },
   {
    "duration": 4,
    "start_time": "2023-03-20T12:10:49.084Z"
   },
   {
    "duration": 12,
    "start_time": "2023-03-20T12:10:49.089Z"
   },
   {
    "duration": 29,
    "start_time": "2023-03-20T12:10:49.103Z"
   },
   {
    "duration": 3067,
    "start_time": "2023-03-20T12:10:49.134Z"
   },
   {
    "duration": 585,
    "start_time": "2023-03-20T12:10:52.203Z"
   },
   {
    "duration": 464,
    "start_time": "2023-03-20T12:10:52.790Z"
   },
   {
    "duration": 342,
    "start_time": "2023-03-20T12:10:53.256Z"
   },
   {
    "duration": 11452,
    "start_time": "2023-03-20T12:10:53.601Z"
   },
   {
    "duration": 50985,
    "start_time": "2023-03-20T12:11:05.055Z"
   },
   {
    "duration": 96,
    "start_time": "2023-03-20T12:11:56.043Z"
   },
   {
    "duration": 30,
    "start_time": "2023-03-20T12:11:56.141Z"
   },
   {
    "duration": 71147,
    "start_time": "2023-03-20T12:11:56.173Z"
   },
   {
    "duration": 199,
    "start_time": "2023-03-20T12:13:07.322Z"
   },
   {
    "duration": 31,
    "start_time": "2023-03-20T12:14:20.679Z"
   },
   {
    "duration": 1301,
    "start_time": "2023-03-20T12:14:24.759Z"
   },
   {
    "duration": 3405,
    "start_time": "2023-03-20T12:24:29.744Z"
   },
   {
    "duration": 1371,
    "start_time": "2023-03-20T12:24:33.151Z"
   },
   {
    "duration": 38,
    "start_time": "2023-03-20T12:24:34.524Z"
   },
   {
    "duration": 17,
    "start_time": "2023-03-20T12:24:34.564Z"
   },
   {
    "duration": 10,
    "start_time": "2023-03-20T12:24:34.583Z"
   },
   {
    "duration": 63,
    "start_time": "2023-03-20T12:24:34.594Z"
   },
   {
    "duration": 4,
    "start_time": "2023-03-20T12:24:34.659Z"
   },
   {
    "duration": 6,
    "start_time": "2023-03-20T12:24:34.664Z"
   },
   {
    "duration": 8,
    "start_time": "2023-03-20T12:24:34.672Z"
   },
   {
    "duration": 1547,
    "start_time": "2023-03-20T12:24:34.682Z"
   },
   {
    "duration": 1822,
    "start_time": "2023-03-20T12:24:36.231Z"
   },
   {
    "duration": 797,
    "start_time": "2023-03-20T12:24:38.055Z"
   },
   {
    "duration": 823,
    "start_time": "2023-03-20T12:24:38.855Z"
   },
   {
    "duration": 11796,
    "start_time": "2023-03-20T12:24:39.680Z"
   },
   {
    "duration": 49660,
    "start_time": "2023-03-20T12:24:51.478Z"
   },
   {
    "duration": 19,
    "start_time": "2023-03-20T12:25:41.230Z"
   },
   {
    "duration": 30,
    "start_time": "2023-03-20T12:25:41.251Z"
   },
   {
    "duration": 72167,
    "start_time": "2023-03-20T12:25:41.283Z"
   },
   {
    "duration": 116113,
    "start_time": "2023-03-20T12:26:53.452Z"
   },
   {
    "duration": 42,
    "start_time": "2023-03-21T09:25:38.449Z"
   },
   {
    "duration": 1153,
    "start_time": "2023-03-21T09:25:44.596Z"
   },
   {
    "duration": 3705,
    "start_time": "2023-03-21T09:25:45.751Z"
   },
   {
    "duration": 23,
    "start_time": "2023-03-21T09:25:49.457Z"
   },
   {
    "duration": 12,
    "start_time": "2023-03-21T09:25:49.482Z"
   },
   {
    "duration": 9,
    "start_time": "2023-03-21T09:25:49.495Z"
   },
   {
    "duration": 38,
    "start_time": "2023-03-21T09:25:49.505Z"
   },
   {
    "duration": 3,
    "start_time": "2023-03-21T09:26:06.774Z"
   },
   {
    "duration": 3,
    "start_time": "2023-03-21T09:26:07.612Z"
   },
   {
    "duration": 881,
    "start_time": "2023-03-21T09:27:15.960Z"
   },
   {
    "duration": 864,
    "start_time": "2023-03-21T09:27:16.843Z"
   },
   {
    "duration": 3,
    "start_time": "2023-03-21T09:27:20.144Z"
   },
   {
    "duration": 150,
    "start_time": "2023-03-21T09:27:28.915Z"
   },
   {
    "duration": 9309,
    "start_time": "2023-03-21T09:27:29.616Z"
   },
   {
    "duration": 9296,
    "start_time": "2023-03-21T09:27:45.246Z"
   },
   {
    "duration": 39243,
    "start_time": "2023-03-21T09:28:00.389Z"
   },
   {
    "duration": 101,
    "start_time": "2023-03-21T09:28:39.634Z"
   },
   {
    "duration": 48,
    "start_time": "2023-03-21T09:30:04.321Z"
   },
   {
    "duration": 5,
    "start_time": "2023-03-21T09:30:05.074Z"
   },
   {
    "duration": 4,
    "start_time": "2023-03-21T09:30:05.284Z"
   },
   {
    "duration": 3,
    "start_time": "2023-03-21T09:30:05.533Z"
   },
   {
    "duration": 1217,
    "start_time": "2023-03-21T09:30:16.155Z"
   },
   {
    "duration": 3735,
    "start_time": "2023-03-21T09:30:17.374Z"
   },
   {
    "duration": 29,
    "start_time": "2023-03-21T09:30:21.110Z"
   },
   {
    "duration": 13,
    "start_time": "2023-03-21T09:30:21.141Z"
   },
   {
    "duration": 9,
    "start_time": "2023-03-21T09:30:21.156Z"
   },
   {
    "duration": 38,
    "start_time": "2023-03-21T09:30:21.167Z"
   },
   {
    "duration": 18,
    "start_time": "2023-03-21T09:30:21.207Z"
   },
   {
    "duration": 8,
    "start_time": "2023-03-21T09:30:21.226Z"
   },
   {
    "duration": 6,
    "start_time": "2023-03-21T09:30:21.235Z"
   },
   {
    "duration": 1034,
    "start_time": "2023-03-21T09:30:21.242Z"
   },
   {
    "duration": 368,
    "start_time": "2023-03-21T09:30:22.278Z"
   },
   {
    "duration": 344,
    "start_time": "2023-03-21T09:30:22.647Z"
   },
   {
    "duration": 203,
    "start_time": "2023-03-21T09:30:22.992Z"
   },
   {
    "duration": 9168,
    "start_time": "2023-03-21T09:30:23.197Z"
   },
   {
    "duration": 40962,
    "start_time": "2023-03-21T09:30:32.367Z"
   },
   {
    "duration": 196,
    "start_time": "2023-03-21T09:31:13.331Z"
   },
   {
    "duration": 0,
    "start_time": "2023-03-21T09:31:13.528Z"
   },
   {
    "duration": 0,
    "start_time": "2023-03-21T09:31:13.529Z"
   },
   {
    "duration": 0,
    "start_time": "2023-03-21T09:31:13.530Z"
   },
   {
    "duration": 29,
    "start_time": "2023-03-21T09:31:15.084Z"
   },
   {
    "duration": 30,
    "start_time": "2023-03-21T09:31:18.989Z"
   },
   {
    "duration": 3,
    "start_time": "2023-03-21T09:31:21.389Z"
   },
   {
    "duration": 3,
    "start_time": "2023-03-21T09:31:21.743Z"
   },
   {
    "duration": 1195,
    "start_time": "2023-03-21T09:31:43.157Z"
   },
   {
    "duration": 3775,
    "start_time": "2023-03-21T09:31:44.353Z"
   },
   {
    "duration": 26,
    "start_time": "2023-03-21T09:31:48.130Z"
   },
   {
    "duration": 11,
    "start_time": "2023-03-21T09:31:48.158Z"
   },
   {
    "duration": 22,
    "start_time": "2023-03-21T09:31:48.171Z"
   },
   {
    "duration": 38,
    "start_time": "2023-03-21T09:31:48.195Z"
   },
   {
    "duration": 5,
    "start_time": "2023-03-21T09:31:48.235Z"
   },
   {
    "duration": 8,
    "start_time": "2023-03-21T09:31:48.242Z"
   },
   {
    "duration": 871,
    "start_time": "2023-03-21T09:31:51.616Z"
   },
   {
    "duration": 877,
    "start_time": "2023-03-21T09:31:52.489Z"
   },
   {
    "duration": 252,
    "start_time": "2023-03-21T09:32:00.847Z"
   },
   {
    "duration": 9430,
    "start_time": "2023-03-21T09:32:08.512Z"
   },
   {
    "duration": 2,
    "start_time": "2023-03-21T09:32:28.123Z"
   },
   {
    "duration": 9255,
    "start_time": "2023-03-21T09:33:13.914Z"
   },
   {
    "duration": 37482,
    "start_time": "2023-03-21T09:33:38.653Z"
   },
   {
    "duration": 102,
    "start_time": "2023-03-21T09:34:16.137Z"
   },
   {
    "duration": 40,
    "start_time": "2023-03-21T09:34:48.617Z"
   },
   {
    "duration": 4,
    "start_time": "2023-03-21T09:34:49.636Z"
   },
   {
    "duration": 3,
    "start_time": "2023-03-21T09:34:50.114Z"
   },
   {
    "duration": 3,
    "start_time": "2023-03-21T09:34:50.965Z"
   },
   {
    "duration": 52,
    "start_time": "2023-03-21T09:35:01.013Z"
   },
   {
    "duration": 6,
    "start_time": "2023-03-21T09:35:12.032Z"
   },
   {
    "duration": 1201,
    "start_time": "2023-03-21T09:35:18.769Z"
   },
   {
    "duration": 3741,
    "start_time": "2023-03-21T09:35:19.972Z"
   },
   {
    "duration": 22,
    "start_time": "2023-03-21T09:35:23.714Z"
   },
   {
    "duration": 12,
    "start_time": "2023-03-21T09:35:23.738Z"
   },
   {
    "duration": 9,
    "start_time": "2023-03-21T09:35:23.751Z"
   },
   {
    "duration": 39,
    "start_time": "2023-03-21T09:35:23.761Z"
   },
   {
    "duration": 3,
    "start_time": "2023-03-21T09:35:23.801Z"
   },
   {
    "duration": 20,
    "start_time": "2023-03-21T09:35:23.806Z"
   },
   {
    "duration": 5,
    "start_time": "2023-03-21T09:35:23.827Z"
   },
   {
    "duration": 1033,
    "start_time": "2023-03-21T09:35:25.946Z"
   },
   {
    "duration": 355,
    "start_time": "2023-03-21T09:35:26.980Z"
   },
   {
    "duration": 365,
    "start_time": "2023-03-21T09:35:27.337Z"
   },
   {
    "duration": 164,
    "start_time": "2023-03-21T09:35:32.726Z"
   },
   {
    "duration": 8939,
    "start_time": "2023-03-21T09:35:39.456Z"
   },
   {
    "duration": 9503,
    "start_time": "2023-03-21T09:35:58.423Z"
   },
   {
    "duration": 42573,
    "start_time": "2023-03-21T09:36:15.063Z"
   },
   {
    "duration": 8,
    "start_time": "2023-03-21T09:36:57.727Z"
   },
   {
    "duration": 174,
    "start_time": "2023-03-21T09:36:57.737Z"
   },
   {
    "duration": 4,
    "start_time": "2023-03-21T09:38:20.039Z"
   },
   {
    "duration": 3,
    "start_time": "2023-03-21T09:38:35.557Z"
   },
   {
    "duration": 10,
    "start_time": "2023-03-21T09:39:16.136Z"
   },
   {
    "duration": 4,
    "start_time": "2023-03-21T09:45:38.930Z"
   },
   {
    "duration": 616,
    "start_time": "2023-03-21T09:45:38.935Z"
   },
   {
    "duration": 18,
    "start_time": "2023-03-21T09:45:39.553Z"
   },
   {
    "duration": 6,
    "start_time": "2023-03-21T09:45:39.572Z"
   },
   {
    "duration": 15,
    "start_time": "2023-03-21T09:45:39.580Z"
   },
   {
    "duration": 47,
    "start_time": "2023-03-21T09:45:39.596Z"
   },
   {
    "duration": 3,
    "start_time": "2023-03-21T09:45:39.645Z"
   },
   {
    "duration": 5,
    "start_time": "2023-03-21T09:45:39.650Z"
   },
   {
    "duration": 5,
    "start_time": "2023-03-21T09:45:39.657Z"
   },
   {
    "duration": 1219,
    "start_time": "2023-03-21T09:52:55.115Z"
   },
   {
    "duration": 3696,
    "start_time": "2023-03-21T09:52:56.336Z"
   },
   {
    "duration": 26,
    "start_time": "2023-03-21T09:53:00.034Z"
   },
   {
    "duration": 16,
    "start_time": "2023-03-21T09:53:00.062Z"
   },
   {
    "duration": 27,
    "start_time": "2023-03-21T09:53:00.080Z"
   },
   {
    "duration": 52,
    "start_time": "2023-03-21T09:53:00.108Z"
   },
   {
    "duration": 3,
    "start_time": "2023-03-21T09:53:00.162Z"
   },
   {
    "duration": 37,
    "start_time": "2023-03-21T09:53:00.167Z"
   },
   {
    "duration": 17,
    "start_time": "2023-03-21T09:53:00.206Z"
   },
   {
    "duration": 1072,
    "start_time": "2023-03-21T09:53:00.226Z"
   },
   {
    "duration": 360,
    "start_time": "2023-03-21T09:53:01.300Z"
   },
   {
    "duration": 355,
    "start_time": "2023-03-21T09:53:01.661Z"
   },
   {
    "duration": 245,
    "start_time": "2023-03-21T09:53:02.018Z"
   },
   {
    "duration": 9216,
    "start_time": "2023-03-21T09:53:02.264Z"
   },
   {
    "duration": 1210,
    "start_time": "2023-03-21T09:54:00.753Z"
   },
   {
    "duration": 714,
    "start_time": "2023-03-21T09:54:01.965Z"
   },
   {
    "duration": 22,
    "start_time": "2023-03-21T09:54:02.681Z"
   },
   {
    "duration": 22,
    "start_time": "2023-03-21T09:54:02.705Z"
   },
   {
    "duration": 25,
    "start_time": "2023-03-21T09:54:02.729Z"
   },
   {
    "duration": 52,
    "start_time": "2023-03-21T09:54:02.755Z"
   },
   {
    "duration": 4,
    "start_time": "2023-03-21T09:54:02.808Z"
   },
   {
    "duration": 8,
    "start_time": "2023-03-21T09:54:02.813Z"
   },
   {
    "duration": 3,
    "start_time": "2023-03-21T09:54:02.881Z"
   },
   {
    "duration": 1027,
    "start_time": "2023-03-21T09:54:03.629Z"
   },
   {
    "duration": 366,
    "start_time": "2023-03-21T09:54:04.658Z"
   },
   {
    "duration": 391,
    "start_time": "2023-03-21T09:54:05.026Z"
   },
   {
    "duration": 150,
    "start_time": "2023-03-21T09:54:05.419Z"
   },
   {
    "duration": 9151,
    "start_time": "2023-03-21T09:54:05.570Z"
   },
   {
    "duration": 39968,
    "start_time": "2023-03-21T09:54:18.857Z"
   },
   {
    "duration": 8,
    "start_time": "2023-03-21T09:54:58.827Z"
   },
   {
    "duration": 102,
    "start_time": "2023-03-21T09:54:58.836Z"
   },
   {
    "duration": 127005,
    "start_time": "2023-03-21T09:55:30.720Z"
   },
   {
    "duration": 201836,
    "start_time": "2023-03-21T09:58:56.614Z"
   },
   {
    "duration": 135360,
    "start_time": "2023-03-21T10:03:27.961Z"
   },
   {
    "duration": 87285,
    "start_time": "2023-03-21T10:06:14.871Z"
   },
   {
    "duration": 301077,
    "start_time": "2023-03-21T10:07:48.272Z"
   },
   {
    "duration": 1003209,
    "start_time": "2023-03-21T10:56:02.370Z"
   },
   {
    "duration": 1235,
    "start_time": "2023-03-21T11:46:10.160Z"
   },
   {
    "duration": 857,
    "start_time": "2023-03-21T11:46:11.397Z"
   },
   {
    "duration": 35,
    "start_time": "2023-03-21T11:46:12.256Z"
   },
   {
    "duration": 33,
    "start_time": "2023-03-21T11:46:12.293Z"
   },
   {
    "duration": 13,
    "start_time": "2023-03-21T11:46:12.328Z"
   },
   {
    "duration": 80,
    "start_time": "2023-03-21T11:46:12.343Z"
   },
   {
    "duration": 5,
    "start_time": "2023-03-21T11:46:12.425Z"
   },
   {
    "duration": 20,
    "start_time": "2023-03-21T11:46:12.431Z"
   },
   {
    "duration": 23,
    "start_time": "2023-03-21T11:46:12.453Z"
   },
   {
    "duration": 1196,
    "start_time": "2023-03-21T11:46:12.478Z"
   },
   {
    "duration": 391,
    "start_time": "2023-03-21T11:46:13.677Z"
   },
   {
    "duration": 377,
    "start_time": "2023-03-21T11:46:14.070Z"
   },
   {
    "duration": 202,
    "start_time": "2023-03-21T11:46:14.449Z"
   },
   {
    "duration": 9358,
    "start_time": "2023-03-21T11:46:14.654Z"
   },
   {
    "duration": 44914,
    "start_time": "2023-03-21T11:46:24.013Z"
   },
   {
    "duration": 87,
    "start_time": "2023-03-21T11:47:08.939Z"
   },
   {
    "duration": 11,
    "start_time": "2023-03-21T11:47:09.029Z"
   },
   {
    "duration": 92369,
    "start_time": "2023-03-21T11:47:09.042Z"
   },
   {
    "duration": 1301,
    "start_time": "2023-03-21T12:00:00.532Z"
   },
   {
    "duration": 801,
    "start_time": "2023-03-21T12:00:01.835Z"
   },
   {
    "duration": 29,
    "start_time": "2023-03-21T12:00:02.640Z"
   },
   {
    "duration": 31,
    "start_time": "2023-03-21T12:00:02.671Z"
   },
   {
    "duration": 42,
    "start_time": "2023-03-21T12:00:02.704Z"
   },
   {
    "duration": 71,
    "start_time": "2023-03-21T12:00:02.748Z"
   },
   {
    "duration": 4,
    "start_time": "2023-03-21T12:00:02.820Z"
   },
   {
    "duration": 24,
    "start_time": "2023-03-21T12:00:02.826Z"
   },
   {
    "duration": 9,
    "start_time": "2023-03-21T12:00:02.852Z"
   },
   {
    "duration": 1093,
    "start_time": "2023-03-21T12:00:02.862Z"
   },
   {
    "duration": 422,
    "start_time": "2023-03-21T12:00:03.957Z"
   },
   {
    "duration": 362,
    "start_time": "2023-03-21T12:00:04.380Z"
   },
   {
    "duration": 155,
    "start_time": "2023-03-21T12:00:04.743Z"
   },
   {
    "duration": 10180,
    "start_time": "2023-03-21T12:00:04.900Z"
   },
   {
    "duration": 45847,
    "start_time": "2023-03-21T12:00:15.082Z"
   },
   {
    "duration": 18,
    "start_time": "2023-03-21T12:01:00.931Z"
   },
   {
    "duration": 149,
    "start_time": "2023-03-21T12:01:01.025Z"
   },
   {
    "duration": 0,
    "start_time": "2023-03-21T12:01:01.176Z"
   },
   {
    "duration": 0,
    "start_time": "2023-03-21T12:01:01.177Z"
   },
   {
    "duration": 10,
    "start_time": "2023-03-21T12:01:24.547Z"
   },
   {
    "duration": 13,
    "start_time": "2023-03-21T12:01:27.324Z"
   },
   {
    "duration": 237543,
    "start_time": "2023-03-21T12:01:35.288Z"
   },
   {
    "duration": 53,
    "start_time": "2023-03-21T12:07:35.665Z"
   },
   {
    "duration": 1182,
    "start_time": "2023-03-21T12:08:40.484Z"
   },
   {
    "duration": 834,
    "start_time": "2023-03-21T12:08:45.954Z"
   },
   {
    "duration": 39,
    "start_time": "2023-03-21T12:08:46.791Z"
   },
   {
    "duration": 14,
    "start_time": "2023-03-21T12:08:47.365Z"
   },
   {
    "duration": 10,
    "start_time": "2023-03-21T12:08:47.795Z"
   },
   {
    "duration": 1705,
    "start_time": "2023-03-21T12:09:09.259Z"
   },
   {
    "duration": 2,
    "start_time": "2023-03-21T12:09:37.761Z"
   },
   {
    "duration": 718,
    "start_time": "2023-03-21T12:09:51.751Z"
   },
   {
    "duration": 119,
    "start_time": "2023-03-21T12:10:33.157Z"
   },
   {
    "duration": 3,
    "start_time": "2023-03-21T12:12:26.586Z"
   },
   {
    "duration": 12,
    "start_time": "2023-03-21T12:12:41.689Z"
   },
   {
    "duration": 41,
    "start_time": "2023-03-21T12:12:54.674Z"
   },
   {
    "duration": 1325,
    "start_time": "2023-03-21T12:13:00.610Z"
   },
   {
    "duration": 4031,
    "start_time": "2023-03-21T12:13:01.937Z"
   },
   {
    "duration": 29,
    "start_time": "2023-03-21T12:13:05.970Z"
   },
   {
    "duration": 14,
    "start_time": "2023-03-21T12:13:06.001Z"
   },
   {
    "duration": 17,
    "start_time": "2023-03-21T12:13:06.016Z"
   },
   {
    "duration": 1719,
    "start_time": "2023-03-21T12:13:06.034Z"
   },
   {
    "duration": 7,
    "start_time": "2023-03-21T12:13:07.755Z"
   },
   {
    "duration": 763,
    "start_time": "2023-03-21T12:13:07.764Z"
   },
   {
    "duration": 3,
    "start_time": "2023-03-21T12:13:10.256Z"
   },
   {
    "duration": 89,
    "start_time": "2023-03-21T12:13:11.147Z"
   },
   {
    "duration": 4,
    "start_time": "2023-03-21T12:13:29.321Z"
   },
   {
    "duration": 3,
    "start_time": "2023-03-21T12:13:35.493Z"
   },
   {
    "duration": 706,
    "start_time": "2023-03-21T12:13:35.676Z"
   },
   {
    "duration": 26,
    "start_time": "2023-03-21T12:15:56.783Z"
   },
   {
    "duration": 16,
    "start_time": "2023-03-21T12:16:42.486Z"
   },
   {
    "duration": 714,
    "start_time": "2023-03-21T12:16:48.402Z"
   },
   {
    "duration": 61,
    "start_time": "2023-03-21T12:20:45.300Z"
   },
   {
    "duration": 53,
    "start_time": "2023-03-21T12:20:55.487Z"
   },
   {
    "duration": 736,
    "start_time": "2023-03-21T12:21:02.483Z"
   },
   {
    "duration": 12,
    "start_time": "2023-03-21T12:21:11.137Z"
   },
   {
    "duration": 9,
    "start_time": "2023-03-21T12:21:20.844Z"
   },
   {
    "duration": 10,
    "start_time": "2023-03-21T12:21:56.213Z"
   },
   {
    "duration": 1778,
    "start_time": "2023-03-21T16:10:08.641Z"
   },
   {
    "duration": 4015,
    "start_time": "2023-03-21T16:10:10.423Z"
   },
   {
    "duration": 34,
    "start_time": "2023-03-21T16:10:14.440Z"
   },
   {
    "duration": 17,
    "start_time": "2023-03-21T16:10:14.477Z"
   },
   {
    "duration": 13,
    "start_time": "2023-03-21T16:10:14.496Z"
   },
   {
    "duration": 2146,
    "start_time": "2023-03-21T16:10:27.680Z"
   },
   {
    "duration": 5,
    "start_time": "2023-03-21T16:10:41.303Z"
   },
   {
    "duration": 4,
    "start_time": "2023-03-21T16:11:02.481Z"
   },
   {
    "duration": 836,
    "start_time": "2023-03-21T16:11:02.786Z"
   },
   {
    "duration": 4,
    "start_time": "2023-03-21T16:12:56.218Z"
   },
   {
    "duration": 1431,
    "start_time": "2023-03-21T17:01:20.455Z"
   },
   {
    "duration": 965,
    "start_time": "2023-03-21T17:01:21.888Z"
   },
   {
    "duration": 34,
    "start_time": "2023-03-21T17:01:22.855Z"
   },
   {
    "duration": 21,
    "start_time": "2023-03-21T17:01:22.892Z"
   },
   {
    "duration": 23,
    "start_time": "2023-03-21T17:01:26.034Z"
   },
   {
    "duration": 2134,
    "start_time": "2023-03-21T17:01:27.224Z"
   },
   {
    "duration": 5,
    "start_time": "2023-03-21T17:01:29.360Z"
   },
   {
    "duration": 14,
    "start_time": "2023-03-21T17:01:29.367Z"
   },
   {
    "duration": 1789,
    "start_time": "2023-03-21T17:01:31.012Z"
   },
   {
    "duration": 1801,
    "start_time": "2023-03-21T17:02:08.654Z"
   },
   {
    "duration": 1833,
    "start_time": "2023-03-21T17:02:30.914Z"
   },
   {
    "duration": 4,
    "start_time": "2023-03-21T17:02:38.899Z"
   },
   {
    "duration": 1767,
    "start_time": "2023-03-21T17:03:25.218Z"
   },
   {
    "duration": 4,
    "start_time": "2023-03-21T17:03:37.489Z"
   },
   {
    "duration": 51,
    "start_time": "2023-03-21T17:04:04.060Z"
   },
   {
    "duration": 862,
    "start_time": "2023-03-21T17:04:22.421Z"
   },
   {
    "duration": 907,
    "start_time": "2023-03-21T17:05:09.146Z"
   },
   {
    "duration": 50,
    "start_time": "2023-03-21T17:05:21.990Z"
   },
   {
    "duration": 1350,
    "start_time": "2023-03-21T17:05:34.986Z"
   },
   {
    "duration": 4548,
    "start_time": "2023-03-21T17:05:36.338Z"
   },
   {
    "duration": 34,
    "start_time": "2023-03-21T17:05:40.887Z"
   },
   {
    "duration": 14,
    "start_time": "2023-03-21T17:05:40.922Z"
   },
   {
    "duration": 16,
    "start_time": "2023-03-21T17:05:40.940Z"
   },
   {
    "duration": 2030,
    "start_time": "2023-03-21T17:05:44.571Z"
   },
   {
    "duration": 3,
    "start_time": "2023-03-21T17:05:47.887Z"
   },
   {
    "duration": 941,
    "start_time": "2023-03-21T17:05:48.761Z"
   },
   {
    "duration": 846,
    "start_time": "2023-03-21T17:06:10.058Z"
   },
   {
    "duration": 1010,
    "start_time": "2023-03-21T17:07:54.499Z"
   },
   {
    "duration": 3,
    "start_time": "2023-03-21T17:08:06.287Z"
   },
   {
    "duration": 1722,
    "start_time": "2023-03-21T17:08:11.853Z"
   },
   {
    "duration": 4,
    "start_time": "2023-03-21T17:08:20.279Z"
   },
   {
    "duration": 85423,
    "start_time": "2023-03-21T17:09:31.145Z"
   },
   {
    "duration": 10,
    "start_time": "2023-03-21T17:11:10.710Z"
   },
   {
    "duration": 8,
    "start_time": "2023-03-21T17:11:48.682Z"
   },
   {
    "duration": 2,
    "start_time": "2023-03-21T17:11:49.803Z"
   },
   {
    "duration": 6,
    "start_time": "2023-03-21T17:11:51.055Z"
   },
   {
    "duration": 14,
    "start_time": "2023-03-21T17:12:00.338Z"
   },
   {
    "duration": 1455,
    "start_time": "2023-03-21T17:12:39.487Z"
   },
   {
    "duration": 3803,
    "start_time": "2023-03-21T17:12:41.621Z"
   },
   {
    "duration": 37,
    "start_time": "2023-03-21T17:12:45.427Z"
   },
   {
    "duration": 14,
    "start_time": "2023-03-21T17:12:45.465Z"
   },
   {
    "duration": 12,
    "start_time": "2023-03-21T17:12:46.695Z"
   },
   {
    "duration": 2019,
    "start_time": "2023-03-21T17:12:48.529Z"
   },
   {
    "duration": 5,
    "start_time": "2023-03-21T17:12:50.550Z"
   },
   {
    "duration": 11,
    "start_time": "2023-03-21T17:12:50.556Z"
   },
   {
    "duration": 9031,
    "start_time": "2023-03-21T17:12:56.554Z"
   },
   {
    "duration": 3,
    "start_time": "2023-03-21T17:13:09.883Z"
   },
   {
    "duration": 3,
    "start_time": "2023-03-21T17:13:13.861Z"
   },
   {
    "duration": 11,
    "start_time": "2023-03-21T17:13:19.407Z"
   },
   {
    "duration": 674,
    "start_time": "2023-03-21T17:13:59.184Z"
   },
   {
    "duration": 729,
    "start_time": "2023-03-21T17:14:04.499Z"
   },
   {
    "duration": 10,
    "start_time": "2023-03-21T17:15:27.199Z"
   },
   {
    "duration": 93,
    "start_time": "2023-03-21T17:16:24.492Z"
   },
   {
    "duration": 5,
    "start_time": "2023-03-21T17:16:29.297Z"
   },
   {
    "duration": 4,
    "start_time": "2023-03-21T17:16:30.195Z"
   },
   {
    "duration": 3,
    "start_time": "2023-03-21T17:16:32.710Z"
   },
   {
    "duration": 236,
    "start_time": "2023-03-21T17:17:09.052Z"
   },
   {
    "duration": 10,
    "start_time": "2023-03-21T17:17:51.610Z"
   },
   {
    "duration": 4,
    "start_time": "2023-03-21T17:18:19.487Z"
   },
   {
    "duration": 927,
    "start_time": "2023-03-21T17:20:59.752Z"
   },
   {
    "duration": 53,
    "start_time": "2023-03-21T17:25:30.610Z"
   },
   {
    "duration": 1361,
    "start_time": "2023-03-21T17:25:46.854Z"
   },
   {
    "duration": 3812,
    "start_time": "2023-03-21T17:25:48.217Z"
   },
   {
    "duration": 35,
    "start_time": "2023-03-21T17:25:52.031Z"
   },
   {
    "duration": 16,
    "start_time": "2023-03-21T17:25:52.069Z"
   },
   {
    "duration": 26,
    "start_time": "2023-03-21T17:25:52.086Z"
   },
   {
    "duration": 1982,
    "start_time": "2023-03-21T17:25:52.114Z"
   },
   {
    "duration": 13,
    "start_time": "2023-03-21T17:25:54.098Z"
   },
   {
    "duration": 7,
    "start_time": "2023-03-21T17:25:54.113Z"
   },
   {
    "duration": 8726,
    "start_time": "2023-03-21T17:25:54.122Z"
   },
   {
    "duration": 4,
    "start_time": "2023-03-21T17:26:02.850Z"
   },
   {
    "duration": 19,
    "start_time": "2023-03-21T17:26:02.855Z"
   },
   {
    "duration": 18,
    "start_time": "2023-03-21T17:26:02.876Z"
   },
   {
    "duration": 774,
    "start_time": "2023-03-21T17:26:02.895Z"
   },
   {
    "duration": 8,
    "start_time": "2023-03-21T17:26:03.670Z"
   },
   {
    "duration": 93,
    "start_time": "2023-03-21T17:26:03.680Z"
   },
   {
    "duration": 4,
    "start_time": "2023-03-21T17:26:03.775Z"
   },
   {
    "duration": 6,
    "start_time": "2023-03-21T17:26:03.780Z"
   },
   {
    "duration": 14,
    "start_time": "2023-03-21T17:26:03.788Z"
   },
   {
    "duration": 216,
    "start_time": "2023-03-21T17:26:08.721Z"
   },
   {
    "duration": 8,
    "start_time": "2023-03-21T17:26:10.426Z"
   },
   {
    "duration": 6,
    "start_time": "2023-03-21T17:26:13.842Z"
   },
   {
    "duration": 693,
    "start_time": "2023-03-21T17:26:25.999Z"
   },
   {
    "duration": 138,
    "start_time": "2023-03-21T17:27:31.222Z"
   },
   {
    "duration": 1470,
    "start_time": "2023-03-21T17:32:52.590Z"
   },
   {
    "duration": 981,
    "start_time": "2023-03-21T17:32:54.063Z"
   },
   {
    "duration": 35,
    "start_time": "2023-03-21T17:32:55.046Z"
   },
   {
    "duration": 13,
    "start_time": "2023-03-21T17:32:55.083Z"
   },
   {
    "duration": 12,
    "start_time": "2023-03-21T17:32:55.099Z"
   },
   {
    "duration": 2077,
    "start_time": "2023-03-21T17:32:55.113Z"
   },
   {
    "duration": 4,
    "start_time": "2023-03-21T17:32:57.192Z"
   },
   {
    "duration": 4,
    "start_time": "2023-03-21T17:32:57.198Z"
   },
   {
    "duration": 2918,
    "start_time": "2023-03-21T18:22:24.444Z"
   },
   {
    "duration": 2311,
    "start_time": "2023-03-21T18:22:27.366Z"
   },
   {
    "duration": 75,
    "start_time": "2023-03-21T18:22:29.679Z"
   },
   {
    "duration": 18,
    "start_time": "2023-03-21T18:22:29.755Z"
   },
   {
    "duration": 71,
    "start_time": "2023-03-21T18:22:29.775Z"
   },
   {
    "duration": 5911,
    "start_time": "2023-03-21T18:22:29.847Z"
   },
   {
    "duration": 7,
    "start_time": "2023-03-21T18:22:35.761Z"
   },
   {
    "duration": 5,
    "start_time": "2023-03-21T18:22:35.770Z"
   },
   {
    "duration": 1274,
    "start_time": "2023-03-21T20:31:20.739Z"
   },
   {
    "duration": 3872,
    "start_time": "2023-03-21T20:31:22.014Z"
   },
   {
    "duration": 25,
    "start_time": "2023-03-21T20:31:25.888Z"
   },
   {
    "duration": 14,
    "start_time": "2023-03-21T20:31:25.915Z"
   },
   {
    "duration": 10,
    "start_time": "2023-03-21T20:31:25.930Z"
   },
   {
    "duration": 1669,
    "start_time": "2023-03-21T20:31:25.942Z"
   },
   {
    "duration": 2,
    "start_time": "2023-03-21T20:31:27.613Z"
   },
   {
    "duration": 7,
    "start_time": "2023-03-21T20:31:27.617Z"
   },
   {
    "duration": 1325,
    "start_time": "2023-03-21T21:54:33.687Z"
   },
   {
    "duration": 865,
    "start_time": "2023-03-21T21:54:35.014Z"
   },
   {
    "duration": 20,
    "start_time": "2023-03-21T21:54:35.880Z"
   },
   {
    "duration": 13,
    "start_time": "2023-03-21T21:54:35.901Z"
   },
   {
    "duration": 8,
    "start_time": "2023-03-21T21:54:35.916Z"
   },
   {
    "duration": 1801,
    "start_time": "2023-03-21T21:54:35.939Z"
   },
   {
    "duration": 3,
    "start_time": "2023-03-21T21:54:37.742Z"
   },
   {
    "duration": 4,
    "start_time": "2023-03-21T21:58:41.113Z"
   },
   {
    "duration": 825,
    "start_time": "2023-03-21T21:58:41.376Z"
   },
   {
    "duration": 18,
    "start_time": "2023-03-21T21:58:42.203Z"
   },
   {
    "duration": 7,
    "start_time": "2023-03-21T21:58:42.222Z"
   },
   {
    "duration": 8,
    "start_time": "2023-03-21T21:58:42.239Z"
   },
   {
    "duration": 1246,
    "start_time": "2023-03-21T21:59:06.694Z"
   },
   {
    "duration": 3880,
    "start_time": "2023-03-21T21:59:07.942Z"
   },
   {
    "duration": 25,
    "start_time": "2023-03-21T21:59:11.824Z"
   },
   {
    "duration": 12,
    "start_time": "2023-03-21T21:59:11.851Z"
   },
   {
    "duration": 9,
    "start_time": "2023-03-21T21:59:11.864Z"
   },
   {
    "duration": 1776,
    "start_time": "2023-03-21T21:59:11.874Z"
   },
   {
    "duration": 3,
    "start_time": "2023-03-21T21:59:15.545Z"
   },
   {
    "duration": 3,
    "start_time": "2023-03-21T21:59:18.719Z"
   },
   {
    "duration": 95,
    "start_time": "2023-03-21T22:02:18.049Z"
   },
   {
    "duration": 1275,
    "start_time": "2023-03-21T22:02:34.774Z"
   },
   {
    "duration": 3887,
    "start_time": "2023-03-21T22:02:36.051Z"
   },
   {
    "duration": 21,
    "start_time": "2023-03-21T22:02:39.939Z"
   },
   {
    "duration": 12,
    "start_time": "2023-03-21T22:02:39.962Z"
   },
   {
    "duration": 8,
    "start_time": "2023-03-21T22:02:39.976Z"
   },
   {
    "duration": 1745,
    "start_time": "2023-03-21T22:02:40.059Z"
   },
   {
    "duration": 3,
    "start_time": "2023-03-21T22:02:41.806Z"
   },
   {
    "duration": 2,
    "start_time": "2023-03-21T22:02:44.274Z"
   },
   {
    "duration": 15,
    "start_time": "2023-03-21T22:02:45.467Z"
   },
   {
    "duration": 1089,
    "start_time": "2023-03-21T22:03:51.013Z"
   },
   {
    "duration": 26,
    "start_time": "2023-03-21T22:04:09.226Z"
   },
   {
    "duration": 94578,
    "start_time": "2023-03-21T22:04:14.843Z"
   },
   {
    "duration": 52,
    "start_time": "2023-03-21T22:05:49.422Z"
   },
   {
    "duration": 864,
    "start_time": "2023-03-21T22:05:59.407Z"
   },
   {
    "duration": 8661,
    "start_time": "2023-03-21T22:06:06.571Z"
   },
   {
    "duration": 42680,
    "start_time": "2023-03-21T22:06:50.805Z"
   },
   {
    "duration": 133390,
    "start_time": "2023-03-21T22:07:42.540Z"
   },
   {
    "duration": 28,
    "start_time": "2023-03-21T22:09:55.932Z"
   },
   {
    "duration": 3,
    "start_time": "2023-03-21T22:10:11.260Z"
   },
   {
    "duration": 3,
    "start_time": "2023-03-21T22:10:45.461Z"
   },
   {
    "duration": 2,
    "start_time": "2023-03-21T22:10:51.707Z"
   },
   {
    "duration": 2,
    "start_time": "2023-03-21T22:10:55.204Z"
   },
   {
    "duration": 1284,
    "start_time": "2023-03-21T22:11:18.724Z"
   },
   {
    "duration": 3880,
    "start_time": "2023-03-21T22:11:20.010Z"
   },
   {
    "duration": 24,
    "start_time": "2023-03-21T22:11:23.891Z"
   },
   {
    "duration": 13,
    "start_time": "2023-03-21T22:11:23.917Z"
   },
   {
    "duration": 11,
    "start_time": "2023-03-21T22:11:23.931Z"
   },
   {
    "duration": 1694,
    "start_time": "2023-03-21T22:11:23.943Z"
   },
   {
    "duration": 3,
    "start_time": "2023-03-21T22:11:26.362Z"
   },
   {
    "duration": 3,
    "start_time": "2023-03-21T22:11:27.327Z"
   },
   {
    "duration": 134800,
    "start_time": "2023-03-21T22:11:28.679Z"
   },
   {
    "duration": 3,
    "start_time": "2023-03-21T22:13:43.482Z"
   },
   {
    "duration": 3,
    "start_time": "2023-03-21T22:13:43.486Z"
   },
   {
    "duration": 55,
    "start_time": "2023-03-21T22:13:43.491Z"
   },
   {
    "duration": 370,
    "start_time": "2023-03-21T22:13:54.934Z"
   },
   {
    "duration": 107,
    "start_time": "2023-03-21T22:15:09.607Z"
   },
   {
    "duration": 1263,
    "start_time": "2023-03-21T22:15:20.775Z"
   },
   {
    "duration": 3881,
    "start_time": "2023-03-21T22:15:22.039Z"
   },
   {
    "duration": 20,
    "start_time": "2023-03-21T22:15:25.921Z"
   },
   {
    "duration": 12,
    "start_time": "2023-03-21T22:15:25.943Z"
   },
   {
    "duration": 8,
    "start_time": "2023-03-21T22:15:25.956Z"
   },
   {
    "duration": 1755,
    "start_time": "2023-03-21T22:15:25.965Z"
   },
   {
    "duration": 4,
    "start_time": "2023-03-21T22:15:27.721Z"
   },
   {
    "duration": 134469,
    "start_time": "2023-03-21T22:15:27.726Z"
   },
   {
    "duration": 3,
    "start_time": "2023-03-21T22:17:42.196Z"
   },
   {
    "duration": 1963,
    "start_time": "2023-03-21T22:17:42.201Z"
   },
   {
    "duration": 804,
    "start_time": "2023-03-21T22:17:53.301Z"
   },
   {
    "duration": 8,
    "start_time": "2023-03-21T22:17:55.026Z"
   },
   {
    "duration": 44,
    "start_time": "2023-03-21T22:18:00.548Z"
   },
   {
    "duration": 7,
    "start_time": "2023-03-21T22:18:02.983Z"
   },
   {
    "duration": 38,
    "start_time": "2023-03-21T22:18:08.435Z"
   },
   {
    "duration": 3,
    "start_time": "2023-03-21T22:18:09.969Z"
   },
   {
    "duration": 4,
    "start_time": "2023-03-21T22:18:10.826Z"
   },
   {
    "duration": 4,
    "start_time": "2023-03-21T22:18:11.569Z"
   },
   {
    "duration": 157,
    "start_time": "2023-03-21T22:18:14.987Z"
   },
   {
    "duration": 7,
    "start_time": "2023-03-21T22:18:16.818Z"
   },
   {
    "duration": 4,
    "start_time": "2023-03-21T22:18:42.037Z"
   },
   {
    "duration": 6,
    "start_time": "2023-03-21T22:18:42.576Z"
   },
   {
    "duration": 4,
    "start_time": "2023-03-21T22:18:50.633Z"
   },
   {
    "duration": 5,
    "start_time": "2023-03-21T22:18:55.385Z"
   },
   {
    "duration": 8,
    "start_time": "2023-03-21T22:19:28.083Z"
   },
   {
    "duration": 3696,
    "start_time": "2023-03-21T22:19:45.355Z"
   },
   {
    "duration": 6103,
    "start_time": "2023-03-21T22:20:03.414Z"
   },
   {
    "duration": 30,
    "start_time": "2023-03-21T22:20:18.796Z"
   },
   {
    "duration": 3,
    "start_time": "2023-03-21T22:20:19.817Z"
   },
   {
    "duration": 3,
    "start_time": "2023-03-21T22:20:21.331Z"
   },
   {
    "duration": 4,
    "start_time": "2023-03-21T22:20:21.925Z"
   },
   {
    "duration": 3,
    "start_time": "2023-03-21T22:20:28.251Z"
   },
   {
    "duration": 5,
    "start_time": "2023-03-21T22:20:30.684Z"
   },
   {
    "duration": 670,
    "start_time": "2023-03-21T22:20:37.268Z"
   },
   {
    "duration": 6114,
    "start_time": "2023-03-21T22:20:51.756Z"
   },
   {
    "duration": 6,
    "start_time": "2023-03-21T22:21:13.497Z"
   },
   {
    "duration": 540,
    "start_time": "2023-03-21T22:21:14.146Z"
   },
   {
    "duration": 11648,
    "start_time": "2023-03-21T22:21:24.892Z"
   },
   {
    "duration": 6,
    "start_time": "2023-03-21T22:21:36.542Z"
   },
   {
    "duration": 18,
    "start_time": "2023-03-21T22:21:36.549Z"
   },
   {
    "duration": 2719,
    "start_time": "2023-03-21T22:22:16.522Z"
   },
   {
    "duration": 5,
    "start_time": "2023-03-21T22:22:19.243Z"
   },
   {
    "duration": 14,
    "start_time": "2023-03-21T22:22:19.249Z"
   },
   {
    "duration": 2986,
    "start_time": "2023-03-21T22:23:35.098Z"
   },
   {
    "duration": 5,
    "start_time": "2023-03-21T22:23:38.086Z"
   },
   {
    "duration": 12,
    "start_time": "2023-03-21T22:23:38.092Z"
   },
   {
    "duration": 868,
    "start_time": "2023-03-21T22:23:57.120Z"
   },
   {
    "duration": 5,
    "start_time": "2023-03-21T22:23:58.131Z"
   },
   {
    "duration": 12,
    "start_time": "2023-03-21T22:23:59.331Z"
   },
   {
    "duration": 2720,
    "start_time": "2023-03-21T22:24:06.526Z"
   },
   {
    "duration": 5,
    "start_time": "2023-03-21T22:24:09.247Z"
   },
   {
    "duration": 12,
    "start_time": "2023-03-21T22:24:09.254Z"
   },
   {
    "duration": 2675,
    "start_time": "2023-03-21T22:24:16.752Z"
   },
   {
    "duration": 11,
    "start_time": "2023-03-21T22:24:19.429Z"
   },
   {
    "duration": 12,
    "start_time": "2023-03-21T22:24:19.441Z"
   },
   {
    "duration": 636,
    "start_time": "2023-03-21T22:24:38.742Z"
   },
   {
    "duration": 5,
    "start_time": "2023-03-21T22:24:39.379Z"
   },
   {
    "duration": 12,
    "start_time": "2023-03-21T22:24:39.385Z"
   },
   {
    "duration": 702,
    "start_time": "2023-03-21T22:24:55.002Z"
   },
   {
    "duration": 5,
    "start_time": "2023-03-21T22:25:03.127Z"
   },
   {
    "duration": 12,
    "start_time": "2023-03-21T22:25:03.400Z"
   },
   {
    "duration": 661,
    "start_time": "2023-03-21T22:25:06.142Z"
   },
   {
    "duration": 5,
    "start_time": "2023-03-21T22:25:06.805Z"
   },
   {
    "duration": 13,
    "start_time": "2023-03-21T22:25:06.861Z"
   },
   {
    "duration": 6,
    "start_time": "2023-03-21T22:25:13.155Z"
   },
   {
    "duration": 13,
    "start_time": "2023-03-21T22:25:13.548Z"
   },
   {
    "duration": 628,
    "start_time": "2023-03-21T22:25:18.079Z"
   },
   {
    "duration": 6,
    "start_time": "2023-03-21T22:25:18.709Z"
   },
   {
    "duration": 14,
    "start_time": "2023-03-21T22:25:18.975Z"
   },
   {
    "duration": 394,
    "start_time": "2023-03-21T22:25:25.835Z"
   },
   {
    "duration": 11,
    "start_time": "2023-03-21T22:25:26.230Z"
   },
   {
    "duration": 13,
    "start_time": "2023-03-21T22:25:26.445Z"
   },
   {
    "duration": 769,
    "start_time": "2023-03-21T22:25:34.174Z"
   },
   {
    "duration": 5,
    "start_time": "2023-03-21T22:25:34.944Z"
   },
   {
    "duration": 12,
    "start_time": "2023-03-21T22:25:34.985Z"
   },
   {
    "duration": 2831,
    "start_time": "2023-03-21T22:25:41.665Z"
   },
   {
    "duration": 5,
    "start_time": "2023-03-21T22:25:44.498Z"
   },
   {
    "duration": 12,
    "start_time": "2023-03-21T22:25:44.505Z"
   },
   {
    "duration": 2783,
    "start_time": "2023-03-21T22:26:16.015Z"
   },
   {
    "duration": 5,
    "start_time": "2023-03-21T22:26:18.800Z"
   },
   {
    "duration": 13,
    "start_time": "2023-03-21T22:26:18.806Z"
   },
   {
    "duration": 54367,
    "start_time": "2023-03-21T22:26:18.820Z"
   },
   {
    "duration": 163434,
    "start_time": "2023-03-21T22:27:42.773Z"
   },
   {
    "duration": 123407,
    "start_time": "2023-03-21T22:30:26.210Z"
   },
   {
    "duration": 5,
    "start_time": "2023-03-21T22:33:32.060Z"
   },
   {
    "duration": 13,
    "start_time": "2023-03-21T22:33:53.673Z"
   },
   {
    "duration": 43,
    "start_time": "2023-03-21T22:44:14.547Z"
   },
   {
    "duration": 50,
    "start_time": "2023-03-21T22:45:44.268Z"
   },
   {
    "duration": 1267,
    "start_time": "2023-03-21T22:54:00.956Z"
   },
   {
    "duration": 883,
    "start_time": "2023-03-21T22:54:02.225Z"
   },
   {
    "duration": 32,
    "start_time": "2023-03-21T22:54:03.109Z"
   },
   {
    "duration": 14,
    "start_time": "2023-03-21T22:54:03.142Z"
   },
   {
    "duration": 9,
    "start_time": "2023-03-21T22:54:03.159Z"
   },
   {
    "duration": 1837,
    "start_time": "2023-03-21T22:54:03.169Z"
   },
   {
    "duration": 2,
    "start_time": "2023-03-21T22:54:05.008Z"
   },
   {
    "duration": 131773,
    "start_time": "2023-03-21T22:54:05.011Z"
   },
   {
    "duration": 3,
    "start_time": "2023-03-21T22:56:16.785Z"
   },
   {
    "duration": 1953,
    "start_time": "2023-03-21T22:56:16.789Z"
   },
   {
    "duration": 29,
    "start_time": "2023-03-21T22:56:18.744Z"
   },
   {
    "duration": 7,
    "start_time": "2023-03-21T22:56:18.775Z"
   },
   {
    "duration": 29,
    "start_time": "2023-03-21T22:56:18.783Z"
   },
   {
    "duration": 3,
    "start_time": "2023-03-21T22:56:18.814Z"
   },
   {
    "duration": 3,
    "start_time": "2023-03-21T22:56:18.840Z"
   },
   {
    "duration": 3,
    "start_time": "2023-03-21T22:56:18.844Z"
   },
   {
    "duration": 142,
    "start_time": "2023-03-21T22:56:18.848Z"
   },
   {
    "duration": 5924,
    "start_time": "2023-03-21T22:56:18.991Z"
   },
   {
    "duration": 5,
    "start_time": "2023-03-21T22:56:24.917Z"
   },
   {
    "duration": 270,
    "start_time": "2023-03-21T22:56:24.923Z"
   },
   {
    "duration": 2705,
    "start_time": "2023-03-21T22:56:25.194Z"
   },
   {
    "duration": 4,
    "start_time": "2023-03-21T22:56:27.900Z"
   },
   {
    "duration": 12,
    "start_time": "2023-03-21T22:56:27.906Z"
   },
   {
    "duration": 122464,
    "start_time": "2023-03-21T22:56:27.920Z"
   },
   {
    "duration": 162460,
    "start_time": "2023-03-21T22:58:30.386Z"
   },
   {
    "duration": 5,
    "start_time": "2023-03-21T23:01:12.848Z"
   },
   {
    "duration": 12,
    "start_time": "2023-03-21T23:01:12.854Z"
   },
   {
    "duration": 253358,
    "start_time": "2023-03-21T23:02:19.632Z"
   },
   {
    "duration": 433389,
    "start_time": "2023-03-21T23:13:13.017Z"
   },
   {
    "duration": 1411,
    "start_time": "2023-03-23T12:30:35.357Z"
   },
   {
    "duration": 3772,
    "start_time": "2023-03-23T12:30:36.771Z"
   },
   {
    "duration": 32,
    "start_time": "2023-03-23T12:30:40.544Z"
   },
   {
    "duration": 14,
    "start_time": "2023-03-23T12:30:40.578Z"
   },
   {
    "duration": 11,
    "start_time": "2023-03-23T12:30:40.594Z"
   },
   {
    "duration": 5,
    "start_time": "2023-03-23T12:30:40.607Z"
   },
   {
    "duration": 131902,
    "start_time": "2023-03-23T12:35:30.638Z"
   },
   {
    "duration": 3,
    "start_time": "2023-03-23T13:03:42.214Z"
   },
   {
    "duration": 592508,
    "start_time": "2023-03-23T13:03:51.314Z"
   },
   {
    "duration": 8,
    "start_time": "2023-03-23T13:16:17.058Z"
   },
   {
    "duration": 9,
    "start_time": "2023-03-23T13:16:24.667Z"
   },
   {
    "duration": 230,
    "start_time": "2023-03-23T13:18:54.848Z"
   },
   {
    "duration": 10,
    "start_time": "2023-03-23T13:18:59.722Z"
   },
   {
    "duration": 168,
    "start_time": "2023-03-23T13:19:14.941Z"
   },
   {
    "duration": 5,
    "start_time": "2023-03-23T13:19:15.882Z"
   },
   {
    "duration": 135,
    "start_time": "2023-03-23T13:19:32.819Z"
   },
   {
    "duration": 5,
    "start_time": "2023-03-23T13:19:33.162Z"
   },
   {
    "duration": 1452,
    "start_time": "2023-03-23T13:20:05.079Z"
   },
   {
    "duration": 831,
    "start_time": "2023-03-23T13:20:06.534Z"
   },
   {
    "duration": 33,
    "start_time": "2023-03-23T13:20:07.367Z"
   },
   {
    "duration": 15,
    "start_time": "2023-03-23T13:20:07.402Z"
   },
   {
    "duration": 11,
    "start_time": "2023-03-23T13:20:07.419Z"
   },
   {
    "duration": 5,
    "start_time": "2023-03-23T13:20:07.432Z"
   },
   {
    "duration": 136080,
    "start_time": "2023-03-23T13:20:13.239Z"
   },
   {
    "duration": 4,
    "start_time": "2023-03-23T13:22:29.321Z"
   },
   {
    "duration": 563099,
    "start_time": "2023-03-23T13:22:29.327Z"
   },
   {
    "duration": 211,
    "start_time": "2023-03-23T13:31:52.428Z"
   },
   {
    "duration": 145,
    "start_time": "2023-03-23T13:34:21.701Z"
   },
   {
    "duration": 139,
    "start_time": "2023-03-23T13:34:58.318Z"
   },
   {
    "duration": 26,
    "start_time": "2023-03-23T13:34:58.581Z"
   },
   {
    "duration": 8,
    "start_time": "2023-03-23T13:34:58.851Z"
   },
   {
    "duration": 7,
    "start_time": "2023-03-23T13:35:31.027Z"
   },
   {
    "duration": 10,
    "start_time": "2023-03-23T13:35:31.317Z"
   },
   {
    "duration": 12,
    "start_time": "2023-03-23T13:35:55.913Z"
   },
   {
    "duration": 10,
    "start_time": "2023-03-23T13:35:56.164Z"
   },
   {
    "duration": 45,
    "start_time": "2023-03-23T13:38:57.292Z"
   },
   {
    "duration": 4,
    "start_time": "2023-03-23T13:38:58.763Z"
   },
   {
    "duration": 3,
    "start_time": "2023-03-23T13:38:59.248Z"
   },
   {
    "duration": 4,
    "start_time": "2023-03-23T13:39:02.028Z"
   },
   {
    "duration": 149,
    "start_time": "2023-03-23T13:39:10.268Z"
   },
   {
    "duration": 7560,
    "start_time": "2023-03-23T13:39:10.760Z"
   },
   {
    "duration": 6,
    "start_time": "2023-03-23T13:39:37.723Z"
   },
   {
    "duration": 498,
    "start_time": "2023-03-23T13:39:38.094Z"
   },
   {
    "duration": 141,
    "start_time": "2023-03-23T13:42:54.237Z"
   },
   {
    "duration": 1080222,
    "start_time": "2023-03-23T13:50:59.054Z"
   },
   {
    "duration": 4,
    "start_time": "2023-03-23T14:17:14.463Z"
   },
   {
    "duration": 4,
    "start_time": "2023-03-23T14:17:15.222Z"
   },
   {
    "duration": 7,
    "start_time": "2023-03-23T14:17:35.851Z"
   },
   {
    "duration": 11,
    "start_time": "2023-03-23T14:17:39.796Z"
   },
   {
    "duration": 6,
    "start_time": "2023-03-23T14:17:56.763Z"
   },
   {
    "duration": 14,
    "start_time": "2023-03-23T14:17:57.313Z"
   },
   {
    "duration": 1468,
    "start_time": "2023-03-23T14:19:12.569Z"
   },
   {
    "duration": 927,
    "start_time": "2023-03-23T14:19:14.039Z"
   },
   {
    "duration": 41,
    "start_time": "2023-03-23T14:19:14.969Z"
   },
   {
    "duration": 38,
    "start_time": "2023-03-23T14:19:15.013Z"
   },
   {
    "duration": 23,
    "start_time": "2023-03-23T14:19:15.053Z"
   },
   {
    "duration": 18,
    "start_time": "2023-03-23T14:19:15.078Z"
   },
   {
    "duration": 16,
    "start_time": "2023-03-23T14:19:15.098Z"
   },
   {
    "duration": 3,
    "start_time": "2023-03-23T14:19:15.195Z"
   },
   {
    "duration": 136095,
    "start_time": "2023-03-23T14:19:15.719Z"
   },
   {
    "duration": 3,
    "start_time": "2023-03-23T14:21:31.817Z"
   },
   {
    "duration": 569046,
    "start_time": "2023-03-23T14:21:31.823Z"
   },
   {
    "duration": 201,
    "start_time": "2023-03-23T14:31:00.871Z"
   },
   {
    "duration": 27,
    "start_time": "2023-03-23T14:31:01.074Z"
   },
   {
    "duration": 23,
    "start_time": "2023-03-23T14:31:01.104Z"
   },
   {
    "duration": 101,
    "start_time": "2023-03-23T14:31:01.129Z"
   },
   {
    "duration": 4,
    "start_time": "2023-03-23T14:31:01.232Z"
   },
   {
    "duration": 37,
    "start_time": "2023-03-23T14:31:01.238Z"
   },
   {
    "duration": 51,
    "start_time": "2023-03-23T14:31:01.278Z"
   },
   {
    "duration": 193,
    "start_time": "2023-03-23T14:31:01.331Z"
   },
   {
    "duration": 7011,
    "start_time": "2023-03-23T14:31:01.526Z"
   },
   {
    "duration": 15,
    "start_time": "2023-03-23T14:31:08.539Z"
   },
   {
    "duration": 293,
    "start_time": "2023-03-23T14:31:08.556Z"
   },
   {
    "duration": 1086913,
    "start_time": "2023-03-23T14:31:08.851Z"
   },
   {
    "duration": 6,
    "start_time": "2023-03-23T14:49:15.766Z"
   },
   {
    "duration": 7,
    "start_time": "2023-03-23T14:49:15.861Z"
   },
   {
    "duration": 13,
    "start_time": "2023-03-23T14:49:15.870Z"
   },
   {
    "duration": 12,
    "start_time": "2023-03-23T14:49:15.885Z"
   },
   {
    "duration": 6,
    "start_time": "2023-03-23T14:49:15.899Z"
   },
   {
    "duration": 13,
    "start_time": "2023-03-23T14:49:15.906Z"
   }
  ],
  "kernelspec": {
   "display_name": "Python 3 (ipykernel)",
   "language": "python",
   "name": "python3"
  },
  "language_info": {
   "codemirror_mode": {
    "name": "ipython",
    "version": 3
   },
   "file_extension": ".py",
   "mimetype": "text/x-python",
   "name": "python",
   "nbconvert_exporter": "python",
   "pygments_lexer": "ipython3",
   "version": "3.9.16"
  },
  "toc": {
   "base_numbering": 1,
   "nav_menu": {},
   "number_sections": true,
   "sideBar": true,
   "skip_h1_title": true,
   "title_cell": "Содержание",
   "title_sidebar": "Contents",
   "toc_cell": true,
   "toc_position": {
    "height": "calc(100% - 180px)",
    "left": "10px",
    "top": "150px",
    "width": "302.391px"
   },
   "toc_section_display": true,
   "toc_window_display": false
  }
 },
 "nbformat": 4,
 "nbformat_minor": 2
}
