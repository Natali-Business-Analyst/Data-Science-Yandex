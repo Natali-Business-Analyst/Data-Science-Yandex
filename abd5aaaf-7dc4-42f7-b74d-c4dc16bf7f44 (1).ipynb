{
 "cells": [
  {
   "cell_type": "markdown",
   "metadata": {
    "toc": true
   },
   "source": [
    "<h1>Содержание<span class=\"tocSkip\"></span></h1>\n",
    "<div class=\"toc\"><ul class=\"toc-item\"><li><span><a href=\"#Подготовка-данных\" data-toc-modified-id=\"Подготовка-данных-1\"><span class=\"toc-item-num\">1&nbsp;&nbsp;</span>Подготовка данных</a></span><ul class=\"toc-item\"><li><span><a href=\"#Вывод\" data-toc-modified-id=\"Вывод-1.1\"><span class=\"toc-item-num\">1.1&nbsp;&nbsp;</span>Вывод</a></span></li></ul></li><li><span><a href=\"#Исследование-задачи\" data-toc-modified-id=\"Исследование-задачи-2\"><span class=\"toc-item-num\">2&nbsp;&nbsp;</span>Исследование задачи</a></span><ul class=\"toc-item\"><li><span><a href=\"#Исследуем-баланс-классов\" data-toc-modified-id=\"Исследуем-баланс-классов-2.1\"><span class=\"toc-item-num\">2.1&nbsp;&nbsp;</span>Исследуем баланс классов</a></span></li><li><span><a href=\"#Обучение-моделей-без-учёта-дисбаланса\" data-toc-modified-id=\"Обучение-моделей-без-учёта-дисбаланса-2.2\"><span class=\"toc-item-num\">2.2&nbsp;&nbsp;</span>Обучение моделей без учёта дисбаланса</a></span><ul class=\"toc-item\"><li><span><a href=\"#Логистическая-регрессия\" data-toc-modified-id=\"Логистическая-регрессия-2.2.1\"><span class=\"toc-item-num\">2.2.1&nbsp;&nbsp;</span>Логистическая регрессия</a></span></li><li><span><a href=\"#Дерево-решений\" data-toc-modified-id=\"Дерево-решений-2.2.2\"><span class=\"toc-item-num\">2.2.2&nbsp;&nbsp;</span>Дерево решений</a></span></li><li><span><a href=\"#Случайный-лес\" data-toc-modified-id=\"Случайный-лес-2.2.3\"><span class=\"toc-item-num\">2.2.3&nbsp;&nbsp;</span>Случайный лес</a></span></li><li><span><a href=\"#Вывод-по-обучению-без-учета-дисбаланса:\" data-toc-modified-id=\"Вывод-по-обучению-без-учета-дисбаланса:-2.2.4\"><span class=\"toc-item-num\">2.2.4&nbsp;&nbsp;</span>Вывод по обучению без учета дисбаланса:</a></span></li></ul></li><li><span><a href=\"#Матрицы-ошибок\" data-toc-modified-id=\"Матрицы-ошибок-2.3\"><span class=\"toc-item-num\">2.3&nbsp;&nbsp;</span>Матрицы ошибок</a></span></li><li><span><a href=\"#Вывод-по-исследованию-задачи\" data-toc-modified-id=\"Вывод-по-исследованию-задачи-2.4\"><span class=\"toc-item-num\">2.4&nbsp;&nbsp;</span>Вывод по исследованию задачи</a></span></li></ul></li><li><span><a href=\"#Борьба-с-дисбалансом\" data-toc-modified-id=\"Борьба-с-дисбалансом-3\"><span class=\"toc-item-num\">3&nbsp;&nbsp;</span>Борьба с дисбалансом</a></span><ul class=\"toc-item\"><li><span><a href=\"#Логистическая-регрессия\" data-toc-modified-id=\"Логистическая-регрессия-3.1\"><span class=\"toc-item-num\">3.1&nbsp;&nbsp;</span>Логистическая регрессия</a></span><ul class=\"toc-item\"><li><span><a href=\"#Увеличиваем-выборки\" data-toc-modified-id=\"Увеличиваем-выборки-3.1.1\"><span class=\"toc-item-num\">3.1.1&nbsp;&nbsp;</span>Увеличиваем выборки</a></span></li><li><span><a href=\"#Уменьшаем-выборки\" data-toc-modified-id=\"Уменьшаем-выборки-3.1.2\"><span class=\"toc-item-num\">3.1.2&nbsp;&nbsp;</span>Уменьшаем выборки</a></span></li><li><span><a href=\"#Взвешиваем-классы\" data-toc-modified-id=\"Взвешиваем-классы-3.1.3\"><span class=\"toc-item-num\">3.1.3&nbsp;&nbsp;</span>Взвешиваем классы</a></span></li></ul></li><li><span><a href=\"#Дерево-решений\" data-toc-modified-id=\"Дерево-решений-3.2\"><span class=\"toc-item-num\">3.2&nbsp;&nbsp;</span>Дерево решений</a></span><ul class=\"toc-item\"><li><span><a href=\"#Увеличиваем-выборки\" data-toc-modified-id=\"Увеличиваем-выборки-3.2.1\"><span class=\"toc-item-num\">3.2.1&nbsp;&nbsp;</span>Увеличиваем выборки</a></span></li><li><span><a href=\"#Уменьшаем-выборки\" data-toc-modified-id=\"Уменьшаем-выборки-3.2.2\"><span class=\"toc-item-num\">3.2.2&nbsp;&nbsp;</span>Уменьшаем выборки</a></span></li><li><span><a href=\"#Взвешиваем-классы\" data-toc-modified-id=\"Взвешиваем-классы-3.2.3\"><span class=\"toc-item-num\">3.2.3&nbsp;&nbsp;</span>Взвешиваем классы</a></span></li></ul></li><li><span><a href=\"#Случайный-лес\" data-toc-modified-id=\"Случайный-лес-3.3\"><span class=\"toc-item-num\">3.3&nbsp;&nbsp;</span>Случайный лес</a></span><ul class=\"toc-item\"><li><span><a href=\"#Увеличиваем-выборки\" data-toc-modified-id=\"Увеличиваем-выборки-3.3.1\"><span class=\"toc-item-num\">3.3.1&nbsp;&nbsp;</span>Увеличиваем выборки</a></span></li><li><span><a href=\"#Уменьшаем-выборки\" data-toc-modified-id=\"Уменьшаем-выборки-3.3.2\"><span class=\"toc-item-num\">3.3.2&nbsp;&nbsp;</span>Уменьшаем выборки</a></span></li><li><span><a href=\"#Взвешиваем-классы\" data-toc-modified-id=\"Взвешиваем-классы-3.3.3\"><span class=\"toc-item-num\">3.3.3&nbsp;&nbsp;</span>Взвешиваем классы</a></span></li></ul></li><li><span><a href=\"#Вывод-по-борьбе-с-дисбалансом\" data-toc-modified-id=\"Вывод-по-борьбе-с-дисбалансом-3.4\"><span class=\"toc-item-num\">3.4&nbsp;&nbsp;</span>Вывод по борьбе с дисбалансом</a></span></li></ul></li><li><span><a href=\"#Тестирование-модели\" data-toc-modified-id=\"Тестирование-модели-4\"><span class=\"toc-item-num\">4&nbsp;&nbsp;</span>Тестирование модели</a></span><ul class=\"toc-item\"><li><span><a href=\"#Вывод-по-тестированию\" data-toc-modified-id=\"Вывод-по-тестированию-4.1\"><span class=\"toc-item-num\">4.1&nbsp;&nbsp;</span>Вывод по тестированию</a></span></li></ul></li><li><span><a href=\"#Общий-вывод\" data-toc-modified-id=\"Общий-вывод-5\"><span class=\"toc-item-num\">5&nbsp;&nbsp;</span>Общий вывод</a></span></li><li><span><a href=\"#Чек-лист-готовности-проекта\" data-toc-modified-id=\"Чек-лист-готовности-проекта-6\"><span class=\"toc-item-num\">6&nbsp;&nbsp;</span>Чек-лист готовности проекта</a></span></li><li><span><a href=\"#Финальные-комментарии-ревьюера\" data-toc-modified-id=\"Финальные-комментарии-ревьюера-7\"><span class=\"toc-item-num\">7&nbsp;&nbsp;</span>Финальные комментарии ревьюера</a></span></li></ul></div>"
   ]
  },
  {
   "cell_type": "markdown",
   "metadata": {},
   "source": [
    "# Отток клиентов"
   ]
  },
  {
   "cell_type": "markdown",
   "metadata": {},
   "source": [
    "Из «Бета-Банка» стали уходить клиенты. Каждый месяц. Немного, но заметно. Банковские маркетологи посчитали: сохранять текущих клиентов дешевле, чем привлекать новых.\n",
    "\n",
    "Нужно спрогнозировать, уйдёт клиент из банка в ближайшее время или нет. Вам предоставлены исторические данные о поведении клиентов и расторжении договоров с банком. \n",
    "\n",
    "Постройте модель с предельно большим значением *F1*-меры. Чтобы сдать проект успешно, нужно довести метрику до 0.59. Проверьте *F1*-меру на тестовой выборке самостоятельно.\n",
    "\n",
    "Дополнительно измеряйте *AUC-ROC*, сравнивайте её значение с *F1*-мерой.\n",
    "\n",
    "Источник данных: [https://www.kaggle.com/barelydedicated/bank-customer-churn-modeling](https://www.kaggle.com/barelydedicated/bank-customer-churn-modeling)"
   ]
  },
  {
   "cell_type": "markdown",
   "metadata": {},
   "source": [
    "## Подготовка данных"
   ]
  },
  {
   "cell_type": "code",
   "execution_count": 1,
   "metadata": {},
   "outputs": [],
   "source": [
    "import matplotlib.pyplot as plt\n",
    "import pandas as pd\n",
    "\n",
    "from sklearn.ensemble import RandomForestClassifier\n",
    "from sklearn.linear_model import LogisticRegression\n",
    "from sklearn.metrics import f1_score\n",
    "from sklearn.metrics import roc_auc_score\n",
    "from sklearn.metrics import roc_curve \n",
    "from sklearn.metrics import confusion_matrix\n",
    "from sklearn.model_selection import train_test_split\n",
    "from sklearn.preprocessing import StandardScaler\n",
    "from sklearn.tree import DecisionTreeClassifier, plot_tree\n",
    "from sklearn.utils import shuffle"
   ]
  },
  {
   "cell_type": "code",
   "execution_count": 2,
   "metadata": {},
   "outputs": [],
   "source": [
    "try:\n",
    "    data = pd.read_csv('/datasets/Churn.csv')\n",
    "except:\n",
    "    data = pd.read_csv('./datasets/Churn.csv')"
   ]
  },
  {
   "cell_type": "code",
   "execution_count": 3,
   "metadata": {},
   "outputs": [
    {
     "name": "stdout",
     "output_type": "stream",
     "text": [
      "<class 'pandas.core.frame.DataFrame'>\n",
      "RangeIndex: 10000 entries, 0 to 9999\n",
      "Data columns (total 14 columns):\n",
      " #   Column           Non-Null Count  Dtype  \n",
      "---  ------           --------------  -----  \n",
      " 0   RowNumber        10000 non-null  int64  \n",
      " 1   CustomerId       10000 non-null  int64  \n",
      " 2   Surname          10000 non-null  object \n",
      " 3   CreditScore      10000 non-null  int64  \n",
      " 4   Geography        10000 non-null  object \n",
      " 5   Gender           10000 non-null  object \n",
      " 6   Age              10000 non-null  int64  \n",
      " 7   Tenure           9091 non-null   float64\n",
      " 8   Balance          10000 non-null  float64\n",
      " 9   NumOfProducts    10000 non-null  int64  \n",
      " 10  HasCrCard        10000 non-null  int64  \n",
      " 11  IsActiveMember   10000 non-null  int64  \n",
      " 12  EstimatedSalary  10000 non-null  float64\n",
      " 13  Exited           10000 non-null  int64  \n",
      "dtypes: float64(3), int64(8), object(3)\n",
      "memory usage: 1.1+ MB\n"
     ]
    }
   ],
   "source": [
    "# check\n",
    "\n",
    "data.info()"
   ]
  },
  {
   "cell_type": "code",
   "execution_count": 4,
   "metadata": {},
   "outputs": [
    {
     "data": {
      "text/html": [
       "<div>\n",
       "<style scoped>\n",
       "    .dataframe tbody tr th:only-of-type {\n",
       "        vertical-align: middle;\n",
       "    }\n",
       "\n",
       "    .dataframe tbody tr th {\n",
       "        vertical-align: top;\n",
       "    }\n",
       "\n",
       "    .dataframe thead th {\n",
       "        text-align: right;\n",
       "    }\n",
       "</style>\n",
       "<table border=\"1\" class=\"dataframe\">\n",
       "  <thead>\n",
       "    <tr style=\"text-align: right;\">\n",
       "      <th></th>\n",
       "      <th>RowNumber</th>\n",
       "      <th>CustomerId</th>\n",
       "      <th>Surname</th>\n",
       "      <th>CreditScore</th>\n",
       "      <th>Geography</th>\n",
       "      <th>Gender</th>\n",
       "      <th>Age</th>\n",
       "      <th>Tenure</th>\n",
       "      <th>Balance</th>\n",
       "      <th>NumOfProducts</th>\n",
       "      <th>HasCrCard</th>\n",
       "      <th>IsActiveMember</th>\n",
       "      <th>EstimatedSalary</th>\n",
       "      <th>Exited</th>\n",
       "    </tr>\n",
       "  </thead>\n",
       "  <tbody>\n",
       "    <tr>\n",
       "      <th>0</th>\n",
       "      <td>1</td>\n",
       "      <td>15634602</td>\n",
       "      <td>Hargrave</td>\n",
       "      <td>619</td>\n",
       "      <td>France</td>\n",
       "      <td>Female</td>\n",
       "      <td>42</td>\n",
       "      <td>2.0</td>\n",
       "      <td>0.00</td>\n",
       "      <td>1</td>\n",
       "      <td>1</td>\n",
       "      <td>1</td>\n",
       "      <td>101348.88</td>\n",
       "      <td>1</td>\n",
       "    </tr>\n",
       "    <tr>\n",
       "      <th>1</th>\n",
       "      <td>2</td>\n",
       "      <td>15647311</td>\n",
       "      <td>Hill</td>\n",
       "      <td>608</td>\n",
       "      <td>Spain</td>\n",
       "      <td>Female</td>\n",
       "      <td>41</td>\n",
       "      <td>1.0</td>\n",
       "      <td>83807.86</td>\n",
       "      <td>1</td>\n",
       "      <td>0</td>\n",
       "      <td>1</td>\n",
       "      <td>112542.58</td>\n",
       "      <td>0</td>\n",
       "    </tr>\n",
       "    <tr>\n",
       "      <th>2</th>\n",
       "      <td>3</td>\n",
       "      <td>15619304</td>\n",
       "      <td>Onio</td>\n",
       "      <td>502</td>\n",
       "      <td>France</td>\n",
       "      <td>Female</td>\n",
       "      <td>42</td>\n",
       "      <td>8.0</td>\n",
       "      <td>159660.80</td>\n",
       "      <td>3</td>\n",
       "      <td>1</td>\n",
       "      <td>0</td>\n",
       "      <td>113931.57</td>\n",
       "      <td>1</td>\n",
       "    </tr>\n",
       "    <tr>\n",
       "      <th>3</th>\n",
       "      <td>4</td>\n",
       "      <td>15701354</td>\n",
       "      <td>Boni</td>\n",
       "      <td>699</td>\n",
       "      <td>France</td>\n",
       "      <td>Female</td>\n",
       "      <td>39</td>\n",
       "      <td>1.0</td>\n",
       "      <td>0.00</td>\n",
       "      <td>2</td>\n",
       "      <td>0</td>\n",
       "      <td>0</td>\n",
       "      <td>93826.63</td>\n",
       "      <td>0</td>\n",
       "    </tr>\n",
       "    <tr>\n",
       "      <th>4</th>\n",
       "      <td>5</td>\n",
       "      <td>15737888</td>\n",
       "      <td>Mitchell</td>\n",
       "      <td>850</td>\n",
       "      <td>Spain</td>\n",
       "      <td>Female</td>\n",
       "      <td>43</td>\n",
       "      <td>2.0</td>\n",
       "      <td>125510.82</td>\n",
       "      <td>1</td>\n",
       "      <td>1</td>\n",
       "      <td>1</td>\n",
       "      <td>79084.10</td>\n",
       "      <td>0</td>\n",
       "    </tr>\n",
       "    <tr>\n",
       "      <th>5</th>\n",
       "      <td>6</td>\n",
       "      <td>15574012</td>\n",
       "      <td>Chu</td>\n",
       "      <td>645</td>\n",
       "      <td>Spain</td>\n",
       "      <td>Male</td>\n",
       "      <td>44</td>\n",
       "      <td>8.0</td>\n",
       "      <td>113755.78</td>\n",
       "      <td>2</td>\n",
       "      <td>1</td>\n",
       "      <td>0</td>\n",
       "      <td>149756.71</td>\n",
       "      <td>1</td>\n",
       "    </tr>\n",
       "    <tr>\n",
       "      <th>6</th>\n",
       "      <td>7</td>\n",
       "      <td>15592531</td>\n",
       "      <td>Bartlett</td>\n",
       "      <td>822</td>\n",
       "      <td>France</td>\n",
       "      <td>Male</td>\n",
       "      <td>50</td>\n",
       "      <td>7.0</td>\n",
       "      <td>0.00</td>\n",
       "      <td>2</td>\n",
       "      <td>1</td>\n",
       "      <td>1</td>\n",
       "      <td>10062.80</td>\n",
       "      <td>0</td>\n",
       "    </tr>\n",
       "    <tr>\n",
       "      <th>7</th>\n",
       "      <td>8</td>\n",
       "      <td>15656148</td>\n",
       "      <td>Obinna</td>\n",
       "      <td>376</td>\n",
       "      <td>Germany</td>\n",
       "      <td>Female</td>\n",
       "      <td>29</td>\n",
       "      <td>4.0</td>\n",
       "      <td>115046.74</td>\n",
       "      <td>4</td>\n",
       "      <td>1</td>\n",
       "      <td>0</td>\n",
       "      <td>119346.88</td>\n",
       "      <td>1</td>\n",
       "    </tr>\n",
       "    <tr>\n",
       "      <th>8</th>\n",
       "      <td>9</td>\n",
       "      <td>15792365</td>\n",
       "      <td>He</td>\n",
       "      <td>501</td>\n",
       "      <td>France</td>\n",
       "      <td>Male</td>\n",
       "      <td>44</td>\n",
       "      <td>4.0</td>\n",
       "      <td>142051.07</td>\n",
       "      <td>2</td>\n",
       "      <td>0</td>\n",
       "      <td>1</td>\n",
       "      <td>74940.50</td>\n",
       "      <td>0</td>\n",
       "    </tr>\n",
       "    <tr>\n",
       "      <th>9</th>\n",
       "      <td>10</td>\n",
       "      <td>15592389</td>\n",
       "      <td>H?</td>\n",
       "      <td>684</td>\n",
       "      <td>France</td>\n",
       "      <td>Male</td>\n",
       "      <td>27</td>\n",
       "      <td>2.0</td>\n",
       "      <td>134603.88</td>\n",
       "      <td>1</td>\n",
       "      <td>1</td>\n",
       "      <td>1</td>\n",
       "      <td>71725.73</td>\n",
       "      <td>0</td>\n",
       "    </tr>\n",
       "  </tbody>\n",
       "</table>\n",
       "</div>"
      ],
      "text/plain": [
       "   RowNumber  CustomerId   Surname  CreditScore Geography  Gender  Age  \\\n",
       "0          1    15634602  Hargrave          619    France  Female   42   \n",
       "1          2    15647311      Hill          608     Spain  Female   41   \n",
       "2          3    15619304      Onio          502    France  Female   42   \n",
       "3          4    15701354      Boni          699    France  Female   39   \n",
       "4          5    15737888  Mitchell          850     Spain  Female   43   \n",
       "5          6    15574012       Chu          645     Spain    Male   44   \n",
       "6          7    15592531  Bartlett          822    France    Male   50   \n",
       "7          8    15656148    Obinna          376   Germany  Female   29   \n",
       "8          9    15792365        He          501    France    Male   44   \n",
       "9         10    15592389        H?          684    France    Male   27   \n",
       "\n",
       "   Tenure    Balance  NumOfProducts  HasCrCard  IsActiveMember  \\\n",
       "0     2.0       0.00              1          1               1   \n",
       "1     1.0   83807.86              1          0               1   \n",
       "2     8.0  159660.80              3          1               0   \n",
       "3     1.0       0.00              2          0               0   \n",
       "4     2.0  125510.82              1          1               1   \n",
       "5     8.0  113755.78              2          1               0   \n",
       "6     7.0       0.00              2          1               1   \n",
       "7     4.0  115046.74              4          1               0   \n",
       "8     4.0  142051.07              2          0               1   \n",
       "9     2.0  134603.88              1          1               1   \n",
       "\n",
       "   EstimatedSalary  Exited  \n",
       "0        101348.88       1  \n",
       "1        112542.58       0  \n",
       "2        113931.57       1  \n",
       "3         93826.63       0  \n",
       "4         79084.10       0  \n",
       "5        149756.71       1  \n",
       "6         10062.80       0  \n",
       "7        119346.88       1  \n",
       "8         74940.50       0  \n",
       "9         71725.73       0  "
      ]
     },
     "execution_count": 4,
     "metadata": {},
     "output_type": "execute_result"
    }
   ],
   "source": [
    "# check\n",
    "\n",
    "data.head(10)"
   ]
  },
  {
   "cell_type": "code",
   "execution_count": 5,
   "metadata": {},
   "outputs": [
    {
     "data": {
      "text/html": [
       "<div>\n",
       "<style scoped>\n",
       "    .dataframe tbody tr th:only-of-type {\n",
       "        vertical-align: middle;\n",
       "    }\n",
       "\n",
       "    .dataframe tbody tr th {\n",
       "        vertical-align: top;\n",
       "    }\n",
       "\n",
       "    .dataframe thead th {\n",
       "        text-align: right;\n",
       "    }\n",
       "</style>\n",
       "<table border=\"1\" class=\"dataframe\">\n",
       "  <thead>\n",
       "    <tr style=\"text-align: right;\">\n",
       "      <th></th>\n",
       "      <th>RowNumber</th>\n",
       "      <th>CustomerId</th>\n",
       "      <th>CreditScore</th>\n",
       "      <th>Age</th>\n",
       "      <th>Tenure</th>\n",
       "      <th>Balance</th>\n",
       "      <th>NumOfProducts</th>\n",
       "      <th>HasCrCard</th>\n",
       "      <th>IsActiveMember</th>\n",
       "      <th>EstimatedSalary</th>\n",
       "      <th>Exited</th>\n",
       "    </tr>\n",
       "  </thead>\n",
       "  <tbody>\n",
       "    <tr>\n",
       "      <th>count</th>\n",
       "      <td>10000.00000</td>\n",
       "      <td>1.000000e+04</td>\n",
       "      <td>10000.000000</td>\n",
       "      <td>10000.000000</td>\n",
       "      <td>9091.000000</td>\n",
       "      <td>10000.000000</td>\n",
       "      <td>10000.000000</td>\n",
       "      <td>10000.00000</td>\n",
       "      <td>10000.000000</td>\n",
       "      <td>10000.000000</td>\n",
       "      <td>10000.000000</td>\n",
       "    </tr>\n",
       "    <tr>\n",
       "      <th>mean</th>\n",
       "      <td>5000.50000</td>\n",
       "      <td>1.569094e+07</td>\n",
       "      <td>650.528800</td>\n",
       "      <td>38.921800</td>\n",
       "      <td>4.997690</td>\n",
       "      <td>76485.889288</td>\n",
       "      <td>1.530200</td>\n",
       "      <td>0.70550</td>\n",
       "      <td>0.515100</td>\n",
       "      <td>100090.239881</td>\n",
       "      <td>0.203700</td>\n",
       "    </tr>\n",
       "    <tr>\n",
       "      <th>std</th>\n",
       "      <td>2886.89568</td>\n",
       "      <td>7.193619e+04</td>\n",
       "      <td>96.653299</td>\n",
       "      <td>10.487806</td>\n",
       "      <td>2.894723</td>\n",
       "      <td>62397.405202</td>\n",
       "      <td>0.581654</td>\n",
       "      <td>0.45584</td>\n",
       "      <td>0.499797</td>\n",
       "      <td>57510.492818</td>\n",
       "      <td>0.402769</td>\n",
       "    </tr>\n",
       "    <tr>\n",
       "      <th>min</th>\n",
       "      <td>1.00000</td>\n",
       "      <td>1.556570e+07</td>\n",
       "      <td>350.000000</td>\n",
       "      <td>18.000000</td>\n",
       "      <td>0.000000</td>\n",
       "      <td>0.000000</td>\n",
       "      <td>1.000000</td>\n",
       "      <td>0.00000</td>\n",
       "      <td>0.000000</td>\n",
       "      <td>11.580000</td>\n",
       "      <td>0.000000</td>\n",
       "    </tr>\n",
       "    <tr>\n",
       "      <th>25%</th>\n",
       "      <td>2500.75000</td>\n",
       "      <td>1.562853e+07</td>\n",
       "      <td>584.000000</td>\n",
       "      <td>32.000000</td>\n",
       "      <td>2.000000</td>\n",
       "      <td>0.000000</td>\n",
       "      <td>1.000000</td>\n",
       "      <td>0.00000</td>\n",
       "      <td>0.000000</td>\n",
       "      <td>51002.110000</td>\n",
       "      <td>0.000000</td>\n",
       "    </tr>\n",
       "    <tr>\n",
       "      <th>50%</th>\n",
       "      <td>5000.50000</td>\n",
       "      <td>1.569074e+07</td>\n",
       "      <td>652.000000</td>\n",
       "      <td>37.000000</td>\n",
       "      <td>5.000000</td>\n",
       "      <td>97198.540000</td>\n",
       "      <td>1.000000</td>\n",
       "      <td>1.00000</td>\n",
       "      <td>1.000000</td>\n",
       "      <td>100193.915000</td>\n",
       "      <td>0.000000</td>\n",
       "    </tr>\n",
       "    <tr>\n",
       "      <th>75%</th>\n",
       "      <td>7500.25000</td>\n",
       "      <td>1.575323e+07</td>\n",
       "      <td>718.000000</td>\n",
       "      <td>44.000000</td>\n",
       "      <td>7.000000</td>\n",
       "      <td>127644.240000</td>\n",
       "      <td>2.000000</td>\n",
       "      <td>1.00000</td>\n",
       "      <td>1.000000</td>\n",
       "      <td>149388.247500</td>\n",
       "      <td>0.000000</td>\n",
       "    </tr>\n",
       "    <tr>\n",
       "      <th>max</th>\n",
       "      <td>10000.00000</td>\n",
       "      <td>1.581569e+07</td>\n",
       "      <td>850.000000</td>\n",
       "      <td>92.000000</td>\n",
       "      <td>10.000000</td>\n",
       "      <td>250898.090000</td>\n",
       "      <td>4.000000</td>\n",
       "      <td>1.00000</td>\n",
       "      <td>1.000000</td>\n",
       "      <td>199992.480000</td>\n",
       "      <td>1.000000</td>\n",
       "    </tr>\n",
       "  </tbody>\n",
       "</table>\n",
       "</div>"
      ],
      "text/plain": [
       "         RowNumber    CustomerId   CreditScore           Age       Tenure  \\\n",
       "count  10000.00000  1.000000e+04  10000.000000  10000.000000  9091.000000   \n",
       "mean    5000.50000  1.569094e+07    650.528800     38.921800     4.997690   \n",
       "std     2886.89568  7.193619e+04     96.653299     10.487806     2.894723   \n",
       "min        1.00000  1.556570e+07    350.000000     18.000000     0.000000   \n",
       "25%     2500.75000  1.562853e+07    584.000000     32.000000     2.000000   \n",
       "50%     5000.50000  1.569074e+07    652.000000     37.000000     5.000000   \n",
       "75%     7500.25000  1.575323e+07    718.000000     44.000000     7.000000   \n",
       "max    10000.00000  1.581569e+07    850.000000     92.000000    10.000000   \n",
       "\n",
       "             Balance  NumOfProducts    HasCrCard  IsActiveMember  \\\n",
       "count   10000.000000   10000.000000  10000.00000    10000.000000   \n",
       "mean    76485.889288       1.530200      0.70550        0.515100   \n",
       "std     62397.405202       0.581654      0.45584        0.499797   \n",
       "min         0.000000       1.000000      0.00000        0.000000   \n",
       "25%         0.000000       1.000000      0.00000        0.000000   \n",
       "50%     97198.540000       1.000000      1.00000        1.000000   \n",
       "75%    127644.240000       2.000000      1.00000        1.000000   \n",
       "max    250898.090000       4.000000      1.00000        1.000000   \n",
       "\n",
       "       EstimatedSalary        Exited  \n",
       "count     10000.000000  10000.000000  \n",
       "mean     100090.239881      0.203700  \n",
       "std       57510.492818      0.402769  \n",
       "min          11.580000      0.000000  \n",
       "25%       51002.110000      0.000000  \n",
       "50%      100193.915000      0.000000  \n",
       "75%      149388.247500      0.000000  \n",
       "max      199992.480000      1.000000  "
      ]
     },
     "execution_count": 5,
     "metadata": {},
     "output_type": "execute_result"
    }
   ],
   "source": [
    "# check\n",
    "\n",
    "data.describe()"
   ]
  },
  {
   "cell_type": "code",
   "execution_count": 6,
   "metadata": {},
   "outputs": [],
   "source": [
    "# Удаляем неважные признаки\n",
    "\n",
    "data = data.drop(columns=['RowNumber', 'Surname', 'CustomerId'])"
   ]
  },
  {
   "cell_type": "code",
   "execution_count": 7,
   "metadata": {},
   "outputs": [
    {
     "name": "stdout",
     "output_type": "stream",
     "text": [
      "<class 'pandas.core.frame.DataFrame'>\n",
      "RangeIndex: 10000 entries, 0 to 9999\n",
      "Data columns (total 11 columns):\n",
      " #   Column           Non-Null Count  Dtype  \n",
      "---  ------           --------------  -----  \n",
      " 0   CreditScore      10000 non-null  int64  \n",
      " 1   Geography        10000 non-null  object \n",
      " 2   Gender           10000 non-null  object \n",
      " 3   Age              10000 non-null  int64  \n",
      " 4   Tenure           9091 non-null   float64\n",
      " 5   Balance          10000 non-null  float64\n",
      " 6   NumOfProducts    10000 non-null  int64  \n",
      " 7   HasCrCard        10000 non-null  int64  \n",
      " 8   IsActiveMember   10000 non-null  int64  \n",
      " 9   EstimatedSalary  10000 non-null  float64\n",
      " 10  Exited           10000 non-null  int64  \n",
      "dtypes: float64(3), int64(6), object(2)\n",
      "memory usage: 859.5+ KB\n"
     ]
    }
   ],
   "source": [
    "# check\n",
    "\n",
    "data.info()"
   ]
  },
  {
   "cell_type": "code",
   "execution_count": 8,
   "metadata": {},
   "outputs": [
    {
     "name": "stdout",
     "output_type": "stream",
     "text": [
      "CreditScore          int64\n",
      "Geography           object\n",
      "Gender              object\n",
      "Age                  int64\n",
      "Tenure             float64\n",
      "Balance            float64\n",
      "NumOfProducts        int64\n",
      "HasCrCard            int64\n",
      "IsActiveMember       int64\n",
      "EstimatedSalary    float64\n",
      "Exited               int64\n",
      "dtype: object\n",
      "0    1\n",
      "1    0\n",
      "2    1\n",
      "3    0\n",
      "4    0\n",
      "Name: Exited, dtype: int64\n"
     ]
    }
   ],
   "source": [
    "# Проверяем, признаки какого типа хранятся в таблице\n",
    "\n",
    "print(data.dtypes)\n",
    "print(data['Exited'].head(5))"
   ]
  },
  {
   "cell_type": "code",
   "execution_count": 9,
   "metadata": {},
   "outputs": [],
   "source": [
    "# Преобразуем категориальные признаки в численные\n",
    "\n",
    "data_ohe = pd.get_dummies(data, drop_first=True)"
   ]
  },
  {
   "cell_type": "code",
   "execution_count": 10,
   "metadata": {},
   "outputs": [],
   "source": [
    "# заполняем наны\n",
    "\n",
    "data_ohe = data_ohe.fillna(0)"
   ]
  },
  {
   "cell_type": "code",
   "execution_count": 11,
   "metadata": {},
   "outputs": [],
   "source": [
    "# Делим на выборки\n",
    "\n",
    "target = data_ohe['Exited']\n",
    "features = data_ohe.drop(['Exited'] , axis=1)\n",
    "\n",
    "features_train, features_test, target_train, target_test = train_test_split(\n",
    "    features, \n",
    "    target, \n",
    "    train_size=0.6, \n",
    "    random_state=12345, \n",
    "    stratify=target\n",
    ")\n",
    "\n",
    "features_test, features_valid, target_test, target_valid = train_test_split(\n",
    "    features_test, \n",
    "    target_test, \n",
    "    train_size=0.5, \n",
    "    random_state=12345, \n",
    "    stratify=target_test\n",
    ")"
   ]
  },
  {
   "cell_type": "code",
   "execution_count": 12,
   "metadata": {},
   "outputs": [
    {
     "name": "stderr",
     "output_type": "stream",
     "text": [
      "/tmp/ipykernel_6744/901615535.py:8: SettingWithCopyWarning: \n",
      "A value is trying to be set on a copy of a slice from a DataFrame.\n",
      "Try using .loc[row_indexer,col_indexer] = value instead\n",
      "\n",
      "See the caveats in the documentation: https://pandas.pydata.org/pandas-docs/stable/user_guide/indexing.html#returning-a-view-versus-a-copy\n",
      "  features_train[numeric] = scaler.transform(features_train[numeric])\n",
      "/opt/conda/lib/python3.9/site-packages/pandas/core/indexing.py:1738: SettingWithCopyWarning: \n",
      "A value is trying to be set on a copy of a slice from a DataFrame.\n",
      "Try using .loc[row_indexer,col_indexer] = value instead\n",
      "\n",
      "See the caveats in the documentation: https://pandas.pydata.org/pandas-docs/stable/user_guide/indexing.html#returning-a-view-versus-a-copy\n",
      "  self._setitem_single_column(loc, value[:, i].tolist(), pi)\n"
     ]
    }
   ],
   "source": [
    "# Выполняем масштабирование\n",
    "\n",
    "numeric = ['CreditScore', 'Age', 'Tenure', 'Balance', 'NumOfProducts', 'EstimatedSalary']\n",
    "\n",
    "scaler = StandardScaler()\n",
    "scaler.fit(features_train[numeric])\n",
    "\n",
    "features_train[numeric] = scaler.transform(features_train[numeric])\n",
    "features_valid[numeric] = scaler.transform(features_valid[numeric])\n",
    "features_test[numeric] = scaler.transform(features_test[numeric])\n",
    "\n",
    "pd.options.mode.chained_assignment = None"
   ]
  },
  {
   "cell_type": "code",
   "execution_count": 13,
   "metadata": {},
   "outputs": [
    {
     "data": {
      "text/plain": [
       "(6000, 11)"
      ]
     },
     "execution_count": 13,
     "metadata": {},
     "output_type": "execute_result"
    }
   ],
   "source": [
    "# check\n",
    "\n",
    "features_train.shape"
   ]
  },
  {
   "cell_type": "code",
   "execution_count": 14,
   "metadata": {},
   "outputs": [
    {
     "data": {
      "text/plain": [
       "(6000,)"
      ]
     },
     "execution_count": 14,
     "metadata": {},
     "output_type": "execute_result"
    }
   ],
   "source": [
    "target_train.shape"
   ]
  },
  {
   "cell_type": "code",
   "execution_count": 15,
   "metadata": {},
   "outputs": [
    {
     "data": {
      "text/plain": [
       "(2000, 11)"
      ]
     },
     "execution_count": 15,
     "metadata": {},
     "output_type": "execute_result"
    }
   ],
   "source": [
    "features_valid.shape"
   ]
  },
  {
   "cell_type": "code",
   "execution_count": 16,
   "metadata": {},
   "outputs": [
    {
     "data": {
      "text/plain": [
       "(2000,)"
      ]
     },
     "execution_count": 16,
     "metadata": {},
     "output_type": "execute_result"
    }
   ],
   "source": [
    "target_valid.shape"
   ]
  },
  {
   "cell_type": "code",
   "execution_count": 17,
   "metadata": {},
   "outputs": [
    {
     "data": {
      "text/plain": [
       "(2000, 11)"
      ]
     },
     "execution_count": 17,
     "metadata": {},
     "output_type": "execute_result"
    }
   ],
   "source": [
    "features_test.shape"
   ]
  },
  {
   "cell_type": "code",
   "execution_count": 18,
   "metadata": {},
   "outputs": [
    {
     "data": {
      "text/plain": [
       "(2000,)"
      ]
     },
     "execution_count": 18,
     "metadata": {},
     "output_type": "execute_result"
    }
   ],
   "source": [
    "target_test.shape"
   ]
  },
  {
   "cell_type": "code",
   "execution_count": 19,
   "metadata": {
    "scrolled": false
   },
   "outputs": [
    {
     "data": {
      "text/html": [
       "<div>\n",
       "<style scoped>\n",
       "    .dataframe tbody tr th:only-of-type {\n",
       "        vertical-align: middle;\n",
       "    }\n",
       "\n",
       "    .dataframe tbody tr th {\n",
       "        vertical-align: top;\n",
       "    }\n",
       "\n",
       "    .dataframe thead th {\n",
       "        text-align: right;\n",
       "    }\n",
       "</style>\n",
       "<table border=\"1\" class=\"dataframe\">\n",
       "  <thead>\n",
       "    <tr style=\"text-align: right;\">\n",
       "      <th></th>\n",
       "      <th>CreditScore</th>\n",
       "      <th>Age</th>\n",
       "      <th>Tenure</th>\n",
       "      <th>Balance</th>\n",
       "      <th>NumOfProducts</th>\n",
       "      <th>HasCrCard</th>\n",
       "      <th>IsActiveMember</th>\n",
       "      <th>EstimatedSalary</th>\n",
       "      <th>Geography_Germany</th>\n",
       "      <th>Geography_Spain</th>\n",
       "      <th>Gender_Male</th>\n",
       "    </tr>\n",
       "  </thead>\n",
       "  <tbody>\n",
       "    <tr>\n",
       "      <th>2837</th>\n",
       "      <td>-1.040434</td>\n",
       "      <td>0.953312</td>\n",
       "      <td>0.467449</td>\n",
       "      <td>0.774657</td>\n",
       "      <td>-0.914708</td>\n",
       "      <td>0</td>\n",
       "      <td>1</td>\n",
       "      <td>-0.119110</td>\n",
       "      <td>1</td>\n",
       "      <td>0</td>\n",
       "      <td>0</td>\n",
       "    </tr>\n",
       "    <tr>\n",
       "      <th>9925</th>\n",
       "      <td>0.454006</td>\n",
       "      <td>-0.095244</td>\n",
       "      <td>-1.461501</td>\n",
       "      <td>1.910540</td>\n",
       "      <td>-0.914708</td>\n",
       "      <td>1</td>\n",
       "      <td>1</td>\n",
       "      <td>-0.258658</td>\n",
       "      <td>0</td>\n",
       "      <td>0</td>\n",
       "      <td>0</td>\n",
       "    </tr>\n",
       "    <tr>\n",
       "      <th>8746</th>\n",
       "      <td>0.103585</td>\n",
       "      <td>-0.476537</td>\n",
       "      <td>1.110432</td>\n",
       "      <td>0.481608</td>\n",
       "      <td>0.820981</td>\n",
       "      <td>0</td>\n",
       "      <td>1</td>\n",
       "      <td>1.422836</td>\n",
       "      <td>0</td>\n",
       "      <td>0</td>\n",
       "      <td>1</td>\n",
       "    </tr>\n",
       "    <tr>\n",
       "      <th>660</th>\n",
       "      <td>-0.184996</td>\n",
       "      <td>0.190726</td>\n",
       "      <td>-1.461501</td>\n",
       "      <td>0.088439</td>\n",
       "      <td>-0.914708</td>\n",
       "      <td>1</td>\n",
       "      <td>1</td>\n",
       "      <td>-1.160427</td>\n",
       "      <td>1</td>\n",
       "      <td>0</td>\n",
       "      <td>0</td>\n",
       "    </tr>\n",
       "    <tr>\n",
       "      <th>3610</th>\n",
       "      <td>-0.720933</td>\n",
       "      <td>1.620574</td>\n",
       "      <td>-1.140009</td>\n",
       "      <td>0.879129</td>\n",
       "      <td>-0.914708</td>\n",
       "      <td>1</td>\n",
       "      <td>0</td>\n",
       "      <td>0.113236</td>\n",
       "      <td>0</td>\n",
       "      <td>0</td>\n",
       "      <td>0</td>\n",
       "    </tr>\n",
       "    <tr>\n",
       "      <th>...</th>\n",
       "      <td>...</td>\n",
       "      <td>...</td>\n",
       "      <td>...</td>\n",
       "      <td>...</td>\n",
       "      <td>...</td>\n",
       "      <td>...</td>\n",
       "      <td>...</td>\n",
       "      <td>...</td>\n",
       "      <td>...</td>\n",
       "      <td>...</td>\n",
       "      <td>...</td>\n",
       "    </tr>\n",
       "    <tr>\n",
       "      <th>6172</th>\n",
       "      <td>-0.844611</td>\n",
       "      <td>0.381372</td>\n",
       "      <td>0.145957</td>\n",
       "      <td>0.180068</td>\n",
       "      <td>4.292357</td>\n",
       "      <td>1</td>\n",
       "      <td>1</td>\n",
       "      <td>0.117350</td>\n",
       "      <td>1</td>\n",
       "      <td>0</td>\n",
       "      <td>1</td>\n",
       "    </tr>\n",
       "    <tr>\n",
       "      <th>2360</th>\n",
       "      <td>-1.359935</td>\n",
       "      <td>0.190726</td>\n",
       "      <td>0.145957</td>\n",
       "      <td>0.547724</td>\n",
       "      <td>-0.914708</td>\n",
       "      <td>1</td>\n",
       "      <td>0</td>\n",
       "      <td>-0.192524</td>\n",
       "      <td>1</td>\n",
       "      <td>0</td>\n",
       "      <td>0</td>\n",
       "    </tr>\n",
       "    <tr>\n",
       "      <th>4499</th>\n",
       "      <td>-1.174418</td>\n",
       "      <td>0.476696</td>\n",
       "      <td>-0.175534</td>\n",
       "      <td>0.727840</td>\n",
       "      <td>-0.914708</td>\n",
       "      <td>0</td>\n",
       "      <td>0</td>\n",
       "      <td>0.531933</td>\n",
       "      <td>1</td>\n",
       "      <td>0</td>\n",
       "      <td>0</td>\n",
       "    </tr>\n",
       "    <tr>\n",
       "      <th>9162</th>\n",
       "      <td>0.155118</td>\n",
       "      <td>2.287837</td>\n",
       "      <td>-1.461501</td>\n",
       "      <td>0.449382</td>\n",
       "      <td>-0.914708</td>\n",
       "      <td>1</td>\n",
       "      <td>1</td>\n",
       "      <td>-1.307769</td>\n",
       "      <td>1</td>\n",
       "      <td>0</td>\n",
       "      <td>1</td>\n",
       "    </tr>\n",
       "    <tr>\n",
       "      <th>700</th>\n",
       "      <td>1.031168</td>\n",
       "      <td>-0.667183</td>\n",
       "      <td>0.145957</td>\n",
       "      <td>-1.219673</td>\n",
       "      <td>0.820981</td>\n",
       "      <td>1</td>\n",
       "      <td>0</td>\n",
       "      <td>-0.083302</td>\n",
       "      <td>0</td>\n",
       "      <td>0</td>\n",
       "      <td>0</td>\n",
       "    </tr>\n",
       "  </tbody>\n",
       "</table>\n",
       "<p>6000 rows × 11 columns</p>\n",
       "</div>"
      ],
      "text/plain": [
       "      CreditScore       Age    Tenure   Balance  NumOfProducts  HasCrCard  \\\n",
       "2837    -1.040434  0.953312  0.467449  0.774657      -0.914708          0   \n",
       "9925     0.454006 -0.095244 -1.461501  1.910540      -0.914708          1   \n",
       "8746     0.103585 -0.476537  1.110432  0.481608       0.820981          0   \n",
       "660     -0.184996  0.190726 -1.461501  0.088439      -0.914708          1   \n",
       "3610    -0.720933  1.620574 -1.140009  0.879129      -0.914708          1   \n",
       "...           ...       ...       ...       ...            ...        ...   \n",
       "6172    -0.844611  0.381372  0.145957  0.180068       4.292357          1   \n",
       "2360    -1.359935  0.190726  0.145957  0.547724      -0.914708          1   \n",
       "4499    -1.174418  0.476696 -0.175534  0.727840      -0.914708          0   \n",
       "9162     0.155118  2.287837 -1.461501  0.449382      -0.914708          1   \n",
       "700      1.031168 -0.667183  0.145957 -1.219673       0.820981          1   \n",
       "\n",
       "      IsActiveMember  EstimatedSalary  Geography_Germany  Geography_Spain  \\\n",
       "2837               1        -0.119110                  1                0   \n",
       "9925               1        -0.258658                  0                0   \n",
       "8746               1         1.422836                  0                0   \n",
       "660                1        -1.160427                  1                0   \n",
       "3610               0         0.113236                  0                0   \n",
       "...              ...              ...                ...              ...   \n",
       "6172               1         0.117350                  1                0   \n",
       "2360               0        -0.192524                  1                0   \n",
       "4499               0         0.531933                  1                0   \n",
       "9162               1        -1.307769                  1                0   \n",
       "700                0        -0.083302                  0                0   \n",
       "\n",
       "      Gender_Male  \n",
       "2837            0  \n",
       "9925            0  \n",
       "8746            1  \n",
       "660             0  \n",
       "3610            0  \n",
       "...           ...  \n",
       "6172            1  \n",
       "2360            0  \n",
       "4499            0  \n",
       "9162            1  \n",
       "700             0  \n",
       "\n",
       "[6000 rows x 11 columns]"
      ]
     },
     "execution_count": 19,
     "metadata": {},
     "output_type": "execute_result"
    }
   ],
   "source": [
    "features_train"
   ]
  },
  {
   "cell_type": "markdown",
   "metadata": {},
   "source": [
    "### Вывод\n",
    "\n",
    "Произвела подготовку данных:\n",
    "- Проверила полноту данных, \n",
    "- проверила типы признаков, \n",
    "- преобразовала категориальные признаки в численные,\n",
    "- заполнила пропуски нулем\n",
    "- отсеила ненужные признаки (номер строки и фамилию), \n",
    "- разделила на 3 выборки в соотношении 3:1:1, \n",
    "- произвела масштабирование выборок"
   ]
  },
  {
   "cell_type": "markdown",
   "metadata": {},
   "source": [
    "## Исследование задачи"
   ]
  },
  {
   "cell_type": "markdown",
   "metadata": {},
   "source": [
    "### Исследуем баланс классов"
   ]
  },
  {
   "cell_type": "code",
   "execution_count": 20,
   "metadata": {},
   "outputs": [],
   "source": [
    "class_frequency = data_ohe['Exited'].value_counts(normalize=True)"
   ]
  },
  {
   "cell_type": "code",
   "execution_count": 21,
   "metadata": {},
   "outputs": [
    {
     "data": {
      "text/plain": [
       "0    0.7963\n",
       "1    0.2037\n",
       "Name: Exited, dtype: float64"
      ]
     },
     "execution_count": 21,
     "metadata": {},
     "output_type": "execute_result"
    }
   ],
   "source": [
    "class_frequency"
   ]
  },
  {
   "cell_type": "code",
   "execution_count": 22,
   "metadata": {},
   "outputs": [
    {
     "data": {
      "image/png": "[encoded data removed]",
      "text/plain": [
       "<Figure size 432x288 with 1 Axes>"
      ]
     },
     "metadata": {
      "needs_background": "light"
     },
     "output_type": "display_data"
    }
   ],
   "source": [
    "class_frequency.plot(kind='bar');"
   ]
  },
  {
   "cell_type": "markdown",
   "metadata": {},
   "source": [
    "Отрицательные ответы приобладают. В соотношении 80/20"
   ]
  },
  {
   "cell_type": "markdown",
   "metadata": {},
   "source": [
    "### Обучение моделей без учёта дисбаланса"
   ]
  },
  {
   "cell_type": "markdown",
   "metadata": {},
   "source": [
    "#### Логистическая регрессия"
   ]
  },
  {
   "cell_type": "code",
   "execution_count": 23,
   "metadata": {},
   "outputs": [
    {
     "name": "stdout",
     "output_type": "stream",
     "text": [
      "0.2932330827067669\n"
     ]
    }
   ],
   "source": [
    "# обучение логистической регрессии без учета дисбаланса\n",
    "\n",
    "model_logreg = LogisticRegression(random_state=12345, solver='liblinear', max_iter=1000)\n",
    "model_logreg.fit(features_train, target_train)\n",
    "predicted_valid_logreg = model_logreg.predict(features_valid)\n",
    "\n",
    "print(f1_score(target_valid, predicted_valid_logreg))"
   ]
  },
  {
   "cell_type": "code",
   "execution_count": 24,
   "metadata": {},
   "outputs": [
    {
     "data": {
      "image/png": "[encoded data removed]",
      "text/plain": [
       "<Figure size 432x288 with 1 Axes>"
      ]
     },
     "metadata": {
      "needs_background": "light"
     },
     "output_type": "display_data"
    }
   ],
   "source": [
    "# ROC - кривая\n",
    "\n",
    "probabilities_valid = model_logreg.predict_proba(features_valid)\n",
    "probabilities_one_valid = probabilities_valid[:, 1]\n",
    "\n",
    "fpr, tpr, thresholds = roc_curve(target_valid, probabilities_one_valid) \n",
    "\n",
    "plt.figure()\n",
    "plt.plot(fpr, tpr)\n",
    "plt.xlim([0.0, 1.0])\n",
    "plt.ylim([0.0, 1.0])\n",
    "plt.xlabel('False Positive Rate')\n",
    "plt.ylabel('True Positive Rate')\n",
    "plt.title('ROC-кривая логистической регрессии')\n",
    "plt.show() "
   ]
  },
  {
   "cell_type": "code",
   "execution_count": 25,
   "metadata": {},
   "outputs": [
    {
     "name": "stdout",
     "output_type": "stream",
     "text": [
      "0.750337394405191\n"
     ]
    }
   ],
   "source": [
    "# AUC - ROC\n",
    "\n",
    "auc_roc = roc_auc_score(target_valid, probabilities_one_valid)\n",
    "\n",
    "print(auc_roc)"
   ]
  },
  {
   "cell_type": "markdown",
   "metadata": {},
   "source": [
    "F1 мера равна 0.29, ROC - кривая чуть выше кривой случайной модели и площадь под ней чуть выше. Логистическая модель показывает очень низкий результат. "
   ]
  },
  {
   "cell_type": "markdown",
   "metadata": {},
   "source": [
    "#### Дерево решений"
   ]
  },
  {
   "cell_type": "code",
   "execution_count": 26,
   "metadata": {},
   "outputs": [
    {
     "name": "stdout",
     "output_type": "stream",
     "text": [
      "max_depth = 1 :  0.0\n",
      "max_depth = 2 :  0.4803625377643504\n",
      "max_depth = 3 :  0.5007541478129713\n",
      "max_depth = 4 :  0.47775947281713343\n",
      "max_depth = 5 :  0.49087893864013277\n",
      "max_depth = 6 :  0.5289514866979655\n",
      "max_depth = 7 :  0.5533834586466165\n",
      "max_depth = 8 :  0.5133020344287951\n",
      "max_depth = 9 :  0.506060606060606\n",
      "max_depth = 10 :  0.5327635327635328\n",
      "max_depth = 11 :  0.4978540772532189\n",
      "max_depth = 12 :  0.5277401894451962\n",
      "max_depth = 13 :  0.5181347150259067\n",
      "max_depth = 14 :  0.4948717948717949\n"
     ]
    }
   ],
   "source": [
    "# обучение дерева решений без учета дисбаланса\n",
    "\n",
    "f1, max_depth  = [], []\n",
    "\n",
    "for depth in range(1, 15):\n",
    "    model_tree = DecisionTreeClassifier(random_state=12345, criterion='gini', max_depth=depth)\n",
    "    model_tree.fit(features_train, target_train)\n",
    "    predictions_valid_tree = model_tree.predict(features_valid)\n",
    "    \n",
    "    max_depth.append(depth)\n",
    "    f1.append(f1_score(target_valid, predictions_valid_tree))\n",
    "    \n",
    "    print(\"max_depth =\", depth, \": \", f1[-1])"
   ]
  },
  {
   "cell_type": "code",
   "execution_count": 27,
   "metadata": {},
   "outputs": [
    {
     "data": {
      "image/png": "[encoded data removed]",
      "text/plain": [
       "<Figure size 432x288 with 1 Axes>"
      ]
     },
     "metadata": {
      "needs_background": "light"
     },
     "output_type": "display_data"
    }
   ],
   "source": [
    "# ROC - кривая\n",
    "\n",
    "model_tree = DecisionTreeClassifier(random_state=12345, criterion='gini', max_depth=7)\n",
    "model_tree.fit(features_train, target_train)\n",
    "\n",
    "probabilities_valid = model_tree.predict_proba(features_valid)\n",
    "probabilities_one_valid = probabilities_valid[:, 1]\n",
    "\n",
    "fpr, tpr, thresholds = roc_curve(target_valid, probabilities_one_valid) \n",
    "\n",
    "plt.figure()\n",
    "plt.plot(fpr, tpr)\n",
    "plt.xlim([0.0, 1.0])\n",
    "plt.ylim([0.0, 1.0])\n",
    "plt.xlabel('False Positive Rate')\n",
    "plt.ylabel('True Positive Rate')\n",
    "plt.title('ROC-кривая дерева решений')\n",
    "plt.show() "
   ]
  },
  {
   "cell_type": "code",
   "execution_count": 28,
   "metadata": {},
   "outputs": [
    {
     "name": "stdout",
     "output_type": "stream",
     "text": [
      "0.8111416501247009\n"
     ]
    }
   ],
   "source": [
    "# AUC - ROC\n",
    "\n",
    "auc_roc = roc_auc_score(target_valid, probabilities_one_valid)\n",
    "\n",
    "print(auc_roc)"
   ]
  },
  {
   "cell_type": "markdown",
   "metadata": {},
   "source": [
    "F мера колеблется в пределах 0.55, результат лучше, чем у регрессии, но все же не очень. ROC кривая и площадь под ней также получше."
   ]
  },
  {
   "cell_type": "markdown",
   "metadata": {},
   "source": [
    "#### Случайный лес"
   ]
  },
  {
   "cell_type": "code",
   "execution_count": 29,
   "metadata": {},
   "outputs": [],
   "source": [
    "# обучение случайного леса без учета дисбаланса\n",
    "\n",
    "best_model_rf = None\n",
    "best_result_rf = 0\n",
    "best_depth_rf = 0\n",
    "best_est_rf = 0\n",
    "\n",
    "for est in range(21, 71):\n",
    "    for depth in range(11, 21):\n",
    "        model_rf = RandomForestClassifier(random_state=12345, \n",
    "                                          n_estimators=est, \n",
    "                                          max_depth=depth, \n",
    "                                          criterion='gini'\n",
    "                                         ) \n",
    "        model_rf.fit(features_train, target_train)\n",
    "        predictions_valid_rf = model_rf.predict(features_valid)\n",
    "\n",
    "        result_rf = f1_score(target_valid, predictions_valid_rf)\n",
    "        if result_rf > best_result_rf:\n",
    "            best_model_rf = model_rf \n",
    "            best_result_rf = result_rf \n",
    "            best_depth_rf = depth\n",
    "            best_est_rf = est\n",
    "\n",
    "print(\"F1:\", best_result_rf)\n",
    "print(best_depth_rf)\n",
    "print(best_est_rf)"
   ]
  },
  {
   "cell_type": "code",
   "execution_count": 30,
   "metadata": {},
   "outputs": [],
   "source": [
    "# ROC - кривая\n",
    "\n",
    "probabilities_valid = best_model_rf.predict_proba(features_valid)\n",
    "probabilities_one_valid = probabilities_valid[:, 1]\n",
    "\n",
    "fpr, tpr, thresholds = roc_curve(target_valid, probabilities_one_valid) \n",
    "\n",
    "plt.figure()\n",
    "plt.plot(fpr, tpr)\n",
    "plt.xlim([0.0, 1.0])\n",
    "plt.ylim([0.0, 1.0])\n",
    "plt.xlabel('False Positive Rate')\n",
    "plt.ylabel('True Positive Rate')\n",
    "plt.title('ROC-кривая случайного леса')\n",
    "plt.show() "
   ]
  },
  {
   "cell_type": "code",
   "execution_count": 31,
   "metadata": {},
   "outputs": [],
   "source": [
    "# AUC - ROC\n",
    "\n",
    "auc_roc = roc_auc_score(target_valid, probabilities_one_valid)\n",
    "\n",
    "print(auc_roc)"
   ]
  },
  {
   "cell_type": "markdown",
   "metadata": {},
   "source": [
    "F-мера 0.56. В остальном у случайного леса результаты чуть лучше, чем в других моделях. Посмотрим, что даст борьба с дисбалансом."
   ]
  },
  {
   "cell_type": "markdown",
   "metadata": {},
   "source": [
    "#### Вывод по обучению без учета дисбаланса:\n",
    "\n",
    "Все модели имеют низкую F-меру, ROC кривая у всех моделей выглядит неплохо, случайный лес выглядит лучше всех."
   ]
  },
  {
   "cell_type": "markdown",
   "metadata": {},
   "source": [
    "### Матрицы ошибок"
   ]
  },
  {
   "cell_type": "code",
   "execution_count": 32,
   "metadata": {},
   "outputs": [
    {
     "name": "stdout",
     "output_type": "stream",
     "text": [
      "[[1546   47]\n",
      " [ 329   78]]\n"
     ]
    }
   ],
   "source": [
    "# матрица ошибок логистической регрессии\n",
    "\n",
    "print(confusion_matrix(target_valid, predicted_valid_logreg))"
   ]
  },
  {
   "cell_type": "code",
   "execution_count": 33,
   "metadata": {},
   "outputs": [
    {
     "name": "stdout",
     "output_type": "stream",
     "text": [
      "[[1413  180]\n",
      " [ 214  193]]\n"
     ]
    }
   ],
   "source": [
    "# матрица ошибок дерева решений\n",
    "\n",
    "print(confusion_matrix(target_valid, predictions_valid_tree))"
   ]
  },
  {
   "cell_type": "code",
   "execution_count": 34,
   "metadata": {},
   "outputs": [],
   "source": [
    "# матрица ошибок случайного леса\n",
    "\n",
    "print(confusion_matrix(target_valid, predictions_valid_rf))"
   ]
  },
  {
   "cell_type": "markdown",
   "metadata": {},
   "source": [
    "Модели пессимистичны. Проблема в дисбалансе классов, так как у нас сильный перекос в сторону отрицательных ответов."
   ]
  },
  {
   "cell_type": "markdown",
   "metadata": {},
   "source": [
    "### Вывод по исследованию задачи\n",
    "\n",
    "Изначально по целевому признаку идет сильный перекос в сторону отрицательных ответов.\n",
    "Из-за этого перекоса модель делает пессимистичные прогнозы, которые не являются корректными.\n",
    "А также F мера показывает низкий результат. "
   ]
  },
  {
   "cell_type": "markdown",
   "metadata": {},
   "source": [
    "## Борьба с дисбалансом\n",
    "\n",
    "Улучшаем качество модели, учитывая дисбаланс классов"
   ]
  },
  {
   "cell_type": "markdown",
   "metadata": {},
   "source": [
    "### Логистическая регрессия"
   ]
  },
  {
   "cell_type": "markdown",
   "metadata": {},
   "source": [
    "#### Увеличиваем выборки"
   ]
  },
  {
   "cell_type": "code",
   "execution_count": 35,
   "metadata": {},
   "outputs": [],
   "source": [
    "# функция\n",
    "\n",
    "def upsample(features, target, repeat):\n",
    "    features_zeros = features[target == 0]\n",
    "    features_ones = features[target == 1]\n",
    "    target_zeros = target[target == 0]\n",
    "    target_ones = target[target == 1]\n",
    "\n",
    "    features_upsampled = pd.concat([features_zeros] + [features_ones] * repeat)\n",
    "    target_upsampled = pd.concat([target_zeros] + [target_ones] * repeat)\n",
    "    \n",
    "    features_upsampled, target_upsampled = shuffle(\n",
    "        features_upsampled, target_upsampled, random_state=12345)\n",
    "    \n",
    "    return features_upsampled, target_upsampled"
   ]
  },
  {
   "cell_type": "code",
   "execution_count": 36,
   "metadata": {},
   "outputs": [],
   "source": [
    "# Увеличиваем выборку\n",
    "\n",
    "features_upsampled, target_upsampled = upsample(features_train, target_train, 4)"
   ]
  },
  {
   "cell_type": "code",
   "execution_count": 37,
   "metadata": {},
   "outputs": [
    {
     "name": "stdout",
     "output_type": "stream",
     "text": [
      "F1: 0.47733105218135163\n"
     ]
    }
   ],
   "source": [
    "model_logreg_up = LogisticRegression(solver='liblinear', random_state=12345, max_iter=1000)\n",
    "model_logreg_up.fit(features_upsampled, target_upsampled)\n",
    "predicted_valid = model_logreg_up.predict(features_valid)\n",
    "\n",
    "print(\"F1:\", f1_score(target_valid, predicted_valid))"
   ]
  },
  {
   "cell_type": "code",
   "execution_count": 38,
   "metadata": {},
   "outputs": [
    {
     "data": {
      "image/png": "[encoded data removed]",
      "text/plain": [
       "<Figure size 432x288 with 1 Axes>"
      ]
     },
     "metadata": {
      "needs_background": "light"
     },
     "output_type": "display_data"
    }
   ],
   "source": [
    "# ROC - кривая логистической регрессии после увеличения выборки\n",
    "\n",
    "probabilities_valid = model_logreg_up.predict_proba(features_valid)\n",
    "probabilities_one_valid = probabilities_valid[:, 1]\n",
    "\n",
    "fpr, tpr, thresholds = roc_curve(target_valid, probabilities_one_valid) \n",
    "\n",
    "plt.figure()\n",
    "plt.plot(fpr, tpr)\n",
    "plt.xlim([0.0, 1.0])\n",
    "plt.ylim([0.0, 1.0])\n",
    "plt.xlabel('False Positive Rate')\n",
    "plt.ylabel('True Positive Rate')\n",
    "plt.title('ROC-кривая логистической регрессии после увеличения выборки')\n",
    "plt.show() "
   ]
  },
  {
   "cell_type": "code",
   "execution_count": 39,
   "metadata": {},
   "outputs": [
    {
     "name": "stdout",
     "output_type": "stream",
     "text": [
      "0.7541794490947034\n"
     ]
    }
   ],
   "source": [
    "# AUC - ROC\n",
    "\n",
    "auc_roc = roc_auc_score(target_valid, probabilities_one_valid)\n",
    "\n",
    "print(auc_roc)"
   ]
  },
  {
   "cell_type": "markdown",
   "metadata": {},
   "source": [
    "Вывод\n",
    "\n",
    "Результаты лучше, чем с дисбалансом, но все равно очень низкие."
   ]
  },
  {
   "cell_type": "markdown",
   "metadata": {},
   "source": [
    "#### Уменьшаем выборки"
   ]
  },
  {
   "cell_type": "code",
   "execution_count": 40,
   "metadata": {},
   "outputs": [],
   "source": [
    "# функция\n",
    "\n",
    "def downsample(features, target, fraction):\n",
    "    features_zeros = features[target == 0]\n",
    "    features_ones = features[target == 1]\n",
    "    target_zeros = target[target == 0]\n",
    "    target_ones = target[target == 1]\n",
    "\n",
    "    features_downsampled = pd.concat(\n",
    "        [features_zeros.sample(frac=fraction, random_state=12345)] + [features_ones])\n",
    "    target_downsampled = pd.concat(\n",
    "        [target_zeros.sample(frac=fraction, random_state=12345)] + [target_ones])\n",
    "    \n",
    "    features_downsampled, target_downsampled = shuffle(\n",
    "        features_downsampled, target_downsampled, random_state=12345)\n",
    "    \n",
    "    return features_downsampled, target_downsampled"
   ]
  },
  {
   "cell_type": "code",
   "execution_count": 41,
   "metadata": {},
   "outputs": [],
   "source": [
    "# Уменьшаем выборку\n",
    "\n",
    "features_downsampled, target_downsampled = downsample(features_train, target_train, 0.25)"
   ]
  },
  {
   "cell_type": "markdown",
   "metadata": {},
   "source": [
    "Теперь выбрасываем из таблицы случайные элементы, указываем их долю 0.25 чтоб опять же уровнять классы\n"
   ]
  },
  {
   "cell_type": "code",
   "execution_count": 42,
   "metadata": {},
   "outputs": [
    {
     "name": "stdout",
     "output_type": "stream",
     "text": [
      "F1: 0.47814910025706936\n"
     ]
    }
   ],
   "source": [
    "model_logreg_down = LogisticRegression(random_state=12345, solver='liblinear', max_iter=1000)\n",
    "model_logreg_down.fit(features_downsampled, target_downsampled)\n",
    "predicted_valid = model_logreg_down.predict(features_valid)\n",
    "\n",
    "print(\"F1:\", f1_score(target_valid, predicted_valid))"
   ]
  },
  {
   "cell_type": "code",
   "execution_count": 43,
   "metadata": {},
   "outputs": [
    {
     "data": {
      "image/png": "[encoded data removed]",
      "text/plain": [
       "<Figure size 432x288 with 1 Axes>"
      ]
     },
     "metadata": {
      "needs_background": "light"
     },
     "output_type": "display_data"
    }
   ],
   "source": [
    "# ROC - кривая логистической регрессии после уменьшения выборки\n",
    "\n",
    "probabilities_valid = model_logreg_down.predict_proba(features_valid)\n",
    "probabilities_one_valid = probabilities_valid[:, 1]\n",
    "\n",
    "fpr, tpr, thresholds = roc_curve(target_valid, probabilities_one_valid) \n",
    "\n",
    "plt.figure()\n",
    "plt.plot(fpr, tpr)\n",
    "plt.xlim([0.0, 1.0])\n",
    "plt.ylim([0.0, 1.0])\n",
    "plt.xlabel('False Positive Rate')\n",
    "plt.ylabel('True Positive Rate')\n",
    "plt.title('ROC-кривая логистической регрессии после уменьшения выборки')\n",
    "plt.show() "
   ]
  },
  {
   "cell_type": "code",
   "execution_count": 44,
   "metadata": {},
   "outputs": [
    {
     "name": "stdout",
     "output_type": "stream",
     "text": [
      "0.7523316845350744\n"
     ]
    }
   ],
   "source": [
    "# AUC - ROC\n",
    "\n",
    "auc_roc = roc_auc_score(target_valid, probabilities_one_valid)\n",
    "\n",
    "print(auc_roc)"
   ]
  },
  {
   "cell_type": "markdown",
   "metadata": {},
   "source": [
    "Вывод\n",
    "\n",
    "Уменьшение выборки дало такие же результаты, что и увеличение"
   ]
  },
  {
   "cell_type": "markdown",
   "metadata": {},
   "source": [
    "#### Взвешиваем классы"
   ]
  },
  {
   "cell_type": "code",
   "execution_count": 45,
   "metadata": {},
   "outputs": [
    {
     "name": "stdout",
     "output_type": "stream",
     "text": [
      "F1: 0.4765217391304348\n"
     ]
    }
   ],
   "source": [
    "model_logreg_class_weight = LogisticRegression(random_state=12345, solver='liblinear', class_weight='balanced')\n",
    "model_logreg_class_weight.fit(features_train, target_train)\n",
    "predicted_valid = model_logreg_class_weight.predict(features_valid)\n",
    "print(\"F1:\", f1_score(target_valid, predicted_valid))"
   ]
  },
  {
   "cell_type": "markdown",
   "metadata": {},
   "source": [
    "Взвешивание классов картину не изменило)"
   ]
  },
  {
   "cell_type": "code",
   "execution_count": 46,
   "metadata": {},
   "outputs": [
    {
     "data": {
      "image/png": "[encoded data removed]",
      "text/plain": [
       "<Figure size 432x288 with 1 Axes>"
      ]
     },
     "metadata": {
      "needs_background": "light"
     },
     "output_type": "display_data"
    }
   ],
   "source": [
    "# ROC - кривая логистической регрессии после взвешивания классов\n",
    "\n",
    "probabilities_valid = model_logreg_class_weight.predict_proba(features_valid)\n",
    "probabilities_one_valid = probabilities_valid[:, 1]\n",
    "\n",
    "fpr, tpr, thresholds = roc_curve(target_valid, probabilities_one_valid) \n",
    "\n",
    "plt.figure()\n",
    "plt.plot(fpr, tpr)\n",
    "plt.xlim([0.0, 1.0])\n",
    "plt.ylim([0.0, 1.0])\n",
    "plt.xlabel('False Positive Rate')\n",
    "plt.ylabel('True Positive Rate')\n",
    "plt.title('ROC-кривая логистической регрессии после взвешивания классов')\n",
    "plt.show() "
   ]
  },
  {
   "cell_type": "markdown",
   "metadata": {},
   "source": [
    "Кривая показывает самое оптимальное соотношение TPR и FPR"
   ]
  },
  {
   "cell_type": "code",
   "execution_count": 47,
   "metadata": {},
   "outputs": [
    {
     "name": "stdout",
     "output_type": "stream",
     "text": [
      "0.7541146693689067\n"
     ]
    }
   ],
   "source": [
    "# AUC - ROC\n",
    "\n",
    "auc_roc = roc_auc_score(target_valid, probabilities_one_valid)\n",
    "\n",
    "print(auc_roc)"
   ]
  },
  {
   "cell_type": "markdown",
   "metadata": {},
   "source": [
    "Вывод\n",
    "\n",
    "Все методы борьбы с дисбалансом на логистической регрессии сработали одинаково"
   ]
  },
  {
   "cell_type": "markdown",
   "metadata": {},
   "source": [
    "### Дерево решений"
   ]
  },
  {
   "cell_type": "markdown",
   "metadata": {},
   "source": [
    "#### Увеличиваем выборки"
   ]
  },
  {
   "cell_type": "code",
   "execution_count": 48,
   "metadata": {},
   "outputs": [
    {
     "name": "stdout",
     "output_type": "stream",
     "text": [
      "max_depth = 1 :  0.47466216216216217\n",
      "max_depth = 2 :  0.4971098265895954\n",
      "max_depth = 3 :  0.4971098265895954\n",
      "max_depth = 4 :  0.5403949730700179\n",
      "max_depth = 5 :  0.5264822134387352\n",
      "max_depth = 6 :  0.5308755760368664\n",
      "max_depth = 7 :  0.5462878093492209\n",
      "max_depth = 8 :  0.5419354838709677\n",
      "max_depth = 9 :  0.5227492739593418\n",
      "max_depth = 10 :  0.5194029850746269\n",
      "max_depth = 11 :  0.5136268343815514\n",
      "max_depth = 12 :  0.4967602591792657\n",
      "max_depth = 13 :  0.4911894273127753\n",
      "max_depth = 14 :  0.4833906071019473\n"
     ]
    }
   ],
   "source": [
    "f1, max_depth  = [], []\n",
    "\n",
    "for depth in range(1, 15):\n",
    "    model_tree_up = DecisionTreeClassifier(random_state=12345, criterion='gini', max_depth=depth)\n",
    "    model_tree_up.fit(features_upsampled, target_upsampled)\n",
    "    predictions_valid_tree_up = model_tree_up.predict(features_valid)\n",
    "    \n",
    "    max_depth.append(depth)\n",
    "    f1.append(f1_score(target_valid, predictions_valid_tree_up))\n",
    "    \n",
    "    print(\"max_depth =\", depth, \": \", f1[-1])"
   ]
  },
  {
   "cell_type": "code",
   "execution_count": 49,
   "metadata": {},
   "outputs": [
    {
     "data": {
      "image/png": "[encoded data removed]",
      "text/plain": [
       "<Figure size 432x288 with 1 Axes>"
      ]
     },
     "metadata": {
      "needs_background": "light"
     },
     "output_type": "display_data"
    }
   ],
   "source": [
    "plt.plot(max_depth, f1);"
   ]
  },
  {
   "cell_type": "code",
   "execution_count": 50,
   "metadata": {},
   "outputs": [
    {
     "data": {
      "image/png": "[encoded data removed]",
      "text/plain": [
       "<Figure size 432x288 with 1 Axes>"
      ]
     },
     "metadata": {
      "needs_background": "light"
     },
     "output_type": "display_data"
    }
   ],
   "source": [
    "# ROC - кривая дерева решений после увеличения выборки\n",
    "\n",
    "model_tree_up = DecisionTreeClassifier(random_state=12345, criterion='gini', max_depth=7)\n",
    "model_tree_up.fit(features_train, target_train)\n",
    "\n",
    "probabilities_valid = model_tree_up.predict_proba(features_valid)\n",
    "probabilities_one_valid = probabilities_valid[:, 1]\n",
    "\n",
    "fpr, tpr, thresholds = roc_curve(target_valid, probabilities_one_valid) \n",
    "\n",
    "plt.figure()\n",
    "plt.plot(fpr, tpr)\n",
    "plt.xlim([0.0, 1.0])\n",
    "plt.ylim([0.0, 1.0])\n",
    "plt.xlabel('False Positive Rate')\n",
    "plt.ylabel('True Positive Rate')\n",
    "plt.title('ROC-кривая дерева решений после увеличения выборки')\n",
    "plt.show() "
   ]
  },
  {
   "cell_type": "code",
   "execution_count": 51,
   "metadata": {},
   "outputs": [
    {
     "name": "stdout",
     "output_type": "stream",
     "text": [
      "0.8111416501247009\n"
     ]
    }
   ],
   "source": [
    "# AUC - ROC\n",
    "\n",
    "auc_roc = roc_auc_score(target_valid, probabilities_one_valid)\n",
    "\n",
    "print(auc_roc)"
   ]
  },
  {
   "cell_type": "markdown",
   "metadata": {},
   "source": [
    "Вывод\n",
    "\n",
    "При увеличении выборки дерево у нас хорошо обучается на глубине 7, после чего результат резко падает, ROC - кривая показывает хороший результат, и он выше логистической регрессии."
   ]
  },
  {
   "cell_type": "markdown",
   "metadata": {},
   "source": [
    "#### Уменьшаем выборки"
   ]
  },
  {
   "cell_type": "code",
   "execution_count": 52,
   "metadata": {},
   "outputs": [
    {
     "name": "stdout",
     "output_type": "stream",
     "text": [
      "max_depth = 1 :  0.47466216216216217\n",
      "max_depth = 2 :  0.4971098265895954\n",
      "max_depth = 3 :  0.4971098265895954\n",
      "max_depth = 4 :  0.5390835579514824\n",
      "max_depth = 5 :  0.5264773599386032\n",
      "max_depth = 6 :  0.5590778097982709\n",
      "max_depth = 7 :  0.535288725939505\n",
      "max_depth = 8 :  0.5285451197053407\n",
      "max_depth = 9 :  0.5208711433756805\n",
      "max_depth = 10 :  0.5127753303964757\n",
      "max_depth = 11 :  0.5160173160173159\n",
      "max_depth = 12 :  0.5047372954349698\n",
      "max_depth = 13 :  0.4958123953098827\n",
      "max_depth = 14 :  0.4908485856905158\n"
     ]
    }
   ],
   "source": [
    "f1, max_depth  = [], []\n",
    "\n",
    "for depth in range(1, 15):\n",
    "    model_tree_down = DecisionTreeClassifier(random_state=12345, criterion='gini', max_depth=depth)\n",
    "    model_tree_down.fit(features_downsampled, target_downsampled)\n",
    "    predictions_valid_tree_down = model_tree_down.predict(features_valid)\n",
    "    \n",
    "    max_depth.append(depth)\n",
    "    f1.append(f1_score(target_valid, predictions_valid_tree_down))\n",
    "    \n",
    "    print(\"max_depth =\", depth, \": \", f1[-1])"
   ]
  },
  {
   "cell_type": "code",
   "execution_count": 53,
   "metadata": {},
   "outputs": [
    {
     "data": {
      "image/png": "[encoded data removed]",
      "text/plain": [
       "<Figure size 432x288 with 1 Axes>"
      ]
     },
     "metadata": {
      "needs_background": "light"
     },
     "output_type": "display_data"
    }
   ],
   "source": [
    "plt.plot(max_depth, f1);"
   ]
  },
  {
   "cell_type": "code",
   "execution_count": 54,
   "metadata": {},
   "outputs": [
    {
     "data": {
      "image/png": "[encoded data removed]",
      "text/plain": [
       "<Figure size 432x288 with 1 Axes>"
      ]
     },
     "metadata": {
      "needs_background": "light"
     },
     "output_type": "display_data"
    }
   ],
   "source": [
    "# ROC - кривая дерева решений после уменьшения выборки\n",
    "\n",
    "model_tree_down = DecisionTreeClassifier(random_state=12345, criterion='gini', max_depth=6)\n",
    "model_tree_down.fit(features_train, target_train)\n",
    "\n",
    "probabilities_valid = model_tree_down.predict_proba(features_valid)\n",
    "probabilities_one_valid = probabilities_valid[:, 1]\n",
    "\n",
    "fpr, tpr, thresholds = roc_curve(target_valid, probabilities_one_valid) \n",
    "\n",
    "plt.figure()\n",
    "plt.plot(fpr, tpr)\n",
    "plt.xlim([0.0, 1.0])\n",
    "plt.ylim([0.0, 1.0])\n",
    "plt.xlabel('False Positive Rate')\n",
    "plt.ylabel('True Positive Rate')\n",
    "plt.title('ROC-кривая дерева решений после уменьшения выборки')\n",
    "plt.show() "
   ]
  },
  {
   "cell_type": "code",
   "execution_count": 55,
   "metadata": {},
   "outputs": [
    {
     "name": "stdout",
     "output_type": "stream",
     "text": [
      "0.8287347439889812\n"
     ]
    }
   ],
   "source": [
    "# AUC - ROC\n",
    "\n",
    "auc_roc = roc_auc_score(target_valid, probabilities_one_valid)\n",
    "\n",
    "print(auc_roc)"
   ]
  },
  {
   "cell_type": "markdown",
   "metadata": {},
   "source": [
    "Вывод\n",
    "\n",
    "Уменьшение выборки показывает сравнительно лучший результат. Дерево у нас хорошо обучается на глубине 6, плюс F-мера выше, после чего результат снова резко падает, ROC - кривая показывает результат чуть выше, чем дало нам увеличение выборки."
   ]
  },
  {
   "cell_type": "markdown",
   "metadata": {},
   "source": [
    "#### Взвешиваем классы"
   ]
  },
  {
   "cell_type": "code",
   "execution_count": 56,
   "metadata": {},
   "outputs": [
    {
     "name": "stdout",
     "output_type": "stream",
     "text": [
      "max_depth = 1 :  0.47466216216216217\n",
      "max_depth = 2 :  0.4971098265895954\n",
      "max_depth = 3 :  0.522167487684729\n",
      "max_depth = 4 :  0.5403949730700179\n",
      "max_depth = 5 :  0.5264822134387352\n",
      "max_depth = 6 :  0.5303867403314917\n",
      "max_depth = 7 :  0.5457875457875457\n",
      "max_depth = 8 :  0.5409383624655014\n",
      "max_depth = 9 :  0.5177372962607862\n",
      "max_depth = 10 :  0.5219999999999999\n",
      "max_depth = 11 :  0.5126050420168067\n",
      "max_depth = 12 :  0.5015873015873015\n",
      "max_depth = 13 :  0.4966740576496675\n",
      "max_depth = 14 :  0.49600000000000005\n"
     ]
    }
   ],
   "source": [
    "f1, max_depth  = [], []\n",
    "\n",
    "for depth in range(1, 15):\n",
    "    model_tree_class_weight = DecisionTreeClassifier(random_state=12345, \n",
    "                                                     criterion='gini', \n",
    "                                                     max_depth=depth, \n",
    "                                                     class_weight='balanced')\n",
    "    model_tree_class_weight.fit(features_train, target_train)\n",
    "    predictions_valid_tree_class_weight = model_tree_class_weight.predict(features_valid)\n",
    "    \n",
    "    max_depth.append(depth)\n",
    "    f1.append(f1_score(target_valid, predictions_valid_tree_class_weight))\n",
    "    \n",
    "    print(\"max_depth =\", depth, \": \", f1[-1])"
   ]
  },
  {
   "cell_type": "code",
   "execution_count": 57,
   "metadata": {},
   "outputs": [
    {
     "data": {
      "image/png": "[encoded data removed]",
      "text/plain": [
       "<Figure size 432x288 with 1 Axes>"
      ]
     },
     "metadata": {
      "needs_background": "light"
     },
     "output_type": "display_data"
    }
   ],
   "source": [
    "plt.plot(max_depth, f1);"
   ]
  },
  {
   "cell_type": "code",
   "execution_count": 58,
   "metadata": {},
   "outputs": [
    {
     "data": {
      "image/png": "[encoded data removed]",
      "text/plain": [
       "<Figure size 432x288 with 1 Axes>"
      ]
     },
     "metadata": {
      "needs_background": "light"
     },
     "output_type": "display_data"
    }
   ],
   "source": [
    "# ROC - кривая дерева решений после взвешивания классов\n",
    "\n",
    "model_tree_class_weight = DecisionTreeClassifier(random_state=12345, criterion='gini', max_depth=7)\n",
    "model_tree_class_weight.fit(features_train, target_train)\n",
    "\n",
    "probabilities_valid = model_tree_class_weight.predict_proba(features_valid)\n",
    "probabilities_one_valid = probabilities_valid[:, 1]\n",
    "\n",
    "fpr, tpr, thresholds = roc_curve(target_valid, probabilities_one_valid) \n",
    "\n",
    "plt.figure()\n",
    "plt.plot(fpr, tpr)\n",
    "plt.xlim([0.0, 1.0])\n",
    "plt.ylim([0.0, 1.0])\n",
    "plt.xlabel('False Positive Rate')\n",
    "plt.ylabel('True Positive Rate')\n",
    "plt.title('ROC-кривая дерева решений после взвешивания классов')\n",
    "plt.show() "
   ]
  },
  {
   "cell_type": "code",
   "execution_count": 59,
   "metadata": {},
   "outputs": [
    {
     "name": "stdout",
     "output_type": "stream",
     "text": [
      "0.8111416501247009\n"
     ]
    }
   ],
   "source": [
    "# AUC - ROC\n",
    "\n",
    "auc_roc = roc_auc_score(target_valid, probabilities_one_valid)\n",
    "\n",
    "print(auc_roc)"
   ]
  },
  {
   "cell_type": "markdown",
   "metadata": {},
   "source": [
    "Вывод\n",
    "\n",
    "Взвешивание классов показывает практически идентичный результат, как у увеличения выборки"
   ]
  },
  {
   "cell_type": "markdown",
   "metadata": {},
   "source": [
    "### Случайный лес"
   ]
  },
  {
   "cell_type": "markdown",
   "metadata": {},
   "source": [
    "#### Увеличиваем выборки"
   ]
  },
  {
   "cell_type": "code",
   "execution_count": 60,
   "metadata": {},
   "outputs": [
    {
     "name": "stdout",
     "output_type": "stream",
     "text": [
      "F1: 0.6078886310904872\n",
      "11\n",
      "47\n"
     ]
    }
   ],
   "source": [
    "best_model_rf_up = None\n",
    "best_result_rf = 0\n",
    "best_depth_rf = 0\n",
    "best_est_rf = 0\n",
    "\n",
    "for est in range(21, 71):\n",
    "    for depth in range(11, 21):\n",
    "        model_rf_up = RandomForestClassifier(random_state=12345, \n",
    "                                          n_estimators=est, \n",
    "                                          max_depth=depth, \n",
    "                                          criterion='gini'\n",
    "                                         ) \n",
    "        model_rf_up.fit(features_upsampled, target_upsampled)\n",
    "        predictions_valid_rf_up = model_rf_up.predict(features_valid)\n",
    "\n",
    "        result_rf = f1_score(target_valid, predictions_valid_rf_up)\n",
    "        if result_rf > best_result_rf:\n",
    "            best_model_rf_up = model_rf_up \n",
    "            best_result_rf = result_rf \n",
    "            best_depth_rf = depth\n",
    "            best_est_rf = est\n",
    "\n",
    "print(\"F1:\", best_result_rf)\n",
    "print(best_depth_rf)\n",
    "print(best_est_rf)"
   ]
  },
  {
   "cell_type": "code",
   "execution_count": 61,
   "metadata": {},
   "outputs": [
    {
     "data": {
      "image/png": "[encoded data removed]",
      "text/plain": [
       "<Figure size 432x288 with 1 Axes>"
      ]
     },
     "metadata": {
      "needs_background": "light"
     },
     "output_type": "display_data"
    }
   ],
   "source": [
    "# ROC - кривая случайного леса после увеличения выборки\n",
    "\n",
    "probabilities_valid = best_model_rf_up.predict_proba(features_valid)\n",
    "probabilities_one_valid = probabilities_valid[:, 1]\n",
    "\n",
    "fpr, tpr, thresholds = roc_curve(target_valid, probabilities_one_valid) \n",
    "\n",
    "plt.figure()\n",
    "plt.plot(fpr, tpr)\n",
    "plt.xlim([0.0, 1.0])\n",
    "plt.ylim([0.0, 1.0])\n",
    "plt.xlabel('False Positive Rate')\n",
    "plt.ylabel('True Positive Rate')\n",
    "plt.title('ROC-кривая случайного леса после увеличения выборки')\n",
    "plt.show() "
   ]
  },
  {
   "cell_type": "code",
   "execution_count": 62,
   "metadata": {},
   "outputs": [
    {
     "name": "stdout",
     "output_type": "stream",
     "text": [
      "0.8505963590709356\n"
     ]
    }
   ],
   "source": [
    "# AUC - ROC\n",
    "\n",
    "auc_roc = roc_auc_score(target_valid, probabilities_one_valid)\n",
    "\n",
    "print(auc_roc)"
   ]
  },
  {
   "cell_type": "markdown",
   "metadata": {},
   "source": [
    "Вывод\n",
    "\n",
    "При увеличении выборки случайный лес показывает хороший прогноз. F-мера у нас уже 0.6 при 47 деревьях и глубине 11.\n",
    "ROC - кривая выглядит прям хорошо и ее площадь также свидетельствует о хорошем результате."
   ]
  },
  {
   "cell_type": "markdown",
   "metadata": {},
   "source": [
    "#### Уменьшаем выборки"
   ]
  },
  {
   "cell_type": "code",
   "execution_count": 63,
   "metadata": {},
   "outputs": [
    {
     "name": "stdout",
     "output_type": "stream",
     "text": [
      "F1: 0.5788982259570494\n",
      "11\n",
      "56\n"
     ]
    }
   ],
   "source": [
    "best_model_rf_down = None\n",
    "best_result_rf = 0\n",
    "best_depth_rf = 0\n",
    "best_est_rf = 0\n",
    "\n",
    "for est in range(21, 71):\n",
    "    for depth in range(11, 21):\n",
    "        model_rf_down = RandomForestClassifier(random_state=12345, \n",
    "                                          n_estimators=est, \n",
    "                                          max_depth=depth, \n",
    "                                          criterion='gini'\n",
    "                                         ) \n",
    "        model_rf_down.fit(features_downsampled, target_downsampled)\n",
    "        predictions_valid_rf_down = model_rf_down.predict(features_valid)\n",
    "\n",
    "        result_rf = f1_score(target_valid, predictions_valid_rf_down)\n",
    "        if result_rf > best_result_rf:\n",
    "            best_model_rf_down = model_rf_down \n",
    "            best_result_rf = result_rf \n",
    "            best_depth_rf = depth\n",
    "            best_est_rf = est\n",
    "\n",
    "print(\"F1:\", best_result_rf)\n",
    "print(best_depth_rf)\n",
    "print(best_est_rf)"
   ]
  },
  {
   "cell_type": "code",
   "execution_count": 64,
   "metadata": {},
   "outputs": [
    {
     "data": {
      "image/png": "[encoded data removed]",
      "text/plain": [
       "<Figure size 432x288 with 1 Axes>"
      ]
     },
     "metadata": {
      "needs_background": "light"
     },
     "output_type": "display_data"
    }
   ],
   "source": [
    "# ROC - кривая случайного леса после уменьшения выборки\n",
    "\n",
    "probabilities_valid = best_model_rf_down.predict_proba(features_valid)\n",
    "probabilities_one_valid = probabilities_valid[:, 1]\n",
    "\n",
    "fpr, tpr, thresholds = roc_curve(target_valid, probabilities_one_valid) \n",
    "\n",
    "plt.figure()\n",
    "plt.plot(fpr, tpr)\n",
    "plt.xlim([0.0, 1.0])\n",
    "plt.ylim([0.0, 1.0])\n",
    "plt.xlabel('False Positive Rate')\n",
    "plt.ylabel('True Positive Rate')\n",
    "plt.title('ROC-кривая случайного леса после уменьшения выборки')\n",
    "plt.show() "
   ]
  },
  {
   "cell_type": "code",
   "execution_count": 65,
   "metadata": {},
   "outputs": [
    {
     "name": "stdout",
     "output_type": "stream",
     "text": [
      "0.8461265579909648\n"
     ]
    }
   ],
   "source": [
    "# AUC - ROC\n",
    "\n",
    "auc_roc = roc_auc_score(target_valid, probabilities_one_valid)\n",
    "\n",
    "print(auc_roc)"
   ]
  },
  {
   "cell_type": "markdown",
   "metadata": {},
   "source": [
    "Вывод\n",
    "\n",
    "При уменьшении выборки мало что отлчается. F-мера у нас становится 0.57 при 56 деревьях и глубине 11.\n",
    "ROC - кривая и ее площадь также на хорошем уровне."
   ]
  },
  {
   "cell_type": "markdown",
   "metadata": {},
   "source": [
    "#### Взвешиваем классы"
   ]
  },
  {
   "cell_type": "code",
   "execution_count": 66,
   "metadata": {},
   "outputs": [
    {
     "name": "stdout",
     "output_type": "stream",
     "text": [
      "F1: 0.5721716514954487\n",
      "11\n",
      "39\n"
     ]
    }
   ],
   "source": [
    "# обучение случайного леса без учета дисбаланса\n",
    "\n",
    "best_model_rf_class_weight = None\n",
    "best_result_rf = 0\n",
    "best_depth_rf = 0\n",
    "best_est_rf = 0\n",
    "\n",
    "for est in range(21, 71):\n",
    "    for depth in range(11, 21):\n",
    "        model_rf_class_weight = RandomForestClassifier(random_state=12345, \n",
    "                                          n_estimators=est, \n",
    "                                          max_depth=depth, \n",
    "                                          criterion='gini',\n",
    "                                          class_weight='balanced'\n",
    "                                         ) \n",
    "        model_rf_class_weight.fit(features_train, target_train)\n",
    "        predictions_valid_rf_class_weight = model_rf_class_weight.predict(features_valid)\n",
    "\n",
    "        result_rf = f1_score(target_valid, predictions_valid_rf_class_weight)\n",
    "        if result_rf > best_result_rf:\n",
    "            best_model_rf_class_weight = model_rf_class_weight \n",
    "            best_result_rf = result_rf \n",
    "            best_depth_rf = depth\n",
    "            best_est_rf = est\n",
    "\n",
    "print(\"F1:\", best_result_rf)\n",
    "print(best_depth_rf)\n",
    "print(best_est_rf)"
   ]
  },
  {
   "cell_type": "code",
   "execution_count": 67,
   "metadata": {},
   "outputs": [
    {
     "data": {
      "image/png": "[encoded data removed]",
      "text/plain": [
       "<Figure size 432x288 with 1 Axes>"
      ]
     },
     "metadata": {
      "needs_background": "light"
     },
     "output_type": "display_data"
    }
   ],
   "source": [
    "# ROC - кривая случайного леса после взвешивания классов\n",
    "\n",
    "probabilities_valid = best_model_rf_class_weight.predict_proba(features_valid)\n",
    "probabilities_one_valid = probabilities_valid[:, 1]\n",
    "\n",
    "fpr, tpr, thresholds = roc_curve(target_valid, probabilities_one_valid) \n",
    "\n",
    "plt.figure()\n",
    "plt.plot(fpr, tpr)\n",
    "plt.xlim([0.0, 1.0])\n",
    "plt.ylim([0.0, 1.0])\n",
    "plt.xlabel('False Positive Rate')\n",
    "plt.ylabel('True Positive Rate')\n",
    "plt.title('ROC-кривая случайного леса после взвешивания классов')\n",
    "plt.show() "
   ]
  },
  {
   "cell_type": "code",
   "execution_count": 68,
   "metadata": {},
   "outputs": [
    {
     "name": "stdout",
     "output_type": "stream",
     "text": [
      "0.8521988860971913\n"
     ]
    }
   ],
   "source": [
    "# AUC - ROC\n",
    "\n",
    "auc_roc = roc_auc_score(target_valid, probabilities_one_valid)\n",
    "\n",
    "print(auc_roc)"
   ]
  },
  {
   "cell_type": "markdown",
   "metadata": {},
   "source": [
    "Вывод\n",
    "\n",
    "Взвешивание классов в случае с случайным лесом показало наименее хороший прогноз. F-мера здесь 0.57 при 39 деревьях и глубине 11.\n",
    "ROC - кривая практически не отличается от предыдущих вариантов."
   ]
  },
  {
   "cell_type": "markdown",
   "metadata": {},
   "source": [
    "### Вывод по борьбе с дисбалансом\n",
    "\n",
    "Методы борьбы с дисбалансом улучшили результаты каждой модели.\n",
    "\n",
    "0.6 - лучшее значение F1 - меры из всех моделей и 0.85 - лучшее значение площади под ROC - кривой.\n",
    "Это нам дало увеличение выборки у модели случайного леса.\n",
    "\n",
    "Протестируем данную модель на тестовой выборке."
   ]
  },
  {
   "cell_type": "markdown",
   "metadata": {},
   "source": [
    "## Тестирование модели"
   ]
  },
  {
   "cell_type": "code",
   "execution_count": 69,
   "metadata": {},
   "outputs": [
    {
     "name": "stdout",
     "output_type": "stream",
     "text": [
      "F1 наилучшей модели на тестовой выборке: 0.5993975903614458\n"
     ]
    }
   ],
   "source": [
    "features_trainvalid = pd.concat([features_train, features_valid])\n",
    "target_trainvalid = pd.concat([target_train, target_valid])\n",
    "\n",
    "best_model_rf_up.fit(features_trainvalid, target_trainvalid)\n",
    "\n",
    "predictions_test_rf = best_model_rf_up.predict(features_test)\n",
    "\n",
    "\n",
    "result_rf_test = f1_score(target_test, predictions_test_rf)\n",
    "print(\"F1 наилучшей модели на тестовой выборке:\", result_rf_test)"
   ]
  },
  {
   "cell_type": "code",
   "execution_count": 70,
   "metadata": {},
   "outputs": [
    {
     "data": {
      "image/png": "[encoded data removed]",
      "text/plain": [
       "<Figure size 432x288 with 1 Axes>"
      ]
     },
     "metadata": {
      "needs_background": "light"
     },
     "output_type": "display_data"
    }
   ],
   "source": [
    "# ROC - кривая\n",
    "\n",
    "probabilities_valid = best_model_rf_up.predict_proba(features_test)\n",
    "probabilities_one_valid = probabilities_valid[:, 1]\n",
    "\n",
    "fpr, tpr, thresholds = roc_curve(target_test, probabilities_one_valid) \n",
    "\n",
    "plt.figure()\n",
    "plt.plot(fpr, tpr)\n",
    "plt.xlim([0.0, 1.0])\n",
    "plt.ylim([0.0, 1.0])\n",
    "plt.xlabel('False Positive Rate')\n",
    "plt.ylabel('True Positive Rate')\n",
    "plt.title('ROC-кривая случайного леса на тесте')\n",
    "plt.show() "
   ]
  },
  {
   "cell_type": "code",
   "execution_count": 71,
   "metadata": {},
   "outputs": [
    {
     "name": "stdout",
     "output_type": "stream",
     "text": [
      "0.8698301556803626\n"
     ]
    }
   ],
   "source": [
    "# AUC - ROC\n",
    "\n",
    "auc_roc = roc_auc_score(target_test, probabilities_one_valid)\n",
    "\n",
    "print(auc_roc)"
   ]
  },
  {
   "cell_type": "markdown",
   "metadata": {},
   "source": [
    "### Вывод по тестированию\n",
    "\n",
    "F1 мера на тестовой выборке модели случайного леса с увеличенной выборкой дало результат - 0.59"
   ]
  },
  {
   "cell_type": "markdown",
   "metadata": {},
   "source": [
    "## Общий вывод\n",
    "\n",
    "**Исходные данные**\n",
    "\n",
    "- Исходные данные содержали данные о клиентах банка, на основе этих данных нужно было построить прогноз о том, уйдет клиент или нет\n",
    "- Целевой признак - столбец Exited\n",
    "- несколько столбцов, не несущих какой-либо важной информации для исследования, были удалены\n",
    "- Категориальные признаки были переведены в численные\n",
    "- Пропуски заменены на нули\n",
    "- Данные разделены на выборки в отношении 3:1:1 и масштабированы\n",
    "- Присутствовал сильный дисбаланс в сторону отрицательных ответов\n",
    "\n",
    "**Что сделали**\n",
    "\n",
    "- Обучила модели без учета дисбаланса, что показало не качественные результаты\n",
    "- Протестировала три метода борьбы с дисбалансом: увеличение/уменьшение выборки, взвешивние классов на трех моделях: логистическая регрессия, дерево решений и случайный лес\n",
    "- Для проверки качества модели использовала F1-меру и ROC-кривую\n",
    "\n",
    "\n",
    "**Что получили**\n",
    "\n",
    "В результате проведенного исследования:\n",
    "\n",
    "- модель, показавшая лучшие результаты - случайный лес\n",
    "- лучший для данной модели метод борьбы с дисбалансом - увеличение выборки\n",
    "\n",
    "В результате проверки на тестовой выборке:\n",
    "\n",
    "- F1-мера = 0.59\n",
    "- AUC-ROC = 0.86"
   ]
  },
  {
   "cell_type": "markdown",
   "metadata": {},
   "source": [
    "## Чек-лист готовности проекта"
   ]
  },
  {
   "cell_type": "markdown",
   "metadata": {},
   "source": [
    "Поставьте 'x' в выполненных пунктах. Далее нажмите Shift+Enter."
   ]
  },
  {
   "cell_type": "markdown",
   "metadata": {},
   "source": [
    "- [x]  Jupyter Notebook открыт\n",
    "- [x]  Весь код выполняется без ошибок\n",
    "- [x]  Ячейки с кодом расположены в порядке исполнения\n",
    "- [x]  Выполнен шаг 1: данные подготовлены\n",
    "- [x]  Выполнен шаг 2: задача исследована\n",
    "    - [x]  Исследован баланс классов\n",
    "    - [x]  Изучены модели без учёта дисбаланса\n",
    "    - [x]  Написаны выводы по результатам исследования\n",
    "- [x]  Выполнен шаг 3: учтён дисбаланс\n",
    "    - [x]  Применено несколько способов борьбы с дисбалансом\n",
    "    - [x]  Написаны выводы по результатам исследования\n",
    "- [x]  Выполнен шаг 4: проведено тестирование\n",
    "- [x]  Удалось достичь *F1*-меры не менее 0.59\n",
    "- [x]  Исследована метрика *AUC-ROC*"
   ]
  }
 ],
 "metadata": {
  "ExecuteTimeLog": [
   {
    "duration": 384,
    "start_time": "2022-12-24T09:39:34.325Z"
   },
   {
    "duration": 77,
    "start_time": "2022-12-24T09:39:34.711Z"
   },
   {
    "duration": 66,
    "start_time": "2022-12-24T09:42:39.750Z"
   },
   {
    "duration": 785,
    "start_time": "2022-12-24T09:42:46.558Z"
   },
   {
    "duration": 40,
    "start_time": "2022-12-24T09:42:47.345Z"
   },
   {
    "duration": 8,
    "start_time": "2022-12-24T09:42:47.387Z"
   },
   {
    "duration": 13,
    "start_time": "2022-12-24T09:44:33.813Z"
   },
   {
    "duration": 5,
    "start_time": "2022-12-24T09:45:05.898Z"
   },
   {
    "duration": 5,
    "start_time": "2022-12-24T09:45:20.436Z"
   },
   {
    "duration": 8,
    "start_time": "2022-12-24T09:45:33.811Z"
   },
   {
    "duration": 6,
    "start_time": "2022-12-24T09:45:59.015Z"
   },
   {
    "duration": 5,
    "start_time": "2022-12-24T09:46:10.715Z"
   },
   {
    "duration": 80,
    "start_time": "2022-12-24T09:55:25.841Z"
   },
   {
    "duration": 4,
    "start_time": "2022-12-24T09:57:05.546Z"
   },
   {
    "duration": 48,
    "start_time": "2022-12-24T09:57:07.421Z"
   },
   {
    "duration": 13,
    "start_time": "2022-12-24T09:57:07.732Z"
   },
   {
    "duration": 9,
    "start_time": "2022-12-24T09:57:07.892Z"
   },
   {
    "duration": 5,
    "start_time": "2022-12-24T09:57:08.040Z"
   },
   {
    "duration": 5,
    "start_time": "2022-12-24T09:57:08.180Z"
   },
   {
    "duration": 6,
    "start_time": "2022-12-24T09:57:08.454Z"
   },
   {
    "duration": 33,
    "start_time": "2022-12-24T09:57:10.364Z"
   },
   {
    "duration": 32,
    "start_time": "2022-12-24T09:57:34.969Z"
   },
   {
    "duration": 3,
    "start_time": "2022-12-24T10:01:21.137Z"
   },
   {
    "duration": 38,
    "start_time": "2022-12-24T10:01:21.442Z"
   },
   {
    "duration": 222,
    "start_time": "2022-12-24T10:01:21.785Z"
   },
   {
    "duration": 8,
    "start_time": "2022-12-24T10:01:23.770Z"
   },
   {
    "duration": 5,
    "start_time": "2022-12-24T10:01:24.697Z"
   },
   {
    "duration": 5,
    "start_time": "2022-12-24T10:01:25.397Z"
   },
   {
    "duration": 5,
    "start_time": "2022-12-24T10:01:26.190Z"
   },
   {
    "duration": 5,
    "start_time": "2022-12-24T10:01:26.694Z"
   },
   {
    "duration": 29,
    "start_time": "2022-12-24T10:01:28.838Z"
   },
   {
    "duration": 5,
    "start_time": "2022-12-24T10:01:56.694Z"
   },
   {
    "duration": 37,
    "start_time": "2022-12-24T10:01:56.922Z"
   },
   {
    "duration": 221,
    "start_time": "2022-12-24T10:01:57.170Z"
   },
   {
    "duration": 152,
    "start_time": "2022-12-24T10:01:57.798Z"
   },
   {
    "duration": 4,
    "start_time": "2022-12-24T10:01:58.146Z"
   },
   {
    "duration": 5,
    "start_time": "2022-12-24T10:01:59.465Z"
   },
   {
    "duration": 5,
    "start_time": "2022-12-24T10:02:00.562Z"
   },
   {
    "duration": 5,
    "start_time": "2022-12-24T10:02:01.000Z"
   },
   {
    "duration": 425,
    "start_time": "2022-12-24T10:02:05.991Z"
   },
   {
    "duration": 452,
    "start_time": "2022-12-24T10:03:02.670Z"
   },
   {
    "duration": 4,
    "start_time": "2022-12-24T10:05:07.890Z"
   },
   {
    "duration": 37,
    "start_time": "2022-12-24T10:05:08.146Z"
   },
   {
    "duration": 17,
    "start_time": "2022-12-24T10:05:08.811Z"
   },
   {
    "duration": 3,
    "start_time": "2022-12-24T10:05:41.039Z"
   },
   {
    "duration": 36,
    "start_time": "2022-12-24T10:05:41.572Z"
   },
   {
    "duration": 238,
    "start_time": "2022-12-24T10:05:42.243Z"
   },
   {
    "duration": 113,
    "start_time": "2022-12-24T10:05:49.439Z"
   },
   {
    "duration": 5,
    "start_time": "2022-12-24T10:05:51.086Z"
   },
   {
    "duration": 4,
    "start_time": "2022-12-24T10:05:52.063Z"
   },
   {
    "duration": 4,
    "start_time": "2022-12-24T10:05:52.652Z"
   },
   {
    "duration": 5,
    "start_time": "2022-12-24T10:05:53.151Z"
   },
   {
    "duration": 438,
    "start_time": "2022-12-24T10:06:05.091Z"
   },
   {
    "duration": 4,
    "start_time": "2022-12-24T10:13:24.557Z"
   },
   {
    "duration": 35,
    "start_time": "2022-12-24T10:13:24.901Z"
   },
   {
    "duration": 8,
    "start_time": "2022-12-24T10:13:25.236Z"
   },
   {
    "duration": 8,
    "start_time": "2022-12-24T10:14:13.961Z"
   },
   {
    "duration": 4,
    "start_time": "2022-12-24T10:14:14.349Z"
   },
   {
    "duration": 4,
    "start_time": "2022-12-24T10:14:14.857Z"
   },
   {
    "duration": 4,
    "start_time": "2022-12-24T10:14:15.227Z"
   },
   {
    "duration": 4,
    "start_time": "2022-12-24T10:14:15.769Z"
   },
   {
    "duration": 21,
    "start_time": "2022-12-24T10:14:24.082Z"
   },
   {
    "duration": 24,
    "start_time": "2022-12-24T10:17:46.522Z"
   },
   {
    "duration": 3,
    "start_time": "2022-12-24T10:18:10.607Z"
   },
   {
    "duration": 35,
    "start_time": "2022-12-24T10:18:36.539Z"
   },
   {
    "duration": 7,
    "start_time": "2022-12-24T10:18:45.403Z"
   },
   {
    "duration": 21,
    "start_time": "2022-12-24T10:19:24.148Z"
   },
   {
    "duration": 6,
    "start_time": "2022-12-24T10:19:44.055Z"
   },
   {
    "duration": 21,
    "start_time": "2022-12-24T10:19:50.648Z"
   },
   {
    "duration": 204,
    "start_time": "2022-12-24T10:21:21.875Z"
   },
   {
    "duration": 212,
    "start_time": "2022-12-24T10:21:45.536Z"
   },
   {
    "duration": 103,
    "start_time": "2022-12-24T10:21:46.636Z"
   },
   {
    "duration": 4,
    "start_time": "2022-12-24T10:21:48.017Z"
   },
   {
    "duration": 4,
    "start_time": "2022-12-24T10:21:49.053Z"
   },
   {
    "duration": 4,
    "start_time": "2022-12-24T10:21:54.456Z"
   },
   {
    "duration": 4,
    "start_time": "2022-12-24T10:21:57.141Z"
   },
   {
    "duration": 26,
    "start_time": "2022-12-24T10:22:12.453Z"
   },
   {
    "duration": 446,
    "start_time": "2022-12-24T10:22:22.816Z"
   },
   {
    "duration": 229,
    "start_time": "2022-12-24T10:23:15.573Z"
   },
   {
    "duration": 205,
    "start_time": "2022-12-24T10:23:22.881Z"
   },
   {
    "duration": 241,
    "start_time": "2022-12-24T10:23:28.907Z"
   },
   {
    "duration": 85,
    "start_time": "2022-12-24T10:23:33.704Z"
   },
   {
    "duration": 5,
    "start_time": "2022-12-24T10:23:34.154Z"
   },
   {
    "duration": 5,
    "start_time": "2022-12-24T10:23:34.392Z"
   },
   {
    "duration": 5,
    "start_time": "2022-12-24T10:23:34.951Z"
   },
   {
    "duration": 5,
    "start_time": "2022-12-24T10:23:35.616Z"
   },
   {
    "duration": 510,
    "start_time": "2022-12-24T10:23:44.227Z"
   },
   {
    "duration": 591,
    "start_time": "2022-12-24T10:28:38.097Z"
   },
   {
    "duration": 3,
    "start_time": "2022-12-24T10:29:03.993Z"
   },
   {
    "duration": 36,
    "start_time": "2022-12-24T10:29:04.461Z"
   },
   {
    "duration": 5,
    "start_time": "2022-12-24T10:29:04.677Z"
   },
   {
    "duration": 228,
    "start_time": "2022-12-24T10:29:04.974Z"
   },
   {
    "duration": 97,
    "start_time": "2022-12-24T10:29:05.764Z"
   },
   {
    "duration": 4,
    "start_time": "2022-12-24T10:29:06.049Z"
   },
   {
    "duration": 4,
    "start_time": "2022-12-24T10:29:06.453Z"
   },
   {
    "duration": 5,
    "start_time": "2022-12-24T10:29:06.752Z"
   },
   {
    "duration": 4,
    "start_time": "2022-12-24T10:29:07.004Z"
   },
   {
    "duration": 698,
    "start_time": "2022-12-24T10:29:07.880Z"
   },
   {
    "duration": 733,
    "start_time": "2022-12-24T10:44:34.545Z"
   },
   {
    "duration": 68,
    "start_time": "2022-12-24T10:50:02.752Z"
   },
   {
    "duration": 4,
    "start_time": "2022-12-24T10:50:24.545Z"
   },
   {
    "duration": 38,
    "start_time": "2022-12-24T10:50:25.601Z"
   },
   {
    "duration": 5,
    "start_time": "2022-12-24T10:50:25.752Z"
   },
   {
    "duration": 263,
    "start_time": "2022-12-24T10:50:25.885Z"
   },
   {
    "duration": 92,
    "start_time": "2022-12-24T10:50:26.274Z"
   },
   {
    "duration": 4,
    "start_time": "2022-12-24T10:50:26.381Z"
   },
   {
    "duration": 4,
    "start_time": "2022-12-24T10:50:26.654Z"
   },
   {
    "duration": 4,
    "start_time": "2022-12-24T10:50:26.802Z"
   },
   {
    "duration": 5,
    "start_time": "2022-12-24T10:50:26.942Z"
   },
   {
    "duration": 735,
    "start_time": "2022-12-24T10:50:27.346Z"
   },
   {
    "duration": 801,
    "start_time": "2022-12-24T10:50:28.084Z"
   },
   {
    "duration": 396,
    "start_time": "2022-12-24T10:50:28.887Z"
   },
   {
    "duration": 3,
    "start_time": "2022-12-24T11:04:48.056Z"
   },
   {
    "duration": 44,
    "start_time": "2022-12-24T11:05:21.784Z"
   },
   {
    "duration": 6,
    "start_time": "2022-12-24T11:05:21.983Z"
   },
   {
    "duration": 241,
    "start_time": "2022-12-24T11:05:22.272Z"
   },
   {
    "duration": 92,
    "start_time": "2022-12-24T11:05:23.359Z"
   },
   {
    "duration": 4,
    "start_time": "2022-12-24T11:05:23.716Z"
   },
   {
    "duration": 5,
    "start_time": "2022-12-24T11:05:24.012Z"
   },
   {
    "duration": 5,
    "start_time": "2022-12-24T11:05:24.240Z"
   },
   {
    "duration": 4,
    "start_time": "2022-12-24T11:05:24.392Z"
   },
   {
    "duration": 622,
    "start_time": "2022-12-24T11:05:26.960Z"
   },
   {
    "duration": 590,
    "start_time": "2022-12-24T11:05:30.707Z"
   },
   {
    "duration": 67,
    "start_time": "2022-12-24T11:05:47.312Z"
   },
   {
    "duration": 4,
    "start_time": "2022-12-24T11:06:20.518Z"
   },
   {
    "duration": 98,
    "start_time": "2022-12-24T11:06:24.280Z"
   },
   {
    "duration": 1359,
    "start_time": "2022-12-24T11:23:31.141Z"
   },
   {
    "duration": 43,
    "start_time": "2022-12-24T11:23:32.502Z"
   },
   {
    "duration": 6,
    "start_time": "2022-12-24T11:23:32.547Z"
   },
   {
    "duration": 268,
    "start_time": "2022-12-24T11:23:32.556Z"
   },
   {
    "duration": 107,
    "start_time": "2022-12-24T11:23:32.825Z"
   },
   {
    "duration": 9,
    "start_time": "2022-12-24T11:23:32.934Z"
   },
   {
    "duration": 132,
    "start_time": "2022-12-24T11:23:32.945Z"
   },
   {
    "duration": 10,
    "start_time": "2022-12-24T11:23:33.080Z"
   },
   {
    "duration": 7,
    "start_time": "2022-12-24T11:23:33.091Z"
   },
   {
    "duration": 585,
    "start_time": "2022-12-24T11:23:33.100Z"
   },
   {
    "duration": 796,
    "start_time": "2022-12-24T11:23:33.688Z"
   },
   {
    "duration": 92,
    "start_time": "2022-12-24T11:23:34.487Z"
   },
   {
    "duration": 198,
    "start_time": "2022-12-24T11:23:34.581Z"
   },
   {
    "duration": 116102,
    "start_time": "2022-12-24T11:23:34.781Z"
   },
   {
    "duration": 264,
    "start_time": "2022-12-24T11:29:56.814Z"
   },
   {
    "duration": 108,
    "start_time": "2022-12-24T11:29:57.664Z"
   },
   {
    "duration": 4,
    "start_time": "2022-12-24T11:29:58.246Z"
   },
   {
    "duration": 4,
    "start_time": "2022-12-24T11:30:05.053Z"
   },
   {
    "duration": 5,
    "start_time": "2022-12-24T11:30:06.456Z"
   },
   {
    "duration": 6,
    "start_time": "2022-12-24T11:30:07.893Z"
   },
   {
    "duration": 5,
    "start_time": "2022-12-24T11:30:44.169Z"
   },
   {
    "duration": 5,
    "start_time": "2022-12-24T11:30:44.373Z"
   },
   {
    "duration": 509,
    "start_time": "2022-12-24T11:30:57.185Z"
   },
   {
    "duration": 569,
    "start_time": "2022-12-24T11:31:01.929Z"
   },
   {
    "duration": 115,
    "start_time": "2022-12-24T11:32:34.563Z"
   },
   {
    "duration": 4,
    "start_time": "2022-12-24T11:33:02.310Z"
   },
   {
    "duration": 239,
    "start_time": "2022-12-24T11:33:07.437Z"
   },
   {
    "duration": 4,
    "start_time": "2022-12-24T11:33:24.278Z"
   },
   {
    "duration": 3871,
    "start_time": "2022-12-24T11:33:30.546Z"
   },
   {
    "duration": 10,
    "start_time": "2022-12-24T11:34:17.710Z"
   },
   {
    "duration": 435,
    "start_time": "2022-12-24T11:34:39.238Z"
   },
   {
    "duration": 144,
    "start_time": "2022-12-24T11:34:44.122Z"
   },
   {
    "duration": 3985,
    "start_time": "2022-12-24T11:35:18.311Z"
   },
   {
    "duration": 862,
    "start_time": "2022-12-24T11:35:36.334Z"
   },
   {
    "duration": 22,
    "start_time": "2022-12-24T11:38:16.835Z"
   },
   {
    "duration": 243,
    "start_time": "2022-12-24T11:39:05.411Z"
   },
   {
    "duration": 10,
    "start_time": "2022-12-24T11:41:12.089Z"
   },
   {
    "duration": 61742,
    "start_time": "2022-12-24T11:42:10.789Z"
   },
   {
    "duration": 12979,
    "start_time": "2022-12-24T11:43:12.533Z"
   },
   {
    "duration": 12658,
    "start_time": "2022-12-24T11:44:24.479Z"
   },
   {
    "duration": 187294,
    "start_time": "2022-12-24T11:45:39.901Z"
   },
   {
    "duration": 89,
    "start_time": "2022-12-24T11:48:47.198Z"
   },
   {
    "duration": 171382,
    "start_time": "2022-12-24T11:50:01.713Z"
   },
   {
    "duration": 61372,
    "start_time": "2022-12-24T11:54:14.918Z"
   },
   {
    "duration": 22018,
    "start_time": "2022-12-24T11:55:16.297Z"
   },
   {
    "duration": 15,
    "start_time": "2022-12-24T11:55:41.233Z"
   },
   {
    "duration": 16,
    "start_time": "2022-12-24T11:58:00.031Z"
   },
   {
    "duration": 297743,
    "start_time": "2022-12-24T11:58:10.935Z"
   },
   {
    "duration": 23817,
    "start_time": "2022-12-24T12:03:08.682Z"
   },
   {
    "duration": 534,
    "start_time": "2022-12-24T12:05:01.948Z"
   },
   {
    "duration": 10,
    "start_time": "2022-12-24T12:05:04.508Z"
   },
   {
    "duration": 4,
    "start_time": "2022-12-24T12:05:29.144Z"
   },
   {
    "duration": 6,
    "start_time": "2022-12-24T12:05:38.599Z"
   },
   {
    "duration": 13,
    "start_time": "2022-12-24T12:12:20.023Z"
   },
   {
    "duration": 4,
    "start_time": "2022-12-24T12:14:16.142Z"
   },
   {
    "duration": 352,
    "start_time": "2022-12-24T12:14:20.469Z"
   },
   {
    "duration": 1033,
    "start_time": "2022-12-24T12:14:33.166Z"
   },
   {
    "duration": 425,
    "start_time": "2022-12-24T12:14:38.109Z"
   },
   {
    "duration": 62,
    "start_time": "2022-12-24T12:14:41.554Z"
   },
   {
    "duration": 391251,
    "start_time": "2022-12-24T12:24:00.440Z"
   },
   {
    "duration": 115,
    "start_time": "2022-12-24T12:30:31.700Z"
   },
   {
    "duration": 0,
    "start_time": "2022-12-24T12:30:31.817Z"
   },
   {
    "duration": 0,
    "start_time": "2022-12-24T12:30:31.818Z"
   },
   {
    "duration": 113,
    "start_time": "2022-12-24T12:31:33.894Z"
   },
   {
    "duration": 4,
    "start_time": "2022-12-24T12:31:56.929Z"
   },
   {
    "duration": 2360,
    "start_time": "2022-12-24T12:32:16.924Z"
   },
   {
    "duration": 323,
    "start_time": "2022-12-24T12:32:19.286Z"
   },
   {
    "duration": 61019,
    "start_time": "2022-12-24T12:38:25.780Z"
   },
   {
    "duration": 181,
    "start_time": "2022-12-24T12:39:26.800Z"
   },
   {
    "duration": 0,
    "start_time": "2022-12-24T12:39:26.983Z"
   },
   {
    "duration": 0,
    "start_time": "2022-12-24T12:39:26.984Z"
   },
   {
    "duration": 0,
    "start_time": "2022-12-24T12:41:58.480Z"
   },
   {
    "duration": 0,
    "start_time": "2022-12-24T12:41:58.483Z"
   },
   {
    "duration": 0,
    "start_time": "2022-12-24T12:41:58.485Z"
   },
   {
    "duration": 60410,
    "start_time": "2022-12-24T12:42:08.451Z"
   },
   {
    "duration": 23588,
    "start_time": "2022-12-24T12:43:54.152Z"
   },
   {
    "duration": 0,
    "start_time": "2022-12-24T12:44:17.742Z"
   },
   {
    "duration": 60579,
    "start_time": "2022-12-24T12:45:23.408Z"
   },
   {
    "duration": 3866,
    "start_time": "2022-12-24T12:47:50.565Z"
   },
   {
    "duration": 3686,
    "start_time": "2022-12-24T12:48:34.529Z"
   },
   {
    "duration": 145,
    "start_time": "2022-12-24T12:49:17.350Z"
   },
   {
    "duration": 849,
    "start_time": "2022-12-24T12:49:53.834Z"
   },
   {
    "duration": 11,
    "start_time": "2022-12-24T12:52:14.122Z"
   },
   {
    "duration": 23854,
    "start_time": "2022-12-24T12:52:21.422Z"
   },
   {
    "duration": 5,
    "start_time": "2022-12-24T12:53:05.030Z"
   },
   {
    "duration": 7394,
    "start_time": "2022-12-24T12:53:10.042Z"
   },
   {
    "duration": 25264,
    "start_time": "2022-12-24T12:53:40.010Z"
   },
   {
    "duration": 52770,
    "start_time": "2022-12-24T12:54:24.679Z"
   },
   {
    "duration": 8723,
    "start_time": "2022-12-24T12:57:01.756Z"
   },
   {
    "duration": 3812,
    "start_time": "2022-12-24T12:57:36.523Z"
   },
   {
    "duration": 6784,
    "start_time": "2022-12-24T12:58:15.396Z"
   },
   {
    "duration": 10392,
    "start_time": "2022-12-24T12:58:43.380Z"
   },
   {
    "duration": 297,
    "start_time": "2022-12-24T12:59:35.159Z"
   },
   {
    "duration": 326,
    "start_time": "2022-12-24T13:01:08.672Z"
   },
   {
    "duration": 320,
    "start_time": "2022-12-24T13:01:15.916Z"
   },
   {
    "duration": 443,
    "start_time": "2022-12-24T13:02:10.124Z"
   },
   {
    "duration": 447,
    "start_time": "2022-12-24T13:02:34.866Z"
   },
   {
    "duration": 306,
    "start_time": "2022-12-24T13:02:53.136Z"
   },
   {
    "duration": 704,
    "start_time": "2022-12-24T13:05:57.294Z"
   },
   {
    "duration": 8730,
    "start_time": "2022-12-24T13:06:18.145Z"
   },
   {
    "duration": 10227,
    "start_time": "2022-12-24T13:06:32.645Z"
   },
   {
    "duration": 10076,
    "start_time": "2022-12-24T13:06:50.373Z"
   },
   {
    "duration": 52346,
    "start_time": "2022-12-24T13:07:20.881Z"
   },
   {
    "duration": 10189,
    "start_time": "2022-12-24T13:08:18.293Z"
   },
   {
    "duration": 30702,
    "start_time": "2022-12-24T13:08:38.350Z"
   },
   {
    "duration": 629,
    "start_time": "2022-12-24T13:09:09.055Z"
   },
   {
    "duration": 71993,
    "start_time": "2022-12-24T13:09:52.230Z"
   },
   {
    "duration": 53915,
    "start_time": "2022-12-24T13:11:12.742Z"
   },
   {
    "duration": 544,
    "start_time": "2022-12-24T13:12:06.659Z"
   },
   {
    "duration": 54366,
    "start_time": "2022-12-24T13:12:25.162Z"
   },
   {
    "duration": 610,
    "start_time": "2022-12-24T13:13:19.530Z"
   },
   {
    "duration": 702,
    "start_time": "2022-12-24T13:13:35.006Z"
   },
   {
    "duration": 582,
    "start_time": "2022-12-24T13:13:41.047Z"
   },
   {
    "duration": 827,
    "start_time": "2022-12-24T13:14:21.746Z"
   },
   {
    "duration": 6478,
    "start_time": "2022-12-24T13:14:53.143Z"
   },
   {
    "duration": 570,
    "start_time": "2022-12-24T13:15:33.951Z"
   },
   {
    "duration": 635,
    "start_time": "2022-12-24T13:15:39.447Z"
   },
   {
    "duration": 6716,
    "start_time": "2022-12-24T13:16:02.255Z"
   },
   {
    "duration": 525,
    "start_time": "2022-12-24T13:16:27.847Z"
   },
   {
    "duration": 604,
    "start_time": "2022-12-24T13:16:33.168Z"
   },
   {
    "duration": 661,
    "start_time": "2022-12-24T13:16:40.383Z"
   },
   {
    "duration": 686,
    "start_time": "2022-12-24T13:16:49.011Z"
   },
   {
    "duration": 630,
    "start_time": "2022-12-24T13:16:54.843Z"
   },
   {
    "duration": 65583,
    "start_time": "2022-12-24T13:18:42.030Z"
   },
   {
    "duration": 55261,
    "start_time": "2022-12-24T13:20:41.172Z"
   },
   {
    "duration": 953,
    "start_time": "2022-12-24T13:22:20.525Z"
   },
   {
    "duration": 111862,
    "start_time": "2022-12-24T13:24:16.169Z"
   },
   {
    "duration": 862,
    "start_time": "2022-12-24T13:26:20.041Z"
   },
   {
    "duration": 151499,
    "start_time": "2022-12-24T13:28:36.337Z"
   },
   {
    "duration": 170,
    "start_time": "2022-12-24T13:31:28.958Z"
   },
   {
    "duration": 47,
    "start_time": "2022-12-24T13:32:03.263Z"
   },
   {
    "duration": 968,
    "start_time": "2022-12-24T13:36:19.095Z"
   },
   {
    "duration": 222737,
    "start_time": "2022-12-24T13:36:34.768Z"
   },
   {
    "duration": 3,
    "start_time": "2022-12-24T13:40:17.507Z"
   },
   {
    "duration": 209751,
    "start_time": "2022-12-24T13:40:30.857Z"
   },
   {
    "duration": 510,
    "start_time": "2022-12-24T13:44:02.625Z"
   },
   {
    "duration": 1396,
    "start_time": "2022-12-24T13:47:57.814Z"
   },
   {
    "duration": 40,
    "start_time": "2022-12-24T13:47:59.212Z"
   },
   {
    "duration": 15,
    "start_time": "2022-12-24T13:47:59.253Z"
   },
   {
    "duration": 32,
    "start_time": "2022-12-24T13:47:59.270Z"
   },
   {
    "duration": 294,
    "start_time": "2022-12-24T13:47:59.305Z"
   },
   {
    "duration": 124,
    "start_time": "2022-12-24T13:47:59.601Z"
   },
   {
    "duration": 6,
    "start_time": "2022-12-24T13:47:59.727Z"
   },
   {
    "duration": 9,
    "start_time": "2022-12-24T13:47:59.735Z"
   },
   {
    "duration": 15,
    "start_time": "2022-12-24T13:47:59.746Z"
   },
   {
    "duration": 31,
    "start_time": "2022-12-24T13:47:59.763Z"
   },
   {
    "duration": 21,
    "start_time": "2022-12-24T13:47:59.798Z"
   },
   {
    "duration": 17,
    "start_time": "2022-12-24T13:47:59.821Z"
   },
   {
    "duration": 554,
    "start_time": "2022-12-24T13:47:59.840Z"
   },
   {
    "duration": 7188,
    "start_time": "2022-12-24T13:48:00.397Z"
   },
   {
    "duration": 136817,
    "start_time": "2022-12-24T13:48:07.587Z"
   },
   {
    "duration": 5,
    "start_time": "2022-12-24T13:50:24.406Z"
   },
   {
    "duration": 582,
    "start_time": "2022-12-24T13:50:24.413Z"
   },
   {
    "duration": 2011,
    "start_time": "2022-12-24T13:50:25.078Z"
   },
   {
    "duration": 386,
    "start_time": "2022-12-24T13:50:27.094Z"
   },
   {
    "duration": 414,
    "start_time": "2022-12-24T13:50:27.483Z"
   },
   {
    "duration": 84,
    "start_time": "2022-12-24T13:50:27.899Z"
   },
   {
    "duration": 6912,
    "start_time": "2022-12-24T13:50:27.985Z"
   },
   {
    "duration": 128,
    "start_time": "2022-12-24T13:50:34.899Z"
   },
   {
    "duration": 173,
    "start_time": "2022-12-24T13:50:35.028Z"
   },
   {
    "duration": 42,
    "start_time": "2022-12-24T13:50:35.203Z"
   },
   {
    "duration": 921,
    "start_time": "2022-12-24T13:50:35.247Z"
   },
   {
    "duration": 153671,
    "start_time": "2022-12-24T13:50:36.170Z"
   },
   {
    "duration": 203,
    "start_time": "2022-12-24T13:53:09.843Z"
   },
   {
    "duration": 64,
    "start_time": "2022-12-24T13:53:10.048Z"
   },
   {
    "duration": 1269,
    "start_time": "2022-12-24T13:53:10.114Z"
   },
   {
    "duration": 771,
    "start_time": "2022-12-24T13:53:11.390Z"
   },
   {
    "duration": 1488,
    "start_time": "2022-12-24T14:02:09.689Z"
   },
   {
    "duration": 40,
    "start_time": "2022-12-24T14:02:11.179Z"
   },
   {
    "duration": 14,
    "start_time": "2022-12-24T14:02:11.221Z"
   },
   {
    "duration": 24,
    "start_time": "2022-12-24T14:02:11.237Z"
   },
   {
    "duration": 286,
    "start_time": "2022-12-24T14:02:11.264Z"
   },
   {
    "duration": 125,
    "start_time": "2022-12-24T14:02:11.552Z"
   },
   {
    "duration": 6,
    "start_time": "2022-12-24T14:02:11.679Z"
   },
   {
    "duration": 27,
    "start_time": "2022-12-24T14:02:11.686Z"
   },
   {
    "duration": 21,
    "start_time": "2022-12-24T14:02:11.715Z"
   },
   {
    "duration": 27,
    "start_time": "2022-12-24T14:02:11.738Z"
   },
   {
    "duration": 23,
    "start_time": "2022-12-24T14:02:11.767Z"
   },
   {
    "duration": 18,
    "start_time": "2022-12-24T14:02:11.792Z"
   },
   {
    "duration": 566,
    "start_time": "2022-12-24T14:02:11.812Z"
   },
   {
    "duration": 7844,
    "start_time": "2022-12-24T14:02:12.382Z"
   },
   {
    "duration": 131565,
    "start_time": "2022-12-24T14:02:20.228Z"
   },
   {
    "duration": 6,
    "start_time": "2022-12-24T14:04:31.795Z"
   },
   {
    "duration": 1600,
    "start_time": "2022-12-24T14:04:31.803Z"
   },
   {
    "duration": 334,
    "start_time": "2022-12-24T14:04:33.479Z"
   },
   {
    "duration": 699,
    "start_time": "2022-12-24T14:04:33.878Z"
   },
   {
    "duration": 421,
    "start_time": "2022-12-24T14:04:34.582Z"
   },
   {
    "duration": 74,
    "start_time": "2022-12-24T14:04:35.005Z"
   },
   {
    "duration": 6848,
    "start_time": "2022-12-24T14:04:35.081Z"
   },
   {
    "duration": 111,
    "start_time": "2022-12-24T14:04:41.930Z"
   },
   {
    "duration": 163,
    "start_time": "2022-12-24T14:04:42.042Z"
   },
   {
    "duration": 42,
    "start_time": "2022-12-24T14:04:42.207Z"
   },
   {
    "duration": 887,
    "start_time": "2022-12-24T14:04:42.250Z"
   },
   {
    "duration": 142043,
    "start_time": "2022-12-24T14:04:43.138Z"
   },
   {
    "duration": 167,
    "start_time": "2022-12-24T14:07:05.183Z"
   },
   {
    "duration": 59,
    "start_time": "2022-12-24T14:07:05.351Z"
   },
   {
    "duration": 970,
    "start_time": "2022-12-24T14:07:05.412Z"
   },
   {
    "duration": 156,
    "start_time": "2022-12-24T14:29:02.499Z"
   },
   {
    "duration": 194,
    "start_time": "2022-12-24T14:29:20.962Z"
   },
   {
    "duration": 276,
    "start_time": "2022-12-24T14:29:46.308Z"
   },
   {
    "duration": 1657,
    "start_time": "2022-12-25T06:38:31.757Z"
   },
   {
    "duration": 48,
    "start_time": "2022-12-25T06:38:33.417Z"
   },
   {
    "duration": 19,
    "start_time": "2022-12-25T06:38:33.468Z"
   },
   {
    "duration": 7,
    "start_time": "2022-12-25T06:38:33.489Z"
   },
   {
    "duration": 277,
    "start_time": "2022-12-25T06:38:33.499Z"
   },
   {
    "duration": 162,
    "start_time": "2022-12-25T06:38:33.779Z"
   },
   {
    "duration": 6,
    "start_time": "2022-12-25T06:38:33.943Z"
   },
   {
    "duration": 11,
    "start_time": "2022-12-25T06:38:33.952Z"
   },
   {
    "duration": 8,
    "start_time": "2022-12-25T06:38:33.968Z"
   },
   {
    "duration": 28,
    "start_time": "2022-12-25T06:38:33.978Z"
   },
   {
    "duration": 24,
    "start_time": "2022-12-25T06:38:34.008Z"
   },
   {
    "duration": 8,
    "start_time": "2022-12-25T06:38:34.034Z"
   },
   {
    "duration": 592,
    "start_time": "2022-12-25T06:38:34.045Z"
   },
   {
    "duration": 8374,
    "start_time": "2022-12-25T06:38:34.641Z"
   },
   {
    "duration": 125430,
    "start_time": "2022-12-25T06:38:43.017Z"
   },
   {
    "duration": 5,
    "start_time": "2022-12-25T06:40:48.449Z"
   },
   {
    "duration": 1488,
    "start_time": "2022-12-25T06:40:48.455Z"
   },
   {
    "duration": 325,
    "start_time": "2022-12-25T06:40:50.037Z"
   },
   {
    "duration": 770,
    "start_time": "2022-12-25T06:40:50.364Z"
   },
   {
    "duration": 405,
    "start_time": "2022-12-25T06:40:51.146Z"
   },
   {
    "duration": 83,
    "start_time": "2022-12-25T06:40:51.553Z"
   },
   {
    "duration": 6295,
    "start_time": "2022-12-25T06:40:51.639Z"
   },
   {
    "duration": 117,
    "start_time": "2022-12-25T06:40:57.936Z"
   },
   {
    "duration": 163,
    "start_time": "2022-12-25T06:40:58.054Z"
   },
   {
    "duration": 43,
    "start_time": "2022-12-25T06:40:58.219Z"
   },
   {
    "duration": 857,
    "start_time": "2022-12-25T06:40:58.264Z"
   },
   {
    "duration": 128996,
    "start_time": "2022-12-25T06:40:59.123Z"
   },
   {
    "duration": 168,
    "start_time": "2022-12-25T06:43:08.120Z"
   },
   {
    "duration": 62,
    "start_time": "2022-12-25T06:43:08.290Z"
   },
   {
    "duration": 894,
    "start_time": "2022-12-25T06:43:08.353Z"
   },
   {
    "duration": 221,
    "start_time": "2022-12-25T06:57:19.770Z"
   },
   {
    "duration": 32,
    "start_time": "2022-12-25T06:59:54.769Z"
   },
   {
    "duration": 1550,
    "start_time": "2022-12-25T19:26:09.178Z"
   },
   {
    "duration": 79,
    "start_time": "2022-12-25T19:26:10.730Z"
   },
   {
    "duration": 19,
    "start_time": "2022-12-25T19:26:10.811Z"
   },
   {
    "duration": 134,
    "start_time": "2022-12-25T19:26:32.505Z"
   },
   {
    "duration": 13,
    "start_time": "2022-12-25T19:26:52.984Z"
   },
   {
    "duration": 29,
    "start_time": "2022-12-25T19:27:03.431Z"
   },
   {
    "duration": 44,
    "start_time": "2022-12-25T19:27:13.133Z"
   },
   {
    "duration": 16,
    "start_time": "2022-12-25T19:34:05.930Z"
   },
   {
    "duration": 14,
    "start_time": "2022-12-25T19:34:26.512Z"
   },
   {
    "duration": 10,
    "start_time": "2022-12-25T19:35:03.515Z"
   },
   {
    "duration": 13,
    "start_time": "2022-12-25T19:35:27.128Z"
   },
   {
    "duration": 5,
    "start_time": "2022-12-25T19:36:42.284Z"
   },
   {
    "duration": 15,
    "start_time": "2022-12-25T19:37:03.201Z"
   },
   {
    "duration": 15,
    "start_time": "2022-12-25T19:42:26.607Z"
   },
   {
    "duration": 6,
    "start_time": "2022-12-25T19:50:46.595Z"
   },
   {
    "duration": 7,
    "start_time": "2022-12-25T19:54:58.655Z"
   },
   {
    "duration": 11,
    "start_time": "2022-12-25T19:55:03.914Z"
   },
   {
    "duration": 5,
    "start_time": "2022-12-25T19:55:08.093Z"
   },
   {
    "duration": 21,
    "start_time": "2022-12-25T19:55:11.245Z"
   },
   {
    "duration": 15,
    "start_time": "2022-12-25T19:56:21.199Z"
   },
   {
    "duration": 4,
    "start_time": "2022-12-25T20:00:40.947Z"
   },
   {
    "duration": 14,
    "start_time": "2022-12-25T20:05:02.788Z"
   },
   {
    "duration": 14,
    "start_time": "2022-12-25T20:05:44.812Z"
   },
   {
    "duration": 5,
    "start_time": "2022-12-25T20:05:49.913Z"
   },
   {
    "duration": 5,
    "start_time": "2022-12-25T20:05:53.195Z"
   },
   {
    "duration": 4,
    "start_time": "2022-12-25T20:05:54.422Z"
   },
   {
    "duration": 4,
    "start_time": "2022-12-25T20:06:03.417Z"
   },
   {
    "duration": 5,
    "start_time": "2022-12-25T20:06:04.030Z"
   },
   {
    "duration": 4,
    "start_time": "2022-12-25T20:06:04.698Z"
   },
   {
    "duration": 11,
    "start_time": "2022-12-25T20:37:45.812Z"
   },
   {
    "duration": 16,
    "start_time": "2022-12-25T20:40:21.844Z"
   },
   {
    "duration": 20,
    "start_time": "2022-12-25T20:40:42.334Z"
   },
   {
    "duration": 305,
    "start_time": "2022-12-25T20:43:20.539Z"
   },
   {
    "duration": 6404,
    "start_time": "2022-12-25T20:43:37.931Z"
   },
   {
    "duration": 6,
    "start_time": "2022-12-25T21:26:51.602Z"
   },
   {
    "duration": 6,
    "start_time": "2022-12-25T21:27:04.669Z"
   },
   {
    "duration": 204,
    "start_time": "2022-12-25T21:28:11.307Z"
   },
   {
    "duration": 7,
    "start_time": "2022-12-25T21:28:28.558Z"
   },
   {
    "duration": 134,
    "start_time": "2022-12-25T21:28:45.710Z"
   },
   {
    "duration": 14,
    "start_time": "2022-12-25T21:31:10.358Z"
   },
   {
    "duration": 10,
    "start_time": "2022-12-25T21:31:28.455Z"
   },
   {
    "duration": 8,
    "start_time": "2022-12-25T21:33:45.814Z"
   },
   {
    "duration": 34,
    "start_time": "2022-12-25T21:33:48.036Z"
   },
   {
    "duration": 1553,
    "start_time": "2022-12-25T21:33:57.610Z"
   },
   {
    "duration": 70,
    "start_time": "2022-12-25T21:33:59.165Z"
   },
   {
    "duration": 16,
    "start_time": "2022-12-25T21:33:59.237Z"
   },
   {
    "duration": 33,
    "start_time": "2022-12-25T21:33:59.254Z"
   },
   {
    "duration": 56,
    "start_time": "2022-12-25T21:33:59.293Z"
   },
   {
    "duration": 5,
    "start_time": "2022-12-25T21:33:59.351Z"
   },
   {
    "duration": 15,
    "start_time": "2022-12-25T21:33:59.358Z"
   },
   {
    "duration": 15,
    "start_time": "2022-12-25T21:33:59.375Z"
   },
   {
    "duration": 38,
    "start_time": "2022-12-25T21:33:59.391Z"
   },
   {
    "duration": 5,
    "start_time": "2022-12-25T21:33:59.431Z"
   },
   {
    "duration": 18,
    "start_time": "2022-12-25T21:33:59.438Z"
   },
   {
    "duration": 13,
    "start_time": "2022-12-25T21:33:59.457Z"
   },
   {
    "duration": 3,
    "start_time": "2022-12-25T21:33:59.472Z"
   },
   {
    "duration": 45,
    "start_time": "2022-12-25T21:33:59.478Z"
   },
   {
    "duration": 5,
    "start_time": "2022-12-25T21:33:59.525Z"
   },
   {
    "duration": 5,
    "start_time": "2022-12-25T21:33:59.532Z"
   },
   {
    "duration": 5,
    "start_time": "2022-12-25T21:33:59.539Z"
   },
   {
    "duration": 5,
    "start_time": "2022-12-25T21:33:59.545Z"
   },
   {
    "duration": 11,
    "start_time": "2022-12-25T21:33:59.552Z"
   },
   {
    "duration": 6,
    "start_time": "2022-12-25T21:33:59.564Z"
   },
   {
    "duration": 225,
    "start_time": "2022-12-25T21:33:59.572Z"
   },
   {
    "duration": 16,
    "start_time": "2022-12-25T21:33:59.799Z"
   },
   {
    "duration": 202,
    "start_time": "2022-12-25T21:33:59.817Z"
   },
   {
    "duration": 457,
    "start_time": "2022-12-25T21:34:00.077Z"
   },
   {
    "duration": 48980,
    "start_time": "2022-12-25T21:34:00.536Z"
   },
   {
    "duration": 5,
    "start_time": "2022-12-25T21:34:49.522Z"
   },
   {
    "duration": 150,
    "start_time": "2022-12-25T21:34:49.529Z"
   },
   {
    "duration": 137,
    "start_time": "2022-12-25T21:34:49.680Z"
   },
   {
    "duration": 262,
    "start_time": "2022-12-25T21:34:49.822Z"
   },
   {
    "duration": 361,
    "start_time": "2022-12-25T21:34:50.086Z"
   },
   {
    "duration": 55,
    "start_time": "2022-12-25T21:34:50.449Z"
   },
   {
    "duration": 537,
    "start_time": "2022-12-25T21:34:50.508Z"
   },
   {
    "duration": 156,
    "start_time": "2022-12-25T21:34:51.048Z"
   },
   {
    "duration": 146,
    "start_time": "2022-12-25T21:34:51.209Z"
   },
   {
    "duration": 36,
    "start_time": "2022-12-25T21:34:51.358Z"
   },
   {
    "duration": 785,
    "start_time": "2022-12-25T21:34:51.396Z"
   },
   {
    "duration": 43632,
    "start_time": "2022-12-25T21:34:52.192Z"
   },
   {
    "duration": 162,
    "start_time": "2022-12-25T21:35:35.827Z"
   },
   {
    "duration": 13,
    "start_time": "2022-12-25T21:35:35.991Z"
   },
   {
    "duration": 109,
    "start_time": "2022-12-25T21:35:36.006Z"
   },
   {
    "duration": 1073455,
    "start_time": "2022-12-25T21:37:50.805Z"
   },
   {
    "duration": 4,
    "start_time": "2022-12-25T21:55:44.262Z"
   },
   {
    "duration": 21,
    "start_time": "2022-12-25T21:55:44.284Z"
   },
   {
    "duration": 70,
    "start_time": "2022-12-25T21:55:44.308Z"
   },
   {
    "duration": 6,
    "start_time": "2022-12-25T21:55:44.381Z"
   },
   {
    "duration": 105,
    "start_time": "2022-12-25T21:55:44.388Z"
   },
   {
    "duration": 19,
    "start_time": "2022-12-25T21:55:44.495Z"
   },
   {
    "duration": 5,
    "start_time": "2022-12-25T21:59:44.885Z"
   },
   {
    "duration": 6,
    "start_time": "2022-12-25T22:00:00.020Z"
   },
   {
    "duration": 8,
    "start_time": "2022-12-25T22:00:28.281Z"
   },
   {
    "duration": 4,
    "start_time": "2022-12-25T22:02:32.241Z"
   },
   {
    "duration": 11,
    "start_time": "2022-12-25T22:02:32.543Z"
   },
   {
    "duration": 20,
    "start_time": "2022-12-25T22:02:32.985Z"
   },
   {
    "duration": 1634,
    "start_time": "2022-12-26T08:54:18.090Z"
   },
   {
    "duration": 76,
    "start_time": "2022-12-26T08:54:19.726Z"
   },
   {
    "duration": 15,
    "start_time": "2022-12-26T08:54:19.805Z"
   },
   {
    "duration": 25,
    "start_time": "2022-12-26T08:54:19.824Z"
   },
   {
    "duration": 55,
    "start_time": "2022-12-26T08:54:19.852Z"
   },
   {
    "duration": 5,
    "start_time": "2022-12-26T08:54:19.909Z"
   },
   {
    "duration": 17,
    "start_time": "2022-12-26T08:54:19.915Z"
   },
   {
    "duration": 7,
    "start_time": "2022-12-26T08:54:19.934Z"
   },
   {
    "duration": 11,
    "start_time": "2022-12-26T08:54:19.944Z"
   },
   {
    "duration": 7,
    "start_time": "2022-12-26T08:54:20.189Z"
   },
   {
    "duration": 16,
    "start_time": "2022-12-26T08:54:20.510Z"
   },
   {
    "duration": 13,
    "start_time": "2022-12-26T08:54:20.662Z"
   },
   {
    "duration": 5,
    "start_time": "2022-12-26T08:54:21.498Z"
   },
   {
    "duration": 4,
    "start_time": "2022-12-26T08:54:22.020Z"
   },
   {
    "duration": 5,
    "start_time": "2022-12-26T08:54:22.138Z"
   },
   {
    "duration": 4,
    "start_time": "2022-12-26T08:54:22.288Z"
   },
   {
    "duration": 4,
    "start_time": "2022-12-26T08:54:22.429Z"
   },
   {
    "duration": 4,
    "start_time": "2022-12-26T08:54:22.589Z"
   },
   {
    "duration": 6,
    "start_time": "2022-12-26T08:54:24.928Z"
   },
   {
    "duration": 5,
    "start_time": "2022-12-26T08:54:25.148Z"
   },
   {
    "duration": 125,
    "start_time": "2022-12-26T08:54:25.698Z"
   },
   {
    "duration": 7,
    "start_time": "2022-12-26T08:54:26.050Z"
   },
   {
    "duration": 23,
    "start_time": "2022-12-26T08:54:27.731Z"
   },
   {
    "duration": 372,
    "start_time": "2022-12-26T08:54:28.610Z"
   },
   {
    "duration": 183688,
    "start_time": "2022-12-26T08:54:31.402Z"
   },
   {
    "duration": 22,
    "start_time": "2022-12-26T08:57:35.092Z"
   },
   {
    "duration": 20,
    "start_time": "2022-12-26T08:57:53.899Z"
   },
   {
    "duration": 301,
    "start_time": "2022-12-26T08:57:54.579Z"
   },
   {
    "duration": 10,
    "start_time": "2022-12-26T08:58:42.852Z"
   },
   {
    "duration": 373,
    "start_time": "2022-12-26T09:00:46.132Z"
   },
   {
    "duration": 127,
    "start_time": "2022-12-26T09:00:47.725Z"
   },
   {
    "duration": 135,
    "start_time": "2022-12-26T09:01:20.060Z"
   },
   {
    "duration": 8,
    "start_time": "2022-12-26T09:01:21.130Z"
   },
   {
    "duration": 173,
    "start_time": "2022-12-26T09:02:36.401Z"
   },
   {
    "duration": 155,
    "start_time": "2022-12-26T09:02:51.418Z"
   },
   {
    "duration": 40,
    "start_time": "2022-12-26T09:02:56.210Z"
   },
   {
    "duration": 1500,
    "start_time": "2022-12-26T18:35:54.320Z"
   },
   {
    "duration": 79,
    "start_time": "2022-12-26T18:35:55.822Z"
   },
   {
    "duration": 17,
    "start_time": "2022-12-26T18:35:55.902Z"
   },
   {
    "duration": 20,
    "start_time": "2022-12-26T18:35:56.516Z"
   },
   {
    "duration": 42,
    "start_time": "2022-12-26T18:35:58.208Z"
   },
   {
    "duration": 4,
    "start_time": "2022-12-26T18:35:59.338Z"
   },
   {
    "duration": 13,
    "start_time": "2022-12-26T18:36:00.448Z"
   },
   {
    "duration": 5,
    "start_time": "2022-12-26T18:36:00.885Z"
   },
   {
    "duration": 11,
    "start_time": "2022-12-26T18:36:01.998Z"
   },
   {
    "duration": 5,
    "start_time": "2022-12-26T18:36:03.901Z"
   },
   {
    "duration": 13,
    "start_time": "2022-12-26T18:36:05.351Z"
   },
   {
    "duration": 13,
    "start_time": "2022-12-26T18:36:05.769Z"
   },
   {
    "duration": 4,
    "start_time": "2022-12-26T18:36:11.582Z"
   },
   {
    "duration": 4,
    "start_time": "2022-12-26T18:36:12.190Z"
   },
   {
    "duration": 4,
    "start_time": "2022-12-26T18:36:12.607Z"
   },
   {
    "duration": 3,
    "start_time": "2022-12-26T18:36:12.672Z"
   },
   {
    "duration": 4,
    "start_time": "2022-12-26T18:36:12.761Z"
   },
   {
    "duration": 4,
    "start_time": "2022-12-26T18:36:12.844Z"
   },
   {
    "duration": 5,
    "start_time": "2022-12-26T18:36:16.752Z"
   },
   {
    "duration": 5,
    "start_time": "2022-12-26T18:36:17.137Z"
   },
   {
    "duration": 119,
    "start_time": "2022-12-26T18:36:17.629Z"
   },
   {
    "duration": 7,
    "start_time": "2022-12-26T18:36:17.973Z"
   },
   {
    "duration": 262,
    "start_time": "2022-12-26T18:38:52.424Z"
   },
   {
    "duration": 19,
    "start_time": "2022-12-26T18:39:01.970Z"
   },
   {
    "duration": 292,
    "start_time": "2022-12-26T18:39:02.611Z"
   },
   {
    "duration": 9,
    "start_time": "2022-12-26T18:39:03.505Z"
   },
   {
    "duration": 373,
    "start_time": "2022-12-26T18:39:04.668Z"
   },
   {
    "duration": 124,
    "start_time": "2022-12-26T18:39:05.306Z"
   },
   {
    "duration": 10,
    "start_time": "2022-12-26T18:39:05.998Z"
   },
   {
    "duration": 175523,
    "start_time": "2022-12-26T18:39:09.804Z"
   },
   {
    "duration": 152,
    "start_time": "2022-12-26T18:42:05.329Z"
   },
   {
    "duration": 44,
    "start_time": "2022-12-26T18:42:05.483Z"
   },
   {
    "duration": 7,
    "start_time": "2022-12-26T18:57:36.032Z"
   },
   {
    "duration": 4,
    "start_time": "2022-12-26T18:57:38.583Z"
   },
   {
    "duration": 12,
    "start_time": "2022-12-26T18:57:39.532Z"
   },
   {
    "duration": 42,
    "start_time": "2022-12-26T18:57:41.149Z"
   },
   {
    "duration": 5,
    "start_time": "2022-12-26T18:57:43.349Z"
   },
   {
    "duration": 9,
    "start_time": "2022-12-26T18:57:43.779Z"
   },
   {
    "duration": 14,
    "start_time": "2022-12-26T18:57:44.602Z"
   },
   {
    "duration": 3,
    "start_time": "2022-12-26T19:08:03.779Z"
   },
   {
    "duration": 4,
    "start_time": "2022-12-26T19:12:46.222Z"
   },
   {
    "duration": 13,
    "start_time": "2022-12-26T19:12:46.415Z"
   },
   {
    "duration": 58,
    "start_time": "2022-12-26T19:12:46.842Z"
   },
   {
    "duration": 5,
    "start_time": "2022-12-26T19:12:47.336Z"
   },
   {
    "duration": 10,
    "start_time": "2022-12-26T19:12:47.709Z"
   },
   {
    "duration": 24,
    "start_time": "2022-12-26T19:12:48.072Z"
   },
   {
    "duration": 52,
    "start_time": "2022-12-26T19:12:48.552Z"
   },
   {
    "duration": 259,
    "start_time": "2022-12-26T19:12:49.265Z"
   },
   {
    "duration": 100,
    "start_time": "2022-12-26T19:12:50.899Z"
   },
   {
    "duration": 543,
    "start_time": "2022-12-26T19:12:53.786Z"
   },
   {
    "duration": 160,
    "start_time": "2022-12-26T19:12:58.152Z"
   },
   {
    "duration": 352,
    "start_time": "2022-12-26T19:13:17.211Z"
   },
   {
    "duration": 527,
    "start_time": "2022-12-26T19:14:33.435Z"
   },
   {
    "duration": 119,
    "start_time": "2022-12-26T19:14:35.240Z"
   },
   {
    "duration": 118,
    "start_time": "2022-12-26T19:16:55.459Z"
   },
   {
    "duration": 8,
    "start_time": "2022-12-26T19:16:56.480Z"
   },
   {
    "duration": 162,
    "start_time": "2022-12-26T19:17:00.110Z"
   },
   {
    "duration": 121,
    "start_time": "2022-12-26T19:17:01.313Z"
   },
   {
    "duration": 8,
    "start_time": "2022-12-26T19:17:08.204Z"
   },
   {
    "duration": 356,
    "start_time": "2022-12-26T19:17:14.014Z"
   },
   {
    "duration": 118,
    "start_time": "2022-12-26T19:17:15.644Z"
   },
   {
    "duration": 115,
    "start_time": "2022-12-26T19:17:17.148Z"
   },
   {
    "duration": 525,
    "start_time": "2022-12-26T19:17:33.931Z"
   },
   {
    "duration": 100,
    "start_time": "2022-12-26T19:17:35.421Z"
   },
   {
    "duration": 116,
    "start_time": "2022-12-26T19:17:47.508Z"
   },
   {
    "duration": 9,
    "start_time": "2022-12-26T19:17:49.071Z"
   },
   {
    "duration": 161,
    "start_time": "2022-12-26T19:17:53.261Z"
   },
   {
    "duration": 109,
    "start_time": "2022-12-26T19:17:58.562Z"
   },
   {
    "duration": 122,
    "start_time": "2022-12-26T19:18:05.178Z"
   },
   {
    "duration": 8,
    "start_time": "2022-12-26T19:18:10.038Z"
   },
   {
    "duration": 351,
    "start_time": "2022-12-26T19:18:12.963Z"
   },
   {
    "duration": 117,
    "start_time": "2022-12-26T19:18:14.373Z"
   },
   {
    "duration": 120,
    "start_time": "2022-12-26T19:18:16.313Z"
   },
   {
    "duration": 9,
    "start_time": "2022-12-26T19:18:17.449Z"
   },
   {
    "duration": 657,
    "start_time": "2022-12-26T19:18:21.061Z"
   },
   {
    "duration": 2,
    "start_time": "2022-12-26T19:19:08.550Z"
   },
   {
    "duration": 133,
    "start_time": "2022-12-26T19:30:47.123Z"
   },
   {
    "duration": 377,
    "start_time": "2022-12-26T19:30:51.924Z"
   },
   {
    "duration": 115,
    "start_time": "2022-12-26T19:30:53.381Z"
   },
   {
    "duration": 142,
    "start_time": "2022-12-26T19:30:54.410Z"
   },
   {
    "duration": 8,
    "start_time": "2022-12-26T19:30:55.163Z"
   },
   {
    "duration": 2,
    "start_time": "2022-12-26T19:30:56.356Z"
   },
   {
    "duration": 292100,
    "start_time": "2022-12-26T19:30:58.757Z"
   },
   {
    "duration": 169,
    "start_time": "2022-12-26T19:35:50.859Z"
   },
   {
    "duration": 36,
    "start_time": "2022-12-26T19:35:51.030Z"
   },
   {
    "duration": 88116,
    "start_time": "2022-12-26T19:35:51.068Z"
   },
   {
    "duration": 159,
    "start_time": "2022-12-26T19:37:19.186Z"
   },
   {
    "duration": 29,
    "start_time": "2022-12-26T19:37:19.347Z"
   },
   {
    "duration": 179567,
    "start_time": "2022-12-26T19:37:19.378Z"
   },
   {
    "duration": 169,
    "start_time": "2022-12-26T19:40:18.946Z"
   },
   {
    "duration": 25,
    "start_time": "2022-12-26T19:40:19.117Z"
   },
   {
    "duration": 4,
    "start_time": "2022-12-26T19:49:06.407Z"
   },
   {
    "duration": 13,
    "start_time": "2022-12-26T19:49:06.751Z"
   },
   {
    "duration": 36,
    "start_time": "2022-12-26T19:49:07.314Z"
   },
   {
    "duration": 281,
    "start_time": "2022-12-26T19:49:07.505Z"
   },
   {
    "duration": 11,
    "start_time": "2022-12-26T19:49:08.144Z"
   },
   {
    "duration": 4,
    "start_time": "2022-12-26T19:49:10.105Z"
   },
   {
    "duration": 13,
    "start_time": "2022-12-26T19:49:10.329Z"
   },
   {
    "duration": 15,
    "start_time": "2022-12-26T19:49:10.771Z"
   },
   {
    "duration": 239,
    "start_time": "2022-12-26T19:49:11.062Z"
   },
   {
    "duration": 8,
    "start_time": "2022-12-26T19:49:11.521Z"
   },
   {
    "duration": 52,
    "start_time": "2022-12-26T19:49:12.787Z"
   },
   {
    "duration": 273,
    "start_time": "2022-12-26T19:49:13.972Z"
   },
   {
    "duration": 9,
    "start_time": "2022-12-26T19:49:14.865Z"
   },
   {
    "duration": 531,
    "start_time": "2022-12-26T19:50:02.517Z"
   },
   {
    "duration": 108,
    "start_time": "2022-12-26T19:50:03.642Z"
   },
   {
    "duration": 528,
    "start_time": "2022-12-26T19:51:00.683Z"
   },
   {
    "duration": 106,
    "start_time": "2022-12-26T19:51:04.396Z"
   },
   {
    "duration": 190,
    "start_time": "2022-12-26T19:51:19.524Z"
   },
   {
    "duration": 8,
    "start_time": "2022-12-26T19:51:29.384Z"
   },
   {
    "duration": 217,
    "start_time": "2022-12-26T19:53:05.856Z"
   },
   {
    "duration": 121,
    "start_time": "2022-12-26T19:53:07.453Z"
   },
   {
    "duration": 126,
    "start_time": "2022-12-26T19:53:07.791Z"
   },
   {
    "duration": 7,
    "start_time": "2022-12-26T19:53:10.174Z"
   },
   {
    "duration": 541,
    "start_time": "2022-12-26T19:57:08.145Z"
   },
   {
    "duration": 108,
    "start_time": "2022-12-26T19:57:09.621Z"
   },
   {
    "duration": 139,
    "start_time": "2022-12-26T19:57:09.941Z"
   },
   {
    "duration": 8,
    "start_time": "2022-12-26T19:57:10.862Z"
   },
   {
    "duration": 179,
    "start_time": "2022-12-26T19:57:17.112Z"
   },
   {
    "duration": 107,
    "start_time": "2022-12-26T19:57:18.356Z"
   },
   {
    "duration": 117,
    "start_time": "2022-12-26T19:57:19.471Z"
   },
   {
    "duration": 8,
    "start_time": "2022-12-26T19:57:20.103Z"
   },
   {
    "duration": 389,
    "start_time": "2022-12-26T19:57:21.549Z"
   },
   {
    "duration": 132,
    "start_time": "2022-12-26T19:57:23.289Z"
   },
   {
    "duration": 128,
    "start_time": "2022-12-26T19:57:24.918Z"
   },
   {
    "duration": 9,
    "start_time": "2022-12-26T19:57:27.156Z"
   },
   {
    "duration": 294905,
    "start_time": "2022-12-26T20:03:37.491Z"
   },
   {
    "duration": 154,
    "start_time": "2022-12-26T20:08:32.398Z"
   },
   {
    "duration": 46,
    "start_time": "2022-12-26T20:08:32.554Z"
   },
   {
    "duration": 85130,
    "start_time": "2022-12-26T20:08:32.602Z"
   },
   {
    "duration": 173,
    "start_time": "2022-12-26T20:09:57.734Z"
   },
   {
    "duration": 37,
    "start_time": "2022-12-26T20:09:57.909Z"
   },
   {
    "duration": 180245,
    "start_time": "2022-12-26T20:09:57.948Z"
   },
   {
    "duration": 142,
    "start_time": "2022-12-26T20:12:58.197Z"
   },
   {
    "duration": 22,
    "start_time": "2022-12-26T20:12:58.341Z"
   },
   {
    "duration": 1293,
    "start_time": "2022-12-26T20:26:17.412Z"
   },
   {
    "duration": 40,
    "start_time": "2022-12-26T20:26:18.707Z"
   },
   {
    "duration": 13,
    "start_time": "2022-12-26T20:26:18.749Z"
   },
   {
    "duration": 19,
    "start_time": "2022-12-26T20:26:18.764Z"
   },
   {
    "duration": 37,
    "start_time": "2022-12-26T20:26:18.786Z"
   },
   {
    "duration": 4,
    "start_time": "2022-12-26T20:26:18.825Z"
   },
   {
    "duration": 14,
    "start_time": "2022-12-26T20:26:18.830Z"
   },
   {
    "duration": 4,
    "start_time": "2022-12-26T20:26:18.846Z"
   },
   {
    "duration": 14,
    "start_time": "2022-12-26T20:26:18.851Z"
   },
   {
    "duration": 8,
    "start_time": "2022-12-26T20:26:18.866Z"
   },
   {
    "duration": 31,
    "start_time": "2022-12-26T20:26:18.875Z"
   },
   {
    "duration": 13,
    "start_time": "2022-12-26T20:26:18.908Z"
   },
   {
    "duration": 5,
    "start_time": "2022-12-26T20:26:18.922Z"
   },
   {
    "duration": 4,
    "start_time": "2022-12-26T20:26:18.930Z"
   },
   {
    "duration": 6,
    "start_time": "2022-12-26T20:26:18.935Z"
   },
   {
    "duration": 6,
    "start_time": "2022-12-26T20:26:18.942Z"
   },
   {
    "duration": 5,
    "start_time": "2022-12-26T20:26:18.950Z"
   },
   {
    "duration": 13,
    "start_time": "2022-12-26T20:26:18.956Z"
   },
   {
    "duration": 6,
    "start_time": "2022-12-26T20:26:18.996Z"
   },
   {
    "duration": 6,
    "start_time": "2022-12-26T20:26:19.003Z"
   },
   {
    "duration": 153,
    "start_time": "2022-12-26T20:26:19.011Z"
   },
   {
    "duration": 31,
    "start_time": "2022-12-26T20:26:19.166Z"
   },
   {
    "duration": 398,
    "start_time": "2022-12-26T20:26:19.200Z"
   },
   {
    "duration": 9,
    "start_time": "2022-12-26T20:26:19.599Z"
   },
   {
    "duration": 540,
    "start_time": "2022-12-26T20:26:19.610Z"
   },
   {
    "duration": 121,
    "start_time": "2022-12-26T20:26:20.152Z"
   },
   {
    "duration": 8,
    "start_time": "2022-12-26T20:26:20.275Z"
   },
   {
    "duration": 170466,
    "start_time": "2022-12-26T20:26:20.285Z"
   },
   {
    "duration": 151,
    "start_time": "2022-12-26T20:29:10.753Z"
   },
   {
    "duration": 36,
    "start_time": "2022-12-26T20:29:10.905Z"
   },
   {
    "duration": 5,
    "start_time": "2022-12-26T20:29:10.942Z"
   },
   {
    "duration": 5,
    "start_time": "2022-12-26T20:29:10.949Z"
   },
   {
    "duration": 5,
    "start_time": "2022-12-26T20:29:10.956Z"
   },
   {
    "duration": 11,
    "start_time": "2022-12-26T20:29:10.962Z"
   },
   {
    "duration": 33,
    "start_time": "2022-12-26T20:29:10.975Z"
   },
   {
    "duration": 142,
    "start_time": "2022-12-26T20:29:11.010Z"
   },
   {
    "duration": 0,
    "start_time": "2022-12-26T20:29:11.155Z"
   },
   {
    "duration": 0,
    "start_time": "2022-12-26T20:29:11.156Z"
   },
   {
    "duration": 0,
    "start_time": "2022-12-26T20:29:11.157Z"
   },
   {
    "duration": 0,
    "start_time": "2022-12-26T20:29:11.158Z"
   },
   {
    "duration": 0,
    "start_time": "2022-12-26T20:29:11.159Z"
   },
   {
    "duration": 0,
    "start_time": "2022-12-26T20:29:11.160Z"
   },
   {
    "duration": 0,
    "start_time": "2022-12-26T20:29:11.161Z"
   },
   {
    "duration": 0,
    "start_time": "2022-12-26T20:29:11.163Z"
   },
   {
    "duration": 0,
    "start_time": "2022-12-26T20:29:11.163Z"
   },
   {
    "duration": 0,
    "start_time": "2022-12-26T20:29:11.164Z"
   },
   {
    "duration": 0,
    "start_time": "2022-12-26T20:29:11.166Z"
   },
   {
    "duration": 0,
    "start_time": "2022-12-26T20:29:11.167Z"
   },
   {
    "duration": 0,
    "start_time": "2022-12-26T20:29:11.167Z"
   },
   {
    "duration": 0,
    "start_time": "2022-12-26T20:29:11.169Z"
   },
   {
    "duration": 0,
    "start_time": "2022-12-26T20:29:11.197Z"
   },
   {
    "duration": 0,
    "start_time": "2022-12-26T20:29:11.198Z"
   },
   {
    "duration": 0,
    "start_time": "2022-12-26T20:29:11.199Z"
   },
   {
    "duration": 0,
    "start_time": "2022-12-26T20:29:11.200Z"
   },
   {
    "duration": 0,
    "start_time": "2022-12-26T20:29:11.201Z"
   },
   {
    "duration": 0,
    "start_time": "2022-12-26T20:29:11.202Z"
   },
   {
    "duration": 0,
    "start_time": "2022-12-26T20:29:11.203Z"
   },
   {
    "duration": 0,
    "start_time": "2022-12-26T20:29:11.204Z"
   },
   {
    "duration": 0,
    "start_time": "2022-12-26T20:29:11.205Z"
   },
   {
    "duration": 0,
    "start_time": "2022-12-26T20:29:11.206Z"
   },
   {
    "duration": 0,
    "start_time": "2022-12-26T20:29:11.207Z"
   },
   {
    "duration": 0,
    "start_time": "2022-12-26T20:29:11.208Z"
   },
   {
    "duration": 0,
    "start_time": "2022-12-26T20:29:11.209Z"
   },
   {
    "duration": 0,
    "start_time": "2022-12-26T20:29:11.210Z"
   },
   {
    "duration": 0,
    "start_time": "2022-12-26T20:29:11.211Z"
   },
   {
    "duration": 0,
    "start_time": "2022-12-26T20:29:11.212Z"
   },
   {
    "duration": 0,
    "start_time": "2022-12-26T20:29:11.213Z"
   },
   {
    "duration": 0,
    "start_time": "2022-12-26T20:29:11.214Z"
   },
   {
    "duration": 0,
    "start_time": "2022-12-26T20:29:11.215Z"
   },
   {
    "duration": 103,
    "start_time": "2022-12-26T20:30:35.493Z"
   },
   {
    "duration": 258,
    "start_time": "2022-12-26T20:30:38.444Z"
   },
   {
    "duration": 9,
    "start_time": "2022-12-26T20:30:47.043Z"
   },
   {
    "duration": 4,
    "start_time": "2022-12-26T20:30:52.537Z"
   },
   {
    "duration": 10,
    "start_time": "2022-12-26T20:30:53.362Z"
   },
   {
    "duration": 14,
    "start_time": "2022-12-26T20:30:54.228Z"
   },
   {
    "duration": 15,
    "start_time": "2022-12-26T20:31:01.471Z"
   },
   {
    "duration": 257,
    "start_time": "2022-12-26T20:31:02.444Z"
   },
   {
    "duration": 9,
    "start_time": "2022-12-26T20:31:05.396Z"
   },
   {
    "duration": 54,
    "start_time": "2022-12-26T20:31:07.174Z"
   },
   {
    "duration": 52,
    "start_time": "2022-12-26T20:31:13.847Z"
   },
   {
    "duration": 269,
    "start_time": "2022-12-26T20:31:16.041Z"
   },
   {
    "duration": 11,
    "start_time": "2022-12-26T20:31:17.543Z"
   },
   {
    "duration": 541,
    "start_time": "2022-12-26T20:31:20.962Z"
   },
   {
    "duration": 104,
    "start_time": "2022-12-26T20:31:22.968Z"
   },
   {
    "duration": 129,
    "start_time": "2022-12-26T20:31:23.748Z"
   },
   {
    "duration": 9,
    "start_time": "2022-12-26T20:31:24.281Z"
   },
   {
    "duration": 178,
    "start_time": "2022-12-26T20:31:25.587Z"
   },
   {
    "duration": 145,
    "start_time": "2022-12-26T20:31:25.971Z"
   },
   {
    "duration": 122,
    "start_time": "2022-12-26T20:31:26.489Z"
   },
   {
    "duration": 7,
    "start_time": "2022-12-26T20:31:27.045Z"
   },
   {
    "duration": 373,
    "start_time": "2022-12-26T20:31:28.155Z"
   },
   {
    "duration": 167,
    "start_time": "2022-12-26T20:31:29.742Z"
   },
   {
    "duration": 133,
    "start_time": "2022-12-26T20:31:30.752Z"
   },
   {
    "duration": 8,
    "start_time": "2022-12-26T20:31:31.149Z"
   },
   {
    "duration": 2,
    "start_time": "2022-12-26T20:31:31.857Z"
   },
   {
    "duration": 319803,
    "start_time": "2022-12-26T20:31:33.138Z"
   },
   {
    "duration": 166,
    "start_time": "2022-12-26T20:36:52.943Z"
   },
   {
    "duration": 36,
    "start_time": "2022-12-26T20:36:53.111Z"
   },
   {
    "duration": 86640,
    "start_time": "2022-12-26T20:36:53.149Z"
   },
   {
    "duration": 159,
    "start_time": "2022-12-26T20:38:19.796Z"
   },
   {
    "duration": 47,
    "start_time": "2022-12-26T20:38:19.957Z"
   },
   {
    "duration": 181559,
    "start_time": "2022-12-26T20:38:20.012Z"
   },
   {
    "duration": 152,
    "start_time": "2022-12-26T20:41:21.573Z"
   },
   {
    "duration": 22,
    "start_time": "2022-12-26T20:41:21.727Z"
   },
   {
    "duration": 688,
    "start_time": "2022-12-26T20:41:21.752Z"
   },
   {
    "duration": 565,
    "start_time": "2022-12-26T20:43:39.491Z"
   },
   {
    "duration": 1443,
    "start_time": "2022-12-27T10:01:34.870Z"
   },
   {
    "duration": 83,
    "start_time": "2022-12-27T10:01:36.315Z"
   },
   {
    "duration": 13,
    "start_time": "2022-12-27T10:01:36.399Z"
   },
   {
    "duration": 19,
    "start_time": "2022-12-27T10:01:36.414Z"
   },
   {
    "duration": 37,
    "start_time": "2022-12-27T10:01:36.434Z"
   },
   {
    "duration": 4,
    "start_time": "2022-12-27T10:01:36.472Z"
   },
   {
    "duration": 25,
    "start_time": "2022-12-27T10:01:36.478Z"
   },
   {
    "duration": 9,
    "start_time": "2022-12-27T10:01:36.504Z"
   },
   {
    "duration": 15,
    "start_time": "2022-12-27T10:01:36.514Z"
   },
   {
    "duration": 8,
    "start_time": "2022-12-27T10:01:36.531Z"
   },
   {
    "duration": 13,
    "start_time": "2022-12-27T10:01:36.540Z"
   },
   {
    "duration": 10,
    "start_time": "2022-12-27T10:01:36.554Z"
   },
   {
    "duration": 3,
    "start_time": "2022-12-27T10:01:36.566Z"
   },
   {
    "duration": 15,
    "start_time": "2022-12-27T10:01:36.570Z"
   },
   {
    "duration": 4,
    "start_time": "2022-12-27T10:01:36.596Z"
   },
   {
    "duration": 6,
    "start_time": "2022-12-27T10:01:36.601Z"
   },
   {
    "duration": 9,
    "start_time": "2022-12-27T10:01:36.608Z"
   },
   {
    "duration": 7,
    "start_time": "2022-12-27T10:01:36.618Z"
   },
   {
    "duration": 6,
    "start_time": "2022-12-27T10:01:36.627Z"
   },
   {
    "duration": 7,
    "start_time": "2022-12-27T10:01:36.634Z"
   },
   {
    "duration": 113,
    "start_time": "2022-12-27T10:01:36.642Z"
   },
   {
    "duration": 46,
    "start_time": "2022-12-27T10:01:36.756Z"
   },
   {
    "duration": 375,
    "start_time": "2022-12-27T10:01:36.803Z"
   },
   {
    "duration": 20,
    "start_time": "2022-12-27T10:01:37.180Z"
   },
   {
    "duration": 502,
    "start_time": "2022-12-27T10:01:37.202Z"
   },
   {
    "duration": 109,
    "start_time": "2022-12-27T10:01:37.706Z"
   },
   {
    "duration": 7,
    "start_time": "2022-12-27T10:01:37.816Z"
   },
   {
    "duration": 161606,
    "start_time": "2022-12-27T10:01:37.826Z"
   },
   {
    "duration": 146,
    "start_time": "2022-12-27T10:04:19.434Z"
   },
   {
    "duration": 42,
    "start_time": "2022-12-27T10:04:19.582Z"
   },
   {
    "duration": 6,
    "start_time": "2022-12-27T10:04:19.626Z"
   },
   {
    "duration": 31,
    "start_time": "2022-12-27T10:04:19.634Z"
   },
   {
    "duration": 15,
    "start_time": "2022-12-27T10:04:19.666Z"
   },
   {
    "duration": 5,
    "start_time": "2022-12-27T10:04:19.683Z"
   },
   {
    "duration": 14,
    "start_time": "2022-12-27T10:04:19.689Z"
   },
   {
    "duration": 95,
    "start_time": "2022-12-27T10:04:19.705Z"
   },
   {
    "duration": 407,
    "start_time": "2022-12-27T10:04:19.801Z"
   },
   {
    "duration": 9,
    "start_time": "2022-12-27T10:04:20.209Z"
   },
   {
    "duration": 181,
    "start_time": "2022-12-27T10:04:20.221Z"
   },
   {
    "duration": 11,
    "start_time": "2022-12-27T10:04:20.403Z"
   },
   {
    "duration": 14,
    "start_time": "2022-12-27T10:04:20.416Z"
   },
   {
    "duration": 385,
    "start_time": "2022-12-27T10:04:20.501Z"
   },
   {
    "duration": 9,
    "start_time": "2022-12-27T10:04:20.897Z"
   },
   {
    "duration": 233,
    "start_time": "2022-12-27T10:04:20.911Z"
   },
   {
    "duration": 340,
    "start_time": "2022-12-27T10:04:21.146Z"
   },
   {
    "duration": 8,
    "start_time": "2022-12-27T10:04:21.498Z"
   },
   {
    "duration": 692,
    "start_time": "2022-12-27T10:04:21.508Z"
   },
   {
    "duration": 95,
    "start_time": "2022-12-27T10:04:22.202Z"
   },
   {
    "duration": 116,
    "start_time": "2022-12-27T10:04:22.298Z"
   },
   {
    "duration": 7,
    "start_time": "2022-12-27T10:04:22.415Z"
   },
   {
    "duration": 173,
    "start_time": "2022-12-27T10:04:22.424Z"
   },
   {
    "duration": 99,
    "start_time": "2022-12-27T10:04:22.599Z"
   },
   {
    "duration": 117,
    "start_time": "2022-12-27T10:04:22.700Z"
   },
   {
    "duration": 8,
    "start_time": "2022-12-27T10:04:22.818Z"
   },
   {
    "duration": 354,
    "start_time": "2022-12-27T10:04:22.827Z"
   },
   {
    "duration": 115,
    "start_time": "2022-12-27T10:04:23.182Z"
   },
   {
    "duration": 114,
    "start_time": "2022-12-27T10:04:23.298Z"
   },
   {
    "duration": 7,
    "start_time": "2022-12-27T10:04:23.413Z"
   },
   {
    "duration": 20,
    "start_time": "2022-12-27T10:04:23.421Z"
   },
   {
    "duration": 263124,
    "start_time": "2022-12-27T10:04:23.442Z"
   },
   {
    "duration": 140,
    "start_time": "2022-12-27T10:08:46.568Z"
   },
   {
    "duration": 32,
    "start_time": "2022-12-27T10:08:46.709Z"
   },
   {
    "duration": 75634,
    "start_time": "2022-12-27T10:08:46.742Z"
   },
   {
    "duration": 145,
    "start_time": "2022-12-27T10:10:02.378Z"
   },
   {
    "duration": 26,
    "start_time": "2022-12-27T10:10:02.525Z"
   },
   {
    "duration": 157275,
    "start_time": "2022-12-27T10:10:02.553Z"
   },
   {
    "duration": 129,
    "start_time": "2022-12-27T10:12:39.830Z"
   },
   {
    "duration": 20,
    "start_time": "2022-12-27T10:12:39.961Z"
   },
   {
    "duration": 498,
    "start_time": "2022-12-27T10:12:39.983Z"
   },
   {
    "duration": 3,
    "start_time": "2022-12-27T11:25:34.367Z"
   },
   {
    "duration": 13,
    "start_time": "2022-12-27T11:25:34.788Z"
   },
   {
    "duration": 33,
    "start_time": "2022-12-27T11:25:37.410Z"
   },
   {
    "duration": 288,
    "start_time": "2022-12-27T11:25:50.193Z"
   },
   {
    "duration": 12,
    "start_time": "2022-12-27T11:25:50.771Z"
   },
   {
    "duration": 4,
    "start_time": "2022-12-27T11:27:43.950Z"
   },
   {
    "duration": 9,
    "start_time": "2022-12-27T11:27:44.438Z"
   },
   {
    "duration": 40,
    "start_time": "2022-12-27T11:27:45.257Z"
   },
   {
    "duration": 230,
    "start_time": "2022-12-27T11:27:46.444Z"
   },
   {
    "duration": 9,
    "start_time": "2022-12-27T11:27:48.260Z"
   },
   {
    "duration": 50,
    "start_time": "2022-12-27T11:27:50.243Z"
   },
   {
    "duration": 1253,
    "start_time": "2022-12-27T11:28:33.301Z"
   },
   {
    "duration": 42,
    "start_time": "2022-12-27T11:28:34.556Z"
   },
   {
    "duration": 13,
    "start_time": "2022-12-27T11:28:34.600Z"
   },
   {
    "duration": 35,
    "start_time": "2022-12-27T11:28:34.614Z"
   },
   {
    "duration": 51,
    "start_time": "2022-12-27T11:28:34.651Z"
   },
   {
    "duration": 4,
    "start_time": "2022-12-27T11:28:34.705Z"
   },
   {
    "duration": 17,
    "start_time": "2022-12-27T11:28:34.713Z"
   },
   {
    "duration": 12,
    "start_time": "2022-12-27T11:28:34.732Z"
   },
   {
    "duration": 30,
    "start_time": "2022-12-27T11:28:34.746Z"
   },
   {
    "duration": 10,
    "start_time": "2022-12-27T11:28:34.779Z"
   },
   {
    "duration": 24,
    "start_time": "2022-12-27T11:28:34.791Z"
   },
   {
    "duration": 14,
    "start_time": "2022-12-27T11:28:34.817Z"
   },
   {
    "duration": 5,
    "start_time": "2022-12-27T11:28:34.833Z"
   },
   {
    "duration": 9,
    "start_time": "2022-12-27T11:28:34.839Z"
   },
   {
    "duration": 13,
    "start_time": "2022-12-27T11:28:34.850Z"
   },
   {
    "duration": 18,
    "start_time": "2022-12-27T11:28:34.865Z"
   },
   {
    "duration": 13,
    "start_time": "2022-12-27T11:28:34.885Z"
   },
   {
    "duration": 7,
    "start_time": "2022-12-27T11:28:34.900Z"
   },
   {
    "duration": 7,
    "start_time": "2022-12-27T11:28:34.908Z"
   },
   {
    "duration": 6,
    "start_time": "2022-12-27T11:28:34.916Z"
   },
   {
    "duration": 127,
    "start_time": "2022-12-27T11:28:34.923Z"
   },
   {
    "duration": 53,
    "start_time": "2022-12-27T11:28:35.051Z"
   },
   {
    "duration": 373,
    "start_time": "2022-12-27T11:28:35.106Z"
   },
   {
    "duration": 23,
    "start_time": "2022-12-27T11:28:35.480Z"
   },
   {
    "duration": 538,
    "start_time": "2022-12-27T11:28:35.506Z"
   },
   {
    "duration": 115,
    "start_time": "2022-12-27T11:28:36.046Z"
   },
   {
    "duration": 8,
    "start_time": "2022-12-27T11:28:36.163Z"
   },
   {
    "duration": 161356,
    "start_time": "2022-12-27T11:28:36.174Z"
   },
   {
    "duration": 170,
    "start_time": "2022-12-27T11:31:17.532Z"
   },
   {
    "duration": 36,
    "start_time": "2022-12-27T11:31:17.704Z"
   },
   {
    "duration": 6,
    "start_time": "2022-12-27T11:31:17.742Z"
   },
   {
    "duration": 7,
    "start_time": "2022-12-27T11:31:17.749Z"
   },
   {
    "duration": 12,
    "start_time": "2022-12-27T11:31:17.757Z"
   },
   {
    "duration": 28,
    "start_time": "2022-12-27T11:31:17.771Z"
   },
   {
    "duration": 18,
    "start_time": "2022-12-27T11:31:17.800Z"
   },
   {
    "duration": 81,
    "start_time": "2022-12-27T11:31:17.819Z"
   },
   {
    "duration": 395,
    "start_time": "2022-12-27T11:31:17.902Z"
   },
   {
    "duration": 11,
    "start_time": "2022-12-27T11:31:18.299Z"
   },
   {
    "duration": 186,
    "start_time": "2022-12-27T11:31:18.313Z"
   },
   {
    "duration": 22,
    "start_time": "2022-12-27T11:31:18.500Z"
   },
   {
    "duration": 17,
    "start_time": "2022-12-27T11:31:18.523Z"
   },
   {
    "duration": 408,
    "start_time": "2022-12-27T11:31:18.599Z"
   },
   {
    "duration": 8,
    "start_time": "2022-12-27T11:31:19.009Z"
   },
   {
    "duration": 264,
    "start_time": "2022-12-27T11:31:19.019Z"
   },
   {
    "duration": 319,
    "start_time": "2022-12-27T11:31:19.284Z"
   },
   {
    "duration": 15,
    "start_time": "2022-12-27T11:31:19.604Z"
   },
   {
    "duration": 531,
    "start_time": "2022-12-27T11:31:19.699Z"
   },
   {
    "duration": 135,
    "start_time": "2022-12-27T11:31:20.232Z"
   },
   {
    "duration": 116,
    "start_time": "2022-12-27T11:31:20.369Z"
   },
   {
    "duration": 12,
    "start_time": "2022-12-27T11:31:20.486Z"
   },
   {
    "duration": 168,
    "start_time": "2022-12-27T11:31:20.499Z"
   },
   {
    "duration": 104,
    "start_time": "2022-12-27T11:31:20.669Z"
   },
   {
    "duration": 122,
    "start_time": "2022-12-27T11:31:20.775Z"
   },
   {
    "duration": 7,
    "start_time": "2022-12-27T11:31:20.899Z"
   },
   {
    "duration": 363,
    "start_time": "2022-12-27T11:31:20.908Z"
   },
   {
    "duration": 115,
    "start_time": "2022-12-27T11:31:21.273Z"
   },
   {
    "duration": 113,
    "start_time": "2022-12-27T11:31:21.397Z"
   },
   {
    "duration": 7,
    "start_time": "2022-12-27T11:31:21.512Z"
   },
   {
    "duration": 3,
    "start_time": "2022-12-27T11:31:21.520Z"
   },
   {
    "duration": 216552,
    "start_time": "2022-12-27T11:31:21.524Z"
   },
   {
    "duration": 134,
    "start_time": "2022-12-27T11:34:58.077Z"
   },
   {
    "duration": 27,
    "start_time": "2022-12-27T11:34:58.212Z"
   },
   {
    "duration": 82382,
    "start_time": "2022-12-27T11:34:58.240Z"
   },
   {
    "duration": 137,
    "start_time": "2022-12-27T11:36:20.624Z"
   },
   {
    "duration": 21,
    "start_time": "2022-12-27T11:36:20.763Z"
   },
   {
    "duration": 161754,
    "start_time": "2022-12-27T11:36:20.785Z"
   },
   {
    "duration": 162,
    "start_time": "2022-12-27T11:39:02.542Z"
   },
   {
    "duration": 24,
    "start_time": "2022-12-27T11:39:02.705Z"
   },
   {
    "duration": 442,
    "start_time": "2022-12-27T11:39:02.730Z"
   },
   {
    "duration": 42,
    "start_time": "2022-12-27T11:44:11.974Z"
   },
   {
    "duration": 71,
    "start_time": "2022-12-27T11:57:52.101Z"
   },
   {
    "duration": 12,
    "start_time": "2022-12-27T12:58:34.935Z"
   },
   {
    "duration": 1634,
    "start_time": "2022-12-28T03:25:18.535Z"
   },
   {
    "duration": 369,
    "start_time": "2022-12-28T03:25:20.171Z"
   },
   {
    "duration": 14,
    "start_time": "2022-12-28T03:25:20.541Z"
   },
   {
    "duration": 25,
    "start_time": "2022-12-28T03:25:20.557Z"
   },
   {
    "duration": 37,
    "start_time": "2022-12-28T03:25:20.584Z"
   },
   {
    "duration": 4,
    "start_time": "2022-12-28T03:25:20.622Z"
   },
   {
    "duration": 14,
    "start_time": "2022-12-28T03:25:20.633Z"
   },
   {
    "duration": 7,
    "start_time": "2022-12-28T03:25:20.648Z"
   },
   {
    "duration": 12,
    "start_time": "2022-12-28T03:25:20.657Z"
   },
   {
    "duration": 13,
    "start_time": "2022-12-28T03:25:20.672Z"
   },
   {
    "duration": 26,
    "start_time": "2022-12-28T03:25:20.687Z"
   },
   {
    "duration": 13,
    "start_time": "2022-12-28T03:25:20.714Z"
   },
   {
    "duration": 18,
    "start_time": "2022-12-28T03:25:20.729Z"
   },
   {
    "duration": 14,
    "start_time": "2022-12-28T03:25:20.750Z"
   },
   {
    "duration": 14,
    "start_time": "2022-12-28T03:25:20.766Z"
   },
   {
    "duration": 14,
    "start_time": "2022-12-28T03:25:20.782Z"
   },
   {
    "duration": 7,
    "start_time": "2022-12-28T03:25:20.798Z"
   },
   {
    "duration": 13,
    "start_time": "2022-12-28T03:25:20.807Z"
   },
   {
    "duration": 8,
    "start_time": "2022-12-28T03:25:20.821Z"
   },
   {
    "duration": 8,
    "start_time": "2022-12-28T03:25:20.831Z"
   },
   {
    "duration": 133,
    "start_time": "2022-12-28T03:25:20.841Z"
   },
   {
    "duration": 39,
    "start_time": "2022-12-28T03:25:20.976Z"
   },
   {
    "duration": 321,
    "start_time": "2022-12-28T03:25:21.017Z"
   },
   {
    "duration": 12,
    "start_time": "2022-12-28T03:25:21.340Z"
   },
   {
    "duration": 406,
    "start_time": "2022-12-28T03:25:21.413Z"
   },
   {
    "duration": 117,
    "start_time": "2022-12-28T03:25:21.821Z"
   },
   {
    "duration": 7,
    "start_time": "2022-12-28T03:25:21.940Z"
   },
   {
    "duration": 159061,
    "start_time": "2022-12-28T03:25:21.951Z"
   },
   {
    "duration": 135,
    "start_time": "2022-12-28T03:28:01.013Z"
   },
   {
    "duration": 33,
    "start_time": "2022-12-28T03:28:01.149Z"
   },
   {
    "duration": 12,
    "start_time": "2022-12-28T03:28:01.183Z"
   },
   {
    "duration": 28,
    "start_time": "2022-12-28T03:28:01.196Z"
   },
   {
    "duration": 22,
    "start_time": "2022-12-28T03:28:01.226Z"
   },
   {
    "duration": 39,
    "start_time": "2022-12-28T03:28:01.250Z"
   },
   {
    "duration": 40,
    "start_time": "2022-12-28T03:28:01.291Z"
   },
   {
    "duration": 87,
    "start_time": "2022-12-28T03:28:01.333Z"
   },
   {
    "duration": 396,
    "start_time": "2022-12-28T03:28:01.422Z"
   },
   {
    "duration": 10,
    "start_time": "2022-12-28T03:28:01.820Z"
   },
   {
    "duration": 83,
    "start_time": "2022-12-28T03:28:01.832Z"
   },
   {
    "duration": 105,
    "start_time": "2022-12-28T03:28:01.917Z"
   },
   {
    "duration": 37,
    "start_time": "2022-12-28T03:28:02.024Z"
   },
   {
    "duration": 440,
    "start_time": "2022-12-28T03:28:02.063Z"
   },
   {
    "duration": 18,
    "start_time": "2022-12-28T03:28:02.505Z"
   },
   {
    "duration": 241,
    "start_time": "2022-12-28T03:28:02.525Z"
   },
   {
    "duration": 287,
    "start_time": "2022-12-28T03:28:02.814Z"
   },
   {
    "duration": 19,
    "start_time": "2022-12-28T03:28:03.102Z"
   },
   {
    "duration": 595,
    "start_time": "2022-12-28T03:28:03.123Z"
   },
   {
    "duration": 120,
    "start_time": "2022-12-28T03:28:03.720Z"
   },
   {
    "duration": 117,
    "start_time": "2022-12-28T03:28:03.842Z"
   },
   {
    "duration": 9,
    "start_time": "2022-12-28T03:28:03.961Z"
   },
   {
    "duration": 195,
    "start_time": "2022-12-28T03:28:03.972Z"
   },
   {
    "duration": 111,
    "start_time": "2022-12-28T03:28:04.169Z"
   },
   {
    "duration": 119,
    "start_time": "2022-12-28T03:28:04.281Z"
   },
   {
    "duration": 11,
    "start_time": "2022-12-28T03:28:04.402Z"
   },
   {
    "duration": 366,
    "start_time": "2022-12-28T03:28:04.415Z"
   },
   {
    "duration": 117,
    "start_time": "2022-12-28T03:28:04.782Z"
   },
   {
    "duration": 114,
    "start_time": "2022-12-28T03:28:04.900Z"
   },
   {
    "duration": 7,
    "start_time": "2022-12-28T03:28:05.016Z"
   },
   {
    "duration": 354435,
    "start_time": "2022-12-28T03:28:05.025Z"
   },
   {
    "duration": 288,
    "start_time": "2022-12-28T03:33:59.461Z"
   },
   {
    "duration": 83,
    "start_time": "2022-12-28T03:33:59.751Z"
   },
   {
    "duration": 165889,
    "start_time": "2022-12-28T03:33:59.836Z"
   },
   {
    "duration": 225,
    "start_time": "2022-12-28T03:36:45.727Z"
   },
   {
    "duration": 74,
    "start_time": "2022-12-28T03:36:45.954Z"
   },
   {
    "duration": 313718,
    "start_time": "2022-12-28T03:36:46.030Z"
   },
   {
    "duration": 279,
    "start_time": "2022-12-28T03:41:59.750Z"
   },
   {
    "duration": 21,
    "start_time": "2022-12-28T03:42:00.031Z"
   },
   {
    "duration": 875,
    "start_time": "2022-12-28T03:42:00.053Z"
   },
   {
    "duration": 19,
    "start_time": "2022-12-28T03:42:00.932Z"
   },
   {
    "duration": 1570,
    "start_time": "2022-12-28T18:41:23.971Z"
   },
   {
    "duration": 100,
    "start_time": "2022-12-28T18:41:25.543Z"
   },
   {
    "duration": 20,
    "start_time": "2022-12-28T18:41:25.842Z"
   },
   {
    "duration": 30,
    "start_time": "2022-12-28T18:41:26.315Z"
   },
   {
    "duration": 57,
    "start_time": "2022-12-28T18:41:27.474Z"
   },
   {
    "duration": 5,
    "start_time": "2022-12-28T18:41:33.175Z"
   },
   {
    "duration": 17,
    "start_time": "2022-12-28T18:41:37.656Z"
   },
   {
    "duration": 6,
    "start_time": "2022-12-28T18:41:43.429Z"
   },
   {
    "duration": 14,
    "start_time": "2022-12-28T18:41:44.295Z"
   },
   {
    "duration": 14,
    "start_time": "2022-12-28T18:41:46.238Z"
   },
   {
    "duration": 20,
    "start_time": "2022-12-28T18:41:48.471Z"
   },
   {
    "duration": 18,
    "start_time": "2022-12-28T18:41:54.673Z"
   },
   {
    "duration": 27,
    "start_time": "2022-12-28T18:47:47.567Z"
   },
   {
    "duration": 1358,
    "start_time": "2022-12-28T18:49:01.254Z"
   },
   {
    "duration": 48,
    "start_time": "2022-12-28T18:49:02.615Z"
   },
   {
    "duration": 13,
    "start_time": "2022-12-28T18:49:02.665Z"
   },
   {
    "duration": 27,
    "start_time": "2022-12-28T18:49:02.680Z"
   },
   {
    "duration": 61,
    "start_time": "2022-12-28T18:49:02.709Z"
   },
   {
    "duration": 5,
    "start_time": "2022-12-28T18:49:02.772Z"
   },
   {
    "duration": 32,
    "start_time": "2022-12-28T18:49:02.779Z"
   },
   {
    "duration": 5,
    "start_time": "2022-12-28T18:49:02.815Z"
   },
   {
    "duration": 14,
    "start_time": "2022-12-28T18:49:02.821Z"
   },
   {
    "duration": 5,
    "start_time": "2022-12-28T18:49:02.838Z"
   },
   {
    "duration": 14,
    "start_time": "2022-12-28T18:49:02.844Z"
   },
   {
    "duration": 59,
    "start_time": "2022-12-28T18:49:02.860Z"
   },
   {
    "duration": 5,
    "start_time": "2022-12-28T18:49:02.921Z"
   },
   {
    "duration": 7,
    "start_time": "2022-12-28T18:49:02.927Z"
   },
   {
    "duration": 8,
    "start_time": "2022-12-28T18:49:02.936Z"
   },
   {
    "duration": 10,
    "start_time": "2022-12-28T18:49:02.945Z"
   },
   {
    "duration": 6,
    "start_time": "2022-12-28T18:49:02.957Z"
   },
   {
    "duration": 45,
    "start_time": "2022-12-28T18:49:02.964Z"
   },
   {
    "duration": 19,
    "start_time": "2022-12-28T18:49:03.011Z"
   },
   {
    "duration": 5,
    "start_time": "2022-12-28T18:49:03.031Z"
   },
   {
    "duration": 10,
    "start_time": "2022-12-28T18:49:03.038Z"
   },
   {
    "duration": 137,
    "start_time": "2022-12-28T18:49:03.050Z"
   },
   {
    "duration": 41,
    "start_time": "2022-12-28T18:49:03.189Z"
   },
   {
    "duration": 416,
    "start_time": "2022-12-28T18:49:03.298Z"
   },
   {
    "duration": 88,
    "start_time": "2022-12-28T18:49:03.720Z"
   },
   {
    "duration": 784,
    "start_time": "2022-12-28T18:49:03.815Z"
   },
   {
    "duration": 298,
    "start_time": "2022-12-28T18:49:04.602Z"
   },
   {
    "duration": 10,
    "start_time": "2022-12-28T18:49:04.909Z"
   },
   {
    "duration": 164493,
    "start_time": "2022-12-28T18:49:04.921Z"
   },
   {
    "duration": 139,
    "start_time": "2022-12-28T18:51:49.416Z"
   },
   {
    "duration": 21,
    "start_time": "2022-12-28T18:51:49.556Z"
   },
   {
    "duration": 26,
    "start_time": "2022-12-28T18:51:49.579Z"
   },
   {
    "duration": 22,
    "start_time": "2022-12-28T18:51:49.607Z"
   },
   {
    "duration": 7,
    "start_time": "2022-12-28T18:51:49.631Z"
   },
   {
    "duration": 5,
    "start_time": "2022-12-28T18:51:49.640Z"
   },
   {
    "duration": 15,
    "start_time": "2022-12-28T18:51:49.647Z"
   },
   {
    "duration": 138,
    "start_time": "2022-12-28T18:51:49.664Z"
   },
   {
    "duration": 413,
    "start_time": "2022-12-28T18:51:49.803Z"
   },
   {
    "duration": 9,
    "start_time": "2022-12-28T18:51:50.218Z"
   },
   {
    "duration": 209,
    "start_time": "2022-12-28T18:51:50.229Z"
   },
   {
    "duration": 40,
    "start_time": "2022-12-28T18:51:50.440Z"
   },
   {
    "duration": 42,
    "start_time": "2022-12-28T18:51:50.482Z"
   },
   {
    "duration": 387,
    "start_time": "2022-12-28T18:51:50.525Z"
   },
   {
    "duration": 10,
    "start_time": "2022-12-28T18:51:50.913Z"
   },
   {
    "duration": 209,
    "start_time": "2022-12-28T18:51:50.929Z"
   },
   {
    "duration": 394,
    "start_time": "2022-12-28T18:51:51.140Z"
   },
   {
    "duration": 70,
    "start_time": "2022-12-28T18:51:51.538Z"
   },
   {
    "duration": 498,
    "start_time": "2022-12-28T18:51:51.615Z"
   },
   {
    "duration": 135,
    "start_time": "2022-12-28T18:51:52.115Z"
   },
   {
    "duration": 139,
    "start_time": "2022-12-28T18:51:52.252Z"
   },
   {
    "duration": 17,
    "start_time": "2022-12-28T18:51:52.396Z"
   },
   {
    "duration": 180,
    "start_time": "2022-12-28T18:51:52.415Z"
   },
   {
    "duration": 123,
    "start_time": "2022-12-28T18:51:52.602Z"
   },
   {
    "duration": 142,
    "start_time": "2022-12-28T18:51:52.726Z"
   },
   {
    "duration": 9,
    "start_time": "2022-12-28T18:51:52.869Z"
   },
   {
    "duration": 346,
    "start_time": "2022-12-28T18:51:52.879Z"
   },
   {
    "duration": 142,
    "start_time": "2022-12-28T18:51:53.227Z"
   },
   {
    "duration": 137,
    "start_time": "2022-12-28T18:51:53.371Z"
   },
   {
    "duration": 8,
    "start_time": "2022-12-28T18:51:53.510Z"
   },
   {
    "duration": 221759,
    "start_time": "2022-12-28T18:51:53.520Z"
   },
   {
    "duration": 150,
    "start_time": "2022-12-28T18:55:35.281Z"
   },
   {
    "duration": 21,
    "start_time": "2022-12-28T18:55:35.433Z"
   },
   {
    "duration": 1521,
    "start_time": "2022-12-28T18:56:33.997Z"
   },
   {
    "duration": 44,
    "start_time": "2022-12-28T18:56:35.521Z"
   },
   {
    "duration": 16,
    "start_time": "2022-12-28T18:56:35.566Z"
   },
   {
    "duration": 25,
    "start_time": "2022-12-28T18:56:35.584Z"
   },
   {
    "duration": 45,
    "start_time": "2022-12-28T18:56:35.612Z"
   },
   {
    "duration": 4,
    "start_time": "2022-12-28T18:56:35.659Z"
   },
   {
    "duration": 25,
    "start_time": "2022-12-28T18:56:35.665Z"
   },
   {
    "duration": 16,
    "start_time": "2022-12-28T18:56:35.693Z"
   },
   {
    "duration": 13,
    "start_time": "2022-12-28T18:56:35.714Z"
   },
   {
    "duration": 6,
    "start_time": "2022-12-28T18:56:35.729Z"
   },
   {
    "duration": 13,
    "start_time": "2022-12-28T18:56:35.737Z"
   },
   {
    "duration": 53,
    "start_time": "2022-12-28T18:56:35.752Z"
   },
   {
    "duration": 4,
    "start_time": "2022-12-28T18:56:35.812Z"
   },
   {
    "duration": 7,
    "start_time": "2022-12-28T18:56:35.819Z"
   },
   {
    "duration": 6,
    "start_time": "2022-12-28T18:56:35.827Z"
   },
   {
    "duration": 8,
    "start_time": "2022-12-28T18:56:35.834Z"
   },
   {
    "duration": 6,
    "start_time": "2022-12-28T18:56:35.844Z"
   },
   {
    "duration": 5,
    "start_time": "2022-12-28T18:56:35.852Z"
   },
   {
    "duration": 18,
    "start_time": "2022-12-28T18:56:35.858Z"
   },
   {
    "duration": 34,
    "start_time": "2022-12-28T18:56:35.878Z"
   },
   {
    "duration": 9,
    "start_time": "2022-12-28T18:56:35.915Z"
   },
   {
    "duration": 156,
    "start_time": "2022-12-28T18:56:35.926Z"
   },
   {
    "duration": 32,
    "start_time": "2022-12-28T18:56:36.084Z"
   },
   {
    "duration": 418,
    "start_time": "2022-12-28T18:56:36.117Z"
   },
   {
    "duration": 11,
    "start_time": "2022-12-28T18:56:36.537Z"
   },
   {
    "duration": 810,
    "start_time": "2022-12-28T18:56:36.597Z"
   },
   {
    "duration": 309,
    "start_time": "2022-12-28T18:56:37.416Z"
   },
   {
    "duration": 94,
    "start_time": "2022-12-28T18:56:37.726Z"
   },
   {
    "duration": 165301,
    "start_time": "2022-12-28T18:56:37.822Z"
   },
   {
    "duration": 144,
    "start_time": "2022-12-28T18:59:23.125Z"
   },
   {
    "duration": 38,
    "start_time": "2022-12-28T18:59:23.270Z"
   },
   {
    "duration": 6,
    "start_time": "2022-12-28T18:59:23.313Z"
   },
   {
    "duration": 5,
    "start_time": "2022-12-28T18:59:23.321Z"
   },
   {
    "duration": 34,
    "start_time": "2022-12-28T18:59:23.327Z"
   },
   {
    "duration": 5,
    "start_time": "2022-12-28T18:59:23.363Z"
   },
   {
    "duration": 21,
    "start_time": "2022-12-28T18:59:23.370Z"
   },
   {
    "duration": 117,
    "start_time": "2022-12-28T18:59:23.392Z"
   },
   {
    "duration": 379,
    "start_time": "2022-12-28T18:59:23.515Z"
   },
   {
    "duration": 100,
    "start_time": "2022-12-28T18:59:23.897Z"
   },
   {
    "duration": 113,
    "start_time": "2022-12-28T18:59:24.000Z"
   },
   {
    "duration": 48,
    "start_time": "2022-12-28T18:59:24.118Z"
   },
   {
    "duration": 27,
    "start_time": "2022-12-28T18:59:24.167Z"
   },
   {
    "duration": 318,
    "start_time": "2022-12-28T18:59:24.199Z"
   },
   {
    "duration": 12,
    "start_time": "2022-12-28T18:59:24.520Z"
   },
   {
    "duration": 167,
    "start_time": "2022-12-28T18:59:24.534Z"
   },
   {
    "duration": 415,
    "start_time": "2022-12-28T18:59:24.704Z"
   },
   {
    "duration": 84,
    "start_time": "2022-12-28T18:59:25.121Z"
   },
   {
    "duration": 523,
    "start_time": "2022-12-28T18:59:25.212Z"
   },
   {
    "duration": 154,
    "start_time": "2022-12-28T18:59:25.737Z"
   },
   {
    "duration": 177,
    "start_time": "2022-12-28T18:59:25.902Z"
   },
   {
    "duration": 22,
    "start_time": "2022-12-28T18:59:26.081Z"
   },
   {
    "duration": 228,
    "start_time": "2022-12-28T18:59:26.107Z"
   },
   {
    "duration": 164,
    "start_time": "2022-12-28T18:59:26.337Z"
   },
   {
    "duration": 143,
    "start_time": "2022-12-28T18:59:26.502Z"
   },
   {
    "duration": 11,
    "start_time": "2022-12-28T18:59:26.647Z"
   },
   {
    "duration": 356,
    "start_time": "2022-12-28T18:59:26.661Z"
   },
   {
    "duration": 132,
    "start_time": "2022-12-28T18:59:27.020Z"
   },
   {
    "duration": 135,
    "start_time": "2022-12-28T18:59:27.153Z"
   },
   {
    "duration": 22,
    "start_time": "2022-12-28T18:59:27.290Z"
   },
   {
    "duration": 220877,
    "start_time": "2022-12-28T18:59:27.314Z"
   },
   {
    "duration": 153,
    "start_time": "2022-12-28T19:03:08.196Z"
   },
   {
    "duration": 22,
    "start_time": "2022-12-28T19:03:08.351Z"
   },
   {
    "duration": 86917,
    "start_time": "2022-12-28T19:03:08.375Z"
   },
   {
    "duration": 144,
    "start_time": "2022-12-28T19:04:35.296Z"
   },
   {
    "duration": 19,
    "start_time": "2022-12-28T19:04:35.441Z"
   },
   {
    "duration": 163948,
    "start_time": "2022-12-28T19:04:35.462Z"
   },
   {
    "duration": 175,
    "start_time": "2022-12-28T19:07:19.416Z"
   },
   {
    "duration": 43,
    "start_time": "2022-12-28T19:07:19.598Z"
   },
   {
    "duration": 257,
    "start_time": "2022-12-28T19:07:19.643Z"
   },
   {
    "duration": 123,
    "start_time": "2022-12-28T19:21:27.556Z"
   },
   {
    "duration": 25,
    "start_time": "2022-12-28T19:21:38.333Z"
   },
   {
    "duration": 1521,
    "start_time": "2022-12-28T19:21:56.959Z"
   },
   {
    "duration": 78,
    "start_time": "2022-12-28T19:21:58.481Z"
   },
   {
    "duration": 13,
    "start_time": "2022-12-28T19:21:58.560Z"
   },
   {
    "duration": 18,
    "start_time": "2022-12-28T19:21:58.575Z"
   },
   {
    "duration": 54,
    "start_time": "2022-12-28T19:21:58.594Z"
   },
   {
    "duration": 4,
    "start_time": "2022-12-28T19:21:58.650Z"
   },
   {
    "duration": 13,
    "start_time": "2022-12-28T19:21:58.656Z"
   },
   {
    "duration": 5,
    "start_time": "2022-12-28T19:21:58.670Z"
   },
   {
    "duration": 34,
    "start_time": "2022-12-28T19:21:58.677Z"
   },
   {
    "duration": 5,
    "start_time": "2022-12-28T19:21:58.715Z"
   },
   {
    "duration": 14,
    "start_time": "2022-12-28T19:21:58.722Z"
   },
   {
    "duration": 30,
    "start_time": "2022-12-28T19:21:58.737Z"
   },
   {
    "duration": 4,
    "start_time": "2022-12-28T19:21:58.769Z"
   },
   {
    "duration": 28,
    "start_time": "2022-12-28T19:21:58.774Z"
   },
   {
    "duration": 10,
    "start_time": "2022-12-28T19:21:58.805Z"
   },
   {
    "duration": 9,
    "start_time": "2022-12-28T19:21:58.817Z"
   },
   {
    "duration": 5,
    "start_time": "2022-12-28T19:21:58.828Z"
   },
   {
    "duration": 5,
    "start_time": "2022-12-28T19:21:58.834Z"
   },
   {
    "duration": 24,
    "start_time": "2022-12-28T19:21:58.841Z"
   },
   {
    "duration": 6,
    "start_time": "2022-12-28T19:21:58.867Z"
   },
   {
    "duration": 28,
    "start_time": "2022-12-28T19:21:58.874Z"
   },
   {
    "duration": 131,
    "start_time": "2022-12-28T19:21:58.905Z"
   },
   {
    "duration": 68,
    "start_time": "2022-12-28T19:21:59.038Z"
   },
   {
    "duration": 376,
    "start_time": "2022-12-28T19:21:59.107Z"
   },
   {
    "duration": 11,
    "start_time": "2022-12-28T19:21:59.485Z"
   },
   {
    "duration": 738,
    "start_time": "2022-12-28T19:21:59.498Z"
   },
   {
    "duration": 292,
    "start_time": "2022-12-28T19:22:00.238Z"
   },
   {
    "duration": 89,
    "start_time": "2022-12-28T19:22:00.534Z"
   },
   {
    "duration": 166384,
    "start_time": "2022-12-28T19:22:00.625Z"
   },
   {
    "duration": 140,
    "start_time": "2022-12-28T19:24:47.011Z"
   },
   {
    "duration": 27,
    "start_time": "2022-12-28T19:24:47.153Z"
   },
   {
    "duration": 23,
    "start_time": "2022-12-28T19:24:47.181Z"
   },
   {
    "duration": 9,
    "start_time": "2022-12-28T19:24:47.210Z"
   },
   {
    "duration": 6,
    "start_time": "2022-12-28T19:24:47.221Z"
   },
   {
    "duration": 5,
    "start_time": "2022-12-28T19:24:47.229Z"
   },
   {
    "duration": 14,
    "start_time": "2022-12-28T19:24:47.235Z"
   },
   {
    "duration": 58,
    "start_time": "2022-12-28T19:24:47.250Z"
   },
   {
    "duration": 300,
    "start_time": "2022-12-28T19:24:47.311Z"
   },
   {
    "duration": 8,
    "start_time": "2022-12-28T19:24:47.613Z"
   },
   {
    "duration": 186,
    "start_time": "2022-12-28T19:24:47.623Z"
   },
   {
    "duration": 10,
    "start_time": "2022-12-28T19:24:47.811Z"
   },
   {
    "duration": 15,
    "start_time": "2022-12-28T19:24:47.823Z"
   },
   {
    "duration": 391,
    "start_time": "2022-12-28T19:24:47.917Z"
   },
   {
    "duration": 8,
    "start_time": "2022-12-28T19:24:48.310Z"
   },
   {
    "duration": 198,
    "start_time": "2022-12-28T19:24:48.320Z"
   },
   {
    "duration": 385,
    "start_time": "2022-12-28T19:24:48.522Z"
   },
   {
    "duration": 11,
    "start_time": "2022-12-28T19:24:48.908Z"
   },
   {
    "duration": 539,
    "start_time": "2022-12-28T19:24:48.921Z"
   },
   {
    "duration": 146,
    "start_time": "2022-12-28T19:24:49.462Z"
   },
   {
    "duration": 119,
    "start_time": "2022-12-28T19:24:49.610Z"
   },
   {
    "duration": 32,
    "start_time": "2022-12-28T19:24:49.731Z"
   },
   {
    "duration": 196,
    "start_time": "2022-12-28T19:24:49.765Z"
   },
   {
    "duration": 147,
    "start_time": "2022-12-28T19:24:49.964Z"
   },
   {
    "duration": 131,
    "start_time": "2022-12-28T19:24:50.113Z"
   },
   {
    "duration": 9,
    "start_time": "2022-12-28T19:24:50.247Z"
   },
   {
    "duration": 341,
    "start_time": "2022-12-28T19:24:50.258Z"
   },
   {
    "duration": 128,
    "start_time": "2022-12-28T19:24:50.603Z"
   },
   {
    "duration": 130,
    "start_time": "2022-12-28T19:24:50.733Z"
   },
   {
    "duration": 21,
    "start_time": "2022-12-28T19:24:50.865Z"
   },
   {
    "duration": 226622,
    "start_time": "2022-12-28T19:24:50.889Z"
   },
   {
    "duration": 153,
    "start_time": "2022-12-28T19:28:37.513Z"
   },
   {
    "duration": 37,
    "start_time": "2022-12-28T19:28:37.668Z"
   },
   {
    "duration": 87682,
    "start_time": "2022-12-28T19:28:37.710Z"
   },
   {
    "duration": 159,
    "start_time": "2022-12-28T19:30:05.393Z"
   },
   {
    "duration": 55,
    "start_time": "2022-12-28T19:30:05.554Z"
   },
   {
    "duration": 159818,
    "start_time": "2022-12-28T19:30:05.611Z"
   },
   {
    "duration": 161,
    "start_time": "2022-12-28T19:32:45.430Z"
   },
   {
    "duration": 27,
    "start_time": "2022-12-28T19:32:45.596Z"
   },
   {
    "duration": 412,
    "start_time": "2022-12-28T19:32:45.624Z"
   },
   {
    "duration": 29,
    "start_time": "2022-12-28T19:32:46.041Z"
   },
   {
    "duration": 44,
    "start_time": "2022-12-28T19:32:46.073Z"
   },
   {
    "duration": 147,
    "start_time": "2022-12-28T19:33:00.112Z"
   },
   {
    "duration": 6,
    "start_time": "2022-12-28T19:33:01.243Z"
   },
   {
    "duration": 25,
    "start_time": "2022-12-28T19:33:05.569Z"
   },
   {
    "duration": 143,
    "start_time": "2022-12-28T19:33:44.815Z"
   },
   {
    "duration": 5,
    "start_time": "2022-12-28T19:33:52.132Z"
   },
   {
    "duration": 144,
    "start_time": "2022-12-28T19:34:14.316Z"
   },
   {
    "duration": 8,
    "start_time": "2022-12-28T19:34:20.812Z"
   },
   {
    "duration": 311,
    "start_time": "2022-12-28T19:34:52.773Z"
   },
   {
    "duration": 143,
    "start_time": "2022-12-28T19:34:53.580Z"
   },
   {
    "duration": 5,
    "start_time": "2022-12-28T19:35:03.807Z"
   },
   {
    "duration": 19,
    "start_time": "2022-12-28T19:38:35.316Z"
   },
   {
    "duration": 261,
    "start_time": "2022-12-28T19:38:36.051Z"
   },
   {
    "duration": 7,
    "start_time": "2022-12-28T19:38:37.550Z"
   },
   {
    "duration": 6,
    "start_time": "2022-12-28T19:38:46.009Z"
   },
   {
    "duration": 355,
    "start_time": "2022-12-28T19:53:53.489Z"
   },
   {
    "duration": 149,
    "start_time": "2022-12-28T19:53:54.992Z"
   },
   {
    "duration": 130,
    "start_time": "2022-12-28T19:54:18.216Z"
   },
   {
    "duration": 6,
    "start_time": "2022-12-28T19:54:21.203Z"
   },
   {
    "duration": 1307,
    "start_time": "2022-12-28T19:54:58.189Z"
   },
   {
    "duration": 41,
    "start_time": "2022-12-28T19:54:59.498Z"
   },
   {
    "duration": 13,
    "start_time": "2022-12-28T19:54:59.541Z"
   },
   {
    "duration": 20,
    "start_time": "2022-12-28T19:54:59.556Z"
   },
   {
    "duration": 54,
    "start_time": "2022-12-28T19:54:59.578Z"
   },
   {
    "duration": 4,
    "start_time": "2022-12-28T19:54:59.634Z"
   },
   {
    "duration": 25,
    "start_time": "2022-12-28T19:54:59.640Z"
   },
   {
    "duration": 25,
    "start_time": "2022-12-28T19:54:59.666Z"
   },
   {
    "duration": 26,
    "start_time": "2022-12-28T19:54:59.692Z"
   },
   {
    "duration": 21,
    "start_time": "2022-12-28T19:54:59.719Z"
   },
   {
    "duration": 15,
    "start_time": "2022-12-28T19:54:59.742Z"
   },
   {
    "duration": 49,
    "start_time": "2022-12-28T19:54:59.759Z"
   },
   {
    "duration": 62,
    "start_time": "2022-12-28T19:54:59.810Z"
   },
   {
    "duration": 9,
    "start_time": "2022-12-28T19:54:59.875Z"
   },
   {
    "duration": 6,
    "start_time": "2022-12-28T19:54:59.885Z"
   },
   {
    "duration": 19,
    "start_time": "2022-12-28T19:54:59.892Z"
   },
   {
    "duration": 40,
    "start_time": "2022-12-28T19:54:59.913Z"
   },
   {
    "duration": 14,
    "start_time": "2022-12-28T19:54:59.955Z"
   },
   {
    "duration": 20,
    "start_time": "2022-12-28T19:54:59.970Z"
   },
   {
    "duration": 37,
    "start_time": "2022-12-28T19:54:59.992Z"
   },
   {
    "duration": 26,
    "start_time": "2022-12-28T19:55:00.030Z"
   },
   {
    "duration": 125,
    "start_time": "2022-12-28T19:55:00.058Z"
   },
   {
    "duration": 31,
    "start_time": "2022-12-28T19:55:00.185Z"
   },
   {
    "duration": 494,
    "start_time": "2022-12-28T19:55:00.217Z"
   },
   {
    "duration": 7,
    "start_time": "2022-12-28T19:55:00.713Z"
   },
   {
    "duration": 343,
    "start_time": "2022-12-28T19:55:00.722Z"
   },
   {
    "duration": 152,
    "start_time": "2022-12-28T19:55:01.068Z"
   },
   {
    "duration": 6,
    "start_time": "2022-12-28T19:55:01.221Z"
   },
   {
    "duration": 154956,
    "start_time": "2022-12-28T19:55:01.229Z"
   },
   {
    "duration": 188,
    "start_time": "2022-12-28T19:57:36.188Z"
   },
   {
    "duration": 6,
    "start_time": "2022-12-28T19:57:36.378Z"
   },
   {
    "duration": 11,
    "start_time": "2022-12-28T19:57:36.386Z"
   },
   {
    "duration": 8,
    "start_time": "2022-12-28T19:57:36.398Z"
   },
   {
    "duration": 8,
    "start_time": "2022-12-28T19:57:36.407Z"
   },
   {
    "duration": 4,
    "start_time": "2022-12-28T19:57:36.416Z"
   },
   {
    "duration": 15,
    "start_time": "2022-12-28T19:57:36.421Z"
   },
   {
    "duration": 60,
    "start_time": "2022-12-28T19:57:36.438Z"
   },
   {
    "duration": 306,
    "start_time": "2022-12-28T19:57:36.501Z"
   },
   {
    "duration": 8,
    "start_time": "2022-12-28T19:57:36.809Z"
   },
   {
    "duration": 83,
    "start_time": "2022-12-28T19:57:36.819Z"
   },
   {
    "duration": 106,
    "start_time": "2022-12-28T19:57:36.910Z"
   },
   {
    "duration": 16,
    "start_time": "2022-12-28T19:57:37.018Z"
   },
   {
    "duration": 451,
    "start_time": "2022-12-28T19:57:37.036Z"
   },
   {
    "duration": 9,
    "start_time": "2022-12-28T19:57:37.496Z"
   },
   {
    "duration": 203,
    "start_time": "2022-12-28T19:57:37.507Z"
   },
   {
    "duration": 378,
    "start_time": "2022-12-28T19:57:37.712Z"
   },
   {
    "duration": 10,
    "start_time": "2022-12-28T19:57:38.096Z"
   },
   {
    "duration": 547,
    "start_time": "2022-12-28T19:57:38.108Z"
   },
   {
    "duration": 123,
    "start_time": "2022-12-28T19:57:38.657Z"
   },
   {
    "duration": 145,
    "start_time": "2022-12-28T19:57:38.781Z"
   },
   {
    "duration": 6,
    "start_time": "2022-12-28T19:57:38.928Z"
   },
   {
    "duration": 179,
    "start_time": "2022-12-28T19:57:38.936Z"
   },
   {
    "duration": 119,
    "start_time": "2022-12-28T19:57:39.117Z"
   },
   {
    "duration": 137,
    "start_time": "2022-12-28T19:57:39.238Z"
   },
   {
    "duration": 6,
    "start_time": "2022-12-28T19:57:39.376Z"
   },
   {
    "duration": 311,
    "start_time": "2022-12-28T19:57:39.383Z"
   },
   {
    "duration": 135,
    "start_time": "2022-12-28T19:57:39.697Z"
   },
   {
    "duration": 156,
    "start_time": "2022-12-28T19:57:39.834Z"
   },
   {
    "duration": 8,
    "start_time": "2022-12-28T19:57:39.992Z"
   },
   {
    "duration": 218237,
    "start_time": "2022-12-28T19:57:40.001Z"
   },
   {
    "duration": 158,
    "start_time": "2022-12-28T20:01:18.239Z"
   },
   {
    "duration": 7,
    "start_time": "2022-12-28T20:01:18.398Z"
   },
   {
    "duration": 89959,
    "start_time": "2022-12-28T20:01:18.406Z"
   },
   {
    "duration": 164,
    "start_time": "2022-12-28T20:02:48.367Z"
   },
   {
    "duration": 8,
    "start_time": "2022-12-28T20:02:48.533Z"
   },
   {
    "duration": 161952,
    "start_time": "2022-12-28T20:02:48.543Z"
   },
   {
    "duration": 160,
    "start_time": "2022-12-28T20:05:30.497Z"
   },
   {
    "duration": 6,
    "start_time": "2022-12-28T20:05:30.659Z"
   },
   {
    "duration": 406,
    "start_time": "2022-12-28T20:05:30.667Z"
   },
   {
    "duration": 183,
    "start_time": "2022-12-28T20:05:31.075Z"
   },
   {
    "duration": 7,
    "start_time": "2022-12-28T20:05:31.260Z"
   },
   {
    "duration": 1365,
    "start_time": "2022-12-29T16:29:50.142Z"
   },
   {
    "duration": 44,
    "start_time": "2022-12-29T16:29:51.509Z"
   },
   {
    "duration": 12,
    "start_time": "2022-12-29T16:29:51.555Z"
   },
   {
    "duration": 17,
    "start_time": "2022-12-29T16:29:51.569Z"
   },
   {
    "duration": 42,
    "start_time": "2022-12-29T16:29:51.587Z"
   },
   {
    "duration": 4,
    "start_time": "2022-12-29T16:29:51.630Z"
   },
   {
    "duration": 14,
    "start_time": "2022-12-29T16:29:51.635Z"
   },
   {
    "duration": 11,
    "start_time": "2022-12-29T16:29:51.650Z"
   },
   {
    "duration": 27,
    "start_time": "2022-12-29T16:29:51.663Z"
   },
   {
    "duration": 4,
    "start_time": "2022-12-29T16:29:51.696Z"
   },
   {
    "duration": 22,
    "start_time": "2022-12-29T16:29:51.701Z"
   },
   {
    "duration": 25,
    "start_time": "2022-12-29T16:29:51.725Z"
   },
   {
    "duration": 4,
    "start_time": "2022-12-29T16:29:51.751Z"
   },
   {
    "duration": 6,
    "start_time": "2022-12-29T16:29:51.756Z"
   },
   {
    "duration": 7,
    "start_time": "2022-12-29T16:29:51.763Z"
   },
   {
    "duration": 8,
    "start_time": "2022-12-29T16:29:51.772Z"
   },
   {
    "duration": 5,
    "start_time": "2022-12-29T16:29:51.796Z"
   },
   {
    "duration": 37,
    "start_time": "2022-12-29T16:29:51.802Z"
   },
   {
    "duration": 21,
    "start_time": "2022-12-29T16:29:51.841Z"
   },
   {
    "duration": 23,
    "start_time": "2022-12-29T16:29:51.864Z"
   },
   {
    "duration": 22,
    "start_time": "2022-12-29T16:29:51.888Z"
   },
   {
    "duration": 137,
    "start_time": "2022-12-29T16:29:51.912Z"
   },
   {
    "duration": 48,
    "start_time": "2022-12-29T16:29:52.050Z"
   },
   {
    "duration": 374,
    "start_time": "2022-12-29T16:29:52.100Z"
   },
   {
    "duration": 20,
    "start_time": "2022-12-29T16:29:52.476Z"
   },
   {
    "duration": 265,
    "start_time": "2022-12-29T16:29:52.498Z"
   },
   {
    "duration": 126,
    "start_time": "2022-12-29T16:29:52.765Z"
   },
   {
    "duration": 6,
    "start_time": "2022-12-29T16:29:52.895Z"
   },
   {
    "duration": 145866,
    "start_time": "2022-12-29T16:29:52.902Z"
   },
   {
    "duration": 137,
    "start_time": "2022-12-29T16:32:18.770Z"
   },
   {
    "duration": 5,
    "start_time": "2022-12-29T16:32:18.909Z"
   },
   {
    "duration": 6,
    "start_time": "2022-12-29T16:32:18.916Z"
   },
   {
    "duration": 7,
    "start_time": "2022-12-29T16:32:18.923Z"
   },
   {
    "duration": 4,
    "start_time": "2022-12-29T16:32:18.932Z"
   },
   {
    "duration": 4,
    "start_time": "2022-12-29T16:32:18.937Z"
   },
   {
    "duration": 17,
    "start_time": "2022-12-29T16:32:18.942Z"
   },
   {
    "duration": 57,
    "start_time": "2022-12-29T16:32:18.961Z"
   },
   {
    "duration": 381,
    "start_time": "2022-12-29T16:32:19.020Z"
   },
   {
    "duration": 6,
    "start_time": "2022-12-29T16:32:19.402Z"
   },
   {
    "duration": 4,
    "start_time": "2022-12-29T16:32:19.409Z"
   },
   {
    "duration": 13,
    "start_time": "2022-12-29T16:32:19.415Z"
   },
   {
    "duration": 13,
    "start_time": "2022-12-29T16:32:19.430Z"
   },
   {
    "duration": 359,
    "start_time": "2022-12-29T16:32:19.445Z"
   },
   {
    "duration": 7,
    "start_time": "2022-12-29T16:32:19.806Z"
   },
   {
    "duration": 29,
    "start_time": "2022-12-29T16:32:19.815Z"
   },
   {
    "duration": 378,
    "start_time": "2022-12-29T16:32:19.908Z"
   },
   {
    "duration": 12,
    "start_time": "2022-12-29T16:32:20.288Z"
   },
   {
    "duration": 351,
    "start_time": "2022-12-29T16:32:20.302Z"
   },
   {
    "duration": 115,
    "start_time": "2022-12-29T16:32:20.654Z"
   },
   {
    "duration": 144,
    "start_time": "2022-12-29T16:32:20.770Z"
   },
   {
    "duration": 7,
    "start_time": "2022-12-29T16:32:20.916Z"
   },
   {
    "duration": 200,
    "start_time": "2022-12-29T16:32:20.925Z"
   },
   {
    "duration": 128,
    "start_time": "2022-12-29T16:32:21.127Z"
   },
   {
    "duration": 128,
    "start_time": "2022-12-29T16:32:21.257Z"
   },
   {
    "duration": 13,
    "start_time": "2022-12-29T16:32:21.387Z"
   },
   {
    "duration": 301,
    "start_time": "2022-12-29T16:32:21.402Z"
   },
   {
    "duration": 116,
    "start_time": "2022-12-29T16:32:21.705Z"
   },
   {
    "duration": 154,
    "start_time": "2022-12-29T16:32:21.823Z"
   },
   {
    "duration": 5,
    "start_time": "2022-12-29T16:32:21.978Z"
   },
   {
    "duration": 195942,
    "start_time": "2022-12-29T16:32:21.984Z"
   },
   {
    "duration": 136,
    "start_time": "2022-12-29T16:35:37.928Z"
   },
   {
    "duration": 6,
    "start_time": "2022-12-29T16:35:38.066Z"
   },
   {
    "duration": 78678,
    "start_time": "2022-12-29T16:35:38.073Z"
   },
   {
    "duration": 146,
    "start_time": "2022-12-29T16:36:56.752Z"
   },
   {
    "duration": 6,
    "start_time": "2022-12-29T16:36:56.899Z"
   },
   {
    "duration": 141376,
    "start_time": "2022-12-29T16:36:56.906Z"
   },
   {
    "duration": 139,
    "start_time": "2022-12-29T16:39:18.283Z"
   },
   {
    "duration": 5,
    "start_time": "2022-12-29T16:39:18.423Z"
   },
   {
    "duration": 341,
    "start_time": "2022-12-29T16:39:18.430Z"
   },
   {
    "duration": 137,
    "start_time": "2022-12-29T16:39:18.772Z"
   },
   {
    "duration": 5,
    "start_time": "2022-12-29T16:39:18.911Z"
   },
   {
    "duration": 2668,
    "start_time": "2023-03-21T18:09:54.914Z"
   },
   {
    "duration": 197,
    "start_time": "2023-03-21T18:09:57.584Z"
   },
   {
    "duration": 70,
    "start_time": "2023-03-21T18:09:57.783Z"
   },
   {
    "duration": 25,
    "start_time": "2023-03-21T18:09:57.859Z"
   },
   {
    "duration": 94,
    "start_time": "2023-03-21T18:09:57.887Z"
   },
   {
    "duration": 5,
    "start_time": "2023-03-21T18:09:57.983Z"
   },
   {
    "duration": 17,
    "start_time": "2023-03-21T18:09:58.044Z"
   },
   {
    "duration": 7,
    "start_time": "2023-03-21T18:09:58.066Z"
   },
   {
    "duration": 73,
    "start_time": "2023-03-21T18:09:58.075Z"
   },
   {
    "duration": 6,
    "start_time": "2023-03-21T18:09:58.150Z"
   },
   {
    "duration": 20,
    "start_time": "2023-03-21T18:09:58.159Z"
   },
   {
    "duration": 99,
    "start_time": "2023-03-21T18:09:58.181Z"
   },
   {
    "duration": 4,
    "start_time": "2023-03-21T18:09:58.281Z"
   },
   {
    "duration": 9,
    "start_time": "2023-03-21T18:09:58.347Z"
   },
   {
    "duration": 16,
    "start_time": "2023-03-21T18:09:58.357Z"
   },
   {
    "duration": 6,
    "start_time": "2023-03-21T18:09:58.375Z"
   },
   {
    "duration": 9,
    "start_time": "2023-03-21T18:09:58.383Z"
   },
   {
    "duration": 8,
    "start_time": "2023-03-21T18:09:58.444Z"
   },
   {
    "duration": 21,
    "start_time": "2023-03-21T18:09:58.456Z"
   },
   {
    "duration": 5,
    "start_time": "2023-03-21T18:09:58.479Z"
   },
   {
    "duration": 71,
    "start_time": "2023-03-21T18:09:58.485Z"
   },
   {
    "duration": 290,
    "start_time": "2023-03-21T18:09:58.558Z"
   },
   {
    "duration": 92,
    "start_time": "2023-03-21T18:09:58.855Z"
   },
   {
    "duration": 431,
    "start_time": "2023-03-21T18:09:58.953Z"
   },
   {
    "duration": 56,
    "start_time": "2023-03-21T18:09:59.386Z"
   },
   {
    "duration": 725,
    "start_time": "2023-03-21T18:09:59.446Z"
   },
   {
    "duration": 2544,
    "start_time": "2023-03-21T18:10:33.531Z"
   },
   {
    "duration": 85,
    "start_time": "2023-03-21T18:10:36.077Z"
   },
   {
    "duration": 17,
    "start_time": "2023-03-21T18:10:36.165Z"
   },
   {
    "duration": 85,
    "start_time": "2023-03-21T18:10:36.183Z"
   },
   {
    "duration": 104,
    "start_time": "2023-03-21T18:10:36.272Z"
   },
   {
    "duration": 4,
    "start_time": "2023-03-21T18:10:36.378Z"
   },
   {
    "duration": 74,
    "start_time": "2023-03-21T18:10:36.384Z"
   },
   {
    "duration": 11,
    "start_time": "2023-03-21T18:10:36.462Z"
   },
   {
    "duration": 91,
    "start_time": "2023-03-21T18:10:36.475Z"
   },
   {
    "duration": 9,
    "start_time": "2023-03-21T18:10:36.569Z"
   },
   {
    "duration": 62,
    "start_time": "2023-03-21T18:10:36.580Z"
   },
   {
    "duration": 42,
    "start_time": "2023-03-21T18:10:36.644Z"
   },
   {
    "duration": 4,
    "start_time": "2023-03-21T18:10:36.687Z"
   },
   {
    "duration": 3,
    "start_time": "2023-03-21T18:10:36.747Z"
   },
   {
    "duration": 13,
    "start_time": "2023-03-21T18:10:36.757Z"
   },
   {
    "duration": 3,
    "start_time": "2023-03-21T18:10:36.775Z"
   },
   {
    "duration": 65,
    "start_time": "2023-03-21T18:10:36.780Z"
   },
   {
    "duration": 5,
    "start_time": "2023-03-21T18:10:36.847Z"
   },
   {
    "duration": 22,
    "start_time": "2023-03-21T18:10:36.857Z"
   },
   {
    "duration": 4,
    "start_time": "2023-03-21T18:10:36.881Z"
   },
   {
    "duration": 6,
    "start_time": "2023-03-21T18:10:36.942Z"
   },
   {
    "duration": 304,
    "start_time": "2023-03-21T18:10:36.956Z"
   },
   {
    "duration": 99,
    "start_time": "2023-03-21T18:10:37.264Z"
   },
   {
    "duration": 504,
    "start_time": "2023-03-21T18:10:37.365Z"
   },
   {
    "duration": 8,
    "start_time": "2023-03-21T18:10:37.871Z"
   },
   {
    "duration": 706,
    "start_time": "2023-03-21T18:10:37.881Z"
   },
   {
    "duration": 375,
    "start_time": "2023-03-21T18:10:38.589Z"
   },
   {
    "duration": 8,
    "start_time": "2023-03-21T18:10:38.971Z"
   },
   {
    "duration": 381578,
    "start_time": "2023-03-21T18:10:38.981Z"
   },
   {
    "duration": 0,
    "start_time": "2023-03-21T18:17:00.563Z"
   },
   {
    "duration": 0,
    "start_time": "2023-03-21T18:17:00.564Z"
   },
   {
    "duration": 0,
    "start_time": "2023-03-21T18:17:00.566Z"
   },
   {
    "duration": 0,
    "start_time": "2023-03-21T18:17:00.567Z"
   },
   {
    "duration": 0,
    "start_time": "2023-03-21T18:17:00.568Z"
   },
   {
    "duration": 1,
    "start_time": "2023-03-21T18:17:00.569Z"
   },
   {
    "duration": 0,
    "start_time": "2023-03-21T18:17:00.571Z"
   },
   {
    "duration": 0,
    "start_time": "2023-03-21T18:17:00.572Z"
   },
   {
    "duration": 0,
    "start_time": "2023-03-21T18:17:00.573Z"
   },
   {
    "duration": 0,
    "start_time": "2023-03-21T18:17:00.575Z"
   },
   {
    "duration": 0,
    "start_time": "2023-03-21T18:17:00.577Z"
   },
   {
    "duration": 0,
    "start_time": "2023-03-21T18:17:00.578Z"
   },
   {
    "duration": 0,
    "start_time": "2023-03-21T18:17:00.579Z"
   },
   {
    "duration": 0,
    "start_time": "2023-03-21T18:17:00.581Z"
   },
   {
    "duration": 0,
    "start_time": "2023-03-21T18:17:00.583Z"
   },
   {
    "duration": 1,
    "start_time": "2023-03-21T18:17:00.641Z"
   },
   {
    "duration": 0,
    "start_time": "2023-03-21T18:17:00.643Z"
   },
   {
    "duration": 0,
    "start_time": "2023-03-21T18:17:00.644Z"
   },
   {
    "duration": 0,
    "start_time": "2023-03-21T18:17:00.645Z"
   },
   {
    "duration": 0,
    "start_time": "2023-03-21T18:17:00.646Z"
   },
   {
    "duration": 0,
    "start_time": "2023-03-21T18:17:00.647Z"
   },
   {
    "duration": 0,
    "start_time": "2023-03-21T18:17:00.649Z"
   },
   {
    "duration": 0,
    "start_time": "2023-03-21T18:17:00.650Z"
   },
   {
    "duration": 0,
    "start_time": "2023-03-21T18:17:00.652Z"
   },
   {
    "duration": 0,
    "start_time": "2023-03-21T18:17:00.653Z"
   },
   {
    "duration": 0,
    "start_time": "2023-03-21T18:17:00.655Z"
   },
   {
    "duration": 0,
    "start_time": "2023-03-21T18:17:00.656Z"
   },
   {
    "duration": 0,
    "start_time": "2023-03-21T18:17:00.657Z"
   },
   {
    "duration": 0,
    "start_time": "2023-03-21T18:17:00.658Z"
   },
   {
    "duration": 0,
    "start_time": "2023-03-21T18:17:00.660Z"
   },
   {
    "duration": 0,
    "start_time": "2023-03-21T18:17:00.661Z"
   },
   {
    "duration": 0,
    "start_time": "2023-03-21T18:17:00.662Z"
   },
   {
    "duration": 0,
    "start_time": "2023-03-21T18:17:00.664Z"
   },
   {
    "duration": 0,
    "start_time": "2023-03-21T18:17:00.665Z"
   },
   {
    "duration": 0,
    "start_time": "2023-03-21T18:17:00.666Z"
   },
   {
    "duration": 0,
    "start_time": "2023-03-21T18:17:00.668Z"
   },
   {
    "duration": 0,
    "start_time": "2023-03-21T18:17:00.669Z"
   },
   {
    "duration": 0,
    "start_time": "2023-03-21T18:17:00.671Z"
   },
   {
    "duration": 0,
    "start_time": "2023-03-21T18:17:00.672Z"
   },
   {
    "duration": 0,
    "start_time": "2023-03-21T18:17:00.673Z"
   },
   {
    "duration": 0,
    "start_time": "2023-03-21T18:17:00.742Z"
   },
   {
    "duration": 0,
    "start_time": "2023-03-21T18:17:00.743Z"
   },
   {
    "duration": 3,
    "start_time": "2023-03-21T18:17:12.088Z"
   },
   {
    "duration": 359,
    "start_time": "2023-03-21T18:17:14.783Z"
   },
   {
    "duration": 10,
    "start_time": "2023-03-21T18:17:19.657Z"
   },
   {
    "duration": 12,
    "start_time": "2023-03-21T18:17:22.633Z"
   },
   {
    "duration": 10,
    "start_time": "2023-03-21T18:17:24.740Z"
   },
   {
    "duration": 10,
    "start_time": "2023-03-21T18:17:25.033Z"
   },
   {
    "duration": 3489,
    "start_time": "2023-03-21T18:17:39.158Z"
   },
   {
    "duration": 49,
    "start_time": "2023-03-21T18:17:42.653Z"
   },
   {
    "duration": 63,
    "start_time": "2023-03-21T18:17:42.704Z"
   },
   {
    "duration": 78,
    "start_time": "2023-03-21T18:17:42.769Z"
   },
   {
    "duration": 100,
    "start_time": "2023-03-21T18:17:42.851Z"
   },
   {
    "duration": 12,
    "start_time": "2023-03-21T18:17:42.958Z"
   },
   {
    "duration": 15,
    "start_time": "2023-03-21T18:17:42.973Z"
   },
   {
    "duration": 15,
    "start_time": "2023-03-21T18:17:43.047Z"
   },
   {
    "duration": 25,
    "start_time": "2023-03-21T18:17:43.064Z"
   },
   {
    "duration": 53,
    "start_time": "2023-03-21T18:17:43.091Z"
   },
   {
    "duration": 27,
    "start_time": "2023-03-21T18:17:43.147Z"
   },
   {
    "duration": 103,
    "start_time": "2023-03-21T18:17:43.177Z"
   },
   {
    "duration": 5,
    "start_time": "2023-03-21T18:17:43.281Z"
   },
   {
    "duration": 9,
    "start_time": "2023-03-21T18:17:43.288Z"
   },
   {
    "duration": 18,
    "start_time": "2023-03-21T18:17:43.347Z"
   },
   {
    "duration": 4,
    "start_time": "2023-03-21T18:17:43.367Z"
   },
   {
    "duration": 4,
    "start_time": "2023-03-21T18:17:43.374Z"
   },
   {
    "duration": 5,
    "start_time": "2023-03-21T18:17:43.379Z"
   },
   {
    "duration": 86,
    "start_time": "2023-03-21T18:17:43.386Z"
   },
   {
    "duration": 6,
    "start_time": "2023-03-21T18:17:43.473Z"
   },
   {
    "duration": 64,
    "start_time": "2023-03-21T18:17:43.481Z"
   },
   {
    "duration": 304,
    "start_time": "2023-03-21T18:17:43.546Z"
   },
   {
    "duration": 101,
    "start_time": "2023-03-21T18:17:43.851Z"
   },
   {
    "duration": 425,
    "start_time": "2023-03-21T18:17:43.954Z"
   },
   {
    "duration": 70,
    "start_time": "2023-03-21T18:17:44.381Z"
   },
   {
    "duration": 700,
    "start_time": "2023-03-21T18:17:44.454Z"
   },
   {
    "duration": 328,
    "start_time": "2023-03-21T18:17:45.157Z"
   },
   {
    "duration": 14,
    "start_time": "2023-03-21T18:17:45.541Z"
   },
   {
    "duration": 7,
    "start_time": "2023-03-21T18:17:45.565Z"
   },
   {
    "duration": 292,
    "start_time": "2023-03-21T18:17:45.574Z"
   },
   {
    "duration": 0,
    "start_time": "2023-03-21T18:17:45.869Z"
   },
   {
    "duration": 0,
    "start_time": "2023-03-21T18:17:45.870Z"
   },
   {
    "duration": 0,
    "start_time": "2023-03-21T18:17:45.871Z"
   },
   {
    "duration": 0,
    "start_time": "2023-03-21T18:17:45.874Z"
   },
   {
    "duration": 0,
    "start_time": "2023-03-21T18:17:45.876Z"
   },
   {
    "duration": 1,
    "start_time": "2023-03-21T18:17:45.876Z"
   },
   {
    "duration": 0,
    "start_time": "2023-03-21T18:17:45.878Z"
   },
   {
    "duration": 0,
    "start_time": "2023-03-21T18:17:45.879Z"
   },
   {
    "duration": 0,
    "start_time": "2023-03-21T18:17:45.880Z"
   },
   {
    "duration": 0,
    "start_time": "2023-03-21T18:17:45.881Z"
   },
   {
    "duration": 0,
    "start_time": "2023-03-21T18:17:45.882Z"
   },
   {
    "duration": 0,
    "start_time": "2023-03-21T18:17:45.883Z"
   },
   {
    "duration": 0,
    "start_time": "2023-03-21T18:17:45.884Z"
   },
   {
    "duration": 0,
    "start_time": "2023-03-21T18:17:45.948Z"
   },
   {
    "duration": 0,
    "start_time": "2023-03-21T18:17:45.953Z"
   },
   {
    "duration": 0,
    "start_time": "2023-03-21T18:17:45.960Z"
   },
   {
    "duration": 0,
    "start_time": "2023-03-21T18:17:45.963Z"
   },
   {
    "duration": 0,
    "start_time": "2023-03-21T18:17:45.966Z"
   },
   {
    "duration": 0,
    "start_time": "2023-03-21T18:17:45.967Z"
   },
   {
    "duration": 0,
    "start_time": "2023-03-21T18:17:45.967Z"
   },
   {
    "duration": 0,
    "start_time": "2023-03-21T18:17:45.969Z"
   },
   {
    "duration": 0,
    "start_time": "2023-03-21T18:17:45.970Z"
   },
   {
    "duration": 0,
    "start_time": "2023-03-21T18:17:45.972Z"
   },
   {
    "duration": 0,
    "start_time": "2023-03-21T18:17:45.973Z"
   },
   {
    "duration": 0,
    "start_time": "2023-03-21T18:17:45.974Z"
   },
   {
    "duration": 0,
    "start_time": "2023-03-21T18:17:45.975Z"
   },
   {
    "duration": 0,
    "start_time": "2023-03-21T18:17:45.976Z"
   },
   {
    "duration": 0,
    "start_time": "2023-03-21T18:17:45.977Z"
   },
   {
    "duration": 0,
    "start_time": "2023-03-21T18:17:45.979Z"
   },
   {
    "duration": 0,
    "start_time": "2023-03-21T18:17:45.980Z"
   },
   {
    "duration": 0,
    "start_time": "2023-03-21T18:17:46.041Z"
   },
   {
    "duration": 0,
    "start_time": "2023-03-21T18:17:46.042Z"
   },
   {
    "duration": 0,
    "start_time": "2023-03-21T18:17:46.043Z"
   },
   {
    "duration": 0,
    "start_time": "2023-03-21T18:17:46.044Z"
   },
   {
    "duration": 0,
    "start_time": "2023-03-21T18:17:46.045Z"
   },
   {
    "duration": 0,
    "start_time": "2023-03-21T18:17:46.046Z"
   },
   {
    "duration": 0,
    "start_time": "2023-03-21T18:17:46.047Z"
   },
   {
    "duration": 0,
    "start_time": "2023-03-21T18:17:46.048Z"
   },
   {
    "duration": 0,
    "start_time": "2023-03-21T18:17:46.049Z"
   },
   {
    "duration": 0,
    "start_time": "2023-03-21T18:17:46.050Z"
   },
   {
    "duration": 0,
    "start_time": "2023-03-21T18:17:46.051Z"
   },
   {
    "duration": 6,
    "start_time": "2023-03-21T18:18:14.165Z"
   },
   {
    "duration": 2698,
    "start_time": "2023-03-21T18:18:34.276Z"
   },
   {
    "duration": 86,
    "start_time": "2023-03-21T18:18:36.976Z"
   },
   {
    "duration": 16,
    "start_time": "2023-03-21T18:18:37.063Z"
   },
   {
    "duration": 92,
    "start_time": "2023-03-21T18:18:37.081Z"
   },
   {
    "duration": 98,
    "start_time": "2023-03-21T18:18:37.176Z"
   },
   {
    "duration": 4,
    "start_time": "2023-03-21T18:18:37.276Z"
   },
   {
    "duration": 90,
    "start_time": "2023-03-21T18:18:37.282Z"
   },
   {
    "duration": 5,
    "start_time": "2023-03-21T18:18:37.374Z"
   },
   {
    "duration": 69,
    "start_time": "2023-03-21T18:18:37.380Z"
   },
   {
    "duration": 12,
    "start_time": "2023-03-21T18:18:37.454Z"
   },
   {
    "duration": 14,
    "start_time": "2023-03-21T18:18:37.471Z"
   },
   {
    "duration": 85,
    "start_time": "2023-03-21T18:18:37.487Z"
   },
   {
    "duration": 4,
    "start_time": "2023-03-21T18:18:37.574Z"
   },
   {
    "duration": 69,
    "start_time": "2023-03-21T18:18:37.580Z"
   },
   {
    "duration": 16,
    "start_time": "2023-03-21T18:18:37.651Z"
   },
   {
    "duration": 5,
    "start_time": "2023-03-21T18:18:37.676Z"
   },
   {
    "duration": 7,
    "start_time": "2023-03-21T18:18:37.683Z"
   },
   {
    "duration": 6,
    "start_time": "2023-03-21T18:18:37.748Z"
   },
   {
    "duration": 28,
    "start_time": "2023-03-21T18:18:37.755Z"
   },
   {
    "duration": 61,
    "start_time": "2023-03-21T18:18:37.784Z"
   },
   {
    "duration": 7,
    "start_time": "2023-03-21T18:18:37.850Z"
   },
   {
    "duration": 304,
    "start_time": "2023-03-21T18:18:37.858Z"
   },
   {
    "duration": 82,
    "start_time": "2023-03-21T18:18:38.166Z"
   },
   {
    "duration": 514,
    "start_time": "2023-03-21T18:18:38.262Z"
   },
   {
    "duration": 6,
    "start_time": "2023-03-21T18:18:38.778Z"
   },
   {
    "duration": 776,
    "start_time": "2023-03-21T18:18:38.785Z"
   },
   {
    "duration": 311,
    "start_time": "2023-03-21T18:18:39.569Z"
   },
   {
    "duration": 64,
    "start_time": "2023-03-21T18:18:39.884Z"
   },
   {
    "duration": 18,
    "start_time": "2023-03-21T18:18:39.949Z"
   },
   {
    "duration": 7,
    "start_time": "2023-03-21T18:18:39.969Z"
   },
   {
    "duration": 4,
    "start_time": "2023-03-21T18:18:39.978Z"
   },
   {
    "duration": 7,
    "start_time": "2023-03-21T18:18:39.984Z"
   },
   {
    "duration": 16,
    "start_time": "2023-03-21T18:18:40.044Z"
   },
   {
    "duration": 286,
    "start_time": "2023-03-21T18:18:40.064Z"
   },
   {
    "duration": 1,
    "start_time": "2023-03-21T18:18:40.355Z"
   },
   {
    "duration": 0,
    "start_time": "2023-03-21T18:18:40.360Z"
   },
   {
    "duration": 0,
    "start_time": "2023-03-21T18:18:40.364Z"
   },
   {
    "duration": 0,
    "start_time": "2023-03-21T18:18:40.368Z"
   },
   {
    "duration": 0,
    "start_time": "2023-03-21T18:18:40.371Z"
   },
   {
    "duration": 0,
    "start_time": "2023-03-21T18:18:40.373Z"
   },
   {
    "duration": 0,
    "start_time": "2023-03-21T18:18:40.374Z"
   },
   {
    "duration": 0,
    "start_time": "2023-03-21T18:18:40.375Z"
   },
   {
    "duration": 0,
    "start_time": "2023-03-21T18:18:40.376Z"
   },
   {
    "duration": 0,
    "start_time": "2023-03-21T18:18:40.377Z"
   },
   {
    "duration": 0,
    "start_time": "2023-03-21T18:18:40.378Z"
   },
   {
    "duration": 0,
    "start_time": "2023-03-21T18:18:40.379Z"
   },
   {
    "duration": 0,
    "start_time": "2023-03-21T18:18:40.380Z"
   },
   {
    "duration": 0,
    "start_time": "2023-03-21T18:18:40.382Z"
   },
   {
    "duration": 0,
    "start_time": "2023-03-21T18:18:40.383Z"
   },
   {
    "duration": 0,
    "start_time": "2023-03-21T18:18:40.384Z"
   },
   {
    "duration": 0,
    "start_time": "2023-03-21T18:18:40.443Z"
   },
   {
    "duration": 0,
    "start_time": "2023-03-21T18:18:40.443Z"
   },
   {
    "duration": 0,
    "start_time": "2023-03-21T18:18:40.451Z"
   },
   {
    "duration": 0,
    "start_time": "2023-03-21T18:18:40.451Z"
   },
   {
    "duration": 0,
    "start_time": "2023-03-21T18:18:40.452Z"
   },
   {
    "duration": 0,
    "start_time": "2023-03-21T18:18:40.456Z"
   },
   {
    "duration": 0,
    "start_time": "2023-03-21T18:18:40.457Z"
   },
   {
    "duration": 0,
    "start_time": "2023-03-21T18:18:40.458Z"
   },
   {
    "duration": 0,
    "start_time": "2023-03-21T18:18:40.459Z"
   },
   {
    "duration": 1,
    "start_time": "2023-03-21T18:18:40.459Z"
   },
   {
    "duration": 0,
    "start_time": "2023-03-21T18:18:40.460Z"
   },
   {
    "duration": 0,
    "start_time": "2023-03-21T18:18:40.461Z"
   },
   {
    "duration": 0,
    "start_time": "2023-03-21T18:18:40.462Z"
   },
   {
    "duration": 0,
    "start_time": "2023-03-21T18:18:40.463Z"
   },
   {
    "duration": 0,
    "start_time": "2023-03-21T18:18:40.463Z"
   },
   {
    "duration": 0,
    "start_time": "2023-03-21T18:18:40.465Z"
   },
   {
    "duration": 0,
    "start_time": "2023-03-21T18:18:40.466Z"
   },
   {
    "duration": 0,
    "start_time": "2023-03-21T18:18:40.467Z"
   },
   {
    "duration": 0,
    "start_time": "2023-03-21T18:18:40.468Z"
   },
   {
    "duration": 0,
    "start_time": "2023-03-21T18:18:40.468Z"
   },
   {
    "duration": 0,
    "start_time": "2023-03-21T18:18:40.469Z"
   },
   {
    "duration": 2786,
    "start_time": "2023-03-21T18:19:13.285Z"
   },
   {
    "duration": 90,
    "start_time": "2023-03-21T18:19:16.072Z"
   },
   {
    "duration": 81,
    "start_time": "2023-03-21T18:19:16.165Z"
   },
   {
    "duration": 32,
    "start_time": "2023-03-21T18:19:16.250Z"
   },
   {
    "duration": 92,
    "start_time": "2023-03-21T18:19:16.284Z"
   },
   {
    "duration": 3,
    "start_time": "2023-03-21T18:19:16.378Z"
   },
   {
    "duration": 76,
    "start_time": "2023-03-21T18:19:16.384Z"
   },
   {
    "duration": 8,
    "start_time": "2023-03-21T18:19:16.462Z"
   },
   {
    "duration": 11,
    "start_time": "2023-03-21T18:19:16.473Z"
   },
   {
    "duration": 21,
    "start_time": "2023-03-21T18:19:16.543Z"
   },
   {
    "duration": 15,
    "start_time": "2023-03-21T18:19:16.572Z"
   },
   {
    "duration": 90,
    "start_time": "2023-03-21T18:19:16.589Z"
   },
   {
    "duration": 65,
    "start_time": "2023-03-21T18:19:16.681Z"
   },
   {
    "duration": 7,
    "start_time": "2023-03-21T18:19:16.748Z"
   },
   {
    "duration": 12,
    "start_time": "2023-03-21T18:19:16.760Z"
   },
   {
    "duration": 4,
    "start_time": "2023-03-21T18:19:16.774Z"
   },
   {
    "duration": 6,
    "start_time": "2023-03-21T18:19:16.780Z"
   },
   {
    "duration": 59,
    "start_time": "2023-03-21T18:19:16.787Z"
   },
   {
    "duration": 34,
    "start_time": "2023-03-21T18:19:16.848Z"
   },
   {
    "duration": 5,
    "start_time": "2023-03-21T18:19:16.884Z"
   },
   {
    "duration": 61,
    "start_time": "2023-03-21T18:19:16.890Z"
   },
   {
    "duration": 325,
    "start_time": "2023-03-21T18:19:16.953Z"
   },
   {
    "duration": 172,
    "start_time": "2023-03-21T18:19:17.280Z"
   },
   {
    "duration": 486,
    "start_time": "2023-03-21T18:19:17.457Z"
   },
   {
    "duration": 6,
    "start_time": "2023-03-21T18:19:17.946Z"
   },
   {
    "duration": 726,
    "start_time": "2023-03-21T18:19:17.955Z"
   },
   {
    "duration": 381,
    "start_time": "2023-03-21T18:19:18.683Z"
   },
   {
    "duration": 9,
    "start_time": "2023-03-21T18:19:19.071Z"
   },
   {
    "duration": 67,
    "start_time": "2023-03-21T18:19:19.083Z"
   },
   {
    "duration": 58,
    "start_time": "2023-03-21T18:19:19.152Z"
   },
   {
    "duration": 31,
    "start_time": "2023-03-21T18:19:19.212Z"
   },
   {
    "duration": 23,
    "start_time": "2023-03-21T18:19:19.246Z"
   },
   {
    "duration": 15,
    "start_time": "2023-03-21T18:19:19.271Z"
   },
   {
    "duration": 4,
    "start_time": "2023-03-21T18:19:19.288Z"
   },
   {
    "duration": 8,
    "start_time": "2023-03-21T18:19:19.351Z"
   },
   {
    "duration": 12,
    "start_time": "2023-03-21T18:19:19.373Z"
   },
   {
    "duration": 255,
    "start_time": "2023-03-21T18:19:19.387Z"
   },
   {
    "duration": 406,
    "start_time": "2023-03-21T18:19:19.644Z"
   },
   {
    "duration": 7,
    "start_time": "2023-03-21T18:19:20.052Z"
   },
   {
    "duration": 6,
    "start_time": "2023-03-21T18:19:20.061Z"
   },
   {
    "duration": 72,
    "start_time": "2023-03-21T18:19:20.075Z"
   },
   {
    "duration": 101,
    "start_time": "2023-03-21T18:19:20.151Z"
   },
   {
    "duration": 524,
    "start_time": "2023-03-21T18:19:20.254Z"
   },
   {
    "duration": 6,
    "start_time": "2023-03-21T18:19:20.780Z"
   },
   {
    "duration": 99,
    "start_time": "2023-03-21T18:19:20.847Z"
   },
   {
    "duration": 622,
    "start_time": "2023-03-21T18:19:20.950Z"
   },
   {
    "duration": 7,
    "start_time": "2023-03-21T18:19:21.574Z"
   },
   {
    "duration": 888,
    "start_time": "2023-03-21T18:19:21.583Z"
   },
   {
    "duration": 274,
    "start_time": "2023-03-21T18:19:22.476Z"
   },
   {
    "duration": 316,
    "start_time": "2023-03-21T18:19:22.752Z"
   },
   {
    "duration": 8,
    "start_time": "2023-03-21T18:19:23.070Z"
   },
   {
    "duration": 472,
    "start_time": "2023-03-21T18:19:23.080Z"
   },
   {
    "duration": 288,
    "start_time": "2023-03-21T18:19:23.556Z"
   },
   {
    "duration": 321,
    "start_time": "2023-03-21T18:19:23.848Z"
   },
   {
    "duration": 6,
    "start_time": "2023-03-21T18:19:24.173Z"
   },
   {
    "duration": 772,
    "start_time": "2023-03-21T18:19:24.181Z"
   },
   {
    "duration": 332,
    "start_time": "2023-03-21T18:19:24.959Z"
   },
   {
    "duration": 344,
    "start_time": "2023-03-21T18:19:25.341Z"
   },
   {
    "duration": 7,
    "start_time": "2023-03-21T18:19:25.746Z"
   },
   {
    "duration": 2729,
    "start_time": "2023-03-21T18:19:40.014Z"
   },
   {
    "duration": 47,
    "start_time": "2023-03-21T18:19:42.752Z"
   },
   {
    "duration": 58,
    "start_time": "2023-03-21T18:19:42.801Z"
   },
   {
    "duration": 21,
    "start_time": "2023-03-21T18:19:42.864Z"
   },
   {
    "duration": 167,
    "start_time": "2023-03-21T18:19:42.888Z"
   },
   {
    "duration": 9,
    "start_time": "2023-03-21T18:19:43.060Z"
   },
   {
    "duration": 21,
    "start_time": "2023-03-21T18:19:43.071Z"
   },
   {
    "duration": 53,
    "start_time": "2023-03-21T18:19:43.094Z"
   },
   {
    "duration": 16,
    "start_time": "2023-03-21T18:19:43.149Z"
   },
   {
    "duration": 6,
    "start_time": "2023-03-21T18:19:43.169Z"
   },
   {
    "duration": 77,
    "start_time": "2023-03-21T18:19:43.177Z"
   },
   {
    "duration": 101,
    "start_time": "2023-03-21T18:19:43.258Z"
   },
   {
    "duration": 14,
    "start_time": "2023-03-21T18:19:43.361Z"
   },
   {
    "duration": 4,
    "start_time": "2023-03-21T18:19:43.380Z"
   },
   {
    "duration": 68,
    "start_time": "2023-03-21T18:19:43.386Z"
   },
   {
    "duration": 6,
    "start_time": "2023-03-21T18:19:43.456Z"
   },
   {
    "duration": 5,
    "start_time": "2023-03-21T18:19:43.463Z"
   },
   {
    "duration": 7,
    "start_time": "2023-03-21T18:19:43.470Z"
   },
   {
    "duration": 82,
    "start_time": "2023-03-21T18:19:43.479Z"
   },
   {
    "duration": 7,
    "start_time": "2023-03-21T18:19:43.571Z"
   },
   {
    "duration": 6,
    "start_time": "2023-03-21T18:19:43.579Z"
   },
   {
    "duration": 358,
    "start_time": "2023-03-21T18:19:43.587Z"
   },
   {
    "duration": 94,
    "start_time": "2023-03-21T18:19:43.952Z"
   },
   {
    "duration": 503,
    "start_time": "2023-03-21T18:19:44.051Z"
   },
   {
    "duration": 11,
    "start_time": "2023-03-21T18:19:44.562Z"
   },
   {
    "duration": 680,
    "start_time": "2023-03-21T18:19:44.575Z"
   },
   {
    "duration": 320,
    "start_time": "2023-03-21T18:19:45.261Z"
   },
   {
    "duration": 7,
    "start_time": "2023-03-21T18:19:45.582Z"
   },
   {
    "duration": 6,
    "start_time": "2023-03-21T18:19:45.644Z"
   },
   {
    "duration": 24,
    "start_time": "2023-03-21T18:19:45.663Z"
   },
   {
    "duration": 4,
    "start_time": "2023-03-21T18:19:45.689Z"
   },
   {
    "duration": 58,
    "start_time": "2023-03-21T18:19:45.694Z"
   },
   {
    "duration": 7,
    "start_time": "2023-03-21T18:19:45.759Z"
   },
   {
    "duration": 13,
    "start_time": "2023-03-21T18:19:45.771Z"
   },
   {
    "duration": 16,
    "start_time": "2023-03-21T18:19:45.787Z"
   },
   {
    "duration": 16,
    "start_time": "2023-03-21T18:19:45.842Z"
   },
   {
    "duration": 188,
    "start_time": "2023-03-21T18:19:45.860Z"
   },
   {
    "duration": 424,
    "start_time": "2023-03-21T18:19:46.052Z"
   },
   {
    "duration": 5,
    "start_time": "2023-03-21T18:19:46.478Z"
   },
   {
    "duration": 7,
    "start_time": "2023-03-21T18:19:46.543Z"
   },
   {
    "duration": 24,
    "start_time": "2023-03-21T18:19:46.555Z"
   },
   {
    "duration": 71,
    "start_time": "2023-03-21T18:19:46.581Z"
   },
   {
    "duration": 425,
    "start_time": "2023-03-21T18:19:46.654Z"
   },
   {
    "duration": 83,
    "start_time": "2023-03-21T18:19:47.081Z"
   },
   {
    "duration": 76,
    "start_time": "2023-03-21T18:19:47.173Z"
   },
   {
    "duration": 615,
    "start_time": "2023-03-21T18:19:47.252Z"
   },
   {
    "duration": 7,
    "start_time": "2023-03-21T18:19:47.870Z"
   },
   {
    "duration": 985,
    "start_time": "2023-03-21T18:19:47.878Z"
   },
   {
    "duration": 301,
    "start_time": "2023-03-21T18:19:48.875Z"
   },
   {
    "duration": 396,
    "start_time": "2023-03-21T18:19:49.179Z"
   },
   {
    "duration": 5,
    "start_time": "2023-03-21T18:19:49.578Z"
   },
   {
    "duration": 413,
    "start_time": "2023-03-21T18:19:49.645Z"
   },
   {
    "duration": 282,
    "start_time": "2023-03-21T18:19:50.062Z"
   },
   {
    "duration": 333,
    "start_time": "2023-03-21T18:19:50.346Z"
   },
   {
    "duration": 6,
    "start_time": "2023-03-21T18:19:50.683Z"
   },
   {
    "duration": 727,
    "start_time": "2023-03-21T18:19:50.749Z"
   },
   {
    "duration": 308,
    "start_time": "2023-03-21T18:19:51.478Z"
   },
   {
    "duration": 389,
    "start_time": "2023-03-21T18:19:51.787Z"
   },
   {
    "duration": 6,
    "start_time": "2023-03-21T18:19:52.178Z"
   },
   {
    "duration": 2705,
    "start_time": "2023-03-21T18:20:22.069Z"
   },
   {
    "duration": 88,
    "start_time": "2023-03-21T18:20:24.779Z"
   },
   {
    "duration": 17,
    "start_time": "2023-03-21T18:20:24.868Z"
   },
   {
    "duration": 78,
    "start_time": "2023-03-21T18:20:24.888Z"
   },
   {
    "duration": 107,
    "start_time": "2023-03-21T18:20:24.970Z"
   },
   {
    "duration": 5,
    "start_time": "2023-03-21T18:20:25.079Z"
   },
   {
    "duration": 82,
    "start_time": "2023-03-21T18:20:25.086Z"
   },
   {
    "duration": 6,
    "start_time": "2023-03-21T18:20:25.169Z"
   },
   {
    "duration": 12,
    "start_time": "2023-03-21T18:20:25.177Z"
   },
   {
    "duration": 61,
    "start_time": "2023-03-21T18:20:25.191Z"
   },
   {
    "duration": 30,
    "start_time": "2023-03-21T18:20:25.255Z"
   },
   {
    "duration": 99,
    "start_time": "2023-03-21T18:20:25.287Z"
   },
   {
    "duration": 71,
    "start_time": "2023-03-21T18:20:25.388Z"
   },
   {
    "duration": 8,
    "start_time": "2023-03-21T18:20:25.465Z"
   },
   {
    "duration": 5,
    "start_time": "2023-03-21T18:20:25.475Z"
   },
   {
    "duration": 5,
    "start_time": "2023-03-21T18:20:25.482Z"
   },
   {
    "duration": 8,
    "start_time": "2023-03-21T18:20:25.542Z"
   },
   {
    "duration": 5,
    "start_time": "2023-03-21T18:20:25.556Z"
   },
   {
    "duration": 86,
    "start_time": "2023-03-21T18:20:25.564Z"
   },
   {
    "duration": 13,
    "start_time": "2023-03-21T18:20:25.652Z"
   },
   {
    "duration": 15,
    "start_time": "2023-03-21T18:20:25.667Z"
   },
   {
    "duration": 397,
    "start_time": "2023-03-21T18:20:25.684Z"
   },
   {
    "duration": 81,
    "start_time": "2023-03-21T18:20:26.083Z"
   },
   {
    "duration": 506,
    "start_time": "2023-03-21T18:20:26.166Z"
   },
   {
    "duration": 7,
    "start_time": "2023-03-21T18:20:26.674Z"
   },
   {
    "duration": 692,
    "start_time": "2023-03-21T18:20:26.683Z"
   },
   {
    "duration": 369,
    "start_time": "2023-03-21T18:20:27.377Z"
   },
   {
    "duration": 7,
    "start_time": "2023-03-21T18:20:27.748Z"
   },
   {
    "duration": 11,
    "start_time": "2023-03-21T18:20:27.760Z"
   },
   {
    "duration": 4,
    "start_time": "2023-03-21T18:20:27.774Z"
   },
   {
    "duration": 69,
    "start_time": "2023-03-21T18:20:27.780Z"
   },
   {
    "duration": 12,
    "start_time": "2023-03-21T18:20:27.856Z"
   },
   {
    "duration": 5,
    "start_time": "2023-03-21T18:20:27.874Z"
   },
   {
    "duration": 7,
    "start_time": "2023-03-21T18:20:27.881Z"
   },
   {
    "duration": 72,
    "start_time": "2023-03-21T18:20:27.889Z"
   },
   {
    "duration": 17,
    "start_time": "2023-03-21T18:20:27.963Z"
   },
   {
    "duration": 166,
    "start_time": "2023-03-21T18:20:27.982Z"
   },
   {
    "duration": 504,
    "start_time": "2023-03-21T18:20:28.154Z"
   },
   {
    "duration": 7,
    "start_time": "2023-03-21T18:20:28.659Z"
   },
   {
    "duration": 5,
    "start_time": "2023-03-21T18:20:28.671Z"
   },
   {
    "duration": 64,
    "start_time": "2023-03-21T18:20:28.680Z"
   },
   {
    "duration": 23,
    "start_time": "2023-03-21T18:20:28.748Z"
   },
   {
    "duration": 436,
    "start_time": "2023-03-21T18:20:28.842Z"
   },
   {
    "duration": 64,
    "start_time": "2023-03-21T18:20:29.280Z"
   },
   {
    "duration": 113,
    "start_time": "2023-03-21T18:20:29.346Z"
   },
   {
    "duration": 624,
    "start_time": "2023-03-21T18:20:29.464Z"
   },
   {
    "duration": 10,
    "start_time": "2023-03-21T18:20:30.141Z"
   },
   {
    "duration": 925,
    "start_time": "2023-03-21T18:20:30.155Z"
   },
   {
    "duration": 301,
    "start_time": "2023-03-21T18:20:31.082Z"
   },
   {
    "duration": 327,
    "start_time": "2023-03-21T18:20:31.441Z"
   },
   {
    "duration": 6,
    "start_time": "2023-03-21T18:20:31.773Z"
   },
   {
    "duration": 470,
    "start_time": "2023-03-21T18:20:31.780Z"
   },
   {
    "duration": 233,
    "start_time": "2023-03-21T18:20:32.251Z"
   },
   {
    "duration": 387,
    "start_time": "2023-03-21T18:20:32.487Z"
   },
   {
    "duration": 5,
    "start_time": "2023-03-21T18:20:32.876Z"
   },
   {
    "duration": 794,
    "start_time": "2023-03-21T18:20:32.883Z"
   },
   {
    "duration": 304,
    "start_time": "2023-03-21T18:20:33.678Z"
   },
   {
    "duration": 490,
    "start_time": "2023-03-21T18:20:33.983Z"
   },
   {
    "duration": 72,
    "start_time": "2023-03-21T18:20:34.475Z"
   },
   {
    "duration": 548094,
    "start_time": "2023-03-21T18:20:34.549Z"
   },
   {
    "duration": 332,
    "start_time": "2023-03-21T18:29:42.656Z"
   },
   {
    "duration": 9,
    "start_time": "2023-03-21T18:29:43.041Z"
   },
   {
    "duration": 223402,
    "start_time": "2023-03-21T18:29:43.052Z"
   },
   {
    "duration": 333,
    "start_time": "2023-03-21T18:33:26.455Z"
   },
   {
    "duration": 70,
    "start_time": "2023-03-21T18:33:26.790Z"
   },
   {
    "duration": 411529,
    "start_time": "2023-03-21T18:33:26.863Z"
   },
   {
    "duration": 394,
    "start_time": "2023-03-21T18:40:18.400Z"
   },
   {
    "duration": 57,
    "start_time": "2023-03-21T18:40:18.801Z"
   },
   {
    "duration": 940,
    "start_time": "2023-03-21T18:40:18.863Z"
   },
   {
    "duration": 391,
    "start_time": "2023-03-21T18:40:19.807Z"
   },
   {
    "duration": 62,
    "start_time": "2023-03-21T18:40:20.201Z"
   }
  ],
  "kernelspec": {
   "display_name": "Python 3 (ipykernel)",
   "language": "python",
   "name": "python3"
  },
  "language_info": {
   "codemirror_mode": {
    "name": "ipython",
    "version": 3
   },
   "file_extension": ".py",
   "mimetype": "text/x-python",
   "name": "python",
   "nbconvert_exporter": "python",
   "pygments_lexer": "ipython3",
   "version": "3.9.16"
  },
  "toc": {
   "base_numbering": 1,
   "nav_menu": {},
   "number_sections": true,
   "sideBar": true,
   "skip_h1_title": true,
   "title_cell": "Содержание",
   "title_sidebar": "Contents",
   "toc_cell": true,
   "toc_position": {
    "height": "calc(100% - 180px)",
    "left": "10px",
    "top": "150px",
    "width": "342.219px"
   },
   "toc_section_display": true,
   "toc_window_display": true
  }
 },
 "nbformat": 4,
 "nbformat_minor": 2
}
